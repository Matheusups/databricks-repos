{
 "cells": [
  {
   "cell_type": "markdown",
   "metadata": {
    "application/vnd.databricks.v1+cell": {
     "cellMetadata": {},
     "inputWidgets": {},
     "nuid": "f30d15a9-b8b9-4203-b20e-73752f678ecd",
     "showTitle": false,
     "tableResultSettingsMap": {},
     "title": ""
    }
   },
   "source": [
    "# Importação das Bibliotecas utilizadas"
   ]
  },
  {
   "cell_type": "code",
   "execution_count": 0,
   "metadata": {
    "application/vnd.databricks.v1+cell": {
     "cellMetadata": {
      "byteLimit": 2048000,
      "rowLimit": 10000
     },
     "inputWidgets": {},
     "nuid": "6e26cfb7-69ac-4b45-865b-e20bf478b58b",
     "showTitle": false,
     "tableResultSettingsMap": {},
     "title": ""
    }
   },
   "outputs": [],
   "source": [
    "%run ../projeto/functions"
   ]
  },
  {
   "cell_type": "code",
   "execution_count": 0,
   "metadata": {
    "application/vnd.databricks.v1+cell": {
     "cellMetadata": {
      "byteLimit": 2048000,
      "rowLimit": 10000
     },
     "inputWidgets": {},
     "nuid": "43373288-508e-4e35-b374-414890293c43",
     "showTitle": false,
     "tableResultSettingsMap": {},
     "title": ""
    }
   },
   "outputs": [],
   "source": [
    "import urllib\n",
    "import ssl"
   ]
  },
  {
   "cell_type": "markdown",
   "metadata": {
    "application/vnd.databricks.v1+cell": {
     "cellMetadata": {},
     "inputWidgets": {},
     "nuid": "0794f4b8-e58e-44ad-855e-a5c1f4f3f109",
     "showTitle": false,
     "tableResultSettingsMap": {},
     "title": ""
    }
   },
   "source": [
    "#### Definição de SSL"
   ]
  },
  {
   "cell_type": "code",
   "execution_count": 0,
   "metadata": {
    "application/vnd.databricks.v1+cell": {
     "cellMetadata": {
      "byteLimit": 2048000,
      "rowLimit": 10000
     },
     "inputWidgets": {},
     "nuid": "5e1ac536-c028-4ed2-9d76-d82390c8b449",
     "showTitle": false,
     "tableResultSettingsMap": {},
     "title": ""
    }
   },
   "outputs": [],
   "source": [
    "#Criação do certificado ssl\n",
    "ssl._create_default_https_context = ssl._create_stdlib_context"
   ]
  },
  {
   "cell_type": "markdown",
   "metadata": {
    "application/vnd.databricks.v1+cell": {
     "cellMetadata": {},
     "inputWidgets": {},
     "nuid": "bd34d780-a59f-43a9-8ae6-1f82b417cc2c",
     "showTitle": false,
     "tableResultSettingsMap": {},
     "title": ""
    }
   },
   "source": [
    "#### Definição de variaveis e caminhos de input"
   ]
  },
  {
   "cell_type": "code",
   "execution_count": 0,
   "metadata": {
    "application/vnd.databricks.v1+cell": {
     "cellMetadata": {
      "byteLimit": 2048000,
      "rowLimit": 10000
     },
     "inputWidgets": {},
     "nuid": "aba561bd-9f55-40ac-b03f-d0278a331483",
     "showTitle": false,
     "tableResultSettingsMap": {},
     "title": ""
    }
   },
   "outputs": [],
   "source": [
    "# Dados de Diesel-GNV\n",
    "url_diesel_gnv = 'https://www.gov.br/anp/pt-br/centrais-de-conteudo/dados-abertos/arquivos/shpc/qus/ultimas-4-semanas-diesel-gnv.csv'\n",
    "path_diesel_gnv_input = '/tmp/diesel_gnv_mes_vigente.csv'\n",
    "path_diesel_gnv_output = '/databricks/landing/anp/diesel_gnv_mes_vigente.csv'\n",
    "\n",
    "# Dados de Etanol-Gasolina\n",
    "url_etanol_gasolina = 'https://www.gov.br/anp/pt-br/centrais-de-conteudo/dados-abertos/arquivos/shpc/qus/ultimas-4-semanas-gasolina-etanol.csv'\n",
    "path_etanol_gasolina_input = '/tmp/etanol_gasolina_mes_vigente.csv'\n",
    "path_etanol_gasolina_output = '/databricks/landing/anp/etanol_gasolina_mes_vigente.csv'\n",
    "\n",
    "# Dados de GLP\n",
    "url_glp = 'https://www.gov.br/anp/pt-br/centrais-de-conteudo/dados-abertos/arquivos/shpc/qus/ultimas-4-semanas-glp.csv'\n",
    "path_glp_input = '/tmp/glp_mes_vigente.csv'\n",
    "path_glp_output = '/databricks/landing/anp/glp_mes_vigente.csv'"
   ]
  },
  {
   "cell_type": "markdown",
   "metadata": {
    "application/vnd.databricks.v1+cell": {
     "cellMetadata": {},
     "inputWidgets": {},
     "nuid": "65e4c38a-0133-4238-9bc5-3bb7077156f1",
     "showTitle": false,
     "tableResultSettingsMap": {},
     "title": ""
    }
   },
   "source": [
    "#### Requisição GET"
   ]
  },
  {
   "cell_type": "code",
   "execution_count": 0,
   "metadata": {
    "application/vnd.databricks.v1+cell": {
     "cellMetadata": {
      "byteLimit": 2048000,
      "rowLimit": 10000
     },
     "inputWidgets": {},
     "nuid": "6e4e5bb4-1b7c-4929-94ee-3ed7babd2c48",
     "showTitle": false,
     "tableResultSettingsMap": {},
     "title": ""
    }
   },
   "outputs": [],
   "source": [
    "# Fazendo uma solicitação GET para obter o conteúdo do arquivo\n",
    "response_gnv = urllib.request.urlretrieve(url_diesel_gnv, path_diesel_gnv)\n",
    "response_gasol_et = urllib.request.urlretrieve(url_etanol_gasolina, path_etanol_gasolina)\n",
    "response_glp = urllib.request.urlretrieve(url_glp, path_glp)"
   ]
  },
  {
   "cell_type": "markdown",
   "metadata": {
    "application/vnd.databricks.v1+cell": {
     "cellMetadata": {},
     "inputWidgets": {},
     "nuid": "7b25179e-7b87-4e3c-966a-1dc4e343acbb",
     "showTitle": false,
     "tableResultSettingsMap": {},
     "title": ""
    }
   },
   "source": [
    "#### Movimentação para a camada Landing"
   ]
  },
  {
   "cell_type": "code",
   "execution_count": 0,
   "metadata": {
    "application/vnd.databricks.v1+cell": {
     "cellMetadata": {
      "byteLimit": 2048000,
      "rowLimit": 10000
     },
     "inputWidgets": {},
     "nuid": "0cd4bd15-d636-4580-87aa-c00b0db72781",
     "showTitle": false,
     "tableResultSettingsMap": {},
     "title": ""
    }
   },
   "outputs": [
    {
     "output_type": "stream",
     "name": "stdout",
     "output_type": "stream",
     "text": [
      "Movimentado com sucesso para /databricks/landing/anp/diesel_gnv_mes_vigente.csv\nMovimentado com sucesso para /databricks/landing/anp/etanol_gasolina_mes_vigente.csv\nMovimentado com sucesso para /databricks/landing/anp/glp_mes_vigente.csv\n"
     ]
    }
   ],
   "source": [
    "# Diesel e GNV\n",
    "mv_landing(path_diesel_gnv_output,path_diesel_gnv_input)\n",
    "# Etanol e Gasolina\n",
    "mv_landing(path_etanol_gasolina_output,path_etanol_gasolina_input)\n",
    "# GLP\n",
    "mv_landing(path_glp_output,path_glp_input)"
   ]
  },
  {
   "cell_type": "markdown",
   "metadata": {
    "application/vnd.databricks.v1+cell": {
     "cellMetadata": {},
     "inputWidgets": {},
     "nuid": "ecc9f85a-3453-43ea-b925-5b4d4d4f31cf",
     "showTitle": false,
     "tableResultSettingsMap": {},
     "title": ""
    }
   },
   "source": [
    "###### Verificação dos dados de exemplo na Landing"
   ]
  },
  {
   "cell_type": "code",
   "execution_count": 0,
   "metadata": {
    "application/vnd.databricks.v1+cell": {
     "cellMetadata": {
      "byteLimit": 2048000,
      "rowLimit": 10000
     },
     "inputWidgets": {},
     "nuid": "ab0b9eaa-6968-46e2-8b69-7c30e5f60836",
     "showTitle": false,
     "tableResultSettingsMap": {},
     "title": ""
    }
   },
   "outputs": [
    {
     "output_type": "display_data",
     "data": {
      "text/html": [
       "<style scoped>\n",
       "  .table-result-container {\n",
       "    max-height: 300px;\n",
       "    overflow: auto;\n",
       "  }\n",
       "  table, th, td {\n",
       "    border: 1px solid black;\n",
       "    border-collapse: collapse;\n",
       "  }\n",
       "  th, td {\n",
       "    padding: 5px;\n",
       "  }\n",
       "  th {\n",
       "    text-align: left;\n",
       "  }\n",
       "</style><div class='table-result-container'><table class='table-result'><thead style='background-color: white'><tr><th>path</th><th>name</th><th>size</th><th>modificationTime</th></tr></thead><tbody><tr><td>dbfs:/databricks/landing/anp/diesel_gnv_mes_vigente.csv</td><td>diesel_gnv_mes_vigente.csv</td><td>3987599</td><td>1717563254000</td></tr><tr><td>dbfs:/databricks/landing/anp/etanol_gasolina_mes_vigente.csv</td><td>etanol_gasolina_mes_vigente.csv</td><td>8446405</td><td>1717563255000</td></tr><tr><td>dbfs:/databricks/landing/anp/glp_mes_vigente.csv</td><td>glp_mes_vigente.csv</td><td>3079801</td><td>1717563256000</td></tr></tbody></table></div>"
      ]
     },
     "metadata": {
      "application/vnd.databricks.v1+output": {
       "addedWidgets": {},
       "aggData": [],
       "aggError": "",
       "aggOverflow": false,
       "aggSchema": [],
       "aggSeriesLimitReached": false,
       "aggType": "",
       "arguments": {},
       "columnCustomDisplayInfos": {},
       "data": [
        [
         "dbfs:/databricks/landing/anp/diesel_gnv_mes_vigente.csv",
         "diesel_gnv_mes_vigente.csv",
         3987599,
         1717563254000
        ],
        [
         "dbfs:/databricks/landing/anp/etanol_gasolina_mes_vigente.csv",
         "etanol_gasolina_mes_vigente.csv",
         8446405,
         1717563255000
        ],
        [
         "dbfs:/databricks/landing/anp/glp_mes_vigente.csv",
         "glp_mes_vigente.csv",
         3079801,
         1717563256000
        ]
       ],
       "datasetInfos": [],
       "dbfsResultPath": null,
       "isJsonSchema": true,
       "metadata": {
        "isDbfsCommandResult": false
       },
       "overflow": false,
       "plotOptions": {
        "customPlotOptions": {},
        "displayType": "table",
        "pivotAggregation": null,
        "pivotColumns": null,
        "xColumns": null,
        "yColumns": null
       },
       "removedWidgets": [],
       "schema": [
        {
         "metadata": "{}",
         "name": "path",
         "type": "\"string\""
        },
        {
         "metadata": "{}",
         "name": "name",
         "type": "\"string\""
        },
        {
         "metadata": "{}",
         "name": "size",
         "type": "\"long\""
        },
        {
         "metadata": "{}",
         "name": "modificationTime",
         "type": "\"long\""
        }
       ],
       "type": "table"
      }
     },
     "output_type": "display_data"
    }
   ],
   "source": [
    "%fs ls /databricks/landing/anp/"
   ]
  }
 ],
 "metadata": {
  "application/vnd.databricks.v1+notebook": {
   "computePreferences": null,
   "dashboards": [],
   "environmentMetadata": null,
   "language": "python",
   "notebookMetadata": {
    "mostRecentlyExecutedCommandWithImplicitDF": {
     "commandId": 3144225887250592,
     "dataframes": [
      "_sqldf"
     ]
    },
    "pythonIndentUnit": 4
   },
   "notebookName": "download_data_anp",
   "widgets": {}
  }
 },
 "nbformat": 4,
 "nbformat_minor": 0
}
