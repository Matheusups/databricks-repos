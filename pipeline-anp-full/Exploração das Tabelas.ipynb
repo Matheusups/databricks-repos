{
 "cells": [
  {
   "cell_type": "code",
   "execution_count": 0,
   "metadata": {
    "application/vnd.databricks.v1+cell": {
     "cellMetadata": {
      "byteLimit": 2048000,
      "rowLimit": 10000
     },
     "inputWidgets": {},
     "nuid": "d01814e3-cf84-4796-911e-1898f3ea774b",
     "showTitle": false,
     "tableResultSettingsMap": {},
     "title": ""
    }
   },
   "outputs": [
    {
     "output_type": "display_data",
     "data": {
      "text/html": [
       "<style scoped>\n",
       "  .table-result-container {\n",
       "    max-height: 300px;\n",
       "    overflow: auto;\n",
       "  }\n",
       "  table, th, td {\n",
       "    border: 1px solid black;\n",
       "    border-collapse: collapse;\n",
       "  }\n",
       "  th, td {\n",
       "    padding: 5px;\n",
       "  }\n",
       "  th {\n",
       "    text-align: left;\n",
       "  }\n",
       "</style><div class='table-result-container'><table class='table-result'><thead style='background-color: white'><tr><th>database</th><th>tableName</th><th>isTemporary</th></tr></thead><tbody><tr><td>default</td><td>tb_clientes_relevantes</td><td>false</td></tr><tr><td>default</td><td>tb_precos_bandeiras</td><td>false</td></tr><tr><td>default</td><td>tb_precos_regiao_produto</td><td>false</td></tr><tr><td>default</td><td>tb_price_diesel_gnv</td><td>false</td></tr></tbody></table></div>"
      ]
     },
     "metadata": {
      "application/vnd.databricks.v1+output": {
       "addedWidgets": {},
       "aggData": [],
       "aggError": "",
       "aggOverflow": false,
       "aggSchema": [],
       "aggSeriesLimitReached": false,
       "aggType": "",
       "arguments": {},
       "columnCustomDisplayInfos": {},
       "data": [
        [
         "default",
         "tb_clientes_relevantes",
         false
        ],
        [
         "default",
         "tb_precos_bandeiras",
         false
        ],
        [
         "default",
         "tb_precos_regiao_produto",
         false
        ],
        [
         "default",
         "tb_price_diesel_gnv",
         false
        ]
       ],
       "datasetInfos": [],
       "dbfsResultPath": null,
       "isJsonSchema": true,
       "metadata": {
        "dataframeName": "_sqldf",
        "executionCount": 1
       },
       "overflow": false,
       "plotOptions": {
        "customPlotOptions": {},
        "displayType": "table",
        "pivotAggregation": null,
        "pivotColumns": null,
        "xColumns": null,
        "yColumns": null
       },
       "removedWidgets": [],
       "schema": [
        {
         "metadata": "{}",
         "name": "database",
         "type": "\"string\""
        },
        {
         "metadata": "{}",
         "name": "tableName",
         "type": "\"string\""
        },
        {
         "metadata": "{}",
         "name": "isTemporary",
         "type": "\"boolean\""
        }
       ],
       "type": "table"
      }
     },
     "output_type": "display_data"
    }
   ],
   "source": [
    "%sql\n",
    "SHOW TABLES"
   ]
  },
  {
   "cell_type": "code",
   "execution_count": 0,
   "metadata": {
    "application/vnd.databricks.v1+cell": {
     "cellMetadata": {
      "byteLimit": 2048000,
      "rowLimit": 10000
     },
     "inputWidgets": {},
     "nuid": "67441850-877c-491d-b8d1-1e054d8d8174",
     "showTitle": false,
     "tableResultSettingsMap": {},
     "title": ""
    }
   },
   "outputs": [
    {
     "output_type": "display_data",
     "data": {
      "text/html": [
       "<style scoped>\n",
       "  .table-result-container {\n",
       "    max-height: 300px;\n",
       "    overflow: auto;\n",
       "  }\n",
       "  table, th, td {\n",
       "    border: 1px solid black;\n",
       "    border-collapse: collapse;\n",
       "  }\n",
       "  th, td {\n",
       "    padding: 5px;\n",
       "  }\n",
       "  th {\n",
       "    text-align: left;\n",
       "  }\n",
       "</style><div class='table-result-container'><table class='table-result'><thead style='background-color: white'><tr><th>Municipio</th><th>Bairro</th><th>Ticket_Medio</th><th>Qtd_Clientes_CNPJ</th><th>Tipo_Cliente</th></tr></thead><tbody><tr><td>CABO FRIO</td><td>JACARE</td><td>5.30</td><td>1</td><td>Basic</td></tr><tr><td>ARARAS</td><td>CENTRO</td><td>6.10</td><td>3</td><td>Basic</td></tr><tr><td>GARCA</td><td>CENTRO</td><td>6.09</td><td>1</td><td>Basic</td></tr><tr><td>CACHOEIRINHA</td><td>VILA SANTO ANGELO</td><td>5.89</td><td>1</td><td>Basic</td></tr><tr><td>SAO LUIZ GONZAGA</td><td>RODOVIA</td><td>6.02</td><td>1</td><td>Basic</td></tr><tr><td>GOIATUBA</td><td>CENTRO</td><td>5.76</td><td>3</td><td>Basic</td></tr><tr><td>PIMENTA BUENO</td><td>CENTRO</td><td>6.05</td><td>2</td><td>Basic</td></tr><tr><td>SAO PAULO</td><td>SANTANA</td><td>5.47</td><td>3</td><td>Basic</td></tr><tr><td>MARILIA</td><td>PALMITAL</td><td>6.08</td><td>2</td><td>Basic</td></tr><tr><td>PINDAMONHANGABA</td><td>CENTRO</td><td>5.75</td><td>1</td><td>Basic</td></tr><tr><td>AMERICANA</td><td>VILA PARAISO</td><td>6.39</td><td>1</td><td>Basic</td></tr><tr><td>SANTO ANDRE</td><td>BAIRRO CASA BRANCA</td><td>5.89</td><td>1</td><td>Basic</td></tr><tr><td>SANTA CRUZ DO CAPIBARIBE</td><td>BELA VISTA</td><td>5.72</td><td>1</td><td>Basic</td></tr><tr><td>UBERLANDIA</td><td>PARQUE GUARANI III</td><td>5.52</td><td>1</td><td>Basic</td></tr><tr><td>VITORIA DA CONQUISTA</td><td>CENTRO</td><td>5.88</td><td>4</td><td>Basic</td></tr><tr><td>SAO JOSE DE RIBAMAR</td><td>MARACAJA</td><td>5.89</td><td>1</td><td>Basic</td></tr><tr><td>CAMPINA GRANDE</td><td>NOVA BRASILIA</td><td>5.89</td><td>1</td><td>Basic</td></tr><tr><td>SAO JOSE DOS CAMPOS</td><td>PARQUE RESIDENCIAL AQUARIUS</td><td>5.99</td><td>1</td><td>Basic</td></tr><tr><td>SANTOS</td><td>SABOO</td><td>6.39</td><td>1</td><td>Basic</td></tr><tr><td>JOAO MONLEVADE</td><td>BELMONTE</td><td>5.84</td><td>4</td><td>Basic</td></tr><tr><td>DUQUE DE CAXIAS</td><td>JARDIM GRAMACHO</td><td>5.09</td><td>3</td><td>Basic</td></tr><tr><td>CAMPINA GRANDE</td><td>JARDIM TAVARES</td><td>5.59</td><td>1</td><td>Basic</td></tr><tr><td>IPATINGA</td><td>JARDIM PANORAMA</td><td>5.69</td><td>3</td><td>Basic</td></tr><tr><td>ITABORAI</td><td>LARANJAL</td><td>5.50</td><td>1</td><td>Basic</td></tr><tr><td>JUAZEIRO DO NORTE</td><td>TRIANGULO</td><td>6.26</td><td>2</td><td>Basic</td></tr><tr><td>GUANAMBI</td><td>SANTO ANTONIO</td><td>6.24</td><td>2</td><td>Basic</td></tr><tr><td>OSASCO</td><td>BUSSOCABA</td><td>5.69</td><td>1</td><td>Basic</td></tr><tr><td>COSMOPOLIS</td><td>JARDIM BELA VISTA</td><td>6.99</td><td>1</td><td>Basic</td></tr><tr><td>ALVORADA</td><td>MARIA REGINA</td><td>5.89</td><td>1</td><td>Basic</td></tr><tr><td>INDAIATUBA</td><td>JD. TROPICAL</td><td>5.65</td><td>1</td><td>Basic</td></tr><tr><td>VARGINHA</td><td>SANTANA</td><td>5.77</td><td>1</td><td>Basic</td></tr><tr><td>ANAPOLIS</td><td>VILA SANTA MARIA DE NAZARETH</td><td>5.89</td><td>1</td><td>Basic</td></tr><tr><td>CABO DE SANTO AGOSTINHO</td><td>GAIBU</td><td>5.87</td><td>1</td><td>Basic</td></tr><tr><td>SAO JOSE DO RIO PRETO</td><td>VILA TONINHO</td><td>5.82</td><td>2</td><td>Basic</td></tr><tr><td>ITAJUBA</td><td>SAO JUDAS TADEU</td><td>6.04</td><td>1</td><td>Basic</td></tr><tr><td>LIMOEIRO DO NORTE</td><td>CENTRO</td><td>6.24</td><td>7</td><td>Basic</td></tr><tr><td>SANTOS</td><td>BOQUEIRAO</td><td>5.59</td><td>1</td><td>Basic</td></tr><tr><td>SAO JOSE DOS CAMPOS</td><td>BQ. DOS EUCALIPTOS</td><td>5.99</td><td>1</td><td>Basic</td></tr><tr><td>HORTOLANDIA</td><td>PARQUE GABRIEL</td><td>5.89</td><td>1</td><td>Basic</td></tr><tr><td>RIO DE JANEIRO</td><td>QUINTINO BOCAIUVA</td><td>4.12</td><td>1</td><td>Basic</td></tr><tr><td>SANTA INES</td><td>CANRÇÃO</td><td>5.84</td><td>1</td><td>Basic</td></tr><tr><td>RIO DE JANEIRO</td><td>ABOLIÇÃO</td><td>4.17</td><td>1</td><td>Basic</td></tr><tr><td>MOGI DAS CRUZES</td><td>MOGILAR</td><td>5.49</td><td>1</td><td>Basic</td></tr><tr><td>DUQUE DE CAXIAS</td><td>CHACARAS RIO-PETROPOLIS</td><td>5.24</td><td>2</td><td>Basic</td></tr><tr><td>ALTA FLORESTA</td><td>CIDADE ALTA</td><td>6.65</td><td>1</td><td>Basic</td></tr><tr><td>BENTO GONCALVES</td><td>FARIA LEMOS</td><td>5.94</td><td>1</td><td>Basic</td></tr><tr><td>DELMIRO GOUVEIA</td><td>CAMPO GRANDE</td><td>6.81</td><td>1</td><td>Basic</td></tr><tr><td>NATAL</td><td>LAGOA AZUL</td><td>6.14</td><td>1</td><td>Basic</td></tr><tr><td>FORMOSA</td><td>PARQUE LAGUNA II</td><td>6.04</td><td>1</td><td>Basic</td></tr><tr><td>SAO PAULO</td><td>BELENZINHO</td><td>5.53</td><td>1</td><td>Basic</td></tr><tr><td>COLOMBO</td><td>CAMPO PEQUENO</td><td>6.04</td><td>1</td><td>Basic</td></tr><tr><td>ASSIS</td><td>VILA BRASILEIRA</td><td>5.49</td><td>1</td><td>Basic</td></tr><tr><td>RIO BONITO</td><td>CENTRO</td><td>5.95</td><td>3</td><td>Basic</td></tr><tr><td>POUSO ALEGRE</td><td>FOCH I</td><td>5.94</td><td>1</td><td>Basic</td></tr><tr><td>CURITIBA</td><td>CASCATINHA</td><td>5.49</td><td>1</td><td>Basic</td></tr><tr><td>OSASCO</td><td>JARDIM CIPAVA</td><td>5.49</td><td>1</td><td>Basic</td></tr><tr><td>URUGUAIANA</td><td>DISTRITO RODOVIARIO</td><td>6.12</td><td>1</td><td>Basic</td></tr><tr><td>PARACATU</td><td>AMOREIRAS II</td><td>6.23</td><td>1</td><td>Basic</td></tr><tr><td>BETIM</td><td>CENTRO</td><td>5.73</td><td>3</td><td>Basic</td></tr><tr><td>SANTANA DO LIVRAMENTO</td><td>DIVISA</td><td>6.19</td><td>1</td><td>Basic</td></tr><tr><td>CAXIAS</td><td>NOVA CAXIAS</td><td>5.81</td><td>2</td><td>Basic</td></tr><tr><td>ALTA FLORESTA</td><td>SETOR AP-H4</td><td>6.69</td><td>1</td><td>Basic</td></tr><tr><td>SOROCABA</td><td>PARQUE DOS EUCALIPTOS</td><td>6.04</td><td>1</td><td>Basic</td></tr><tr><td>GRAMADO</td><td>FLORESTA</td><td>6.39</td><td>1</td><td>Basic</td></tr><tr><td>HORTOLANDIA</td><td>JARDIM DAS PAINEIRAS</td><td>5.59</td><td>1</td><td>Basic</td></tr><tr><td>GOIANIA</td><td>VILA ROSA</td><td>5.79</td><td>1</td><td>Basic</td></tr><tr><td>ALTA FLORESTA</td><td>SETOR TREVO</td><td>6.64</td><td>1</td><td>Basic</td></tr><tr><td>MOGI DAS CRUZES</td><td>VILA NOVA CINTRA</td><td>6.39</td><td>1</td><td>Basic</td></tr><tr><td>ARARIPINA</td><td>ZONA RURAL</td><td>5.49</td><td>1</td><td>Basic</td></tr><tr><td>SANTA BARBARA D'OESTE</td><td>ZONA RURAL</td><td>6.37</td><td>2</td><td>Basic</td></tr><tr><td>SAO JOSE</td><td>SERTAO DO IMARUI</td><td>5.99</td><td>1</td><td>Basic</td></tr><tr><td>BRUMADO</td><td>VITORIA DA CONQUISTA</td><td>5.88</td><td>1</td><td>Basic</td></tr><tr><td>SANTAREM</td><td>VIGIA</td><td>5.99</td><td>1</td><td>Basic</td></tr><tr><td>JUNDIAI</td><td>CENTRO</td><td>4.69</td><td>1</td><td>Basic</td></tr><tr><td>ARARUAMA</td><td>VILA CAPRI</td><td>6.39</td><td>2</td><td>Basic</td></tr><tr><td>LEOPOLDINA</td><td>5 RESIDENCIA</td><td>5.84</td><td>1</td><td>Basic</td></tr><tr><td>BELEM</td><td>TAPANA</td><td>6.29</td><td>1</td><td>Basic</td></tr><tr><td>PORTO ALEGRE</td><td>BARAO DO CAI</td><td>5.81</td><td>1</td><td>Basic</td></tr><tr><td>PETROPOLIS</td><td>ALTO DA SERRA</td><td>5.44</td><td>1</td><td>Basic</td></tr><tr><td>VITORIA DE SANTO ANTAO</td><td>MATRIZ</td><td>5.89</td><td>1</td><td>Basic</td></tr><tr><td>APUCARANA</td><td>VILA SAO MIGUEL</td><td>6.13</td><td>2</td><td>Basic</td></tr><tr><td>ITUMBIARA</td><td>SANTA RITA</td><td>5.77</td><td>2</td><td>Basic</td></tr><tr><td>PICOS</td><td>CANTO DA VARZEA</td><td>6.05</td><td>3</td><td>Basic</td></tr><tr><td>PARNAIBA</td><td>PIAUÍ</td><td>5.59</td><td>1</td><td>Basic</td></tr><tr><td>SAO CARLOS</td><td>VILA NERY</td><td>5.89</td><td>1</td><td>Basic</td></tr><tr><td>PORTO NACIONAL</td><td>PORTO IMPERIAL</td><td>5.69</td><td>1</td><td>Basic</td></tr><tr><td>SOROCABA</td><td>BOA VISTA</td><td>5.84</td><td>1</td><td>Basic</td></tr><tr><td>CURITIBA</td><td>CAPAO DA IMBUIA</td><td>5.49</td><td>1</td><td>Basic</td></tr><tr><td>JUNDIAI</td><td>CHACARA MALOTA</td><td>6.37</td><td>1</td><td>Basic</td></tr><tr><td>CONTAGEM</td><td>PLANO DIR CONTAGEM</td><td>5.74</td><td>1</td><td>Basic</td></tr><tr><td>BELO HORIZONTE</td><td>SANTA EFIGENIA</td><td>5.73</td><td>1</td><td>Basic</td></tr><tr><td>SOUSA</td><td>GATO PRETO</td><td>5.93</td><td>1</td><td>Basic</td></tr><tr><td>SANTA BARBARA D'OESTE</td><td>JARDIM PEROLA</td><td>5.69</td><td>1</td><td>Basic</td></tr><tr><td>MIRASSOL</td><td>ZONA URBANA</td><td>5.59</td><td>1</td><td>Basic</td></tr><tr><td>DUQUE DE CAXIAS</td><td>QUATORZE DE JULHO</td><td>4.57</td><td>1</td><td>Basic</td></tr><tr><td>BALSAS</td><td>PARQUE CIDADE MARAVILHA</td><td>5.97</td><td>1</td><td>Basic</td></tr><tr><td>SAO JOSE DE RIBAMAR</td><td>ARACAGY</td><td>5.59</td><td>2</td><td>Basic</td></tr><tr><td>MACAE</td><td>VISCONDE DE ARAÚJO</td><td>6.75</td><td>1</td><td>Basic</td></tr><tr><td>BIRIGUI</td><td>PARQUE R PINHEIROS</td><td>5.63</td><td>1</td><td>Basic</td></tr><tr><td>ADAMANTINA</td><td>VILA JAMIL DE LIMA</td><td>5.94</td><td>2</td><td>Basic</td></tr><tr><td>JEQUIE</td><td>JEQUIEZINHO</td><td>6.16</td><td>3</td><td>Basic</td></tr><tr><td>PRAIA GRANDE</td><td>VILA GUILHERMINA</td><td>5.99</td><td>1</td><td>Basic</td></tr><tr><td>NATAL</td><td>IGAPO</td><td>5.83</td><td>3</td><td>Basic</td></tr><tr><td>BETIM</td><td>BRASILEIA</td><td>5.74</td><td>1</td><td>Basic</td></tr><tr><td>PORTO ALEGRE</td><td>HUMAITA</td><td>6.40</td><td>1</td><td>Basic</td></tr><tr><td>SAO PAULO</td><td>VILA BERTIOGA</td><td>5.27</td><td>2</td><td>Basic</td></tr><tr><td>CACAPAVA</td><td>VERA CRUZ</td><td>6.51</td><td>2</td><td>Basic</td></tr><tr><td>LEME</td><td>DISTRITO INDUSTRIAL</td><td>5.54</td><td>1</td><td>Basic</td></tr><tr><td>MAGE</td><td>SURU</td><td>6.87</td><td>1</td><td>Basic</td></tr><tr><td>POUSO ALEGRE</td><td>JARDIM SAO JOSE</td><td>5.87</td><td>1</td><td>Basic</td></tr><tr><td>GARANHUNS</td><td>BOA VISTA</td><td>5.39</td><td>2</td><td>Basic</td></tr><tr><td>ARAPIRACA</td><td>SANTA EDWIGES</td><td>5.89</td><td>1</td><td>Basic</td></tr><tr><td>CURVELO</td><td>PASSAGINHA</td><td>5.94</td><td>1</td><td>Basic</td></tr><tr><td>PATROCINIO</td><td>SAO BENEDITO</td><td>5.84</td><td>1</td><td>Basic</td></tr><tr><td>CORONEL FABRICIANO</td><td>SEN.MELO VIANA</td><td>5.74</td><td>1</td><td>Basic</td></tr><tr><td>CABEDELO</td><td>JARDIM AMERICA</td><td>5.62</td><td>1</td><td>Basic</td></tr><tr><td>POCOS DE CALDAS</td><td>JARDIM CASCATINHA</td><td>5.73</td><td>1</td><td>Basic</td></tr><tr><td>ITAUNA</td><td>CENTRO</td><td>5.89</td><td>5</td><td>Basic</td></tr><tr><td>SAO JOSE DOS PINHAIS</td><td>AFONSO PENA</td><td>5.44</td><td>4</td><td>Basic</td></tr><tr><td>OSORIO</td><td>ENT. OSORIO-TORRES</td><td>5.70</td><td>1</td><td>Basic</td></tr><tr><td>ITAJAI</td><td>SALSEIROS</td><td>5.95</td><td>2</td><td>Basic</td></tr><tr><td>CHAPECO</td><td>CRISTO REI</td><td>5.59</td><td>1</td><td>Basic</td></tr><tr><td>ERECHIM</td><td>ESPIRITO SANTO</td><td>6.34</td><td>1</td><td>Basic</td></tr><tr><td>MACAE</td><td>GLORIA</td><td>6.76</td><td>2</td><td>Basic</td></tr><tr><td>PORANGATU</td><td>CENTRO</td><td>5.99</td><td>2</td><td>Basic</td></tr><tr><td>TOLEDO</td><td>VILA BRASIL</td><td>5.80</td><td>1</td><td>Basic</td></tr><tr><td>OSASCO</td><td>BANDEIRAS</td><td>5.99</td><td>1</td><td>Basic</td></tr><tr><td>SORRISO</td><td>ZONA RURAL</td><td>6.14</td><td>1</td><td>Basic</td></tr><tr><td>BRASILIA</td><td>RIACHO FUNDO</td><td>5.98</td><td>1</td><td>Basic</td></tr><tr><td>OURINHOS</td><td>VL. SAO BENTO</td><td>5.87</td><td>1</td><td>Basic</td></tr><tr><td>CAMACARI</td><td>ALTO DA CRUZ</td><td>5.43</td><td>1</td><td>Basic</td></tr><tr><td>CAMPINAS</td><td>CHACARA PRIMAVERA</td><td>5.62</td><td>1</td><td>Basic</td></tr><tr><td>SUMARE</td><td>JARDIM MARIA ANTONIA</td><td>5.81</td><td>1</td><td>Basic</td></tr><tr><td>FEIRA DE SANTANA</td><td>SIM</td><td>5.55</td><td>1</td><td>Basic</td></tr><tr><td>ITACOATIARA</td><td>SANTO ANTONIO</td><td>6.82</td><td>2</td><td>Basic</td></tr><tr><td>VARZEA GRANDE</td><td>SAO MATHEUS</td><td>5.82</td><td>1</td><td>Basic</td></tr><tr><td>MOSSORO</td><td>AEROPORTO II</td><td>5.57</td><td>1</td><td>Basic</td></tr><tr><td>BACABAL</td><td>RAMAL</td><td>5.81</td><td>1</td><td>Basic</td></tr><tr><td>SANTAREM</td><td>ESPERANCA</td><td>6.10</td><td>2</td><td>Basic</td></tr><tr><td>CONCEICAO DO ARAGUAIA</td><td>JARDIM PETROPOLIS</td><td>5.99</td><td>1</td><td>Basic</td></tr><tr><td>VALENCA</td><td>SÃO FELIX</td><td>5.95</td><td>1</td><td>Basic</td></tr><tr><td>JANAUBA</td><td>ESPLANADA</td><td>6.08</td><td>3</td><td>Basic</td></tr><tr><td>CAMPO BELO</td><td>PASSA TEMPO</td><td>5.75</td><td>1</td><td>Basic</td></tr><tr><td>ITAQUAQUECETUBA</td><td>JARDIM ADRIANE</td><td>5.67</td><td>1</td><td>Basic</td></tr><tr><td>OLINDA</td><td>BULTRINS</td><td>5.89</td><td>1</td><td>Basic</td></tr><tr><td>ITAQUAQUECETUBA</td><td>DO MANDI</td><td>5.99</td><td>1</td><td>Basic</td></tr><tr><td>CACOAL</td><td>GREE VILLE I</td><td>6.40</td><td>1</td><td>Basic</td></tr><tr><td>OLIMPIA</td><td>RESIDENCIAL HARMONIA</td><td>5.84</td><td>1</td><td>Basic</td></tr><tr><td>IMPERATRIZ</td><td>NOVA IMPERATRIZ</td><td>5.89</td><td>1</td><td>Basic</td></tr><tr><td>CAICO</td><td>ZONA RURAL</td><td>6.74</td><td>1</td><td>Basic</td></tr><tr><td>VITORIA</td><td>ENSEADA DO SUA</td><td>6.29</td><td>1</td><td>Basic</td></tr><tr><td>SAO PAULO</td><td>PARADAS TAIPAS</td><td>5.89</td><td>1</td><td>Basic</td></tr><tr><td>LONDRINA</td><td>CONJ. VIVI XAVIER</td><td>6.19</td><td>1</td><td>Basic</td></tr><tr><td>JUAZEIRO DO NORTE</td><td>SALESIANOS</td><td>6.54</td><td>1</td><td>Basic</td></tr><tr><td>UBERABA</td><td>PARQUE GAMELEIRAS</td><td>5.79</td><td>1</td><td>Basic</td></tr><tr><td>SAO PAULO</td><td>MOINHO VELHO</td><td>5.79</td><td>1</td><td>Basic</td></tr><tr><td>BARRA MANSA</td><td>SAO LUIZ</td><td>5.59</td><td>1</td><td>Basic</td></tr><tr><td>FORTALEZA</td><td>BELA VISTA</td><td>5.70</td><td>1</td><td>Basic</td></tr><tr><td>SAO JOSE DO RIO PRETO</td><td>RESIDENCIAL PALESTRA</td><td>5.69</td><td>1</td><td>Basic</td></tr><tr><td>SETE LAGOAS</td><td>SÃO GERALDO</td><td>5.49</td><td>1</td><td>Basic</td></tr><tr><td>MACEIO</td><td>BOM PARTO</td><td>5.24</td><td>1</td><td>Basic</td></tr><tr><td>BIRIGUI</td><td>COLINAS PARQUE RESIDENCIAL</td><td>6.27</td><td>1</td><td>Basic</td></tr><tr><td>MOGI DAS CRUZES</td><td>MOGI MODERNO</td><td>5.89</td><td>1</td><td>Basic</td></tr><tr><td>PARAGOMINAS</td><td>CAMBOATA</td><td>6.37</td><td>1</td><td>Basic</td></tr><tr><td>RIBEIRAO PRETO</td><td>VILA BRASIL</td><td>5.67</td><td>1</td><td>Basic</td></tr><tr><td>SUMARE</td><td>BAIRRO RESIDENCIAL BORDON</td><td>5.79</td><td>1</td><td>Basic</td></tr><tr><td>SANTA CRUZ DO SUL</td><td>ARROIO GRANDE</td><td>6.07</td><td>2</td><td>Basic</td></tr><tr><td>CABEDELO</td><td>KILOMETRO 13</td><td>4.72</td><td>1</td><td>Basic</td></tr><tr><td>VIAMAO</td><td>ELSA</td><td>5.34</td><td>1</td><td>Basic</td></tr><tr><td>VALINHOS</td><td>NOVA SUICA</td><td>6.04</td><td>1</td><td>Basic</td></tr><tr><td>CRATO</td><td>SAO JOSE</td><td>6.03</td><td>1</td><td>Basic</td></tr><tr><td>CABEDELO</td><td>CENTRO</td><td>6.37</td><td>1</td><td>Basic</td></tr><tr><td>ILHEUS</td><td>CENTRO</td><td>6.50</td><td>5</td><td>Basic</td></tr><tr><td>TEIXEIRA DE FREITAS</td><td>SAO JOSE</td><td>5.89</td><td>1</td><td>Basic</td></tr><tr><td>BRUMADO</td><td>SAO FELIX</td><td>5.90</td><td>3</td><td>Basic</td></tr><tr><td>DUQUE DE CAXIAS</td><td>VILA SAO LUIZ</td><td>5.24</td><td>1</td><td>Basic</td></tr><tr><td>BACABAL</td><td>VILA PEDRO BRITO</td><td>5.64</td><td>1</td><td>Basic</td></tr><tr><td>CACADOR</td><td>SEDE</td><td>6.24</td><td>1</td><td>Basic</td></tr><tr><td>BETIM</td><td>ANGOLA</td><td>5.39</td><td>1</td><td>Basic</td></tr><tr><td>FRANCISCO BELTRAO</td><td>JARDIM FLORESTA</td><td>6.20</td><td>1</td><td>Basic</td></tr><tr><td>COLATINA</td><td>SANTO ANTONIO</td><td>6.04</td><td>1</td><td>Basic</td></tr><tr><td>JANAUBA</td><td>VEREDAS</td><td>6.28</td><td>1</td><td>Basic</td></tr><tr><td>CAICO</td><td>CENTRO</td><td>6.75</td><td>2</td><td>Basic</td></tr><tr><td>MORRINHOS</td><td>CENTRO</td><td>5.84</td><td>4</td><td>Basic</td></tr><tr><td>ITAMARAJU</td><td>SEDE</td><td>5.76</td><td>2</td><td>Basic</td></tr><tr><td>PIRIPIRI</td><td>CENTRO</td><td>6.12</td><td>5</td><td>Basic</td></tr><tr><td>FORTALEZA</td><td>FARIAS BRITO</td><td>5.68</td><td>1</td><td>Basic</td></tr><tr><td>FRUTAL</td><td>ZONA RURAL</td><td>6.09</td><td>1</td><td>Basic</td></tr><tr><td>JACOBINA</td><td>CENTRO</td><td>6.25</td><td>4</td><td>Basic</td></tr><tr><td>ABAETETUBA</td><td>CRISTO REDENTOR</td><td>6.04</td><td>1</td><td>Basic</td></tr><tr><td>ITABUNA</td><td>CENTRO</td><td>5.89</td><td>3</td><td>Basic</td></tr><tr><td>TERESOPOLIS</td><td>VARZEA</td><td>5.99</td><td>3</td><td>Basic</td></tr><tr><td>FORTALEZA</td><td>RODOLFO TEOFILO</td><td>6.19</td><td>1</td><td>Basic</td></tr><tr><td>TABOAO DA SERRA</td><td>JARDIM FREI GALVAO</td><td>6.39</td><td>1</td><td>Basic</td></tr><tr><td>SAO JOSE DO RIO PRETO</td><td>SAO JUDAS TADEU</td><td>5.69</td><td>1</td><td>Basic</td></tr><tr><td>QUIXADA</td><td>CAMPO VELHO</td><td>5.79</td><td>1</td><td>Basic</td></tr><tr><td>SANTANA DO LIVRAMENTO</td><td>HIDRAULICA</td><td>6.38</td><td>1</td><td>Basic</td></tr><tr><td>BACABAL</td><td>VILA FREI SOLANO</td><td>5.61</td><td>1</td><td>Basic</td></tr><tr><td>MONTES CLAROS</td><td>CINTRA</td><td>5.73</td><td>1</td><td>Basic</td></tr><tr><td>SANTAREM</td><td>AEROPORTO VELHO</td><td>5.95</td><td>1</td><td>Basic</td></tr><tr><td>BELEM</td><td>JURUNAS</td><td>5.43</td><td>1</td><td>Basic</td></tr><tr><td>SAO JOSE DO RIO PRETO</td><td>VILA MAYOR</td><td>5.59</td><td>1</td><td>Basic</td></tr><tr><td>SAO PAULO</td><td>JD. IV CENTENARIO</td><td>5.99</td><td>1</td><td>Basic</td></tr><tr><td>BENTO GONCALVES</td><td>BARRACAO</td><td>5.89</td><td>1</td><td>Basic</td></tr><tr><td>SAO JOAO DA BOA VISTA</td><td>JARDIM DAS FLORES</td><td>5.72</td><td>1</td><td>Basic</td></tr><tr><td>TEIXEIRA DE FREITAS</td><td>SAO LOURENCO</td><td>6.44</td><td>1</td><td>Basic</td></tr><tr><td>CRICIUMA</td><td>SAO SEBASTIAO</td><td>5.69</td><td>1</td><td>Basic</td></tr><tr><td>LINHARES</td><td>ARACA</td><td>5.79</td><td>1</td><td>Basic</td></tr><tr><td>MOGI MIRIM</td><td>SANTA CRUZ</td><td>5.80</td><td>2</td><td>Basic</td></tr><tr><td>ITAITUBA</td><td>BELA VISTA</td><td>5.78</td><td>3</td><td>Basic</td></tr><tr><td>FRUTAL</td><td>CENTRO</td><td>6.06</td><td>3</td><td>Basic</td></tr><tr><td>PASSOS</td><td>RECANTO DA HARMONIA</td><td>5.93</td><td>1</td><td>Basic</td></tr><tr><td>PORTO ALEGRE</td><td>AZENHA</td><td>4.69</td><td>1</td><td>Basic</td></tr><tr><td>ITAPIPOCA</td><td>JULHO</td><td>6.57</td><td>1</td><td>Basic</td></tr><tr><td>BELEM</td><td>PEDREIRA</td><td>5.64</td><td>2</td><td>Basic</td></tr><tr><td>CAMPINA GRANDE</td><td>UNIVERSITARIO</td><td>5.63</td><td>1</td><td>Basic</td></tr><tr><td>BETIM</td><td>JARDIM ALTEROSA</td><td>5.84</td><td>1</td><td>Basic</td></tr><tr><td>DIADEMA</td><td>VILA NOGUEIRA</td><td>6.41</td><td>2</td><td>Basic</td></tr><tr><td>NOVA IGUACU</td><td>PRATA</td><td>5.68</td><td>1</td><td>Basic</td></tr><tr><td>MANACAPURU</td><td>MORADA DO SOL</td><td>6.49</td><td>1</td><td>Basic</td></tr><tr><td>LIMEIRA</td><td>VL ROCHA</td><td>5.47</td><td>1</td><td>Basic</td></tr><tr><td>BARRA MANSA</td><td>SANTA CLARA</td><td>6.29</td><td>1</td><td>Basic</td></tr><tr><td>SAO BERNARDO DO CAMPO</td><td>COOPERATIVA</td><td>6.60</td><td>2</td><td>Basic</td></tr><tr><td>SUMARE</td><td>JARDIM SANTA MADALENA</td><td>5.54</td><td>1</td><td>Basic</td></tr><tr><td>ERECHIM</td><td>SAO VICENTE DE PAULA</td><td>6.14</td><td>1</td><td>Basic</td></tr><tr><td>SAO CARLOS</td><td>SANTA FELICIA</td><td>5.89</td><td>1</td><td>Basic</td></tr><tr><td>RIO DE JANEIRO</td><td>VILA VALQUEIRE</td><td>4.49</td><td>1</td><td>Basic</td></tr><tr><td>CASTANHAL</td><td>CAICARA</td><td>5.43</td><td>1</td><td>Basic</td></tr><tr><td>LIMEIRA</td><td>JD STO ANDRE</td><td>6.04</td><td>1</td><td>Basic</td></tr><tr><td>MACAPA</td><td>ACAI</td><td>6.43</td><td>1</td><td>Basic</td></tr><tr><td>SAO JOSE DE RIBAMAR</td><td>NOVO PARANA</td><td>5.38</td><td>1</td><td>Basic</td></tr><tr><td>ANGRA DOS REIS</td><td>CAMPO BELO (CUNHAMBEBE)</td><td>6.79</td><td>1</td><td>Basic</td></tr><tr><td>LUZIANIA</td><td>JARDIM ZULEIKA MARIA DE BRASILIA</td><td>5.79</td><td>1</td><td>Basic</td></tr><tr><td>RIBEIRAO PRETO</td><td>GERALDO CORREA DE CARVALHO</td><td>5.94</td><td>1</td><td>Basic</td></tr><tr><td>PRESIDENTE PRUDENTE</td><td>JARDIM BONGIOVANI</td><td>5.89</td><td>1</td><td>Basic</td></tr><tr><td>PARANAGUA</td><td>SAMAMBAIA</td><td>5.54</td><td>1</td><td>Basic</td></tr><tr><td>SAO PAULO</td><td>JARDIM IMPERADOR</td><td>5.79</td><td>1</td><td>Basic</td></tr><tr><td>RECIFE</td><td>BAIRRO DO RECIFE</td><td>5.84</td><td>1</td><td>Basic</td></tr><tr><td>POCOS DE CALDAS</td><td>JARDIM DOS ESTADOS</td><td>5.62</td><td>1</td><td>Basic</td></tr><tr><td>CAUCAIA</td><td>SANTA RITA</td><td>5.47</td><td>1</td><td>Basic</td></tr><tr><td>ANGRA DOS REIS</td><td>JACUACANGA</td><td>6.59</td><td>1</td><td>Basic</td></tr><tr><td>SERRA TALHADA</td><td>TANCREDO NEVES</td><td>5.97</td><td>1</td><td>Basic</td></tr><tr><td>CABO DE SANTO AGOSTINHO</td><td>GARAPU</td><td>5.05</td><td>2</td><td>Basic</td></tr><tr><td>PONTA PORA</td><td>CENTRO</td><td>6.42</td><td>6</td><td>Basic</td></tr><tr><td>GOIATUBA</td><td>SETOR OESTE</td><td>5.89</td><td>1</td><td>Basic</td></tr><tr><td>SANTO ANTONIO DE PADUA</td><td>PRIMEIRO DISTRITO</td><td>6.29</td><td>1</td><td>Basic</td></tr><tr><td>LAGUNA</td><td>CABECUDA</td><td>5.42</td><td>1</td><td>Basic</td></tr><tr><td>JUAZEIRO DO NORTE</td><td>PIRAJA</td><td>6.09</td><td>1</td><td>Basic</td></tr><tr><td>ALEGRETE</td><td>CIDADE ALTA</td><td>6.24</td><td>1</td><td>Basic</td></tr><tr><td>MARECHAL CANDIDO RONDON</td><td>CENTRO</td><td>5.87</td><td>6</td><td>Basic</td></tr><tr><td>MANAUS</td><td>SAO FRANCISCO</td><td>6.29</td><td>1</td><td>Basic</td></tr><tr><td>ITAUNA</td><td>PIEDADE</td><td>5.69</td><td>1</td><td>Basic</td></tr><tr><td>CHAPECO</td><td>CENTRO</td><td>5.76</td><td>5</td><td>Basic</td></tr><tr><td>ARACATUBA</td><td>JARDIM IPANEMA</td><td>6.09</td><td>1</td><td>Basic</td></tr><tr><td>PARACATU</td><td>ALTO DO CORREGO</td><td>6.13</td><td>3</td><td>Basic</td></tr><tr><td>ITAJUBA</td><td>VARGINHA</td><td>5.93</td><td>2</td><td>Basic</td></tr><tr><td>CATANDUVA</td><td>HIGIENOPOLIS</td><td>5.69</td><td>1</td><td>Basic</td></tr><tr><td>CURITIBA</td><td>STA FELICIDADE</td><td>5.59</td><td>1</td><td>Basic</td></tr><tr><td>CAMPOS DOS GOYTACAZES</td><td>PARQUE AURORA</td><td>6.10</td><td>1</td><td>Basic</td></tr><tr><td>SAPIRANGA</td><td>SAO LUIZ</td><td>5.70</td><td>1</td><td>Basic</td></tr><tr><td>ITUIUTABA</td><td>GERSON BADUY II</td><td>5.89</td><td>1</td><td>Basic</td></tr><tr><td>SAO PAULO</td><td>PONTE  PEQUENA</td><td>5.99</td><td>1</td><td>Basic</td></tr><tr><td>UBERLANDIA</td><td>CAZECA</td><td>5.89</td><td>1</td><td>Basic</td></tr><tr><td>CAMPINAS</td><td>JD. NOVO C. ELISEOS</td><td>5.59</td><td>1</td><td>Basic</td></tr><tr><td>PALMEIRA DOS INDIOS</td><td>CENTRO</td><td>6.27</td><td>1</td><td>Basic</td></tr><tr><td>SAO PAULO</td><td>SITIO DO MANDAQUI</td><td>5.73</td><td>1</td><td>Basic</td></tr><tr><td>RIBEIRAO PIRES</td><td>BOCAINA</td><td>5.73</td><td>2</td><td>Basic</td></tr><tr><td>SOROCABA</td><td>RONDA</td><td>5.62</td><td>1</td><td>Basic</td></tr><tr><td>CAMPINAS</td><td>BOTAFOGO</td><td>6.09</td><td>1</td><td>Basic</td></tr><tr><td>PARAGOMINAS</td><td>PRESIDENTE JUSCELINO</td><td>6.57</td><td>1</td><td>Basic</td></tr><tr><td>FORTALEZA</td><td>PASSARE</td><td>6.19</td><td>1</td><td>Basic</td></tr><tr><td>SANTO ANDRE</td><td>UTINGA</td><td>6.07</td><td>1</td><td>Basic</td></tr><tr><td>GURUPI</td><td>LOTEAMENTO VILA ALAGOANA</td><td>5.94</td><td>1</td><td>Basic</td></tr><tr><td>JACAREI</td><td>SANTO ANTONIO DA BOA VISTA</td><td>5.81</td><td>1</td><td>Basic</td></tr><tr><td>NATAL</td><td>QUINTAS</td><td>5.85</td><td>2</td><td>Basic</td></tr><tr><td>CURITIBA</td><td>JARDIM SOCIAL</td><td>5.99</td><td>1</td><td>Basic</td></tr><tr><td>MOGI DAS CRUZES</td><td>COCUERA</td><td>6.59</td><td>1</td><td>Basic</td></tr><tr><td>RIO DE JANEIRO</td><td>PARADA DE LUCAS</td><td>6.14</td><td>1</td><td>Basic</td></tr><tr><td>JAGUAQUARA</td><td>CENTRO</td><td>6.09</td><td>4</td><td>Basic</td></tr><tr><td>ARACATUBA</td><td>JUSSARA</td><td>5.94</td><td>1</td><td>Basic</td></tr><tr><td>SOROCABA</td><td>VILA ANTAO</td><td>6.09</td><td>1</td><td>Basic</td></tr><tr><td>PETROPOLIS</td><td>ITAIPAVA</td><td>5.56</td><td>2</td><td>Basic</td></tr><tr><td>PASSO FUNDO</td><td>LUCAS ARAUJO</td><td>5.94</td><td>1</td><td>Basic</td></tr><tr><td>UBA</td><td>SANTA LUZIA</td><td>5.83</td><td>1</td><td>Basic</td></tr><tr><td>SENHOR DO BONFIM</td><td>SANTOS DUMONT</td><td>6.40</td><td>1</td><td>Basic</td></tr><tr><td>SUMARE</td><td>JDM. ALVORADA</td><td>5.69</td><td>1</td><td>Basic</td></tr><tr><td>SAO JOSE DOS PINHAIS</td><td>SAO PEDRO</td><td>5.64</td><td>1</td><td>Basic</td></tr><tr><td>CAMBE</td><td>PARQUE MORUMBI</td><td>5.94</td><td>1</td><td>Basic</td></tr><tr><td>COTIA</td><td>TIJUCO PRETO</td><td>5.71</td><td>1</td><td>Basic</td></tr><tr><td>SAO PAULO</td><td>JD GUARAPIRANGA</td><td>5.55</td><td>1</td><td>Basic</td></tr><tr><td>CAMACARI</td><td>POLO DE APOIO</td><td>5.51</td><td>1</td><td>Basic</td></tr><tr><td>NOVA IGUACU</td><td>POSSE</td><td>5.52</td><td>1</td><td>Basic</td></tr><tr><td>SABARA</td><td>SIDERURGICA</td><td>5.89</td><td>1</td><td>Basic</td></tr><tr><td>ANANINDEUA</td><td>CENTRO</td><td>5.50</td><td>3</td><td>Basic</td></tr><tr><td>JEQUIE</td><td>CENTRO</td><td>6.04</td><td>5</td><td>Basic</td></tr><tr><td>SAO JOSE DO RIO PRETO</td><td>VILA SAO JOSE</td><td>5.79</td><td>1</td><td>Basic</td></tr><tr><td>SAO PAULO</td><td>JARDIM ADUTORA</td><td>5.69</td><td>1</td><td>Basic</td></tr><tr><td>DOURADOS</td><td>JARDIM TROPICAL</td><td>6.29</td><td>2</td><td>Basic</td></tr><tr><td>UNAI</td><td>BAIRRO PLANALTO</td><td>6.07</td><td>1</td><td>Basic</td></tr><tr><td>SAO CAETANO DO SUL</td><td>JD. SAO CAETANO</td><td>6.49</td><td>1</td><td>Basic</td></tr><tr><td>TABOAO DA SERRA</td><td>PARQUE SAO JOAQUIM</td><td>5.59</td><td>1</td><td>Basic</td></tr><tr><td>LEME</td><td>VILA GROSSKLAUSS</td><td>5.29</td><td>1</td><td>Basic</td></tr><tr><td>PINHAIS</td><td>VILA PALMITAL</td><td>6.24</td><td>1</td><td>Basic</td></tr><tr><td>CAMACARI</td><td>CASCALHEIRA</td><td>5.52</td><td>1</td><td>Basic</td></tr><tr><td>SAO LUIS</td><td>COHAMA</td><td>5.75</td><td>3</td><td>Basic</td></tr><tr><td>JAU</td><td>VILA NOVA</td><td>5.94</td><td>1</td><td>Basic</td></tr><tr><td>ITANHAEM</td><td>ESTANCIA BEIRA MAR</td><td>6.39</td><td>1</td><td>Basic</td></tr><tr><td>CAUCAIA</td><td>CENTRO</td><td>5.65</td><td>1</td><td>Basic</td></tr><tr><td>IPATINGA</td><td>NOVO CRUZEIRO</td><td>5.65</td><td>1</td><td>Basic</td></tr><tr><td>VARZEA GRANDE</td><td>GUARITA</td><td>5.82</td><td>1</td><td>Basic</td></tr><tr><td>OSASCO</td><td>JARDIM PIRATININGA</td><td>5.89</td><td>1</td><td>Basic</td></tr><tr><td>SAO PAULO</td><td>JARDIM DRACENA</td><td>6.49</td><td>1</td><td>Basic</td></tr><tr><td>BARUERI</td><td>BETHAVILLE I</td><td>6.66</td><td>1</td><td>Basic</td></tr><tr><td>SAO BERNARDO DO CAMPO</td><td>CENTRO</td><td>6.51</td><td>4</td><td>Basic</td></tr><tr><td>MONTE CARMELO</td><td>TAMBORIL</td><td>5.97</td><td>1</td><td>Basic</td></tr><tr><td>JOAO PINHEIRO</td><td>MARIA JOSE DE PAULA</td><td>5.74</td><td>2</td><td>Basic</td></tr><tr><td>MONTE ALTO</td><td>CENTRO</td><td>5.81</td><td>4</td><td>Basic</td></tr><tr><td>JUIZ DE FORA</td><td>NOVA ERA</td><td>6.50</td><td>1</td><td>Basic</td></tr><tr><td>FORTALEZA</td><td>FATIMA</td><td>5.82</td><td>3</td><td>Basic</td></tr><tr><td>MOGI DAS CRUZES</td><td>JARDIM ARMENIA</td><td>6.14</td><td>1</td><td>Basic</td></tr><tr><td>ARAXA</td><td>MORADA DO SOL</td><td>5.89</td><td>2</td><td>Basic</td></tr><tr><td>GUARATINGUETA</td><td>CENTRO</td><td>5.98</td><td>3</td><td>Basic</td></tr><tr><td>IPIRA</td><td>POVOADO DE SANTA RITA</td><td>5.55</td><td>1</td><td>Basic</td></tr><tr><td>RIO CLARO</td><td>CIDADE JARDIM</td><td>5.94</td><td>1</td><td>Basic</td></tr><tr><td>GUARULHOS</td><td>CIDADE INDUSTRIAL SATELITE DE SAO PAULO</td><td>5.59</td><td>1</td><td>Basic</td></tr><tr><td>SAO JOAO DA BOA VISTA</td><td>JARDIM SANTO ANDRE</td><td>5.92</td><td>1</td><td>Basic</td></tr><tr><td>CAMPO BELO</td><td>CENTENARIO</td><td>5.79</td><td>1</td><td>Basic</td></tr><tr><td>SERRA</td><td>CIDADE NOVA DA SERRA</td><td>5.84</td><td>1</td><td>Basic</td></tr><tr><td>SAO CARLOS</td><td>VILA SANTA MARINA</td><td>5.89</td><td>1</td><td>Basic</td></tr><tr><td>SANTO ANTONIO DE JESUS</td><td>CENTRO</td><td>5.96</td><td>2</td><td>Basic</td></tr><tr><td>GOIANIA</td><td>SETOR MARISTA</td><td>6.59</td><td>1</td><td>Basic</td></tr><tr><td>BRAGANCA PAULISTA</td><td>SANTA TEREZINHA</td><td>5.62</td><td>1</td><td>Basic</td></tr><tr><td>RIO DE JANEIRO</td><td>FREGUESIA (JACAREPAGUA)</td><td>6.29</td><td>1</td><td>Basic</td></tr><tr><td>PIMENTA BUENO</td><td>SERINGAL</td><td>6.43</td><td>1</td><td>Basic</td></tr><tr><td>BARREIRAS</td><td>SANTA LUZIA</td><td>6.14</td><td>1</td><td>Basic</td></tr><tr><td>SAO CAETANO DO SUL</td><td>PROSPERIDADE</td><td>5.31</td><td>1</td><td>Basic</td></tr><tr><td>CACAPAVA</td><td>JARDIM MARIA CANDIDA</td><td>5.99</td><td>1</td><td>Basic</td></tr><tr><td>MANAUS</td><td>PRAÇA 14 DE JANEIRO</td><td>6.29</td><td>1</td><td>Basic</td></tr><tr><td>DRACENA</td><td>CENTRO</td><td>5.76</td><td>4</td><td>Basic</td></tr><tr><td>PATOS DE MINAS</td><td>ALTO DOS CAICARAS</td><td>5.74</td><td>1</td><td>Basic</td></tr><tr><td>SAO LUIS</td><td>CENTRO</td><td>5.55</td><td>2</td><td>Basic</td></tr><tr><td>LONDRINA</td><td>JARDIM UNIVERSITÁRIO</td><td>6.09</td><td>1</td><td>Basic</td></tr><tr><td>CARIACICA</td><td>ALTO LAJE</td><td>5.99</td><td>2</td><td>Basic</td></tr><tr><td>PORTO NACIONAL</td><td>NOVO PLANALTO</td><td>5.65</td><td>1</td><td>Basic</td></tr><tr><td>RIO DE JANEIRO</td><td>OLARIA</td><td>5.44</td><td>2</td><td>Basic</td></tr><tr><td>MARILIA</td><td>PARQUE DOS SABIAS II (PADRE NOBREGA)</td><td>5.94</td><td>1</td><td>Basic</td></tr><tr><td>JOAO PESSOA</td><td>JOSE AMERICO</td><td>5.99</td><td>1</td><td>Basic</td></tr><tr><td>CONTAGEM</td><td>JARDIM LAGUNA</td><td>5.59</td><td>1</td><td>Basic</td></tr><tr><td>SAQUAREMA</td><td>PORTA ROCA</td><td>6.09</td><td>1</td><td>Basic</td></tr><tr><td>SALVADOR</td><td>ARRAIAL DO RETIRO</td><td>3.99</td><td>1</td><td>Basic</td></tr><tr><td>CASCAVEL</td><td>SANTA CRUZ</td><td>5.88</td><td>2</td><td>Basic</td></tr><tr><td>PAULINIA</td><td>NOVA PAULINIA</td><td>5.99</td><td>1</td><td>Basic</td></tr><tr><td>SAO CAETANO DO SUL</td><td>FUNDAÇÃO</td><td>5.49</td><td>1</td><td>Basic</td></tr><tr><td>ITAPEVA</td><td>CENTRAL PARK</td><td>5.64</td><td>1</td><td>Basic</td></tr><tr><td>CABO FRIO</td><td>CAMPOS NOVOS</td><td>6.39</td><td>1</td><td>Basic</td></tr><tr><td>SERRA</td><td>CARAPINA GRANDE</td><td>5.59</td><td>1</td><td>Basic</td></tr><tr><td>SAO PAULO</td><td>DO LIMAO</td><td>5.79</td><td>1</td><td>Basic</td></tr><tr><td>SAPIRANGA</td><td>VOO LIVRE</td><td>5.17</td><td>1</td><td>Basic</td></tr><tr><td>EMBU DAS ARTES</td><td>VILA ISIS CRISTINA</td><td>5.59</td><td>1</td><td>Basic</td></tr><tr><td>GARCA</td><td>J A F A</td><td>5.43</td><td>1</td><td>Basic</td></tr><tr><td>GUARAPUAVA</td><td>CENTRO</td><td>5.71</td><td>8</td><td>Premium</td></tr><tr><td>FEIRA DE SANTANA</td><td>SANTA MONICA</td><td>5.24</td><td>1</td><td>Basic</td></tr><tr><td>SANTAREM</td><td>PRAINHA</td><td>5.98</td><td>1</td><td>Basic</td></tr><tr><td>TRES LAGOAS</td><td>CENTRO</td><td>5.95</td><td>3</td><td>Basic</td></tr><tr><td>IRECE</td><td>SEDE</td><td>6.18</td><td>1</td><td>Basic</td></tr><tr><td>SOROCABA</td><td>PARQUE BOA VISTA</td><td>5.79</td><td>1</td><td>Basic</td></tr><tr><td>SAO JOAO DA BOA VISTA</td><td>SAO MARCOS</td><td>5.29</td><td>1</td><td>Basic</td></tr><tr><td>PORTO FERREIRA</td><td>JARDIM SANTA MARIA</td><td>5.69</td><td>1</td><td>Basic</td></tr><tr><td>VILA VELHA</td><td>COBI DE CIMA</td><td>5.89</td><td>1</td><td>Basic</td></tr><tr><td>SAO MATEUS</td><td>BOA VISTA</td><td>6.39</td><td>1</td><td>Basic</td></tr><tr><td>FORMIGA</td><td>MANGABEIRAS</td><td>5.51</td><td>2</td><td>Basic</td></tr><tr><td>MARINGA</td><td>JARDIM IMPERIAL</td><td>5.89</td><td>1</td><td>Basic</td></tr><tr><td>SAO BERNARDO DO CAMPO</td><td>BAETA NEVES</td><td>6.49</td><td>1</td><td>Basic</td></tr><tr><td>CRUZEIRO</td><td>II RET. MANTIQUEIRA</td><td>5.81</td><td>1</td><td>Basic</td></tr><tr><td>BRUMADO</td><td>ZONA RURAL</td><td>5.94</td><td>1</td><td>Basic</td></tr><tr><td>SANTA CRUZ DO SUL</td><td>ANA NERY</td><td>5.77</td><td>1</td><td>Basic</td></tr><tr><td>RIO VERDE</td><td>VILA  MARIA</td><td>5.95</td><td>1</td><td>Basic</td></tr><tr><td>GUAIBA</td><td>JARDIM IOLANDA</td><td>6.04</td><td>1</td><td>Basic</td></tr><tr><td>CAXIAS</td><td>CANGALHEIRO</td><td>5.60</td><td>1</td><td>Basic</td></tr><tr><td>IMPERATRIZ</td><td>PARQUE DAS PALMEIRAS</td><td>5.84</td><td>1</td><td>Basic</td></tr><tr><td>CRUZEIRO DO SUL</td><td>MIRITIZAL</td><td>7.68</td><td>2</td><td>Basic</td></tr><tr><td>CODO</td><td>SAO SEBASTIAO</td><td>6.29</td><td>6</td><td>Basic</td></tr><tr><td>CURITIBA</td><td>BATEL</td><td>6.24</td><td>2</td><td>Basic</td></tr><tr><td>NATAL</td><td>CIDADE NOVA</td><td>5.99</td><td>1</td><td>Basic</td></tr><tr><td>PRESIDENTE PRUDENTE</td><td>CIDADE UNIVERSITARIO</td><td>5.89</td><td>1</td><td>Basic</td></tr><tr><td>IMPERATRIZ</td><td>ZONA RURAL</td><td>5.74</td><td>1</td><td>Basic</td></tr><tr><td>MANHUACU</td><td>CORREGO DO FEIJOAL</td><td>5.84</td><td>1</td><td>Basic</td></tr><tr><td>CAUCAIA</td><td>TABAPUA</td><td>5.54</td><td>2</td><td>Basic</td></tr><tr><td>MORRINHOS</td><td>SETOR OESTE</td><td>5.84</td><td>1</td><td>Basic</td></tr><tr><td>SANTO ANTONIO DA PLATINA</td><td>VILA SAO PEDRO</td><td>5.84</td><td>1</td><td>Basic</td></tr><tr><td>JAGUAQUARA</td><td>SAO JORGE</td><td>6.07</td><td>1</td><td>Basic</td></tr><tr><td>AGUAS LINDAS DE GOIAS</td><td>JARDIM QUERENCIA</td><td>6.09</td><td>1</td><td>Basic</td></tr><tr><td>TERESINA</td><td>POTI VELHO</td><td>5.99</td><td>1</td><td>Basic</td></tr><tr><td>VOTORANTIM</td><td>JARDIM ICATU</td><td>5.47</td><td>1</td><td>Basic</td></tr><tr><td>MARINGA</td><td>PQ. INDUSTRIAL</td><td>5.67</td><td>1</td><td>Basic</td></tr><tr><td>BELEM</td><td>SACRAMENTA</td><td>6.35</td><td>1</td><td>Basic</td></tr><tr><td>PAULO AFONSO</td><td>PERPETUO SOCORRO</td><td>5.93</td><td>1</td><td>Basic</td></tr><tr><td>ANANINDEUA</td><td>QUARENTA HORAS</td><td>5.43</td><td>1</td><td>Basic</td></tr><tr><td>CACHOEIRO DE ITAPEMIRIM</td><td>ZUMBI</td><td>5.84</td><td>1</td><td>Basic</td></tr><tr><td>PIRACICABA</td><td>VILA BESSI</td><td>5.79</td><td>1</td><td>Basic</td></tr><tr><td>CRICIUMA</td><td>MORRO ESTEVAO</td><td>5.74</td><td>1</td><td>Basic</td></tr><tr><td>SANTA CRUZ DO SUL</td><td>SANTO INÁCIO</td><td>6.14</td><td>1</td><td>Basic</td></tr><tr><td>ALAGOINHAS</td><td>SANTA TEREZINHA</td><td>5.99</td><td>1</td><td>Basic</td></tr><tr><td>MOSSORO</td><td>ALTO DA CONCEIÇÃO</td><td>5.77</td><td>1</td><td>Basic</td></tr><tr><td>CONGONHAS</td><td>IPIRANGA</td><td>5.58</td><td>2</td><td>Basic</td></tr><tr><td>VILA VELHA</td><td>COBILANDIA</td><td>5.14</td><td>2</td><td>Basic</td></tr><tr><td>JUAZEIRO DO NORTE</td><td>SALESIANO</td><td>6.07</td><td>1</td><td>Basic</td></tr><tr><td>LUZIANIA</td><td>CIDADE OSFAYA</td><td>5.77</td><td>1</td><td>Basic</td></tr><tr><td>ITAPECERICA DA SERRA</td><td>POTUVERA</td><td>5.79</td><td>3</td><td>Basic</td></tr><tr><td>CAMETA</td><td>BRASILIA</td><td>6.60</td><td>1</td><td>Basic</td></tr><tr><td>ARCOVERDE</td><td>CENTRO</td><td>5.82</td><td>2</td><td>Basic</td></tr><tr><td>MOGI DAS CRUZES</td><td>VILA VITÓRIA</td><td>6.39</td><td>1</td><td>Basic</td></tr><tr><td>CUIABA</td><td>ARAES</td><td>6.17</td><td>1</td><td>Basic</td></tr><tr><td>TRINDADE</td><td>SETOR RESIDENCIAL GARAVELO II</td><td>5.89</td><td>1</td><td>Basic</td></tr><tr><td>SANTA BARBARA D'OESTE</td><td>JD. PEROLA</td><td>5.52</td><td>1</td><td>Basic</td></tr><tr><td>UNAI</td><td>ZONA RURAL</td><td>5.94</td><td>1</td><td>Basic</td></tr><tr><td>ARAPIRACA</td><td>CAVACO</td><td>5.94</td><td>1</td><td>Basic</td></tr><tr><td>VALENCA</td><td>TRECHO VAL/TAPEROA</td><td>6.03</td><td>1</td><td>Basic</td></tr><tr><td>RECIFE</td><td>MADALENA</td><td>5.74</td><td>1</td><td>Basic</td></tr><tr><td>GOIANIA</td><td>SETOR SOL NASCENTE</td><td>5.67</td><td>2</td><td>Basic</td></tr><tr><td>OSASCO</td><td>JARDIM VELOSO</td><td>6.19</td><td>1</td><td>Basic</td></tr><tr><td>PORTO SEGURO</td><td>ANTONIO TITO - SEDE</td><td>6.81</td><td>1</td><td>Basic</td></tr><tr><td>SALVADOR</td><td>VASCO  DA GAMA</td><td>6.29</td><td>1</td><td>Basic</td></tr><tr><td>SAO LUIS</td><td>COHAFUMA</td><td>5.59</td><td>1</td><td>Basic</td></tr><tr><td>ITAPECERICA DA SERRA</td><td>PARQUE PARAISO</td><td>5.69</td><td>1</td><td>Basic</td></tr><tr><td>ATIBAIA</td><td>CAETETUBA</td><td>6.48</td><td>1</td><td>Basic</td></tr><tr><td>MINEIROS</td><td>CENTRO</td><td>6.16</td><td>1</td><td>Basic</td></tr><tr><td>RECIFE</td><td>CURADO</td><td>5.24</td><td>2</td><td>Basic</td></tr><tr><td>CANINDE</td><td>BOA VISTA</td><td>5.89</td><td>1</td><td>Basic</td></tr><tr><td>SETE LAGOAS</td><td>CHACARA DO PAIVA</td><td>5.25</td><td>1</td><td>Basic</td></tr><tr><td>PIRACICABA</td><td>DISTRITO DE TUPI</td><td>5.53</td><td>1</td><td>Basic</td></tr><tr><td>PARANAGUA</td><td>VILA PARANAGUA</td><td>5.77</td><td>2</td><td>Basic</td></tr><tr><td>MANAUS</td><td>ALEIXO</td><td>6.25</td><td>2</td><td>Basic</td></tr><tr><td>ATIBAIA</td><td>ESTANCIA SANTA MARIA DO LARANJAL</td><td>6.24</td><td>1</td><td>Basic</td></tr><tr><td>JAU</td><td>JD FERREIRA DIAS</td><td>5.99</td><td>1</td><td>Basic</td></tr><tr><td>ITUMBIARA</td><td>SANTOS DUMONT</td><td>5.62</td><td>3</td><td>Basic</td></tr><tr><td>AMERICANA</td><td>VALE DAS NOGUEIRAS</td><td>5.89</td><td>1</td><td>Basic</td></tr><tr><td>PRESIDENTE DUTRA</td><td>VILA MILITAR</td><td>5.87</td><td>1</td><td>Basic</td></tr><tr><td>CRATEUS</td><td>CIDADE 2000</td><td>6.29</td><td>1</td><td>Basic</td></tr><tr><td>SAO VICENTE</td><td>CIDADE NAUTICA</td><td>6.06</td><td>2</td><td>Basic</td></tr><tr><td>SIMOES FILHO</td><td>CRISTO REI</td><td>5.56</td><td>1</td><td>Basic</td></tr><tr><td>MACAPA</td><td>UNIVERSIDADE</td><td>6.39</td><td>1</td><td>Basic</td></tr><tr><td>RIO DE JANEIRO</td><td>CURICICA</td><td>5.92</td><td>1</td><td>Basic</td></tr><tr><td>RIBEIRAO PRETO</td><td>JARDIM INDEPENDENCIA</td><td>6.39</td><td>1</td><td>Basic</td></tr><tr><td>MANHUACU</td><td>VISTA ALEGRE</td><td>5.74</td><td>1</td><td>Basic</td></tr><tr><td>SAO MATEUS</td><td>SERNAMBY</td><td>5.89</td><td>1</td><td>Basic</td></tr><tr><td>MACEIO</td><td>FAROL</td><td>5.67</td><td>5</td><td>Basic</td></tr><tr><td>OURINHOS</td><td>PARQUE MINAS GERAIS</td><td>5.99</td><td>1</td><td>Basic</td></tr><tr><td>PORTO VELHO</td><td>SAO JOAO BOSCO</td><td>6.39</td><td>1</td><td>Basic</td></tr><tr><td>PALMEIRA DOS INDIOS</td><td>JUCA SAMPAIO</td><td>6.19</td><td>2</td><td>Basic</td></tr><tr><td>PONTA GROSSA</td><td>JD. CARVALHO</td><td>5.64</td><td>1</td><td>Basic</td></tr><tr><td>UBERLANDIA</td><td>SANTA MONICA</td><td>5.76</td><td>7</td><td>Basic</td></tr><tr><td>BARUERI</td><td>TAMBORE</td><td>6.24</td><td>1</td><td>Basic</td></tr><tr><td>SALVADOR</td><td>BARBALHO</td><td>6.25</td><td>1</td><td>Basic</td></tr><tr><td>BLUMENAU</td><td>SALTO DO NORTE</td><td>5.89</td><td>1</td><td>Basic</td></tr><tr><td>SAO GONCALO</td><td>ARSENAL</td><td>5.84</td><td>3</td><td>Basic</td></tr><tr><td>LAJEADO</td><td>SANTO ANDRE</td><td>5.63</td><td>1</td><td>Basic</td></tr><tr><td>BOA VISTA</td><td>CENTRO</td><td>6.37</td><td>1</td><td>Basic</td></tr><tr><td>SAO LUIS</td><td>SANTA EFIGENIA</td><td>5.59</td><td>1</td><td>Basic</td></tr><tr><td>RIO VERDE</td><td>LIBERDADE</td><td>5.69</td><td>1</td><td>Basic</td></tr><tr><td>VALINHOS</td><td>VILA SANTANA</td><td>5.89</td><td>1</td><td>Basic</td></tr><tr><td>SAO GONCALO</td><td>NEVES</td><td>5.17</td><td>1</td><td>Basic</td></tr><tr><td>ARACRUZ</td><td>SEGATTO</td><td>5.94</td><td>1</td><td>Basic</td></tr><tr><td>GUARAPUAVA</td><td>ARAUCARIAS</td><td>5.74</td><td>1</td><td>Basic</td></tr><tr><td>VARZEA GRANDE</td><td>MAPIM</td><td>5.81</td><td>1</td><td>Basic</td></tr><tr><td>VILA VELHA</td><td>DIVINO ESPIRITO SANTO</td><td>5.89</td><td>1</td><td>Basic</td></tr><tr><td>PORTO VELHO</td><td>NOVA ESPERANCA</td><td>6.52</td><td>1</td><td>Basic</td></tr><tr><td>PETROLINA</td><td>RIO CORRENTE</td><td>6.12</td><td>1</td><td>Basic</td></tr><tr><td>RIO VERDE</td><td>PARQUE BANDEIRANTES</td><td>5.94</td><td>1</td><td>Basic</td></tr><tr><td>UBERABA</td><td>PARQUE DO MIRANTE</td><td>6.09</td><td>1</td><td>Basic</td></tr><tr><td>MIRASSOL</td><td>JARDIM RENASCENCA</td><td>6.04</td><td>1</td><td>Basic</td></tr><tr><td>RIO DE JANEIRO</td><td>VILA DA PENHA</td><td>5.23</td><td>1</td><td>Basic</td></tr><tr><td>VOLTA REDONDA</td><td>ATERRADO</td><td>6.21</td><td>2</td><td>Basic</td></tr><tr><td>TERESINA</td><td>TRES ANDARES</td><td>5.96</td><td>2</td><td>Basic</td></tr><tr><td>PETROLINA</td><td>LOTEAMENTO RECIFE</td><td>5.87</td><td>2</td><td>Basic</td></tr><tr><td>FORTALEZA</td><td>JOAQUIM TAVORA</td><td>4.92</td><td>1</td><td>Basic</td></tr><tr><td>SANTA BARBARA D'OESTE</td><td>VILA DAINESE</td><td>5.92</td><td>1</td><td>Basic</td></tr><tr><td>BRASILIA</td><td>LAGO SUL</td><td>5.84</td><td>2</td><td>Basic</td></tr><tr><td>ALFENAS</td><td>JD. FURNAS</td><td>5.79</td><td>1</td><td>Basic</td></tr><tr><td>MARINGA</td><td>ZONA 02</td><td>5.89</td><td>1</td><td>Basic</td></tr><tr><td>BETIM</td><td>INGA</td><td>5.69</td><td>1</td><td>Basic</td></tr><tr><td>BOA VISTA</td><td>CAIMBE</td><td>6.37</td><td>1</td><td>Basic</td></tr><tr><td>GURUPI</td><td>JARDIM ELDORADO</td><td>6.15</td><td>1</td><td>Basic</td></tr><tr><td>POCOES</td><td>SANTA RITA</td><td>5.56</td><td>1</td><td>Basic</td></tr><tr><td>JOAO PESSOA</td><td>CRUZ DAS ARMAS</td><td>4.72</td><td>1</td><td>Basic</td></tr><tr><td>RECIFE</td><td>VARZEA</td><td>5.99</td><td>1</td><td>Basic</td></tr><tr><td>SANTO ANTONIO DE JESUS</td><td>AMPARO</td><td>5.65</td><td>1</td><td>Basic</td></tr><tr><td>SERRA</td><td>N.S.DO ROSARIO DE FATIMA</td><td>5.99</td><td>1</td><td>Basic</td></tr><tr><td>MOGI DAS CRUZES</td><td>VL SARAH AVIGNON</td><td>6.54</td><td>1</td><td>Basic</td></tr><tr><td>CALDAS NOVAS</td><td>ESTANCIA ITANHANGA</td><td>5.79</td><td>1</td><td>Basic</td></tr><tr><td>DIADEMA</td><td>VILA SAO JOSE</td><td>6.39</td><td>1</td><td>Basic</td></tr><tr><td>SANTA CRUZ DO RIO PARDO</td><td>CHACARA PEIXE</td><td>6.24</td><td>2</td><td>Basic</td></tr><tr><td>GOIANIA</td><td>JARDIM AMÉRICA</td><td>5.99</td><td>2</td><td>Basic</td></tr><tr><td>NOVA LIMA</td><td>CENTRO</td><td>5.98</td><td>3</td><td>Basic</td></tr><tr><td>ITAPERUNA</td><td>CIDADE NOVA</td><td>6.02</td><td>4</td><td>Basic</td></tr><tr><td>RONDONOPOLIS</td><td>JARDIM UNIVERSITARIO</td><td>6.19</td><td>1</td><td>Basic</td></tr><tr><td>SORRISO</td><td>BELA VISTA</td><td>6.56</td><td>2</td><td>Basic</td></tr><tr><td>SAO PAULO</td><td>CASA VERDE</td><td>6.60</td><td>2</td><td>Basic</td></tr><tr><td>VITORIA</td><td>MATA DA PRAIA</td><td>4.99</td><td>1</td><td>Basic</td></tr><tr><td>LIMEIRA</td><td>JARDIM CASON</td><td>5.64</td><td>1</td><td>Basic</td></tr><tr><td>BRASILIA</td><td>SIA</td><td>5.83</td><td>1</td><td>Basic</td></tr><tr><td>ITAQUAQUECETUBA</td><td>JARDIM FELIX E MILTON</td><td>6.03</td><td>1</td><td>Basic</td></tr><tr><td>PIRACICABA</td><td>JR. SAO JORGE</td><td>6.03</td><td>1</td><td>Basic</td></tr><tr><td>DIVINOPOLIS</td><td>INTERLAGOS</td><td>5.67</td><td>1</td><td>Basic</td></tr><tr><td>VALINHOS</td><td>JD. ITAPUA</td><td>5.39</td><td>1</td><td>Basic</td></tr><tr><td>BELEM</td><td>TELGRAFO</td><td>5.49</td><td>1</td><td>Basic</td></tr><tr><td>MOGI DAS CRUZES</td><td>BRAS CUBAS</td><td>6.09</td><td>1</td><td>Basic</td></tr><tr><td>BRUSQUE</td><td>LIMEIRA</td><td>6.49</td><td>1</td><td>Basic</td></tr><tr><td>VARZEA GRANDE</td><td>GLORIA</td><td>5.84</td><td>1</td><td>Basic</td></tr><tr><td>CUBATAO</td><td>VILA PAULISTA</td><td>6.46</td><td>1</td><td>Basic</td></tr><tr><td>SUZANO</td><td>VILA MALUF</td><td>4.98</td><td>1</td><td>Basic</td></tr><tr><td>PORTO ALEGRE</td><td>PEDRA REDONDA</td><td>5.79</td><td>1</td><td>Basic</td></tr><tr><td>SAO PAULO</td><td>IPIRANGA</td><td>3.99</td><td>1</td><td>Basic</td></tr><tr><td>IPIRA</td><td>POVOADO PAU FERRO</td><td>5.50</td><td>1</td><td>Basic</td></tr><tr><td>LAJEADO</td><td>BOM PASTOR</td><td>5.80</td><td>1</td><td>Basic</td></tr><tr><td>ARAPIRACA</td><td>JARDIM ESPERANCA</td><td>5.94</td><td>1</td><td>Basic</td></tr><tr><td>PORTO SEGURO</td><td>TABAPIRI</td><td>6.85</td><td>1</td><td>Basic</td></tr><tr><td>ITABAIANA</td><td>ROTARY CLUB DE ITABAIANA</td><td>5.78</td><td>3</td><td>Basic</td></tr><tr><td>BELO HORIZONTE</td><td>ITAIPU</td><td>5.65</td><td>1</td><td>Basic</td></tr><tr><td>MONTES CLAROS</td><td>JARDIM PRIMAVERA</td><td>5.60</td><td>1</td><td>Basic</td></tr><tr><td>CAUCAIA</td><td>TOCO (JUREMA)</td><td>5.47</td><td>1</td><td>Basic</td></tr><tr><td>NOSSA SENHORA DO SOCORRO</td><td>JOAO ALVES FILHO</td><td>4.89</td><td>1</td><td>Basic</td></tr><tr><td>LINHARES</td><td>AVISO</td><td>5.81</td><td>2</td><td>Basic</td></tr><tr><td>RIO BONITO</td><td>RIO DOS INDIOS</td><td>5.67</td><td>1</td><td>Basic</td></tr><tr><td>LIMEIRA</td><td>JARDIM COLINAS DE SAO JOAO</td><td>5.79</td><td>1</td><td>Basic</td></tr><tr><td>CASCAVEL</td><td>UNIVERSITARIO</td><td>6.09</td><td>1</td><td>Basic</td></tr><tr><td>PICOS</td><td>JUNCA</td><td>5.94</td><td>1</td><td>Basic</td></tr><tr><td>PELOTAS</td><td>RETIRO</td><td>6.55</td><td>1</td><td>Basic</td></tr><tr><td>SAO PAULO</td><td>VL CLEMENTINO</td><td>4.59</td><td>1</td><td>Basic</td></tr><tr><td>CARIACICA</td><td>ITAQUARI</td><td>5.60</td><td>1</td><td>Basic</td></tr><tr><td>MARICA</td><td>INOA</td><td>5.78</td><td>1</td><td>Basic</td></tr><tr><td>VITORIA DE SANTO ANTAO</td><td>LOTEAMENTO NOVA VITORIA</td><td>5.04</td><td>1</td><td>Basic</td></tr><tr><td>SAO PAULO</td><td>CIDADE DUTRA</td><td>5.01</td><td>1</td><td>Basic</td></tr><tr><td>SAO PAULO</td><td>RIO PEQUENO</td><td>5.49</td><td>2</td><td>Basic</td></tr><tr><td>MOGI GUACU</td><td>JARDIM SAMIRA</td><td>5.64</td><td>1</td><td>Basic</td></tr><tr><td>JUNDIAI</td><td>RETIRO</td><td>6.08</td><td>2</td><td>Basic</td></tr><tr><td>PAULINIA</td><td>V. JOSE P. NOGUEIRA</td><td>5.54</td><td>1</td><td>Basic</td></tr><tr><td>PRESIDENTE PRUDENTE</td><td>VILA FORMOSA</td><td>5.94</td><td>2</td><td>Basic</td></tr><tr><td>UBERLANDIA</td><td>CENTRO</td><td>5.89</td><td>2</td><td>Basic</td></tr><tr><td>PARANAVAI</td><td>JARDIM OURO BRANCO</td><td>5.89</td><td>1</td><td>Basic</td></tr><tr><td>CAMPO GRANDE</td><td>JARDIM SANTA EMILIA</td><td>5.69</td><td>1</td><td>Basic</td></tr><tr><td>CORUMBA</td><td>CENTRO</td><td>7.42</td><td>3</td><td>Basic</td></tr><tr><td>CAMPOS DOS GOYTACAZES</td><td>IBITIOCA</td><td>6.50</td><td>2</td><td>Basic</td></tr><tr><td>COLOMBO</td><td>RIO VERDE</td><td>5.79</td><td>1</td><td>Basic</td></tr><tr><td>GRAVATAI</td><td>SAO VICENTE</td><td>5.63</td><td>1</td><td>Basic</td></tr><tr><td>CRICIUMA</td><td>SÃO DEFENDE</td><td>5.69</td><td>1</td><td>Basic</td></tr><tr><td>CANOAS</td><td>MARECHAL RONDON</td><td>5.53</td><td>3</td><td>Basic</td></tr><tr><td>BOM DESPACHO</td><td>JARDIM AMERICA</td><td>5.84</td><td>1</td><td>Basic</td></tr><tr><td>VARGINHA</td><td>SANTA LUIZA</td><td>6.59</td><td>1</td><td>Basic</td></tr><tr><td>SANTO ANDRE</td><td>VILA LUZITA</td><td>6.29</td><td>1</td><td>Basic</td></tr><tr><td>ITAQUAQUECETUBA</td><td>VILA JAPAO</td><td>5.93</td><td>2</td><td>Basic</td></tr><tr><td>RONDONOPOLIS</td><td>RESIDENCIAL BURITI</td><td>6.13</td><td>1</td><td>Basic</td></tr><tr><td>SAO LUIS</td><td>COHAPAM</td><td>5.51</td><td>1</td><td>Basic</td></tr><tr><td>TAUBATE</td><td>VL SAO GERALDO</td><td>6.29</td><td>1</td><td>Basic</td></tr><tr><td>VILA VELHA</td><td>JARDIM ASTECA</td><td>5.99</td><td>1</td><td>Basic</td></tr><tr><td>TERESINA</td><td>BUENOS AIRES</td><td>5.87</td><td>1</td><td>Basic</td></tr><tr><td>PIMENTA BUENO</td><td>BELA VISTA</td><td>5.98</td><td>1</td><td>Basic</td></tr><tr><td>CASCAVEL</td><td>PARQUE SAO PAULO</td><td>6.09</td><td>2</td><td>Basic</td></tr><tr><td>MIRASSOL</td><td>CENTRO</td><td>5.96</td><td>2</td><td>Basic</td></tr><tr><td>VITORIA DA CONQUISTA</td><td>FELICIA</td><td>5.54</td><td>1</td><td>Basic</td></tr><tr><td>OLIMPIA</td><td>CENTRO</td><td>6.04</td><td>6</td><td>Basic</td></tr><tr><td>GOVERNADOR VALADARES</td><td>VILA ISA</td><td>5.75</td><td>3</td><td>Basic</td></tr><tr><td>SAO JOAO DA BOA VISTA</td><td>N.S.DO PERP.SOCORRO</td><td>5.69</td><td>1</td><td>Basic</td></tr><tr><td>PAULO AFONSO</td><td>BTN3</td><td>6.12</td><td>1</td><td>Basic</td></tr><tr><td>ITUMBIARA</td><td>ZONA RURAL</td><td>5.57</td><td>1</td><td>Basic</td></tr><tr><td>ITU</td><td>CENTRO</td><td>6.25</td><td>2</td><td>Basic</td></tr><tr><td>TERESINA</td><td>TRIUNFO</td><td>5.72</td><td>2</td><td>Basic</td></tr><tr><td>SOROCABA</td><td>JARDIM EMILIA</td><td>6.39</td><td>1</td><td>Basic</td></tr><tr><td>ARARANGUA</td><td>ALTO FELIZ</td><td>5.86</td><td>2</td><td>Basic</td></tr><tr><td>TERESINA</td><td>VERMELHA</td><td>6.06</td><td>3</td><td>Basic</td></tr><tr><td>BELO HORIZONTE</td><td>BARREIRO</td><td>5.89</td><td>1</td><td>Basic</td></tr><tr><td>MANAUS</td><td>ZUMBI DOS PALMARES</td><td>6.44</td><td>1</td><td>Basic</td></tr><tr><td>PORTO VELHO</td><td>IPASE NOVO</td><td>5.99</td><td>1</td><td>Basic</td></tr><tr><td>APARECIDA DE GOIANIA</td><td>FAZENDA SANTO ANTONIO</td><td>5.34</td><td>1</td><td>Basic</td></tr><tr><td>AMERICANA</td><td>JARDIM AMERICA</td><td>6.04</td><td>1</td><td>Basic</td></tr><tr><td>DUQUE DE CAXIAS</td><td>PILAR</td><td>6.59</td><td>1</td><td>Basic</td></tr><tr><td>PRESIDENTE PRUDENTE</td><td>JD. NOVO BONGIOVANI</td><td>6.03</td><td>1</td><td>Basic</td></tr><tr><td>PORTO VELHO</td><td>AGENOR DE CARVALHO</td><td>6.42</td><td>2</td><td>Basic</td></tr><tr><td>CAXIAS DO SUL</td><td>SAO LEOPOLDO</td><td>5.59</td><td>3</td><td>Basic</td></tr><tr><td>IJUI</td><td>CENTRO</td><td>6.22</td><td>3</td><td>Basic</td></tr><tr><td>SAO GABRIEL</td><td>ZONA SUL</td><td>6.19</td><td>1</td><td>Basic</td></tr><tr><td>VOLTA REDONDA</td><td>DOM BOSCO</td><td>5.79</td><td>1</td><td>Basic</td></tr><tr><td>CAMPOS DOS GOYTACAZES</td><td>PENHA</td><td>6.07</td><td>1</td><td>Basic</td></tr><tr><td>SAO JOAO DE MERITI</td><td>SAO JOAO DE MERITI</td><td>4.44</td><td>1</td><td>Basic</td></tr><tr><td>ABAETETUBA</td><td>SANTA ROSA</td><td>5.84</td><td>1</td><td>Basic</td></tr><tr><td>BRASILIA</td><td>CANDANGOLANDIA</td><td>6.15</td><td>1</td><td>Basic</td></tr><tr><td>GUAIBA</td><td>SANTA RITA</td><td>6.04</td><td>1</td><td>Basic</td></tr><tr><td>SINOP</td><td>SETOR COMERCIAL</td><td>6.41</td><td>2</td><td>Basic</td></tr><tr><td>GUARULHOS</td><td>JARDIM AERODROMO</td><td>5.79</td><td>1</td><td>Basic</td></tr><tr><td>PARINTINS</td><td>CONJUNTO VITÓRIA RÉGIA</td><td>6.89</td><td>1</td><td>Basic</td></tr><tr><td>VITORIA DE SANTO ANTAO</td><td>DIST IND PREF JOSE AUGUSTO  FERRER DE MORAIS</td><td>5.54</td><td>1</td><td>Basic</td></tr><tr><td>SAO JOSE DE RIBAMAR</td><td>VILA KIOLA</td><td>5.63</td><td>1</td><td>Basic</td></tr><tr><td>GUAIBA</td><td>BOM FIM</td><td>6.04</td><td>1</td><td>Basic</td></tr><tr><td>LORENA</td><td>VILA NUNES</td><td>5.69</td><td>1</td><td>Basic</td></tr><tr><td>ASSIS CHATEAUBRIAND</td><td>MINI PARQUE INDUSTRIAL</td><td>5.84</td><td>1</td><td>Basic</td></tr><tr><td>PAULISTA</td><td>VILA TORRES GALVAO</td><td>5.14</td><td>1</td><td>Basic</td></tr><tr><td>SAO GONCALO</td><td>RAUL VEIGA</td><td>4.26</td><td>1</td><td>Basic</td></tr><tr><td>ITATIBA</td><td>JARDIM DA LUZ</td><td>5.44</td><td>1</td><td>Basic</td></tr><tr><td>SERRINHA</td><td>CENTRO</td><td>5.63</td><td>3</td><td>Basic</td></tr><tr><td>JI-PARANA</td><td>CENTRO</td><td>7.09</td><td>2</td><td>Basic</td></tr><tr><td>RIO CLARO</td><td>DO ESTADIO</td><td>5.94</td><td>1</td><td>Basic</td></tr><tr><td>ALTAMIRA</td><td>JARDIM UIRAPURU</td><td>6.94</td><td>2</td><td>Basic</td></tr><tr><td>JOAO PESSOA</td><td>MANDACARU</td><td>5.33</td><td>1</td><td>Basic</td></tr><tr><td>PAULO AFONSO</td><td>CENTRO</td><td>5.91</td><td>1</td><td>Basic</td></tr><tr><td>ITAQUAQUECETUBA</td><td>VILA ZEFERINA</td><td>5.99</td><td>1</td><td>Basic</td></tr><tr><td>GUAIBA</td><td>COLUMBIA CITY</td><td>5.94</td><td>1</td><td>Basic</td></tr><tr><td>DRACENA</td><td>METROPOLE</td><td>5.94</td><td>1</td><td>Basic</td></tr><tr><td>PATOS DE MINAS</td><td>LAGOA GRANDE</td><td>5.74</td><td>2</td><td>Basic</td></tr><tr><td>RIBEIRAO PRETO</td><td>IPIRANGA</td><td>5.89</td><td>3</td><td>Basic</td></tr><tr><td>MARILIA</td><td>JARDIM HERMINIO F. POLON</td><td>6.59</td><td>1</td><td>Basic</td></tr><tr><td>FEIRA DE SANTANA</td><td>NOVO HORIZONTE</td><td>6.01</td><td>3</td><td>Basic</td></tr><tr><td>SAO PAULO</td><td>JARDIM DAS OLIVEIRAS</td><td>5.73</td><td>1</td><td>Basic</td></tr><tr><td>MORRINHOS</td><td>ZONA  RURAL</td><td>5.64</td><td>1</td><td>Basic</td></tr><tr><td>COLOMBO</td><td>VILA MARACANA</td><td>5.64</td><td>1</td><td>Basic</td></tr><tr><td>CRICIUMA</td><td>PINHEIRINHO</td><td>6.89</td><td>1</td><td>Basic</td></tr><tr><td>ARARAQUARA</td><td>CENTRO</td><td>5.67</td><td>3</td><td>Basic</td></tr><tr><td>SERRA TALHADA</td><td>CAGEP</td><td>5.97</td><td>1</td><td>Basic</td></tr><tr><td>ITABORAI</td><td>TRES PONTES</td><td>5.29</td><td>1</td><td>Basic</td></tr><tr><td>MOGI GUACU</td><td>DISTRITO INDUSTRIAL I</td><td>5.79</td><td>1</td><td>Basic</td></tr><tr><td>GUANAMBI</td><td>CENTRO</td><td>6.11</td><td>4</td><td>Basic</td></tr><tr><td>ARACATUBA</td><td>SAO JOAO</td><td>5.64</td><td>1</td><td>Basic</td></tr><tr><td>ARAXA</td><td>DOMINGOS ZEMA</td><td>5.81</td><td>1</td><td>Basic</td></tr><tr><td>ICO</td><td>CENTRO</td><td>6.20</td><td>5</td><td>Basic</td></tr><tr><td>BEBEDOURO</td><td>CENTRO</td><td>6.06</td><td>2</td><td>Basic</td></tr><tr><td>ATIBAIA</td><td>ALVINÓPOLIS</td><td>5.78</td><td>1</td><td>Basic</td></tr><tr><td>SALVADOR</td><td>NAZARE</td><td>6.29</td><td>2</td><td>Basic</td></tr><tr><td>RIO CLARO</td><td>JARDIM AMERICA</td><td>6.35</td><td>2</td><td>Basic</td></tr><tr><td>GOVERNADOR VALADARES</td><td>SANTOS DUMONT</td><td>5.91</td><td>1</td><td>Basic</td></tr><tr><td>ARACAJU</td><td>SOLEDADE</td><td>6.12</td><td>1</td><td>Basic</td></tr><tr><td>CANOAS</td><td>IGARA</td><td>5.84</td><td>4</td><td>Basic</td></tr><tr><td>BARRETOS</td><td>BARONI</td><td>5.87</td><td>1</td><td>Basic</td></tr><tr><td>SOROCABA</td><td>PARQUE VITORIA REGIA</td><td>5.57</td><td>1</td><td>Basic</td></tr><tr><td>VALENCA</td><td>CENTRO</td><td>6.05</td><td>4</td><td>Basic</td></tr><tr><td>BRUMADO</td><td>CENTRO</td><td>6.15</td><td>4</td><td>Basic</td></tr><tr><td>ITAPIPOCA</td><td>CRUZEIRO</td><td>6.58</td><td>2</td><td>Basic</td></tr><tr><td>MOGI MIRIM</td><td>TUCURA</td><td>6.14</td><td>2</td><td>Basic</td></tr><tr><td>SANTO ANGELO</td><td>HALLER</td><td>5.89</td><td>1</td><td>Basic</td></tr><tr><td>LIMOEIRO DO NORTE</td><td>SANTA LUZIA</td><td>5.99</td><td>1</td><td>Basic</td></tr><tr><td>CASTANHAL</td><td>CENTRO</td><td>5.79</td><td>2</td><td>Basic</td></tr><tr><td>EUNAPOLIS</td><td>ENCANTO DAS AGUAS</td><td>6.42</td><td>1</td><td>Basic</td></tr><tr><td>BETIM</td><td>SANTA CRUZ</td><td>5.84</td><td>1</td><td>Basic</td></tr><tr><td>RECIFE</td><td>ROSARINHO</td><td>5.79</td><td>1</td><td>Basic</td></tr><tr><td>SOROCABA</td><td>JARDIM SERIEMA</td><td>6.09</td><td>1</td><td>Basic</td></tr><tr><td>CAMPINAS</td><td>VILA PARAISO</td><td>5.59</td><td>1</td><td>Basic</td></tr><tr><td>CAMPINA GRANDE</td><td>JOSE PINHEIRO</td><td>5.82</td><td>1</td><td>Basic</td></tr><tr><td>JUIZ DE FORA</td><td>PASSOS</td><td>5.99</td><td>1</td><td>Basic</td></tr><tr><td>VARZEA GRANDE</td><td>JEANNE</td><td>5.88</td><td>1</td><td>Basic</td></tr><tr><td>TERESINA</td><td>MATINHA</td><td>5.92</td><td>1</td><td>Basic</td></tr><tr><td>RIO LARGO</td><td>MATA DO ROLO</td><td>5.41</td><td>2</td><td>Basic</td></tr><tr><td>JUIZ DE FORA</td><td>SAO PEDRO</td><td>5.68</td><td>2</td><td>Basic</td></tr><tr><td>SANTO ANDRE</td><td>VILA BASTOS</td><td>6.39</td><td>1</td><td>Basic</td></tr><tr><td>OURINHOS</td><td>CENTRO</td><td>5.69</td><td>2</td><td>Basic</td></tr><tr><td>SAO PAULO</td><td>ENGENHEIRO GOULART</td><td>5.59</td><td>1</td><td>Basic</td></tr><tr><td>NITEROI</td><td>INGA</td><td>5.79</td><td>1</td><td>Basic</td></tr><tr><td>CAUCAIA</td><td>CONJ MARECHAL RONDON</td><td>5.95</td><td>1</td><td>Basic</td></tr><tr><td>GUAXUPE</td><td>VILA MEZIARA</td><td>5.93</td><td>1</td><td>Basic</td></tr><tr><td>SAO LEOPOLDO</td><td>BAIRRO SO JOSE</td><td>5.74</td><td>1</td><td>Basic</td></tr><tr><td>BEBEDOURO</td><td>VILA MAJOR CICERO DE CARVALHO</td><td>5.99</td><td>1</td><td>Basic</td></tr><tr><td>CAMPINAS</td><td>JARDIM SANTA LUCIA</td><td>5.59</td><td>1</td><td>Basic</td></tr><tr><td>TIMOTEO</td><td>LIMOEIRO</td><td>5.64</td><td>1</td><td>Basic</td></tr><tr><td>IJUI</td><td>DISTRITO INDUSTRIAL</td><td>6.39</td><td>1</td><td>Basic</td></tr><tr><td>SAO CARLOS</td><td>VILA PRADO</td><td>5.46</td><td>1</td><td>Basic</td></tr><tr><td>MARILIA</td><td>JARDIM ESTORIL</td><td>6.09</td><td>1</td><td>Basic</td></tr><tr><td>IRECE</td><td>CENTRO</td><td>6.11</td><td>7</td><td>Basic</td></tr><tr><td>MANAUS</td><td>REDENÇÃO</td><td>6.29</td><td>1</td><td>Basic</td></tr><tr><td>CAMBE</td><td>JARDIM RIAN</td><td>5.99</td><td>1</td><td>Basic</td></tr><tr><td>ITAGUAI</td><td>CENTRO</td><td>5.40</td><td>1</td><td>Basic</td></tr><tr><td>TRES CORACOES</td><td>JARDIM SANTA TEREZA</td><td>6.59</td><td>1</td><td>Basic</td></tr><tr><td>GUARAPUAVA</td><td>CONRADINHO</td><td>5.72</td><td>2</td><td>Basic</td></tr><tr><td>LORENA</td><td>BAIRRO DA CRUZ</td><td>5.45</td><td>1</td><td>Basic</td></tr><tr><td>GUARULHOS</td><td>SÃO ROQUE</td><td>4.29</td><td>1</td><td>Basic</td></tr><tr><td>SAO LUIZ GONZAGA</td><td>MONSENHOR WOLSKI</td><td>6.14</td><td>2</td><td>Basic</td></tr><tr><td>CORONEL FABRICIANO</td><td>CALADINHO DE CIMA</td><td>5.69</td><td>1</td><td>Basic</td></tr><tr><td>CAMPO GRANDE</td><td>JARDIM MONTE ALEGRE</td><td>5.75</td><td>1</td><td>Basic</td></tr><tr><td>APUCARANA</td><td>JARDIM APUCARANA</td><td>6.24</td><td>1</td><td>Basic</td></tr><tr><td>GUAXUPE</td><td>VILA PROGRESSO</td><td>5.46</td><td>1</td><td>Basic</td></tr><tr><td>JOINVILLE</td><td>SANTO ANTONIO</td><td>5.42</td><td>1</td><td>Basic</td></tr><tr><td>SALGUEIRO</td><td>N S APARECIDA</td><td>5.57</td><td>1</td><td>Basic</td></tr><tr><td>ITAITUBA</td><td>SAO FRANCISCO</td><td>5.79</td><td>1</td><td>Basic</td></tr><tr><td>CURITIBA</td><td>ALTO DA XV</td><td>5.99</td><td>1</td><td>Basic</td></tr><tr><td>SAO JOSE DOS CAMPOS</td><td>JARDIM MORUMBI</td><td>5.59</td><td>1</td><td>Basic</td></tr><tr><td>POUSO ALEGRE</td><td>JARDIM YARA</td><td>5.71</td><td>1</td><td>Basic</td></tr><tr><td>AMERICANA</td><td>FAZENDA MACHADINHO</td><td>5.79</td><td>1</td><td>Basic</td></tr><tr><td>GOIANIA</td><td>SETOR BUENO</td><td>5.93</td><td>11</td><td>Premium</td></tr><tr><td>DOURADOS</td><td>CENTRO</td><td>6.06</td><td>2</td><td>Basic</td></tr><tr><td>UMUARAMA</td><td>CENTRO</td><td>5.85</td><td>2</td><td>Basic</td></tr><tr><td>LUZIANIA</td><td>PARQUE ESTRELA DALVA III</td><td>6.54</td><td>1</td><td>Basic</td></tr><tr><td>SAO PAULO</td><td>JARDIM JAPAO</td><td>6.17</td><td>1</td><td>Basic</td></tr><tr><td>ARAGUAINA</td><td>SETOR OESTE</td><td>5.29</td><td>1</td><td>Basic</td></tr><tr><td>NOVA IGUACU</td><td>VILA DE CAVA</td><td>6.35</td><td>1</td><td>Basic</td></tr><tr><td>UBERLANDIA</td><td>JARDIM FLORIDA</td><td>5.87</td><td>1</td><td>Basic</td></tr><tr><td>SAO PAULO</td><td>VILA QUILHERME</td><td>5.52</td><td>1</td><td>Basic</td></tr><tr><td>SAQUAREMA</td><td>SAO GERALDO ( BACAXA)</td><td>5.99</td><td>1</td><td>Basic</td></tr><tr><td>PATOS</td><td>MONTE CASTELO</td><td>5.84</td><td>1</td><td>Basic</td></tr><tr><td>SAO PAULO</td><td>JARDIM REGIS</td><td>5.39</td><td>1</td><td>Basic</td></tr><tr><td>SENHOR DO BONFIM</td><td>BR 407</td><td>5.85</td><td>2</td><td>Basic</td></tr><tr><td>LINS</td><td>JARDIM AMERICANO</td><td>5.64</td><td>1</td><td>Basic</td></tr><tr><td>CAMPOS DOS GOYTACAZES</td><td>DANANA</td><td>6.04</td><td>1</td><td>Basic</td></tr><tr><td>JUAZEIRO DO NORTE</td><td>SAO JOSE</td><td>5.96</td><td>1</td><td>Basic</td></tr><tr><td>ARACATUBA</td><td>JARDIM DO TREVO</td><td>5.46</td><td>1</td><td>Basic</td></tr><tr><td>ITAJUBA</td><td>SANTOS DUMONT</td><td>6.22</td><td>1</td><td>Basic</td></tr><tr><td>RIO LARGO</td><td>PREFEITO ANTONIO LINS DE SOUZA</td><td>5.23</td><td>2</td><td>Basic</td></tr><tr><td>GUARAPARI</td><td>MUQUICABA</td><td>6.13</td><td>1</td><td>Basic</td></tr><tr><td>MARILIA</td><td>JARDIM SANTA ANTONIETA</td><td>5.75</td><td>2</td><td>Basic</td></tr><tr><td>JI-PARANA</td><td>DOIS DE ABRIL</td><td>6.55</td><td>1</td><td>Basic</td></tr><tr><td>ATIBAIA</td><td>RIO ABAIXO</td><td>5.43</td><td>1</td><td>Basic</td></tr><tr><td>ITAITUBA</td><td>COMERCIO</td><td>5.78</td><td>1</td><td>Basic</td></tr><tr><td>CAUCAIA</td><td>MESTRE ANTONIO</td><td>5.69</td><td>1</td><td>Basic</td></tr><tr><td>VARZEA GRANDE</td><td>JARDIM COSTA VERDE</td><td>5.12</td><td>1</td><td>Basic</td></tr><tr><td>GOVERNADOR VALADARES</td><td>GRA DUQUESA</td><td>5.72</td><td>1</td><td>Basic</td></tr><tr><td>PETROPOLIS</td><td>QUISSAMA</td><td>5.79</td><td>1</td><td>Basic</td></tr><tr><td>BRAGANCA</td><td>TAIRA</td><td>6.08</td><td>1</td><td>Basic</td></tr><tr><td>JUIZ DE FORA</td><td>INDUSTRIAL</td><td>6.26</td><td>2</td><td>Basic</td></tr><tr><td>PIRACICABA</td><td>JD BELA VISTA</td><td>5.74</td><td>1</td><td>Basic</td></tr><tr><td>BELFORD ROXO</td><td>ROCHA SOBRINHO</td><td>5.34</td><td>1</td><td>Basic</td></tr><tr><td>PARNAIBA</td><td>FATIMA</td><td>6.19</td><td>1</td><td>Basic</td></tr><tr><td>PORTO SEGURO</td><td>MIRANTE CARAVELAS</td><td>6.84</td><td>1</td><td>Basic</td></tr><tr><td>SAO PAULO</td><td>PARQUE VITÓRIA</td><td>6.12</td><td>1</td><td>Basic</td></tr><tr><td>CIANORTE</td><td>CENTRO</td><td>6.12</td><td>1</td><td>Basic</td></tr><tr><td>JUNDIAI</td><td>VILA FORMOSA</td><td>5.89</td><td>1</td><td>Basic</td></tr><tr><td>NATAL</td><td>PAJUCARA</td><td>5.79</td><td>2</td><td>Basic</td></tr><tr><td>POCOS DE CALDAS</td><td>CASCATINHA</td><td>5.99</td><td>1</td><td>Basic</td></tr><tr><td>UBERLANDIA</td><td>TUBALINA-ST CAMPESTR</td><td>5.64</td><td>1</td><td>Basic</td></tr><tr><td>CAMPINAS</td><td>JARDIM DO LAGO CONTINUACAO</td><td>5.84</td><td>1</td><td>Basic</td></tr><tr><td>LINS</td><td>REBOUCAS</td><td>6.09</td><td>1</td><td>Basic</td></tr><tr><td>ARARANGUA</td><td>JARDIM DAS AVENIDAS</td><td>5.99</td><td>1</td><td>Basic</td></tr><tr><td>SAO JOSE DOS CAMPOS</td><td>CHACARAS REUNIDAS</td><td>6.25</td><td>1</td><td>Basic</td></tr><tr><td>SAO JOSE DO RIO PRETO</td><td>VILA ERCILIA</td><td>5.69</td><td>1</td><td>Basic</td></tr><tr><td>CACAPAVA</td><td>VL. ANDRE MARTINS</td><td>5.42</td><td>1</td><td>Basic</td></tr><tr><td>HORTOLANDIA</td><td>JARDIM AMANDA I</td><td>5.94</td><td>1</td><td>Basic</td></tr><tr><td>BELEM</td><td>TAPANA / ICOARACI</td><td>6.09</td><td>1</td><td>Basic</td></tr><tr><td>PRESIDENTE PRUDENTE</td><td>BOSQUE</td><td>5.97</td><td>1</td><td>Basic</td></tr><tr><td>CAMPOS DOS GOYTACAZES</td><td>PQ SANTO AMARO</td><td>5.84</td><td>1</td><td>Basic</td></tr><tr><td>OSASCO</td><td>JARDIM OSASCO</td><td>5.89</td><td>1</td><td>Basic</td></tr><tr><td>GURUPI</td><td>LOTEAMENTO NOSSA SENHORA D' ABADIA 2 ETAPA</td><td>5.84</td><td>1</td><td>Basic</td></tr><tr><td>PORTO VELHO</td><td>COHAB</td><td>6.19</td><td>1</td><td>Basic</td></tr><tr><td>HORTOLANDIA</td><td>LOTEAMENTO REMANSO CAMPINEIRO</td><td>6.24</td><td>1</td><td>Basic</td></tr><tr><td>CAMBE</td><td>RESIDENCIAL PARQUE MANELLA</td><td>7.16</td><td>1</td><td>Basic</td></tr><tr><td>GOIANIA</td><td>JARDIM PLANALTO</td><td>5.98</td><td>1</td><td>Basic</td></tr><tr><td>LIMEIRA</td><td>DO FERRAO</td><td>6.46</td><td>1</td><td>Basic</td></tr><tr><td>JUIZ DE FORA</td><td>DEMOCRATA</td><td>5.64</td><td>1</td><td>Basic</td></tr><tr><td>CASCAVEL</td><td>BR 277</td><td>5.79</td><td>1</td><td>Basic</td></tr><tr><td>CONTAGEM</td><td>RIACHO DAS PEDRAS</td><td>5.69</td><td>1</td><td>Basic</td></tr><tr><td>VARZEA PAULISTA</td><td>CENTRO</td><td>5.93</td><td>2</td><td>Basic</td></tr><tr><td>MOGI DAS CRUZES</td><td>JUNDIAPEBA</td><td>5.93</td><td>3</td><td>Basic</td></tr><tr><td>SAO JOAO DEL REI</td><td>COLONIA DO MARCAL</td><td>5.78</td><td>3</td><td>Basic</td></tr><tr><td>CAMBE</td><td>CENTRO</td><td>5.89</td><td>2</td><td>Basic</td></tr><tr><td>SANTA CRUZ DO SUL</td><td>DISTRITO INDUSTRIAL</td><td>6.09</td><td>1</td><td>Basic</td></tr><tr><td>GUARULHOS</td><td>JARDIM IPANEMA</td><td>5.97</td><td>1</td><td>Basic</td></tr><tr><td>SOROCABA</td><td>PINHEIROS</td><td>6.49</td><td>1</td><td>Basic</td></tr><tr><td>HORTOLANDIA</td><td>JARDIM SAO BENTO</td><td>5.54</td><td>1</td><td>Basic</td></tr><tr><td>BEBEDOURO</td><td>RESIDENCIAL SAN CONRADO</td><td>5.65</td><td>1</td><td>Basic</td></tr><tr><td>PORTO ALEGRE</td><td>AGRONOMIA</td><td>5.69</td><td>1</td><td>Basic</td></tr><tr><td>CONTAGEM</td><td>VILA MAGDALENA</td><td>5.63</td><td>1</td><td>Basic</td></tr><tr><td>JI-PARANA</td><td>JOTAO</td><td>6.49</td><td>1</td><td>Basic</td></tr><tr><td>MARICA</td><td>AREA DE TERRA INOA</td><td>5.69</td><td>1</td><td>Basic</td></tr><tr><td>JANUARIA</td><td>SAO VICENTE</td><td>5.96</td><td>1</td><td>Basic</td></tr><tr><td>NOVA FRIBURGO</td><td>DUAS PEDRAS</td><td>5.76</td><td>2</td><td>Basic</td></tr><tr><td>PARAGUACU PAULISTA</td><td>DISTRITO INDUSTRIAL</td><td>5.72</td><td>1</td><td>Basic</td></tr><tr><td>VACARIA</td><td>NOSSA SENHORA DE FATIMA</td><td>6.09</td><td>1</td><td>Basic</td></tr><tr><td>UBERABA</td><td>LEBLON</td><td>5.74</td><td>1</td><td>Basic</td></tr><tr><td>CACOAL</td><td>NOVO HORIZONTE</td><td>6.22</td><td>1</td><td>Basic</td></tr><tr><td>SAO PAULO</td><td>VILA RE</td><td>5.99</td><td>1</td><td>Basic</td></tr><tr><td>LAGARTO</td><td>ZONA DE EXPANSAO E-4</td><td>5.78</td><td>1</td><td>Basic</td></tr><tr><td>TABOAO DA SERRA</td><td>PQ.IND.DAS OLIVEIRAS</td><td>5.89</td><td>1</td><td>Basic</td></tr><tr><td>CAXIAS DO SUL</td><td>CINQUENTENARIO</td><td>5.39</td><td>2</td><td>Basic</td></tr><tr><td>AMERICANA</td><td>N SRA FATIMA</td><td>5.60</td><td>1</td><td>Basic</td></tr><tr><td>CONTAGEM</td><td>JARDIM INDUSTRIAL</td><td>5.36</td><td>2</td><td>Basic</td></tr><tr><td>MAGE</td><td>VILA RECREIO (VILA INHOMIRIM)</td><td>5.80</td><td>1</td><td>Basic</td></tr><tr><td>TRES RIOS</td><td>MONTE CASTELO</td><td>5.94</td><td>1</td><td>Basic</td></tr><tr><td>SORRISO</td><td>CENTRO</td><td>6.54</td><td>2</td><td>Basic</td></tr><tr><td>LIMEIRA</td><td>JARDIM NOVA EUROPA</td><td>5.79</td><td>1</td><td>Basic</td></tr><tr><td>GARANHUNS</td><td>SANTO ANTÔNIO</td><td>5.65</td><td>1</td><td>Basic</td></tr><tr><td>FRANCISCO BELTRAO</td><td>SAO CRISTOVAO</td><td>6.20</td><td>1</td><td>Basic</td></tr><tr><td>UBERLANDIA</td><td>REZENDE</td><td>5.74</td><td>1</td><td>Basic</td></tr><tr><td>LIMEIRA</td><td>GRAMINHA</td><td>5.50</td><td>1</td><td>Basic</td></tr><tr><td>POCOES</td><td>SEDE</td><td>5.49</td><td>1</td><td>Basic</td></tr><tr><td>VACARIA</td><td>RODOVIA</td><td>6.03</td><td>1</td><td>Basic</td></tr><tr><td>COLOMBO</td><td>CANGUIRI</td><td>5.79</td><td>1</td><td>Basic</td></tr><tr><td>GURUPI</td><td>VILA PEDROSO</td><td>5.87</td><td>1</td><td>Basic</td></tr><tr><td>CONTAGEM</td><td>CIDADE INDUSTRIAL</td><td>5.75</td><td>1</td><td>Basic</td></tr><tr><td>RIO DE JANEIRO</td><td>LARANJEIRAS</td><td>4.69</td><td>1</td><td>Basic</td></tr><tr><td>SAO PAULO</td><td>BUTANTÃ</td><td>6.79</td><td>1</td><td>Basic</td></tr><tr><td>SAO PAULO</td><td>VILA NOSSA SENHORA APARECIDA</td><td>5.99</td><td>1</td><td>Basic</td></tr><tr><td>CRICIUMA</td><td>RECANTO VERDE</td><td>5.58</td><td>1</td><td>Basic</td></tr><tr><td>JOINVILLE</td><td>JARIVATUBA</td><td>6.17</td><td>1</td><td>Basic</td></tr><tr><td>CACHOEIRO DE ITAPEMIRIM</td><td>CAICARA</td><td>6.05</td><td>1</td><td>Basic</td></tr><tr><td>CURITIBA</td><td>ALTO DA RUA XV</td><td>5.83</td><td>2</td><td>Basic</td></tr><tr><td>SAO JOSE DO RIO PRETO</td><td>VILA MACENO</td><td>5.67</td><td>2</td><td>Basic</td></tr><tr><td>BOTUCATU</td><td>JARDIM EVELYN</td><td>6.01</td><td>1</td><td>Basic</td></tr><tr><td>ARARAS</td><td>VILA PASTORELLO</td><td>5.87</td><td>1</td><td>Basic</td></tr><tr><td>SANTA CRUZ DO CAPIBARIBE</td><td>CRUZ ALTA</td><td>5.86</td><td>1</td><td>Basic</td></tr><tr><td>SORRISO</td><td>MORADA DO SOL</td><td>6.62</td><td>1</td><td>Basic</td></tr><tr><td>ALAGOINHAS</td><td>PRACA KENNEDY</td><td>5.93</td><td>1</td><td>Basic</td></tr><tr><td>BOA VISTA</td><td>CIDADE SATELITE</td><td>6.43</td><td>1</td><td>Basic</td></tr><tr><td>ARAXA</td><td>NOVO SAO GERALDO</td><td>5.87</td><td>1</td><td>Basic</td></tr><tr><td>SAO JOSE DE RIBAMAR</td><td>ARACACY</td><td>5.59</td><td>1</td><td>Basic</td></tr><tr><td>PARAGOMINAS</td><td>MODULO II</td><td>5.82</td><td>1</td><td>Basic</td></tr><tr><td>CAMPO GRANDE</td><td>JARDIM JOQUEI CLUB</td><td>5.99</td><td>1</td><td>Basic</td></tr><tr><td>PALMEIRA DOS INDIOS</td><td>SAO CRISTOVAO</td><td>6.29</td><td>1</td><td>Basic</td></tr><tr><td>JOINVILLE</td><td>DISTRITO PIRABEIRABA</td><td>5.99</td><td>1</td><td>Basic</td></tr><tr><td>RIO CLARO</td><td>JARDIM CLARET</td><td>5.79</td><td>1</td><td>Basic</td></tr><tr><td>LAGUNA</td><td>MAR GROSSO</td><td>6.76</td><td>1</td><td>Basic</td></tr><tr><td>PELOTAS</td><td>TERRAS ALTAS</td><td>6.14</td><td>1</td><td>Basic</td></tr><tr><td>PARANAGUA</td><td>PIXIRICA</td><td>6.12</td><td>1</td><td>Basic</td></tr><tr><td>OSORIO</td><td>CENTRO</td><td>5.77</td><td>5</td><td>Basic</td></tr><tr><td>MACEIO</td><td>FEITOSA</td><td>5.59</td><td>1</td><td>Basic</td></tr><tr><td>SANTOS</td><td>CENTRO</td><td>5.57</td><td>1</td><td>Basic</td></tr><tr><td>LIMOEIRO DO NORTE</td><td>BROTOLANDIA</td><td>6.29</td><td>1</td><td>Basic</td></tr><tr><td>MIRASSOL</td><td>RESIDENCIAL CELINA DALUL</td><td>5.94</td><td>1</td><td>Basic</td></tr><tr><td>SANTAREM</td><td>FLORESTA</td><td>6.33</td><td>2</td><td>Basic</td></tr><tr><td>JALES</td><td>JARDIM ANA CRISTINA</td><td>5.77</td><td>1</td><td>Basic</td></tr><tr><td>SETE LAGOAS</td><td>CANAA</td><td>5.79</td><td>1</td><td>Basic</td></tr><tr><td>GOIANIA</td><td>PARQUE ANHANGUERA</td><td>5.99</td><td>1</td><td>Basic</td></tr><tr><td>IGARASSU</td><td>CRUZ DE REBOUCAS</td><td>5.27</td><td>3</td><td>Basic</td></tr><tr><td>PIRACICABA</td><td>UNILESTE</td><td>5.81</td><td>1</td><td>Basic</td></tr><tr><td>SAO PAULO</td><td>CENTRO</td><td>7.79</td><td>1</td><td>Basic</td></tr><tr><td>SAO PAULO</td><td>CAPAO REDONDO</td><td>6.04</td><td>2</td><td>Basic</td></tr><tr><td>AMPARO</td><td>CENTRO</td><td>6.10</td><td>4</td><td>Basic</td></tr><tr><td>CACHOEIRO DE ITAPEMIRIM</td><td>ELPIDIO VOLPINI</td><td>5.78</td><td>2</td><td>Basic</td></tr><tr><td>TERESINA</td><td>GURUPI</td><td>5.88</td><td>1</td><td>Basic</td></tr><tr><td>BELFORD ROXO</td><td>BARRO VERMELHO</td><td>6.11</td><td>1</td><td>Basic</td></tr><tr><td>CARIACICA</td><td>JARDIM AMERICA</td><td>5.41</td><td>3</td><td>Basic</td></tr><tr><td>ARAPONGAS</td><td>CENTRO</td><td>5.83</td><td>6</td><td>Basic</td></tr><tr><td>SAO GONCALO</td><td>MUTUA</td><td>5.21</td><td>1</td><td>Basic</td></tr><tr><td>CARUARU</td><td>CAIUCA</td><td>5.59</td><td>2</td><td>Basic</td></tr><tr><td>PRAIA GRANDE</td><td>BOQUEIRAO</td><td>6.19</td><td>2</td><td>Basic</td></tr><tr><td>BOTUCATU</td><td>JARDIM PARAISO</td><td>6.14</td><td>2</td><td>Basic</td></tr><tr><td>ARAGUAINA</td><td>JARDIM ITATIAIA</td><td>6.10</td><td>1</td><td>Basic</td></tr><tr><td>FRANCISCO BELTRAO</td><td>CENTRO</td><td>5.80</td><td>1</td><td>Basic</td></tr><tr><td>NITEROI</td><td>VARZEA DAS MOCAS</td><td>5.69</td><td>1</td><td>Basic</td></tr><tr><td>SAO BERNARDO DO CAMPO</td><td>RUDGE RAMOS</td><td>5.59</td><td>1</td><td>Basic</td></tr><tr><td>NOVA IGUACU</td><td>JARDIM ESPLANADA</td><td>5.34</td><td>1</td><td>Basic</td></tr><tr><td>SAO PAULO</td><td>PRQ JABAQUARA</td><td>5.89</td><td>1</td><td>Basic</td></tr><tr><td>VITORIA DA CONQUISTA</td><td>JUREMA</td><td>5.85</td><td>1</td><td>Basic</td></tr><tr><td>ARARAS</td><td>BOA VISTA</td><td>5.57</td><td>1</td><td>Basic</td></tr><tr><td>PORANGATU</td><td>VILA CAVALCANTE</td><td>5.79</td><td>1</td><td>Basic</td></tr><tr><td>DIVINOPOLIS</td><td>SANTA TEREZA</td><td>6.27</td><td>1</td><td>Basic</td></tr><tr><td>BARRA MANSA</td><td>BOA SORTE</td><td>5.99</td><td>1</td><td>Basic</td></tr><tr><td>VARGINHA</td><td>CENTRO</td><td>5.85</td><td>1</td><td>Basic</td></tr><tr><td>MANAUS</td><td>TARUMA-ACU</td><td>6.29</td><td>1</td><td>Basic</td></tr><tr><td>FORTALEZA</td><td>BOM SUCESSO</td><td>5.89</td><td>1</td><td>Basic</td></tr><tr><td>NATAL</td><td>PLANALTO</td><td>6.39</td><td>1</td><td>Basic</td></tr><tr><td>SOBRAL</td><td>CAMPOS DOS VELHOS</td><td>6.19</td><td>1</td><td>Basic</td></tr><tr><td>SANTANA DO LIVRAMENTO</td><td>CENTRO</td><td>6.40</td><td>5</td><td>Basic</td></tr><tr><td>CABO FRIO</td><td>BRAGA</td><td>5.28</td><td>1</td><td>Basic</td></tr><tr><td>TABOAO DA SERRA</td><td>PQ PINHEIROS</td><td>5.58</td><td>1</td><td>Basic</td></tr><tr><td>VITORIA DE SANTO ANTAO</td><td>REDENCAO</td><td>5.57</td><td>4</td><td>Basic</td></tr><tr><td>BOA VISTA</td><td>SAO FRANCISCO</td><td>6.43</td><td>3</td><td>Basic</td></tr><tr><td>LINHARES</td><td>LAGOA DO MEIO</td><td>5.89</td><td>1</td><td>Basic</td></tr><tr><td>RIO VERDE</td><td>GAMELEIRA</td><td>5.72</td><td>1</td><td>Basic</td></tr><tr><td>BELEM</td><td>UMARIZAL</td><td>6.99</td><td>1</td><td>Basic</td></tr><tr><td>UBERLANDIA</td><td>TAIAMAN</td><td>5.49</td><td>1</td><td>Basic</td></tr><tr><td>GUARULHOS</td><td>VILA AEROPORTO</td><td>5.98</td><td>1</td><td>Basic</td></tr><tr><td>MOCOCA</td><td>CONJUNTO HABITACIONAL GILBERTO ROSSETTI</td><td>5.36</td><td>1</td><td>Basic</td></tr><tr><td>PARA DE MINAS</td><td>DONA TUNICA</td><td>5.74</td><td>1</td><td>Basic</td></tr><tr><td>AMERICANA</td><td>SAO VITO</td><td>5.59</td><td>1</td><td>Basic</td></tr><tr><td>FORTALEZA</td><td>ITAPERI</td><td>5.46</td><td>2</td><td>Basic</td></tr><tr><td>SAO JOSE DOS CAMPOS</td><td>JD. SAO DIMAS</td><td>4.49</td><td>1</td><td>Basic</td></tr><tr><td>SAO PAULO</td><td>JARDIM CABORE</td><td>5.59</td><td>1</td><td>Basic</td></tr><tr><td>RESENDE</td><td>JARDIM JALISCO</td><td>5.44</td><td>1</td><td>Basic</td></tr><tr><td>SANTA MARIA</td><td>NOSSA SENHORA DO ROSARIO</td><td>6.09</td><td>1</td><td>Basic</td></tr><tr><td>BOM DESPACHO</td><td>SAO JOAO</td><td>5.84</td><td>1</td><td>Basic</td></tr><tr><td>LORENA</td><td>VILA HEPACARE</td><td>5.55</td><td>1</td><td>Basic</td></tr><tr><td>SAO CARLOS</td><td>CENTRO</td><td>6.49</td><td>1</td><td>Basic</td></tr><tr><td>SANTA MARIA</td><td>NOSSA SENHORA DE FATIMA</td><td>5.99</td><td>1</td><td>Basic</td></tr><tr><td>MAGE</td><td>PIABETA (VILA INHOMIRIM)</td><td>6.04</td><td>1</td><td>Basic</td></tr><tr><td>PASSO FUNDO</td><td>SAO JOSE</td><td>5.75</td><td>2</td><td>Basic</td></tr><tr><td>JUIZ DE FORA</td><td>MARIANO PROCOPIO</td><td>5.57</td><td>3</td><td>Basic</td></tr><tr><td>SAO CAETANO DO SUL</td><td>FUNDACAO</td><td>5.49</td><td>1</td><td>Basic</td></tr><tr><td>CORNELIO PROCOPIO</td><td>VILA GALEANO</td><td>5.69</td><td>1</td><td>Basic</td></tr><tr><td>VARGINHA</td><td>BOM PASTOR/VL PINTO</td><td>5.55</td><td>1</td><td>Basic</td></tr><tr><td>CABO FRIO</td><td>JARDIM OLINDA</td><td>5.84</td><td>1</td><td>Basic</td></tr><tr><td>CAMPINAS</td><td>JD DOM BOSCO</td><td>5.89</td><td>1</td><td>Basic</td></tr><tr><td>SAO JOSE DOS PINHAIS</td><td>SAO CRISTOVAO</td><td>5.89</td><td>1</td><td>Basic</td></tr><tr><td>SAO JOSE</td><td>COLONIA SANTANA</td><td>5.99</td><td>1</td><td>Basic</td></tr><tr><td>GOIATUBA</td><td>POVOADO SERRINHA</td><td>6.27</td><td>1</td><td>Basic</td></tr><tr><td>ARAGUARI</td><td>SUBURBIO</td><td>5.53</td><td>1</td><td>Basic</td></tr><tr><td>SAO PAULO</td><td>JD DONA SINHA</td><td>5.69</td><td>1</td><td>Basic</td></tr><tr><td>JI-PARANA</td><td>CASA PRETA</td><td>7.37</td><td>1</td><td>Basic</td></tr><tr><td>ARAGUARI</td><td>SAO LUIZ</td><td>5.77</td><td>1</td><td>Basic</td></tr><tr><td>BRASILIA</td><td>TAGUATINGA</td><td>5.75</td><td>6</td><td>Basic</td></tr><tr><td>SETE LAGOAS</td><td>NOSSA SRA DAS GRACAS</td><td>5.49</td><td>1</td><td>Basic</td></tr><tr><td>RIBEIRAO PIRES</td><td>CENTRO</td><td>5.97</td><td>3</td><td>Basic</td></tr><tr><td>SAO JOSE</td><td>IPIRANGA</td><td>5.89</td><td>1</td><td>Basic</td></tr><tr><td>NATAL</td><td>TIROL</td><td>5.73</td><td>3</td><td>Basic</td></tr><tr><td>POCOS DE CALDAS</td><td>CENTRO</td><td>5.78</td><td>2</td><td>Basic</td></tr><tr><td>BARUERI</td><td>CENTRO</td><td>6.12</td><td>2</td><td>Basic</td></tr><tr><td>CARIACICA</td><td>VASCO DA GAMA</td><td>5.84</td><td>1</td><td>Basic</td></tr><tr><td>RIO DE JANEIRO</td><td>BONSUCESSO</td><td>5.39</td><td>2</td><td>Basic</td></tr><tr><td>ARIQUEMES</td><td>SETOR DE GRANDES AREAS</td><td>6.07</td><td>1</td><td>Basic</td></tr><tr><td>ATIBAIA</td><td>RECREIO ESTORIL</td><td>6.04</td><td>1</td><td>Basic</td></tr><tr><td>CURITIBA</td><td>ÁGUA VERDE</td><td>5.99</td><td>1</td><td>Basic</td></tr><tr><td>SAO PAULO</td><td>SAO MIGUEL PAULISTA</td><td>5.89</td><td>3</td><td>Basic</td></tr><tr><td>BOA VISTA</td><td>JARDIM FLORESTA</td><td>6.37</td><td>1</td><td>Basic</td></tr><tr><td>MARACANAU</td><td>CENTRO</td><td>5.49</td><td>1</td><td>Basic</td></tr><tr><td>SAO PAULO</td><td>PARQUE MARIA LUIZA</td><td>6.19</td><td>1</td><td>Basic</td></tr><tr><td>ERECHIM</td><td>AEROPORTO</td><td>6.07</td><td>1</td><td>Basic</td></tr><tr><td>INDAIATUBA</td><td>BOM PRINCIPIO</td><td>6.09</td><td>1</td><td>Basic</td></tr><tr><td>CAXIAS DO SUL</td><td>BELA VISTA</td><td>6.04</td><td>1</td><td>Basic</td></tr><tr><td>PRAIA GRANDE</td><td>SITIO DO CAMPO</td><td>6.27</td><td>1</td><td>Basic</td></tr><tr><td>JUNDIAI</td><td>DO POSTE</td><td>5.75</td><td>1</td><td>Basic</td></tr><tr><td>MANAUS</td><td>SAO JOSE OPERARIO</td><td>6.29</td><td>1</td><td>Basic</td></tr><tr><td>MARINGA</td><td>JARDIM LIBERDADE</td><td>6.09</td><td>1</td><td>Basic</td></tr><tr><td>LAVRAS</td><td>JARDIM GLORIA</td><td>5.99</td><td>1</td><td>Basic</td></tr><tr><td>CAMPO GRANDE</td><td>JARDIM AERO RANCHO</td><td>5.69</td><td>1</td><td>Basic</td></tr><tr><td>PIRACICABA</td><td>HIGIENOPOLIS</td><td>5.71</td><td>3</td><td>Basic</td></tr><tr><td>GUARUJA</td><td>CENTRO</td><td>6.77</td><td>3</td><td>Basic</td></tr><tr><td>TIMOTEO</td><td>PRIMAVERA</td><td>5.59</td><td>1</td><td>Basic</td></tr><tr><td>SINOP</td><td>BAIRRO DE CHACARAS SINOP</td><td>5.77</td><td>1</td><td>Basic</td></tr><tr><td>ITAPIRA</td><td>CUBATAO</td><td>5.53</td><td>1</td><td>Basic</td></tr><tr><td>DUQUE DE CAXIAS</td><td>VILA BEIRA SERRA</td><td>6.02</td><td>1</td><td>Basic</td></tr><tr><td>HORTOLANDIA</td><td>JARDIM AMANDA</td><td>5.80</td><td>3</td><td>Basic</td></tr><tr><td>ARAUCARIA</td><td>CENTRO</td><td>6.17</td><td>3</td><td>Basic</td></tr><tr><td>SERRA TALHADA</td><td>SAO CRISTOVAO</td><td>6.15</td><td>3</td><td>Basic</td></tr><tr><td>SAO PAULO</td><td>VILA NHOCUNE</td><td>6.09</td><td>2</td><td>Basic</td></tr><tr><td>ILHEUS</td><td>JARDIM SAVOIA</td><td>6.67</td><td>1</td><td>Basic</td></tr><tr><td>COLATINA</td><td>SAO SILVANO</td><td>5.94</td><td>1</td><td>Basic</td></tr><tr><td>VOTORANTIM</td><td>JARDIM SAO LUIZ</td><td>6.15</td><td>1</td><td>Basic</td></tr><tr><td>ITUMBIARA</td><td>AFONSO PENA</td><td>5.74</td><td>1</td><td>Basic</td></tr><tr><td>SAO JOAO DE MERITI</td><td>CENTRO</td><td>5.41</td><td>3</td><td>Basic</td></tr><tr><td>BELO HORIZONTE</td><td>SANTA CRUZ</td><td>5.79</td><td>1</td><td>Basic</td></tr><tr><td>SAO LUIS</td><td>OLHO D`AGUA</td><td>5.59</td><td>1</td><td>Basic</td></tr><tr><td>TUBARAO</td><td>MORROTES</td><td>6.07</td><td>1</td><td>Basic</td></tr><tr><td>CAMPO MOURAO</td><td>JD NOSSA SENHORA APARECIDA</td><td>5.45</td><td>1</td><td>Basic</td></tr><tr><td>SERTAOZINHO</td><td>CENTRO</td><td>5.79</td><td>5</td><td>Basic</td></tr><tr><td>GOIANA</td><td>CENTRO</td><td>5.38</td><td>6</td><td>Basic</td></tr><tr><td>NATAL</td><td>CIDADE DA ESPERANCA</td><td>5.98</td><td>1</td><td>Basic</td></tr><tr><td>ALAGOINHAS</td><td>CENTRO</td><td>5.16</td><td>1</td><td>Basic</td></tr><tr><td>ICO</td><td>ALTO DOS BASTOS</td><td>6.19</td><td>1</td><td>Basic</td></tr><tr><td>BARRETOS</td><td>AMERICA</td><td>6.30</td><td>3</td><td>Basic</td></tr><tr><td>SAO PAULO</td><td>PARQUE IPE</td><td>5.69</td><td>1</td><td>Basic</td></tr><tr><td>CAXIAS DO SUL</td><td>DESVIO RIZZO</td><td>6.09</td><td>2</td><td>Basic</td></tr><tr><td>BARREIRAS</td><td>VILA RICA</td><td>6.49</td><td>1</td><td>Basic</td></tr><tr><td>SAO JOSE DOS PINHAIS</td><td>CIDADE JARDIM</td><td>4.99</td><td>1</td><td>Basic</td></tr><tr><td>GUARUJA</td><td>SITIO DA GLORIA</td><td>5.79</td><td>1</td><td>Basic</td></tr><tr><td>VACARIA</td><td>JARDIM DOS PAMPAS</td><td>6.01</td><td>1</td><td>Basic</td></tr><tr><td>BIRIGUI</td><td>VILA ISABEL MARIN</td><td>6.14</td><td>1</td><td>Basic</td></tr><tr><td>SAO PAULO</td><td>VILA ARICANDUVA</td><td>5.58</td><td>1</td><td>Basic</td></tr><tr><td>BRASILIA</td><td>ASA SUL</td><td>5.89</td><td>1</td><td>Basic</td></tr><tr><td>ARIQUEMES</td><td>MARECHAL RONDON 01</td><td>6.07</td><td>1</td><td>Basic</td></tr><tr><td>ARARIPINA</td><td>VILA SANTA MARIA</td><td>5.99</td><td>1</td><td>Basic</td></tr><tr><td>ITUIUTABA</td><td>SAO JOSE</td><td>6.74</td><td>1</td><td>Basic</td></tr><tr><td>COTIA</td><td>GRANJA VIANA</td><td>5.92</td><td>2</td><td>Basic</td></tr><tr><td>SANTO ANGELO</td><td>CENTRO</td><td>6.32</td><td>5</td><td>Basic</td></tr><tr><td>ITAPETININGA</td><td>VILA NOVA ITAPETININGA</td><td>6.69</td><td>1</td><td>Basic</td></tr><tr><td>ARIQUEMES</td><td>AREAS ESPECIAIS</td><td>6.16</td><td>1</td><td>Basic</td></tr><tr><td>MANAUS</td><td>TARUMA</td><td>6.29</td><td>1</td><td>Basic</td></tr><tr><td>BARREIRAS</td><td>OURO BRANCO</td><td>6.16</td><td>1</td><td>Basic</td></tr><tr><td>UMUARAMA</td><td>PARQUE INDUSTRIAL I</td><td>5.73</td><td>2</td><td>Basic</td></tr><tr><td>ITAQUAQUECETUBA</td><td>JD NSA SRA D'AJUDA</td><td>5.95</td><td>1</td><td>Basic</td></tr><tr><td>CACHOEIRO DE ITAPEMIRIM</td><td>CORONEL BORGES</td><td>5.97</td><td>1</td><td>Basic</td></tr><tr><td>SAO PAULO</td><td>VILA MIRANTE</td><td>5.49</td><td>1</td><td>Basic</td></tr><tr><td>SAQUAREMA</td><td>BACAXÁ</td><td>6.19</td><td>1</td><td>Basic</td></tr><tr><td>SAO CARLOS</td><td>JARDIM GUANABARA</td><td>5.79</td><td>1</td><td>Basic</td></tr><tr><td>INDAIATUBA</td><td>JARDIM JULIANA</td><td>5.39</td><td>1</td><td>Basic</td></tr><tr><td>PASSOS</td><td>JARDIM COLEGIO DE PASSOS</td><td>5.54</td><td>2</td><td>Basic</td></tr><tr><td>ARAGUARI</td><td>CENTRO</td><td>5.74</td><td>2</td><td>Basic</td></tr><tr><td>MOGI DAS CRUZES</td><td>VL. BERNADOTTI</td><td>5.48</td><td>1</td><td>Basic</td></tr><tr><td>RIO DE JANEIRO</td><td>VASCO DA GAMA</td><td>5.43</td><td>1</td><td>Basic</td></tr><tr><td>CARIACICA</td><td>VILA CAPIXABA</td><td>5.99</td><td>1</td><td>Basic</td></tr><tr><td>ITAPIPOCA</td><td>CRUXATI</td><td>6.44</td><td>1</td><td>Basic</td></tr><tr><td>PIMENTA BUENO</td><td>BEIRA RIO</td><td>6.03</td><td>1</td><td>Basic</td></tr><tr><td>NOVA IGUACU</td><td>AUSTIN</td><td>5.41</td><td>1</td><td>Basic</td></tr><tr><td>BELEM</td><td>MARCO</td><td>6.17</td><td>3</td><td>Basic</td></tr><tr><td>PICOS</td><td>BELO NORTE</td><td>5.91</td><td>1</td><td>Basic</td></tr><tr><td>SAO PAULO</td><td>PQ. ANHANGUERA</td><td>5.39</td><td>1</td><td>Basic</td></tr><tr><td>ARAXA</td><td>BOM JESUS</td><td>6.12</td><td>1</td><td>Basic</td></tr><tr><td>PIRASSUNUNGA</td><td>CENTRO</td><td>5.91</td><td>4</td><td>Basic</td></tr><tr><td>SAO PAULO</td><td>JARDIM DAS PALMAS</td><td>6.48</td><td>1</td><td>Basic</td></tr><tr><td>JATAI</td><td>SETOR CENTRAL - PARTE BAIXA</td><td>5.69</td><td>1</td><td>Basic</td></tr><tr><td>VALINHOS</td><td>VILA OLIVO</td><td>5.79</td><td>1</td><td>Basic</td></tr><tr><td>TRES RIOS</td><td>NOVA NITEROI</td><td>5.74</td><td>1</td><td>Basic</td></tr><tr><td>OSASCO</td><td>VILA MENCK</td><td>5.99</td><td>1</td><td>Basic</td></tr><tr><td>SANTA CRUZ DO SUL</td><td>VILA SCHULZ</td><td>5.89</td><td>1</td><td>Basic</td></tr><tr><td>SERTAOZINHO</td><td>JD LIBERDADE</td><td>5.74</td><td>1</td><td>Basic</td></tr><tr><td>CALDAS NOVAS</td><td>ESTANCIA ITAGUAI</td><td>5.69</td><td>1</td><td>Basic</td></tr><tr><td>JABOTICABAL</td><td>NOVA JABOTICABAL</td><td>6.29</td><td>1</td><td>Basic</td></tr><tr><td>JOINVILLE</td><td>DISTRITO INDUSTRIAL</td><td>5.86</td><td>1</td><td>Basic</td></tr><tr><td>MAUA</td><td>VILA NOEMIA</td><td>6.08</td><td>1</td><td>Basic</td></tr><tr><td>PATOS DE MINAS</td><td>DISTRITO INDUSTRIAL II</td><td>5.89</td><td>1</td><td>Basic</td></tr><tr><td>LAGUNA</td><td>PORTINHO</td><td>5.97</td><td>1</td><td>Basic</td></tr><tr><td>BRAGANCA PAULISTA</td><td>MATADOURO</td><td>6.67</td><td>2</td><td>Basic</td></tr><tr><td>NATAL</td><td>PAJUÇARA</td><td>5.99</td><td>1</td><td>Basic</td></tr><tr><td>JUNDIAI</td><td>VILA PROGRESSO</td><td>5.49</td><td>1</td><td>Basic</td></tr><tr><td>JACOBINA</td><td>MISSAO</td><td>6.04</td><td>1</td><td>Basic</td></tr><tr><td>JABOATAO DOS GUARARAPES</td><td>MARCOS FREIRE</td><td>5.73</td><td>1</td><td>Basic</td></tr><tr><td>SANTAREM</td><td>SANTARENZINHO</td><td>5.89</td><td>1</td><td>Basic</td></tr><tr><td>FRANCA</td><td>JARDIM BRASILANDIA</td><td>5.85</td><td>1</td><td>Basic</td></tr><tr><td>ARAXA</td><td>AEROPORTO</td><td>5.84</td><td>2</td><td>Basic</td></tr><tr><td>ITAUNA</td><td>IRMAOS AULER</td><td>5.79</td><td>1</td><td>Basic</td></tr><tr><td>SERRA</td><td>CASTELANDIA</td><td>5.99</td><td>1</td><td>Basic</td></tr><tr><td>CARATINGA</td><td>SANTA ZITA</td><td>5.99</td><td>1</td><td>Basic</td></tr><tr><td>CURITIBA</td><td>CIC</td><td>5.67</td><td>1</td><td>Basic</td></tr><tr><td>VITORIA DA CONQUISTA</td><td>AUTO DA BOA VISTA</td><td>5.84</td><td>1</td><td>Basic</td></tr><tr><td>TERESINA</td><td>MOCAMBINHO</td><td>6.29</td><td>1</td><td>Basic</td></tr><tr><td>ARAPIRACA</td><td>ZONA RURAL</td><td>5.79</td><td>1</td><td>Basic</td></tr><tr><td>SUMARE</td><td>PQ DA AMIZADE</td><td>5.49</td><td>1</td><td>Basic</td></tr><tr><td>DUQUE DE CAXIAS</td><td>GRAMACHO</td><td>5.29</td><td>1</td><td>Basic</td></tr><tr><td>SAO FRANCISCO DE ITABAPOANA</td><td>PRAIA DE SANTA CLARA</td><td>5.74</td><td>1</td><td>Basic</td></tr><tr><td>CACHOEIRINHA</td><td>VL VERANOPOLIS</td><td>5.84</td><td>1</td><td>Basic</td></tr><tr><td>CAXIAS DO SUL</td><td>SAO PELEGRINO</td><td>6.07</td><td>1</td><td>Basic</td></tr><tr><td>PORTO VELHO</td><td>CUNIA</td><td>6.29</td><td>1</td><td>Basic</td></tr><tr><td>GUARUJA</td><td>JARDIM ENSEADA</td><td>6.49</td><td>1</td><td>Basic</td></tr><tr><td>PASSOS</td><td>CENTRO</td><td>5.72</td><td>2</td><td>Basic</td></tr><tr><td>CAMPINAS</td><td>JARDIM SANTA MONICA</td><td>5.89</td><td>1</td><td>Basic</td></tr><tr><td>COXIM</td><td>SENHOR DIVINO</td><td>6.00</td><td>1</td><td>Basic</td></tr><tr><td>VOTORANTIM</td><td>CENTRO</td><td>6.20</td><td>1</td><td>Basic</td></tr><tr><td>CAMPINA GRANDE</td><td>QUARENTA</td><td>5.69</td><td>1</td><td>Basic</td></tr><tr><td>BIRIGUI</td><td>NOVO PARQUE SAO VICENTE</td><td>5.99</td><td>1</td><td>Basic</td></tr><tr><td>SANTA CRUZ DO CAPIBARIBE</td><td>NOVO</td><td>5.89</td><td>1</td><td>Basic</td></tr><tr><td>VARZEA GRANDE</td><td>JARDIM GLORIA II</td><td>6.38</td><td>1</td><td>Basic</td></tr><tr><td>BRASILIA</td><td>TAGUATINGA NORTE</td><td>5.49</td><td>1</td><td>Basic</td></tr><tr><td>PRAIA GRANDE</td><td>SAMAMBAIA</td><td>5.74</td><td>1</td><td>Basic</td></tr><tr><td>ANAPOLIS</td><td>JUNDIAI</td><td>6.12</td><td>2</td><td>Basic</td></tr><tr><td>BARUERI</td><td>JARDIM BELVAL</td><td>5.84</td><td>1</td><td>Basic</td></tr><tr><td>LAGARTO</td><td>SAO JOSE</td><td>5.80</td><td>1</td><td>Basic</td></tr><tr><td>ALVORADA</td><td>PRIMAVERA</td><td>5.89</td><td>1</td><td>Basic</td></tr><tr><td>SAO PAULO</td><td>VILA MEDEIROS</td><td>6.09</td><td>1</td><td>Basic</td></tr><tr><td>ITATIBA</td><td>VILA BRASILEIRA</td><td>6.09</td><td>1</td><td>Basic</td></tr><tr><td>CODO</td><td>SANTA TEREZINHA</td><td>6.17</td><td>2</td><td>Basic</td></tr><tr><td>ALEGRETE</td><td>INTERIOR</td><td>6.23</td><td>1</td><td>Basic</td></tr><tr><td>FLORIANOPOLIS</td><td>PANTANAL</td><td>6.09</td><td>1</td><td>Basic</td></tr><tr><td>LINS</td><td>JARDIM GUANABARA</td><td>5.88</td><td>1</td><td>Basic</td></tr><tr><td>BOA VISTA</td><td>APARECIDA</td><td>6.42</td><td>1</td><td>Basic</td></tr><tr><td>CORNELIO PROCOPIO</td><td>CONJUNTO SAO SILVESTRE</td><td>6.20</td><td>1</td><td>Basic</td></tr><tr><td>VITORIA</td><td>SANTA LUCIA</td><td>5.99</td><td>1</td><td>Basic</td></tr><tr><td>JOAO PESSOA</td><td>JARDIM SAO PAULO</td><td>5.20</td><td>1</td><td>Basic</td></tr><tr><td>SAO JOSE DO RIO PRETO</td><td>JARDIM SANTA ROSA II</td><td>5.69</td><td>1</td><td>Basic</td></tr><tr><td>CIANORTE</td><td>ZONA 02</td><td>5.86</td><td>2</td><td>Basic</td></tr><tr><td>BIGUACU</td><td>RIO CAVEIRAS</td><td>5.79</td><td>2</td><td>Basic</td></tr><tr><td>SETE LAGOAS</td><td>BAIRRO SAO JORGE</td><td>5.52</td><td>1</td><td>Basic</td></tr><tr><td>CUIABA</td><td>CIDADE ALTA</td><td>5.87</td><td>1</td><td>Basic</td></tr><tr><td>CARAGUATATUBA</td><td>JARAGUAZINHO</td><td>6.29</td><td>1</td><td>Basic</td></tr><tr><td>VARGINHA</td><td>VILA SAO GERALDO</td><td>5.59</td><td>1</td><td>Basic</td></tr><tr><td>JABOTICABAL</td><td>VILA INDUSTRIAL</td><td>5.74</td><td>1</td><td>Basic</td></tr><tr><td>CAMPINA GRANDE</td><td>BODOCONGO</td><td>5.73</td><td>3</td><td>Basic</td></tr><tr><td>APARECIDA DE GOIANIA</td><td>CIDADE SATELITE SAO LUIZ</td><td>5.89</td><td>1</td><td>Basic</td></tr><tr><td>BARRETOS</td><td>CENTRO</td><td>6.07</td><td>4</td><td>Basic</td></tr><tr><td>BENTO GONCALVES</td><td>JUVENTUDE DA ENOLOGIA</td><td>5.93</td><td>1</td><td>Basic</td></tr><tr><td>RECIFE</td><td>HIPODROMO</td><td>5.85</td><td>1</td><td>Basic</td></tr><tr><td>CAMBE</td><td>RODOVIA</td><td>6.63</td><td>2</td><td>Basic</td></tr><tr><td>MARINGA</td><td>IGUATEMI</td><td>5.44</td><td>1</td><td>Basic</td></tr><tr><td>DUQUE DE CAXIAS</td><td>25 DE AGOSTO</td><td>5.24</td><td>2</td><td>Basic</td></tr><tr><td>OSASCO</td><td>VILA YOLANDA</td><td>5.99</td><td>1</td><td>Basic</td></tr><tr><td>BRAGANCA</td><td>RIOZINHO</td><td>6.04</td><td>1</td><td>Basic</td></tr><tr><td>RIO DE JANEIRO</td><td>CAJU</td><td>5.34</td><td>1</td><td>Basic</td></tr><tr><td>PARAISO DO TOCANTINS</td><td>SETOR LESTE</td><td>5.69</td><td>1</td><td>Basic</td></tr><tr><td>ANGRA DOS REIS</td><td>NOVA ANGRA (CUNHAMBEBE)</td><td>6.79</td><td>1</td><td>Basic</td></tr><tr><td>ARAUCARIA</td><td>FAZENDA VELHA</td><td>5.74</td><td>1</td><td>Basic</td></tr><tr><td>SAO PAULO</td><td>VILA GUILHERME</td><td>5.40</td><td>3</td><td>Basic</td></tr><tr><td>VACARIA</td><td>JARDIM AMERICA</td><td>6.08</td><td>2</td><td>Basic</td></tr><tr><td>CURITIBA</td><td>CAJURU</td><td>5.54</td><td>3</td><td>Basic</td></tr><tr><td>LAJEADO</td><td>CENTRO</td><td>5.81</td><td>2</td><td>Basic</td></tr><tr><td>CURVELO</td><td>CENTRO</td><td>5.83</td><td>6</td><td>Basic</td></tr><tr><td>VACARIA</td><td>PETROPOLIS</td><td>6.05</td><td>1</td><td>Basic</td></tr><tr><td>CAXIAS</td><td>CENTRO</td><td>5.77</td><td>3</td><td>Basic</td></tr><tr><td>DIADEMA</td><td>TABOAO</td><td>5.47</td><td>1</td><td>Basic</td></tr><tr><td>CARAPICUIBA</td><td>JARDIM EDI</td><td>5.89</td><td>1</td><td>Basic</td></tr><tr><td>MARINGA</td><td>ZONA 07</td><td>5.73</td><td>3</td><td>Basic</td></tr><tr><td>SAO CAETANO DO SUL</td><td>VL PROSPERIDADE</td><td>5.50</td><td>1</td><td>Basic</td></tr><tr><td>VARZEA PAULISTA</td><td>JARDIM PAULISTA</td><td>5.64</td><td>1</td><td>Basic</td></tr><tr><td>VIAMAO</td><td>VIAMOPOLIS</td><td>5.97</td><td>2</td><td>Basic</td></tr><tr><td>TERESOPOLIS</td><td>VALE DO PARAISO</td><td>5.99</td><td>1</td><td>Basic</td></tr><tr><td>SAO PAULO</td><td>J.RODOLFO PIRANI</td><td>6.39</td><td>1</td><td>Basic</td></tr><tr><td>AMERICANA</td><td>JARDIM BRASIL</td><td>6.10</td><td>1</td><td>Basic</td></tr><tr><td>LORENA</td><td>OLARIA</td><td>6.29</td><td>1</td><td>Basic</td></tr><tr><td>INDAIATUBA</td><td>JARDIM ESPLANADA</td><td>5.89</td><td>1</td><td>Basic</td></tr><tr><td>GUARULHOS</td><td>CIDADE PARQUE SAO LUIZ</td><td>5.29</td><td>1</td><td>Basic</td></tr><tr><td>LONDRINA</td><td>PQ MEDITERRANEO</td><td>5.99</td><td>1</td><td>Basic</td></tr><tr><td>SERRA</td><td>CIVIT II</td><td>5.86</td><td>3</td><td>Basic</td></tr><tr><td>SAO PAULO</td><td>VILA MONTEVIDEO</td><td>6.05</td><td>1</td><td>Basic</td></tr><tr><td>PORTO VELHO</td><td>FLODOALDO PONTES PINTO</td><td>6.05</td><td>2</td><td>Basic</td></tr><tr><td>PARA DE MINAS</td><td>SENADOR VALADARES</td><td>5.69</td><td>1</td><td>Basic</td></tr><tr><td>ARACAJU</td><td>SIQUEIRA CAMPOS</td><td>5.78</td><td>2</td><td>Basic</td></tr><tr><td>CABO DE SANTO AGOSTINHO</td><td>DISTRITO INDUSTRIAL DIPER</td><td>5.16</td><td>1</td><td>Basic</td></tr><tr><td>ALTAMIRA</td><td>ESPLANADA DO XINGU</td><td>6.77</td><td>1</td><td>Basic</td></tr><tr><td>POCOES</td><td>LAGOA GRANDE</td><td>5.59</td><td>1</td><td>Basic</td></tr><tr><td>ARCOVERDE</td><td>SAO CRISTOVAO</td><td>5.79</td><td>3</td><td>Basic</td></tr><tr><td>ADAMANTINA</td><td>VILA INDUSTRIAL</td><td>6.15</td><td>1</td><td>Basic</td></tr><tr><td>LONDRINA</td><td>JARDIM SHANGRI-LA</td><td>5.84</td><td>1</td><td>Basic</td></tr><tr><td>CACADOR</td><td>SANTELMO</td><td>6.19</td><td>1</td><td>Basic</td></tr><tr><td>MAFRA</td><td>CENTRO II ALTO DE MAFRA</td><td>5.59</td><td>1</td><td>Basic</td></tr><tr><td>NOVA IGUACU</td><td>CAIOABA</td><td>5.99</td><td>1</td><td>Basic</td></tr><tr><td>JOAO MONLEVADE</td><td>CRUZEIRO CELESTE</td><td>6.14</td><td>1</td><td>Basic</td></tr><tr><td>AGUAS LINDAS DE GOIAS</td><td>SETOR JARDIM BRASILIA</td><td>6.08</td><td>1</td><td>Basic</td></tr><tr><td>VALINHOS</td><td>JARDIM PLANALTO</td><td>6.29</td><td>1</td><td>Basic</td></tr><tr><td>VALPARAISO DE GOIAS</td><td>CENTRO</td><td>5.69</td><td>1</td><td>Basic</td></tr><tr><td>SAO JOAO DE MERITI</td><td>JARDIM JOSE BONIFACIO</td><td>4.98</td><td>1</td><td>Basic</td></tr><tr><td>SAO LUIS</td><td>PONTA DAREIA</td><td>5.99</td><td>1</td><td>Basic</td></tr><tr><td>APARECIDA DE GOIANIA</td><td>BAIRRO CARDOSO II ETAPA</td><td>5.69</td><td>1</td><td>Basic</td></tr><tr><td>MAFRA</td><td>JARDIM AMERICA</td><td>6.09</td><td>1</td><td>Basic</td></tr><tr><td>FORTALEZA</td><td>PAPICU</td><td>4.94</td><td>2</td><td>Basic</td></tr><tr><td>CUBATAO</td><td>CENTRO</td><td>6.95</td><td>2</td><td>Basic</td></tr><tr><td>BARBACENA</td><td>CENTRO</td><td>5.89</td><td>5</td><td>Basic</td></tr><tr><td>ITATIBA</td><td>MORRO AZUL</td><td>5.50</td><td>1</td><td>Basic</td></tr><tr><td>CAXIAS DO SUL</td><td>CIDADE NOVA</td><td>6.08</td><td>2</td><td>Basic</td></tr><tr><td>VILA VELHA</td><td>PRAIA DA COSTA</td><td>5.99</td><td>1</td><td>Basic</td></tr><tr><td>SANTO ANTONIO DA PLATINA</td><td>TREVO BR 153 COM PR 092</td><td>5.73</td><td>1</td><td>Basic</td></tr><tr><td>SAO JOAO DA BOA VISTA</td><td>VILA ZANETTI</td><td>5.59</td><td>1</td><td>Basic</td></tr><tr><td>TERESINA</td><td>LOURIVAL PARENTE</td><td>5.81</td><td>6</td><td>Basic</td></tr><tr><td>MARECHAL CANDIDO RONDON</td><td>AUGUSTO II</td><td>5.84</td><td>1</td><td>Basic</td></tr><tr><td>JALES</td><td>CENTRO</td><td>5.78</td><td>2</td><td>Basic</td></tr><tr><td>INDAIATUBA</td><td>VILA MARIA</td><td>5.89</td><td>1</td><td>Basic</td></tr><tr><td>BARRA MANSA</td><td>VILA NOVA</td><td>5.92</td><td>2</td><td>Basic</td></tr><tr><td>SOBRAL</td><td>EXPECTATIVA</td><td>6.14</td><td>1</td><td>Basic</td></tr><tr><td>ITABIRA</td><td>VILA SANTA ROSA</td><td>6.39</td><td>1</td><td>Basic</td></tr><tr><td>PATOS DE MINAS</td><td>BELA VISTA</td><td>5.69</td><td>1</td><td>Basic</td></tr><tr><td>GUARAPUAVA</td><td>DOS ESTADOS</td><td>5.38</td><td>1</td><td>Basic</td></tr><tr><td>MOSSORO</td><td>SANTO ANTÔNIO</td><td>5.77</td><td>2</td><td>Basic</td></tr><tr><td>SANTO ANGELO</td><td>OLIVEIRA</td><td>6.18</td><td>1</td><td>Basic</td></tr><tr><td>ARACATUBA</td><td>VILA CARVALHO</td><td>5.49</td><td>1</td><td>Basic</td></tr><tr><td>JOAO PESSOA</td><td>JAGUARIBE</td><td>5.59</td><td>1</td><td>Basic</td></tr><tr><td>OSASCO</td><td>JARDIM D ABRIL</td><td>5.89</td><td>1</td><td>Basic</td></tr><tr><td>BALSAS</td><td>POTOZI</td><td>5.64</td><td>1</td><td>Basic</td></tr><tr><td>CAMPO GRANDE</td><td>MATA DO JACINTO</td><td>5.85</td><td>1</td><td>Basic</td></tr><tr><td>MACAPA</td><td>BRASIL NOVO</td><td>6.56</td><td>1</td><td>Basic</td></tr><tr><td>SAO GABRIEL</td><td>GABRIELENSE</td><td>6.17</td><td>1</td><td>Basic</td></tr><tr><td>JACAREI</td><td>CENTRO</td><td>5.57</td><td>5</td><td>Basic</td></tr><tr><td>RECIFE</td><td>BOA VIAGEM</td><td>4.98</td><td>5</td><td>Basic</td></tr><tr><td>SAO JOAO DEL REI</td><td>MATOZINHOS</td><td>5.93</td><td>2</td><td>Basic</td></tr><tr><td>RIBEIRAO PRETO</td><td>PARQUE RIBEIRAO PRETO</td><td>5.69</td><td>1</td><td>Basic</td></tr><tr><td>ITAJAI</td><td>SAO JOAO</td><td>5.84</td><td>2</td><td>Basic</td></tr><tr><td>CATANDUVA</td><td>DISTRITO INDUSTRIAL</td><td>5.49</td><td>1</td><td>Basic</td></tr><tr><td>TRES LAGOAS</td><td>LAPA</td><td>6.31</td><td>2</td><td>Basic</td></tr><tr><td>ARAGUARI</td><td>DISTRITO INDUSTRIAL</td><td>5.59</td><td>1</td><td>Basic</td></tr><tr><td>NOSSA SENHORA DO SOCORRO</td><td>ZONA RURAL</td><td>6.07</td><td>2</td><td>Basic</td></tr><tr><td>GUARULHOS</td><td>VILA HERMINIA</td><td>5.31</td><td>2</td><td>Basic</td></tr><tr><td>PORTO SEGURO</td><td>BAIANAO</td><td>6.84</td><td>1</td><td>Basic</td></tr><tr><td>SENHOR DO BONFIM</td><td>CENTRO</td><td>6.40</td><td>3</td><td>Basic</td></tr><tr><td>SANTA CRUZ DO CAPIBARIBE</td><td>MALAQUIAS CARDOSO</td><td>5.88</td><td>3</td><td>Basic</td></tr><tr><td>PORTO FERREIRA</td><td>CENTRO</td><td>5.74</td><td>2</td><td>Basic</td></tr><tr><td>SAO JOSE DE RIBAMAR</td><td>OUTEIRO</td><td>5.59</td><td>2</td><td>Basic</td></tr><tr><td>FORTALEZA</td><td>EDSON QUEIROIS</td><td>6.15</td><td>1</td><td>Basic</td></tr><tr><td>SANTA MARIA</td><td>PERPETUO SOCORRO</td><td>6.22</td><td>1</td><td>Basic</td></tr><tr><td>DIVINOPOLIS</td><td>MANOEL VALINHAS</td><td>6.27</td><td>1</td><td>Basic</td></tr><tr><td>CASTRO</td><td>JARDIM DAS ARAUCARIAS</td><td>5.93</td><td>1</td><td>Basic</td></tr><tr><td>CAMPO GRANDE</td><td>VILA CARVALHO</td><td>5.83</td><td>1</td><td>Basic</td></tr><tr><td>SANTOS</td><td>CAMPO GRANDE</td><td>6.19</td><td>1</td><td>Basic</td></tr><tr><td>SAO PAULO</td><td>ALTO DA MOOCA</td><td>6.69</td><td>1</td><td>Basic</td></tr><tr><td>MARICA</td><td>SAO JOSE DO IMBASSAI</td><td>5.86</td><td>1</td><td>Basic</td></tr><tr><td>SAO PAULO</td><td>ITAQUERA</td><td>5.74</td><td>4</td><td>Basic</td></tr><tr><td>GUARULHOS</td><td>PARQUE INDUSTRIAL CUMBICA</td><td>5.89</td><td>1</td><td>Basic</td></tr><tr><td>BARREIRAS</td><td>SAO MIGUEL</td><td>6.16</td><td>1</td><td>Basic</td></tr><tr><td>BARRA DO PIRAI</td><td>IPIABAS</td><td>6.49</td><td>1</td><td>Basic</td></tr><tr><td>CURITIBA</td><td>MOSSUNGUE</td><td>5.99</td><td>1</td><td>Basic</td></tr><tr><td>FORTALEZA</td><td>MUCURIPE</td><td>5.45</td><td>1</td><td>Basic</td></tr><tr><td>ESTEIO</td><td>NOVO ESTEIO</td><td>5.90</td><td>3</td><td>Basic</td></tr><tr><td>RIBEIRAO PRETO</td><td>JARDIM PAULISTA</td><td>6.09</td><td>1</td><td>Basic</td></tr><tr><td>CACHOEIRO DE ITAPEMIRIM</td><td>ALTO MONTE CRISTO</td><td>5.92</td><td>1</td><td>Basic</td></tr><tr><td>FORTALEZA</td><td>BARRA DO CEARÁ</td><td>5.24</td><td>1</td><td>Basic</td></tr><tr><td>VALINHOS</td><td>CHACARAS DAS ROSAS</td><td>5.69</td><td>1</td><td>Basic</td></tr><tr><td>VILHENA</td><td>PARQUE INDUSTRIAL TANCREDO NEVES</td><td>6.42</td><td>1</td><td>Basic</td></tr><tr><td>MIRASSOL</td><td>PORTAL DA CIDADE AMIGA</td><td>5.64</td><td>1</td><td>Basic</td></tr><tr><td>FLORIANOPOLIS</td><td>SACO DOS LIMÕES</td><td>6.29</td><td>1</td><td>Basic</td></tr><tr><td>ALTAMIRA</td><td>JARDIM INDEPENDENTE II</td><td>6.79</td><td>1</td><td>Basic</td></tr><tr><td>JACAREI</td><td>RESIDENCIAL SAO PAULO</td><td>5.64</td><td>1</td><td>Basic</td></tr><tr><td>SAO PAULO</td><td>VILA BUARQUE</td><td>5.79</td><td>1</td><td>Basic</td></tr><tr><td>ITAPECERICA DA SERRA</td><td>JARDIM  MARILU</td><td>5.79</td><td>1</td><td>Basic</td></tr><tr><td>BOM DESPACHO</td><td>JARDIM DOS IPES</td><td>5.62</td><td>1</td><td>Basic</td></tr><tr><td>AMERICANA</td><td>BARROCA</td><td>6.09</td><td>1</td><td>Basic</td></tr><tr><td>OSASCO</td><td>VILA YARA</td><td>4.59</td><td>1</td><td>Basic</td></tr><tr><td>SERRINHA</td><td>CIDADE NOVA</td><td>5.83</td><td>1</td><td>Basic</td></tr><tr><td>BIRIGUI</td><td>VILA PONTES</td><td>5.41</td><td>1</td><td>Basic</td></tr><tr><td>TERESINA</td><td>PRIMAVERA</td><td>6.49</td><td>1</td><td>Basic</td></tr><tr><td>SANTANA DO LIVRAMENTO</td><td>KENNEDY</td><td>6.37</td><td>1</td><td>Basic</td></tr><tr><td>CARATINGA</td><td>LIMOEIRO</td><td>5.82</td><td>1</td><td>Basic</td></tr><tr><td>BRAGANCA PAULISTA</td><td>PENHA</td><td>5.74</td><td>1</td><td>Basic</td></tr><tr><td>ALAGOINHAS</td><td>SEDE</td><td>5.58</td><td>1</td><td>Basic</td></tr><tr><td>CURITIBA</td><td>AGUA VERDE</td><td>6.04</td><td>2</td><td>Basic</td></tr><tr><td>NITEROI</td><td>SÃO FRANCISCO</td><td>5.49</td><td>1</td><td>Basic</td></tr><tr><td>SANTA MARIA</td><td>TOMAZETTI</td><td>6.07</td><td>2</td><td>Basic</td></tr><tr><td>ABAETETUBA</td><td>AVIACAO</td><td>6.20</td><td>2</td><td>Basic</td></tr><tr><td>UBERABA</td><td>MERCES</td><td>5.77</td><td>2</td><td>Basic</td></tr><tr><td>JI-PARANA</td><td>JARDIM AURELIO BERNARDI</td><td>7.37</td><td>1</td><td>Basic</td></tr><tr><td>PRESIDENTE PRUDENTE</td><td>VILA BRASIL</td><td>6.04</td><td>1</td><td>Basic</td></tr><tr><td>GRAVATAI</td><td>MORADA DO VALE III</td><td>5.58</td><td>1</td><td>Basic</td></tr><tr><td>COLATINA</td><td>LACE</td><td>6.09</td><td>1</td><td>Basic</td></tr><tr><td>PARAUAPEBAS</td><td>LOTEAMENTO JARDIM CANADÁ</td><td>6.99</td><td>1</td><td>Basic</td></tr><tr><td>JOINVILLE</td><td>JARDIM PARAISO</td><td>5.99</td><td>1</td><td>Basic</td></tr><tr><td>BOA VISTA</td><td>SAO VICENTE</td><td>6.47</td><td>1</td><td>Basic</td></tr><tr><td>JOAO PESSOA</td><td>VARADOURO</td><td>5.71</td><td>1</td><td>Basic</td></tr><tr><td>REDENCAO</td><td>CENTRO</td><td>5.94</td><td>1</td><td>Basic</td></tr><tr><td>PALMAS</td><td>CENTRO</td><td>5.71</td><td>6</td><td>Basic</td></tr><tr><td>DELMIRO GOUVEIA</td><td>CIDADE UNIVERSITARIA</td><td>6.71</td><td>1</td><td>Basic</td></tr><tr><td>BAYEUX</td><td>ALTO DA BOA VISTA</td><td>5.41</td><td>2</td><td>Basic</td></tr><tr><td>SANTO ANTONIO DE PADUA</td><td>COSME E DAMIÃO</td><td>5.58</td><td>1</td><td>Basic</td></tr><tr><td>PARAUAPEBAS</td><td>RIO VERDE</td><td>6.70</td><td>2</td><td>Basic</td></tr><tr><td>GUAIBA</td><td>JARDIM DOS LAGOS</td><td>6.04</td><td>1</td><td>Basic</td></tr><tr><td>PIRACICABA</td><td>PAULICEIA</td><td>5.57</td><td>2</td><td>Basic</td></tr><tr><td>ASSIS</td><td>CDA 3</td><td>5.91</td><td>1</td><td>Basic</td></tr><tr><td>ARACATUBA</td><td>JD. NOVA YORK</td><td>6.29</td><td>1</td><td>Basic</td></tr><tr><td>SANTO ANDRE</td><td>VL GUIOMAR</td><td>5.39</td><td>1</td><td>Basic</td></tr><tr><td>AMERICANA</td><td>JD. HELENA</td><td>5.62</td><td>1</td><td>Basic</td></tr><tr><td>TERESINA</td><td>BEIRA RIO</td><td>5.87</td><td>1</td><td>Basic</td></tr><tr><td>UNIAO DA VITORIA</td><td>NOSSA SENHORA DO ROCIO</td><td>6.22</td><td>1</td><td>Basic</td></tr><tr><td>SAO GONCALO</td><td>PORTO NOVO</td><td>5.74</td><td>1</td><td>Basic</td></tr><tr><td>TERESINA</td><td>SAO CRISTOVAO</td><td>6.31</td><td>3</td><td>Basic</td></tr><tr><td>SINOP</td><td>JARDIM DAS PALMEIRAS</td><td>5.92</td><td>2</td><td>Basic</td></tr><tr><td>RIO BRANCO</td><td>FLORESTA</td><td>7.07</td><td>2</td><td>Basic</td></tr><tr><td>GUARULHOS</td><td>MACEDO</td><td>7.99</td><td>1</td><td>Basic</td></tr><tr><td>SAO GABRIEL</td><td>UNIVERSITARIO</td><td>6.08</td><td>1</td><td>Basic</td></tr><tr><td>BRUMADO</td><td>RODOVIARIO - SEDE</td><td>5.94</td><td>1</td><td>Basic</td></tr><tr><td>AMPARO</td><td>DISTRITO TRES PONTES</td><td>6.17</td><td>1</td><td>Basic</td></tr><tr><td>BARRA DO PIRAI</td><td>BELVEDERE DA TAQUARA</td><td>6.74</td><td>1</td><td>Basic</td></tr><tr><td>RONDONOPOLIS</td><td>JD. PINDORAMA PART 1</td><td>6.19</td><td>1</td><td>Basic</td></tr><tr><td>COXIM</td><td>PIRACEMA</td><td>5.94</td><td>1</td><td>Basic</td></tr><tr><td>CHAPECO</td><td>EFAPI</td><td>5.89</td><td>1</td><td>Basic</td></tr><tr><td>PARNAIBA</td><td>SAO FRANCISCO</td><td>5.92</td><td>2</td><td>Basic</td></tr><tr><td>SAO PAULO</td><td>VL PRUDENTE</td><td>7.05</td><td>1</td><td>Basic</td></tr><tr><td>FORTALEZA</td><td>CAJAZEIRAS</td><td>5.14</td><td>1</td><td>Basic</td></tr><tr><td>CAMPO GRANDE</td><td>VILA NOSSA SENHORA LOURDES</td><td>4.09</td><td>1</td><td>Basic</td></tr><tr><td>ARAGUAINA</td><td>SAO JOAO</td><td>5.62</td><td>2</td><td>Basic</td></tr><tr><td>MATAO</td><td>IV CENTENARIO</td><td>5.99</td><td>1</td><td>Basic</td></tr><tr><td>PORTO ALEGRE</td><td>SAO GERALDO</td><td>5.57</td><td>2</td><td>Basic</td></tr><tr><td>PASSO FUNDO</td><td>CENTRO</td><td>5.98</td><td>6</td><td>Basic</td></tr><tr><td>MARABA</td><td>NOVA MARABA</td><td>6.13</td><td>8</td><td>Premium</td></tr><tr><td>CAMBE</td><td>JARDIM BOA VISTA</td><td>5.64</td><td>1</td><td>Basic</td></tr><tr><td>CAMETA</td><td>CENTRO</td><td>6.34</td><td>3</td><td>Basic</td></tr><tr><td>TERESINA</td><td>SAO PEDRO</td><td>5.70</td><td>2</td><td>Basic</td></tr><tr><td>SAO LUIZ GONZAGA</td><td>AGRICOLA</td><td>6.37</td><td>1</td><td>Basic</td></tr><tr><td>ITUIUTABA</td><td>PLATINA</td><td>5.59</td><td>1</td><td>Basic</td></tr><tr><td>LUZIANIA</td><td>JARDIM JOCKEY CLUB</td><td>5.68</td><td>1</td><td>Basic</td></tr><tr><td>ITAPIPOCA</td><td>BOA VISTA</td><td>6.58</td><td>1</td><td>Basic</td></tr><tr><td>PETROPOLIS</td><td>CORONEL VEIGA</td><td>5.57</td><td>2</td><td>Basic</td></tr><tr><td>OURO PRETO</td><td>SAO CRISTOVAO</td><td>5.86</td><td>2</td><td>Basic</td></tr><tr><td>PARAGOMINAS</td><td>CIDADE NOVA</td><td>6.37</td><td>1</td><td>Basic</td></tr><tr><td>CONTAGEM</td><td>CINCAO</td><td>5.66</td><td>1</td><td>Basic</td></tr><tr><td>SANTOS</td><td>ESTUARIO</td><td>6.59</td><td>1</td><td>Basic</td></tr><tr><td>VIDEIRA</td><td>DOIS PINHEIROS</td><td>6.10</td><td>2</td><td>Basic</td></tr><tr><td>SAO LUIS</td><td>CUTIM ANIL</td><td>5.44</td><td>1</td><td>Basic</td></tr><tr><td>PARNAMIRIM</td><td>VALE DO SOL</td><td>5.81</td><td>3</td><td>Basic</td></tr><tr><td>RIO DE JANEIRO</td><td>PENHA</td><td>5.66</td><td>2</td><td>Basic</td></tr><tr><td>OLIMPIA</td><td>JARDIM MENINA MOCA</td><td>5.84</td><td>1</td><td>Basic</td></tr><tr><td>SAO LUIS</td><td>FORQUILHA</td><td>5.36</td><td>1</td><td>Basic</td></tr><tr><td>PALHOCA</td><td>CENTRO</td><td>5.99</td><td>1</td><td>Basic</td></tr><tr><td>CAMPO MOURAO</td><td>AREA URBANIZADA III</td><td>5.84</td><td>1</td><td>Basic</td></tr><tr><td>CACHOEIRO DE ITAPEMIRIM</td><td>CENTRAL PARQUE</td><td>5.84</td><td>1</td><td>Basic</td></tr><tr><td>RIO VERDE</td><td>PARQUE DOS BURITIS</td><td>6.09</td><td>1</td><td>Basic</td></tr><tr><td>POUSO ALEGRE</td><td>FAZENDA GRANDE</td><td>5.64</td><td>1</td><td>Basic</td></tr><tr><td>TERESINA</td><td>URUGUAI</td><td>6.39</td><td>1</td><td>Basic</td></tr><tr><td>JUIZ DE FORA</td><td>SANTA TEREZINHA</td><td>6.55</td><td>1</td><td>Basic</td></tr><tr><td>CALDAS NOVAS</td><td>JARDIM DOS TURISTAS</td><td>5.96</td><td>1</td><td>Basic</td></tr><tr><td>GUARULHOS</td><td>JD STA RITA</td><td>5.43</td><td>1</td><td>Basic</td></tr><tr><td>SAO LUIZ GONZAGA</td><td>CENTRO</td><td>6.02</td><td>3</td><td>Basic</td></tr><tr><td>GOIANIA</td><td>JARDIM PRESIDENTE</td><td>5.82</td><td>2</td><td>Basic</td></tr><tr><td>CACADOR</td><td>SAO CRISTOVAO</td><td>5.99</td><td>1</td><td>Basic</td></tr><tr><td>MANAUS</td><td>NOVO ALEIXO</td><td>6.29</td><td>2</td><td>Basic</td></tr><tr><td>SAPUCAIA DO SUL</td><td>PIRATINI</td><td>5.84</td><td>1</td><td>Basic</td></tr><tr><td>SANTAREM</td><td>CARANAZAL</td><td>6.23</td><td>4</td><td>Basic</td></tr><tr><td>NOVO HAMBURGO</td><td>PATRIA NOVA</td><td>5.84</td><td>1</td><td>Basic</td></tr><tr><td>SAO JOSE DE RIBAMAR</td><td>VILA SARNEY FILHO I</td><td>5.69</td><td>1</td><td>Basic</td></tr><tr><td>SETE LAGOAS</td><td>CENTRO</td><td>5.66</td><td>5</td><td>Basic</td></tr><tr><td>MOGI DAS CRUZES</td><td>VILA LAVINIA</td><td>5.99</td><td>1</td><td>Basic</td></tr><tr><td>SOROCABA</td><td>JD. SIRIEMA</td><td>5.92</td><td>1</td><td>Basic</td></tr><tr><td>SANTAREM</td><td>APARECIDA</td><td>6.07</td><td>2</td><td>Basic</td></tr><tr><td>CACERES</td><td>JARDIM SAO LUIZ DA PONTE</td><td>5.79</td><td>2</td><td>Basic</td></tr><tr><td>JATAI</td><td>CENTRO</td><td>6.15</td><td>2</td><td>Basic</td></tr><tr><td>ABAETETUBA</td><td>CENTRO</td><td>5.70</td><td>1</td><td>Basic</td></tr><tr><td>BOA VISTA</td><td>CALUNGA</td><td>6.74</td><td>1</td><td>Basic</td></tr><tr><td>ARCOVERDE</td><td>CORONEL SIQUEIRA CAMPOS</td><td>5.79</td><td>1</td><td>Basic</td></tr><tr><td>GOIANIA</td><td>JARDIM ATLANTICO</td><td>5.87</td><td>1</td><td>Basic</td></tr><tr><td>IPATINGA</td><td>BETHANIA</td><td>5.79</td><td>1</td><td>Basic</td></tr><tr><td>ITABUNA</td><td>TAVEIROLANDIA</td><td>5.29</td><td>1</td><td>Basic</td></tr><tr><td>BELO HORIZONTE</td><td>MANGABEIRAS</td><td>6.49</td><td>1</td><td>Basic</td></tr><tr><td>VARZEA GRANDE</td><td>PARQUE INDUSTRIAL ATLANTICO</td><td>5.70</td><td>1</td><td>Basic</td></tr><tr><td>JI-PARANA</td><td>JARDIM PRESIDENCIAL</td><td>6.99</td><td>1</td><td>Basic</td></tr><tr><td>SIMOES FILHO</td><td>PALMARES</td><td>5.61</td><td>1</td><td>Basic</td></tr><tr><td>TRINDADE</td><td>SETOR MARIA EDUARDA</td><td>5.89</td><td>1</td><td>Basic</td></tr><tr><td>JOAO PESSOA</td><td>JD CIDADE UNIVERSITA</td><td>5.68</td><td>1</td><td>Basic</td></tr><tr><td>ATIBAIA</td><td>PORTAO</td><td>5.75</td><td>2</td><td>Basic</td></tr><tr><td>ITAQUAQUECETUBA</td><td>VL VIRGINIA</td><td>5.99</td><td>1</td><td>Basic</td></tr><tr><td>SINOP</td><td>ZONA RURAL</td><td>5.71</td><td>2</td><td>Basic</td></tr><tr><td>SAO GONCALO</td><td>GRADIM</td><td>5.63</td><td>2</td><td>Basic</td></tr><tr><td>COLOMBO</td><td>MAUA</td><td>5.74</td><td>1</td><td>Basic</td></tr><tr><td>OSASCO</td><td>JD PIRATININGA</td><td>5.32</td><td>1</td><td>Basic</td></tr><tr><td>FORMOSA</td><td>SETOR BOSQUE</td><td>6.04</td><td>1</td><td>Basic</td></tr><tr><td>PICOS</td><td>CENTRO</td><td>5.95</td><td>3</td><td>Basic</td></tr><tr><td>ITABAIANA</td><td>JOSE MILTON MACHADO</td><td>5.68</td><td>1</td><td>Basic</td></tr><tr><td>JOSE BONIFACIO</td><td>JARDIM PANORAMA</td><td>5.52</td><td>1</td><td>Basic</td></tr><tr><td>GUARULHOS</td><td>JD PONTE GRANDE</td><td>5.36</td><td>1</td><td>Basic</td></tr><tr><td>SERRA</td><td>NOVO HORIZONTE</td><td>5.84</td><td>1</td><td>Basic</td></tr><tr><td>MAUA</td><td>SERTAOZINHO</td><td>5.68</td><td>1</td><td>Basic</td></tr><tr><td>CARAPICUIBA</td><td>POUSADA DOS BANDEIRANTES</td><td>5.69</td><td>1</td><td>Basic</td></tr><tr><td>JUIZ DE FORA</td><td>BANDEIRANTES</td><td>5.70</td><td>1</td><td>Basic</td></tr><tr><td>SANTO ANDRE</td><td>SILVEIRA</td><td>5.99</td><td>1</td><td>Basic</td></tr><tr><td>OLIVEIRA</td><td>SANTA MARIA</td><td>5.89</td><td>1</td><td>Basic</td></tr><tr><td>ITAMARAJU</td><td>CENTRO</td><td>5.81</td><td>4</td><td>Basic</td></tr><tr><td>ARACATUBA</td><td>NOVO PARAISO</td><td>5.67</td><td>1</td><td>Basic</td></tr><tr><td>SANTAREM</td><td>ALDEIA</td><td>6.05</td><td>1</td><td>Basic</td></tr><tr><td>CONSELHEIRO LAFAIETE</td><td>CARIJOS</td><td>5.54</td><td>1</td><td>Basic</td></tr><tr><td>RECIFE</td><td>JARDIM SAO PAULO</td><td>5.74</td><td>2</td><td>Basic</td></tr><tr><td>GOIANIA</td><td>PARQUE AMAZONIA</td><td>5.91</td><td>3</td><td>Basic</td></tr><tr><td>ARACATUBA</td><td>PLANALTO</td><td>5.48</td><td>1</td><td>Basic</td></tr><tr><td>JI-PARANA</td><td>CAFEZINHO</td><td>6.39</td><td>1</td><td>Basic</td></tr><tr><td>TRINDADE</td><td>SETOR OESTE</td><td>5.74</td><td>1</td><td>Basic</td></tr><tr><td>DUQUE DE CAXIAS</td><td>VILA SANTA ALICE</td><td>5.49</td><td>1</td><td>Basic</td></tr><tr><td>ITAPIRA</td><td>PRADOS</td><td>5.97</td><td>2</td><td>Basic</td></tr><tr><td>BALNEARIO CAMBORIU</td><td>MUNICIPIOS</td><td>5.69</td><td>1</td><td>Basic</td></tr><tr><td>RECIFE</td><td>TORRE</td><td>5.31</td><td>3</td><td>Basic</td></tr><tr><td>TRINDADE</td><td>VILA JOAO BRAZ</td><td>5.79</td><td>1</td><td>Basic</td></tr><tr><td>ITU</td><td>JARDIM PADRE BENTO</td><td>5.96</td><td>2</td><td>Basic</td></tr><tr><td>CARUARU</td><td>SAO FRANCISCO</td><td>5.74</td><td>1</td><td>Basic</td></tr><tr><td>GRAVATAI</td><td>SALGADO FILHO</td><td>5.28</td><td>1</td><td>Basic</td></tr><tr><td>BELEM</td><td>TELEGRAFO</td><td>5.52</td><td>1</td><td>Basic</td></tr><tr><td>DIVINOPOLIS</td><td>PORTO VELHO</td><td>5.76</td><td>1</td><td>Basic</td></tr><tr><td>PIRIPIRI</td><td>SAO JOAO</td><td>6.29</td><td>1</td><td>Basic</td></tr><tr><td>IMPERATRIZ</td><td>COCO GRANDE</td><td>5.69</td><td>1</td><td>Basic</td></tr><tr><td>VOLTA REDONDA</td><td>JARDIM BELVEDERE</td><td>5.79</td><td>1</td><td>Basic</td></tr><tr><td>FORMOSA</td><td>SETOR SUL</td><td>5.99</td><td>1</td><td>Basic</td></tr><tr><td>BOA VISTA</td><td>SANTA TEREZA</td><td>6.64</td><td>1</td><td>Basic</td></tr><tr><td>SAO PAULO</td><td>GUAIANAZES</td><td>6.04</td><td>2</td><td>Basic</td></tr><tr><td>MACEIO</td><td>SERRARIA</td><td>5.49</td><td>1</td><td>Basic</td></tr><tr><td>SAO LUIS</td><td>CAMBOA</td><td>5.59</td><td>2</td><td>Basic</td></tr><tr><td>CHAPECO</td><td>PASSO DOS FORTES</td><td>6.18</td><td>1</td><td>Basic</td></tr><tr><td>SANTO ANTONIO DA PLATINA</td><td>CENTRO</td><td>5.82</td><td>4</td><td>Basic</td></tr><tr><td>ALAGOINHAS</td><td>POSTO</td><td>5.60</td><td>1</td><td>Basic</td></tr><tr><td>MARINGA</td><td>VILA MORANGUEIRA</td><td>5.57</td><td>1</td><td>Basic</td></tr><tr><td>TRINDADE</td><td>SETOR MAYSA</td><td>5.79</td><td>1</td><td>Basic</td></tr><tr><td>AMPARO</td><td>ARCADAS</td><td>6.04</td><td>1</td><td>Basic</td></tr><tr><td>JOSE BONIFACIO</td><td>JARDIM DAS FLORES</td><td>5.55</td><td>1</td><td>Basic</td></tr><tr><td>TEFE</td><td>SÃO JOÃO</td><td>7.80</td><td>1</td><td>Basic</td></tr><tr><td>SAO PAULO</td><td>BUTANTA</td><td>5.45</td><td>3</td><td>Basic</td></tr><tr><td>GUANAMBI</td><td>SAO FRANCISCO</td><td>5.90</td><td>1</td><td>Basic</td></tr><tr><td>SALVADOR</td><td>PITUBA</td><td>5.90</td><td>2</td><td>Basic</td></tr><tr><td>MANAUS</td><td>SANTA ETELVINA</td><td>6.29</td><td>1</td><td>Basic</td></tr><tr><td>SERRA</td><td>SAO PEDRO</td><td>5.89</td><td>1</td><td>Basic</td></tr><tr><td>SAO VICENTE</td><td>PARQUE SAO VICENTE</td><td>5.47</td><td>1</td><td>Basic</td></tr><tr><td>SAO MATEUS</td><td>AYRTON SENNA</td><td>5.69</td><td>1</td><td>Basic</td></tr><tr><td>SANTO ANDRE</td><td>PARQUE BANDEIRANTE</td><td>6.49</td><td>1</td><td>Basic</td></tr><tr><td>SAO PAULO</td><td>BELA VISTA</td><td>6.59</td><td>1</td><td>Basic</td></tr><tr><td>SAO JOSE DE RIBAMAR</td><td>VILA FLAMENGO</td><td>5.48</td><td>1</td><td>Basic</td></tr><tr><td>ARACATUBA</td><td>VILA INDUSTRIAL</td><td>5.39</td><td>1</td><td>Basic</td></tr><tr><td>IBITINGA</td><td>JARDIM CENTENARIO</td><td>6.29</td><td>1</td><td>Basic</td></tr><tr><td>TEIXEIRA DE FREITAS</td><td>CENTRO</td><td>6.39</td><td>1</td><td>Basic</td></tr><tr><td>GUAIBA</td><td>LOTEAMENTO DA RAMADA</td><td>5.94</td><td>1</td><td>Basic</td></tr><tr><td>TUBARAO</td><td>SAO JOAO (MARGEM ESQUERDA)</td><td>5.89</td><td>1</td><td>Basic</td></tr><tr><td>FOZ DO IGUACU</td><td>CAMPOS DO IGUACU</td><td>6.09</td><td>1</td><td>Basic</td></tr><tr><td>DUQUE DE CAXIAS</td><td>BAR DOS CAVALEIROS</td><td>5.89</td><td>1</td><td>Basic</td></tr><tr><td>CACHOEIRA DO SUL</td><td>CENTRO</td><td>5.92</td><td>5</td><td>Basic</td></tr><tr><td>JACOBINA</td><td>CATUABA</td><td>6.18</td><td>3</td><td>Basic</td></tr><tr><td>ITABUNA</td><td>FERRADAS</td><td>5.67</td><td>1</td><td>Basic</td></tr><tr><td>BELO HORIZONTE</td><td>VILA TIRADENTES</td><td>5.36</td><td>1</td><td>Basic</td></tr><tr><td>PATROCINIO</td><td>NACOES</td><td>6.22</td><td>1</td><td>Basic</td></tr><tr><td>PETROPOLIS</td><td>CORREAS</td><td>5.89</td><td>1</td><td>Basic</td></tr><tr><td>FEIRA DE SANTANA</td><td>MUCHILA II</td><td>5.69</td><td>1</td><td>Basic</td></tr><tr><td>ANAPOLIS</td><td>PARAISO</td><td>5.72</td><td>1</td><td>Basic</td></tr><tr><td>VALENCA</td><td>CARAMBITA</td><td>6.29</td><td>1</td><td>Basic</td></tr><tr><td>CAMPO GRANDE</td><td>VILA TRIANGULO</td><td>5.90</td><td>1</td><td>Basic</td></tr><tr><td>ARARAS</td><td>BELVEDERE</td><td>4.99</td><td>1</td><td>Basic</td></tr><tr><td>SAO GONCALO</td><td>VISTA ALEGRE</td><td>5.32</td><td>2</td><td>Basic</td></tr><tr><td>SUZANO</td><td>PARQUE PALMEIRAS</td><td>5.49</td><td>1</td><td>Basic</td></tr><tr><td>JUNDIAI</td><td>VILA MAFALDA</td><td>5.49</td><td>1</td><td>Basic</td></tr><tr><td>SANTO ANDRE</td><td>VILA GUIOMAR</td><td>5.56</td><td>3</td><td>Basic</td></tr><tr><td>MONTES CLAROS</td><td>CENTRO</td><td>5.68</td><td>1</td><td>Basic</td></tr><tr><td>FRANCISCO BELTRAO</td><td>ALVORADA</td><td>5.95</td><td>1</td><td>Basic</td></tr><tr><td>SAO BERNARDO DO CAMPO</td><td>VILA MARLENE</td><td>6.69</td><td>1</td><td>Basic</td></tr><tr><td>MONTES CLAROS</td><td>SEDE</td><td>5.60</td><td>1</td><td>Basic</td></tr><tr><td>POA</td><td>JARDIM EMILIA</td><td>6.79</td><td>1</td><td>Basic</td></tr><tr><td>IJUI</td><td>INTERIOR</td><td>5.95</td><td>1</td><td>Basic</td></tr><tr><td>CURITIBA</td><td>TARUMA</td><td>6.19</td><td>1</td><td>Basic</td></tr><tr><td>SANTO ANDRE</td><td>VILA PIRES</td><td>6.19</td><td>2</td><td>Basic</td></tr><tr><td>JOINVILLE</td><td>COSTA E SILVA</td><td>5.88</td><td>3</td><td>Basic</td></tr><tr><td>SERRA</td><td>BARCELONA</td><td>5.79</td><td>1</td><td>Basic</td></tr><tr><td>COLATINA</td><td>HONORIO FRAGA</td><td>5.84</td><td>1</td><td>Basic</td></tr><tr><td>JOAO PESSOA</td><td>ESTADOS</td><td>5.68</td><td>1</td><td>Basic</td></tr><tr><td>SOROCABA</td><td>ÉDEN</td><td>5.84</td><td>1</td><td>Basic</td></tr><tr><td>GOVERNADOR VALADARES</td><td>CENTRO</td><td>5.88</td><td>4</td><td>Basic</td></tr><tr><td>DUQUE DE CAXIAS</td><td>VILA BONANCA</td><td>5.42</td><td>1</td><td>Basic</td></tr><tr><td>ITAPETININGA</td><td>PARQUE DA LAGOA</td><td>6.69</td><td>1</td><td>Basic</td></tr><tr><td>PRAIA GRANDE</td><td>GUILHERMINA</td><td>6.29</td><td>1</td><td>Basic</td></tr><tr><td>ITAPERUNA</td><td>PRES COSTA E SILVA</td><td>5.94</td><td>1</td><td>Basic</td></tr><tr><td>BELO HORIZONTE</td><td>SANTA   EFIGENIA</td><td>5.77</td><td>1</td><td>Basic</td></tr><tr><td>VOLTA REDONDA</td><td>PONTE ALTA</td><td>6.18</td><td>1</td><td>Basic</td></tr><tr><td>SOROCABA</td><td>CENTRO</td><td>5.89</td><td>1</td><td>Basic</td></tr><tr><td>CUIABA</td><td>GOIABEIRA</td><td>5.92</td><td>1</td><td>Basic</td></tr><tr><td>BELEM</td><td>MARAMBAIA</td><td>5.49</td><td>1</td><td>Basic</td></tr><tr><td>AMPARO</td><td>RIBEIRÃO</td><td>5.88</td><td>1</td><td>Basic</td></tr><tr><td>CACHOEIRA DO SUL</td><td>UNIVERSITARIO</td><td>6.09</td><td>1</td><td>Basic</td></tr><tr><td>CARAGUATATUBA</td><td>MASSAGUACU</td><td>6.08</td><td>1</td><td>Basic</td></tr><tr><td>CAMPO LARGO</td><td>VILA BANCARIA</td><td>5.99</td><td>1</td><td>Basic</td></tr><tr><td>TERESINA</td><td>MACAUBA</td><td>5.89</td><td>1</td><td>Basic</td></tr><tr><td>JATAI</td><td>DIVINO ESPIRITO SANTO</td><td>5.72</td><td>1</td><td>Basic</td></tr><tr><td>JOAO MONLEVADE</td><td>BAU</td><td>5.92</td><td>1</td><td>Basic</td></tr><tr><td>CAMPO GRANDE</td><td>CENTRO</td><td>5.40</td><td>4</td><td>Basic</td></tr><tr><td>SAO MATEUS</td><td>GURIRI NORTE</td><td>5.83</td><td>1</td><td>Basic</td></tr><tr><td>PETROLINA</td><td>CENTRO</td><td>6.17</td><td>3</td><td>Basic</td></tr><tr><td>SAO LEOPOLDO</td><td>SCHARLAU</td><td>5.49</td><td>2</td><td>Basic</td></tr><tr><td>PARANAGUA</td><td>PARQUE SAO JOAO</td><td>5.86</td><td>2</td><td>Basic</td></tr><tr><td>PIRACICABA</td><td>JD. NOVA IGUACU</td><td>6.39</td><td>1</td><td>Basic</td></tr><tr><td>PRAIA GRANDE</td><td>CAICARA</td><td>6.02</td><td>3</td><td>Basic</td></tr><tr><td>COXIM</td><td>BAIRRO PIRACEMA</td><td>5.87</td><td>1</td><td>Basic</td></tr><tr><td>CHAPECO</td><td>SANTA MARIA</td><td>5.92</td><td>1</td><td>Basic</td></tr><tr><td>BELEM</td><td>TELEGRAFO SEM FIO</td><td>5.60</td><td>1</td><td>Basic</td></tr><tr><td>MARILIA</td><td>BAIRRO PALMITAL</td><td>5.79</td><td>1</td><td>Basic</td></tr><tr><td>BARREIRAS</td><td>BARREIRINHAS</td><td>6.24</td><td>1</td><td>Basic</td></tr><tr><td>JUAZEIRO DO NORTE</td><td>SANTA TEREZA</td><td>6.49</td><td>1</td><td>Basic</td></tr><tr><td>BELEM</td><td>COQUEIRO</td><td>5.73</td><td>2</td><td>Basic</td></tr><tr><td>TEOFILO OTONI</td><td>CENTRO</td><td>5.66</td><td>5</td><td>Basic</td></tr><tr><td>CASTRO</td><td>VILA RIO BRANCO</td><td>6.35</td><td>2</td><td>Basic</td></tr><tr><td>VILA VELHA</td><td>RIO MARINHO</td><td>5.84</td><td>2</td><td>Basic</td></tr><tr><td>TUPA</td><td>JD STA MARIA</td><td>5.82</td><td>1</td><td>Basic</td></tr><tr><td>INDAIATUBA</td><td>VILA SAO JOSE</td><td>5.44</td><td>1</td><td>Basic</td></tr><tr><td>DIADEMA</td><td>JD MARAVILHA</td><td>5.54</td><td>1</td><td>Basic</td></tr><tr><td>SAO PAULO</td><td>BAIRRO VARZEA BAIXA</td><td>5.99</td><td>1</td><td>Basic</td></tr><tr><td>CABEDELO</td><td>PRAIA DO POÇO</td><td>6.03</td><td>1</td><td>Basic</td></tr><tr><td>ITAPERUNA</td><td>MAL. CASTELO BRANCO</td><td>5.94</td><td>1</td><td>Basic</td></tr><tr><td>PARNAMIRIM</td><td>PARQUE DE EXPOSICOES</td><td>5.89</td><td>1</td><td>Basic</td></tr><tr><td>CATALAO</td><td>CENTRO</td><td>5.94</td><td>3</td><td>Basic</td></tr><tr><td>CURITIBA</td><td>BOQUEIRÃO</td><td>5.76</td><td>2</td><td>Basic</td></tr><tr><td>MARILIA</td><td>JD. TANGARA</td><td>5.89</td><td>1</td><td>Basic</td></tr><tr><td>GARCA</td><td>JARDIM RIBEIRO DE ANDRADE</td><td>6.04</td><td>1</td><td>Basic</td></tr><tr><td>TATUI</td><td>JARDIM TOKIO</td><td>6.64</td><td>1</td><td>Basic</td></tr><tr><td>PETROPOLIS</td><td>MORIN</td><td>5.89</td><td>1</td><td>Basic</td></tr><tr><td>FOZ DO IGUACU</td><td>VILA PEROLA</td><td>6.29</td><td>1</td><td>Basic</td></tr><tr><td>SANTO ANTONIO DE PADUA</td><td>1º DISTRITO</td><td>6.19</td><td>1</td><td>Basic</td></tr><tr><td>OSORIO</td><td>ALBATROZ</td><td>5.59</td><td>1</td><td>Basic</td></tr><tr><td>GUARULHOS</td><td>PARQUE SAO MIGUEL</td><td>6.19</td><td>1</td><td>Basic</td></tr><tr><td>CARATINGA</td><td>SALATIEL</td><td>5.89</td><td>2</td><td>Basic</td></tr><tr><td>CAUCAIA</td><td>ARIANOPOLES</td><td>5.69</td><td>1</td><td>Basic</td></tr><tr><td>PASSO FUNDO</td><td>VILA RODRIGUES</td><td>5.95</td><td>3</td><td>Basic</td></tr><tr><td>SAO JOSE DOS CAMPOS</td><td>JD SATELITE</td><td>5.79</td><td>1</td><td>Basic</td></tr><tr><td>BELEM</td><td>PRATINHA</td><td>6.16</td><td>1</td><td>Basic</td></tr><tr><td>TERESINA</td><td>TANCREDO NEVES</td><td>5.67</td><td>1</td><td>Basic</td></tr><tr><td>CABEDELO</td><td>PORTAL DO POCO</td><td>5.74</td><td>1</td><td>Basic</td></tr><tr><td>PATROCINIO</td><td>INDUSTRIAL</td><td>6.48</td><td>1</td><td>Basic</td></tr><tr><td>GUARULHOS</td><td>CID SAT DE CUMBICA</td><td>5.65</td><td>1</td><td>Basic</td></tr><tr><td>JABOTICABAL</td><td>JD BRANDI</td><td>6.04</td><td>1</td><td>Basic</td></tr><tr><td>TERESINA</td><td>ANGELIM</td><td>5.78</td><td>3</td><td>Basic</td></tr><tr><td>SAO PAULO</td><td>VILA CALIFORNIA</td><td>6.49</td><td>1</td><td>Basic</td></tr><tr><td>UBERABA</td><td>JARDIM SANTA CLARA</td><td>5.44</td><td>1</td><td>Basic</td></tr><tr><td>MANACAPURU</td><td>LIBERDADE</td><td>6.84</td><td>1</td><td>Basic</td></tr><tr><td>FORTALEZA</td><td>BARRA DO CEARA</td><td>5.20</td><td>1</td><td>Basic</td></tr><tr><td>VOTUPORANGA</td><td>VILA AMERICA</td><td>6.07</td><td>1</td><td>Basic</td></tr><tr><td>TRES CORACOES</td><td>VL N S DE FATIMA</td><td>5.96</td><td>1</td><td>Basic</td></tr><tr><td>RIO DE JANEIRO</td><td>BENFICA</td><td>5.35</td><td>2</td><td>Basic</td></tr><tr><td>VALINHOS</td><td>AR ANTONIO BISSOTO</td><td>5.69</td><td>1</td><td>Basic</td></tr><tr><td>COXIM</td><td>CENTRO</td><td>6.15</td><td>2</td><td>Basic</td></tr><tr><td>MOGI GUACU</td><td>VILA PARAISO</td><td>5.94</td><td>1</td><td>Basic</td></tr><tr><td>VILA VELHA</td><td>DIVINO ESPÍRITO SANTO</td><td>5.99</td><td>1</td><td>Basic</td></tr><tr><td>JUNDIAI</td><td>VILA ARENS</td><td>5.50</td><td>1</td><td>Basic</td></tr><tr><td>BOA VISTA</td><td>DR. SILVIO LEITE</td><td>6.37</td><td>1</td><td>Basic</td></tr><tr><td>MARINGA</td><td>CIDADE NOVA</td><td>5.77</td><td>1</td><td>Basic</td></tr><tr><td>VILHENA</td><td>S-13</td><td>6.02</td><td>1</td><td>Basic</td></tr><tr><td>BENTO GONCALVES</td><td>CENTRO</td><td>5.89</td><td>2</td><td>Basic</td></tr><tr><td>BETIM</td><td>DECAMAO</td><td>5.79</td><td>1</td><td>Basic</td></tr><tr><td>MOGI DAS CRUZES</td><td>JD UNIVERSO</td><td>5.59</td><td>1</td><td>Basic</td></tr><tr><td>CUBATAO</td><td>VILA COUTO</td><td>6.93</td><td>1</td><td>Basic</td></tr><tr><td>ARAGUAINA</td><td>65</td><td>5.59</td><td>1</td><td>Basic</td></tr><tr><td>PATROCINIO</td><td>SAO VICENTE</td><td>6.04</td><td>1</td><td>Basic</td></tr><tr><td>RIO DE JANEIRO</td><td>TIJUCA</td><td>5.49</td><td>1</td><td>Basic</td></tr><tr><td>ARAGUAINA</td><td>LOTEAMENTO MANOEL GOMES DA CUNHA</td><td>5.47</td><td>1</td><td>Basic</td></tr><tr><td>BOA VISTA</td><td>JARDIM TROPICAL</td><td>6.58</td><td>1</td><td>Basic</td></tr><tr><td>AVARE</td><td>BOM SUCESSO</td><td>5.39</td><td>1</td><td>Basic</td></tr><tr><td>SANTOS</td><td>PONTA DA PRAIA</td><td>6.69</td><td>1</td><td>Basic</td></tr><tr><td>BRASILIA</td><td>RECANTO DAS EMAS</td><td>5.83</td><td>4</td><td>Basic</td></tr><tr><td>CRICIUMA</td><td>CEARA</td><td>5.89</td><td>1</td><td>Basic</td></tr><tr><td>SALVADOR</td><td>FEDERACAO</td><td>5.92</td><td>1</td><td>Basic</td></tr><tr><td>COLOMBO</td><td>JD SANTA FE</td><td>5.84</td><td>1</td><td>Basic</td></tr><tr><td>VITORIA DA CONQUISTA</td><td>BOA VISTA</td><td>5.81</td><td>2</td><td>Basic</td></tr><tr><td>MINEIROS</td><td>COHACOL TRES</td><td>6.12</td><td>1</td><td>Basic</td></tr><tr><td>ITANHAEM</td><td>JARDIM BELAS ARTES</td><td>6.21</td><td>1</td><td>Basic</td></tr><tr><td>XANXERE</td><td>BORTOLON</td><td>5.67</td><td>2</td><td>Basic</td></tr><tr><td>NOVA IGUACU</td><td>CENTRO</td><td>5.28</td><td>3</td><td>Basic</td></tr><tr><td>CAMPO GRANDE</td><td>CIDADE MORENA</td><td>5.89</td><td>1</td><td>Basic</td></tr><tr><td>VOTORANTIM</td><td>JARDIM CLARICE</td><td>5.69</td><td>1</td><td>Basic</td></tr><tr><td>CACERES</td><td>JARDIM DO TREVO</td><td>6.20</td><td>1</td><td>Basic</td></tr><tr><td>IPATINGA</td><td>BAIRRO IGUACU</td><td>5.74</td><td>1</td><td>Basic</td></tr><tr><td>CARUARU</td><td>LADO DIREITO</td><td>5.67</td><td>1</td><td>Basic</td></tr><tr><td>ITANHAEM</td><td>CENTRO</td><td>5.99</td><td>2</td><td>Basic</td></tr><tr><td>ADAMANTINA</td><td>VILA ENDO</td><td>5.57</td><td>1</td><td>Basic</td></tr><tr><td>SALVADOR</td><td>PIRAJA</td><td>4.96</td><td>1</td><td>Basic</td></tr><tr><td>SUMARE</td><td>MATAO</td><td>5.59</td><td>1</td><td>Basic</td></tr><tr><td>LAURO DE FREITAS</td><td>RECREIO IPITANGA</td><td>5.99</td><td>1</td><td>Basic</td></tr><tr><td>CACHOEIRO DE ITAPEMIRIM</td><td>AEROPORTO</td><td>5.73</td><td>1</td><td>Basic</td></tr><tr><td>ITAPOLIS</td><td>JARDIM REDENCAO</td><td>5.59</td><td>1</td><td>Basic</td></tr><tr><td>RIO CLARO</td><td>PARQUE MAE PRETA</td><td>5.54</td><td>1</td><td>Basic</td></tr><tr><td>COLOMBO</td><td>JARDIM DAS OLIVEIRAS</td><td>5.99</td><td>1</td><td>Basic</td></tr><tr><td>GOIANIA</td><td>NOVA SUIÇA</td><td>5.49</td><td>1</td><td>Basic</td></tr><tr><td>NOSSA SENHORA DO SOCORRO</td><td>SOBRADO</td><td>5.80</td><td>1</td><td>Basic</td></tr><tr><td>BOTUCATU</td><td>VILA MARIA</td><td>5.99</td><td>1</td><td>Basic</td></tr><tr><td>TERESINA</td><td>NOSSA SENHORA DAS GRACAS</td><td>5.99</td><td>1</td><td>Basic</td></tr><tr><td>CACOAL</td><td>CENTRO</td><td>6.34</td><td>4</td><td>Basic</td></tr><tr><td>PAULISTA</td><td>FRAGOSO</td><td>5.77</td><td>1</td><td>Basic</td></tr><tr><td>PARAUAPEBAS</td><td>LIBERDADE</td><td>6.78</td><td>1</td><td>Basic</td></tr><tr><td>TORRES</td><td>CENTRO</td><td>5.88</td><td>4</td><td>Basic</td></tr><tr><td>CURITIBA</td><td>BOQUEIRAO</td><td>5.74</td><td>7</td><td>Basic</td></tr><tr><td>MOSSORO</td><td>ALTO DO SUMARE</td><td>5.73</td><td>2</td><td>Basic</td></tr><tr><td>VICOSA</td><td>SANTO ANTÔNIO</td><td>6.29</td><td>1</td><td>Basic</td></tr><tr><td>CURITIBA</td><td>SANTO INÁCIO</td><td>6.09</td><td>1</td><td>Basic</td></tr><tr><td>SAO PAULO</td><td>HORTO FLORESTAL</td><td>5.57</td><td>1</td><td>Basic</td></tr><tr><td>CUBATAO</td><td>VILA NOVA</td><td>6.80</td><td>1</td><td>Basic</td></tr><tr><td>PATOS</td><td>CENTRO</td><td>5.89</td><td>2</td><td>Basic</td></tr><tr><td>MOCOCA</td><td>JARDIM SAO FRANCISCO</td><td>5.99</td><td>1</td><td>Basic</td></tr><tr><td>SAO PAULO</td><td>VILA PLANA</td><td>4.82</td><td>1</td><td>Basic</td></tr><tr><td>ALTA FLORESTA</td><td>CANTEIRO CENTRAL</td><td>6.72</td><td>1</td><td>Basic</td></tr><tr><td>PALHOCA</td><td>RIO GRANDE</td><td>5.99</td><td>1</td><td>Basic</td></tr><tr><td>VARZEA PAULISTA</td><td>JD BERTIOGA</td><td>5.94</td><td>1</td><td>Basic</td></tr><tr><td>GOIATUBA</td><td>SETOR IMPERIAL</td><td>5.59</td><td>1</td><td>Basic</td></tr><tr><td>LINHARES</td><td>NOVO HORIZONTE</td><td>5.90</td><td>2</td><td>Basic</td></tr><tr><td>FLORIANOPOLIS</td><td>CORREGO GRANDE</td><td>6.09</td><td>1</td><td>Basic</td></tr><tr><td>CAMACARI</td><td>POLO PETROQUIMICO</td><td>6.50</td><td>1</td><td>Basic</td></tr><tr><td>RECIFE</td><td>SAN MARTIN</td><td>5.19</td><td>1</td><td>Basic</td></tr><tr><td>MINEIROS</td><td>MANOEL ABRAO</td><td>6.12</td><td>1</td><td>Basic</td></tr><tr><td>TABOAO DA SERRA</td><td>JARDIM SALETE</td><td>6.18</td><td>1</td><td>Basic</td></tr><tr><td>LIVRAMENTO DE NOSSA SENHORA</td><td>TAQUARI</td><td>5.98</td><td>3</td><td>Basic</td></tr><tr><td>UBATUBA</td><td>CENTRO</td><td>5.93</td><td>3</td><td>Basic</td></tr><tr><td>PARNAMIRIM</td><td>ROSA DOS VENTOS</td><td>6.29</td><td>1</td><td>Basic</td></tr><tr><td>NOVO HAMBURGO</td><td>HAMBURGO VELHO</td><td>5.47</td><td>1</td><td>Basic</td></tr><tr><td>FORTALEZA</td><td>MONDUBIM</td><td>5.95</td><td>2</td><td>Basic</td></tr><tr><td>SAO PAULO</td><td>SANTO AMARO</td><td>6.08</td><td>3</td><td>Basic</td></tr><tr><td>ALTAMIRA</td><td>CENTRO</td><td>6.49</td><td>3</td><td>Basic</td></tr><tr><td>SANTA BARBARA D'OESTE</td><td>CIDADE NOVA</td><td>5.67</td><td>1</td><td>Basic</td></tr><tr><td>GOIANIA</td><td>CONJUNTO ROMILDO FERREIRA DO AMARAL</td><td>5.89</td><td>1</td><td>Basic</td></tr><tr><td>MAGE</td><td>PIABETA</td><td>5.73</td><td>2</td><td>Basic</td></tr><tr><td>LIMEIRA</td><td>ANAVEC</td><td>5.99</td><td>1</td><td>Basic</td></tr><tr><td>SAPIRANGA</td><td>HORIZONTE</td><td>5.79</td><td>1</td><td>Basic</td></tr><tr><td>PETROLINA</td><td>ZONA RURAL</td><td>5.76</td><td>2</td><td>Basic</td></tr><tr><td>CAMPO BELO</td><td>AEROPORTO</td><td>5.89</td><td>1</td><td>Basic</td></tr><tr><td>TERESINA</td><td>SAO  JOAO</td><td>5.89</td><td>1</td><td>Basic</td></tr><tr><td>ITAPECERICA DA SERRA</td><td>CENTRO</td><td>5.81</td><td>2</td><td>Basic</td></tr><tr><td>SANTOS</td><td>MACUCO</td><td>5.54</td><td>1</td><td>Basic</td></tr><tr><td>SANTA MARIA</td><td>MEDIANEIRA</td><td>6.69</td><td>1</td><td>Basic</td></tr><tr><td>ALAGOINHAS</td><td>SAUIPE</td><td>5.69</td><td>1</td><td>Basic</td></tr><tr><td>IMPERATRIZ</td><td>BACURI</td><td>5.90</td><td>4</td><td>Basic</td></tr><tr><td>VACARIA</td><td>SANTA TEREZINHA</td><td>6.00</td><td>3</td><td>Basic</td></tr><tr><td>CAMPOS DOS GOYTACAZES</td><td>URURAÍ</td><td>5.74</td><td>1</td><td>Basic</td></tr><tr><td>PATOS DE MINAS</td><td>CRISTO REDENTOR</td><td>6.00</td><td>3</td><td>Basic</td></tr><tr><td>PAULO AFONSO</td><td>TANCREDO NEVES II</td><td>6.03</td><td>3</td><td>Basic</td></tr><tr><td>CRICIUMA</td><td>JARDIM MARISTELA</td><td>5.60</td><td>2</td><td>Basic</td></tr><tr><td>PORTO ALEGRE</td><td>PETROPOLIS</td><td>5.79</td><td>2</td><td>Basic</td></tr><tr><td>TIMOTEO</td><td>OLARIA</td><td>5.74</td><td>1</td><td>Basic</td></tr><tr><td>PALMAS</td><td>CENTRO (TAQUARALTO)</td><td>5.74</td><td>1</td><td>Basic</td></tr><tr><td>TUPA</td><td>VILA TUPA MIRIM II</td><td>5.99</td><td>1</td><td>Basic</td></tr><tr><td>DOURADOS</td><td>VILA LILI</td><td>6.07</td><td>1</td><td>Basic</td></tr><tr><td>CRATO</td><td>MURITI</td><td>5.97</td><td>1</td><td>Basic</td></tr><tr><td>VIAMAO</td><td>KRAHE</td><td>6.24</td><td>1</td><td>Basic</td></tr><tr><td>NOVO HAMBURGO</td><td>CENTRO</td><td>5.67</td><td>1</td><td>Basic</td></tr><tr><td>CIANORTE</td><td>ZONA TRES</td><td>5.49</td><td>1</td><td>Basic</td></tr><tr><td>BOTUCATU</td><td>RUBIAO JUNIOR</td><td>5.99</td><td>1</td><td>Basic</td></tr><tr><td>UBERLANDIA</td><td>PARQUE GRANADA</td><td>5.87</td><td>1</td><td>Basic</td></tr><tr><td>ACAILANDIA</td><td>GETAT</td><td>5.83</td><td>1</td><td>Basic</td></tr><tr><td>JABOTICABAL</td><td>APARECIDA</td><td>5.79</td><td>1</td><td>Basic</td></tr><tr><td>CONTAGEM</td><td>INDUSTRIAL-3 SECAO</td><td>5.69</td><td>1</td><td>Basic</td></tr><tr><td>CAMPO GRANDE</td><td>VILA SANTA  CATARINA</td><td>5.99</td><td>1</td><td>Basic</td></tr><tr><td>PASSO FUNDO</td><td>VILA ARAUJO</td><td>5.79</td><td>1</td><td>Basic</td></tr><tr><td>NOVA ANDRADINA</td><td>CENTRO</td><td>6.12</td><td>7</td><td>Basic</td></tr><tr><td>TAUBATE</td><td>CENTRO</td><td>5.85</td><td>2</td><td>Basic</td></tr><tr><td>ARARIPINA</td><td>MORAIS</td><td>5.67</td><td>2</td><td>Basic</td></tr><tr><td>JOINVILLE</td><td>BUCAREIN</td><td>5.56</td><td>2</td><td>Basic</td></tr><tr><td>LAGUNA</td><td>BARRANCEIRA</td><td>5.94</td><td>1</td><td>Basic</td></tr><tr><td>ALTAMIRA</td><td>JARDIM INDEPENDENTE I</td><td>6.77</td><td>1</td><td>Basic</td></tr><tr><td>SERTAOZINHO</td><td>JARDIM GRANDE ALIANCA</td><td>5.89</td><td>1</td><td>Basic</td></tr><tr><td>RIBEIRAO PIRES</td><td>JARDIM PASTORIL</td><td>6.29</td><td>1</td><td>Basic</td></tr><tr><td>MOGI DAS CRUZES</td><td>PARQUE SANTANA</td><td>5.59</td><td>1</td><td>Basic</td></tr><tr><td>NOSSA SENHORA DO SOCORRO</td><td>PARQUE DOS FAROIS</td><td>5.85</td><td>1</td><td>Basic</td></tr><tr><td>TORRES</td><td>ENGENHO VELHO</td><td>5.79</td><td>2</td><td>Basic</td></tr><tr><td>SAO JOAO DE MERITI</td><td>AGOSTINHO PORTO</td><td>4.59</td><td>1</td><td>Basic</td></tr><tr><td>MARILIA</td><td>PALMITAL PROLONG</td><td>6.69</td><td>1</td><td>Basic</td></tr><tr><td>COTIA</td><td>CHACARA REMANSO</td><td>5.77</td><td>1</td><td>Basic</td></tr><tr><td>FOZ DO IGUACU</td><td>VILA BRASILIA</td><td>5.79</td><td>1</td><td>Basic</td></tr><tr><td>SAO PAULO</td><td>JARDIM MATARAZZO</td><td>5.99</td><td>1</td><td>Basic</td></tr><tr><td>CONSELHEIRO LAFAIETE</td><td>JARDIM AMERICA</td><td>6.19</td><td>1</td><td>Basic</td></tr><tr><td>CACHOEIRINHA</td><td>VILA IMBUI</td><td>5.94</td><td>1</td><td>Basic</td></tr><tr><td>RONDONOPOLIS</td><td>LOTEAMENTO ALVES</td><td>6.30</td><td>1</td><td>Basic</td></tr><tr><td>NITEROI</td><td>FONSECA</td><td>5.44</td><td>9</td><td>Premium</td></tr><tr><td>SOROCABA</td><td>ALEM PONTE</td><td>5.84</td><td>1</td><td>Basic</td></tr><tr><td>SAO JOAO DEL REI</td><td>COLONIA DO MARÇAL</td><td>5.93</td><td>1</td><td>Basic</td></tr><tr><td>AVARE</td><td>CENTRO</td><td>6.21</td><td>4</td><td>Basic</td></tr><tr><td>SERRA TALHADA</td><td>BOM JESUS</td><td>5.97</td><td>1</td><td>Basic</td></tr><tr><td>NILOPOLIS</td><td>CENTRO</td><td>5.82</td><td>2</td><td>Basic</td></tr><tr><td>PINHEIRO</td><td>PONTA DE SANTANA</td><td>5.95</td><td>1</td><td>Basic</td></tr><tr><td>CONCEICAO DO ARAGUAIA</td><td>CENTRO</td><td>6.37</td><td>3</td><td>Basic</td></tr><tr><td>REDENCAO</td><td>JARDIM UMUARAMA</td><td>5.89</td><td>1</td><td>Basic</td></tr><tr><td>TERESINA</td><td>MARQUES DE PARANAGUA</td><td>5.72</td><td>1</td><td>Basic</td></tr><tr><td>AMERICANA</td><td>CARIOBINHA</td><td>6.09</td><td>1</td><td>Basic</td></tr><tr><td>BAGE</td><td>CENTRO</td><td>6.75</td><td>2</td><td>Basic</td></tr><tr><td>FRANCA</td><td>JARDIM MARAMBAIA</td><td>5.79</td><td>1</td><td>Basic</td></tr><tr><td>GUANAMBI</td><td>PARAÍSO</td><td>6.09</td><td>1</td><td>Basic</td></tr><tr><td>GUARAPUAVA</td><td>BOQUEIRAO</td><td>5.38</td><td>1</td><td>Basic</td></tr><tr><td>TUBARAO</td><td>REVOREDO</td><td>5.42</td><td>1</td><td>Basic</td></tr><tr><td>CORUMBA</td><td>UNIVERSITARIO</td><td>7.47</td><td>1</td><td>Basic</td></tr><tr><td>SALVADOR</td><td>ESTRADA DA BASE NAVAL</td><td>5.34</td><td>1</td><td>Basic</td></tr><tr><td>SALVADOR</td><td>ITAPOAN</td><td>5.99</td><td>1</td><td>Basic</td></tr><tr><td>CACHOEIRO DE ITAPEMIRIM</td><td>ABELARDO FERREIRA MACHADO</td><td>5.99</td><td>1</td><td>Basic</td></tr><tr><td>UBERABA</td><td>RESIDENCIAL DOUTOR ABEL REIS</td><td>5.76</td><td>1</td><td>Basic</td></tr><tr><td>CAICO</td><td>BARRA NOVA</td><td>6.74</td><td>1</td><td>Basic</td></tr><tr><td>CATALAO</td><td>IPANEMA</td><td>5.91</td><td>1</td><td>Basic</td></tr><tr><td>SAO PAULO</td><td>MOOCA</td><td>6.38</td><td>5</td><td>Basic</td></tr><tr><td>GUARUJA</td><td>JARDIM BOA ESPERANCA</td><td>6.26</td><td>2</td><td>Basic</td></tr><tr><td>JUAZEIRO</td><td>CASTELO BRANCO</td><td>5.97</td><td>2</td><td>Basic</td></tr><tr><td>PORTO VELHO</td><td>NOSSA SENHORA DAS GRACAS</td><td>6.39</td><td>1</td><td>Basic</td></tr><tr><td>LIMEIRA</td><td>JARDIM ALVORADA</td><td>5.94</td><td>1</td><td>Basic</td></tr><tr><td>SAO PAULO</td><td>JD IGUATEMI</td><td>5.58</td><td>2</td><td>Basic</td></tr><tr><td>TEIXEIRA DE FREITAS</td><td>MONTE CASTELO</td><td>6.06</td><td>2</td><td>Basic</td></tr><tr><td>AMERICANA</td><td>DISTR. INDL MARIA J.C.ABRAO</td><td>6.14</td><td>1</td><td>Basic</td></tr><tr><td>VARZEA GRANDE</td><td>AEROPORTO</td><td>3.54</td><td>1</td><td>Basic</td></tr><tr><td>FORTALEZA</td><td>HENRIQUE JORGE</td><td>5.34</td><td>1</td><td>Basic</td></tr><tr><td>FRANCA</td><td>JARDIM MARIA ROSA</td><td>5.99</td><td>1</td><td>Basic</td></tr><tr><td>VIAMAO</td><td>SANTA CECILIA</td><td>5.84</td><td>1</td><td>Basic</td></tr><tr><td>BOA VISTA</td><td>CAUAME</td><td>6.49</td><td>1</td><td>Basic</td></tr><tr><td>SAO LUIS</td><td>BEQUIMAO</td><td>5.48</td><td>1</td><td>Basic</td></tr><tr><td>VIAMAO</td><td>JARDIM DO COCAO</td><td>5.89</td><td>1</td><td>Basic</td></tr><tr><td>LORENA</td><td>VILA IPE</td><td>5.47</td><td>1</td><td>Basic</td></tr><tr><td>OURO PRETO</td><td>CENTRO</td><td>5.80</td><td>1</td><td>Basic</td></tr><tr><td>TERESINA</td><td>SANTA ROSA</td><td>6.02</td><td>1</td><td>Basic</td></tr><tr><td>LAGARTO</td><td>RODOVIA</td><td>5.80</td><td>1</td><td>Basic</td></tr><tr><td>BRUMADO</td><td>VILA CATIBOABA</td><td>5.94</td><td>1</td><td>Basic</td></tr><tr><td>BELO HORIZONTE</td><td>CASTELO</td><td>5.99</td><td>1</td><td>Basic</td></tr><tr><td>MOGI GUACU</td><td>JARDIM IGACABA</td><td>6.19</td><td>1</td><td>Basic</td></tr><tr><td>DUQUE DE CAXIAS</td><td>CHACARAS RIO PETRPOLIS</td><td>5.56</td><td>1</td><td>Basic</td></tr><tr><td>MANAUS</td><td>CENTRO</td><td>6.23</td><td>3</td><td>Basic</td></tr><tr><td>CURITIBA</td><td>XAXIM</td><td>5.89</td><td>2</td><td>Basic</td></tr><tr><td>BRASILIA</td><td>CEILANDIA NORTE</td><td>5.99</td><td>1</td><td>Basic</td></tr><tr><td>IPIRA</td><td>CENTRO</td><td>5.90</td><td>5</td><td>Basic</td></tr><tr><td>SALVADOR</td><td>PAU MIUDO</td><td>5.20</td><td>2</td><td>Basic</td></tr><tr><td>CAMPO BELO</td><td>CENTRO</td><td>5.88</td><td>4</td><td>Basic</td></tr><tr><td>APARECIDA DE GOIANIA</td><td>CHACARAS SAO PEDRO</td><td>5.97</td><td>1</td><td>Basic</td></tr><tr><td>SAO PAULO</td><td>C. REDENDO</td><td>5.49</td><td>1</td><td>Basic</td></tr><tr><td>DUQUE DE CAXIAS</td><td>NOSSA SENHORA DO PILAR</td><td>6.24</td><td>1</td><td>Basic</td></tr><tr><td>CUIABA</td><td>JARDIM EUROPA</td><td>6.16</td><td>1</td><td>Basic</td></tr><tr><td>TRES CORACOES</td><td>PERO</td><td>6.32</td><td>2</td><td>Basic</td></tr><tr><td>CRICIUMA</td><td>SAO CRISTOVAO</td><td>5.89</td><td>1</td><td>Basic</td></tr><tr><td>BELO JARDIM</td><td>COHAB I</td><td>5.68</td><td>1</td><td>Basic</td></tr><tr><td>PORTO NACIONAL</td><td>SETOR AEROPORTO</td><td>5.49</td><td>1</td><td>Basic</td></tr><tr><td>JOAO PESSOA</td><td>ERNANI SATYRO</td><td>5.66</td><td>1</td><td>Basic</td></tr><tr><td>UBA</td><td>SANTANA</td><td>5.83</td><td>1</td><td>Basic</td></tr><tr><td>CONSELHEIRO LAFAIETE</td><td>CENTRO</td><td>6.15</td><td>4</td><td>Basic</td></tr><tr><td>MANAUS</td><td>CIDADE NOVA</td><td>6.25</td><td>3</td><td>Basic</td></tr><tr><td>LAJEDO</td><td>CENTRO</td><td>5.73</td><td>9</td><td>Premium</td></tr><tr><td>QUIXADA</td><td>CARRASCAL</td><td>5.79</td><td>1</td><td>Basic</td></tr><tr><td>BIGUACU</td><td>MORRO DA BINA</td><td>4.89</td><td>1</td><td>Basic</td></tr><tr><td>SAO VICENTE</td><td>BEIRA MAR</td><td>6.04</td><td>1</td><td>Basic</td></tr><tr><td>BOA VISTA</td><td>CACARI</td><td>6.48</td><td>1</td><td>Basic</td></tr><tr><td>TAUBATE</td><td>JD. DAS NACOES</td><td>5.99</td><td>1</td><td>Basic</td></tr><tr><td>SAO PAULO</td><td>JARDIM MARINA</td><td>6.29</td><td>1</td><td>Basic</td></tr><tr><td>NATAL</td><td>PITIMBU</td><td>5.82</td><td>3</td><td>Basic</td></tr><tr><td>OSASCO</td><td>CIPAVA</td><td>5.38</td><td>1</td><td>Basic</td></tr><tr><td>OSORIO</td><td>SEDE</td><td>6.04</td><td>1</td><td>Basic</td></tr><tr><td>SAO VICENTE</td><td>VILA CASCATINHA</td><td>6.09</td><td>1</td><td>Basic</td></tr><tr><td>CAMPO GRANDE</td><td>JARDIM FLUMINENSE</td><td>5.69</td><td>1</td><td>Basic</td></tr><tr><td>ITABORAI</td><td>RETIRO SÃO JOAQUIM</td><td>5.19</td><td>1</td><td>Basic</td></tr><tr><td>SOROCABA</td><td>VILA CAROL</td><td>5.99</td><td>1</td><td>Basic</td></tr><tr><td>MOGI DAS CRUZES</td><td>JD CINTIA</td><td>6.49</td><td>1</td><td>Basic</td></tr><tr><td>CAMPINA GRANDE</td><td>SANDRA CAVALCANTE</td><td>5.59</td><td>1</td><td>Basic</td></tr><tr><td>SAO GONCALO</td><td>JARDIM CATARINA</td><td>5.74</td><td>1</td><td>Basic</td></tr><tr><td>ARAGUAINA</td><td>SANTA TEREZINHA</td><td>6.19</td><td>1</td><td>Basic</td></tr><tr><td>POA</td><td>VILA JAU</td><td>5.14</td><td>1</td><td>Basic</td></tr><tr><td>COTIA</td><td>CAUCAIA DO ALTO</td><td>5.82</td><td>2</td><td>Basic</td></tr><tr><td>BARBACENA</td><td>CAIÇARAS</td><td>5.39</td><td>1</td><td>Basic</td></tr><tr><td>FORTALEZA</td><td>BENFICA</td><td>5.28</td><td>2</td><td>Basic</td></tr><tr><td>SALGUEIRO</td><td>NOSSA SENHORA APARECIDA</td><td>6.75</td><td>1</td><td>Basic</td></tr><tr><td>OURINHOS</td><td>NOVA OURINHOS</td><td>7.44</td><td>2</td><td>Basic</td></tr><tr><td>ANAPOLIS</td><td>JK PARQUE INDUSTRIAL NOVA CAPITAL</td><td>5.89</td><td>1</td><td>Basic</td></tr><tr><td>PORTO SEGURO</td><td>OLHOS DAGUA</td><td>6.85</td><td>1</td><td>Basic</td></tr><tr><td>PORTO VELHO</td><td>MARIANA</td><td>6.08</td><td>1</td><td>Basic</td></tr><tr><td>MONTE ALTO</td><td>SAO GUILHERME</td><td>6.04</td><td>1</td><td>Basic</td></tr><tr><td>BELO HORIZONTE</td><td>FLORAMAR</td><td>5.89</td><td>1</td><td>Basic</td></tr><tr><td>SAO CAETANO DO SUL</td><td>JARDIM SAO CAETANO</td><td>6.39</td><td>1</td><td>Basic</td></tr><tr><td>GOIANIA</td><td>JD ATLANTICO</td><td>5.94</td><td>1</td><td>Basic</td></tr><tr><td>IBITINGA</td><td>SALTINHO</td><td>5.67</td><td>1</td><td>Basic</td></tr><tr><td>PORTO FERREIRA</td><td>JARDIM AEROPORTO</td><td>5.79</td><td>1</td><td>Basic</td></tr><tr><td>LAGUNA</td><td>CENTRO</td><td>5.98</td><td>1</td><td>Basic</td></tr><tr><td>XINGUARA</td><td>ITAMARATI</td><td>6.03</td><td>1</td><td>Basic</td></tr><tr><td>GRAVATAI</td><td>SÍTIO SOBRADO</td><td>5.69</td><td>2</td><td>Basic</td></tr><tr><td>GUARAPUAVA</td><td>VILA BELA</td><td>5.81</td><td>1</td><td>Basic</td></tr><tr><td>PORTO SEGURO</td><td>MIRANTE DAS CARAVELAS</td><td>6.50</td><td>1</td><td>Basic</td></tr><tr><td>DIADEMA</td><td>PIRAPORINHA</td><td>5.38</td><td>1</td><td>Basic</td></tr><tr><td>IPIRA</td><td>SEDE</td><td>6.53</td><td>1</td><td>Basic</td></tr><tr><td>PRAIA GRANDE</td><td>AVIACAO</td><td>6.29</td><td>1</td><td>Basic</td></tr><tr><td>PETROLINA</td><td>VILA MOCO</td><td>6.09</td><td>1</td><td>Basic</td></tr><tr><td>CAXIAS DO SUL</td><td>NOSSA SENHORA DE FATIMA</td><td>6.13</td><td>2</td><td>Basic</td></tr><tr><td>MATAO</td><td>CENTRO</td><td>6.58</td><td>3</td><td>Basic</td></tr><tr><td>SOUSA</td><td>JARDIM SORRILANDIA III</td><td>5.79</td><td>1</td><td>Basic</td></tr><tr><td>GUARULHOS</td><td>JD. SAO FRANCISCO</td><td>5.79</td><td>1</td><td>Basic</td></tr><tr><td>RIO BRANCO</td><td>7 BEC</td><td>7.12</td><td>1</td><td>Basic</td></tr><tr><td>NOSSA SENHORA DO SOCORRO</td><td>TAICOCA</td><td>6.27</td><td>1</td><td>Basic</td></tr><tr><td>SAO PAULO</td><td>JD DAS OLIVEIRAS</td><td>6.19</td><td>1</td><td>Basic</td></tr><tr><td>PORTO NACIONAL</td><td>JARDIM UMUARAMA 4</td><td>5.65</td><td>1</td><td>Basic</td></tr><tr><td>BENTO GONCALVES</td><td>SAO VENDELINO</td><td>5.84</td><td>1</td><td>Basic</td></tr><tr><td>ANAPOLIS</td><td>STR PARQUE DAS NACOE</td><td>5.64</td><td>1</td><td>Basic</td></tr><tr><td>ARAGUAINA</td><td>SETOR BRASIL</td><td>5.57</td><td>1</td><td>Basic</td></tr><tr><td>FORMOSA</td><td>PRQUE LAGO</td><td>6.74</td><td>1</td><td>Basic</td></tr><tr><td>JOINVILLE</td><td>NOVA BRASILIA</td><td>5.75</td><td>1</td><td>Basic</td></tr><tr><td>SALGUEIRO</td><td>AUGUSTO DE ALENCAR SAMPAIO</td><td>5.57</td><td>1</td><td>Basic</td></tr><tr><td>MACEIO</td><td>SAO JORGE</td><td>5.59</td><td>1</td><td>Basic</td></tr><tr><td>COSMOPOLIS</td><td>BELA VISTA</td><td>6.04</td><td>1</td><td>Basic</td></tr><tr><td>PRESIDENTE PRUDENTE</td><td>JARDIM SAO PEDRO</td><td>5.94</td><td>1</td><td>Basic</td></tr><tr><td>FEIRA DE SANTANA</td><td>MANGABEIRA</td><td>5.98</td><td>1</td><td>Basic</td></tr><tr><td>TUBARAO</td><td>CENTRO</td><td>5.31</td><td>2</td><td>Basic</td></tr><tr><td>GUARULHOS</td><td>CIDADE JARDIM CUMBICA</td><td>5.89</td><td>2</td><td>Basic</td></tr><tr><td>HORTOLANDIA</td><td>VILA REAL SANTISTA</td><td>5.55</td><td>1</td><td>Basic</td></tr><tr><td>FRANCA</td><td>SAO JOSE</td><td>5.89</td><td>1</td><td>Basic</td></tr><tr><td>BENTO GONCALVES</td><td>VALE DOS VINHEDOS</td><td>5.87</td><td>1</td><td>Basic</td></tr><tr><td>FRANCA</td><td>DISTRITO INDUSTRIAL</td><td>5.92</td><td>1</td><td>Basic</td></tr><tr><td>BRUMADO</td><td>SAO JORGE</td><td>5.84</td><td>1</td><td>Basic</td></tr><tr><td>BELEM</td><td>NAZARE</td><td>6.35</td><td>1</td><td>Basic</td></tr><tr><td>PORTO VELHO</td><td>LAGOA</td><td>6.36</td><td>2</td><td>Basic</td></tr><tr><td>LAGES</td><td>CENTRO</td><td>6.09</td><td>1</td><td>Basic</td></tr><tr><td>SALTO</td><td>CHACARA VENDRAMINI</td><td>5.37</td><td>1</td><td>Basic</td></tr><tr><td>MACAPA</td><td>INFRAERO</td><td>6.39</td><td>1</td><td>Basic</td></tr><tr><td>CRATEUS</td><td>PLANALTO</td><td>5.75</td><td>1</td><td>Basic</td></tr><tr><td>SAO MATEUS</td><td>GURIRI SUL</td><td>5.88</td><td>1</td><td>Basic</td></tr><tr><td>CAMPO GRANDE</td><td>CORONEL ANTONINO</td><td>5.83</td><td>1</td><td>Basic</td></tr><tr><td>SAO PAULO</td><td>VILA SULINA</td><td>5.84</td><td>1</td><td>Basic</td></tr><tr><td>DUQUE DE CAXIAS</td><td>VILA SANTA CRUZ</td><td>5.19</td><td>1</td><td>Basic</td></tr><tr><td>SAO JOSE DE RIBAMAR</td><td>TURU</td><td>5.59</td><td>1</td><td>Basic</td></tr><tr><td>SAO PAULO</td><td>VILA SANTA EULALIA</td><td>7.99</td><td>1</td><td>Basic</td></tr><tr><td>AVARE</td><td>JARDIM SÃO PAULO</td><td>6.74</td><td>1</td><td>Basic</td></tr><tr><td>JOSE BONIFACIO</td><td>null</td><td>6.12</td><td>1</td><td>Basic</td></tr><tr><td>UNAI</td><td>BARROCA</td><td>6.09</td><td>1</td><td>Basic</td></tr><tr><td>SAO JOAO DE MERITI</td><td>VILAR DOS TELES</td><td>5.23</td><td>2</td><td>Basic</td></tr><tr><td>CAMPINAS</td><td>DISTRITO INDUSTRIAL</td><td>6.75</td><td>1</td><td>Basic</td></tr><tr><td>SAQUAREMA</td><td>BACAXA</td><td>6.17</td><td>2</td><td>Basic</td></tr><tr><td>ARIQUEMES</td><td>SETOR 02</td><td>6.20</td><td>2</td><td>Basic</td></tr><tr><td>ITAQUAQUECETUBA</td><td>MANDI</td><td>5.94</td><td>1</td><td>Basic</td></tr><tr><td>BENTO GONCALVES</td><td>LICORSUL</td><td>5.84</td><td>1</td><td>Basic</td></tr><tr><td>UBERLANDIA</td><td>BRASIL</td><td>5.74</td><td>2</td><td>Basic</td></tr><tr><td>FLORIANOPOLIS</td><td>AGRONOMICA</td><td>6.59</td><td>1</td><td>Basic</td></tr><tr><td>SAO BERNARDO DO CAMPO</td><td>VILA MAGNOLIA</td><td>5.46</td><td>1</td><td>Basic</td></tr><tr><td>TABOAO DA SERRA</td><td>VILA SANTA LUZIA</td><td>6.19</td><td>1</td><td>Basic</td></tr><tr><td>VILA VELHA</td><td>ITAPARICA</td><td>6.14</td><td>2</td><td>Basic</td></tr><tr><td>SAO PAULO</td><td>JD JACARANDAS</td><td>6.49</td><td>1</td><td>Basic</td></tr><tr><td>NOVA FRIBURGO</td><td>CHACARA PARAISO</td><td>6.59</td><td>1</td><td>Basic</td></tr><tr><td>TERESINA</td><td>NOIVOS</td><td>6.02</td><td>3</td><td>Basic</td></tr><tr><td>SANTO ANTONIO DE PADUA</td><td>5 º DISTRITO</td><td>5.89</td><td>1</td><td>Basic</td></tr><tr><td>POCOS DE CALDAS</td><td>VILA NOVA</td><td>5.99</td><td>1</td><td>Basic</td></tr><tr><td>ITACOATIARA</td><td>SAO JORGE</td><td>7.09</td><td>1</td><td>Basic</td></tr><tr><td>SAO GONCALO</td><td>CALA BOCA</td><td>5.69</td><td>1</td><td>Basic</td></tr><tr><td>CAMPO LARGO</td><td>VILA ELIZABETH</td><td>5.79</td><td>1</td><td>Basic</td></tr><tr><td>SENHOR DO BONFIM</td><td>RODOVIARIO</td><td>6.20</td><td>1</td><td>Basic</td></tr><tr><td>INDAIATUBA</td><td>RECREIO CAMPESTRE JOIA</td><td>5.79</td><td>1</td><td>Basic</td></tr><tr><td>OSORIO</td><td>PANORAMICO</td><td>6.19</td><td>1</td><td>Basic</td></tr><tr><td>BLUMENAU</td><td>PONTA AGUDA</td><td>5.57</td><td>1</td><td>Basic</td></tr><tr><td>ITAPIPOCA</td><td>LADEIRA</td><td>6.57</td><td>1</td><td>Basic</td></tr><tr><td>ARARAS</td><td>DISTRITO INDUSTRIAL II</td><td>6.45</td><td>1</td><td>Basic</td></tr><tr><td>SANTOS</td><td>CHICO DE PAULA</td><td>6.19</td><td>1</td><td>Basic</td></tr><tr><td>CAXIAS DO SUL</td><td>SAO JOSE</td><td>6.14</td><td>1</td><td>Basic</td></tr><tr><td>MOSSORO</td><td>CENTRO</td><td>5.81</td><td>2</td><td>Basic</td></tr><tr><td>CONTAGEM</td><td>BITACULA E PEROBAS</td><td>5.36</td><td>1</td><td>Basic</td></tr><tr><td>BALSAS</td><td>ACUCENA</td><td>6.12</td><td>2</td><td>Basic</td></tr><tr><td>BARBACENA</td><td>CAICARAS</td><td>5.88</td><td>1</td><td>Basic</td></tr><tr><td>LONDRINA</td><td>JARDIM ATENAS</td><td>5.89</td><td>1</td><td>Basic</td></tr><tr><td>OSASCO</td><td>JD CIPAVA</td><td>6.74</td><td>1</td><td>Basic</td></tr><tr><td>SANTO ANTONIO DE PADUA</td><td>AEROPORTO</td><td>5.86</td><td>1</td><td>Basic</td></tr><tr><td>SAO LUIZ GONZAGA</td><td>FLORESTA</td><td>6.02</td><td>1</td><td>Basic</td></tr><tr><td>COLATINA</td><td>VILA AMELIA</td><td>5.94</td><td>1</td><td>Basic</td></tr><tr><td>SAO JOSE DO RIO PRETO</td><td>PARQUE JAGUARE</td><td>5.99</td><td>1</td><td>Basic</td></tr><tr><td>IJUI</td><td>MUNDSTOCK</td><td>6.59</td><td>1</td><td>Basic</td></tr><tr><td>VOLTA REDONDA</td><td>VILA MURY</td><td>5.94</td><td>1</td><td>Basic</td></tr><tr><td>MOSSORO</td><td>MONSENHOR AMERICO</td><td>5.68</td><td>1</td><td>Basic</td></tr><tr><td>VALENCA</td><td>GRACA</td><td>6.06</td><td>2</td><td>Basic</td></tr><tr><td>CARAGUATATUBA</td><td>CENTRO</td><td>6.23</td><td>1</td><td>Basic</td></tr><tr><td>SIMOES FILHO</td><td>CIA I</td><td>5.56</td><td>1</td><td>Basic</td></tr><tr><td>CURITIBA</td><td>AHU</td><td>5.99</td><td>1</td><td>Basic</td></tr><tr><td>CHAPECO</td><td>MARIA GORETTI</td><td>5.59</td><td>1</td><td>Basic</td></tr><tr><td>CUIABA</td><td>COSTA DO SOL</td><td>6.15</td><td>1</td><td>Basic</td></tr><tr><td>PAULISTA</td><td>ARTHUR LUNDGREN I</td><td>5.74</td><td>1</td><td>Basic</td></tr><tr><td>SINOP</td><td>RESIDENCIAL VITORIA REGIA</td><td>6.89</td><td>1</td><td>Basic</td></tr><tr><td>MORRINHOS</td><td>VILA SAO PEDRO</td><td>5.70</td><td>1</td><td>Basic</td></tr><tr><td>FORMIGA</td><td>CENTRO</td><td>5.89</td><td>3</td><td>Basic</td></tr><tr><td>ASSIS</td><td>VILA SANTA ELISA</td><td>6.54</td><td>1</td><td>Basic</td></tr><tr><td>BARRA MANSA</td><td>JARDIM BOA VISTA</td><td>5.71</td><td>2</td><td>Basic</td></tr><tr><td>JABOATAO DOS GUARARAPES</td><td>CANDEIAS</td><td>5.38</td><td>3</td><td>Basic</td></tr><tr><td>ITAQUAQUECETUBA</td><td>CUIABA</td><td>5.84</td><td>1</td><td>Basic</td></tr><tr><td>ARARAS</td><td>JARDIM BELVEDERE</td><td>5.67</td><td>1</td><td>Basic</td></tr><tr><td>CAMPINA GRANDE</td><td>LIBERDADE</td><td>5.68</td><td>4</td><td>Basic</td></tr><tr><td>SAO PAULO</td><td>BARRA FUNDA</td><td>6.25</td><td>2</td><td>Basic</td></tr><tr><td>VARZEA GRANDE</td><td>PETROPOLIS</td><td>5.86</td><td>1</td><td>Basic</td></tr><tr><td>LONDRINA</td><td>PARQUE INDUSTRIAL ALICANTE</td><td>5.74</td><td>1</td><td>Basic</td></tr><tr><td>CARUARU</td><td>T TORITAMA/CARUARU</td><td>5.61</td><td>1</td><td>Basic</td></tr><tr><td>CAMPINAS</td><td>JARDIM SAO JUDAS TADEU</td><td>5.47</td><td>1</td><td>Basic</td></tr><tr><td>FLORIANOPOLIS</td><td>CAPOEIRAS</td><td>4.86</td><td>1</td><td>Basic</td></tr><tr><td>PATOS</td><td>LIBERDADE</td><td>6.34</td><td>1</td><td>Basic</td></tr><tr><td>PORTO VELHO</td><td>ESPERANCA DA COMUNIDADE</td><td>6.37</td><td>1</td><td>Basic</td></tr><tr><td>MONTES CLAROS</td><td>DOUTOR JOAO ALVES</td><td>5.69</td><td>1</td><td>Basic</td></tr><tr><td>CAMPINA GRANDE</td><td>SANTA ROSA</td><td>5.94</td><td>1</td><td>Basic</td></tr><tr><td>GUARUJA</td><td>J BOA ESPERANCA</td><td>5.60</td><td>1</td><td>Basic</td></tr><tr><td>CUIABA</td><td>PORTO</td><td>5.91</td><td>3</td><td>Basic</td></tr><tr><td>JABOATAO DOS GUARARAPES</td><td>PIEDADE</td><td>5.67</td><td>7</td><td>Basic</td></tr><tr><td>VILA VELHA</td><td>SANTOS DUMONT</td><td>6.45</td><td>1</td><td>Basic</td></tr><tr><td>GOIANA</td><td>PONTAS DE PEDRA</td><td>5.59</td><td>1</td><td>Basic</td></tr><tr><td>RIO DE JANEIRO</td><td>SAO CRISTOVAO</td><td>5.52</td><td>2</td><td>Basic</td></tr><tr><td>MARINGA</td><td>VILA BOSQUE</td><td>6.39</td><td>1</td><td>Basic</td></tr><tr><td>FORTALEZA</td><td>ALDEOTA</td><td>5.92</td><td>5</td><td>Basic</td></tr><tr><td>CAUCAIA</td><td>ICARAI</td><td>6.04</td><td>1</td><td>Basic</td></tr><tr><td>UBERLANDIA</td><td>GLEBAS</td><td>5.89</td><td>1</td><td>Basic</td></tr><tr><td>MONTE CARMELO</td><td>ZONA RURAL</td><td>5.57</td><td>1</td><td>Basic</td></tr><tr><td>LIMEIRA</td><td>BOA VISTA</td><td>5.75</td><td>2</td><td>Basic</td></tr><tr><td>TERESINA</td><td>PROMORAR</td><td>5.69</td><td>1</td><td>Basic</td></tr><tr><td>BARRA MANSA</td><td>BARBARÁ</td><td>5.89</td><td>1</td><td>Basic</td></tr><tr><td>GUARULHOS</td><td>VILA ANNY</td><td>6.34</td><td>1</td><td>Basic</td></tr><tr><td>ITAJAI</td><td>SÃO JUDAS</td><td>6.09</td><td>1</td><td>Basic</td></tr><tr><td>CAMBE</td><td>PQ MANELLA</td><td>5.74</td><td>1</td><td>Basic</td></tr><tr><td>CACHOEIRO DE ITAPEMIRIM</td><td>TEIXEIRA LEITE</td><td>5.89</td><td>1</td><td>Basic</td></tr><tr><td>NOVA LIMA</td><td>VILA DA SERRA</td><td>5.99</td><td>1</td><td>Basic</td></tr><tr><td>SORRISO</td><td>INDUSTRIAL 1 ETAPA</td><td>5.89</td><td>1</td><td>Basic</td></tr><tr><td>CARUARU</td><td>MAURICIO DE NASSAU</td><td>5.61</td><td>3</td><td>Basic</td></tr><tr><td>PARANAGUA</td><td>VILA ITIBERE</td><td>6.39</td><td>1</td><td>Basic</td></tr><tr><td>MACEIO</td><td>GRUTA DE LOURDES</td><td>5.59</td><td>1</td><td>Basic</td></tr><tr><td>JUIZ DE FORA</td><td>CASCATINHA</td><td>5.70</td><td>1</td><td>Basic</td></tr><tr><td>UNAI</td><td>CAPIM BRANCO I</td><td>6.19</td><td>1</td><td>Basic</td></tr><tr><td>BETIM</td><td>DISTRITO INDUSTRIAL JARDIM PIEMONT NORTE</td><td>5.69</td><td>1</td><td>Basic</td></tr><tr><td>NATAL</td><td>POTENGI</td><td>5.56</td><td>3</td><td>Basic</td></tr><tr><td>TUPA</td><td>JARDIM AMERICA</td><td>5.70</td><td>1</td><td>Basic</td></tr><tr><td>VITORIA DA CONQUISTA</td><td>RECREIO</td><td>5.99</td><td>2</td><td>Basic</td></tr><tr><td>PINHAIS</td><td>VILA ESPLANADA</td><td>6.28</td><td>1</td><td>Basic</td></tr><tr><td>TRES CORACOES</td><td>COTIA</td><td>6.29</td><td>1</td><td>Basic</td></tr><tr><td>BALSAS</td><td>SETOR INDUSTRIAL</td><td>5.77</td><td>3</td><td>Basic</td></tr><tr><td>CANOAS</td><td>SAO LUIS</td><td>6.12</td><td>1</td><td>Basic</td></tr><tr><td>ARARANGUA</td><td>CIDADE ALTA</td><td>5.62</td><td>4</td><td>Basic</td></tr><tr><td>VOTORANTIM</td><td>RIO ACIMA</td><td>6.04</td><td>1</td><td>Basic</td></tr><tr><td>PORTO VELHO</td><td>JARDIM AMERICA</td><td>6.49</td><td>1</td><td>Basic</td></tr><tr><td>NOVA IGUACU</td><td>CABUCU</td><td>5.30</td><td>1</td><td>Basic</td></tr><tr><td>UBATUBA</td><td>UMUARAMA</td><td>6.07</td><td>1</td><td>Basic</td></tr><tr><td>CAMACARI</td><td>POLO INDUSTRIAL DE CAMACARI</td><td>4.99</td><td>1</td><td>Basic</td></tr><tr><td>SAO LUIS</td><td>SAO CRISTOVAO</td><td>5.92</td><td>2</td><td>Basic</td></tr><tr><td>GUARULHOS</td><td>JARDIM NOVA TABOAO</td><td>5.29</td><td>1</td><td>Basic</td></tr><tr><td>PARANAGUA</td><td>OCEANIA</td><td>6.09</td><td>1</td><td>Basic</td></tr><tr><td>VOTUPORANGA</td><td>VILA RECANTO DAS AGUAS</td><td>5.94</td><td>1</td><td>Basic</td></tr><tr><td>SANTO ANDRE</td><td>SACADURA CABRAL</td><td>5.99</td><td>1</td><td>Basic</td></tr><tr><td>JUIZ DE FORA</td><td>IGREJINHA</td><td>5.67</td><td>1</td><td>Basic</td></tr><tr><td>TRES RIOS</td><td>PONTO AZUL</td><td>5.82</td><td>2</td><td>Basic</td></tr><tr><td>POUSO ALEGRE</td><td>R.F.F.S.A.</td><td>5.97</td><td>1</td><td>Basic</td></tr><tr><td>PARAGOMINAS</td><td>URAIM</td><td>6.49</td><td>1</td><td>Basic</td></tr><tr><td>PIRACICABA</td><td>MORUMBI</td><td>6.60</td><td>1</td><td>Basic</td></tr><tr><td>CATALAO</td><td>NOSSA SRA DE FATIMA</td><td>5.87</td><td>1</td><td>Basic</td></tr><tr><td>IPATINGA</td><td>CARAVELAS</td><td>5.59</td><td>1</td><td>Basic</td></tr><tr><td>PARNAIBA</td><td>JOAO XIII</td><td>5.79</td><td>1</td><td>Basic</td></tr><tr><td>NATAL</td><td>LAGOA NOVA</td><td>5.93</td><td>3</td><td>Basic</td></tr><tr><td>GUARUJA</td><td>JARDIM BOA ESPERANCA (VICENTE DE CARVALHO)</td><td>5.72</td><td>1</td><td>Basic</td></tr><tr><td>SAO PAULO</td><td>LIMAO</td><td>5.79</td><td>1</td><td>Basic</td></tr><tr><td>NOVA FRIBURGO</td><td>OLARIA</td><td>6.09</td><td>1</td><td>Basic</td></tr><tr><td>ARACATUBA</td><td>JARDIM PAULISTA</td><td>6.19</td><td>1</td><td>Basic</td></tr><tr><td>CARUARU</td><td>BOA VISTA I</td><td>5.69</td><td>1</td><td>Basic</td></tr><tr><td>UBERABA</td><td>ESTADOS UNIDOS</td><td>5.73</td><td>2</td><td>Basic</td></tr><tr><td>ERECHIM</td><td>LINHO</td><td>5.83</td><td>2</td><td>Basic</td></tr><tr><td>GARCA</td><td>SALGUEIRO</td><td>5.88</td><td>1</td><td>Basic</td></tr><tr><td>CACHOEIRINHA</td><td>VILA CACHOEIRINHA</td><td>5.89</td><td>1</td><td>Basic</td></tr><tr><td>JOAO PINHEIRO</td><td>AEROPORTO</td><td>5.74</td><td>1</td><td>Basic</td></tr><tr><td>SAO JOSE DO RIO PRETO</td><td>PQ RES LAUREANO TEBA</td><td>6.34</td><td>1</td><td>Basic</td></tr><tr><td>BOA VISTA</td><td>CINTURAO VERDE</td><td>6.77</td><td>1</td><td>Basic</td></tr><tr><td>GRAVATAI</td><td>COHAB C</td><td>5.55</td><td>2</td><td>Basic</td></tr><tr><td>SANTA BARBARA D'OESTE</td><td>LAGOA SECA</td><td>5.89</td><td>1</td><td>Basic</td></tr><tr><td>JUNDIAI</td><td>IVOTURUCAIA</td><td>5.74</td><td>1</td><td>Basic</td></tr><tr><td>FORTALEZA</td><td>CENTRO</td><td>5.77</td><td>3</td><td>Basic</td></tr><tr><td>JUAZEIRO DO NORTE</td><td>FRANCISCANOS</td><td>6.04</td><td>1</td><td>Basic</td></tr><tr><td>SAO CARLOS</td><td>PARQUE FABER CASTEL</td><td>5.94</td><td>1</td><td>Basic</td></tr><tr><td>INDAIATUBA</td><td>DISTRITO INDUSTRIAL JOAO NAREZZI</td><td>5.43</td><td>1</td><td>Basic</td></tr><tr><td>BALNEARIO CAMBORIU</td><td>ARIRIBA</td><td>5.99</td><td>1</td><td>Basic</td></tr><tr><td>BARRA DO CORDA</td><td>CAJAZEIRA</td><td>5.90</td><td>1</td><td>Basic</td></tr><tr><td>ARACATUBA</td><td>PARQUE BAGUACU</td><td>6.29</td><td>1</td><td>Basic</td></tr><tr><td>SENHOR DO BONFIM</td><td>ITAMARATY</td><td>6.54</td><td>1</td><td>Basic</td></tr><tr><td>ARACATUBA</td><td>SAO VICENTE</td><td>5.99</td><td>1</td><td>Basic</td></tr><tr><td>CARIACICA</td><td>ALTO LAGE</td><td>5.76</td><td>1</td><td>Basic</td></tr><tr><td>SAPIRANGA</td><td>SETE DE SETEMBRO</td><td>5.82</td><td>1</td><td>Basic</td></tr><tr><td>ARARUAMA</td><td>CENTRO</td><td>6.32</td><td>1</td><td>Basic</td></tr><tr><td>SAO CAETANO DO SUL</td><td>SANTA MARIA</td><td>6.49</td><td>1</td><td>Basic</td></tr><tr><td>CAMPOS DOS GOYTACAZES</td><td>PARQUE LEOPOLDINA</td><td>5.80</td><td>1</td><td>Basic</td></tr><tr><td>UMUARAMA</td><td>ZONA SUBURBANA</td><td>5.52</td><td>1</td><td>Basic</td></tr><tr><td>CARUARU</td><td>BOA VISTA</td><td>5.69</td><td>1</td><td>Basic</td></tr><tr><td>BAURU</td><td>VILA CARDIA</td><td>5.24</td><td>1</td><td>Basic</td></tr><tr><td>VINHEDO</td><td>CAPELA</td><td>5.89</td><td>1</td><td>Basic</td></tr><tr><td>VARZEA GRANDE</td><td>23 DE SETEMBRO</td><td>5.82</td><td>1</td><td>Basic</td></tr><tr><td>RIBEIRAO PIRES</td><td>RONCON</td><td>5.84</td><td>1</td><td>Basic</td></tr><tr><td>MIRASSOL</td><td>JARDIM ALVORADA</td><td>5.49</td><td>1</td><td>Basic</td></tr><tr><td>GUARULHOS</td><td>JARDIM SANTA RITA</td><td>5.89</td><td>1</td><td>Basic</td></tr><tr><td>CAUCAIA</td><td>PARQUE SOLEDADE</td><td>5.47</td><td>2</td><td>Basic</td></tr><tr><td>GUAXUPE</td><td>CENTRO</td><td>5.75</td><td>4</td><td>Basic</td></tr><tr><td>GUARUJA</td><td>BALNEARIO PRAIA DO PEREQUE</td><td>6.42</td><td>1</td><td>Basic</td></tr><tr><td>PINHAIS</td><td>EMILIANO PERNETA</td><td>5.47</td><td>1</td><td>Basic</td></tr><tr><td>MOSSORO</td><td>BELO HORIZONTE</td><td>5.65</td><td>1</td><td>Basic</td></tr><tr><td>MANHUACU</td><td>BOM JARDIM</td><td>5.74</td><td>1</td><td>Basic</td></tr><tr><td>SUMARE</td><td>NOVA VENEZA</td><td>5.83</td><td>2</td><td>Basic</td></tr><tr><td>SAO PAULO</td><td>JARDIM GRIMALDI</td><td>6.12</td><td>1</td><td>Basic</td></tr><tr><td>CASCAVEL</td><td>PIONEIROS CATARINENSES</td><td>5.80</td><td>1</td><td>Basic</td></tr><tr><td>SAO PAULO</td><td>JARDIM D'ABRIL</td><td>5.27</td><td>1</td><td>Basic</td></tr><tr><td>ARARAQUARA</td><td>JARDIM NOVA AMERICA</td><td>5.69</td><td>1</td><td>Basic</td></tr><tr><td>RIO BRANCO</td><td>VILA IVONETE</td><td>7.12</td><td>1</td><td>Basic</td></tr><tr><td>MINEIROS</td><td>JOSE ANTONIO DA COSTA NERY</td><td>6.09</td><td>1</td><td>Basic</td></tr><tr><td>SANTO ANDRE</td><td>CENTRO</td><td>6.28</td><td>2</td><td>Basic</td></tr><tr><td>ALTA FLORESTA</td><td>RESIDENCIAL UNIVERSITARIO</td><td>6.64</td><td>1</td><td>Basic</td></tr><tr><td>PARANAGUA</td><td>CENTRO</td><td>6.39</td><td>1</td><td>Basic</td></tr><tr><td>PORTO ALEGRE</td><td>SANTA MARIA GORETTI</td><td>5.75</td><td>1</td><td>Basic</td></tr><tr><td>SAO JOSE DOS CAMPOS</td><td>RESIDEN. GALO BRANCO</td><td>5.89</td><td>1</td><td>Basic</td></tr><tr><td>TERESINA</td><td>TABULETA</td><td>5.83</td><td>2</td><td>Basic</td></tr><tr><td>BRASILIA</td><td>GAMA</td><td>5.75</td><td>5</td><td>Basic</td></tr><tr><td>CAMPO LARGO</td><td>SANTA TEREZINHA</td><td>5.83</td><td>1</td><td>Basic</td></tr><tr><td>CIANORTE</td><td>ZONA 01</td><td>5.61</td><td>2</td><td>Basic</td></tr><tr><td>QUIXADA</td><td>PUTIU</td><td>5.79</td><td>1</td><td>Basic</td></tr><tr><td>LINHARES</td><td>CENTRO</td><td>5.94</td><td>2</td><td>Basic</td></tr><tr><td>DIVINOPOLIS</td><td>NITEROI</td><td>5.67</td><td>3</td><td>Basic</td></tr><tr><td>GOIANIA</td><td>ST BUENO</td><td>5.97</td><td>1</td><td>Basic</td></tr><tr><td>TORRES</td><td>FAXINAL</td><td>5.86</td><td>2</td><td>Basic</td></tr><tr><td>BRASILIA</td><td>SANTA MARIA</td><td>5.97</td><td>3</td><td>Basic</td></tr><tr><td>GUARULHOS</td><td>VILA RIO DE JANEIRO</td><td>5.59</td><td>1</td><td>Basic</td></tr><tr><td>FRANCA</td><td>VILA APARECIDA</td><td>5.79</td><td>2</td><td>Basic</td></tr><tr><td>UMUARAMA</td><td>PARQUE INDUSTRIAL III</td><td>5.70</td><td>1</td><td>Basic</td></tr><tr><td>DUQUE DE CAXIAS</td><td>PARQUE JORGE ABDALA CHAMA</td><td>5.84</td><td>1</td><td>Basic</td></tr><tr><td>SAO JOSE DOS CAMPOS</td><td>JARDIM APOLO</td><td>6.16</td><td>1</td><td>Basic</td></tr><tr><td>SAO PAULO</td><td>JD PAULISTA</td><td>8.49</td><td>1</td><td>Basic</td></tr><tr><td>CARUARU</td><td>SALGADO</td><td>5.79</td><td>1</td><td>Basic</td></tr><tr><td>SALVADOR</td><td>BOCA DO RIO</td><td>5.90</td><td>1</td><td>Basic</td></tr><tr><td>TEFE</td><td>JURUA</td><td>7.76</td><td>1</td><td>Basic</td></tr><tr><td>PIRACICABA</td><td>JARAGUA</td><td>6.29</td><td>1</td><td>Basic</td></tr><tr><td>ITABORAI</td><td>SANTO EXPEDITO</td><td>5.76</td><td>1</td><td>Basic</td></tr><tr><td>JUIZ DE FORA</td><td>SALVATERRA</td><td>5.74</td><td>2</td><td>Basic</td></tr><tr><td>SAO JOSE DO RIO PRETO</td><td>JARDIM ALTO RIO PRET</td><td>5.63</td><td>1</td><td>Basic</td></tr><tr><td>PINDAMONHANGABA</td><td>MOMBACA</td><td>6.02</td><td>1</td><td>Basic</td></tr><tr><td>SALTO</td><td>JARDIM ELIZABETH</td><td>5.84</td><td>1</td><td>Basic</td></tr><tr><td>MANAUS</td><td>PARQUE 10 DE NOVEMBRO</td><td>6.29</td><td>2</td><td>Basic</td></tr><tr><td>JAU</td><td>JARDIM ALVORADA</td><td>6.09</td><td>1</td><td>Basic</td></tr><tr><td>BELO HORIZONTE</td><td>IPIRANGA</td><td>5.49</td><td>1</td><td>Basic</td></tr><tr><td>ARAGUARI</td><td>SIBIPIRUNA</td><td>5.53</td><td>1</td><td>Basic</td></tr><tr><td>PARAUAPEBAS</td><td>NOVO HORIZONTE</td><td>6.79</td><td>1</td><td>Basic</td></tr><tr><td>GOIATUBA</td><td>SETOR AEROPORTO</td><td>5.80</td><td>1</td><td>Basic</td></tr><tr><td>PRESIDENTE DUTRA</td><td>CAMPOS DANTAS</td><td>5.83</td><td>1</td><td>Basic</td></tr><tr><td>APUCARANA</td><td>VILA CASSALA</td><td>6.24</td><td>1</td><td>Basic</td></tr><tr><td>MARILIA</td><td>JOCKEI CLUBE</td><td>5.66</td><td>1</td><td>Basic</td></tr><tr><td>MOSSORO</td><td>SANTA DELMIRA</td><td>6.09</td><td>1</td><td>Basic</td></tr><tr><td>CRUZ ALTA</td><td>CENTRO</td><td>6.11</td><td>5</td><td>Basic</td></tr><tr><td>SAO JOSE DO RIO PRETO</td><td>JD. PINHEIROS</td><td>5.89</td><td>1</td><td>Basic</td></tr><tr><td>CONTAGEM</td><td>NSRA DO CARMO</td><td>5.55</td><td>1</td><td>Basic</td></tr><tr><td>BELFORD ROXO</td><td>NOVA PIAM</td><td>5.48</td><td>1</td><td>Basic</td></tr><tr><td>MANAUS</td><td>PARQUE DEZ DE NOVEMBRO</td><td>6.29</td><td>1</td><td>Basic</td></tr><tr><td>SAO PAULO</td><td>VL MORRO GRANDE</td><td>5.89</td><td>1</td><td>Basic</td></tr><tr><td>PARAUAPEBAS</td><td>DA PAZ</td><td>6.88</td><td>3</td><td>Basic</td></tr><tr><td>LONDRINA</td><td>CONJUNTO VIVI XAVIER</td><td>6.44</td><td>1</td><td>Basic</td></tr><tr><td>CARAGUATATUBA</td><td>CAPRICORNIO II</td><td>6.09</td><td>1</td><td>Basic</td></tr><tr><td>NOVA IGUACU</td><td>COMENDADOR SOARES</td><td>5.94</td><td>1</td><td>Basic</td></tr><tr><td>ANAPOLIS</td><td>SETOR SUL JAMIL MIGUEL</td><td>5.79</td><td>1</td><td>Basic</td></tr><tr><td>CAMPINAS</td><td>PARQUE SANTA LETICIA</td><td>5.94</td><td>1</td><td>Basic</td></tr><tr><td>MARINGA</td><td>JARDIM NILZA</td><td>5.58</td><td>1</td><td>Basic</td></tr><tr><td>SAO PAULO</td><td>VILA PRUDENTE</td><td>6.10</td><td>3</td><td>Basic</td></tr><tr><td>CACHOEIRINHA</td><td>DISTRITO INDUSTRIAL</td><td>5.46</td><td>1</td><td>Basic</td></tr><tr><td>VOTUPORANGA</td><td>JARDIM ALVORADA</td><td>6.07</td><td>1</td><td>Basic</td></tr><tr><td>VIAMAO</td><td>CECILIA</td><td>4.69</td><td>1</td><td>Basic</td></tr><tr><td>CABO FRIO</td><td>CENTRO</td><td>5.72</td><td>2</td><td>Basic</td></tr><tr><td>BETIM</td><td>CACHOEIRA</td><td>5.64</td><td>1</td><td>Basic</td></tr><tr><td>MANAUS</td><td>PRACA 14 DE JANEIRO</td><td>6.29</td><td>2</td><td>Basic</td></tr><tr><td>RIO CLARO</td><td>JARDIM MIRASSOL</td><td>5.31</td><td>1</td><td>Basic</td></tr><tr><td>PARINTINS</td><td>DJARD VIEIRA</td><td>6.79</td><td>1</td><td>Basic</td></tr><tr><td>CAMPINA GRANDE</td><td>TAMBOR</td><td>5.68</td><td>2</td><td>Basic</td></tr><tr><td>PATOS</td><td>LOT.DARCILIO WANDERL</td><td>5.83</td><td>1</td><td>Basic</td></tr><tr><td>MURIAE</td><td>CENTRO</td><td>5.90</td><td>2</td><td>Basic</td></tr><tr><td>ALTAMIRA</td><td>APARECIDA</td><td>6.67</td><td>1</td><td>Basic</td></tr><tr><td>CAMPO GRANDE</td><td>BAIIRRO CARANDA BOSQUE I</td><td>5.99</td><td>1</td><td>Basic</td></tr><tr><td>MAUA</td><td>JARDIM ZAIRA</td><td>6.29</td><td>1</td><td>Basic</td></tr><tr><td>CUIABA</td><td>BOA ESPERANCA</td><td>5.97</td><td>2</td><td>Basic</td></tr><tr><td>BRASILIA</td><td>SAMAMBAIA SUL</td><td>5.84</td><td>1</td><td>Basic</td></tr><tr><td>SAO PAULO</td><td>CITY JARAGUA</td><td>5.59</td><td>1</td><td>Basic</td></tr><tr><td>OURINHOS</td><td>VILA SAO LUIZ</td><td>7.25</td><td>1</td><td>Basic</td></tr><tr><td>ARAXA</td><td>VILA JARDIM</td><td>5.58</td><td>1</td><td>Basic</td></tr><tr><td>VARZEA PAULISTA</td><td>JARDIM MIRANTE</td><td>5.64</td><td>1</td><td>Basic</td></tr><tr><td>SAO JOSE</td><td>JARDIM CIDADE DE FLORIANOPOLIS</td><td>5.84</td><td>1</td><td>Basic</td></tr><tr><td>SERRA</td><td>TIMS</td><td>5.69</td><td>1</td><td>Basic</td></tr><tr><td>TERESINA</td><td>CENTRO</td><td>5.98</td><td>1</td><td>Basic</td></tr><tr><td>SETE LAGOAS</td><td>SAO PEDRO</td><td>5.74</td><td>1</td><td>Basic</td></tr><tr><td>GRAMADO</td><td>CENTRO</td><td>6.42</td><td>3</td><td>Basic</td></tr><tr><td>SAO PAULO</td><td>PENHA</td><td>5.82</td><td>2</td><td>Basic</td></tr><tr><td>ANAPOLIS</td><td>VILA SANTANA</td><td>5.77</td><td>1</td><td>Basic</td></tr><tr><td>JUNDIAI</td><td>VILA HORTOLANDIA</td><td>6.04</td><td>1</td><td>Basic</td></tr><tr><td>PATO BRANCO</td><td>CRISTO REI</td><td>6.34</td><td>2</td><td>Basic</td></tr><tr><td>BRASILIA</td><td>GUARA II</td><td>5.95</td><td>1</td><td>Basic</td></tr><tr><td>FRANCA</td><td>SÃO JOAQUIM</td><td>5.77</td><td>2</td><td>Basic</td></tr><tr><td>FEIRA DE SANTANA</td><td>PONTO CENTRAL</td><td>4.91</td><td>1</td><td>Basic</td></tr><tr><td>BLUMENAU</td><td>VELHA</td><td>6.06</td><td>1</td><td>Basic</td></tr><tr><td>CARUARU</td><td>DIVINOPOLIS</td><td>5.73</td><td>2</td><td>Basic</td></tr><tr><td>SAO JOSE DO RIO PRETO</td><td>JARDIM SAO PAULO</td><td>5.64</td><td>1</td><td>Basic</td></tr><tr><td>DELMIRO GOUVEIA</td><td>BOM SOSSEGO</td><td>6.75</td><td>1</td><td>Basic</td></tr><tr><td>INDAIATUBA</td><td>JARDIM BELO HORIZONTE</td><td>5.47</td><td>1</td><td>Basic</td></tr><tr><td>JUNDIAI</td><td>ANHANGABAU</td><td>6.26</td><td>2</td><td>Basic</td></tr><tr><td>ARACAJU</td><td>OLARIA</td><td>4.89</td><td>1</td><td>Basic</td></tr><tr><td>PATROCINIO</td><td>CENTRO</td><td>6.55</td><td>1</td><td>Basic</td></tr><tr><td>NATAL</td><td>DIX-SEPT ROSADO</td><td>5.51</td><td>1</td><td>Basic</td></tr><tr><td>ITAPERUNA</td><td>PRIMEIRO DISTRITO</td><td>5.94</td><td>1</td><td>Basic</td></tr><tr><td>VILHENA</td><td>PARQUE SÃO PAULO</td><td>6.83</td><td>1</td><td>Basic</td></tr><tr><td>LONDRINA</td><td>VILA AGARI</td><td>5.65</td><td>1</td><td>Basic</td></tr><tr><td>TERESOPOLIS</td><td>ALBUQUERQUE</td><td>5.99</td><td>1</td><td>Basic</td></tr><tr><td>CAMPO GRANDE</td><td>TIJUCA I</td><td>5.95</td><td>1</td><td>Basic</td></tr><tr><td>SALVADOR</td><td>ACUPE DE BROTAS</td><td>4.93</td><td>1</td><td>Basic</td></tr><tr><td>SAO LEOPOLDO</td><td>FEITORIA</td><td>5.64</td><td>1</td><td>Basic</td></tr><tr><td>CAMPO MOURAO</td><td>CENTRO</td><td>5.71</td><td>4</td><td>Basic</td></tr><tr><td>TUBARAO</td><td>FABIO SILVA</td><td>5.69</td><td>1</td><td>Basic</td></tr><tr><td>IGUATU</td><td>ALTO DO JUCA</td><td>5.97</td><td>2</td><td>Basic</td></tr><tr><td>PONTA GROSSA</td><td>UVARANAS</td><td>5.79</td><td>6</td><td>Basic</td></tr><tr><td>CURITIBA</td><td>HAUER</td><td>5.63</td><td>2</td><td>Basic</td></tr><tr><td>ALFENAS</td><td>JARDIM SAO CARLOS</td><td>5.82</td><td>1</td><td>Basic</td></tr><tr><td>CURITIBA</td><td>BIGORRILHO</td><td>6.19</td><td>1</td><td>Basic</td></tr><tr><td>LAGES</td><td>CORAL</td><td>6.14</td><td>2</td><td>Basic</td></tr><tr><td>SANTO ANTONIO DE PADUA</td><td>ARRAIALZINHO</td><td>5.78</td><td>1</td><td>Basic</td></tr><tr><td>ARARUAMA</td><td>CAPA AZUL</td><td>6.14</td><td>1</td><td>Basic</td></tr><tr><td>OSORIO</td><td>ENTRONCAMENTO</td><td>5.73</td><td>1</td><td>Basic</td></tr><tr><td>ITABAIANA</td><td>CENTRO</td><td>5.79</td><td>3</td><td>Basic</td></tr><tr><td>ARARAS</td><td>JD STA MARTA</td><td>5.74</td><td>1</td><td>Basic</td></tr><tr><td>GOIANIA</td><td>PARQUE AMAZÔNIA</td><td>5.74</td><td>1</td><td>Basic</td></tr><tr><td>ITU</td><td>BAIRRO TABOAO</td><td>5.99</td><td>1</td><td>Basic</td></tr><tr><td>ITAQUAQUECETUBA</td><td>VILA MONTE BELO</td><td>4.39</td><td>1</td><td>Basic</td></tr><tr><td>SENHOR DO BONFIM</td><td>ZONA RURAL</td><td>6.58</td><td>2</td><td>Basic</td></tr><tr><td>ARAPIRACA</td><td>CANAFISTULA</td><td>5.29</td><td>1</td><td>Basic</td></tr><tr><td>PARANAGUA</td><td>DOM PEDRO II</td><td>5.67</td><td>1</td><td>Basic</td></tr><tr><td>ARAXA</td><td>ALVORADA</td><td>5.94</td><td>1</td><td>Basic</td></tr><tr><td>AMERICANA</td><td>CENTRO</td><td>6.14</td><td>1</td><td>Basic</td></tr><tr><td>QUIXADA</td><td>COMBATE</td><td>6.06</td><td>1</td><td>Basic</td></tr><tr><td>CALDAS NOVAS</td><td>SETOR CENTRAL</td><td>5.89</td><td>1</td><td>Basic</td></tr><tr><td>GUAXUPE</td><td>BEBEDOURO</td><td>5.99</td><td>1</td><td>Basic</td></tr><tr><td>RIO CLARO</td><td>SANTA CRUZ</td><td>5.99</td><td>1</td><td>Basic</td></tr><tr><td>CORONEL FABRICIANO</td><td>SANTA CRUZ</td><td>5.88</td><td>1</td><td>Basic</td></tr><tr><td>JOINVILLE</td><td>IRIRIU</td><td>5.98</td><td>3</td><td>Basic</td></tr><tr><td>JI-PARANA</td><td>DUQUE DE CAXIAS</td><td>6.59</td><td>1</td><td>Basic</td></tr><tr><td>NILOPOLIS</td><td>OLINDA</td><td>5.68</td><td>1</td><td>Basic</td></tr><tr><td>JATAI</td><td>VILA SANTA MARIA</td><td>5.93</td><td>1</td><td>Basic</td></tr><tr><td>EMBU DAS ARTES</td><td>JARDIM INDEPENDENCIA</td><td>5.79</td><td>1</td><td>Basic</td></tr><tr><td>FEIRA DE SANTANA</td><td>MUCHILA</td><td>5.63</td><td>1</td><td>Basic</td></tr><tr><td>MACAPA</td><td>CABRALZINHO</td><td>6.27</td><td>2</td><td>Basic</td></tr><tr><td>LONDRINA</td><td>JARDIM BURLE MARX</td><td>6.39</td><td>1</td><td>Basic</td></tr><tr><td>RIO DE JANEIRO</td><td>SANTISSIMO</td><td>5.39</td><td>1</td><td>Basic</td></tr><tr><td>CARAPICUIBA</td><td>PQ JANDAIA</td><td>5.69</td><td>1</td><td>Basic</td></tr><tr><td>SAO JOSE</td><td>KOBRASOL</td><td>5.69</td><td>1</td><td>Basic</td></tr><tr><td>SAO PAULO</td><td>FERREIRA</td><td>6.39</td><td>1</td><td>Basic</td></tr><tr><td>URUGUAIANA</td><td>INTERIOR</td><td>6.13</td><td>1</td><td>Basic</td></tr><tr><td>PARNAIBA</td><td>PIAUI</td><td>5.96</td><td>1</td><td>Basic</td></tr><tr><td>SAO PAULO</td><td>VILA MONUMENTO</td><td>6.99</td><td>1</td><td>Basic</td></tr><tr><td>URUGUAIANA</td><td>CIDADE ALEGRIA</td><td>6.19</td><td>1</td><td>Basic</td></tr><tr><td>JUIZ DE FORA</td><td>SANTA CRUZ</td><td>5.50</td><td>1</td><td>Basic</td></tr><tr><td>MINEIROS</td><td>SETOR SAO BENTO</td><td>6.32</td><td>1</td><td>Basic</td></tr><tr><td>BOA VISTA</td><td>SAO PEDRO</td><td>6.45</td><td>1</td><td>Basic</td></tr><tr><td>GUARULHOS</td><td>JARDIM PARAVENTI</td><td>6.19</td><td>1</td><td>Basic</td></tr><tr><td>CARAPICUIBA</td><td>VILA DIRCE</td><td>5.47</td><td>1</td><td>Basic</td></tr><tr><td>CARAPICUIBA</td><td>VILA SANTA TEREZINHA</td><td>5.59</td><td>1</td><td>Basic</td></tr><tr><td>FORMOSA</td><td>CENTRO</td><td>6.08</td><td>2</td><td>Basic</td></tr><tr><td>ARAXA</td><td>CENTRO</td><td>5.89</td><td>3</td><td>Basic</td></tr><tr><td>CAMPINAS</td><td>JARDIM MIRIAM DA COSTA</td><td>6.49</td><td>1</td><td>Basic</td></tr><tr><td>NOVA LIMA</td><td>OLARIA</td><td>5.99</td><td>1</td><td>Basic</td></tr><tr><td>ACAILANDIA</td><td>VILA SAO FRANCISCO</td><td>6.11</td><td>1</td><td>Basic</td></tr><tr><td>TUPA</td><td>CENTRO</td><td>5.89</td><td>4</td><td>Basic</td></tr><tr><td>NOVA IGUACU</td><td>MOQUETA</td><td>5.59</td><td>1</td><td>Basic</td></tr><tr><td>ARAGUAINA</td><td>ANHANGUERA</td><td>5.75</td><td>1</td><td>Basic</td></tr><tr><td>LEME</td><td>VILA SANTUCCI</td><td>5.42</td><td>1</td><td>Basic</td></tr><tr><td>SIMOES FILHO</td><td>CENTRO</td><td>5.99</td><td>2</td><td>Basic</td></tr><tr><td>SAO PAULO</td><td>TREMEMBE</td><td>6.29</td><td>1</td><td>Basic</td></tr><tr><td>VILHENA</td><td>PARQUE INDUSTRIAL SAO PAULO</td><td>5.92</td><td>1</td><td>Basic</td></tr><tr><td>PORTO VELHO</td><td>NOSSA SENHORA DAS GRAÇAS</td><td>6.39</td><td>1</td><td>Basic</td></tr><tr><td>ITAITUBA</td><td>BOM REMEDIO</td><td>5.71</td><td>1</td><td>Basic</td></tr><tr><td>LAVRAS</td><td>CENTRO</td><td>6.30</td><td>2</td><td>Basic</td></tr><tr><td>MARINGA</td><td>ZONA 03</td><td>5.85</td><td>1</td><td>Basic</td></tr><tr><td>SAO PAULO</td><td>JAGUARE</td><td>5.33</td><td>3</td><td>Basic</td></tr><tr><td>UBERLANDIA</td><td>SHOPPING PARK</td><td>6.09</td><td>1</td><td>Basic</td></tr><tr><td>SAO JOSE</td><td>BARREIROS</td><td>5.36</td><td>4</td><td>Basic</td></tr><tr><td>OLINDA</td><td>GUADALUPE</td><td>5.20</td><td>1</td><td>Basic</td></tr><tr><td>CATANDUVA</td><td>PARQUE IPIRANGA</td><td>5.54</td><td>1</td><td>Basic</td></tr><tr><td>CAUCAIA</td><td>ARATURI (JUREMA)</td><td>5.95</td><td>1</td><td>Basic</td></tr><tr><td>PORTO ALEGRE</td><td>PARTENON</td><td>4.59</td><td>1</td><td>Basic</td></tr><tr><td>JALES</td><td>JARDIM SAMAMBAIA</td><td>5.76</td><td>1</td><td>Basic</td></tr><tr><td>INDAIATUBA</td><td>CENTRO</td><td>5.59</td><td>1</td><td>Basic</td></tr><tr><td>JUAZEIRO DO NORTE</td><td>SANTA TERESA</td><td>6.13</td><td>1</td><td>Basic</td></tr><tr><td>RECIFE</td><td>SOLEDADE</td><td>5.88</td><td>1</td><td>Basic</td></tr><tr><td>SANTA BARBARA D'OESTE</td><td>CENTRO</td><td>5.69</td><td>1</td><td>Basic</td></tr><tr><td>MANAUS</td><td>COLONIA TERRA NOVA</td><td>6.14</td><td>1</td><td>Basic</td></tr><tr><td>UMUARAMA</td><td>RODOVIA</td><td>5.73</td><td>1</td><td>Basic</td></tr><tr><td>CASTANHAL</td><td>NOVA OLINDA</td><td>5.43</td><td>1</td><td>Basic</td></tr><tr><td>CASTANHAL</td><td>IMPERADOR</td><td>5.43</td><td>1</td><td>Basic</td></tr><tr><td>PRESIDENTE PRUDENTE</td><td>JD SANTA CLARA</td><td>6.29</td><td>1</td><td>Basic</td></tr><tr><td>SAO CAETANO DO SUL</td><td>CERAMICA</td><td>5.71</td><td>2</td><td>Basic</td></tr><tr><td>RIO DE JANEIRO</td><td>CAMPO GRANDE</td><td>5.56</td><td>17</td><td>VIP</td></tr><tr><td>SAO PAULO</td><td>JARDIM ARPOADOR</td><td>5.27</td><td>1</td><td>Basic</td></tr><tr><td>CAUCAIA</td><td>BOQUEIRAO</td><td>5.18</td><td>1</td><td>Basic</td></tr><tr><td>SAO GONCALO</td><td>ALCANTARA</td><td>5.34</td><td>1</td><td>Basic</td></tr><tr><td>IJUI</td><td>SOL NASCENTE</td><td>6.07</td><td>1</td><td>Basic</td></tr><tr><td>VIAMAO</td><td>AGUAS CLARAS</td><td>5.65</td><td>3</td><td>Basic</td></tr><tr><td>SALVADOR</td><td>MATA ESCURA</td><td>5.84</td><td>1</td><td>Basic</td></tr><tr><td>BIRIGUI</td><td>JARDIM JUSSARA MARIA</td><td>5.59</td><td>1</td><td>Basic</td></tr><tr><td>SAPUCAIA DO SUL</td><td>CENTRO</td><td>5.84</td><td>1</td><td>Basic</td></tr><tr><td>JOINVILLE</td><td>SANTA CATARINA</td><td>5.22</td><td>1</td><td>Basic</td></tr><tr><td>SANTOS</td><td>VILA MATHIAS</td><td>6.32</td><td>2</td><td>Basic</td></tr><tr><td>SAO GONCALO</td><td>BOA VISTA</td><td>5.79</td><td>1</td><td>Basic</td></tr><tr><td>MONTES CLAROS</td><td>CIDADE SANTA MARIA</td><td>5.69</td><td>1</td><td>Basic</td></tr><tr><td>BRAGANCA</td><td>PERPETUO SOCORRO</td><td>6.30</td><td>2</td><td>Basic</td></tr><tr><td>PIRACICABA</td><td>DOS ALEMAES</td><td>6.09</td><td>1</td><td>Basic</td></tr><tr><td>SAO PAULO</td><td>FREGUESIA DO Ó</td><td>5.89</td><td>2</td><td>Basic</td></tr><tr><td>IPATINGA</td><td>CIDADE NOBRE</td><td>5.70</td><td>2</td><td>Basic</td></tr><tr><td>ANAPOLIS</td><td>MARACANA</td><td>5.96</td><td>1</td><td>Basic</td></tr><tr><td>NOSSA SENHORA DO SOCORRO</td><td>JARDIM</td><td>5.80</td><td>1</td><td>Basic</td></tr><tr><td>PINDAMONHANGABA</td><td>CRISPIM</td><td>6.02</td><td>1</td><td>Basic</td></tr><tr><td>ARARAQUARA</td><td>JARDIM AROEIRAS</td><td>5.31</td><td>1</td><td>Basic</td></tr><tr><td>MOGI DAS CRUZES</td><td>JD SAO PEDRO</td><td>5.84</td><td>1</td><td>Basic</td></tr><tr><td>SAO ROQUE</td><td>CENTRO</td><td>5.89</td><td>1</td><td>Basic</td></tr><tr><td>PORTO ALEGRE</td><td>SAO JOAO</td><td>5.69</td><td>1</td><td>Basic</td></tr><tr><td>LIMOEIRO DO NORTE</td><td>BROTOLNDIA</td><td>5.99</td><td>1</td><td>Basic</td></tr><tr><td>ALFENAS</td><td>VILA BETANIA</td><td>5.79</td><td>1</td><td>Basic</td></tr><tr><td>CHAPECO</td><td>TREVO</td><td>5.52</td><td>1</td><td>Basic</td></tr><tr><td>SAO LEOPOLDO</td><td>RIO DOS SINOS</td><td>5.50</td><td>1</td><td>Basic</td></tr><tr><td>RIO CLARO</td><td>VILA APARECIDA</td><td>5.69</td><td>1</td><td>Basic</td></tr><tr><td>NOVO HAMBURGO</td><td>CANUDOS</td><td>5.47</td><td>1</td><td>Basic</td></tr><tr><td>BOA VISTA</td><td>RAIAR DO SOL</td><td>6.48</td><td>1</td><td>Basic</td></tr><tr><td>MARICA</td><td>PONTA NEGRA</td><td>5.52</td><td>1</td><td>Basic</td></tr><tr><td>SAO PAULO</td><td>VILA CARRAO</td><td>5.99</td><td>3</td><td>Basic</td></tr><tr><td>SAO BERNARDO DO CAMPO</td><td>NOVA PETROPOLIS</td><td>5.89</td><td>2</td><td>Basic</td></tr><tr><td>ARAUCARIA</td><td>THOMAZ COELHO</td><td>5.75</td><td>2</td><td>Basic</td></tr><tr><td>CARAPICUIBA</td><td>JARDIM PIGNATARI</td><td>5.31</td><td>1</td><td>Basic</td></tr><tr><td>SERRINHA</td><td>RODOVIARIA</td><td>5.89</td><td>1</td><td>Basic</td></tr><tr><td>SAO CARLOS</td><td>JARDIM PAULISTANO</td><td>5.36</td><td>1</td><td>Basic</td></tr><tr><td>JUAZEIRO DO NORTE</td><td>AEROPORTO</td><td>6.06</td><td>2</td><td>Basic</td></tr><tr><td>NATAL</td><td>RIBEIRA</td><td>6.21</td><td>2</td><td>Basic</td></tr><tr><td>MARECHAL CANDIDO RONDON</td><td>BOA VISTA</td><td>5.81</td><td>1</td><td>Basic</td></tr><tr><td>ANAPOLIS</td><td>ALVORADA</td><td>5.71</td><td>1</td><td>Basic</td></tr><tr><td>SAO PAULO</td><td>JARDIM TABOAO</td><td>5.49</td><td>1</td><td>Basic</td></tr><tr><td>ITAJAI</td><td>CENTRO</td><td>6.00</td><td>2</td><td>Basic</td></tr><tr><td>ESTEIO</td><td>PARQUE AMADOR</td><td>5.59</td><td>1</td><td>Basic</td></tr><tr><td>IMPERATRIZ</td><td>ENTROCAMENTO</td><td>5.97</td><td>1</td><td>Basic</td></tr><tr><td>VIDEIRA</td><td>NOSSA SENHORA APARECIDA</td><td>6.09</td><td>1</td><td>Basic</td></tr><tr><td>JACOBINA</td><td>LAGOINHA</td><td>6.19</td><td>1</td><td>Basic</td></tr><tr><td>RIO BRANCO</td><td>PLACAS</td><td>7.14</td><td>1</td><td>Basic</td></tr><tr><td>PARINTINS</td><td>RAIMUNDO MUNIZ</td><td>6.89</td><td>1</td><td>Basic</td></tr><tr><td>BARREIRAS</td><td>CENTRO</td><td>6.21</td><td>2</td><td>Basic</td></tr><tr><td>IMPERATRIZ</td><td>ENTRONCAMENTO</td><td>5.83</td><td>2</td><td>Basic</td></tr><tr><td>CAUCAIA</td><td>JARDIM FORTALEZA</td><td>5.47</td><td>1</td><td>Basic</td></tr><tr><td>SABARA</td><td>CENTRO</td><td>6.19</td><td>1</td><td>Basic</td></tr><tr><td>CRUZEIRO</td><td>CENTRO</td><td>6.59</td><td>1</td><td>Basic</td></tr><tr><td>SAO JOAO DA BOA VISTA</td><td>JARDIM BELA VISTA</td><td>5.72</td><td>1</td><td>Basic</td></tr><tr><td>BETIM</td><td>JARDIM DA CIDADE</td><td>5.79</td><td>1</td><td>Basic</td></tr><tr><td>PONTA GROSSA</td><td>CENTRO</td><td>5.93</td><td>3</td><td>Basic</td></tr><tr><td>VARGINHA</td><td>CONJUNTO HABITACIONAL CENTENARIO</td><td>5.94</td><td>1</td><td>Basic</td></tr><tr><td>SOUSA</td><td>JARDIM BELA VISTA</td><td>5.89</td><td>1</td><td>Basic</td></tr><tr><td>VACARIA</td><td>GLORIA</td><td>5.99</td><td>1</td><td>Basic</td></tr><tr><td>SAO VICENTE</td><td>VILA MARGARIDA</td><td>6.09</td><td>1</td><td>Basic</td></tr><tr><td>SOUSA</td><td>JARDIM SORRILANDIA II</td><td>6.19</td><td>1</td><td>Basic</td></tr><tr><td>SAO SEBASTIAO DO PARAISO</td><td>SUBURBIO</td><td>5.65</td><td>1</td><td>Basic</td></tr><tr><td>MAGE</td><td>MAURIMARCIA (VILA INHOMIRIM)</td><td>4.49</td><td>1</td><td>Basic</td></tr><tr><td>ITAPOLIS</td><td>NOVA AMERICA</td><td>5.44</td><td>1</td><td>Basic</td></tr><tr><td>ARACATUBA</td><td>PARQUE INDUSTRIAL DE GRANDES RESIDUOS</td><td>5.55</td><td>1</td><td>Basic</td></tr><tr><td>COSMOPOLIS</td><td>BELA VISTA IV</td><td>5.51</td><td>1</td><td>Basic</td></tr><tr><td>RIBEIRAO PRETO</td><td>CAMPOS ELISEOS</td><td>6.05</td><td>6</td><td>Basic</td></tr><tr><td>CAMPO GRANDE</td><td>VILA SAO FRANCISCO</td><td>5.71</td><td>1</td><td>Basic</td></tr><tr><td>BRUMADO</td><td>FELICIANO PEREIRA SANTOS</td><td>5.94</td><td>1</td><td>Basic</td></tr><tr><td>POCOS DE CALDAS</td><td>PARQUE VIVALDI LEITE RIBEIRO</td><td>5.59</td><td>1</td><td>Basic</td></tr><tr><td>SAO PAULO</td><td>PARQUE EDU CHAVES</td><td>5.99</td><td>1</td><td>Basic</td></tr><tr><td>FORTALEZA</td><td>CARLITO PAMPLONA</td><td>5.62</td><td>2</td><td>Basic</td></tr><tr><td>RIO VERDE</td><td>JARDIM GOIAS</td><td>5.78</td><td>2</td><td>Basic</td></tr><tr><td>MARILIA</td><td>JARDIM VISTA ALEGRE</td><td>5.66</td><td>1</td><td>Basic</td></tr><tr><td>SAO SEBASTIAO DO PARAISO</td><td>VILA DALVA</td><td>5.69</td><td>1</td><td>Basic</td></tr><tr><td>OSASCO</td><td>SANTO ANTONIO</td><td>6.59</td><td>1</td><td>Basic</td></tr><tr><td>MOCOCA</td><td>VILA QUINTINO</td><td>5.84</td><td>1</td><td>Basic</td></tr><tr><td>PIRACICABA</td><td>EST.MUNIC.MATAO</td><td>5.74</td><td>1</td><td>Basic</td></tr><tr><td>POA</td><td>CALMON VIANA</td><td>5.99</td><td>2</td><td>Basic</td></tr><tr><td>BELFORD ROXO</td><td>CENTRO</td><td>5.50</td><td>3</td><td>Basic</td></tr><tr><td>VALENCA</td><td>CHACRINHA</td><td>5.92</td><td>1</td><td>Basic</td></tr><tr><td>UBERLANDIA</td><td>LOTEAMENTO JARDIM BOTANICO BAIRRO GRANADA</td><td>5.99</td><td>1</td><td>Basic</td></tr><tr><td>SAO ROQUE</td><td>TABOAO</td><td>5.69</td><td>1</td><td>Basic</td></tr><tr><td>GRAVATAI</td><td>BOM SUCESSO</td><td>5.84</td><td>1</td><td>Basic</td></tr><tr><td>BRUSQUE</td><td>SANTA TEREZINHA</td><td>5.09</td><td>1</td><td>Basic</td></tr><tr><td>GOVERNADOR VALADARES</td><td>GRA-DUQUESA</td><td>5.67</td><td>1</td><td>Basic</td></tr><tr><td>FORTALEZA</td><td>PARANGABA</td><td>5.52</td><td>2</td><td>Basic</td></tr><tr><td>VILA VELHA</td><td>JABURUNA</td><td>5.61</td><td>2</td><td>Basic</td></tr><tr><td>CRATEUS</td><td>VENANCIO</td><td>6.39</td><td>1</td><td>Basic</td></tr><tr><td>JOSE BONIFACIO</td><td>SÃO JOSÉ</td><td>6.18</td><td>1</td><td>Basic</td></tr><tr><td>MAUA</td><td>JARDIM QUARTO CENTENARIO</td><td>6.49</td><td>1</td><td>Basic</td></tr><tr><td>ARACATUBA</td><td>VILA SAO PAULO</td><td>6.25</td><td>1</td><td>Basic</td></tr><tr><td>MACAE</td><td>COSTA DO SOL</td><td>5.94</td><td>1</td><td>Basic</td></tr><tr><td>APARECIDA DE GOIANIA</td><td>SERRA DOURADA III</td><td>5.59</td><td>1</td><td>Basic</td></tr><tr><td>CUIABA</td><td>CARUMBE</td><td>6.34</td><td>2</td><td>Basic</td></tr><tr><td>BELO HORIZONTE</td><td>VILA BERNADETI</td><td>4.89</td><td>1</td><td>Basic</td></tr><tr><td>SAO PAULO</td><td>BRAS</td><td>6.99</td><td>1</td><td>Basic</td></tr><tr><td>FEIRA DE SANTANA</td><td>CENTRO</td><td>5.58</td><td>5</td><td>Basic</td></tr><tr><td>RIO DE JANEIRO</td><td>DEL CASTILHO</td><td>5.90</td><td>3</td><td>Basic</td></tr><tr><td>BENTO GONCALVES</td><td>SANTO ANTAO</td><td>5.84</td><td>1</td><td>Basic</td></tr><tr><td>PIRACICABA</td><td>PAULISTA</td><td>5.74</td><td>1</td><td>Basic</td></tr><tr><td>MATAO</td><td>BAIRRO ALTO</td><td>6.78</td><td>1</td><td>Basic</td></tr><tr><td>EMBU DAS ARTES</td><td>CERCADO GRANDE</td><td>6.22</td><td>1</td><td>Basic</td></tr><tr><td>SANTA CRUZ DO SUL</td><td>AVENIDA</td><td>6.12</td><td>2</td><td>Basic</td></tr><tr><td>BELFORD ROXO</td><td>BELFORDROXO</td><td>4.58</td><td>1</td><td>Basic</td></tr><tr><td>VOLTA REDONDA</td><td>SANTA CRUZ</td><td>5.99</td><td>1</td><td>Basic</td></tr><tr><td>POCOS DE CALDAS</td><td>BORTOLAN NORTE I</td><td>6.14</td><td>1</td><td>Basic</td></tr><tr><td>FORTALEZA</td><td>GRANJA PORTUGAL</td><td>5.64</td><td>1</td><td>Basic</td></tr><tr><td>SAO ROQUE</td><td>JARDIM ESTHER</td><td>5.49</td><td>1</td><td>Basic</td></tr><tr><td>PORTO VELHO</td><td>IGARAPE</td><td>6.29</td><td>1</td><td>Basic</td></tr><tr><td>TERESINA</td><td>SAO JOAO</td><td>5.99</td><td>1</td><td>Basic</td></tr><tr><td>ITAJAI</td><td>PRAIA BRAVA</td><td>6.08</td><td>1</td><td>Basic</td></tr><tr><td>SAO PAULO</td><td>JARDIM IPANEMA</td><td>5.99</td><td>1</td><td>Basic</td></tr><tr><td>CAXIAS</td><td>VOLTA REDONDA</td><td>5.70</td><td>1</td><td>Basic</td></tr><tr><td>SAO PAULO</td><td>VILA CURUÇÁ</td><td>5.69</td><td>1</td><td>Basic</td></tr><tr><td>DOURADOS</td><td>JARDIM MARCIA</td><td>6.07</td><td>1</td><td>Basic</td></tr><tr><td>TAUBATE</td><td>CAMPOS ELISEOS</td><td>5.89</td><td>1</td><td>Basic</td></tr><tr><td>ARACAJU</td><td>JABOTIANA</td><td>5.36</td><td>2</td><td>Basic</td></tr><tr><td>BARRA DO CORDA</td><td>ALTAMIRA</td><td>5.84</td><td>5</td><td>Basic</td></tr><tr><td>ESTEIO</td><td>CENTRO</td><td>5.85</td><td>3</td><td>Basic</td></tr><tr><td>CARAPICUIBA</td><td>PARQUE JANDAIA</td><td>5.69</td><td>1</td><td>Basic</td></tr><tr><td>COTIA</td><td>JARDIM DA GLORIA</td><td>6.38</td><td>2</td><td>Basic</td></tr><tr><td>CANINDE</td><td>CANINDEZINHO</td><td>6.08</td><td>1</td><td>Basic</td></tr><tr><td>MINEIROS</td><td>SETOR COHACOL 3</td><td>5.74</td><td>1</td><td>Basic</td></tr><tr><td>URUGUAIANA</td><td>BOA VISTA</td><td>6.31</td><td>1</td><td>Basic</td></tr><tr><td>BELEM</td><td>ICOARACI</td><td>5.49</td><td>2</td><td>Basic</td></tr><tr><td>PINHEIRO</td><td>CENTRO</td><td>6.21</td><td>5</td><td>Basic</td></tr><tr><td>ITAGUAI</td><td>IBIRAPITANGA</td><td>5.99</td><td>1</td><td>Basic</td></tr><tr><td>CACERES</td><td>CENTRO</td><td>6.05</td><td>3</td><td>Basic</td></tr><tr><td>FLORIANOPOLIS</td><td>CENTRO</td><td>5.95</td><td>1</td><td>Basic</td></tr><tr><td>CRICIUMA</td><td>HG - QUARTA LINHA</td><td>5.69</td><td>1</td><td>Basic</td></tr><tr><td>CAMPO GRANDE</td><td>VILA GAL WOLGRAND</td><td>5.79</td><td>1</td><td>Basic</td></tr><tr><td>ITABUNA</td><td>JACANA</td><td>5.81</td><td>2</td><td>Basic</td></tr><tr><td>MONTES CLAROS</td><td>MARACANA</td><td>6.08</td><td>1</td><td>Basic</td></tr><tr><td>SALVADOR</td><td>PERNAMBUES</td><td>4.94</td><td>1</td><td>Basic</td></tr><tr><td>MACAPA</td><td>MARABAIXO</td><td>6.35</td><td>1</td><td>Basic</td></tr><tr><td>IMPERATRIZ</td><td>JARDIM TROPICAL</td><td>5.61</td><td>1</td><td>Basic</td></tr><tr><td>CUBATAO</td><td>JARDIM CASQUEIRO</td><td>6.35</td><td>1</td><td>Basic</td></tr><tr><td>SOROCABA</td><td>VILA AUGUSTA</td><td>5.73</td><td>1</td><td>Basic</td></tr><tr><td>MIRASSOL</td><td>JARDIM SAO BERNARDO II</td><td>5.79</td><td>1</td><td>Basic</td></tr><tr><td>SAO SEBASTIAO DO PARAISO</td><td>JARDIM SAO JOSE</td><td>5.69</td><td>1</td><td>Basic</td></tr><tr><td>ARARIPINA</td><td>CENTRO</td><td>5.87</td><td>4</td><td>Basic</td></tr><tr><td>CAMPINAS</td><td>CHACARA DA BARRA</td><td>5.79</td><td>1</td><td>Basic</td></tr><tr><td>BELO JARDIM</td><td>CENTRO</td><td>5.52</td><td>2</td><td>Basic</td></tr><tr><td>JOINVILLE</td><td>BOA VISTA</td><td>6.09</td><td>1</td><td>Basic</td></tr><tr><td>CANOAS</td><td>ESTANCIA VELHA</td><td>6.00</td><td>5</td><td>Basic</td></tr><tr><td>CARUARU</td><td>ZONA RURAL</td><td>5.61</td><td>2</td><td>Basic</td></tr><tr><td>ITACOATIARA</td><td>SAO FRANCISCO</td><td>7.19</td><td>1</td><td>Basic</td></tr><tr><td>SAO JOSE DOS CAMPOS</td><td>CID JARDIM</td><td>5.49</td><td>1</td><td>Basic</td></tr><tr><td>CARUARU</td><td>INDIANOPOLIS</td><td>5.73</td><td>3</td><td>Basic</td></tr><tr><td>OSASCO</td><td>AYROSA</td><td>5.62</td><td>2</td><td>Basic</td></tr><tr><td>SANTAREM</td><td>FATIMA</td><td>5.95</td><td>1</td><td>Basic</td></tr><tr><td>PINHEIRO</td><td>ENSEADA</td><td>6.20</td><td>1</td><td>Basic</td></tr><tr><td>CACAPAVA</td><td>VILA SANTOS</td><td>5.79</td><td>1</td><td>Basic</td></tr><tr><td>ITAJAI</td><td>SÃO VICENTE</td><td>5.98</td><td>1</td><td>Basic</td></tr><tr><td>CARUARU</td><td>NOVA CARUARU</td><td>5.69</td><td>1</td><td>Basic</td></tr><tr><td>ASSIS</td><td>VILA SANTA CECILIA</td><td>6.19</td><td>1</td><td>Basic</td></tr><tr><td>VITORIA DE SANTO ANTAO</td><td>LIVRAMENTO</td><td>5.79</td><td>1</td><td>Basic</td></tr><tr><td>SAO PAULO</td><td>JARDIM MORALES</td><td>5.79</td><td>1</td><td>Basic</td></tr><tr><td>CATALAO</td><td>SAO JOAO</td><td>5.82</td><td>1</td><td>Basic</td></tr><tr><td>ARACRUZ</td><td>DE CARLI</td><td>5.92</td><td>1</td><td>Basic</td></tr><tr><td>ALENQUER</td><td>CENTRO</td><td>7.00</td><td>1</td><td>Basic</td></tr><tr><td>TOLEDO</td><td>CENTRO</td><td>5.91</td><td>3</td><td>Basic</td></tr><tr><td>VALPARAISO DE GOIAS</td><td>JARDIM CEU AZUL</td><td>5.69</td><td>3</td><td>Basic</td></tr><tr><td>CAMPO GRANDE</td><td>VILA MARCOS ROBERTO</td><td>5.69</td><td>1</td><td>Basic</td></tr><tr><td>ACAILANDIA</td><td>LOTEAMENTO MORADA DO SOL</td><td>5.70</td><td>1</td><td>Basic</td></tr><tr><td>GARANHUNS</td><td>MAGANO</td><td>5.59</td><td>1</td><td>Basic</td></tr><tr><td>ALTA FLORESTA</td><td>CENTRO</td><td>6.74</td><td>2</td><td>Basic</td></tr><tr><td>ACAILANDIA</td><td>VILA ILDEMAR</td><td>5.70</td><td>1</td><td>Basic</td></tr><tr><td>CARIACICA</td><td>PORTO DE SANTANA</td><td>5.89</td><td>1</td><td>Basic</td></tr><tr><td>ARIQUEMES</td><td>SETOR 01</td><td>6.38</td><td>1</td><td>Basic</td></tr><tr><td>RIO BRANCO</td><td>FLORESTA SUL</td><td>7.30</td><td>1</td><td>Basic</td></tr><tr><td>OLINDA</td><td>PEIXINHOS</td><td>5.76</td><td>1</td><td>Basic</td></tr><tr><td>JI-PARANA</td><td>NOSSA SENHORA DE FATIMA</td><td>6.88</td><td>1</td><td>Basic</td></tr><tr><td>FOZ DO IGUACU</td><td>TRES LAGOAS</td><td>6.29</td><td>2</td><td>Basic</td></tr><tr><td>GARANHUNS</td><td>ZONA RURAL</td><td>5.65</td><td>1</td><td>Basic</td></tr><tr><td>PORANGATU</td><td>JARDIM BRASILIA</td><td>5.93</td><td>1</td><td>Basic</td></tr><tr><td>SAO LUIS</td><td>JARDIM SAO CRISTOVAO II</td><td>5.89</td><td>1</td><td>Basic</td></tr><tr><td>BELO HORIZONTE</td><td>VENDA NOVA</td><td>5.79</td><td>1</td><td>Basic</td></tr><tr><td>CUIABA</td><td>POCAO</td><td>5.89</td><td>1</td><td>Basic</td></tr><tr><td>MOSSORO</td><td>ALTO SAO MANOEL</td><td>5.56</td><td>1</td><td>Basic</td></tr><tr><td>RIO DE JANEIRO</td><td>RIO COMPRIDO</td><td>5.69</td><td>1</td><td>Basic</td></tr><tr><td>CABO FRIO</td><td>PORTO DO CARRO</td><td>6.07</td><td>1</td><td>Basic</td></tr><tr><td>RIO DE JANEIRO</td><td>PADRE MIGUEL</td><td>4.59</td><td>1</td><td>Basic</td></tr><tr><td>PAULISTA</td><td>TORRES GALVÃO</td><td>5.89</td><td>1</td><td>Basic</td></tr><tr><td>MARINGA</td><td>ZONA 01</td><td>6.29</td><td>1</td><td>Basic</td></tr><tr><td>COTIA</td><td>JARDIM PETROPOLIS</td><td>5.99</td><td>1</td><td>Basic</td></tr><tr><td>ARCOVERDE</td><td>SÃO CRISTOVÃO</td><td>5.79</td><td>1</td><td>Basic</td></tr><tr><td>SOROCABA</td><td>ALEM LINHA</td><td>5.89</td><td>1</td><td>Basic</td></tr><tr><td>SINOP</td><td>SAO CRISTOVAO</td><td>5.75</td><td>1</td><td>Basic</td></tr><tr><td>CARUARU</td><td>KENNEDY</td><td>5.35</td><td>2</td><td>Basic</td></tr><tr><td>CASCAVEL</td><td>JD. DONA JURACY</td><td>5.99</td><td>1</td><td>Basic</td></tr><tr><td>BRAGANCA PAULISTA</td><td>BIRICA DO CAMPO NOVO</td><td>5.64</td><td>1</td><td>Basic</td></tr><tr><td>SOUSA</td><td>RODOVIA</td><td>5.99</td><td>1</td><td>Basic</td></tr><tr><td>PORTO VELHO</td><td>NOVA PORTO VELHO</td><td>6.30</td><td>4</td><td>Basic</td></tr><tr><td>JACAREI</td><td>SANTA CRUZ DOS LAZAROS</td><td>5.99</td><td>1</td><td>Basic</td></tr><tr><td>BELFORD ROXO</td><td>PARQUE VENEZA</td><td>5.34</td><td>1</td><td>Basic</td></tr><tr><td>CARIACICA</td><td>GRAUNA</td><td>5.83</td><td>1</td><td>Basic</td></tr><tr><td>SAO MATEUS</td><td>PEDRA D'AGUA</td><td>5.84</td><td>1</td><td>Basic</td></tr><tr><td>MACEIO</td><td>TABULEIRO DOS MARTINS</td><td>4.69</td><td>1</td><td>Basic</td></tr><tr><td>ALFENAS</td><td>CENTRO</td><td>5.67</td><td>1</td><td>Basic</td></tr><tr><td>ASSIS CHATEAUBRIAND</td><td>JARDIM EUROPA</td><td>5.59</td><td>1</td><td>Basic</td></tr><tr><td>SORRISO</td><td>DISTRITO INDUSTRIAL</td><td>5.74</td><td>1</td><td>Basic</td></tr><tr><td>CACHOEIRINHA</td><td>VILA PRINCESA IZABEL</td><td>5.99</td><td>1</td><td>Basic</td></tr><tr><td>JATAI</td><td>JARDIM RIO CLARO</td><td>6.08</td><td>1</td><td>Basic</td></tr><tr><td>ARARAQUARA</td><td>VILA SUCONASA</td><td>6.29</td><td>1</td><td>Basic</td></tr><tr><td>VOLTA REDONDA</td><td>null</td><td>6.29</td><td>1</td><td>Basic</td></tr><tr><td>SAO PAULO</td><td>TATUAPE</td><td>6.02</td><td>5</td><td>Basic</td></tr><tr><td>ITAQUAQUECETUBA</td><td>CAMPO DA VENDA</td><td>6.09</td><td>1</td><td>Basic</td></tr><tr><td>ITAJUBA</td><td>NOSSA SENHORA DE FATIMA</td><td>6.08</td><td>1</td><td>Basic</td></tr><tr><td>SAO JOSE DO RIO PRETO</td><td>JARDIM NAZARETH</td><td>5.64</td><td>1</td><td>Basic</td></tr><tr><td>MARABA</td><td>CENTRO</td><td>6.33</td><td>1</td><td>Basic</td></tr><tr><td>CASTANHAL</td><td>ESTRELA</td><td>6.02</td><td>2</td><td>Basic</td></tr><tr><td>OLINDA</td><td>RIO DOCE</td><td>5.78</td><td>2</td><td>Basic</td></tr><tr><td>CAMPINAS</td><td>CENTRO</td><td>5.47</td><td>1</td><td>Basic</td></tr><tr><td>ITATIBA</td><td>JARDIM DE LUCCA</td><td>6.44</td><td>1</td><td>Basic</td></tr><tr><td>SANTO ANDRE</td><td>CAMILOPOLIS</td><td>6.04</td><td>1</td><td>Basic</td></tr><tr><td>CAMPO LARGO</td><td>BOM JESUS</td><td>5.69</td><td>2</td><td>Basic</td></tr><tr><td>JACAREI</td><td>CIDADE SALVADOR</td><td>5.60</td><td>2</td><td>Basic</td></tr><tr><td>VALPARAISO DE GOIAS</td><td>MORADA NOBRE</td><td>5.75</td><td>1</td><td>Basic</td></tr><tr><td>SANTA ROSA</td><td>TIMBAUVA</td><td>5.59</td><td>1</td><td>Basic</td></tr><tr><td>TERESINA</td><td>AREIAS</td><td>5.94</td><td>1</td><td>Basic</td></tr><tr><td>FEIRA DE SANTANA</td><td>CIDADE NOVA</td><td>5.66</td><td>2</td><td>Basic</td></tr><tr><td>OLIVEIRA</td><td>CABRAIS</td><td>6.12</td><td>1</td><td>Basic</td></tr><tr><td>ARAGUARI</td><td>MILENIUM</td><td>5.88</td><td>1</td><td>Basic</td></tr><tr><td>COLATINA</td><td>COLATINA VELHA</td><td>5.99</td><td>1</td><td>Basic</td></tr><tr><td>LEME</td><td>SERELEPE</td><td>6.09</td><td>1</td><td>Basic</td></tr><tr><td>UBERLANDIA</td><td>CARAJAS</td><td>5.74</td><td>1</td><td>Basic</td></tr><tr><td>JAU</td><td>JARDIM BELA VISTA</td><td>6.09</td><td>1</td><td>Basic</td></tr><tr><td>JOAO MONLEVADE</td><td>CARNEIRINHOS</td><td>6.03</td><td>1</td><td>Basic</td></tr><tr><td>MACEIO</td><td>JATIUCA</td><td>4.69</td><td>1</td><td>Basic</td></tr><tr><td>PORTO SEGURO</td><td>CAMBOLO</td><td>6.90</td><td>1</td><td>Basic</td></tr><tr><td>SAO JOSE DOS CAMPOS</td><td>COLONIA PARAISO</td><td>5.69</td><td>1</td><td>Basic</td></tr><tr><td>SANTO ANTONIO DE PADUA</td><td>SANTA CRUZ</td><td>5.68</td><td>1</td><td>Basic</td></tr><tr><td>CODO</td><td>CENTRO</td><td>6.04</td><td>2</td><td>Basic</td></tr><tr><td>SANTANA</td><td>COMERCIAL</td><td>6.24</td><td>1</td><td>Basic</td></tr><tr><td>ITAPIRA</td><td>CENTRO</td><td>5.89</td><td>3</td><td>Basic</td></tr><tr><td>CARUARU</td><td>PINHEIROPOLIS</td><td>5.69</td><td>1</td><td>Basic</td></tr><tr><td>ARAPIRACA</td><td>SAO LUIZ II</td><td>5.89</td><td>1</td><td>Basic</td></tr><tr><td>VOTUPORANGA</td><td>SIMONSEN</td><td>5.47</td><td>1</td><td>Basic</td></tr><tr><td>PARA DE MINAS</td><td>VILA LARA</td><td>5.74</td><td>1</td><td>Basic</td></tr><tr><td>TERESINA</td><td>CRISTO REI</td><td>5.94</td><td>1</td><td>Basic</td></tr><tr><td>SUZANO</td><td>MIGUEL BADRA</td><td>5.97</td><td>1</td><td>Basic</td></tr><tr><td>ITUMBIARA</td><td>PORTAL DOS IPES</td><td>5.54</td><td>1</td><td>Basic</td></tr><tr><td>GOVERNADOR VALADARES</td><td>SAO PAULO</td><td>5.65</td><td>1</td><td>Basic</td></tr><tr><td>MARACANAU</td><td>TIMBO</td><td>5.55</td><td>1</td><td>Basic</td></tr><tr><td>CAMPINAS</td><td>JD.NOVO CAMPOS ELISE</td><td>5.74</td><td>1</td><td>Basic</td></tr><tr><td>ITU</td><td>VILA MARTINS</td><td>5.94</td><td>1</td><td>Basic</td></tr><tr><td>SAO JOSE DO RIO PRETO</td><td>VILA ITALIA</td><td>5.56</td><td>1</td><td>Basic</td></tr><tr><td>PARAUAPEBAS</td><td>CIDADE NOVA</td><td>6.55</td><td>1</td><td>Basic</td></tr><tr><td>APARECIDA DE GOIANIA</td><td>VILA SANTO ANTONIO - SEGUNDO ACRESCIMO</td><td>5.89</td><td>1</td><td>Basic</td></tr><tr><td>CRICIUMA</td><td>SANTA LUZIA</td><td>5.83</td><td>2</td><td>Basic</td></tr><tr><td>CIANORTE</td><td>ZONA 07</td><td>5.49</td><td>1</td><td>Basic</td></tr><tr><td>SUZANO</td><td>JD REVISTA</td><td>5.68</td><td>1</td><td>Basic</td></tr><tr><td>REDENCAO</td><td>NOVO HORIZONTE</td><td>5.94</td><td>2</td><td>Basic</td></tr><tr><td>SANTO ANDRE</td><td>JARDIM MONTE LIBANO</td><td>6.41</td><td>1</td><td>Basic</td></tr><tr><td>ITUMBIARA</td><td>SETOR CENTRAL</td><td>5.79</td><td>1</td><td>Basic</td></tr><tr><td>CATANDUVA</td><td>VL PAULISTA</td><td>5.34</td><td>1</td><td>Basic</td></tr><tr><td>MARINGA</td><td>ZONA 2</td><td>5.99</td><td>1</td><td>Basic</td></tr><tr><td>MARILIA</td><td>RURAL</td><td>6.49</td><td>1</td><td>Basic</td></tr><tr><td>CAMPINAS</td><td>SWIFT</td><td>5.84</td><td>1</td><td>Basic</td></tr><tr><td>FRANCA</td><td>JARDIM MARIA GABRIELA</td><td>5.72</td><td>1</td><td>Basic</td></tr><tr><td>RIO DE JANEIRO</td><td>PRACA DA BANDEIRA</td><td>5.79</td><td>1</td><td>Basic</td></tr><tr><td>RIBEIRAO PIRES</td><td>PONTE SECA</td><td>6.09</td><td>1</td><td>Basic</td></tr><tr><td>UBERABA</td><td>OLINDA</td><td>6.09</td><td>1</td><td>Basic</td></tr><tr><td>CARAGUATATUBA</td><td>JARDIM BRITANIA</td><td>6.39</td><td>1</td><td>Basic</td></tr><tr><td>SOBRAL</td><td>CIDADE PEDRO MENDES CARNEIRO</td><td>5.99</td><td>1</td><td>Basic</td></tr><tr><td>ABAETETUBA</td><td>BOSQUE</td><td>5.79</td><td>2</td><td>Basic</td></tr><tr><td>SAO PAULO</td><td>JARAGUA</td><td>6.31</td><td>3</td><td>Basic</td></tr><tr><td>RIO DE JANEIRO</td><td>JACAREPAGUÁ</td><td>5.36</td><td>2</td><td>Basic</td></tr><tr><td>LIMEIRA</td><td>SANTA LUCIA</td><td>5.48</td><td>1</td><td>Basic</td></tr><tr><td>SAO PAULO</td><td>CIDADE SATELITE</td><td>5.39</td><td>1</td><td>Basic</td></tr><tr><td>ITATIBA</td><td>BAIRRO ENGENHO</td><td>5.14</td><td>1</td><td>Basic</td></tr><tr><td>GRAVATAI</td><td>NEOPOLIS</td><td>5.64</td><td>1</td><td>Basic</td></tr><tr><td>IGUATU</td><td>PLANALTO</td><td>5.99</td><td>1</td><td>Basic</td></tr><tr><td>RIO BRANCO</td><td>IVETE VARGAS</td><td>7.20</td><td>1</td><td>Basic</td></tr><tr><td>QUIXADA</td><td>ZONA  URBANA</td><td>6.35</td><td>1</td><td>Basic</td></tr><tr><td>JOSE BONIFACIO</td><td>JARDIM PRIMAVERA II</td><td>5.54</td><td>1</td><td>Basic</td></tr><tr><td>PARAGOMINAS</td><td>PARQUE DAS AMERICAS</td><td>6.50</td><td>1</td><td>Basic</td></tr><tr><td>SANTOS</td><td>VILA MATIAS</td><td>5.89</td><td>1</td><td>Basic</td></tr><tr><td>TAUBATE</td><td>INDEPENDENCIA</td><td>5.37</td><td>1</td><td>Basic</td></tr><tr><td>SANTO ANDRE</td><td>VILA ALICE</td><td>5.99</td><td>1</td><td>Basic</td></tr><tr><td>TEOFILO OTONI</td><td>MARAJOARA</td><td>5.82</td><td>1</td><td>Basic</td></tr><tr><td>VOTORANTIM</td><td>PARQUE BELA VISTA</td><td>5.79</td><td>1</td><td>Basic</td></tr><tr><td>PONTA PORA</td><td>VILA AQUIDABAM</td><td>6.15</td><td>1</td><td>Basic</td></tr><tr><td>DELMIRO GOUVEIA</td><td>PEDRA VELHA</td><td>6.72</td><td>2</td><td>Basic</td></tr><tr><td>RESENDE</td><td>CAMPOS ELISEOS</td><td>5.24</td><td>1</td><td>Basic</td></tr><tr><td>RIO DE JANEIRO</td><td>ITANHANGA</td><td>4.42</td><td>1</td><td>Basic</td></tr><tr><td>AMERICANA</td><td>CIDADE JARDIM I</td><td>5.99</td><td>2</td><td>Basic</td></tr><tr><td>BRAGANCA PAULISTA</td><td>LAVAPES</td><td>5.99</td><td>1</td><td>Basic</td></tr><tr><td>GUARULHOS</td><td>VILA NOVA BONSUCESSO</td><td>5.19</td><td>2</td><td>Basic</td></tr><tr><td>SINOP</td><td>JARDIM BOTANICO</td><td>5.82</td><td>1</td><td>Basic</td></tr><tr><td>ALAGOINHAS</td><td>ZONA RURAL</td><td>5.11</td><td>1</td><td>Basic</td></tr><tr><td>OLIMPIA</td><td>JARDIM GLORIA</td><td>6.23</td><td>1</td><td>Basic</td></tr><tr><td>GUARULHOS</td><td>CUMBICA</td><td>6.44</td><td>2</td><td>Basic</td></tr><tr><td>VALENCA</td><td>BARAO DE JUPARANA</td><td>6.49</td><td>1</td><td>Basic</td></tr><tr><td>GOIANIA</td><td>CIDADE JARDIM</td><td>5.87</td><td>1</td><td>Basic</td></tr><tr><td>CORNELIO PROCOPIO</td><td>CONJUNTO UNIVERSITARIO</td><td>6.79</td><td>1</td><td>Basic</td></tr><tr><td>MACAPA</td><td>MARABAIXO 3</td><td>6.77</td><td>1</td><td>Basic</td></tr><tr><td>APARECIDA DE GOIANIA</td><td>RESIDENCIAL VILLAGE GARAVELO</td><td>5.52</td><td>1</td><td>Basic</td></tr><tr><td>LAURO DE FREITAS</td><td>CAJI</td><td>5.94</td><td>1</td><td>Basic</td></tr><tr><td>ALEGRETE</td><td>CENTRO</td><td>6.24</td><td>3</td><td>Basic</td></tr><tr><td>BELO JARDIM</td><td>SAO PEDRO</td><td>5.66</td><td>2</td><td>Basic</td></tr><tr><td>EMBU DAS ARTES</td><td>CENTRO</td><td>5.99</td><td>1</td><td>Basic</td></tr><tr><td>MOGI DAS CRUZES</td><td>BRAZ CUBAS</td><td>5.99</td><td>2</td><td>Basic</td></tr><tr><td>PARA DE MINAS</td><td>SAO FRANCISCO</td><td>5.79</td><td>2</td><td>Basic</td></tr><tr><td>PAULISTA</td><td>JANGA</td><td>5.71</td><td>1</td><td>Basic</td></tr><tr><td>LAJEADO</td><td>AMERICANO</td><td>5.79</td><td>2</td><td>Basic</td></tr><tr><td>SAO PAULO</td><td>JABAQUARA</td><td>5.99</td><td>1</td><td>Basic</td></tr><tr><td>BAGE</td><td>TARUMA</td><td>6.73</td><td>1</td><td>Basic</td></tr><tr><td>SAO PAULO</td><td>JARDIM REBOUÇAS</td><td>5.59</td><td>1</td><td>Basic</td></tr><tr><td>MARINGA</td><td>GLEBA RIBEIRAO PINGUIM</td><td>5.71</td><td>1</td><td>Basic</td></tr><tr><td>SAO JOAO DEL REI</td><td>FABRICAS</td><td>5.89</td><td>1</td><td>Basic</td></tr><tr><td>CHAPECO</td><td>PALMITAL</td><td>5.59</td><td>1</td><td>Basic</td></tr><tr><td>EUNAPOLIS</td><td>PEQUI</td><td>6.44</td><td>1</td><td>Basic</td></tr><tr><td>CONTAGEM</td><td>JD.RIACHO DAS PEDRAS</td><td>5.84</td><td>1</td><td>Basic</td></tr><tr><td>PATROCINIO</td><td>SAO JUDAS TADEU</td><td>6.53</td><td>1</td><td>Basic</td></tr><tr><td>VIDEIRA</td><td>MATRIZ</td><td>6.15</td><td>1</td><td>Basic</td></tr><tr><td>JALES</td><td>JARDIM SANTO EXPEDITO</td><td>5.76</td><td>1</td><td>Basic</td></tr><tr><td>BARRA MANSA</td><td>ANO BOM</td><td>6.08</td><td>2</td><td>Basic</td></tr><tr><td>TERESOPOLIS</td><td>BOM RETIRO</td><td>5.99</td><td>1</td><td>Basic</td></tr><tr><td>FORMIGA</td><td>QUINZINHO</td><td>5.89</td><td>1</td><td>Basic</td></tr><tr><td>ARAPONGAS</td><td>JD. UNIVERSITARIO</td><td>5.87</td><td>1</td><td>Basic</td></tr><tr><td>PORTO VELHO</td><td>ELDORADO</td><td>5.94</td><td>2</td><td>Basic</td></tr><tr><td>TUBARAO</td><td>VILA MOEMA</td><td>5.74</td><td>1</td><td>Basic</td></tr><tr><td>JUIZ DE FORA</td><td>BENFICA</td><td>5.24</td><td>1</td><td>Basic</td></tr><tr><td>SAO PAULO</td><td>JARDIM ESMERALDA</td><td>6.79</td><td>1</td><td>Basic</td></tr><tr><td>RIO DE JANEIRO</td><td>ESTACIO</td><td>4.59</td><td>1</td><td>Basic</td></tr><tr><td>SAO PAULO</td><td>PQ COLONIAL</td><td>5.24</td><td>1</td><td>Basic</td></tr><tr><td>AMERICANA</td><td>JARDIM GUANABARA</td><td>5.89</td><td>1</td><td>Basic</td></tr><tr><td>ARAGUAINA</td><td>RESIDENCIAL CAMARGO</td><td>5.89</td><td>1</td><td>Basic</td></tr><tr><td>APARECIDA DE GOIANIA</td><td>JARDIM HELVECIA</td><td>5.80</td><td>1</td><td>Basic</td></tr><tr><td>CONSELHEIRO LAFAIETE</td><td>GIGANTE</td><td>5.67</td><td>1</td><td>Basic</td></tr><tr><td>SAO JOSE DO RIO PRETO</td><td>VILA ANCHIETA</td><td>5.49</td><td>1</td><td>Basic</td></tr><tr><td>AVARE</td><td>JARDIM PAINEIRAS</td><td>6.34</td><td>1</td><td>Basic</td></tr><tr><td>SAO PAULO</td><td>JURUBATUBA</td><td>5.64</td><td>1</td><td>Basic</td></tr><tr><td>VERA CRUZ</td><td>KM 03</td><td>5.99</td><td>1</td><td>Basic</td></tr><tr><td>UBERABA</td><td>SÃO BENEDITO</td><td>5.99</td><td>1</td><td>Basic</td></tr><tr><td>PARAUAPEBAS</td><td>CENTRO</td><td>6.99</td><td>1</td><td>Basic</td></tr><tr><td>CAXIAS DO SUL</td><td>PIONEIRO</td><td>5.98</td><td>1</td><td>Basic</td></tr><tr><td>RECIFE</td><td>CACOTE</td><td>5.76</td><td>1</td><td>Basic</td></tr><tr><td>FOZ DO IGUACU</td><td>LOTEAMENTO JARDIM ESMERALDA</td><td>6.39</td><td>1</td><td>Basic</td></tr><tr><td>MACEIO</td><td>JACINTINHO</td><td>5.22</td><td>3</td><td>Basic</td></tr><tr><td>SOROCABA</td><td>AEROPORTO</td><td>5.81</td><td>1</td><td>Basic</td></tr><tr><td>TERESINA</td><td>PARQUE IDEAL</td><td>5.94</td><td>2</td><td>Basic</td></tr><tr><td>JACOBINA</td><td>NAZARE</td><td>6.27</td><td>2</td><td>Basic</td></tr><tr><td>ITAPERUNA</td><td>CASTELO BRANCO</td><td>6.09</td><td>1</td><td>Basic</td></tr><tr><td>AGUAS LINDAS DE GOIAS</td><td>PARQUE AGUAS BONITAS I</td><td>6.44</td><td>1</td><td>Basic</td></tr><tr><td>SAPUCAIA DO SUL</td><td>TRES PORTOS</td><td>5.24</td><td>1</td><td>Basic</td></tr><tr><td>GRAVATAI</td><td>BOM PRINCIPIO</td><td>5.89</td><td>1</td><td>Basic</td></tr><tr><td>MARILIA</td><td>CASCATA</td><td>6.09</td><td>1</td><td>Basic</td></tr><tr><td>BALSAS</td><td>SAO FELIX</td><td>5.94</td><td>1</td><td>Basic</td></tr><tr><td>PRESIDENTE DUTRA</td><td>POVOADO PEDRA BRANCA</td><td>5.69</td><td>1</td><td>Basic</td></tr><tr><td>UBA</td><td>CENTRO</td><td>5.82</td><td>3</td><td>Basic</td></tr><tr><td>SETE LAGOAS</td><td>MATA GRANDE</td><td>5.47</td><td>1</td><td>Basic</td></tr><tr><td>BRUMADO</td><td>RODOVIARIO</td><td>5.94</td><td>1</td><td>Basic</td></tr><tr><td>MANAUS</td><td>MORRO DA LIBERDADE</td><td>6.29</td><td>1</td><td>Basic</td></tr><tr><td>MONTES CLAROS</td><td>VILA NAZARETH</td><td>5.74</td><td>1</td><td>Basic</td></tr><tr><td>CUIABA</td><td>PRAIEIRO</td><td>5.95</td><td>1</td><td>Basic</td></tr><tr><td>TERESOPOLIS</td><td>PESSEGUEIROS</td><td>5.64</td><td>1</td><td>Basic</td></tr><tr><td>SAO PAULO</td><td>BROOKLIN NOVO</td><td>7.99</td><td>1</td><td>Basic</td></tr><tr><td>BEBEDOURO</td><td>RESIDENCIAL CENTENARIO</td><td>6.39</td><td>1</td><td>Basic</td></tr><tr><td>ASSIS</td><td>VILA OPERARIA</td><td>6.19</td><td>1</td><td>Basic</td></tr><tr><td>DUQUE DE CAXIAS</td><td>CENTRO</td><td>5.40</td><td>5</td><td>Basic</td></tr><tr><td>SANTA CRUZ DO SUL</td><td>FAXINAL</td><td>6.21</td><td>1</td><td>Basic</td></tr><tr><td>ITANHAEM</td><td>CHACARAS CIBRATEL</td><td>5.69</td><td>1</td><td>Basic</td></tr><tr><td>PETROLINA</td><td>KM 02</td><td>6.19</td><td>1</td><td>Basic</td></tr><tr><td>RIO DE JANEIRO</td><td>PECHINCHA</td><td>5.47</td><td>2</td><td>Basic</td></tr><tr><td>MAFRA</td><td>ESPIGAO DO BUGRE</td><td>5.85</td><td>1</td><td>Basic</td></tr><tr><td>ARAPIRACA</td><td>SENADOR TEOTONIO VILELA</td><td>6.69</td><td>1</td><td>Basic</td></tr><tr><td>SAO BERNARDO DO CAMPO</td><td>DEMARCHI</td><td>5.55</td><td>1</td><td>Basic</td></tr><tr><td>RIO LARGO</td><td>ZONA RURAL</td><td>5.82</td><td>1</td><td>Basic</td></tr><tr><td>PETROPOLIS</td><td>QUITANDINHA</td><td>6.02</td><td>3</td><td>Basic</td></tr><tr><td>VOLTA REDONDA</td><td>CASA DE PEDRA</td><td>5.69</td><td>2</td><td>Basic</td></tr><tr><td>FORTALEZA</td><td>CURIO</td><td>5.49</td><td>1</td><td>Basic</td></tr><tr><td>TABOAO DA SERRA</td><td>INTERCAP</td><td>7.29</td><td>1</td><td>Basic</td></tr><tr><td>CURITIBA</td><td>SANTA FELICIDADE</td><td>5.75</td><td>3</td><td>Basic</td></tr><tr><td>TIMOTEO</td><td>QUITANDINHA</td><td>5.75</td><td>1</td><td>Basic</td></tr><tr><td>COLOMBO</td><td>JARDIM MARACANA</td><td>5.79</td><td>1</td><td>Basic</td></tr><tr><td>SAO BERNARDO DO CAMPO</td><td>ASSUNCAO</td><td>5.69</td><td>2</td><td>Basic</td></tr><tr><td>SANTA MARIA</td><td>CENTRO</td><td>5.99</td><td>1</td><td>Basic</td></tr><tr><td>SAO PAULO</td><td>TATUAPÉ</td><td>6.39</td><td>1</td><td>Basic</td></tr><tr><td>MARINGA</td><td>ZONA 46</td><td>5.57</td><td>1</td><td>Basic</td></tr><tr><td>LIMOEIRO DO NORTE</td><td>ANTONIO HOLANDA DE OLIVEIRA</td><td>6.29</td><td>1</td><td>Basic</td></tr><tr><td>RIO DE JANEIRO</td><td>SULACAP</td><td>4.59</td><td>1</td><td>Basic</td></tr><tr><td>RONDONOPOLIS</td><td>VILA ANDREIA</td><td>5.94</td><td>2</td><td>Basic</td></tr><tr><td>FRUTAL</td><td>NS DO CARMO</td><td>5.62</td><td>1</td><td>Basic</td></tr><tr><td>PARA DE MINAS</td><td>SAO JOSE</td><td>6.09</td><td>1</td><td>Basic</td></tr><tr><td>FEIRA DE SANTANA</td><td>SANTO ANTONIO DOS PRAZERES</td><td>5.72</td><td>1</td><td>Basic</td></tr><tr><td>CAMPO GRANDE</td><td>VL FREDERICO PORTINHO PACHE</td><td>5.59</td><td>1</td><td>Basic</td></tr><tr><td>CORNELIO PROCOPIO</td><td>CENTRO</td><td>5.82</td><td>5</td><td>Basic</td></tr><tr><td>JABOATAO DOS GUARARAPES</td><td>PRAZERES</td><td>5.25</td><td>2</td><td>Basic</td></tr><tr><td>UBERABA</td><td>VILA SAO CRISTOVAO</td><td>5.64</td><td>1</td><td>Basic</td></tr><tr><td>SAO JOSE DO RIO PRETO</td><td>JARDIM SANTA BARBARA</td><td>5.59</td><td>1</td><td>Basic</td></tr><tr><td>LUZIANIA</td><td>PARQUE ESTRELA DALVA II</td><td>5.94</td><td>1</td><td>Basic</td></tr><tr><td>MONTE ALTO</td><td>JARDIM ACAPULCO</td><td>5.64</td><td>1</td><td>Basic</td></tr><tr><td>SAO BERNARDO DO CAMPO</td><td>PAULICEIA</td><td>6.29</td><td>1</td><td>Basic</td></tr><tr><td>RESENDE</td><td>CIDADE ALEGRIA</td><td>5.19</td><td>1</td><td>Basic</td></tr><tr><td>PRESIDENTE DUTRA</td><td>CAMPO DANTAS</td><td>5.68</td><td>4</td><td>Basic</td></tr><tr><td>ASSIS CHATEAUBRIAND</td><td>JD. PARANÁ</td><td>5.39</td><td>1</td><td>Basic</td></tr><tr><td>MACAPA</td><td>PACOVAL</td><td>7.13</td><td>2</td><td>Basic</td></tr><tr><td>VINHEDO</td><td>NOVA VINHEDO</td><td>5.89</td><td>1</td><td>Basic</td></tr><tr><td>JAU</td><td>CENTRO</td><td>6.19</td><td>1</td><td>Basic</td></tr><tr><td>GUARAPUAVA</td><td>SANTA CRUZ</td><td>5.99</td><td>1</td><td>Basic</td></tr><tr><td>POCOS DE CALDAS</td><td>JOAO PINHEIRO</td><td>5.69</td><td>1</td><td>Basic</td></tr><tr><td>BIGUACU</td><td>UNIVERSITARIO</td><td>6.19</td><td>1</td><td>Basic</td></tr><tr><td>GOIANIA</td><td>SET OESTE</td><td>5.99</td><td>1</td><td>Basic</td></tr><tr><td>ARARUAMA</td><td>IGUABINHA</td><td>5.89</td><td>1</td><td>Basic</td></tr><tr><td>MOGI GUACU</td><td>J CARMEM LYDIA</td><td>6.19</td><td>1</td><td>Basic</td></tr><tr><td>RONDONOPOLIS</td><td>VILA IRACY</td><td>6.19</td><td>1</td><td>Basic</td></tr><tr><td>ARAPIRACA</td><td>NOVA ESPERANCA</td><td>5.69</td><td>1</td><td>Basic</td></tr><tr><td>SAO LUIS</td><td>PEDRINHAS</td><td>5.47</td><td>2</td><td>Basic</td></tr><tr><td>OLIMPIA</td><td>PATRIM.S.J.BATISTA I</td><td>5.82</td><td>1</td><td>Basic</td></tr><tr><td>BETIM</td><td>BETIM INDUSTRIAL</td><td>5.70</td><td>2</td><td>Basic</td></tr><tr><td>JOSE BONIFACIO</td><td>CENTRO</td><td>5.95</td><td>2</td><td>Basic</td></tr><tr><td>ITAPECERICA DA SERRA</td><td>JARDIM TEREZA MARIA</td><td>5.99</td><td>1</td><td>Basic</td></tr><tr><td>SAPUCAIA DO SUL</td><td>CAMBOIM</td><td>5.84</td><td>1</td><td>Basic</td></tr><tr><td>GUARULHOS</td><td>PICANÇO</td><td>5.79</td><td>1</td><td>Basic</td></tr><tr><td>BAURU</td><td>CENTRO</td><td>5.92</td><td>2</td><td>Basic</td></tr><tr><td>CAMPINA GRANDE</td><td>CENTRO</td><td>5.76</td><td>5</td><td>Basic</td></tr><tr><td>GUARULHOS</td><td>JD NOVA CUMBICA</td><td>6.29</td><td>1</td><td>Basic</td></tr><tr><td>SAO PAULO</td><td>PARQUE PAULISTANO</td><td>5.84</td><td>1</td><td>Basic</td></tr><tr><td>MANACAPURU</td><td>CENTRO</td><td>6.47</td><td>2</td><td>Basic</td></tr><tr><td>DIVINOPOLIS</td><td>SAO JOSE</td><td>5.79</td><td>1</td><td>Basic</td></tr><tr><td>BELO HORIZONTE</td><td>CARLOS PRATES</td><td>5.76</td><td>3</td><td>Basic</td></tr><tr><td>SOROCABA</td><td>JARDIM NOGUEIRA</td><td>5.99</td><td>1</td><td>Basic</td></tr><tr><td>SAO FRANCISCO DE ITABAPOANA</td><td>GARGAU</td><td>6.47</td><td>1</td><td>Basic</td></tr><tr><td>BELO HORIZONTE</td><td>CIDADE JARDIM</td><td>5.97</td><td>1</td><td>Basic</td></tr><tr><td>CURITIBA</td><td>VILA TINGUI</td><td>5.54</td><td>1</td><td>Basic</td></tr><tr><td>PORTO VELHO</td><td>ESCOLA DE POLICIA</td><td>7.34</td><td>1</td><td>Basic</td></tr><tr><td>BAYEUX</td><td>CENTRO COM. NORTE</td><td>5.69</td><td>1</td><td>Basic</td></tr><tr><td>CASTANHAL</td><td>SAO JOSE</td><td>5.99</td><td>1</td><td>Basic</td></tr><tr><td>NITEROI</td><td>ITAIPU</td><td>6.35</td><td>1</td><td>Basic</td></tr><tr><td>PINDAMONHANGABA</td><td>ALTO DO CARDOSO</td><td>5.89</td><td>1</td><td>Basic</td></tr><tr><td>CAMACARI</td><td>CAMAÇARI DE DENTRO</td><td>5.95</td><td>1</td><td>Basic</td></tr><tr><td>RECIFE</td><td>PRADO</td><td>5.15</td><td>2</td><td>Basic</td></tr><tr><td>JUIZ DE FORA</td><td>RETIRO</td><td>5.79</td><td>1</td><td>Basic</td></tr><tr><td>PORTO ALEGRE</td><td>JARDIM FLORESTA</td><td>5.58</td><td>1</td><td>Basic</td></tr><tr><td>SANTA ROSA</td><td>CENTRO</td><td>6.00</td><td>6</td><td>Basic</td></tr><tr><td>GUARATINGUETA</td><td>CAMPO DO GALVAO</td><td>5.99</td><td>1</td><td>Basic</td></tr><tr><td>ITAPIPOCA</td><td>COQUEIRO</td><td>6.58</td><td>1</td><td>Basic</td></tr><tr><td>BRASILIA</td><td>SETOR DE HABITACOES INDIVIDUAIS SUL</td><td>5.89</td><td>1</td><td>Basic</td></tr><tr><td>ITU</td><td>VILA PADRE BENTO</td><td>5.23</td><td>1</td><td>Basic</td></tr><tr><td>SAPUCAIA DO SUL</td><td>WALDEREZ</td><td>5.71</td><td>2</td><td>Basic</td></tr><tr><td>SANTANA DO LIVRAMENTO</td><td>ARMOUR</td><td>6.50</td><td>1</td><td>Basic</td></tr><tr><td>CASTRO</td><td>CASTROLANDA</td><td>6.01</td><td>1</td><td>Basic</td></tr><tr><td>NOVA IGUACU</td><td>PARQUE SAO FRANCISCO</td><td>5.32</td><td>1</td><td>Basic</td></tr><tr><td>MOGI GUACU</td><td>CENTRO</td><td>5.94</td><td>1</td><td>Basic</td></tr><tr><td>PORTO SEGURO</td><td>JARDIM PRIMAVERA</td><td>6.84</td><td>1</td><td>Basic</td></tr><tr><td>BELO HORIZONTE</td><td>JARDIM MONTANHES</td><td>4.89</td><td>1</td><td>Basic</td></tr><tr><td>BELO JARDIM</td><td>SANTO ANTÔNIO</td><td>5.53</td><td>1</td><td>Basic</td></tr><tr><td>SAO JOAO DA BOA VISTA</td><td>CENTRO</td><td>5.51</td><td>2</td><td>Basic</td></tr><tr><td>RIO LARGO</td><td>ANTONIO LINS DE SOUZA</td><td>5.81</td><td>2</td><td>Basic</td></tr><tr><td>PRAIA GRANDE</td><td>TUPI</td><td>6.59</td><td>1</td><td>Basic</td></tr><tr><td>MANAUS</td><td>COROADO</td><td>5.67</td><td>1</td><td>Basic</td></tr><tr><td>ITAGUAI</td><td>VILA MARGARIDA</td><td>5.48</td><td>2</td><td>Basic</td></tr><tr><td>GUARUJA</td><td>ENSEADA</td><td>6.07</td><td>2</td><td>Basic</td></tr><tr><td>IBITINGA</td><td>CENTRO</td><td>5.95</td><td>3</td><td>Basic</td></tr><tr><td>ITATIBA</td><td>CENTRO</td><td>6.06</td><td>2</td><td>Basic</td></tr><tr><td>BENTO GONCALVES</td><td>BORGO</td><td>5.85</td><td>1</td><td>Basic</td></tr><tr><td>UNIAO DA VITORIA</td><td>CENTRO</td><td>6.25</td><td>7</td><td>Basic</td></tr><tr><td>CABO FRIO</td><td>JARDIM ESPERANCA</td><td>6.16</td><td>1</td><td>Basic</td></tr><tr><td>OSASCO</td><td>ROCHDALE</td><td>7.29</td><td>2</td><td>Basic</td></tr><tr><td>SAO JOSE DO RIO PRETO</td><td>JD. NUNES</td><td>5.74</td><td>1</td><td>Basic</td></tr><tr><td>UBERLANDIA</td><td>PANORAMA</td><td>5.76</td><td>1</td><td>Basic</td></tr><tr><td>CURITIBA</td><td>MERCES</td><td>5.71</td><td>3</td><td>Basic</td></tr><tr><td>CACHOEIRINHA</td><td>VILA PARQUE BRASILIA</td><td>5.82</td><td>1</td><td>Basic</td></tr><tr><td>CRUZEIRO</td><td>VILA CANEVARI</td><td>6.24</td><td>2</td><td>Basic</td></tr><tr><td>CARIACICA</td><td>DOM BOSCO</td><td>5.54</td><td>1</td><td>Basic</td></tr><tr><td>JOAO MONLEVADE</td><td>LOANDA</td><td>5.89</td><td>1</td><td>Basic</td></tr><tr><td>ITUIUTABA</td><td>GARDENIA</td><td>5.73</td><td>1</td><td>Basic</td></tr><tr><td>LAVRAS</td><td>CONJ HABITACIONAL AGUA LIMPA</td><td>5.55</td><td>1</td><td>Basic</td></tr><tr><td>NOVA LIMA</td><td>B OURO VELHO MANSOES</td><td>5.89</td><td>1</td><td>Basic</td></tr><tr><td>LUZIANIA</td><td>SETOR AEROPORTO</td><td>5.92</td><td>1</td><td>Basic</td></tr><tr><td>LONDRINA</td><td>JARDIM BANDEIRANTES</td><td>6.14</td><td>1</td><td>Basic</td></tr><tr><td>ITAJUBA</td><td>MORRO GRANDE</td><td>5.99</td><td>1</td><td>Basic</td></tr><tr><td>LAVRAS</td><td>JARDIM SAMAUMA</td><td>5.94</td><td>1</td><td>Basic</td></tr><tr><td>SAPUCAIA DO SUL</td><td>PASQUALINI</td><td>5.66</td><td>1</td><td>Basic</td></tr><tr><td>BAYEUX</td><td>IMACULADA</td><td>5.89</td><td>1</td><td>Basic</td></tr><tr><td>SAO JOSE DE RIBAMAR</td><td>MIRITIUA</td><td>5.59</td><td>1</td><td>Basic</td></tr><tr><td>TERESINA</td><td>SAO JOAQUIM</td><td>5.89</td><td>1</td><td>Basic</td></tr><tr><td>BELEM</td><td>GUAMÁ</td><td>6.69</td><td>1</td><td>Basic</td></tr><tr><td>SINOP</td><td>SETOR INDUSTRIAL</td><td>6.80</td><td>2</td><td>Basic</td></tr><tr><td>SOROCABA</td><td>CONJUNTO HABITACIONAL JULIO DE MESQUITA FILHO</td><td>5.53</td><td>2</td><td>Basic</td></tr><tr><td>DUQUE DE CAXIAS</td><td>JARDIM 25 DE AGOSTO</td><td>5.45</td><td>2</td><td>Basic</td></tr><tr><td>JOINVILLE</td><td>SAGUAÇU</td><td>6.09</td><td>1</td><td>Basic</td></tr><tr><td>RECIFE</td><td>BARRO</td><td>5.79</td><td>1</td><td>Basic</td></tr><tr><td>TRES RIOS</td><td>CENTRO</td><td>6.02</td><td>3</td><td>Basic</td></tr><tr><td>BELO JARDIM</td><td>SANTO ANTONIO</td><td>5.56</td><td>2</td><td>Basic</td></tr><tr><td>BLUMENAU</td><td>ASILO</td><td>6.19</td><td>1</td><td>Basic</td></tr><tr><td>SALVADOR</td><td>SANTA TERESA</td><td>4.69</td><td>1</td><td>Basic</td></tr><tr><td>TUBARAO</td><td>SAO CRISTOVAO</td><td>5.74</td><td>1</td><td>Basic</td></tr><tr><td>JEQUIE</td><td>SÃO JOSÉ</td><td>6.19</td><td>1</td><td>Basic</td></tr><tr><td>CARAGUATATUBA</td><td>TABATINGA</td><td>6.19</td><td>1</td><td>Basic</td></tr><tr><td>SORRISO</td><td>EXPANSAO URBANA</td><td>5.77</td><td>1</td><td>Basic</td></tr><tr><td>SAO GONCALO</td><td>TRIBOBO</td><td>5.54</td><td>3</td><td>Basic</td></tr><tr><td>PARA DE MINAS</td><td>BELVEDERE</td><td>5.69</td><td>1</td><td>Basic</td></tr><tr><td>PAULINIA</td><td>VILA BRESSANI</td><td>6.09</td><td>1</td><td>Basic</td></tr><tr><td>ITAPOLIS</td><td>CENTRO</td><td>5.84</td><td>7</td><td>Basic</td></tr><tr><td>BRUSQUE</td><td>SANTA RITA</td><td>6.22</td><td>1</td><td>Basic</td></tr><tr><td>MOSSORO</td><td>ALTO DE SO MANOEL</td><td>5.74</td><td>1</td><td>Basic</td></tr><tr><td>SAO LUIS</td><td>OLHO D¿ÁGUA</td><td>5.59</td><td>1</td><td>Basic</td></tr><tr><td>CAMPOS DOS GOYTACAZES</td><td>PARQUE ROSARIO</td><td>6.04</td><td>1</td><td>Basic</td></tr><tr><td>RIO BONITO</td><td>BOA ESPERANCA</td><td>5.94</td><td>1</td><td>Basic</td></tr><tr><td>FORTALEZA</td><td>MONTESE</td><td>6.11</td><td>3</td><td>Basic</td></tr><tr><td>ITUMBIARA</td><td>PLANALTO</td><td>5.54</td><td>1</td><td>Basic</td></tr><tr><td>VOTORANTIM</td><td>B. DOS PROTESTANTES</td><td>5.99</td><td>1</td><td>Basic</td></tr><tr><td>CAICO</td><td>VILA ALTIVA II</td><td>6.92</td><td>1</td><td>Basic</td></tr><tr><td>MAFRA</td><td>RESTINGA</td><td>5.57</td><td>1</td><td>Basic</td></tr><tr><td>PIRACICABA</td><td>V INDEPENDENCIA</td><td>5.94</td><td>1</td><td>Basic</td></tr><tr><td>GOIANIA</td><td>ST CIDADE JARDIM</td><td>5.67</td><td>1</td><td>Basic</td></tr><tr><td>AGUAS LINDAS DE GOIAS</td><td>SETOR JARDIM QUERENCIA</td><td>6.02</td><td>1</td><td>Basic</td></tr><tr><td>OSASCO</td><td>JARDIM MUNHOZ</td><td>5.52</td><td>1</td><td>Basic</td></tr><tr><td>MAFRA</td><td>CENTRO I BAIXADA</td><td>6.15</td><td>2</td><td>Basic</td></tr><tr><td>SERTAOZINHO</td><td>SETOR INDUSTRIAL</td><td>5.32</td><td>1</td><td>Basic</td></tr><tr><td>ITAPEVA</td><td>JARDIM MARINGA</td><td>5.45</td><td>2</td><td>Basic</td></tr><tr><td>JATAI</td><td>VILA JARDIM RIO CLARO</td><td>5.88</td><td>2</td><td>Basic</td></tr><tr><td>SAO PAULO</td><td>INTERLAGOS</td><td>5.48</td><td>2</td><td>Basic</td></tr><tr><td>ARARAQUARA</td><td>SANTANA</td><td>6.09</td><td>1</td><td>Basic</td></tr><tr><td>NOVO HAMBURGO</td><td>PRIMAVERA</td><td>5.47</td><td>1</td><td>Basic</td></tr><tr><td>MANAUS</td><td>MAUAZINHO</td><td>6.29</td><td>1</td><td>Basic</td></tr><tr><td>JOAO PESSOA</td><td>TORRE</td><td>5.04</td><td>2</td><td>Basic</td></tr><tr><td>ARARAS</td><td>MATADOURO</td><td>5.84</td><td>1</td><td>Basic</td></tr><tr><td>BARRA DO PIRAI</td><td>MUQUECA</td><td>6.12</td><td>2</td><td>Basic</td></tr><tr><td>BACABAL</td><td>POVOADO OLHO DAGUA DO DJALMA</td><td>5.51</td><td>1</td><td>Basic</td></tr><tr><td>SAO LUIS</td><td>COHATRAC IV</td><td>5.59</td><td>1</td><td>Basic</td></tr><tr><td>LIMEIRA</td><td>JD SAO MANOEL</td><td>5.84</td><td>1</td><td>Basic</td></tr><tr><td>SAO PAULO</td><td>PENHA DE FRANCA</td><td>5.22</td><td>1</td><td>Basic</td></tr><tr><td>VALINHOS</td><td>JD. SANTA TEREZINHA</td><td>5.59</td><td>1</td><td>Basic</td></tr><tr><td>ARAPIRACA</td><td>CENTRO</td><td>5.85</td><td>3</td><td>Basic</td></tr><tr><td>PETROLINA</td><td>VILA EDUARDO</td><td>6.05</td><td>2</td><td>Basic</td></tr><tr><td>CACHOEIRINHA</td><td>INDUSTRIAL</td><td>5.84</td><td>1</td><td>Basic</td></tr><tr><td>BOA VISTA</td><td>CAMBARA</td><td>6.51</td><td>1</td><td>Basic</td></tr><tr><td>UNAI</td><td>CENTRO</td><td>6.21</td><td>2</td><td>Basic</td></tr><tr><td>COLOMBO</td><td>SAO GABRIEL</td><td>5.84</td><td>1</td><td>Basic</td></tr><tr><td>SAO PAULO</td><td>SAUDE</td><td>4.43</td><td>2</td><td>Basic</td></tr><tr><td>POCOS DE CALDAS</td><td>PARQUE PRIMAVERA</td><td>5.99</td><td>1</td><td>Basic</td></tr><tr><td>CARAGUATATUBA</td><td>TRAVESSAO</td><td>6.09</td><td>1</td><td>Basic</td></tr><tr><td>SOBRAL</td><td>CENTRO</td><td>6.18</td><td>5</td><td>Basic</td></tr><tr><td>SANTA CRUZ DO SUL</td><td>RENASCENCA</td><td>6.04</td><td>1</td><td>Basic</td></tr><tr><td>QUIXADA</td><td>COHAB</td><td>5.79</td><td>1</td><td>Basic</td></tr><tr><td>JABOTICABAL</td><td>VILA SERRA</td><td>5.64</td><td>1</td><td>Basic</td></tr><tr><td>SAPIRANGA</td><td>CENTRO</td><td>5.59</td><td>3</td><td>Basic</td></tr><tr><td>MARACANAU</td><td>JARDIM JATOBA</td><td>5.47</td><td>1</td><td>Basic</td></tr><tr><td>MARILIA</td><td>JARDIM NAZARETH</td><td>6.19</td><td>1</td><td>Basic</td></tr><tr><td>FORTALEZA</td><td>BAIRRO DE FATIMA</td><td>5.89</td><td>1</td><td>Basic</td></tr><tr><td>CAMPOS DOS GOYTACAZES</td><td>GOITACAZES</td><td>5.74</td><td>1</td><td>Basic</td></tr><tr><td>CACHOEIRA DO SUL</td><td>OLIVEIRA</td><td>6.19</td><td>1</td><td>Basic</td></tr><tr><td>SANTO ANDRE</td><td>PQ. DAS NACOES</td><td>5.99</td><td>1</td><td>Basic</td></tr><tr><td>DUQUE DE CAXIAS</td><td>CIDADE DOS MENINOS</td><td>5.84</td><td>1</td><td>Basic</td></tr><tr><td>PORTO NACIONAL</td><td>PARQUE DO TREVO</td><td>5.68</td><td>1</td><td>Basic</td></tr><tr><td>MACAPA</td><td>MUCA</td><td>6.38</td><td>1</td><td>Basic</td></tr><tr><td>JUIZ DE FORA</td><td>GRAMA</td><td>5.70</td><td>1</td><td>Basic</td></tr><tr><td>UBERLANDIA</td><td>MORADA DA COLINA</td><td>6.29</td><td>1</td><td>Basic</td></tr><tr><td>ARAPONGAS</td><td>BAIRRO GRANDE PARADA</td><td>5.90</td><td>1</td><td>Basic</td></tr><tr><td>SAPUCAIA</td><td>JAMAPARA</td><td>5.74</td><td>2</td><td>Basic</td></tr><tr><td>DUQUE DE CAXIAS</td><td>SANTA CRUZ DA SERRA</td><td>5.24</td><td>1</td><td>Basic</td></tr><tr><td>SAO PAULO</td><td>VILA MAZZEI</td><td>5.95</td><td>1</td><td>Basic</td></tr><tr><td>INDAIATUBA</td><td>VILA GEORGINA</td><td>6.02</td><td>1</td><td>Basic</td></tr><tr><td>LAURO DE FREITAS</td><td>CENTRO</td><td>6.10</td><td>4</td><td>Basic</td></tr><tr><td>LAJEADO</td><td>CONVENTOS</td><td>5.68</td><td>1</td><td>Basic</td></tr><tr><td>CONCORDIA</td><td>PETROPOLIS</td><td>6.20</td><td>1</td><td>Basic</td></tr><tr><td>SAO ROQUE</td><td>DISTRITO DE SAO JOAO NOVO</td><td>5.99</td><td>1</td><td>Basic</td></tr><tr><td>BIGUACU</td><td>BOM VIVER</td><td>6.29</td><td>1</td><td>Basic</td></tr><tr><td>RONDONOPOLIS</td><td>VILA OPERARIA</td><td>6.14</td><td>1</td><td>Basic</td></tr><tr><td>JACAREI</td><td>JARDIM SANTA MARIA</td><td>5.83</td><td>1</td><td>Basic</td></tr><tr><td>SAO LUIS</td><td>TIRIRICAL</td><td>5.59</td><td>1</td><td>Basic</td></tr><tr><td>GRAVATAI</td><td>PARQUE OLINDA</td><td>5.84</td><td>1</td><td>Basic</td></tr><tr><td>GUARULHOS</td><td>COCAIA</td><td>6.29</td><td>1</td><td>Basic</td></tr><tr><td>MARILIA</td><td>ALTO CAFEZAL</td><td>5.79</td><td>1</td><td>Basic</td></tr><tr><td>CURITIBA</td><td>SANTA QUITERIA</td><td>5.29</td><td>1</td><td>Basic</td></tr><tr><td>APARECIDA DE GOIANIA</td><td>SETOR SERRA DOURADA</td><td>5.49</td><td>1</td><td>Basic</td></tr><tr><td>OURINHOS</td><td>VILA SANTA MARIA</td><td>5.56</td><td>2</td><td>Basic</td></tr><tr><td>MACAPA</td><td>CIDADE NOVA</td><td>6.32</td><td>1</td><td>Basic</td></tr><tr><td>ARARAS</td><td>VILA MICHELIN</td><td>5.58</td><td>1</td><td>Basic</td></tr><tr><td>RIO DE JANEIRO</td><td>CATUMBI</td><td>5.07</td><td>1</td><td>Basic</td></tr><tr><td>SANTO ANTONIO DE JESUS</td><td>ANDAIA</td><td>5.95</td><td>2</td><td>Basic</td></tr><tr><td>GURUPI</td><td>JARDIM SERVILHA</td><td>6.59</td><td>1</td><td>Basic</td></tr><tr><td>HORTOLANDIA</td><td>NUCLEO SANTA IZABEL</td><td>5.64</td><td>1</td><td>Basic</td></tr><tr><td>CURITIBA</td><td>JARDIM DAS AMERICAS</td><td>5.95</td><td>3</td><td>Basic</td></tr><tr><td>MARABA</td><td>AMAPA</td><td>5.99</td><td>1</td><td>Basic</td></tr><tr><td>SUMARE</td><td>BOM RETIRO</td><td>5.99</td><td>1</td><td>Basic</td></tr><tr><td>CAXIAS DO SUL</td><td>FLORESTA</td><td>6.03</td><td>1</td><td>Basic</td></tr><tr><td>RIO BONITO</td><td>PRACA CRUZEIRO</td><td>6.61</td><td>1</td><td>Basic</td></tr><tr><td>SANTOS</td><td>VILA BELMIRO</td><td>5.99</td><td>1</td><td>Basic</td></tr><tr><td>BELO HORIZONTE</td><td>UNIAO</td><td>5.39</td><td>1</td><td>Basic</td></tr><tr><td>ITUMBIARA</td><td>SETOR AFONSO PENA</td><td>5.70</td><td>2</td><td>Basic</td></tr><tr><td>GUARAPUAVA</td><td>ALTO DA XV</td><td>5.99</td><td>2</td><td>Basic</td></tr><tr><td>SAO JOAO DE MERITI</td><td>COELHO DA ROCHA</td><td>5.99</td><td>1</td><td>Basic</td></tr><tr><td>RECIFE</td><td>TORROES</td><td>5.88</td><td>1</td><td>Basic</td></tr><tr><td>SAO PAULO</td><td>JARDIM PINHEIROS</td><td>5.69</td><td>1</td><td>Basic</td></tr><tr><td>LONDRINA</td><td>JARDIM PALMARES</td><td>6.01</td><td>1</td><td>Basic</td></tr><tr><td>SANTOS</td><td>APARECIDA</td><td>6.97</td><td>1</td><td>Basic</td></tr><tr><td>GOVERNADOR VALADARES</td><td>S PEDRO</td><td>5.80</td><td>1</td><td>Basic</td></tr><tr><td>GUARATINGUETA</td><td>BEIRA RIO 01</td><td>6.49</td><td>1</td><td>Basic</td></tr><tr><td>GUARAPUAVA</td><td>IMOVEL MORRO ALTO</td><td>6.04</td><td>1</td><td>Basic</td></tr><tr><td>ATIBAIA</td><td>BAIRRO DO PORTÃO</td><td>6.04</td><td>1</td><td>Basic</td></tr><tr><td>SALVADOR</td><td>BROTAS</td><td>4.87</td><td>2</td><td>Basic</td></tr><tr><td>GUARULHOS</td><td>JARDIM  SAO PAULO</td><td>5.89</td><td>1</td><td>Basic</td></tr><tr><td>CRATEUS</td><td>FATIMA II</td><td>6.14</td><td>3</td><td>Basic</td></tr><tr><td>ARAPIRACA</td><td>BOA VISTA</td><td>5.94</td><td>1</td><td>Basic</td></tr><tr><td>SANTO ANDRE</td><td>VILA HOMERO THON</td><td>6.29</td><td>1</td><td>Basic</td></tr><tr><td>JANUARIA</td><td>VILA JADETE</td><td>6.08</td><td>1</td><td>Basic</td></tr><tr><td>BARRA MANSA</td><td>SAUDADE</td><td>5.99</td><td>1</td><td>Basic</td></tr><tr><td>PARAUAPEBAS</td><td>LOTEAMENTO BEIRA RIO II</td><td>6.99</td><td>1</td><td>Basic</td></tr><tr><td>CAMPINAS</td><td>TAQUARAL</td><td>5.94</td><td>2</td><td>Basic</td></tr><tr><td>FOZ DO IGUACU</td><td>VILA PORTES</td><td>6.00</td><td>5</td><td>Basic</td></tr><tr><td>PAULISTA</td><td>MARANGUAPE I</td><td>5.17</td><td>1</td><td>Basic</td></tr><tr><td>ARACRUZ</td><td>BELA VISTA</td><td>5.90</td><td>2</td><td>Basic</td></tr><tr><td>SINOP</td><td>DISTRITO INDUSTRIAL</td><td>5.96</td><td>1</td><td>Basic</td></tr><tr><td>UNIAO DA VITORIA</td><td>SÃO CRISTÓVÃO</td><td>6.49</td><td>1</td><td>Basic</td></tr><tr><td>CARATINGA</td><td>CENTRO</td><td>5.80</td><td>1</td><td>Basic</td></tr><tr><td>DIADEMA</td><td>CANHEMA</td><td>6.29</td><td>1</td><td>Basic</td></tr><tr><td>SUMARE</td><td>PARQUE R. VIRGNIO BASSO</td><td>5.54</td><td>1</td><td>Basic</td></tr><tr><td>PORTO VELHO</td><td>TEIXEIRAO</td><td>6.39</td><td>1</td><td>Basic</td></tr><tr><td>SETE LAGOAS</td><td>UNIVERSITARIO</td><td>5.44</td><td>1</td><td>Basic</td></tr><tr><td>MONTES CLAROS</td><td>ESPLANADA</td><td>6.16</td><td>1</td><td>Basic</td></tr><tr><td>MOSSORO</td><td>LIBERDADE</td><td>5.79</td><td>1</td><td>Basic</td></tr><tr><td>JUNDIAI</td><td>ENGORDADOURO</td><td>6.04</td><td>1</td><td>Basic</td></tr><tr><td>SERTAOZINHO</td><td>CJ HAB L DOMENICI</td><td>5.73</td><td>1</td><td>Basic</td></tr><tr><td>SAO PAULO</td><td>VILA SOCORRO</td><td>5.99</td><td>1</td><td>Basic</td></tr><tr><td>ITAUNA</td><td>VILA TAVARES</td><td>5.64</td><td>2</td><td>Basic</td></tr><tr><td>CARAGUATATUBA</td><td>JARDIM TARUMAS</td><td>6.42</td><td>1</td><td>Basic</td></tr><tr><td>NOVO HAMBURGO</td><td>RIO BRANCO</td><td>5.79</td><td>2</td><td>Basic</td></tr><tr><td>ITAPIRA</td><td>JARDIM SANTA MARTA</td><td>6.04</td><td>1</td><td>Basic</td></tr><tr><td>ITAJAI</td><td>CANHANDUBA</td><td>6.09</td><td>2</td><td>Basic</td></tr><tr><td>ATIBAIA</td><td>JARDIM CEREJEIRAS</td><td>5.49</td><td>1</td><td>Basic</td></tr><tr><td>CRUZ ALTA</td><td>VILA CONCEICAO</td><td>6.24</td><td>1</td><td>Basic</td></tr><tr><td>JUAZEIRO</td><td>JOÃO PAULO II</td><td>5.91</td><td>1</td><td>Basic</td></tr><tr><td>COTIA</td><td>CIDADE DAS ROSAS</td><td>6.59</td><td>1</td><td>Basic</td></tr><tr><td>SANTOS</td><td>JABAQUARA</td><td>6.19</td><td>1</td><td>Basic</td></tr><tr><td>PARAISO DO TOCANTINS</td><td>LOTEAMENTO SETOR ALTO PARAISO</td><td>5.63</td><td>1</td><td>Basic</td></tr><tr><td>MARABA</td><td>LARANJEIRAS</td><td>6.19</td><td>1</td><td>Basic</td></tr><tr><td>CAMPINAS</td><td>JARDIM NOVA EUROPA</td><td>5.89</td><td>1</td><td>Basic</td></tr><tr><td>JUNDIAI</td><td>JARDIM PLANALTO</td><td>5.89</td><td>1</td><td>Basic</td></tr><tr><td>ANAPOLIS</td><td>JK NOVA CAPITAL</td><td>5.85</td><td>1</td><td>Basic</td></tr><tr><td>CARIACICA</td><td>NOVA VALVERDE - CONTORNO DE VITORIA</td><td>5.53</td><td>1</td><td>Basic</td></tr><tr><td>ITANHAEM</td><td>JARDIM IBERA</td><td>5.79</td><td>1</td><td>Basic</td></tr><tr><td>JUAZEIRO</td><td>JOAO PAULO II</td><td>5.99</td><td>1</td><td>Basic</td></tr><tr><td>PARA DE MINAS</td><td>JK</td><td>5.81</td><td>1</td><td>Basic</td></tr><tr><td>MACEIO</td><td>PINHEIRO</td><td>4.69</td><td>1</td><td>Basic</td></tr><tr><td>JUIZ DE FORA</td><td>SANTA MARIA</td><td>5.57</td><td>1</td><td>Basic</td></tr><tr><td>BELFORD ROXO</td><td>SANTA AMELIA</td><td>5.28</td><td>1</td><td>Basic</td></tr><tr><td>DUQUE DE CAXIAS</td><td>PARQUE A EQUITATIVA</td><td>5.43</td><td>2</td><td>Basic</td></tr><tr><td>OLIVEIRA</td><td>CENTRO</td><td>5.83</td><td>3</td><td>Basic</td></tr><tr><td>ITAQUAQUECETUBA</td><td>JARDIM ALPES DE ITAQUA</td><td>6.03</td><td>1</td><td>Basic</td></tr><tr><td>MACEIO</td><td>PETROPOLIS</td><td>5.72</td><td>2</td><td>Basic</td></tr><tr><td>TEFE</td><td>CENTRO</td><td>7.79</td><td>1</td><td>Basic</td></tr><tr><td>SANTA MARIA</td><td>CAMOBI</td><td>6.03</td><td>3</td><td>Basic</td></tr><tr><td>SAO LUIS</td><td>VILA PALMEIRA</td><td>5.59</td><td>1</td><td>Basic</td></tr><tr><td>PINHAIS</td><td>CONJUNTO MARINGA</td><td>5.94</td><td>1</td><td>Basic</td></tr><tr><td>PARNAMIRIM</td><td>NOVA PARNAMIRIM</td><td>5.92</td><td>3</td><td>Basic</td></tr><tr><td>LINS</td><td>CENTRO</td><td>5.98</td><td>3</td><td>Basic</td></tr><tr><td>BELO HORIZONTE</td><td>MINASLANDIA</td><td>5.52</td><td>2</td><td>Basic</td></tr><tr><td>CAMPINA GRANDE</td><td>ALTO BRANCO</td><td>5.78</td><td>1</td><td>Basic</td></tr><tr><td>BRAGANCA PAULISTA</td><td>CENTRO</td><td>5.69</td><td>1</td><td>Basic</td></tr><tr><td>UBERLANDIA</td><td>MARTINS</td><td>5.79</td><td>2</td><td>Basic</td></tr><tr><td>BAYEUX</td><td>ESTRADA</td><td>5.37</td><td>1</td><td>Basic</td></tr><tr><td>PRAIA GRANDE</td><td>XIXOVA</td><td>6.27</td><td>1</td><td>Basic</td></tr><tr><td>BARBACENA</td><td>PONTILHAO</td><td>6.02</td><td>2</td><td>Basic</td></tr><tr><td>SAO CARLOS</td><td>VILA MARINA</td><td>5.74</td><td>1</td><td>Basic</td></tr><tr><td>UBERLANDIA</td><td>PATRIMONIO</td><td>5.99</td><td>1</td><td>Basic</td></tr><tr><td>LAGARTO</td><td>CIDADE NOVA</td><td>5.80</td><td>1</td><td>Basic</td></tr><tr><td>MANAUS</td><td>PLANALTO</td><td>6.29</td><td>1</td><td>Basic</td></tr><tr><td>FOZ DO IGUACU</td><td>LOTEAMENTO JARDIM AURORA</td><td>5.89</td><td>1</td><td>Basic</td></tr><tr><td>POUSO ALEGRE</td><td>FRANCISCA AUGUSTA RIOS</td><td>5.84</td><td>1</td><td>Basic</td></tr><tr><td>BALNEARIO CAMBORIU</td><td>PRAIA DOS AMORES</td><td>5.44</td><td>1</td><td>Basic</td></tr><tr><td>PICOS</td><td>null</td><td>5.71</td><td>1</td><td>Basic</td></tr><tr><td>ASSIS</td><td>VILA RODRIGUES</td><td>6.23</td><td>1</td><td>Basic</td></tr><tr><td>CARUARU</td><td>CIDADE ALTA</td><td>5.59</td><td>1</td><td>Basic</td></tr><tr><td>ALAGOINHAS</td><td>JURACY MAGALHÃES</td><td>5.61</td><td>1</td><td>Basic</td></tr><tr><td>XANXERE</td><td>CENTRO</td><td>5.79</td><td>4</td><td>Basic</td></tr><tr><td>CRATEUS</td><td>CAJAS</td><td>6.27</td><td>1</td><td>Basic</td></tr><tr><td>JAU</td><td>JARDIM OLIMPIA</td><td>6.09</td><td>1</td><td>Basic</td></tr><tr><td>SAO PAULO</td><td>LAUZANE PAULISTA</td><td>5.69</td><td>1</td><td>Basic</td></tr><tr><td>IBITINGA</td><td>JARDIM MARGARIDA</td><td>6.12</td><td>1</td><td>Basic</td></tr><tr><td>SALGUEIRO</td><td>BARRIGUDA</td><td>5.57</td><td>1</td><td>Basic</td></tr><tr><td>ITAPIRA</td><td>SANTA CRUZ</td><td>5.89</td><td>1</td><td>Basic</td></tr><tr><td>ARACAJU</td><td>CIRURGIA</td><td>5.36</td><td>1</td><td>Basic</td></tr><tr><td>ACAILANDIA</td><td>PARQUE DAS NACOES</td><td>5.97</td><td>1</td><td>Basic</td></tr><tr><td>SANTO ANTONIO DE PADUA</td><td>SANTA LUZIA</td><td>5.84</td><td>1</td><td>Basic</td></tr><tr><td>ARARANGUA</td><td>CENTRO</td><td>5.85</td><td>1</td><td>Basic</td></tr><tr><td>BELFORD ROXO</td><td>HELIOPOLIS</td><td>5.94</td><td>1</td><td>Basic</td></tr><tr><td>LIMOEIRO DO NORTE</td><td>ZONA RURAL</td><td>5.82</td><td>1</td><td>Basic</td></tr><tr><td>MARECHAL CANDIDO RONDON</td><td>SEDE MUNICIPAL</td><td>5.70</td><td>1</td><td>Basic</td></tr><tr><td>NOVA FRIBURGO</td><td>CONSELHEIRO PAULINO</td><td>5.78</td><td>1</td><td>Basic</td></tr><tr><td>RIO DE JANEIRO</td><td>TAQUARA</td><td>4.38</td><td>1</td><td>Basic</td></tr><tr><td>JANUARIA</td><td>CENTRO</td><td>6.09</td><td>5</td><td>Basic</td></tr><tr><td>SALTO</td><td>CENTRO</td><td>5.99</td><td>2</td><td>Basic</td></tr><tr><td>BRAGANCA PAULISTA</td><td>JARDIM AMERICA</td><td>5.59</td><td>1</td><td>Basic</td></tr><tr><td>POCOS DE CALDAS</td><td>ESTANCIA POCOS DE CALDAS</td><td>5.69</td><td>1</td><td>Basic</td></tr><tr><td>MOSSORO</td><td>NOVA BETANIA</td><td>5.41</td><td>1</td><td>Basic</td></tr><tr><td>ASSIS</td><td>VILA ORESTES</td><td>5.37</td><td>1</td><td>Basic</td></tr><tr><td>EUNAPOLIS</td><td>DINAH BORGES</td><td>6.35</td><td>2</td><td>Basic</td></tr><tr><td>BOA VISTA</td><td>AEROPORTO</td><td>6.45</td><td>2</td><td>Basic</td></tr><tr><td>MACAE</td><td>BOTAFOGO</td><td>6.22</td><td>1</td><td>Basic</td></tr><tr><td>BENTO GONCALVES</td><td>SANTA MARTA</td><td>5.94</td><td>1</td><td>Basic</td></tr><tr><td>SALVADOR</td><td>PARIPE</td><td>5.84</td><td>3</td><td>Basic</td></tr><tr><td>BEBEDOURO</td><td>JD. CIRANDA</td><td>5.94</td><td>1</td><td>Basic</td></tr><tr><td>LIMEIRA</td><td>JARDIM GLORIA</td><td>6.39</td><td>1</td><td>Basic</td></tr><tr><td>SANTA BARBARA D'OESTE</td><td>JARDIM SAO FERNANDO</td><td>5.34</td><td>1</td><td>Basic</td></tr><tr><td>ESTEIO</td><td>SAO SEBASTIAO</td><td>5.18</td><td>1</td><td>Basic</td></tr><tr><td>MINEIROS</td><td>BUENA VISTA</td><td>5.68</td><td>2</td><td>Basic</td></tr><tr><td>JUNDIAI</td><td>VILA CANTARUCCI</td><td>5.95</td><td>1</td><td>Basic</td></tr><tr><td>RIO DE JANEIRO</td><td>PAVUNA</td><td>5.35</td><td>2</td><td>Basic</td></tr><tr><td>PIRASSUNUNGA</td><td>VILA NOVA</td><td>6.00</td><td>1</td><td>Basic</td></tr><tr><td>BARRETOS</td><td>JARDIM ESTANCIA</td><td>6.26</td><td>1</td><td>Basic</td></tr><tr><td>TRINDADE</td><td>VILA PADRE ETERNO</td><td>5.94</td><td>1</td><td>Basic</td></tr><tr><td>MANAUS</td><td>FLORES</td><td>6.29</td><td>3</td><td>Basic</td></tr><tr><td>CACOAL</td><td>JARDIM BANDEIRANTES</td><td>6.85</td><td>1</td><td>Basic</td></tr><tr><td>PARACATU</td><td>CENTRO</td><td>6.05</td><td>3</td><td>Basic</td></tr><tr><td>UBERLANDIA</td><td>CUSTODIO PEREIRA</td><td>5.93</td><td>1</td><td>Basic</td></tr><tr><td>SAPUCAIA DO SUL</td><td>SAO JOSE</td><td>5.79</td><td>1</td><td>Basic</td></tr><tr><td>SAO PAULO</td><td>VILA PROGREDIOR</td><td>6.79</td><td>1</td><td>Basic</td></tr><tr><td>CATALAO</td><td>NOSSA SENHORA DE FATIMA</td><td>5.77</td><td>1</td><td>Basic</td></tr><tr><td>RIO DE JANEIRO</td><td>ENGENHO NOVO</td><td>5.94</td><td>2</td><td>Basic</td></tr><tr><td>SAO PAULO</td><td>CIDADE DE PIRITUBA</td><td>5.49</td><td>1</td><td>Basic</td></tr><tr><td>MARACANAU</td><td>PAJUÇARA</td><td>5.22</td><td>1</td><td>Basic</td></tr><tr><td>SAO PAULO</td><td>BELEM</td><td>5.59</td><td>1</td><td>Basic</td></tr><tr><td>DUQUE DE CAXIAS</td><td>JARDIM VINTE E CINCO DE AGOSTO</td><td>4.79</td><td>1</td><td>Basic</td></tr><tr><td>CURITIBA</td><td>CRISTO REI</td><td>6.19</td><td>1</td><td>Basic</td></tr><tr><td>CAMPINA GRANDE</td><td>CENTENARIO</td><td>5.68</td><td>2</td><td>Basic</td></tr><tr><td>BELEM</td><td>BIRIGUI</td><td>5.50</td><td>1</td><td>Basic</td></tr><tr><td>TRES RIOS</td><td>VILA ISABEL</td><td>5.74</td><td>1</td><td>Basic</td></tr><tr><td>ITANHAEM</td><td>BELAS ARTES</td><td>5.99</td><td>1</td><td>Basic</td></tr><tr><td>CAETITE</td><td>CENTRO</td><td>6.26</td><td>4</td><td>Basic</td></tr><tr><td>JALES</td><td>JARDIM ESTADOS UNIDOS</td><td>5.82</td><td>1</td><td>Basic</td></tr><tr><td>ALTA FLORESTA</td><td>SETOR NW1</td><td>6.64</td><td>1</td><td>Basic</td></tr><tr><td>ARARAS</td><td>JARDIM CAMBUI</td><td>5.89</td><td>1</td><td>Basic</td></tr><tr><td>SERRINHA</td><td>NOVO HORIZONTE</td><td>5.56</td><td>1</td><td>Basic</td></tr><tr><td>RONDONOPOLIS</td><td>CENTRO</td><td>6.47</td><td>2</td><td>Basic</td></tr><tr><td>DOURADOS</td><td>PARTE DA FAZENDA CURRAL DE ARAME</td><td>5.60</td><td>1</td><td>Basic</td></tr><tr><td>GUARUJA</td><td>JARDIM LAS PALMAS</td><td>6.49</td><td>1</td><td>Basic</td></tr><tr><td>TABOAO DA SERRA</td><td>JARDIM TRES MARIAS</td><td>4.92</td><td>1</td><td>Basic</td></tr><tr><td>ITAGUAI</td><td>BRISAMAR</td><td>6.09</td><td>1</td><td>Basic</td></tr><tr><td>NITEROI</td><td>CENTRO</td><td>5.64</td><td>4</td><td>Basic</td></tr><tr><td>IJUI</td><td>CHORAO</td><td>5.96</td><td>1</td><td>Basic</td></tr><tr><td>PATOS DE MINAS</td><td>CENTRO</td><td>5.95</td><td>4</td><td>Basic</td></tr><tr><td>ERECHIM</td><td>CENTRO</td><td>6.11</td><td>5</td><td>Basic</td></tr><tr><td>REDENCAO</td><td>ALTO PARANA</td><td>5.94</td><td>1</td><td>Basic</td></tr><tr><td>CAXIAS DO SUL</td><td>SANTA CATARINA</td><td>6.07</td><td>1</td><td>Basic</td></tr><tr><td>ITUIUTABA</td><td>PROGRESSO</td><td>5.70</td><td>2</td><td>Basic</td></tr><tr><td>COSMOPOLIS</td><td>CENTRO</td><td>5.93</td><td>1</td><td>Basic</td></tr><tr><td>BAURU</td><td>VILA SAMARITANA</td><td>5.79</td><td>1</td><td>Basic</td></tr><tr><td>RIO VERDE</td><td>ODILIA</td><td>5.78</td><td>1</td><td>Basic</td></tr><tr><td>VINHEDO</td><td>JARDIM ROSA</td><td>6.29</td><td>1</td><td>Basic</td></tr><tr><td>SAO CAETANO DO SUL</td><td>CENTRO</td><td>6.49</td><td>1</td><td>Basic</td></tr><tr><td>BRUSQUE</td><td>CENTRO II</td><td>6.49</td><td>1</td><td>Basic</td></tr><tr><td>JOAO PESSOA</td><td>BANCARIOS</td><td>5.63</td><td>1</td><td>Basic</td></tr><tr><td>CAMPO GRANDE</td><td>CEL ANTONINO</td><td>5.69</td><td>1</td><td>Basic</td></tr><tr><td>SAO SEBASTIAO DO PARAISO</td><td>JARDIM VITORIA I</td><td>5.79</td><td>1</td><td>Basic</td></tr><tr><td>SAO CARLOS</td><td>JD.CRUZ DO SUL</td><td>5.90</td><td>1</td><td>Basic</td></tr><tr><td>ARARUAMA</td><td>PRAIA DOS COQUEIROS</td><td>6.19</td><td>1</td><td>Basic</td></tr><tr><td>CARAPICUIBA</td><td>JARDIM CECILIA CRISTINA</td><td>5.76</td><td>1</td><td>Basic</td></tr><tr><td>ANGRA DOS REIS</td><td>BELEM TQ. DA JAPUIBA</td><td>6.89</td><td>1</td><td>Basic</td></tr><tr><td>PORTO VELHO</td><td>TIRADENTES</td><td>6.19</td><td>1</td><td>Basic</td></tr><tr><td>TERESOPOLIS</td><td>ERMITAGE</td><td>5.56</td><td>1</td><td>Basic</td></tr><tr><td>MACAPA</td><td>JARDIM FELICIDADE</td><td>6.39</td><td>1</td><td>Basic</td></tr><tr><td>MANACAPURU</td><td>APARECIDA</td><td>6.59</td><td>1</td><td>Basic</td></tr><tr><td>IJUI</td><td>LULU ILGENFRITZ</td><td>5.92</td><td>1</td><td>Basic</td></tr><tr><td>CAUCAIA</td><td>ZONA RURAL</td><td>5.45</td><td>2</td><td>Basic</td></tr><tr><td>NOVA IGUACU</td><td>AUSTIN (NOVA IGUACU)</td><td>5.79</td><td>1</td><td>Basic</td></tr><tr><td>ANAPOLIS</td><td>JARDIM DAS AMÉRICAS</td><td>5.93</td><td>1</td><td>Basic</td></tr><tr><td>LEME</td><td>VILA SANTA MARIA</td><td>6.39</td><td>1</td><td>Basic</td></tr><tr><td>VITORIA</td><td>AEROPORTO</td><td>5.69</td><td>1</td><td>Basic</td></tr><tr><td>PALMAS</td><td>TAQUARALTO</td><td>5.79</td><td>2</td><td>Basic</td></tr><tr><td>TIMOTEO</td><td>CENTRO SUL</td><td>5.59</td><td>1</td><td>Basic</td></tr><tr><td>VILA VELHA</td><td>CRISTOVAO COLOMBO</td><td>5.99</td><td>1</td><td>Basic</td></tr><tr><td>ANAPOLIS</td><td>VILA JAIARA</td><td>5.60</td><td>1</td><td>Basic</td></tr><tr><td>FORTALEZA</td><td>OTAVIO BONFIM</td><td>5.69</td><td>1</td><td>Basic</td></tr><tr><td>MONTES CLAROS</td><td>VILA IPIRANGA</td><td>5.69</td><td>1</td><td>Basic</td></tr><tr><td>VITORIA DE SANTO ANTAO</td><td>ZONA RURAL</td><td>5.45</td><td>1</td><td>Basic</td></tr><tr><td>APUCARANA</td><td>JARDIM TRABALHISTA</td><td>5.88</td><td>1</td><td>Basic</td></tr><tr><td>PELOTAS</td><td>TRÊS VENDAS</td><td>6.54</td><td>1</td><td>Basic</td></tr><tr><td>CAMPINAS</td><td>JARDIM PARAISO</td><td>4.79</td><td>1</td><td>Basic</td></tr><tr><td>SALVADOR</td><td>STIEP</td><td>6.34</td><td>1</td><td>Basic</td></tr><tr><td>VIAMAO</td><td>VILA SANTA ISABEL</td><td>6.09</td><td>1</td><td>Basic</td></tr><tr><td>RIBEIRAO PRETO</td><td>JARDIM CALIFORNIA</td><td>5.87</td><td>2</td><td>Basic</td></tr><tr><td>SALTO</td><td>JARDIM DAS NACOES</td><td>5.92</td><td>1</td><td>Basic</td></tr><tr><td>MOGI DAS CRUZES</td><td>VILA MOGILAR</td><td>5.92</td><td>1</td><td>Basic</td></tr><tr><td>OLIVEIRA</td><td>FRADIQUES</td><td>5.92</td><td>1</td><td>Basic</td></tr><tr><td>REDENCAO</td><td>ADEMAR GUIMARAES</td><td>5.94</td><td>1</td><td>Basic</td></tr><tr><td>FEIRA DE SANTANA</td><td>CAPUCHINHOS</td><td>5.54</td><td>2</td><td>Basic</td></tr><tr><td>TERESOPOLIS</td><td>CENTRO</td><td>5.99</td><td>1</td><td>Basic</td></tr><tr><td>MAFRA</td><td>JARDIM MOINHO</td><td>6.21</td><td>1</td><td>Basic</td></tr><tr><td>VARZEA GRANDE</td><td>CENTRO</td><td>6.07</td><td>1</td><td>Basic</td></tr><tr><td>VITORIA DE SANTO ANTAO</td><td>D. I. (PREFEITO JOSE AUGUSTO FERRER DE MORAIS)</td><td>5.54</td><td>1</td><td>Basic</td></tr><tr><td>SANTA CRUZ DO RIO PARDO</td><td>null</td><td>5.99</td><td>1</td><td>Basic</td></tr><tr><td>FORMIGA</td><td>SAGR COR DE JESUS</td><td>5.79</td><td>1</td><td>Basic</td></tr><tr><td>CAUCAIA</td><td>LOT. PARQUE POTIRA</td><td>5.72</td><td>1</td><td>Basic</td></tr><tr><td>SAO LUIS</td><td>ANGELIM</td><td>5.48</td><td>1</td><td>Basic</td></tr><tr><td>CACHOEIRINHA</td><td>JARDIM BETANIA</td><td>5.62</td><td>1</td><td>Basic</td></tr><tr><td>ITANHAEM</td><td>ESTANCIA BALNEARIO DE ITANHAEM</td><td>6.19</td><td>1</td><td>Basic</td></tr><tr><td>BARRA DO PIRAI</td><td>CENTRO</td><td>6.64</td><td>1</td><td>Basic</td></tr><tr><td>VACARIA</td><td>MONTE CLARO</td><td>5.99</td><td>1</td><td>Basic</td></tr><tr><td>ALFENAS</td><td>RESIDENCIAL OLIVEIRA</td><td>5.79</td><td>1</td><td>Basic</td></tr><tr><td>TERESOPOLIS</td><td>VILA MUQUI</td><td>6.09</td><td>1</td><td>Basic</td></tr><tr><td>PARAISO DO TOCANTINS</td><td>SETOR INTERLAGOS</td><td>5.80</td><td>1</td><td>Basic</td></tr><tr><td>CABO FRIO</td><td>SANTA MARGARIDA</td><td>5.76</td><td>1</td><td>Basic</td></tr><tr><td>PASSOS</td><td>MONSENHOR MESSIAS</td><td>5.76</td><td>1</td><td>Basic</td></tr><tr><td>PORTO ALEGRE</td><td>SNTANA</td><td>6.09</td><td>1</td><td>Basic</td></tr><tr><td>CRUZ ALTA</td><td>SANTA TEREZINHA</td><td>6.06</td><td>1</td><td>Basic</td></tr><tr><td>COTIA</td><td>JARDIM DOS PEREIRAS (CAUCAIA DO ALTO)</td><td>5.84</td><td>1</td><td>Basic</td></tr><tr><td>OLIVEIRA</td><td>DIST. IND. DAVID MATTAR II</td><td>5.62</td><td>1</td><td>Basic</td></tr><tr><td>MONTES CLAROS</td><td>JARDIM PALMEIRAS</td><td>5.66</td><td>1</td><td>Basic</td></tr><tr><td>LIVRAMENTO DE NOSSA SENHORA</td><td>CENTRO</td><td>6.12</td><td>4</td><td>Basic</td></tr><tr><td>RIBEIRAO PRETO</td><td>VILA VIRGINIA</td><td>5.79</td><td>3</td><td>Basic</td></tr><tr><td>CAMETA</td><td>SANTA MARIA</td><td>6.49</td><td>2</td><td>Basic</td></tr><tr><td>MAUA</td><td>JARDIM CAMILA</td><td>6.09</td><td>1</td><td>Basic</td></tr><tr><td>LONDRINA</td><td>CENTRO</td><td>5.55</td><td>2</td><td>Basic</td></tr><tr><td>CACHOEIRO DE ITAPEMIRIM</td><td>PARQUE LARANJEIRAS</td><td>6.19</td><td>1</td><td>Basic</td></tr><tr><td>CACHOEIRINHA</td><td>COSTA DO IPIRANGA</td><td>5.81</td><td>1</td><td>Basic</td></tr><tr><td>UBERABA</td><td>PARQUE HILEA</td><td>5.64</td><td>1</td><td>Basic</td></tr><tr><td>SOUSA</td><td>ESTACAO</td><td>6.19</td><td>1</td><td>Basic</td></tr><tr><td>SAO JOSE DOS PINHAIS</td><td>BONECA DO IGUACU</td><td>5.92</td><td>2</td><td>Basic</td></tr><tr><td>UBA</td><td>SEMINARIO</td><td>5.83</td><td>1</td><td>Basic</td></tr><tr><td>MOGI MIRIM</td><td>JARDIM INOCOOP</td><td>5.37</td><td>1</td><td>Basic</td></tr><tr><td>APUCARANA</td><td>VILA NOVA</td><td>5.98</td><td>2</td><td>Basic</td></tr><tr><td>SAO MATEUS</td><td>GURIRI</td><td>5.89</td><td>1</td><td>Basic</td></tr><tr><td>MATAO</td><td>JARDIM DO BOSQUE</td><td>5.64</td><td>1</td><td>Basic</td></tr><tr><td>TERESOPOLIS</td><td>VALE FELIZ</td><td>5.94</td><td>1</td><td>Basic</td></tr><tr><td>VILHENA</td><td>JARDIM ELDORADO</td><td>5.94</td><td>1</td><td>Basic</td></tr><tr><td>SAO PAULO</td><td>VILA ANDRADE</td><td>6.99</td><td>1</td><td>Basic</td></tr><tr><td>PORTO VELHO</td><td>SOCIALISTA</td><td>6.05</td><td>1</td><td>Basic</td></tr><tr><td>ITAPETININGA</td><td>CHAPADA GRANDE</td><td>5.47</td><td>1</td><td>Basic</td></tr><tr><td>JABOATAO DOS GUARARAPES</td><td>SUCUPIRA</td><td>5.77</td><td>1</td><td>Basic</td></tr><tr><td>BEBEDOURO</td><td>VILA IRMA ANTONIETA FARANI</td><td>5.88</td><td>1</td><td>Basic</td></tr><tr><td>GUARULHOS</td><td>JD MEDITERRANIO</td><td>5.99</td><td>1</td><td>Basic</td></tr><tr><td>ALENQUER</td><td>PLANALTO</td><td>6.99</td><td>4</td><td>Basic</td></tr><tr><td>SUMARE</td><td>CENTRO</td><td>6.24</td><td>1</td><td>Basic</td></tr><tr><td>UBERABA</td><td>SAO BENEDITO</td><td>6.02</td><td>2</td><td>Basic</td></tr><tr><td>URUGUAIANA</td><td>CENTRO</td><td>5.98</td><td>2</td><td>Basic</td></tr><tr><td>TERESINA</td><td>MORROS</td><td>5.88</td><td>1</td><td>Basic</td></tr><tr><td>CUIABA</td><td>COXIPO</td><td>5.72</td><td>1</td><td>Basic</td></tr><tr><td>JUNDIAI</td><td>DISTRITO INDUSTRIAL</td><td>6.29</td><td>1</td><td>Basic</td></tr><tr><td>ITAPIPOCA</td><td>CACIMBAS</td><td>6.59</td><td>1</td><td>Basic</td></tr><tr><td>RIO DE JANEIRO</td><td>SENADOR VASCONCELOS</td><td>5.79</td><td>1</td><td>Basic</td></tr><tr><td>APARECIDA DE GOIANIA</td><td>POLO EMPRESARIAL GOIAS</td><td>5.54</td><td>1</td><td>Basic</td></tr><tr><td>ITANHAEM</td><td>JARDIM SABAUNA</td><td>6.26</td><td>1</td><td>Basic</td></tr><tr><td>CONGONHAS</td><td>CAMPO DAS FLORES</td><td>5.57</td><td>2</td><td>Basic</td></tr><tr><td>UBERLANDIA</td><td>VIGILATO PEREIRA</td><td>5.84</td><td>2</td><td>Basic</td></tr><tr><td>PATOS</td><td>SANTO ANTÔNIO</td><td>5.91</td><td>1</td><td>Basic</td></tr><tr><td>SAO GONCALO</td><td>RIO DO OURO</td><td>6.04</td><td>2</td><td>Basic</td></tr><tr><td>ARIQUEMES</td><td>PARQUE DAS GEMAS</td><td>6.39</td><td>1</td><td>Basic</td></tr><tr><td>CUIABA</td><td>DUQUE DE CAXIAS</td><td>6.21</td><td>1</td><td>Basic</td></tr><tr><td>ITABUNA</td><td>ALTO MIRANTE</td><td>5.83</td><td>1</td><td>Basic</td></tr><tr><td>VALPARAISO DE GOIAS</td><td>PARQUE ESPLANADA II</td><td>5.74</td><td>2</td><td>Basic</td></tr><tr><td>GOVERNADOR VALADARES</td><td>VILA BRETAS</td><td>5.74</td><td>2</td><td>Basic</td></tr><tr><td>SUZANO</td><td>CENTRO</td><td>6.04</td><td>1</td><td>Basic</td></tr><tr><td>CAMPO GRANDE</td><td>SAO JORGE DA LAGOA</td><td>6.09</td><td>1</td><td>Basic</td></tr><tr><td>XANXERE</td><td>NOSSA SENHORA DE LOURDES</td><td>5.84</td><td>1</td><td>Basic</td></tr><tr><td>MOCOCA</td><td>JARDIM LAVINIA</td><td>6.11</td><td>4</td><td>Basic</td></tr><tr><td>BRASILIA</td><td>TAGUATINGA CENTRO (TAGUATINGA)</td><td>5.67</td><td>2</td><td>Basic</td></tr><tr><td>IJUI</td><td>15 DE NOVEMBRO</td><td>6.04</td><td>1</td><td>Basic</td></tr><tr><td>CONTAGEM</td><td>CINCO/PEROBAS</td><td>5.64</td><td>1</td><td>Basic</td></tr><tr><td>SALVADOR</td><td>BONOCO</td><td>5.22</td><td>1</td><td>Basic</td></tr><tr><td>AVARE</td><td>CIDADE</td><td>6.34</td><td>1</td><td>Basic</td></tr><tr><td>BARRETOS</td><td>SAO BENEDITO</td><td>6.19</td><td>1</td><td>Basic</td></tr><tr><td>PAULISTA</td><td>MARANGUAPE II</td><td>5.78</td><td>1</td><td>Basic</td></tr><tr><td>SORRISO</td><td>ROTA DO SOL</td><td>6.64</td><td>1</td><td>Basic</td></tr><tr><td>BENTO GONCALVES</td><td>PROGRESSO</td><td>5.89</td><td>1</td><td>Basic</td></tr><tr><td>SANTA MARIA</td><td>PASSO D'AREIA</td><td>6.28</td><td>1</td><td>Basic</td></tr><tr><td>NOVA IGUACU</td><td>JARDIM ALVORADA</td><td>5.78</td><td>1</td><td>Basic</td></tr><tr><td>BARBACENA</td><td>SANTA TEREZA II</td><td>6.37</td><td>1</td><td>Basic</td></tr><tr><td>SAO PAULO</td><td>VL MOINHO VELHO</td><td>5.19</td><td>1</td><td>Basic</td></tr><tr><td>SAO PAULO</td><td>VILA DALVA</td><td>5.39</td><td>1</td><td>Basic</td></tr><tr><td>ALFENAS</td><td>JARDIM BOA ESPERANÇA</td><td>5.96</td><td>1</td><td>Basic</td></tr><tr><td>COLATINA</td><td>CARLOS GERMANO NAUMANN</td><td>5.84</td><td>3</td><td>Basic</td></tr><tr><td>MURIAE</td><td>BARRA</td><td>5.87</td><td>4</td><td>Basic</td></tr><tr><td>RIO DE JANEIRO</td><td>JACAREPAGUA</td><td>5.61</td><td>9</td><td>Premium</td></tr><tr><td>ERECHIM</td><td>DISTRITO INDUSTRIAL</td><td>6.19</td><td>1</td><td>Basic</td></tr><tr><td>ALTAMIRA</td><td>JARDIM ORIENTE</td><td>6.65</td><td>1</td><td>Basic</td></tr><tr><td>RIO BRANCO</td><td>VILA ACRE</td><td>7.11</td><td>2</td><td>Basic</td></tr><tr><td>JACOBINA</td><td>MALHADINHA</td><td>6.13</td><td>1</td><td>Basic</td></tr><tr><td>TUBARAO</td><td>HUMAITA DE CIMA</td><td>5.64</td><td>1</td><td>Basic</td></tr><tr><td>RESENDE</td><td>FAZENDA DA BARRA</td><td>5.40</td><td>1</td><td>Basic</td></tr><tr><td>MAFRA</td><td>FAXINAL</td><td>5.90</td><td>2</td><td>Basic</td></tr><tr><td>LUZIANIA</td><td>CENTRO</td><td>5.94</td><td>1</td><td>Basic</td></tr><tr><td>CARUARU</td><td>JARDIM EUROPA</td><td>5.77</td><td>1</td><td>Basic</td></tr><tr><td>CAXIAS DO SUL</td><td>CENTRO</td><td>6.04</td><td>2</td><td>Basic</td></tr><tr><td>CONGONHAS</td><td>JOAQUIM MURTINHO</td><td>5.53</td><td>1</td><td>Basic</td></tr><tr><td>GUARATINGUETA</td><td>VILA SAO JOSE</td><td>5.43</td><td>1</td><td>Basic</td></tr><tr><td>TRINDADE</td><td>RESIDENCIAL ARAGUAIA</td><td>5.69</td><td>1</td><td>Basic</td></tr><tr><td>ITUIUTABA</td><td>IPIRANGA</td><td>5.80</td><td>2</td><td>Basic</td></tr><tr><td>TUBARAO</td><td>OFICINAS</td><td>5.74</td><td>1</td><td>Basic</td></tr><tr><td>TRES CORACOES</td><td>DISTRITO INDUSTRIAL</td><td>6.14</td><td>1</td><td>Basic</td></tr><tr><td>JABOATAO DOS GUARARAPES</td><td>MANASSU</td><td>4.80</td><td>2</td><td>Basic</td></tr><tr><td>OLINDA</td><td>UMUARAMA</td><td>5.26</td><td>1</td><td>Basic</td></tr><tr><td>RIBEIRAO PRETO</td><td>CENTRO</td><td>5.60</td><td>2</td><td>Basic</td></tr><tr><td>ITAPEVA</td><td>CENTRO</td><td>5.88</td><td>5</td><td>Basic</td></tr><tr><td>CHAPECO</td><td>SÃO CRISTÓVÃO</td><td>6.19</td><td>1</td><td>Basic</td></tr><tr><td>MOGI DAS CRUZES</td><td>CENTRO</td><td>5.88</td><td>2</td><td>Basic</td></tr><tr><td>VILHENA</td><td>JARDIM AMERICA</td><td>6.59</td><td>1</td><td>Basic</td></tr><tr><td>CAMPO GRANDE</td><td>JD CENTENARIO</td><td>5.75</td><td>1</td><td>Basic</td></tr><tr><td>CURITIBA</td><td>CENTRO CIVICO</td><td>5.99</td><td>1</td><td>Basic</td></tr><tr><td>FRUTAL</td><td>NOSSA SENHORA APARECIDA</td><td>5.89</td><td>1</td><td>Basic</td></tr><tr><td>BELO HORIZONTE</td><td>GLORIA</td><td>5.99</td><td>1</td><td>Basic</td></tr><tr><td>POUSO ALEGRE</td><td>VILA COSTA RIOS</td><td>6.09</td><td>1</td><td>Basic</td></tr><tr><td>BOM DESPACHO</td><td>CENTRO</td><td>5.67</td><td>1</td><td>Basic</td></tr><tr><td>RESENDE</td><td>PARAISO</td><td>5.15</td><td>1</td><td>Basic</td></tr><tr><td>IPATINGA</td><td>CENTRO</td><td>5.62</td><td>1</td><td>Basic</td></tr><tr><td>MOGI MIRIM</td><td>MARIA BEATRIZ</td><td>5.58</td><td>1</td><td>Basic</td></tr><tr><td>CAMACARI</td><td>VILA DE ABRANTES</td><td>5.61</td><td>1</td><td>Basic</td></tr><tr><td>ALENQUER</td><td>ESPERANCA</td><td>6.99</td><td>1</td><td>Basic</td></tr><tr><td>OLINDA</td><td>BAIRRO NOVO</td><td>5.72</td><td>1</td><td>Basic</td></tr><tr><td>SAO PAULO</td><td>VILA PIRAJUSSARA</td><td>7.20</td><td>1</td><td>Basic</td></tr><tr><td>GUARAPARI</td><td>ENSEADA AZUL</td><td>5.99</td><td>1</td><td>Basic</td></tr><tr><td>ITABORAI</td><td>PICO</td><td>5.47</td><td>1</td><td>Basic</td></tr><tr><td>CONGONHAS</td><td>PRAIA</td><td>5.79</td><td>1</td><td>Basic</td></tr><tr><td>SAO PAULO</td><td>VL NOVA CACHOEIRINHA</td><td>5.49</td><td>1</td><td>Basic</td></tr><tr><td>MOCOCA</td><td>null</td><td>6.34</td><td>1</td><td>Basic</td></tr><tr><td>GARANHUNS</td><td>HELIOPOLIS</td><td>5.58</td><td>8</td><td>Premium</td></tr><tr><td>MARABA</td><td>BELO HORIZONTE</td><td>6.20</td><td>1</td><td>Basic</td></tr><tr><td>CARAPICUIBA</td><td>CHAC DAS PAINEIRAS</td><td>5.89</td><td>1</td><td>Basic</td></tr><tr><td>APARECIDA DE GOIANIA</td><td>PARQUE FLORESTA</td><td>5.59</td><td>1</td><td>Basic</td></tr><tr><td>AMERICANA</td><td>CIDADE JARDIM II</td><td>5.59</td><td>1</td><td>Basic</td></tr><tr><td>GUARULHOS</td><td>VILA BONSUCESSO</td><td>5.69</td><td>1</td><td>Basic</td></tr><tr><td>FLORIANOPOLIS</td><td>CAMPECHE</td><td>6.25</td><td>2</td><td>Basic</td></tr><tr><td>PIMENTA BUENO</td><td>ZONA RURAL</td><td>6.63</td><td>1</td><td>Basic</td></tr><tr><td>SAO JOAO DA BOA VISTA</td><td>VILA CONRADO</td><td>5.39</td><td>1</td><td>Basic</td></tr><tr><td>SALVADOR</td><td>SAUDE</td><td>5.92</td><td>1</td><td>Basic</td></tr><tr><td>ITAJAI</td><td>ARRAIAL DOS CUNHAS</td><td>6.04</td><td>1</td><td>Basic</td></tr><tr><td>SORRISO</td><td>RODOVIA</td><td>6.24</td><td>1</td><td>Basic</td></tr><tr><td>CRATEUS</td><td>JOSE ROSA</td><td>5.82</td><td>1</td><td>Basic</td></tr><tr><td>BOTUCATU</td><td>VILA ASSUNCAO</td><td>5.98</td><td>1</td><td>Basic</td></tr><tr><td>MARINGA</td><td>JARDIM HIGIENOPOLIS</td><td>5.89</td><td>1</td><td>Basic</td></tr><tr><td>PORTO NACIONAL</td><td>J. PORTO IMPERIAL</td><td>5.92</td><td>1</td><td>Basic</td></tr><tr><td>SOBRAL</td><td>ALTO DA BRASILIA</td><td>5.99</td><td>1</td><td>Basic</td></tr><tr><td>CAMBE</td><td>JD. SANTO AMARO</td><td>5.92</td><td>1</td><td>Basic</td></tr><tr><td>BARUERI</td><td>ALPHAVILLE</td><td>5.43</td><td>2</td><td>Basic</td></tr><tr><td>SANTANA</td><td>CENTRAL</td><td>6.45</td><td>4</td><td>Basic</td></tr><tr><td>JATAI</td><td>SAMUEL GRAHAN</td><td>6.08</td><td>1</td><td>Basic</td></tr><tr><td>NATAL</td><td>REDINHA</td><td>6.22</td><td>2</td><td>Basic</td></tr><tr><td>FORTALEZA</td><td>CASTELAO</td><td>5.77</td><td>2</td><td>Basic</td></tr><tr><td>TEOFILO OTONI</td><td>JARDIM DAS ACACIAS</td><td>5.94</td><td>1</td><td>Basic</td></tr><tr><td>SANTO ANDRE</td><td>VL GILDA</td><td>6.49</td><td>1</td><td>Basic</td></tr><tr><td>CURITIBA</td><td>SANTA CANDIDA</td><td>5.65</td><td>2</td><td>Basic</td></tr><tr><td>SAO JOSE DO RIO PRETO</td><td>ELDORADO</td><td>5.87</td><td>2</td><td>Basic</td></tr><tr><td>ATIBAIA</td><td>VL ESPERIA</td><td>5.89</td><td>1</td><td>Basic</td></tr><tr><td>ARAPIRACA</td><td>PRIMAVERA</td><td>6.02</td><td>1</td><td>Basic</td></tr><tr><td>REDENCAO</td><td>JARDIM CUMARU</td><td>6.24</td><td>1</td><td>Basic</td></tr><tr><td>ARAGUAINA</td><td>ZONA RURAL</td><td>6.04</td><td>1</td><td>Basic</td></tr><tr><td>MURIAE</td><td>null</td><td>5.89</td><td>1</td><td>Basic</td></tr><tr><td>PORTO NACIONAL</td><td>LOTEAMENTO PORTO IMPERIAL</td><td>5.63</td><td>1</td><td>Basic</td></tr><tr><td>FORTALEZA</td><td>MESSEJANA</td><td>5.46</td><td>3</td><td>Basic</td></tr><tr><td>MARABA</td><td>DIST INDUSTRIAL</td><td>5.79</td><td>1</td><td>Basic</td></tr><tr><td>CURVELO</td><td>VILA DE LOURDES</td><td>5.84</td><td>2</td><td>Basic</td></tr><tr><td>GOIANIA</td><td>JARDIM AMERICA</td><td>5.72</td><td>5</td><td>Basic</td></tr><tr><td>PRESIDENTE DUTRA</td><td>CENTRO</td><td>5.74</td><td>7</td><td>Basic</td></tr><tr><td>BRASILIA</td><td>CEILANDIA</td><td>5.91</td><td>4</td><td>Basic</td></tr><tr><td>UBATUBA</td><td>PEREQUE ASSU</td><td>5.89</td><td>1</td><td>Basic</td></tr><tr><td>SANTA BARBARA D'OESTE</td><td>JARDIM CONCEICAO</td><td>5.89</td><td>1</td><td>Basic</td></tr><tr><td>BARREIRAS</td><td>JARDIM OURO BRANCO</td><td>6.19</td><td>1</td><td>Basic</td></tr><tr><td>ITAJUBA</td><td>BOA VISTA</td><td>6.02</td><td>1</td><td>Basic</td></tr><tr><td>FORTALEZA</td><td>JOAO XXIII</td><td>5.88</td><td>1</td><td>Basic</td></tr><tr><td>CURITIBA</td><td>PORTAO</td><td>5.69</td><td>1</td><td>Basic</td></tr><tr><td>ITAGUAI</td><td>JARDIM AMERICA</td><td>5.15</td><td>1</td><td>Basic</td></tr><tr><td>SETE LAGOAS</td><td>N SRA DAS GRACAS</td><td>5.44</td><td>1</td><td>Basic</td></tr><tr><td>MARICA</td><td>INOÃ</td><td>5.84</td><td>1</td><td>Basic</td></tr><tr><td>SAO CAETANO DO SUL</td><td>BARCELONA</td><td>6.02</td><td>1</td><td>Basic</td></tr><tr><td>RIO DE JANEIRO</td><td>RAMOS</td><td>5.04</td><td>1</td><td>Basic</td></tr><tr><td>ARACATUBA</td><td>JARDIM ALVORADA</td><td>5.46</td><td>1</td><td>Basic</td></tr><tr><td>VALENCA</td><td>BARROSO</td><td>5.90</td><td>1</td><td>Basic</td></tr><tr><td>ATIBAIA</td><td>JARDIM PAULISTA</td><td>6.49</td><td>1</td><td>Basic</td></tr><tr><td>QUIXADA</td><td>ALTO SAO FRANCISCO</td><td>5.79</td><td>1</td><td>Basic</td></tr><tr><td>PARACATU</td><td>NOSSA SENHORA DE FATIMA</td><td>6.14</td><td>1</td><td>Basic</td></tr><tr><td>INDAIATUBA</td><td>REC. CAMP.JOIA</td><td>5.64</td><td>1</td><td>Basic</td></tr><tr><td>POCOES</td><td>PITUBA</td><td>5.62</td><td>3</td><td>Basic</td></tr><tr><td>ARACRUZ</td><td>DE CALI</td><td>5.94</td><td>1</td><td>Basic</td></tr><tr><td>PETROLINA</td><td>JOSE E MARIA</td><td>5.92</td><td>1</td><td>Basic</td></tr><tr><td>BACABAL</td><td>CENTRO</td><td>5.84</td><td>4</td><td>Basic</td></tr><tr><td>JACAREI</td><td>SAO SILVESTRE</td><td>5.57</td><td>1</td><td>Basic</td></tr><tr><td>FRUTAL</td><td>N SRA APARECIDA</td><td>5.64</td><td>1</td><td>Basic</td></tr><tr><td>BLUMENAU</td><td>ITOUPAVAZINHA</td><td>6.30</td><td>2</td><td>Basic</td></tr><tr><td>CONCORDIA</td><td>SAO CRISTOVAO</td><td>6.39</td><td>1</td><td>Basic</td></tr><tr><td>ITATIBA</td><td>NUCLEO RESIDENCIAL DOUTOR LUIZ DE MATTOS PIMENTA</td><td>6.71</td><td>1</td><td>Basic</td></tr><tr><td>ITAPERUNA</td><td>BOA FORTUNA</td><td>5.89</td><td>1</td><td>Basic</td></tr><tr><td>ITABAIANA</td><td>OVIEDO TEIXEIRA</td><td>5.82</td><td>1</td><td>Basic</td></tr><tr><td>VARZEA GRANDE</td><td>CRISTO REI</td><td>5.92</td><td>1</td><td>Basic</td></tr><tr><td>JACAREI</td><td>PARQUE MEIA LUA</td><td>5.44</td><td>1</td><td>Basic</td></tr><tr><td>ITAMARAJU</td><td>JAQUEIRA</td><td>5.83</td><td>1</td><td>Basic</td></tr><tr><td>CIANORTE</td><td>ZONA 06</td><td>5.52</td><td>1</td><td>Basic</td></tr><tr><td>CARAPICUIBA</td><td>PARQUE SANTA TEREZA</td><td>6.09</td><td>1</td><td>Basic</td></tr><tr><td>VOLTA REDONDA</td><td>VOLDAC</td><td>6.31</td><td>1</td><td>Basic</td></tr><tr><td>IPATINGA</td><td>CARIRU</td><td>5.74</td><td>1</td><td>Basic</td></tr><tr><td>CABO DE SANTO AGOSTINHO</td><td>MASSANGANA</td><td>5.86</td><td>1</td><td>Basic</td></tr><tr><td>RIO DE JANEIRO</td><td>SANTA CRUZ</td><td>5.61</td><td>6</td><td>Basic</td></tr><tr><td>CAMPOS DOS GOYTACAZES</td><td>TURF CLUB</td><td>5.55</td><td>2</td><td>Basic</td></tr><tr><td>SAO LUIS</td><td>CIDADE OPERARIA</td><td>5.79</td><td>1</td><td>Basic</td></tr><tr><td>PORTO VELHO</td><td>AREAL</td><td>6.45</td><td>2</td><td>Basic</td></tr><tr><td>COLATINA</td><td>MARIO GIURIZATTO</td><td>6.00</td><td>1</td><td>Basic</td></tr><tr><td>CARIACICA</td><td>VERA CRUZ</td><td>6.05</td><td>1</td><td>Basic</td></tr><tr><td>PIRACICABA</td><td>SAO DIMAS</td><td>6.19</td><td>1</td><td>Basic</td></tr><tr><td>RIBEIRAO PRETO</td><td>VILA TIBERIO</td><td>5.94</td><td>1</td><td>Basic</td></tr><tr><td>FRANCA</td><td>JARDIM VENEZA</td><td>5.79</td><td>1</td><td>Basic</td></tr><tr><td>BELO HORIZONTE</td><td>PARAISO</td><td>5.73</td><td>1</td><td>Basic</td></tr><tr><td>BALSAS</td><td>NAZARE</td><td>6.67</td><td>1</td><td>Basic</td></tr><tr><td>GUARUJA</td><td>PARQUE ENSEADA</td><td>6.47</td><td>1</td><td>Basic</td></tr><tr><td>MONTES CLAROS</td><td>CHACARA RECANTO DOS ARACAS</td><td>5.60</td><td>1</td><td>Basic</td></tr><tr><td>CAMPO MOURAO</td><td>JARDIM CURITIBA</td><td>6.05</td><td>1</td><td>Basic</td></tr><tr><td>TERESINA</td><td>SANTO ANTONIO</td><td>5.78</td><td>1</td><td>Basic</td></tr><tr><td>ITUIUTABA</td><td>LAGOA AZUL I</td><td>5.84</td><td>1</td><td>Basic</td></tr><tr><td>RIO CLARO</td><td>VILA HORTO FLORESTAL</td><td>5.64</td><td>1</td><td>Basic</td></tr><tr><td>GUAIBA</td><td>PARQUE 35</td><td>5.94</td><td>2</td><td>Basic</td></tr><tr><td>CAMPINAS</td><td>NOVA CAMPINAS</td><td>5.99</td><td>1</td><td>Basic</td></tr><tr><td>PARANAVAI</td><td>CENTRO</td><td>5.71</td><td>6</td><td>Basic</td></tr><tr><td>JUIZ DE FORA</td><td>POCO RICO</td><td>5.49</td><td>1</td><td>Basic</td></tr><tr><td>LAJEADO</td><td>MOINHOS</td><td>5.74</td><td>1</td><td>Basic</td></tr><tr><td>JI-PARANA</td><td>NOVA BRASILIA</td><td>7.22</td><td>2</td><td>Basic</td></tr><tr><td>CALDAS NOVAS</td><td>CALDAS DO OESTE</td><td>5.76</td><td>2</td><td>Basic</td></tr><tr><td>PATOS</td><td>ESTRADA</td><td>5.81</td><td>1</td><td>Basic</td></tr><tr><td>MONTES CLAROS</td><td>IBITURUNA</td><td>5.99</td><td>1</td><td>Basic</td></tr><tr><td>CAMPO GRANDE</td><td>COOPHAVILA II</td><td>5.24</td><td>1</td><td>Basic</td></tr><tr><td>ITACOATIARA</td><td>CENTRO</td><td>7.09</td><td>2</td><td>Basic</td></tr><tr><td>BARREIRAS</td><td>VILA DOS SAS</td><td>6.35</td><td>1</td><td>Basic</td></tr><tr><td>CURITIBA</td><td>JUVEVE</td><td>6.59</td><td>1</td><td>Basic</td></tr><tr><td>BARUERI</td><td>VILA SAO SILVESTRE</td><td>6.02</td><td>1</td><td>Basic</td></tr><tr><td>URUGUAIANA</td><td>IPIRANGA</td><td>5.88</td><td>1</td><td>Basic</td></tr><tr><td>GOIANIA</td><td>SETOR SUDOESTE</td><td>5.79</td><td>2</td><td>Basic</td></tr><tr><td>PRAIA GRANDE</td><td>VILA ANTARTICA</td><td>5.99</td><td>1</td><td>Basic</td></tr><tr><td>LAGARTO</td><td>LAUDELINO FREIRE</td><td>5.94</td><td>1</td><td>Basic</td></tr><tr><td>CABEDELO</td><td>INTERMARES</td><td>5.89</td><td>1</td><td>Basic</td></tr><tr><td>BELO HORIZONTE</td><td>DOM SILVERIO</td><td>5.62</td><td>1</td><td>Basic</td></tr><tr><td>CAXIAS DO SUL</td><td>SAO CRISTOVAO</td><td>5.97</td><td>1</td><td>Basic</td></tr><tr><td>TRES CORACOES</td><td>RESIDENCIAL VILLAGE DHARMA</td><td>5.89</td><td>1</td><td>Basic</td></tr><tr><td>VALINHOS</td><td>CAPUAVA</td><td>5.99</td><td>1</td><td>Basic</td></tr><tr><td>SAO JOSE DOS PINHAIS</td><td>CAMPO LARGO DA ROSEIRA</td><td>5.76</td><td>2</td><td>Basic</td></tr><tr><td>IGUATU</td><td>VARJOTA</td><td>5.99</td><td>1</td><td>Basic</td></tr><tr><td>CUIABA</td><td>DISTRITO INDUSTRIAL</td><td>5.74</td><td>1</td><td>Basic</td></tr><tr><td>FORMIGA</td><td>AREIAS BRANCAS</td><td>6.29</td><td>1</td><td>Basic</td></tr><tr><td>CUIABA</td><td>JARDIM MONTE LIBANO</td><td>6.14</td><td>1</td><td>Basic</td></tr><tr><td>LAJEDO</td><td>ZONA RURAL</td><td>5.75</td><td>2</td><td>Basic</td></tr><tr><td>MAGE</td><td>VILA SERRANA (VILA INHOMIRIM)</td><td>5.64</td><td>1</td><td>Basic</td></tr><tr><td>TORRES</td><td>IGRA</td><td>5.84</td><td>1</td><td>Basic</td></tr><tr><td>CALDAS NOVAS</td><td>JARDIM HANASHIRO</td><td>5.92</td><td>1</td><td>Basic</td></tr><tr><td>CAXIAS DO SUL</td><td>FORQUETA</td><td>6.04</td><td>1</td><td>Basic</td></tr><tr><td>PETROLINA</td><td>GERCINO COELHO</td><td>6.03</td><td>2</td><td>Basic</td></tr><tr><td>SAO PAULO</td><td>PERUS</td><td>6.39</td><td>2</td><td>Basic</td></tr><tr><td>GOIANIA</td><td>SETOR OESTE</td><td>5.97</td><td>2</td><td>Basic</td></tr><tr><td>RIO VERDE</td><td>SETOR CENTRAL</td><td>5.69</td><td>1</td><td>Basic</td></tr><tr><td>BAURU</td><td>JARDIM TERRA BRANCA</td><td>6.09</td><td>1</td><td>Basic</td></tr><tr><td>FORTALEZA</td><td>CIDADE DOS FUNCIONARIOS</td><td>5.44</td><td>1</td><td>Basic</td></tr><tr><td>PORTO ALEGRE</td><td>PASSO DA AREIA</td><td>5.89</td><td>1</td><td>Basic</td></tr><tr><td>MOGI GUACU</td><td>CHACARA NOVA ODESSA</td><td>5.64</td><td>1</td><td>Basic</td></tr><tr><td>FLORIANOPOLIS</td><td>RIO TAVARES</td><td>6.09</td><td>1</td><td>Basic</td></tr><tr><td>CRUZEIRO DO SUL</td><td>BOCA DA ALEMANHA</td><td>7.66</td><td>1</td><td>Basic</td></tr><tr><td>PARACATU</td><td>VILA MARIANA</td><td>6.10</td><td>1</td><td>Basic</td></tr><tr><td>CAMACARI</td><td>CAMACARI DE DENTRO</td><td>6.04</td><td>1</td><td>Basic</td></tr><tr><td>GARCA</td><td>VILA GUANABARA</td><td>6.04</td><td>1</td><td>Basic</td></tr><tr><td>CAMPOS DOS GOYTACAZES</td><td>TURF CLUBE</td><td>5.67</td><td>1</td><td>Basic</td></tr><tr><td>QUIXADA</td><td>JARDIM DOS MONOLITOS</td><td>5.95</td><td>1</td><td>Basic</td></tr><tr><td>MINEIROS</td><td>RESIDENCIAL MICHELANGELO</td><td>5.69</td><td>1</td><td>Basic</td></tr><tr><td>PICOS</td><td>JUNCO</td><td>5.91</td><td>4</td><td>Basic</td></tr><tr><td>IGARASSU</td><td>CENTRO</td><td>5.16</td><td>2</td><td>Basic</td></tr><tr><td>VARGINHA</td><td>VILA IPIRANGA</td><td>5.68</td><td>1</td><td>Basic</td></tr><tr><td>RIBEIRAO PRETO</td><td>RECREIO ANHANGUERA</td><td>5.62</td><td>1</td><td>Basic</td></tr><tr><td>CHAPECO</td><td>SAO CRISTOVAO</td><td>6.04</td><td>2</td><td>Basic</td></tr><tr><td>OSASCO</td><td>VILA MENK</td><td>6.49</td><td>1</td><td>Basic</td></tr><tr><td>SAO PAULO</td><td>PQ BRISTOL</td><td>5.62</td><td>1</td><td>Basic</td></tr><tr><td>GRAVATAI</td><td>PASSO DA CAVEIRA</td><td>6.09</td><td>1</td><td>Basic</td></tr><tr><td>BARREIRAS</td><td>SAO PEDRO</td><td>5.71</td><td>1</td><td>Basic</td></tr><tr><td>VALINHOS</td><td>VILA PAGANO</td><td>4.46</td><td>1</td><td>Basic</td></tr><tr><td>CASCAVEL</td><td>CANADA</td><td>5.80</td><td>1</td><td>Basic</td></tr><tr><td>CRUZEIRO</td><td>VILA REGINA CELIA</td><td>5.80</td><td>1</td><td>Basic</td></tr><tr><td>UBATUBA</td><td>PEREQUE-ACU</td><td>6.39</td><td>1</td><td>Basic</td></tr><tr><td>MONTES CLAROS</td><td>ACACIAS</td><td>5.64</td><td>1</td><td>Basic</td></tr><tr><td>SAO PAULO</td><td>JD PIRITUBA</td><td>5.96</td><td>1</td><td>Basic</td></tr><tr><td>OSORIO</td><td>SUL BRASILEIRO</td><td>6.04</td><td>1</td><td>Basic</td></tr><tr><td>EMBU DAS ARTES</td><td>PARQUE LUIZA</td><td>5.49</td><td>1</td><td>Basic</td></tr><tr><td>GOVERNADOR VALADARES</td><td>ALTINOPOLIS</td><td>5.75</td><td>3</td><td>Basic</td></tr><tr><td>SANTO ANTONIO DE JESUS</td><td>ERNESTO MELO</td><td>5.92</td><td>3</td><td>Basic</td></tr><tr><td>LINHARES</td><td>PALMITAL</td><td>5.99</td><td>1</td><td>Basic</td></tr><tr><td>RIO DE JANEIRO</td><td>RECREIO DOS BANDEIRANTES</td><td>5.29</td><td>1</td><td>Basic</td></tr><tr><td>NOVA LIMA</td><td>VALE DO SERENO</td><td>5.99</td><td>1</td><td>Basic</td></tr><tr><td>JANAUBA</td><td>CENTRO</td><td>6.55</td><td>2</td><td>Basic</td></tr><tr><td>GUARATINGUETA</td><td>PARQUE  DAS ARVORES</td><td>6.24</td><td>1</td><td>Basic</td></tr><tr><td>OURINHOS</td><td>ZONA RURAL</td><td>6.05</td><td>1</td><td>Basic</td></tr><tr><td>MARINGA</td><td>ZONA 28</td><td>6.19</td><td>1</td><td>Basic</td></tr><tr><td>SAO PAULO</td><td>AGUA FRIA</td><td>6.87</td><td>2</td><td>Basic</td></tr><tr><td>FORTALEZA</td><td>PARQUE SANTO ANTONIO</td><td>5.50</td><td>1</td><td>Basic</td></tr><tr><td>CURITIBA</td><td>FAZENDINHA</td><td>5.29</td><td>1</td><td>Basic</td></tr><tr><td>ITAPIPOCA</td><td>DAS FLORES</td><td>6.58</td><td>1</td><td>Basic</td></tr><tr><td>LINHARES</td><td>COLINA</td><td>5.15</td><td>1</td><td>Basic</td></tr><tr><td>PORTO ALEGRE</td><td>CAVALHADA</td><td>5.69</td><td>1</td><td>Basic</td></tr><tr><td>CAICO</td><td>PARAIBA</td><td>6.74</td><td>1</td><td>Basic</td></tr><tr><td>CONCEICAO DO ARAGUAIA</td><td>VILA NOVA</td><td>6.05</td><td>2</td><td>Basic</td></tr><tr><td>BOM DESPACHO</td><td>PERIMETRO URBANO</td><td>5.64</td><td>1</td><td>Basic</td></tr><tr><td>MANAUS</td><td>SANTO AGOSTINHO</td><td>5.16</td><td>2</td><td>Basic</td></tr><tr><td>INDAIATUBA</td><td>SANTA CRUZ</td><td>6.09</td><td>1</td><td>Basic</td></tr><tr><td>SOBRAL</td><td>JUNCO</td><td>6.06</td><td>2</td><td>Basic</td></tr><tr><td>SAO PAULO</td><td>JD.NOVE DE JULHO</td><td>5.79</td><td>1</td><td>Basic</td></tr><tr><td>PORTO VELHO</td><td>OLARIA</td><td>6.29</td><td>1</td><td>Basic</td></tr><tr><td>VALINHOS</td><td>LOT. SANTA MARINA</td><td>6.04</td><td>1</td><td>Basic</td></tr><tr><td>SAO JOSE DOS PINHAIS</td><td>ARISTOCRATA</td><td>5.89</td><td>1</td><td>Basic</td></tr><tr><td>BAURU</td><td>JD.SANTANA</td><td>6.04</td><td>1</td><td>Basic</td></tr><tr><td>IPATINGA</td><td>IGUACU</td><td>5.68</td><td>2</td><td>Basic</td></tr><tr><td>CAMPO GRANDE</td><td>SANTO AMARO</td><td>5.70</td><td>1</td><td>Basic</td></tr><tr><td>SAO PAULO</td><td>JARDIM ANGELA</td><td>5.79</td><td>1</td><td>Basic</td></tr><tr><td>PORTO VELHO</td><td>LIBERDADE</td><td>6.39</td><td>1</td><td>Basic</td></tr><tr><td>CUIABA</td><td>CENTRO SUL</td><td>5.67</td><td>1</td><td>Basic</td></tr><tr><td>OURINHOS</td><td>VL. ODILON</td><td>5.39</td><td>1</td><td>Basic</td></tr><tr><td>ANAPOLIS</td><td>J K NOVA CAPITAL</td><td>5.74</td><td>1</td><td>Basic</td></tr><tr><td>LIVRAMENTO DE NOSSA SENHORA</td><td>PIÇARRAO</td><td>5.94</td><td>1</td><td>Basic</td></tr><tr><td>LONDRINA</td><td>JARDIM IPANEMA</td><td>5.76</td><td>1</td><td>Basic</td></tr><tr><td>SERRA</td><td>PLANALTO DE CARAPINA</td><td>5.89</td><td>1</td><td>Basic</td></tr><tr><td>CUIABA</td><td>CPA I</td><td>6.14</td><td>1</td><td>Basic</td></tr><tr><td>PAULO AFONSO</td><td>VILA POTY</td><td>6.04</td><td>2</td><td>Basic</td></tr><tr><td>CAMACARI</td><td>CENTRO</td><td>5.91</td><td>4</td><td>Basic</td></tr><tr><td>GUARULHOS</td><td>GUARULHOS</td><td>6.39</td><td>2</td><td>Basic</td></tr><tr><td>NATAL</td><td>NOSSA SENHORA DE NAZARE</td><td>5.95</td><td>1</td><td>Basic</td></tr><tr><td>AMERICANA</td><td>FREZARIM</td><td>6.39</td><td>1</td><td>Basic</td></tr><tr><td>JOINVILLE</td><td>VILA NOVA</td><td>6.04</td><td>2</td><td>Basic</td></tr><tr><td>VINHEDO</td><td>SANTA LEONIDIA</td><td>6.34</td><td>1</td><td>Basic</td></tr><tr><td>PETROPOLIS</td><td>CENTRO</td><td>5.51</td><td>5</td><td>Basic</td></tr><tr><td>DIVINOPOLIS</td><td>SÃO JOSÉ</td><td>5.67</td><td>1</td><td>Basic</td></tr><tr><td>CACHOEIRO DE ITAPEMIRIM</td><td>SANTO ANTONIO</td><td>5.89</td><td>1</td><td>Basic</td></tr><tr><td>SAO JOSE DE RIBAMAR</td><td>LOTEAMENTO JARDIM DAS PRINCESAS</td><td>5.59</td><td>1</td><td>Basic</td></tr><tr><td>SAO CARLOS</td><td>VILA COSTA DO SOL</td><td>5.94</td><td>1</td><td>Basic</td></tr><tr><td>CONSELHEIRO LAFAIETE</td><td>SANTA MATILDE</td><td>5.87</td><td>1</td><td>Basic</td></tr><tr><td>NOVA FRIBURGO</td><td>PRADO</td><td>5.99</td><td>1</td><td>Basic</td></tr><tr><td>PIRACICABA</td><td>JARDIM CALIFORNIA</td><td>5.40</td><td>1</td><td>Basic</td></tr><tr><td>CONCEICAO DO ARAGUAIA</td><td>SAO LUIZ II</td><td>6.00</td><td>1</td><td>Basic</td></tr><tr><td>ARAPIRACA</td><td>ALTO DO CRUZEIRO</td><td>5.99</td><td>1</td><td>Basic</td></tr><tr><td>SAO PAULO</td><td>PARADA INGLESA</td><td>5.69</td><td>1</td><td>Basic</td></tr><tr><td>LINHARES</td><td>N SRA DA CONCEICAO</td><td>5.94</td><td>1</td><td>Basic</td></tr><tr><td>JACOBINA</td><td>PERU</td><td>6.19</td><td>1</td><td>Basic</td></tr><tr><td>JUNDIAI</td><td>JARDIM DO TREVO</td><td>6.09</td><td>1</td><td>Basic</td></tr><tr><td>BENTO GONCALVES</td><td>SANTA RITA</td><td>5.81</td><td>1</td><td>Basic</td></tr><tr><td>PARINTINS</td><td>ITAUNA I</td><td>6.89</td><td>1</td><td>Basic</td></tr><tr><td>LAVRAS</td><td>JARDIM FABIANA</td><td>5.79</td><td>1</td><td>Basic</td></tr><tr><td>SERRA TALHADA</td><td>NOSSA SENHORA DA PENHA</td><td>5.97</td><td>3</td><td>Basic</td></tr><tr><td>CAXIAS DO SUL</td><td>PIO X</td><td>6.02</td><td>1</td><td>Basic</td></tr><tr><td>RECIFE</td><td>AFOGADOS</td><td>5.41</td><td>4</td><td>Basic</td></tr><tr><td>CUIABA</td><td>TIJUCAL</td><td>5.99</td><td>1</td><td>Basic</td></tr><tr><td>CASCAVEL</td><td>BRASILIA</td><td>5.99</td><td>1</td><td>Basic</td></tr><tr><td>MACAE</td><td>JARDIM SOL Y MAR</td><td>6.70</td><td>1</td><td>Basic</td></tr><tr><td>ARIQUEMES</td><td>SETOR DE CHACARAS</td><td>6.55</td><td>1</td><td>Basic</td></tr><tr><td>GOIANIA</td><td>SET SUDOESTE</td><td>5.69</td><td>1</td><td>Basic</td></tr><tr><td>PATROCINIO</td><td>DISTRITO INDUSTRIAL</td><td>6.13</td><td>1</td><td>Basic</td></tr><tr><td>TAUBATE</td><td>VILA PROGRESSO</td><td>5.19</td><td>1</td><td>Basic</td></tr><tr><td>SAQUAREMA</td><td>BICUIBA</td><td>6.08</td><td>1</td><td>Basic</td></tr><tr><td>NOVA FRIBURGO</td><td>RIOGRANDINA</td><td>5.68</td><td>1</td><td>Basic</td></tr><tr><td>VITORIA DA CONQUISTA</td><td>JARDIM GUANABARA</td><td>5.69</td><td>1</td><td>Basic</td></tr><tr><td>RIBEIRAO PRETO</td><td>PQ. RIBEIRAO PRETO</td><td>5.59</td><td>1</td><td>Basic</td></tr><tr><td>PORTO VELHO</td><td>SETOR INDUSTRIAL</td><td>6.39</td><td>1</td><td>Basic</td></tr><tr><td>PARANAGUA</td><td>JARDIM SAMAMBAIA</td><td>6.02</td><td>2</td><td>Basic</td></tr><tr><td>SAO LUIS</td><td>SANTO ANTONIO</td><td>5.39</td><td>1</td><td>Basic</td></tr><tr><td>RIO VERDE</td><td>JARDIM PRESIDENTE</td><td>5.85</td><td>2</td><td>Basic</td></tr><tr><td>MACAE</td><td>LAGOMAR</td><td>6.23</td><td>1</td><td>Basic</td></tr><tr><td>PARAGUACU PAULISTA</td><td>CENTRO</td><td>5.93</td><td>3</td><td>Basic</td></tr><tr><td>SAO LUIS</td><td>MARACANA</td><td>5.58</td><td>1</td><td>Basic</td></tr><tr><td>LAGES</td><td>SAO CRISTOVAO</td><td>5.70</td><td>1</td><td>Basic</td></tr><tr><td>SAO PAULO</td><td>PIRAJUSSARA</td><td>5.79</td><td>1</td><td>Basic</td></tr><tr><td>PORTO ALEGRE</td><td>SARANDI</td><td>5.59</td><td>3</td><td>Basic</td></tr><tr><td>CRUZEIRO DO SUL</td><td>AEROPORTO VELHO</td><td>7.55</td><td>2</td><td>Basic</td></tr><tr><td>SANTAREM</td><td>DIAMANTINO</td><td>6.49</td><td>1</td><td>Basic</td></tr><tr><td>SAO PAULO</td><td>PARADA DE TAIPAS</td><td>5.49</td><td>1</td><td>Basic</td></tr><tr><td>MAUA</td><td>CENTRO</td><td>5.58</td><td>3</td><td>Basic</td></tr><tr><td>EUNAPOLIS</td><td>VIVENDAS COSTA AZUL</td><td>6.09</td><td>1</td><td>Basic</td></tr><tr><td>CAXIAS DO SUL</td><td>LUIZ MICHELON</td><td>5.88</td><td>1</td><td>Basic</td></tr><tr><td>RIO DE JANEIRO</td><td>MADUREIRA</td><td>5.79</td><td>1</td><td>Basic</td></tr><tr><td>RIO BONITO</td><td>PRIMEIRO</td><td>5.53</td><td>1</td><td>Basic</td></tr><tr><td>CAUCAIA</td><td>SAO PEDRO</td><td>5.39</td><td>1</td><td>Basic</td></tr><tr><td>CABO DE SANTO AGOSTINHO</td><td>SANTO INACIO</td><td>5.71</td><td>1</td><td>Basic</td></tr><tr><td>PONTA GROSSA</td><td>NOVA RUSSIA</td><td>5.76</td><td>2</td><td>Basic</td></tr><tr><td>CAICO</td><td>BOA PASSAGEM</td><td>6.69</td><td>1</td><td>Basic</td></tr><tr><td>SAO CAETANO DO SUL</td><td>OSWALDO CRUZ</td><td>6.79</td><td>1</td><td>Basic</td></tr><tr><td>SAO PAULO</td><td>JARDIM SANTA FE</td><td>6.09</td><td>2</td><td>Basic</td></tr><tr><td>SAO PAULO</td><td>NOSSA SRA DO O</td><td>5.26</td><td>1</td><td>Basic</td></tr><tr><td>CRICIUMA</td><td>DOS IMIGRANTES</td><td>5.94</td><td>1</td><td>Basic</td></tr><tr><td>OSASCO</td><td>PARQUE CACHOERINHA</td><td>6.19</td><td>1</td><td>Basic</td></tr><tr><td>EMBU DAS ARTES</td><td>TINGIDOR</td><td>6.14</td><td>1</td><td>Basic</td></tr><tr><td>CAMPO GRANDE</td><td>VILA CIDADE</td><td>5.97</td><td>3</td><td>Basic</td></tr><tr><td>CATANDUVA</td><td>PARQUE IRACEMA</td><td>5.97</td><td>1</td><td>Basic</td></tr><tr><td>TERESOPOLIS</td><td>SAO PEDRO</td><td>5.79</td><td>1</td><td>Basic</td></tr><tr><td>FORTALEZA</td><td>DEMOCRITO ROCHA</td><td>5.66</td><td>1</td><td>Basic</td></tr><tr><td>HORTOLANDIA</td><td>VILA REAL</td><td>4.44</td><td>1</td><td>Basic</td></tr><tr><td>APARECIDA DE GOIANIA</td><td>VILA ROSA</td><td>5.89</td><td>1</td><td>Basic</td></tr><tr><td>BOA VISTA</td><td>MECEJANA</td><td>6.47</td><td>2</td><td>Basic</td></tr><tr><td>SAO LUIS</td><td>OLHO DAGUA</td><td>5.59</td><td>1</td><td>Basic</td></tr><tr><td>MANACAPURU</td><td>TERRA PRETA</td><td>6.28</td><td>1</td><td>Basic</td></tr><tr><td>VARZEA PAULISTA</td><td>VIAL STA TEREZINHA</td><td>5.94</td><td>1</td><td>Basic</td></tr><tr><td>GOIANA</td><td>TEJUCUPAPO</td><td>5.90</td><td>1</td><td>Basic</td></tr><tr><td>FOZ DO IGUACU</td><td>MARACANA</td><td>6.09</td><td>1</td><td>Basic</td></tr><tr><td>CACHOEIRA DO SUL</td><td>NOSSA SENHORA DE FATIMA</td><td>5.83</td><td>1</td><td>Basic</td></tr><tr><td>LAJEADO</td><td>SAO CRISTOVAO</td><td>5.75</td><td>2</td><td>Basic</td></tr><tr><td>BIGUACU</td><td>CENTRO</td><td>5.97</td><td>1</td><td>Basic</td></tr><tr><td>RIO DE JANEIRO</td><td>ANCHIETA</td><td>5.34</td><td>1</td><td>Basic</td></tr><tr><td>PALMAS</td><td>PLANO DIRETOR NORTE</td><td>5.64</td><td>1</td><td>Basic</td></tr><tr><td>MATAO</td><td>NOVA MATAO</td><td>6.49</td><td>1</td><td>Basic</td></tr><tr><td>MANACAPURU</td><td>SAO JOSE</td><td>6.49</td><td>2</td><td>Basic</td></tr><tr><td>LINS</td><td>ZONA RURAL</td><td>5.81</td><td>1</td><td>Basic</td></tr><tr><td>SANTA CRUZ DO RIO PARDO</td><td>ESTACAO</td><td>5.56</td><td>1</td><td>Basic</td></tr><tr><td>PIMENTA BUENO</td><td>DOS PIONEIROS</td><td>6.09</td><td>1</td><td>Basic</td></tr><tr><td>LONDRINA</td><td>JARDIM AEROPORTO</td><td>5.69</td><td>1</td><td>Basic</td></tr><tr><td>SOBRAL</td><td>CORACAO DE JESUS</td><td>6.12</td><td>1</td><td>Basic</td></tr><tr><td>FORTALEZA</td><td>JARDIM IRACEMA</td><td>5.99</td><td>1</td><td>Basic</td></tr><tr><td>JAGUAQUARA</td><td>CEARA</td><td>6.02</td><td>1</td><td>Basic</td></tr><tr><td>PARNAIBA</td><td>SAO FRANCISCO DA GUARITA</td><td>6.19</td><td>1</td><td>Basic</td></tr><tr><td>MONTES CLAROS</td><td>AUGUSTA MOTA</td><td>5.89</td><td>1</td><td>Basic</td></tr><tr><td>SAO JOSE DOS CAMPOS</td><td>JARDIM SATÉLITE</td><td>5.14</td><td>1</td><td>Basic</td></tr><tr><td>ITUMBIARA</td><td>SETOR OESTE</td><td>5.79</td><td>1</td><td>Basic</td></tr><tr><td>MARACANAU</td><td>CONJ  JEREISSATI I</td><td>5.45</td><td>1</td><td>Basic</td></tr><tr><td>FRUTAL</td><td>NOSSA SENHORA DO CARMO</td><td>5.73</td><td>1</td><td>Basic</td></tr><tr><td>CAMPINA GRANDE</td><td>CATOLE</td><td>5.81</td><td>2</td><td>Basic</td></tr><tr><td>SAO GONCALO</td><td>MUTONDO</td><td>5.15</td><td>2</td><td>Basic</td></tr><tr><td>CUIABA</td><td>PARQUE OHARA</td><td>6.34</td><td>2</td><td>Basic</td></tr><tr><td>SAO PAULO</td><td>BRASILANDIA</td><td>5.29</td><td>1</td><td>Basic</td></tr><tr><td>SETE LAGOAS</td><td>BOA VISTA</td><td>5.64</td><td>1</td><td>Basic</td></tr><tr><td>PASSOS</td><td>JARDIM CONTINENTAL</td><td>5.90</td><td>1</td><td>Basic</td></tr><tr><td>CAMPINAS</td><td>NOVO CAMPO ELISEOS</td><td>5.59</td><td>1</td><td>Basic</td></tr><tr><td>GUARUJA</td><td>JARDIM MAR E CEU</td><td>5.65</td><td>1</td><td>Basic</td></tr><tr><td>OSASCO</td><td>JARDIM DAS FLORES</td><td>5.99</td><td>1</td><td>Basic</td></tr><tr><td>EMBU DAS ARTES</td><td>JV ALEGRE</td><td>5.84</td><td>1</td><td>Basic</td></tr><tr><td>PARACATU</td><td>AMOREIRAS I</td><td>6.14</td><td>1</td><td>Basic</td></tr><tr><td>JATAI</td><td>SETOR PLANALTO</td><td>5.85</td><td>1</td><td>Basic</td></tr><tr><td>RONDONOPOLIS</td><td>VILA GOULART</td><td>6.54</td><td>1</td><td>Basic</td></tr><tr><td>EUNAPOLIS</td><td>CENTRO</td><td>6.49</td><td>1</td><td>Basic</td></tr><tr><td>PIRACICABA</td><td>PIRACICAMIRIM</td><td>5.87</td><td>2</td><td>Basic</td></tr><tr><td>CATALAO</td><td>LOTEAMENTO LEAO</td><td>5.89</td><td>1</td><td>Basic</td></tr><tr><td>PARAISO DO TOCANTINS</td><td>ST. MILENA</td><td>5.66</td><td>1</td><td>Basic</td></tr><tr><td>VITORIA</td><td>FRADINHOS</td><td>5.89</td><td>1</td><td>Basic</td></tr><tr><td>RIO BRANCO</td><td>AREAL</td><td>7.10</td><td>1</td><td>Basic</td></tr><tr><td>JALES</td><td>JARDIM ACLIMACAO</td><td>5.76</td><td>1</td><td>Basic</td></tr><tr><td>JUNDIAI</td><td>CAXAMBU</td><td>5.97</td><td>1</td><td>Basic</td></tr><tr><td>BARRA DO CORDA</td><td>CENTRO</td><td>5.91</td><td>2</td><td>Basic</td></tr><tr><td>NOVA LIMA</td><td>VALE DO SOL</td><td>5.99</td><td>1</td><td>Basic</td></tr><tr><td>MOGI DAS CRUZES</td><td>VILA SUISSA</td><td>6.89</td><td>1</td><td>Basic</td></tr><tr><td>RECIFE</td><td>PINA</td><td>4.63</td><td>1</td><td>Basic</td></tr><tr><td>RIBEIRAO PRETO</td><td>VILA VIRGÍNIA</td><td>5.29</td><td>1</td><td>Basic</td></tr><tr><td>TATUI</td><td>GUARDINHA</td><td>6.17</td><td>2</td><td>Basic</td></tr><tr><td>SAO GABRIEL</td><td>CENTRO</td><td>6.17</td><td>5</td><td>Basic</td></tr><tr><td>UBERABA</td><td>ONEIDA MENDES</td><td>5.77</td><td>1</td><td>Basic</td></tr><tr><td>ITAITUBA</td><td>CENTRO</td><td>5.79</td><td>2</td><td>Basic</td></tr><tr><td>PORTO VELHO</td><td>NOVA FLORESTA</td><td>6.67</td><td>1</td><td>Basic</td></tr><tr><td>ITAJAI</td><td>CORDEIROS</td><td>5.55</td><td>2</td><td>Basic</td></tr><tr><td>NATAL</td><td>CANDELARIA</td><td>5.82</td><td>3</td><td>Basic</td></tr><tr><td>JATAI</td><td>EPAMINONDAS</td><td>5.88</td><td>1</td><td>Basic</td></tr><tr><td>LONDRINA</td><td>PARQUE DAS INDUSTRIA</td><td>5.94</td><td>1</td><td>Basic</td></tr><tr><td>LIMOEIRO DO NORTE</td><td>BOA FE</td><td>6.18</td><td>2</td><td>Basic</td></tr><tr><td>DIADEMA</td><td>VILA CONCEICAO</td><td>5.49</td><td>1</td><td>Basic</td></tr><tr><td>TEOFILO OTONI</td><td>SAO CRISTOVAO</td><td>5.79</td><td>3</td><td>Basic</td></tr><tr><td>SAO PAULO</td><td>VILA MANCHESTER</td><td>5.31</td><td>1</td><td>Basic</td></tr><tr><td>GUARAPARI</td><td>NOVA GUARAPARI</td><td>6.19</td><td>1</td><td>Basic</td></tr><tr><td>RIBEIRAO PRETO</td><td>RESIDENCIAL FLORIDA</td><td>5.94</td><td>1</td><td>Basic</td></tr><tr><td>LAURO DE FREITAS</td><td>VILAS DO  ATLANTICO</td><td>5.93</td><td>1</td><td>Basic</td></tr><tr><td>ASSIS</td><td>VILA SOUZA</td><td>5.59</td><td>1</td><td>Basic</td></tr><tr><td>TERESINA</td><td>PARQUE PIAUI</td><td>5.84</td><td>3</td><td>Basic</td></tr><tr><td>IGARASSU</td><td>CRUZ DO REBOUCAS</td><td>5.74</td><td>1</td><td>Basic</td></tr><tr><td>SAO JOAO DE MERITI</td><td>JARDIM MERITI</td><td>6.29</td><td>1</td><td>Basic</td></tr><tr><td>JALES</td><td>VILA NOSSA SENHORA APARECIDA</td><td>5.77</td><td>1</td><td>Basic</td></tr><tr><td>CACADOR</td><td>MARTELLO</td><td>5.95</td><td>2</td><td>Basic</td></tr><tr><td>BAYEUX</td><td>MANGUINHOS</td><td>5.74</td><td>1</td><td>Basic</td></tr><tr><td>LIMEIRA</td><td>JD. NOVO HORIZONTE</td><td>5.79</td><td>1</td><td>Basic</td></tr><tr><td>CANINDE</td><td>CENTRO</td><td>6.08</td><td>4</td><td>Basic</td></tr><tr><td>ITU</td><td>VILA LUCINDA</td><td>5.45</td><td>1</td><td>Basic</td></tr><tr><td>BALSAS</td><td>CENTRO</td><td>6.09</td><td>4</td><td>Basic</td></tr><tr><td>OLINDA</td><td>SANTA TEREZA</td><td>5.44</td><td>2</td><td>Basic</td></tr><tr><td>CRATO</td><td>SAO MIGUEL</td><td>5.96</td><td>5</td><td>Basic</td></tr><tr><td>ARAGUARI</td><td>JARDIM REGINA</td><td>5.52</td><td>1</td><td>Basic</td></tr><tr><td>CACAPAVA</td><td>VILA ANTONIO A. LUIZ</td><td>5.24</td><td>1</td><td>Basic</td></tr><tr><td>TATUI</td><td>JARDIM LUCILA</td><td>6.61</td><td>1</td><td>Basic</td></tr><tr><td>GUARAPARI</td><td>VARZEA NOVA</td><td>5.79</td><td>1</td><td>Basic</td></tr><tr><td>MORRINHOS</td><td>ZONA RURAL</td><td>5.74</td><td>1</td><td>Basic</td></tr><tr><td>FRANCISCO BELTRAO</td><td>LUTHER KING</td><td>6.08</td><td>1</td><td>Basic</td></tr><tr><td>SAO BERNARDO DO CAMPO</td><td>VILA TEREZA</td><td>6.19</td><td>1</td><td>Basic</td></tr><tr><td>APUCARANA</td><td>JD APUCARANA</td><td>5.99</td><td>1</td><td>Basic</td></tr><tr><td>SANTO ANTONIO DE PADUA</td><td>CENTRO</td><td>5.94</td><td>1</td><td>Basic</td></tr><tr><td>SANTO ANTONIO DA PLATINA</td><td>VILA CLARO</td><td>5.68</td><td>1</td><td>Basic</td></tr><tr><td>MARINGA</td><td>ZONA 7</td><td>5.89</td><td>1</td><td>Basic</td></tr><tr><td>VOLTA REDONDA</td><td>RETIRO</td><td>5.89</td><td>4</td><td>Basic</td></tr><tr><td>PINHAIS</td><td>MARIA ANTONIETA</td><td>5.36</td><td>1</td><td>Basic</td></tr><tr><td>CRUZEIRO DO SUL</td><td>25 DE AGOSTO</td><td>7.66</td><td>2</td><td>Basic</td></tr><tr><td>ITAPETININGA</td><td>CENTRO</td><td>6.93</td><td>3</td><td>Basic</td></tr><tr><td>SANTOS</td><td>EMBARE</td><td>7.79</td><td>1</td><td>Basic</td></tr><tr><td>PORANGATU</td><td>SETOR CENTRAL</td><td>5.85</td><td>2</td><td>Basic</td></tr><tr><td>LINHARES</td><td>SAO JOSE</td><td>5.98</td><td>1</td><td>Basic</td></tr><tr><td>SABARA</td><td>ANA LUCIA</td><td>5.54</td><td>2</td><td>Basic</td></tr><tr><td>ARARANGUA</td><td>COLONINHA</td><td>5.85</td><td>1</td><td>Basic</td></tr><tr><td>BELO HORIZONTE</td><td>FLORESTA</td><td>5.99</td><td>1</td><td>Basic</td></tr><tr><td>SUZANO</td><td>JARDIM DONA BENTA</td><td>6.06</td><td>2</td><td>Basic</td></tr><tr><td>DIADEMA</td><td>PARQUE DAS JABUTICABEIRAS</td><td>6.39</td><td>1</td><td>Basic</td></tr><tr><td>CAMPINAS</td><td>JARDIM LEONOR</td><td>5.84</td><td>1</td><td>Basic</td></tr><tr><td>VARZEA PAULISTA</td><td>AREA INDUSTRIAL</td><td>6.07</td><td>1</td><td>Basic</td></tr><tr><td>RIO BRANCO</td><td>CONJUNTO RUI LINO</td><td>7.08</td><td>1</td><td>Basic</td></tr><tr><td>TATUI</td><td>CENTRO</td><td>6.36</td><td>2</td><td>Basic</td></tr><tr><td>IMPERATRIZ</td><td>SANTA RITA</td><td>5.89</td><td>1</td><td>Basic</td></tr><tr><td>ITU</td><td>VILA NOVA</td><td>6.09</td><td>1</td><td>Basic</td></tr><tr><td>NOVA IGUACU</td><td>VILA NOVA</td><td>5.99</td><td>1</td><td>Basic</td></tr><tr><td>LUZIANIA</td><td>PARQUE JK</td><td>5.89</td><td>1</td><td>Basic</td></tr><tr><td>GUARUJA</td><td>VILA MAIA</td><td>6.69</td><td>1</td><td>Basic</td></tr><tr><td>ITUIUTABA</td><td>NATAL</td><td>5.87</td><td>1</td><td>Basic</td></tr><tr><td>RIO DE JANEIRO</td><td>BARRA DA TIJUCA</td><td>5.30</td><td>5</td><td>Basic</td></tr><tr><td>OURO PRETO</td><td>SARAMENHA</td><td>5.77</td><td>1</td><td>Basic</td></tr><tr><td>JARAGUA DO SUL</td><td>CHICO DE PAULO</td><td>6.04</td><td>1</td><td>Basic</td></tr><tr><td>ANANINDEUA</td><td>CIDADE NOVA</td><td>5.58</td><td>2</td><td>Basic</td></tr><tr><td>GUARAPARI</td><td>PRAIA DO MORRO</td><td>6.46</td><td>3</td><td>Basic</td></tr><tr><td>SAO PAULO</td><td>SAO JOAO CLIMACO</td><td>5.87</td><td>1</td><td>Basic</td></tr><tr><td>JI-PARANA</td><td>RIACHUELO</td><td>7.21</td><td>2</td><td>Basic</td></tr><tr><td>CARAGUATATUBA</td><td>CAPUTERA</td><td>6.19</td><td>1</td><td>Basic</td></tr><tr><td>ITAPETININGA</td><td>ZONA RURAL</td><td>5.52</td><td>1</td><td>Basic</td></tr><tr><td>UBERABA</td><td>REC DOS BANDEIRANTES</td><td>6.79</td><td>1</td><td>Basic</td></tr><tr><td>MAFRA</td><td>CENTRO</td><td>6.27</td><td>2</td><td>Basic</td></tr><tr><td>OURO PRETO</td><td>N. SA. DO CARMO</td><td>5.88</td><td>1</td><td>Basic</td></tr><tr><td>JOINVILLE</td><td>PIRABEIRABA</td><td>5.74</td><td>1</td><td>Basic</td></tr><tr><td>SERRA</td><td>JARDIM LIMOEIRO</td><td>5.87</td><td>3</td><td>Basic</td></tr><tr><td>FORTALEZA</td><td>BONSUCESSO</td><td>5.79</td><td>1</td><td>Basic</td></tr><tr><td>MURIAE</td><td>DORNELAS</td><td>5.87</td><td>2</td><td>Basic</td></tr><tr><td>ALFENAS</td><td>JARDIM BOA ESPERANCA II</td><td>5.99</td><td>1</td><td>Basic</td></tr><tr><td>RONDONOPOLIS</td><td>JARDIM VERA CRUZ</td><td>6.14</td><td>1</td><td>Basic</td></tr><tr><td>AGUAS LINDAS DE GOIAS</td><td>VIVENDAS PARAISO</td><td>5.79</td><td>1</td><td>Basic</td></tr><tr><td>BETIM</td><td>JARDIM TERESOPOLIS</td><td>5.69</td><td>1</td><td>Basic</td></tr><tr><td>PETROLINA</td><td>COHAB MASSANGANO</td><td>6.09</td><td>1</td><td>Basic</td></tr><tr><td>CONCORDIA</td><td>CRISTAL</td><td>6.20</td><td>1</td><td>Basic</td></tr><tr><td>CASCAVEL</td><td>JD CLARITO</td><td>6.31</td><td>1</td><td>Basic</td></tr><tr><td>PAULISTA</td><td>PARATIBE</td><td>5.73</td><td>1</td><td>Basic</td></tr><tr><td>BOTUCATU</td><td>CENTRO</td><td>5.84</td><td>2</td><td>Basic</td></tr><tr><td>CAMPOS DOS GOYTACAZES</td><td>PQUE TURFE CLUB</td><td>5.59</td><td>1</td><td>Basic</td></tr><tr><td>BAGE</td><td>HIDRAULICA</td><td>6.86</td><td>1</td><td>Basic</td></tr><tr><td>PARANAVAI</td><td>JD SANTOS DUMONT</td><td>6.24</td><td>1</td><td>Basic</td></tr><tr><td>BARRA DO PIRAI</td><td>SANTANA</td><td>5.39</td><td>1</td><td>Basic</td></tr><tr><td>UMUARAMA</td><td>ZONA III</td><td>6.03</td><td>2</td><td>Basic</td></tr><tr><td>POUSO ALEGRE</td><td>GAMBA</td><td>5.71</td><td>1</td><td>Basic</td></tr><tr><td>SOROCABA</td><td>VILA NOVA SOROCABA</td><td>5.54</td><td>1</td><td>Basic</td></tr><tr><td>ITATIBA</td><td>JD BROTAS</td><td>6.61</td><td>1</td><td>Basic</td></tr><tr><td>POUSO ALEGRE</td><td>BELA VISTA</td><td>5.87</td><td>1</td><td>Basic</td></tr><tr><td>CAMPINAS</td><td>CIDADE SATELITE IRIS</td><td>5.79</td><td>1</td><td>Basic</td></tr><tr><td>ARAXA</td><td>VILA SAO PEDRO</td><td>5.68</td><td>1</td><td>Basic</td></tr><tr><td>FOZ DO IGUACU</td><td>JARDIM POLO CENTRO</td><td>5.77</td><td>1</td><td>Basic</td></tr><tr><td>UNAI</td><td>KAMAYURA</td><td>5.59</td><td>1</td><td>Basic</td></tr><tr><td>SETE LAGOAS</td><td>DISTRITO INDUSTRIAL</td><td>5.63</td><td>2</td><td>Basic</td></tr><tr><td>BIRIGUI</td><td>CENTRO</td><td>5.99</td><td>3</td><td>Basic</td></tr><tr><td>CURITIBA</td><td>SAO LOURENCO</td><td>5.94</td><td>1</td><td>Basic</td></tr><tr><td>MAUA</td><td>JARDIM PEDROSO</td><td>6.20</td><td>1</td><td>Basic</td></tr><tr><td>CUIABA</td><td>JARDIM PAULISTA</td><td>6.09</td><td>1</td><td>Basic</td></tr><tr><td>ARAPIRACA</td><td>BOM SUCESSO</td><td>5.89</td><td>1</td><td>Basic</td></tr><tr><td>GRAVATAI</td><td>VERA CRUZ</td><td>5.64</td><td>1</td><td>Basic</td></tr><tr><td>IJUI</td><td>SAO GERALDO</td><td>6.33</td><td>1</td><td>Basic</td></tr><tr><td>ATIBAIA</td><td>ATIBAIA JARDIM</td><td>5.89</td><td>1</td><td>Basic</td></tr><tr><td>SOBRAL</td><td>DOM EXPEDITO</td><td>6.19</td><td>1</td><td>Basic</td></tr><tr><td>DOURADOS</td><td>JARDIM ÁGUA BOA</td><td>5.83</td><td>1</td><td>Basic</td></tr><tr><td>JANAUBA</td><td>SANTO ANTONIO</td><td>6.39</td><td>2</td><td>Basic</td></tr><tr><td>BARREIRAS</td><td>NOVO HORIZONTE</td><td>6.18</td><td>1</td><td>Basic</td></tr><tr><td>VINHEDO</td><td>PINHEIRINHO</td><td>6.34</td><td>1</td><td>Basic</td></tr><tr><td>MAGE</td><td>SANTA DALILA</td><td>5.59</td><td>1</td><td>Basic</td></tr><tr><td>CASCAVEL</td><td>COQUEIRAL</td><td>6.09</td><td>1</td><td>Basic</td></tr><tr><td>MANAUS</td><td>SAO JOSE</td><td>6.28</td><td>1</td><td>Basic</td></tr><tr><td>DUQUE DE CAXIAS</td><td>PARQUE MUISA</td><td>5.34</td><td>1</td><td>Basic</td></tr><tr><td>ARAGUAINA</td><td>LOTEAMENTO NOVA ARAGUAINA</td><td>5.84</td><td>1</td><td>Basic</td></tr><tr><td>RECIFE</td><td>IPUTINGA</td><td>4.63</td><td>1</td><td>Basic</td></tr><tr><td>CONTAGEM</td><td>PETROLANDIA</td><td>5.64</td><td>1</td><td>Basic</td></tr><tr><td>IMPERATRIZ</td><td>CONJUNTO NOVA VITORIA</td><td>6.26</td><td>1</td><td>Basic</td></tr><tr><td>CARIACICA</td><td>CAMPO GRANDE</td><td>5.42</td><td>1</td><td>Basic</td></tr><tr><td>LUZIANIA</td><td>PARQUE INDUSTRIAL MINGONE</td><td>5.97</td><td>2</td><td>Basic</td></tr><tr><td>OLINDA</td><td>CASA CAIADA</td><td>5.45</td><td>3</td><td>Basic</td></tr><tr><td>PARNAMIRIM</td><td>PARQUE DAS NACOES</td><td>6.19</td><td>1</td><td>Basic</td></tr><tr><td>SAO JOSE DO RIO PRETO</td><td>JARDIM PLANALTO</td><td>5.49</td><td>1</td><td>Basic</td></tr><tr><td>GARCA</td><td>LABIENOPOLIS</td><td>5.69</td><td>3</td><td>Basic</td></tr><tr><td>VARZEA PAULISTA</td><td>INDUSTRIAL</td><td>5.64</td><td>1</td><td>Basic</td></tr><tr><td>PARNAMIRIM</td><td>CENTRO</td><td>5.65</td><td>2</td><td>Basic</td></tr><tr><td>JUAZEIRO</td><td>JOAO XXIII</td><td>6.11</td><td>2</td><td>Basic</td></tr><tr><td>CAMPO GRANDE</td><td>VILA PROGRESSO</td><td>5.90</td><td>3</td><td>Basic</td></tr><tr><td>CONGONHAS</td><td>CENTRO</td><td>5.84</td><td>3</td><td>Basic</td></tr><tr><td>PARAUAPEBAS</td><td>ZONA RURAL</td><td>6.45</td><td>3</td><td>Basic</td></tr><tr><td>MONTE CARMELO</td><td>CENTRO</td><td>5.86</td><td>3</td><td>Basic</td></tr><tr><td>SAO LEOPOLDO</td><td>CRISTO REI</td><td>5.64</td><td>1</td><td>Basic</td></tr><tr><td>BRUSQUE</td><td>SÃO LUIZ</td><td>5.64</td><td>1</td><td>Basic</td></tr><tr><td>SOUSA</td><td>CENTRO</td><td>5.89</td><td>1</td><td>Basic</td></tr><tr><td>ITAPETININGA</td><td>VILA RUBENS</td><td>6.49</td><td>1</td><td>Basic</td></tr><tr><td>JUNDIAI</td><td>VILA ESPERIA</td><td>6.29</td><td>1</td><td>Basic</td></tr><tr><td>ANANINDEUA</td><td>LEVILANDIA</td><td>5.99</td><td>1</td><td>Basic</td></tr><tr><td>ICO</td><td>CONJUNTO GAMA</td><td>6.33</td><td>2</td><td>Basic</td></tr><tr><td>TERESINA</td><td>MEMORARE</td><td>5.79</td><td>1</td><td>Basic</td></tr><tr><td>ITAPIPOCA</td><td>JULHO II</td><td>6.57</td><td>1</td><td>Basic</td></tr><tr><td>JARAGUA DO SUL</td><td>CENTRO</td><td>5.69</td><td>1</td><td>Basic</td></tr><tr><td>JUNDIAI</td><td>VILA VIOTO</td><td>5.79</td><td>1</td><td>Basic</td></tr><tr><td>MANAUS</td><td>JAPIIM</td><td>6.29</td><td>3</td><td>Basic</td></tr><tr><td>PARNAMIRIM</td><td>EMAUS</td><td>5.79</td><td>1</td><td>Basic</td></tr><tr><td>PAULISTA</td><td>CENTRO</td><td>5.45</td><td>2</td><td>Basic</td></tr><tr><td>SAO BERNARDO DO CAMPO</td><td>DOS CASA</td><td>5.91</td><td>2</td><td>Basic</td></tr><tr><td>ALFENAS</td><td>JARDIM BOA ESPERANCA III</td><td>5.89</td><td>1</td><td>Basic</td></tr><tr><td>DOURADOS</td><td>VILA INDUSTRIAL</td><td>6.06</td><td>3</td><td>Basic</td></tr><tr><td>CAETITE</td><td>RANCHO ALEGRE</td><td>6.40</td><td>2</td><td>Basic</td></tr><tr><td>CARAGUATATUBA</td><td>PRAIA DAS PALMEIRAS</td><td>5.94</td><td>1</td><td>Basic</td></tr><tr><td>OSASCO</td><td>CENTRO</td><td>5.87</td><td>3</td><td>Basic</td></tr><tr><td>BELO HORIZONTE</td><td>BETANIA</td><td>5.78</td><td>1</td><td>Basic</td></tr><tr><td>NOVA IGUACU</td><td>MIGUEL COUTO</td><td>5.94</td><td>1</td><td>Basic</td></tr><tr><td>PORTO FERREIRA</td><td>JARDIM PRIMAVERA</td><td>5.52</td><td>1</td><td>Basic</td></tr><tr><td>SERRA</td><td>PORTO CANOA</td><td>5.99</td><td>1</td><td>Basic</td></tr><tr><td>ALEGRETE</td><td>SANTOS DUMONT</td><td>6.12</td><td>1</td><td>Basic</td></tr><tr><td>LINHARES</td><td>SHELL</td><td>5.84</td><td>1</td><td>Basic</td></tr><tr><td>CACHOEIRO DE ITAPEMIRIM</td><td>MORRO GRANDE</td><td>6.24</td><td>1</td><td>Basic</td></tr><tr><td>CAMPINA GRANDE</td><td>SANTO ANTONIO</td><td>5.54</td><td>1</td><td>Basic</td></tr><tr><td>SAO CAETANO DO SUL</td><td>SANTO ANTÔNIO</td><td>6.49</td><td>1</td><td>Basic</td></tr><tr><td>CURITIBA</td><td>SANTA FELECIDADE</td><td>5.49</td><td>1</td><td>Basic</td></tr><tr><td>ICO</td><td>NOVO CENTRO</td><td>6.19</td><td>1</td><td>Basic</td></tr><tr><td>ANAPOLIS</td><td>CENTRO</td><td>5.88</td><td>3</td><td>Basic</td></tr><tr><td>DIVINOPOLIS</td><td>BOM PASTOR</td><td>5.86</td><td>4</td><td>Basic</td></tr><tr><td>BRUSQUE</td><td>CENTRO</td><td>6.10</td><td>5</td><td>Basic</td></tr><tr><td>CAMPOS DOS GOYTACAZES</td><td>CENTRO</td><td>5.76</td><td>7</td><td>Basic</td></tr><tr><td>IGUATU</td><td>CENTRO</td><td>6.12</td><td>4</td><td>Basic</td></tr><tr><td>JALES</td><td>ACESSO SP 320</td><td>5.78</td><td>1</td><td>Basic</td></tr><tr><td>ANANINDEUA</td><td>JARDIM N. ESPERANCA</td><td>5.58</td><td>1</td><td>Basic</td></tr><tr><td>JUIZ DE FORA</td><td>COSTA CARVALHO</td><td>5.19</td><td>1</td><td>Basic</td></tr><tr><td>JUAZEIRO DO NORTE</td><td>NOVO JUAZEIRO</td><td>6.06</td><td>1</td><td>Basic</td></tr><tr><td>BENTO GONCALVES</td><td>MARIA GORETTI</td><td>5.79</td><td>1</td><td>Basic</td></tr><tr><td>CABO FRIO</td><td>VILA NOVA</td><td>6.08</td><td>2</td><td>Basic</td></tr><tr><td>VALPARAISO DE GOIAS</td><td>PARQUE ESPLANADA III</td><td>5.81</td><td>1</td><td>Basic</td></tr><tr><td>JABOATAO DOS GUARARAPES</td><td>VILA RICA</td><td>5.67</td><td>1</td><td>Basic</td></tr><tr><td>BRASILIA</td><td>AGUAS CLARAS</td><td>5.99</td><td>2</td><td>Basic</td></tr><tr><td>RIO BRANCO</td><td>EST EXPERIMENTAL</td><td>7.10</td><td>1</td><td>Basic</td></tr><tr><td>CAMPINAS</td><td>LOTEAMENTO PARQUE SAO MARTINHO</td><td>7.78</td><td>1</td><td>Basic</td></tr><tr><td>SAO JOSE DO RIO PRETO</td><td>VILA REDENTORA</td><td>6.09</td><td>1</td><td>Basic</td></tr><tr><td>CRICIUMA</td><td>COLONINHA ZILLI</td><td>5.84</td><td>1</td><td>Basic</td></tr><tr><td>CAMPINAS</td><td>JARDIM IPIRANGA</td><td>5.61</td><td>1</td><td>Basic</td></tr><tr><td>OSASCO</td><td>ALIANCA</td><td>5.84</td><td>2</td><td>Basic</td></tr><tr><td>MARINGA</td><td>ZONA 05</td><td>5.77</td><td>2</td><td>Basic</td></tr><tr><td>ITAPIPOCA</td><td>DESERTO</td><td>6.56</td><td>1</td><td>Basic</td></tr><tr><td>CASTRO</td><td>CENTRO</td><td>6.05</td><td>3</td><td>Basic</td></tr><tr><td>MAUA</td><td>MATRIZ</td><td>5.78</td><td>2</td><td>Basic</td></tr><tr><td>IGUATU</td><td>AREIAS</td><td>6.15</td><td>3</td><td>Basic</td></tr><tr><td>EMBU DAS ARTES</td><td>AGUA MORNA</td><td>5.77</td><td>1</td><td>Basic</td></tr><tr><td>POCOES</td><td>CENTRO</td><td>5.69</td><td>2</td><td>Basic</td></tr><tr><td>GUAIBA</td><td>CORONEL NASSUCA</td><td>5.52</td><td>1</td><td>Basic</td></tr><tr><td>CONTAGEM</td><td>INDUSTRIAL</td><td>5.64</td><td>1</td><td>Basic</td></tr><tr><td>COTIA</td><td>CHACARA DO REFUGIO</td><td>6.29</td><td>1</td><td>Basic</td></tr><tr><td>MANAUS</td><td>ADRIANOPOLIS</td><td>6.29</td><td>1</td><td>Basic</td></tr><tr><td>CACHOEIRO DE ITAPEMIRIM</td><td>PARAISO</td><td>6.29</td><td>1</td><td>Basic</td></tr><tr><td>CHAPECO</td><td>SEMINARIO</td><td>5.82</td><td>1</td><td>Basic</td></tr><tr><td>LEME</td><td>PARQUE RESIDENCIAL ITAMARATY</td><td>5.43</td><td>1</td><td>Basic</td></tr><tr><td>SAO PAULO</td><td>VILA NILO</td><td>5.46</td><td>1</td><td>Basic</td></tr><tr><td>SAO SEBASTIAO DO PARAISO</td><td>CENTRO</td><td>5.85</td><td>3</td><td>Basic</td></tr><tr><td>LUZIANIA</td><td>PARQUE ESTRELA D'ALVA IX</td><td>5.69</td><td>1</td><td>Basic</td></tr><tr><td>VIAMAO</td><td>SAO TOME</td><td>5.73</td><td>3</td><td>Basic</td></tr><tr><td>PIRACICABA</td><td>CIDADE ALTA</td><td>6.05</td><td>1</td><td>Basic</td></tr><tr><td>ARCOVERDE</td><td>SUCUPIRA</td><td>5.74</td><td>1</td><td>Basic</td></tr><tr><td>RIBEIRAO PRETO</td><td>ALTO DA BOA VISTA</td><td>6.49</td><td>1</td><td>Basic</td></tr><tr><td>SANTO ANDRE</td><td>CIDADE SAO JORGE</td><td>6.29</td><td>1</td><td>Basic</td></tr><tr><td>LIMEIRA</td><td>SITIO SAO JOAO</td><td>5.79</td><td>1</td><td>Basic</td></tr><tr><td>PATROCINIO</td><td>AREA RURAL DE PATROCINIO</td><td>6.19</td><td>1</td><td>Basic</td></tr><tr><td>CRATO</td><td>PIMENTA</td><td>6.04</td><td>1</td><td>Basic</td></tr><tr><td>CAMPINAS</td><td>PONTE PRETA</td><td>5.69</td><td>1</td><td>Basic</td></tr><tr><td>PORANGATU</td><td>ZONA RURAL</td><td>5.72</td><td>1</td><td>Basic</td></tr><tr><td>MARICA</td><td>ITAPEBA</td><td>5.99</td><td>3</td><td>Basic</td></tr><tr><td>CASCAVEL</td><td>SAO CRISTOVAO</td><td>5.94</td><td>1</td><td>Basic</td></tr><tr><td>TEOFILO OTONI</td><td>SAO DIOGO</td><td>5.73</td><td>2</td><td>Basic</td></tr><tr><td>MANAUS</td><td>CACHOEIRINHA</td><td>6.29</td><td>2</td><td>Basic</td></tr><tr><td>PELOTAS</td><td>CENTRO</td><td>6.04</td><td>8</td><td>Premium</td></tr><tr><td>GURUPI</td><td>SETOR CENTRAL</td><td>5.94</td><td>2</td><td>Basic</td></tr><tr><td>NOVA LIMA</td><td>OURO VELHO MANSOES</td><td>6.19</td><td>1</td><td>Basic</td></tr><tr><td>MANAUS</td><td>SAO GERALDO</td><td>5.82</td><td>2</td><td>Basic</td></tr><tr><td>PRESIDENTE DUTRA</td><td>PARANUA</td><td>5.59</td><td>1</td><td>Basic</td></tr><tr><td>BOM DESPACHO</td><td>ZONA RURAL</td><td>5.64</td><td>1</td><td>Basic</td></tr><tr><td>SAO JOAO DA BOA VISTA</td><td>JARDIM SAO NICOLAU</td><td>5.72</td><td>1</td><td>Basic</td></tr><tr><td>GRAVATAI</td><td>MORADA DO VALE II</td><td>5.59</td><td>1</td><td>Basic</td></tr><tr><td>PARAUAPEBAS</td><td>VILA RICA</td><td>6.78</td><td>1</td><td>Basic</td></tr><tr><td>GUARAPUAVA</td><td>TIANON</td><td>5.94</td><td>1</td><td>Basic</td></tr><tr><td>ITANHAEM</td><td>RENCANTO DAS LARANJEIRAS</td><td>5.99</td><td>1</td><td>Basic</td></tr><tr><td>MOGI GUACU</td><td>JARDIM NOSSA SENHORA DAS GRACAS</td><td>5.81</td><td>1</td><td>Basic</td></tr><tr><td>JUNDIAI</td><td>JD ERMIDA II</td><td>5.99</td><td>1</td><td>Basic</td></tr><tr><td>MOGI GUACU</td><td>VILA LEILA</td><td>6.14</td><td>1</td><td>Basic</td></tr><tr><td>ARIQUEMES</td><td>SETOR 03</td><td>6.10</td><td>3</td><td>Basic</td></tr><tr><td>ITU</td><td>CHAFARIS</td><td>6.14</td><td>1</td><td>Basic</td></tr><tr><td>MURIAE</td><td>FRANCO SUICO</td><td>5.89</td><td>1</td><td>Basic</td></tr><tr><td>REDENCAO</td><td>CAPUAVA</td><td>6.39</td><td>1</td><td>Basic</td></tr><tr><td>CAMPO LARGO</td><td>JARDIM SAO VICENTE</td><td>5.99</td><td>1</td><td>Basic</td></tr><tr><td>TOLEDO</td><td>VILA INDUSTRIAL</td><td>5.97</td><td>3</td><td>Basic</td></tr><tr><td>SANTA CRUZ DO SUL</td><td>CENTRO</td><td>5.98</td><td>4</td><td>Basic</td></tr><tr><td>LIMEIRA</td><td>NEREIDE</td><td>5.49</td><td>1</td><td>Basic</td></tr><tr><td>CAMETA</td><td>NOVO</td><td>6.39</td><td>1</td><td>Basic</td></tr><tr><td>UNAI</td><td>SETOR DE MANSOES CONCORDIA</td><td>5.44</td><td>1</td><td>Basic</td></tr><tr><td>PAULO AFONSO</td><td>ALVES DE SOUZA</td><td>6.15</td><td>1</td><td>Basic</td></tr><tr><td>BELO HORIZONTE</td><td>APARECIDA</td><td>5.99</td><td>1</td><td>Basic</td></tr><tr><td>TRINDADE</td><td>VILA EMANUEL</td><td>5.74</td><td>1</td><td>Basic</td></tr><tr><td>PARANAVAI</td><td>JD S DUMONT</td><td>5.59</td><td>1</td><td>Basic</td></tr><tr><td>PICOS</td><td>IPUEIRAS</td><td>5.87</td><td>1</td><td>Basic</td></tr><tr><td>GUARULHOS</td><td>CIDADE SERODIO</td><td>5.39</td><td>3</td><td>Basic</td></tr><tr><td>PARINTINS</td><td>CENTRO</td><td>6.89</td><td>3</td><td>Basic</td></tr><tr><td>RIO BRANCO</td><td>DISTRITO INDUSTRIAL</td><td>7.15</td><td>2</td><td>Basic</td></tr><tr><td>CRATO</td><td>CENTRO</td><td>5.97</td><td>1</td><td>Basic</td></tr><tr><td>ASSIS CHATEAUBRIAND</td><td>CENTRO</td><td>5.77</td><td>5</td><td>Basic</td></tr><tr><td>URUGUAIANA</td><td>SANTO INACIO</td><td>5.88</td><td>1</td><td>Basic</td></tr><tr><td>NOVO HAMBURGO</td><td>RINCAO</td><td>5.84</td><td>1</td><td>Basic</td></tr><tr><td>RIO DE JANEIRO</td><td>BRAZ DE PINA</td><td>5.24</td><td>1</td><td>Basic</td></tr><tr><td>CACERES</td><td>JARDIM PARAISO</td><td>5.77</td><td>1</td><td>Basic</td></tr><tr><td>RIO DE JANEIRO</td><td>SÃO CRISTÓVÃO</td><td>5.29</td><td>2</td><td>Basic</td></tr><tr><td>JABOATAO DOS GUARARAPES</td><td>CURADO II</td><td>4.62</td><td>1</td><td>Basic</td></tr><tr><td>PARANAGUA</td><td>LEBLON</td><td>6.07</td><td>1</td><td>Basic</td></tr><tr><td>ITAUNA</td><td>CERQUEIRA LIMA</td><td>5.69</td><td>1</td><td>Basic</td></tr><tr><td>SAO JOSE</td><td>CENTRO</td><td>5.69</td><td>1</td><td>Basic</td></tr><tr><td>VIAMAO</td><td>COHAB</td><td>5.84</td><td>1</td><td>Basic</td></tr><tr><td>CONCEICAO DO ARAGUAIA</td><td>EMERENCIO</td><td>6.06</td><td>1</td><td>Basic</td></tr><tr><td>ACAILANDIA</td><td>CENTRO</td><td>5.75</td><td>4</td><td>Basic</td></tr><tr><td>RESENDE</td><td>MANEJO</td><td>5.41</td><td>2</td><td>Basic</td></tr><tr><td>ASSIS</td><td>CENTRO</td><td>5.87</td><td>2</td><td>Basic</td></tr><tr><td>SAO JOSE DO RIO PRETO</td><td>DISTR. ENG. SCHIMIDT</td><td>5.69</td><td>1</td><td>Basic</td></tr><tr><td>JOINVILLE</td><td>CENTRO</td><td>5.63</td><td>2</td><td>Basic</td></tr><tr><td>PALMAS</td><td>ZONA RURAL</td><td>5.60</td><td>1</td><td>Basic</td></tr><tr><td>CAMPO GRANDE</td><td>GUANANDI</td><td>5.79</td><td>1</td><td>Basic</td></tr><tr><td>EMBU DAS ARTES</td><td>JARDIM SANTO EDUARDO</td><td>6.89</td><td>1</td><td>Basic</td></tr><tr><td>NITEROI</td><td>BALDEADOR</td><td>5.64</td><td>1</td><td>Basic</td></tr><tr><td>ITABIRA</td><td>ESPLANADA DA ESTACAO</td><td>6.37</td><td>1</td><td>Basic</td></tr><tr><td>RIO BRANCO</td><td>ALTO ALEGRE</td><td>7.14</td><td>1</td><td>Basic</td></tr><tr><td>SUZANO</td><td>VILA MARIA DE MAGGI</td><td>5.50</td><td>3</td><td>Basic</td></tr><tr><td>CAUCAIA</td><td>PARQUE TABAPUA</td><td>5.62</td><td>1</td><td>Basic</td></tr><tr><td>CURITIBA</td><td>VILA LINDOIA</td><td>5.89</td><td>1</td><td>Basic</td></tr><tr><td>RECIFE</td><td>ESPINHEIRO</td><td>5.89</td><td>1</td><td>Basic</td></tr><tr><td>TUBARAO</td><td>HUMAITA</td><td>5.62</td><td>1</td><td>Basic</td></tr><tr><td>AMERICANA</td><td>VILA SANTA MARIA</td><td>5.79</td><td>1</td><td>Basic</td></tr><tr><td>TERESINA</td><td>SAO RAIMUNDO</td><td>5.64</td><td>1</td><td>Basic</td></tr><tr><td>VIDEIRA</td><td>CENTRO</td><td>6.22</td><td>2</td><td>Basic</td></tr><tr><td>CARAPICUIBA</td><td>VILAS CALDAS</td><td>5.79</td><td>1</td><td>Basic</td></tr><tr><td>JUNDIAI</td><td>CIDADE NOVA</td><td>6.09</td><td>1</td><td>Basic</td></tr><tr><td>TERESOPOLIS</td><td>BARRA DO IMBUI</td><td>5.99</td><td>1</td><td>Basic</td></tr><tr><td>CAMBE</td><td>PERÍMETRO URBANO</td><td>6.39</td><td>1</td><td>Basic</td></tr><tr><td>PARA DE MINAS</td><td>CENTRO</td><td>6.08</td><td>2</td><td>Basic</td></tr><tr><td>PARNAMIRIM</td><td>MONTE CASTELO</td><td>5.99</td><td>1</td><td>Basic</td></tr><tr><td>REDENCAO</td><td>NUCLEO URBANO</td><td>5.94</td><td>1</td><td>Basic</td></tr><tr><td>PARAGUACU PAULISTA</td><td>VILA AFFINE</td><td>5.49</td><td>1</td><td>Basic</td></tr><tr><td>MARABA</td><td>CIDADE NOVA</td><td>6.07</td><td>3</td><td>Basic</td></tr><tr><td>VARZEA GRANDE</td><td>PLANALTO IPIRANGA II</td><td>5.93</td><td>1</td><td>Basic</td></tr><tr><td>VACARIA</td><td>VENETO</td><td>5.84</td><td>1</td><td>Basic</td></tr><tr><td>VOTUPORANGA</td><td>JARDIM YOLANDA</td><td>5.99</td><td>1</td><td>Basic</td></tr><tr><td>ARAXA</td><td>SAO GERALDO</td><td>5.85</td><td>2</td><td>Basic</td></tr><tr><td>JABOATAO DOS GUARARAPES</td><td>SANTO ALEIXO</td><td>5.69</td><td>1</td><td>Basic</td></tr><tr><td>SANTA CRUZ DO SUL</td><td>SENAI</td><td>5.90</td><td>2</td><td>Basic</td></tr><tr><td>MOSSORO</td><td>AEROPORTO</td><td>6.00</td><td>1</td><td>Basic</td></tr><tr><td>MANAUS</td><td>DISTRITO INDUSTRIAL I</td><td>6.29</td><td>1</td><td>Basic</td></tr><tr><td>BAURU</td><td>VILA AVIACAO</td><td>5.97</td><td>1</td><td>Basic</td></tr><tr><td>RONDONOPOLIS</td><td>JARDIM MONTE LIBANO</td><td>6.14</td><td>1</td><td>Basic</td></tr><tr><td>MOGI MIRIM</td><td>CENTRO</td><td>6.02</td><td>1</td><td>Basic</td></tr><tr><td>SAO ROQUE</td><td>VILA NOVA SAO ROQUE</td><td>5.99</td><td>1</td><td>Basic</td></tr><tr><td>DUQUE DE CAXIAS</td><td>PARQUE LAFAITE</td><td>5.22</td><td>1</td><td>Basic</td></tr><tr><td>SAO MATEUS</td><td>CARAPINA</td><td>5.87</td><td>1</td><td>Basic</td></tr><tr><td>ARACATUBA</td><td>SAUDADE</td><td>6.09</td><td>1</td><td>Basic</td></tr><tr><td>SAO JOSE DO RIO PRETO</td><td>ZONA RURAL</td><td>5.57</td><td>3</td><td>Basic</td></tr><tr><td>VARZEA GRANDE</td><td>NOVA VARZEA GRANDE</td><td>6.17</td><td>1</td><td>Basic</td></tr><tr><td>CURITIBA</td><td>SAO BRAZ</td><td>5.99</td><td>1</td><td>Basic</td></tr><tr><td>UMUARAMA</td><td>ZONA IV</td><td>5.67</td><td>1</td><td>Basic</td></tr><tr><td>CASTRO</td><td>JARDIM DAS ARAUCÁRIAS</td><td>5.55</td><td>1</td><td>Basic</td></tr><tr><td>CURITIBA</td><td>UBERABA</td><td>5.96</td><td>3</td><td>Basic</td></tr><tr><td>INDAIATUBA</td><td>JARDIM AMERICA</td><td>6.09</td><td>1</td><td>Basic</td></tr><tr><td>SALVADOR</td><td>RETIRO</td><td>5.88</td><td>1</td><td>Basic</td></tr><tr><td>RIBEIRAO PIRES</td><td>VL FIORENTINA</td><td>5.99</td><td>1</td><td>Basic</td></tr><tr><td>JOSE BONIFACIO</td><td>SAO JOSE</td><td>6.35</td><td>1</td><td>Basic</td></tr><tr><td>CAMPINAS</td><td>JARDIM DO LAGO</td><td>5.79</td><td>1</td><td>Basic</td></tr><tr><td>JUIZ DE FORA</td><td>BARREIRA DO TRIUNFO</td><td>5.70</td><td>2</td><td>Basic</td></tr><tr><td>ITABIRA</td><td>J.K.</td><td>6.37</td><td>1</td><td>Basic</td></tr><tr><td>GUARAPARI</td><td>PARQUE AREIA PRETA</td><td>5.99</td><td>1</td><td>Basic</td></tr><tr><td>CAMPO GRANDE</td><td>CARANDA BOSQUE II</td><td>5.87</td><td>1</td><td>Basic</td></tr><tr><td>APARECIDA DE GOIANIA</td><td>SETOR GARAVELO</td><td>5.94</td><td>1</td><td>Basic</td></tr><tr><td>CAMPO GRANDE</td><td>AERO RANCHO</td><td>5.79</td><td>1</td><td>Basic</td></tr><tr><td>VILA VELHA</td><td>SANTA INEZ</td><td>4.99</td><td>1</td><td>Basic</td></tr><tr><td>ANAPOLIS</td><td>ANDRACEL CENTER</td><td>5.79</td><td>1</td><td>Basic</td></tr><tr><td>GUARULHOS</td><td>TABOAO</td><td>5.94</td><td>1</td><td>Basic</td></tr><tr><td>BELO HORIZONTE</td><td>SATELITE</td><td>5.79</td><td>1</td><td>Basic</td></tr><tr><td>CUIABA</td><td>PASCOAL RAMOS</td><td>6.09</td><td>2</td><td>Basic</td></tr><tr><td>PATOS</td><td>MORADA DO SOL</td><td>6.24</td><td>1</td><td>Basic</td></tr><tr><td>TIMOTEO</td><td>FUNCIONARIOS</td><td>5.64</td><td>1</td><td>Basic</td></tr><tr><td>JEQUIE</td><td>KENNEDY</td><td>6.10</td><td>1</td><td>Basic</td></tr><tr><td>UBERABA</td><td>SANTA MARIA</td><td>5.94</td><td>3</td><td>Basic</td></tr><tr><td>GRAVATAI</td><td>BARNABE</td><td>5.64</td><td>1</td><td>Basic</td></tr><tr><td>VITORIA</td><td>ANDORINHAS</td><td>5.46</td><td>1</td><td>Basic</td></tr><tr><td>SAO JOSE DO RIO PRETO</td><td>JD PRIMAVERA</td><td>5.49</td><td>1</td><td>Basic</td></tr><tr><td>LAJEADO</td><td>OLARIAS</td><td>5.51</td><td>1</td><td>Basic</td></tr><tr><td>ITABORAI</td><td>VENDA DAS PEDRAS</td><td>6.01</td><td>2</td><td>Basic</td></tr><tr><td>FORTALEZA</td><td>EDSON QUEIROZ</td><td>4.99</td><td>1</td><td>Basic</td></tr><tr><td>DIVINOPOLIS</td><td>CENTRO</td><td>5.89</td><td>1</td><td>Basic</td></tr><tr><td>CAMPINA GRANDE</td><td>JARDIM PAULISTANO</td><td>5.69</td><td>1</td><td>Basic</td></tr><tr><td>FORMOSA</td><td>SETOR NORDESTE</td><td>5.98</td><td>1</td><td>Basic</td></tr><tr><td>NOVA FRIBURGO</td><td>CENTRO</td><td>5.95</td><td>2</td><td>Basic</td></tr><tr><td>GUARATINGUETA</td><td>BELVEDERE CLUBE DOS 500</td><td>6.25</td><td>1</td><td>Basic</td></tr><tr><td>MINEIROS</td><td>LOTEAMENTO CARDOSO</td><td>6.06</td><td>1</td><td>Basic</td></tr><tr><td>BRAGANCA PAULISTA</td><td>CAMPO NOVO</td><td>5.79</td><td>1</td><td>Basic</td></tr><tr><td>LAGARTO</td><td>ZONA RURAL</td><td>5.74</td><td>1</td><td>Basic</td></tr><tr><td>SANTA CRUZ DO RIO PARDO</td><td>CENTRO</td><td>5.56</td><td>3</td><td>Basic</td></tr><tr><td>SAO JOSE DO RIO PRETO</td><td>VL MACENO</td><td>5.99</td><td>1</td><td>Basic</td></tr><tr><td>SAO PAULO</td><td>JARDIM SÃO SEBASTIÃO</td><td>6.59</td><td>1</td><td>Basic</td></tr><tr><td>TATUI</td><td>JARDIM ROSA GARCIA</td><td>5.99</td><td>1</td><td>Basic</td></tr><tr><td>RIBEIRAO PRETO</td><td>AUTO DA BOA VISTA</td><td>5.79</td><td>1</td><td>Basic</td></tr><tr><td>SAQUAREMA</td><td>CENTRO</td><td>6.29</td><td>2</td><td>Basic</td></tr><tr><td>POA</td><td>V STA MARIA</td><td>6.19</td><td>1</td><td>Basic</td></tr><tr><td>FRUTAL</td><td>ALTO BOA VISTA</td><td>5.97</td><td>1</td><td>Basic</td></tr><tr><td>MACAE</td><td>RIVIERA FLUMINENSE</td><td>6.04</td><td>1</td><td>Basic</td></tr><tr><td>MARILIA</td><td>NUCLEO HABITACIONAL NOVA MARILIA</td><td>5.59</td><td>1</td><td>Basic</td></tr><tr><td>TOLEDO</td><td>JARDIM PORTO ALEGRE</td><td>5.73</td><td>2</td><td>Basic</td></tr><tr><td>FOZ DO IGUACU</td><td>PORTAL DA FOZ</td><td>5.94</td><td>1</td><td>Basic</td></tr><tr><td>BELO HORIZONTE</td><td>SERRA VERDE</td><td>5.79</td><td>1</td><td>Basic</td></tr><tr><td>CORUMBA</td><td>MARIA LEITE</td><td>7.38</td><td>2</td><td>Basic</td></tr><tr><td>TEFE</td><td>SANTA ROSA</td><td>7.79</td><td>1</td><td>Basic</td></tr><tr><td>MATAO</td><td>VILA SANTA CRUZ</td><td>5.54</td><td>1</td><td>Basic</td></tr><tr><td>CAMPO GRANDE</td><td>PARQUE RESIDENCIAL DOS GIRASSOIS</td><td>5.79</td><td>1</td><td>Basic</td></tr><tr><td>TRES LAGOAS</td><td>JARDIM NOVO AEROPORTO</td><td>5.74</td><td>2</td><td>Basic</td></tr><tr><td>PARAUAPEBAS</td><td>CIDADE JARDIM</td><td>6.30</td><td>1</td><td>Basic</td></tr><tr><td>FEIRA DE SANTANA</td><td>CASEB</td><td>5.60</td><td>2</td><td>Basic</td></tr><tr><td>RONDONOPOLIS</td><td>CENTRO B</td><td>6.14</td><td>1</td><td>Basic</td></tr><tr><td>GUAIBA</td><td>CENTRO</td><td>6.09</td><td>1</td><td>Basic</td></tr><tr><td>NOVO HAMBURGO</td><td>PETROPOLIS</td><td>5.47</td><td>1</td><td>Basic</td></tr><tr><td>CACHOEIRO DE ITAPEMIRIM</td><td>VARGEM GRANDE DO SOTURNO</td><td>5.73</td><td>1</td><td>Basic</td></tr><tr><td>PALMAS</td><td>AURENY 01</td><td>6.02</td><td>1</td><td>Basic</td></tr><tr><td>PIRACICABA</td><td>ROLADOR</td><td>5.89</td><td>1</td><td>Basic</td></tr><tr><td>NOVA IGUACU</td><td>BOTAFOGO</td><td>5.36</td><td>1</td><td>Basic</td></tr><tr><td>BIGUACU</td><td>MAR DAS PEDRAS</td><td>6.25</td><td>1</td><td>Basic</td></tr><tr><td>BELO HORIZONTE</td><td>SAO JOAO BATISTA</td><td>5.53</td><td>2</td><td>Basic</td></tr><tr><td>CORONEL FABRICIANO</td><td>TODOS OS SANTOS</td><td>5.63</td><td>2</td><td>Basic</td></tr><tr><td>SAO LUIS</td><td>ANIL</td><td>5.41</td><td>5</td><td>Basic</td></tr><tr><td>CABO DE SANTO AGOSTINHO</td><td>PONTE DOS CARVALHOS</td><td>5.39</td><td>2</td><td>Basic</td></tr><tr><td>PASSO FUNDO</td><td>BOQUEIRAO</td><td>5.94</td><td>2</td><td>Basic</td></tr><tr><td>CANOAS</td><td>CENTRO</td><td>5.49</td><td>5</td><td>Basic</td></tr><tr><td>RECIFE</td><td>IMBIRIBEIRA</td><td>5.48</td><td>6</td><td>Basic</td></tr><tr><td>ITANHAEM</td><td>CIDADE ANCHIETA</td><td>5.79</td><td>1</td><td>Basic</td></tr><tr><td>RIO BRANCO</td><td>BOSQUE</td><td>7.11</td><td>1</td><td>Basic</td></tr><tr><td>SAO PAULO</td><td>CAMPO LIMPO</td><td>5.49</td><td>1</td><td>Basic</td></tr><tr><td>ILHEUS</td><td>SAO FRANCISCO</td><td>6.38</td><td>1</td><td>Basic</td></tr><tr><td>SALGUEIRO</td><td>NS APARECIDA</td><td>5.54</td><td>1</td><td>Basic</td></tr><tr><td>CAMPINAS</td><td>JD. PARAISO VIRACOPOS</td><td>5.94</td><td>1</td><td>Basic</td></tr><tr><td>SANTA CRUZ DO RIO PARDO</td><td>SERRINHA</td><td>5.61</td><td>1</td><td>Basic</td></tr><tr><td>MOSSORO</td><td>DOZE ANOS</td><td>5.86</td><td>1</td><td>Basic</td></tr><tr><td>MOSSORO</td><td>ABOLICAO</td><td>5.53</td><td>1</td><td>Basic</td></tr><tr><td>CUBATAO</td><td>VILA ELIZABETH</td><td>5.65</td><td>1</td><td>Basic</td></tr><tr><td>NOVO HAMBURGO</td><td>IDEAL</td><td>5.78</td><td>2</td><td>Basic</td></tr><tr><td>SANTA CRUZ DO SUL</td><td>GOIAS</td><td>5.99</td><td>1</td><td>Basic</td></tr><tr><td>NOVA LIMA</td><td>JARDIM CANADA</td><td>5.89</td><td>1</td><td>Basic</td></tr><tr><td>TEIXEIRA DE FREITAS</td><td>JARDIM CARAIPE</td><td>6.24</td><td>1</td><td>Basic</td></tr><tr><td>JUIZ DE FORA</td><td>VITORINO BRAGA</td><td>5.97</td><td>1</td><td>Basic</td></tr><tr><td>MORRINHOS</td><td>SETOR AEROPORTO</td><td>5.84</td><td>2</td><td>Basic</td></tr><tr><td>CATALAO</td><td>JARDIM PAULISTA</td><td>5.79</td><td>1</td><td>Basic</td></tr><tr><td>MONTES CLAROS</td><td>EDGAR PEREIRA</td><td>5.80</td><td>2</td><td>Basic</td></tr><tr><td>SAO FRANCISCO DE ITABAPOANA</td><td>CENTRO</td><td>6.44</td><td>1</td><td>Basic</td></tr><tr><td>SANTO ANDRE</td><td>CAMPESTRE</td><td>6.26</td><td>3</td><td>Basic</td></tr><tr><td>BELEM</td><td>VAL-DE-CAES</td><td>5.49</td><td>1</td><td>Basic</td></tr><tr><td>TIMOTEO</td><td>CENTRO</td><td>5.59</td><td>1</td><td>Basic</td></tr><tr><td>FRANCA</td><td>JARDIM PAULISTA</td><td>5.99</td><td>1</td><td>Basic</td></tr><tr><td>XANXERE</td><td>VISTA ALEGRE</td><td>5.94</td><td>1</td><td>Basic</td></tr><tr><td>ARACATUBA</td><td>DONA AMELIA</td><td>5.47</td><td>1</td><td>Basic</td></tr><tr><td>BELO JARDIM</td><td>ALTO LIMPO</td><td>5.52</td><td>1</td><td>Basic</td></tr><tr><td>ARACATUBA</td><td>JD UMUARAMA</td><td>6.07</td><td>1</td><td>Basic</td></tr><tr><td>LAGARTO</td><td>CENTRO</td><td>5.80</td><td>1</td><td>Basic</td></tr><tr><td>INDAIATUBA</td><td>CIDADE NOVA</td><td>5.89</td><td>1</td><td>Basic</td></tr><tr><td>SAO LUIS</td><td>COHAB ANIL I</td><td>5.59</td><td>1</td><td>Basic</td></tr><tr><td>OSASCO</td><td>KM 18</td><td>5.39</td><td>1</td><td>Basic</td></tr><tr><td>APARECIDA DE GOIANIA</td><td>CIDADE LIVRE</td><td>5.69</td><td>1</td><td>Basic</td></tr><tr><td>GURUPI</td><td>CENTRO</td><td>5.90</td><td>3</td><td>Basic</td></tr><tr><td>SOROCABA</td><td>JARDIM RESIDENCIAL TIVOLI PARK</td><td>5.49</td><td>1</td><td>Basic</td></tr><tr><td>RONDONOPOLIS</td><td>LA SALLE</td><td>6.14</td><td>1</td><td>Basic</td></tr><tr><td>MOSSORO</td><td>ALTO DA CONCEICAO</td><td>5.85</td><td>1</td><td>Basic</td></tr><tr><td>SAO JOSE DO RIO PRETO</td><td>JARDIM AMERICA</td><td>5.79</td><td>1</td><td>Basic</td></tr><tr><td>GRAVATAI</td><td>BAIRRO MORUNGAVA</td><td>5.94</td><td>1</td><td>Basic</td></tr><tr><td>UMUARAMA</td><td>JARDIM PANORAMA</td><td>5.63</td><td>1</td><td>Basic</td></tr><tr><td>PASSOS</td><td>JOAO PAULO II</td><td>5.82</td><td>1</td><td>Basic</td></tr><tr><td>SAO JOSE DOS CAMPOS</td><td>JARDIM OSWALDO CRUZ</td><td>4.49</td><td>1</td><td>Basic</td></tr><tr><td>FLORIANOPOLIS</td><td>ESTREITO</td><td>5.73</td><td>2</td><td>Basic</td></tr><tr><td>SAO LUIS</td><td>CONJ HABITACIONAL VINHAIS</td><td>5.59</td><td>1</td><td>Basic</td></tr><tr><td>AGUAS LINDAS DE GOIAS</td><td>JARDIM BRASILIA</td><td>6.02</td><td>1</td><td>Basic</td></tr><tr><td>COLOMBO</td><td>GUARAITUBA</td><td>5.81</td><td>2</td><td>Basic</td></tr><tr><td>SAO PAULO</td><td>VILA MARIA</td><td>6.14</td><td>1</td><td>Basic</td></tr><tr><td>CRATO</td><td>SEMINARIO</td><td>6.05</td><td>1</td><td>Basic</td></tr><tr><td>ERECHIM</td><td>FATIMA</td><td>5.99</td><td>1</td><td>Basic</td></tr><tr><td>CAMPO GRANDE</td><td>JARDIM TARUMA</td><td>5.90</td><td>1</td><td>Basic</td></tr><tr><td>CUIABA</td><td>DOM AQUINO</td><td>6.24</td><td>2</td><td>Basic</td></tr><tr><td>SAO PAULO</td><td>INDIANOPOLIS</td><td>6.49</td><td>1</td><td>Basic</td></tr><tr><td>DUQUE DE CAXIAS</td><td>VILA ITAMARATI</td><td>5.64</td><td>2</td><td>Basic</td></tr><tr><td>CALDAS NOVAS</td><td>CENTRO</td><td>5.71</td><td>2</td><td>Basic</td></tr><tr><td>OSORIO</td><td>PARQUE REAL</td><td>6.07</td><td>1</td><td>Basic</td></tr><tr><td>SAO BERNARDO DO CAMPO</td><td>PLANALTO</td><td>5.83</td><td>2</td><td>Basic</td></tr><tr><td>TABOAO DA SERRA</td><td>JD. RECORD</td><td>5.99</td><td>1</td><td>Basic</td></tr><tr><td>VIAMAO</td><td>SAO LUCAS</td><td>5.52</td><td>1</td><td>Basic</td></tr><tr><td>CAMPO GRANDE</td><td>MONTE CASTELO</td><td>5.73</td><td>1</td><td>Basic</td></tr><tr><td>FORTALEZA</td><td>VIL PERY</td><td>5.68</td><td>1</td><td>Basic</td></tr><tr><td>VILA VELHA</td><td>COBILÂNDIA</td><td>5.67</td><td>1</td><td>Basic</td></tr><tr><td>GOIANIA</td><td>SETOR COIMBRA</td><td>5.79</td><td>1</td><td>Basic</td></tr><tr><td>PARNAMIRIM</td><td>COHABINAL</td><td>5.89</td><td>1</td><td>Basic</td></tr><tr><td>PRAIA GRANDE</td><td>OCIAN</td><td>6.22</td><td>1</td><td>Basic</td></tr><tr><td>JUAZEIRO DO NORTE</td><td>CENTRO</td><td>6.09</td><td>1</td><td>Basic</td></tr><tr><td>SUMARE</td><td>JD. NOVA TERRA</td><td>5.74</td><td>1</td><td>Basic</td></tr><tr><td>CUIABA</td><td>CAMPO VELHO</td><td>3.54</td><td>1</td><td>Basic</td></tr><tr><td>SAO JOSE DE RIBAMAR</td><td>TRIZIDELA DA MAIOBA</td><td>5.59</td><td>1</td><td>Basic</td></tr><tr><td>BAGE</td><td>SAO JUDAS</td><td>6.54</td><td>2</td><td>Basic</td></tr><tr><td>VICOSA</td><td>JOAO BRAZ DA COSTA VAL</td><td>5.96</td><td>2</td><td>Basic</td></tr><tr><td>PORTO ALEGRE</td><td>NAVEGANTES</td><td>5.19</td><td>1</td><td>Basic</td></tr><tr><td>ARARIPINA</td><td>ZONA URBANA</td><td>5.87</td><td>1</td><td>Basic</td></tr><tr><td>MAUA</td><td>JD ZAIRA</td><td>6.29</td><td>1</td><td>Basic</td></tr><tr><td>GOVERNADOR VALADARES</td><td>VILA RICA</td><td>5.99</td><td>1</td><td>Basic</td></tr><tr><td>LEOPOLDINA</td><td>CENTRO</td><td>5.87</td><td>3</td><td>Basic</td></tr><tr><td>BEBEDOURO</td><td>JARDIM JULIA</td><td>5.47</td><td>1</td><td>Basic</td></tr><tr><td>PELOTAS</td><td>AREAL</td><td>6.09</td><td>6</td><td>Basic</td></tr><tr><td>CAMPO LARGO</td><td>CENTRO</td><td>5.72</td><td>2</td><td>Basic</td></tr><tr><td>CATANDUVA</td><td>CENTRO</td><td>6.05</td><td>3</td><td>Basic</td></tr><tr><td>TRES LAGOAS</td><td>JARDIM ALVORADA</td><td>5.91</td><td>2</td><td>Basic</td></tr><tr><td>SAO JOAO DEL REI</td><td>MATOSINHOS</td><td>5.74</td><td>2</td><td>Basic</td></tr><tr><td>VOTUPORANGA</td><td>JARDIM SAO JUDAS TADEU</td><td>6.02</td><td>1</td><td>Basic</td></tr><tr><td>ARARAS</td><td>JARDIM ANHANGUERA</td><td>5.83</td><td>1</td><td>Basic</td></tr><tr><td>SAO PAULO</td><td>BOSQUE DA SAUDE</td><td>6.52</td><td>1</td><td>Basic</td></tr><tr><td>AGUAS LINDAS DE GOIAS</td><td>CAMPING CLUBE</td><td>6.19</td><td>1</td><td>Basic</td></tr><tr><td>JATAI</td><td>SETOR EPAMINONDAS I</td><td>5.69</td><td>1</td><td>Basic</td></tr><tr><td>SAO PAULO</td><td>JD NS DO CARMO</td><td>6.59</td><td>1</td><td>Basic</td></tr><tr><td>CRICIUMA</td><td>RIO MAINA</td><td>5.84</td><td>1</td><td>Basic</td></tr><tr><td>IGARASSU</td><td>IGARASSU</td><td>5.74</td><td>1</td><td>Basic</td></tr><tr><td>PARACATU</td><td>PARACATUZINHO</td><td>6.14</td><td>2</td><td>Basic</td></tr><tr><td>PALMAS</td><td>PLANO DIRETOR SUL</td><td>5.59</td><td>4</td><td>Basic</td></tr><tr><td>CRUZ ALTA</td><td>BONINI</td><td>5.99</td><td>1</td><td>Basic</td></tr><tr><td>MARINGA</td><td>VILA MARUMBI</td><td>5.87</td><td>1</td><td>Basic</td></tr><tr><td>BARRETOS</td><td>FORTALEZA</td><td>5.59</td><td>1</td><td>Basic</td></tr><tr><td>JUAZEIRO</td><td>SANTO ANTONIO</td><td>6.44</td><td>2</td><td>Basic</td></tr><tr><td>IMPERATRIZ</td><td>CENTRO</td><td>5.96</td><td>2</td><td>Basic</td></tr><tr><td>SAO PAULO</td><td>JARDIM ELEDY</td><td>5.38</td><td>1</td><td>Basic</td></tr><tr><td>SAO PAULO</td><td>VILA VERA</td><td>5.39</td><td>1</td><td>Basic</td></tr><tr><td>ITUMBIARA</td><td>SETOR SANTA RITA</td><td>5.54</td><td>1</td><td>Basic</td></tr><tr><td>MARINGA</td><td>ZONA 04</td><td>5.54</td><td>1</td><td>Basic</td></tr><tr><td>DOURADOS</td><td>VILA PLANALTO</td><td>5.94</td><td>1</td><td>Basic</td></tr><tr><td>MOGI DAS CRUZES</td><td>JARDIM ARACY</td><td>5.94</td><td>1</td><td>Basic</td></tr><tr><td>JUNDIAI</td><td>VILA RAMI</td><td>4.94</td><td>1</td><td>Basic</td></tr><tr><td>CAMPINA GRANDE</td><td>DINAMERICA</td><td>5.74</td><td>1</td><td>Basic</td></tr><tr><td>MARINGA</td><td>PARQUE RESIDENCIAL TUIUTI</td><td>5.98</td><td>1</td><td>Basic</td></tr><tr><td>PASSOS</td><td>JD. PROGRESSO</td><td>5.42</td><td>1</td><td>Basic</td></tr><tr><td>SETE LAGOAS</td><td>null</td><td>5.64</td><td>1</td><td>Basic</td></tr><tr><td>BRASILIA</td><td>SAMAMBAIA</td><td>5.78</td><td>9</td><td>Premium</td></tr><tr><td>DUQUE DE CAXIAS</td><td>CHACARA RIO PETROPOLIS</td><td>5.29</td><td>1</td><td>Basic</td></tr><tr><td>LAJEADO</td><td>HIDRAULICA</td><td>5.59</td><td>1</td><td>Basic</td></tr><tr><td>BELEM</td><td>CONDOR</td><td>5.90</td><td>1</td><td>Basic</td></tr><tr><td>CONCORDIA</td><td>CENTRO</td><td>6.31</td><td>3</td><td>Basic</td></tr><tr><td>JOSE BONIFACIO</td><td>VILA SAUDADE</td><td>5.65</td><td>1</td><td>Basic</td></tr><tr><td>UBERLANDIA</td><td>PRESIDENTE ROOSEVELT</td><td>5.68</td><td>2</td><td>Basic</td></tr><tr><td>CONTAGEM</td><td>PARQUE RECREIO</td><td>5.72</td><td>2</td><td>Basic</td></tr><tr><td>ALTAMIRA</td><td>MUTIRAO</td><td>6.51</td><td>1</td><td>Basic</td></tr><tr><td>FRANCA</td><td>VILA SANTA TEREZINHA</td><td>5.49</td><td>1</td><td>Basic</td></tr><tr><td>SANTA MARIA</td><td>PATRONATO</td><td>6.40</td><td>3</td><td>Basic</td></tr><tr><td>AGUAS LINDAS DE GOIAS</td><td>JARDIM GUAIRA II</td><td>6.29</td><td>1</td><td>Basic</td></tr><tr><td>SOROCABA</td><td>ZONA INDUSTRIAL</td><td>5.64</td><td>1</td><td>Basic</td></tr><tr><td>CACOAL</td><td>TEIXEIRAO</td><td>6.22</td><td>1</td><td>Basic</td></tr><tr><td>FORTALEZA</td><td>DIONISIO TORRES</td><td>5.84</td><td>1</td><td>Basic</td></tr><tr><td>ALEGRETE</td><td>BAIRRO NOVA BRASILIA</td><td>6.12</td><td>1</td><td>Basic</td></tr><tr><td>CASCAVEL</td><td>ALTO ALEGRE</td><td>5.99</td><td>1</td><td>Basic</td></tr><tr><td>PAULINIA</td><td>BETEL</td><td>5.99</td><td>1</td><td>Basic</td></tr><tr><td>COTIA</td><td>OUTEIRO DE PASSARGADA</td><td>6.09</td><td>1</td><td>Basic</td></tr><tr><td>PETROLINA</td><td>JARDIM MARAVILHA</td><td>6.19</td><td>1</td><td>Basic</td></tr><tr><td>PIRACICABA</td><td>VILA AREAO</td><td>5.49</td><td>1</td><td>Basic</td></tr><tr><td>SAO PAULO</td><td>JD SAPOPEMBA</td><td>5.89</td><td>1</td><td>Basic</td></tr><tr><td>JUNDIAI</td><td>MEDEIROS</td><td>6.15</td><td>2</td><td>Basic</td></tr><tr><td>CURITIBA</td><td>CENTRO</td><td>5.44</td><td>1</td><td>Basic</td></tr><tr><td>REDENCAO</td><td>ENTRONCAMENTO</td><td>6.17</td><td>1</td><td>Basic</td></tr><tr><td>JUNDIAI</td><td>VILA DAS HORTENCIAS</td><td>5.73</td><td>1</td><td>Basic</td></tr><tr><td>ACAILANDIA</td><td>RESIDENCIAL WR</td><td>5.84</td><td>1</td><td>Basic</td></tr><tr><td>SAQUAREMA</td><td>PRAIA SECA</td><td>6.50</td><td>1</td><td>Basic</td></tr><tr><td>FORTALEZA</td><td>JANGURUSSU</td><td>6.03</td><td>3</td><td>Basic</td></tr><tr><td>CAMPINA GRANDE</td><td>DISTRITO MECANICOS</td><td>5.94</td><td>1</td><td>Basic</td></tr><tr><td>CAMPINA GRANDE</td><td>VILA CABRAL</td><td>5.52</td><td>1</td><td>Basic</td></tr><tr><td>PORTO SEGURO</td><td>CENTRO</td><td>6.83</td><td>1</td><td>Basic</td></tr><tr><td>SAO PAULO</td><td>VILA  EMA</td><td>5.69</td><td>1</td><td>Basic</td></tr><tr><td>PARNAIBA</td><td>SAO JUDAS TADEU</td><td>5.79</td><td>1</td><td>Basic</td></tr><tr><td>COTIA</td><td>JARDIM SAO VICENTE</td><td>5.65</td><td>1</td><td>Basic</td></tr><tr><td>PASSO FUNDO</td><td>SAO CRISTOVAO</td><td>5.99</td><td>1</td><td>Basic</td></tr><tr><td>SAO SEBASTIAO DO PARAISO</td><td>VIDA DALVA</td><td>5.80</td><td>1</td><td>Basic</td></tr><tr><td>CONTAGEM</td><td>AGUA BRANCA</td><td>5.69</td><td>1</td><td>Basic</td></tr><tr><td>CASCAVEL</td><td>CENTRO</td><td>5.95</td><td>18</td><td>VIP</td></tr><tr><td>MONTE ALTO</td><td>CENTENARIO</td><td>5.47</td><td>1</td><td>Basic</td></tr><tr><td>VALPARAISO DE GOIAS</td><td>SETOR DE CHACARAS ANHANGUERA B</td><td>5.67</td><td>1</td><td>Basic</td></tr><tr><td>CONSELHEIRO LAFAIETE</td><td>SAO DIMAS</td><td>5.69</td><td>1</td><td>Basic</td></tr><tr><td>CURITIBA</td><td>REBOUCAS</td><td>5.83</td><td>3</td><td>Basic</td></tr><tr><td>ITAPETININGA</td><td>TUPI</td><td>5.46</td><td>1</td><td>Basic</td></tr><tr><td>TERESINA</td><td>FATIMA</td><td>5.95</td><td>1</td><td>Basic</td></tr><tr><td>SAO PAULO</td><td>PARI</td><td>4.75</td><td>2</td><td>Basic</td></tr><tr><td>JOAO PESSOA</td><td>TAMBIÁ</td><td>5.53</td><td>1</td><td>Basic</td></tr><tr><td>BARUERI</td><td>JARDIM JULIO</td><td>5.54</td><td>1</td><td>Basic</td></tr><tr><td>LAGUNA</td><td>MAGALHAES</td><td>6.05</td><td>1</td><td>Basic</td></tr><tr><td>CALDAS NOVAS</td><td>JARDIM BELVEDERE</td><td>5.95</td><td>1</td><td>Basic</td></tr><tr><td>VITORIA DA CONQUISTA</td><td>CANDEIAS</td><td>5.82</td><td>2</td><td>Basic</td></tr><tr><td>UBERABA</td><td>NOSSA SENHORA DA ABADIA</td><td>5.69</td><td>1</td><td>Basic</td></tr><tr><td>MONTES CLAROS</td><td>ALTO SÃO JOÃO</td><td>5.98</td><td>1</td><td>Basic</td></tr><tr><td>CHAPECO</td><td>QUEDAS DO PALMITAL</td><td>5.58</td><td>1</td><td>Basic</td></tr><tr><td>CAMPINAS</td><td>PARQUE VALENCA II</td><td>7.78</td><td>1</td><td>Basic</td></tr><tr><td>RESENDE</td><td>ITAPUCA</td><td>6.19</td><td>2</td><td>Basic</td></tr><tr><td>ITAUNA</td><td>GRACAS</td><td>5.89</td><td>1</td><td>Basic</td></tr><tr><td>CAMACARI</td><td>JARDIM LIMOEIRO</td><td>6.16</td><td>1</td><td>Basic</td></tr><tr><td>SAO BERNARDO DO CAMPO</td><td>PQ. TERRA NOVA</td><td>5.69</td><td>1</td><td>Basic</td></tr><tr><td>DUQUE DE CAXIAS</td><td>JARDIM BOA VISTA II</td><td>5.22</td><td>1</td><td>Basic</td></tr><tr><td>MACAPA</td><td>CENTRAL</td><td>6.38</td><td>3</td><td>Basic</td></tr><tr><td>ALFENAS</td><td>JARDIM ELITE</td><td>5.86</td><td>1</td><td>Basic</td></tr><tr><td>PAULINIA</td><td>JARDIM AMERICA</td><td>5.74</td><td>1</td><td>Basic</td></tr><tr><td>PARNAIBA</td><td>BOA ESPERANCA</td><td>6.19</td><td>1</td><td>Basic</td></tr><tr><td>ALVORADA</td><td>BELA VISTA</td><td>5.74</td><td>2</td><td>Basic</td></tr><tr><td>JAU</td><td>JARDIM FERREIRA DIAS</td><td>5.94</td><td>1</td><td>Basic</td></tr><tr><td>PIMENTA BUENO</td><td>SETOR INDUSTRIAL</td><td>6.08</td><td>1</td><td>Basic</td></tr><tr><td>IPATINGA</td><td>BOM RETIRO</td><td>5.62</td><td>1</td><td>Basic</td></tr><tr><td>SALVADOR</td><td>PITUACU</td><td>6.24</td><td>2</td><td>Basic</td></tr><tr><td>TUPA</td><td>VILA INGLESA</td><td>5.99</td><td>1</td><td>Basic</td></tr><tr><td>FEIRA DE SANTANA</td><td>PEDRA DO DESCANSO</td><td>6.00</td><td>2</td><td>Basic</td></tr><tr><td>SAO BERNARDO DO CAMPO</td><td>PARQUE DOS PASSAROS</td><td>5.99</td><td>1</td><td>Basic</td></tr><tr><td>SAO JOAO DA BOA VISTA</td><td>BELA VISTA</td><td>6.14</td><td>1</td><td>Basic</td></tr><tr><td>ARAPIRACA</td><td>PLANALTO</td><td>6.05</td><td>2</td><td>Basic</td></tr><tr><td>PIRIPIRI</td><td>RUSSINHA</td><td>6.22</td><td>1</td><td>Basic</td></tr><tr><td>GARANHUNS</td><td>SANTO ANTONIO</td><td>5.54</td><td>1</td><td>Basic</td></tr><tr><td>VARGINHA</td><td>REZENDE</td><td>5.97</td><td>1</td><td>Basic</td></tr><tr><td>JACAREI</td><td>PARQUE BRASIL</td><td>5.77</td><td>1</td><td>Basic</td></tr><tr><td>VITORIA</td><td>GURIGICA</td><td>5.85</td><td>1</td><td>Basic</td></tr><tr><td>MARILIA</td><td>ADOLPHO BIM</td><td>5.99</td><td>1</td><td>Basic</td></tr><tr><td>APARECIDA DE GOIANIA</td><td>SITIOS SANTA LUZIA</td><td>5.74</td><td>1</td><td>Basic</td></tr><tr><td>XINGUARA</td><td>MARAJOARA</td><td>6.09</td><td>1</td><td>Basic</td></tr><tr><td>CANINDE</td><td>SANTA LUZIA</td><td>6.09</td><td>1</td><td>Basic</td></tr><tr><td>SAO PAULO</td><td>VARZEA DA BARRA FUNDA</td><td>5.59</td><td>1</td><td>Basic</td></tr><tr><td>DOURADOS</td><td>JARDIM CARAMURU</td><td>5.98</td><td>2</td><td>Basic</td></tr><tr><td>BAGE</td><td>GETULIO VARGAS</td><td>6.70</td><td>3</td><td>Basic</td></tr><tr><td>POUSO ALEGRE</td><td>CRUZ ALTA</td><td>5.64</td><td>1</td><td>Basic</td></tr><tr><td>CURITIBA</td><td>PILARZINHO</td><td>5.96</td><td>3</td><td>Basic</td></tr><tr><td>SALGUEIRO</td><td>NOSSA SENHORA APAREC</td><td>5.57</td><td>1</td><td>Basic</td></tr><tr><td>CONSELHEIRO LAFAIETE</td><td>SANTA CRUZ</td><td>5.54</td><td>1</td><td>Basic</td></tr><tr><td>SAO CAETANO DO SUL</td><td>VL BARCELONA</td><td>5.44</td><td>1</td><td>Basic</td></tr><tr><td>FORTALEZA</td><td>BOM JARDIM</td><td>5.75</td><td>1</td><td>Basic</td></tr><tr><td>SAO LUIS</td><td>VILA BACANGA</td><td>5.57</td><td>2</td><td>Basic</td></tr><tr><td>UBERLANDIA</td><td>TIBERY</td><td>5.59</td><td>2</td><td>Basic</td></tr><tr><td>SANTO ANTONIO DE PADUA</td><td>PRIMEIRO</td><td>5.99</td><td>1</td><td>Basic</td></tr><tr><td>ARACATUBA</td><td>JARDIM NOVA IORQUE</td><td>6.29</td><td>1</td><td>Basic</td></tr><tr><td>PINDAMONHANGABA</td><td>SOCORRO</td><td>5.69</td><td>1</td><td>Basic</td></tr><tr><td>CANOAS</td><td>NOSSA SENHORA DAS GRACAS</td><td>5.99</td><td>1</td><td>Basic</td></tr><tr><td>CONTAGEM</td><td>NOVO ELDORADO</td><td>5.69</td><td>1</td><td>Basic</td></tr><tr><td>CUIABA</td><td>JD. PETROPOLIS</td><td>6.19</td><td>1</td><td>Basic</td></tr><tr><td>APARECIDA DE GOIANIA</td><td>INDEPENDENCIA</td><td>5.59</td><td>1</td><td>Basic</td></tr><tr><td>SAPUCAIA DO SUL</td><td>NOVA SAPUCAIA</td><td>5.56</td><td>1</td><td>Basic</td></tr><tr><td>OSASCO</td><td>JD BARONEZA</td><td>5.89</td><td>1</td><td>Basic</td></tr><tr><td>CAXIAS DO SUL</td><td>CHARQUEADAS</td><td>6.04</td><td>1</td><td>Basic</td></tr><tr><td>SAO VICENTE</td><td>JARDIM PARAISO</td><td>5.94</td><td>1</td><td>Basic</td></tr><tr><td>SAO LEOPOLDO</td><td>CENTRO</td><td>5.07</td><td>2</td><td>Basic</td></tr><tr><td>RECIFE</td><td>CAMPO GRANDE</td><td>5.44</td><td>2</td><td>Basic</td></tr><tr><td>CAMPO GRANDE</td><td>TIRADENTES</td><td>5.90</td><td>2</td><td>Basic</td></tr><tr><td>SOROCABA</td><td>NOVA SOROCABA</td><td>5.89</td><td>1</td><td>Basic</td></tr><tr><td>CRUZEIRO DO SUL</td><td>COPACABANA</td><td>7.66</td><td>2</td><td>Basic</td></tr><tr><td>SANTA MARIA</td><td>NOSSA SRA DE LOURDES</td><td>5.89</td><td>1</td><td>Basic</td></tr><tr><td>PORTO VELHO</td><td>SAO CRISTOVAO</td><td>6.59</td><td>1</td><td>Basic</td></tr><tr><td>BOA VISTA</td><td>PRICUMA</td><td>6.42</td><td>1</td><td>Basic</td></tr><tr><td>JABOTICABAL</td><td>CENTRO</td><td>5.69</td><td>2</td><td>Basic</td></tr><tr><td>PIRASSUNUNGA</td><td>JARDIM SANTA RITA</td><td>6.19</td><td>1</td><td>Basic</td></tr><tr><td>JUIZ DE FORA</td><td>CENTRO</td><td>5.52</td><td>3</td><td>Basic</td></tr><tr><td>TOLEDO</td><td>VILA PANORAMA</td><td>5.62</td><td>1</td><td>Basic</td></tr><tr><td>JUAZEIRO</td><td>ALTO DA MARAVILHA</td><td>6.19</td><td>2</td><td>Basic</td></tr><tr><td>CORONEL FABRICIANO</td><td>CALADINHO</td><td>5.76</td><td>1</td><td>Basic</td></tr><tr><td>PIRACICABA</td><td>JARDIM PAULICEIA</td><td>5.39</td><td>1</td><td>Basic</td></tr><tr><td>BRUMADO</td><td>DR JURACY</td><td>5.94</td><td>1</td><td>Basic</td></tr><tr><td>PARNAIBA</td><td>SÃO FRANCISCO DA GUARITA</td><td>5.69</td><td>1</td><td>Basic</td></tr><tr><td>NOSSA SENHORA DO SOCORRO</td><td>CENTRO</td><td>6.29</td><td>1</td><td>Basic</td></tr><tr><td>CATANDUVA</td><td>VILA JUCA PEDRO</td><td>6.19</td><td>1</td><td>Basic</td></tr><tr><td>SAO JOSE DOS CAMPOS</td><td>PERNAMBUCANA</td><td>6.29</td><td>1</td><td>Basic</td></tr><tr><td>CAUCAIA</td><td>BOQUEIRAO DO ARARA</td><td>5.19</td><td>1</td><td>Basic</td></tr><tr><td>OURO PRETO</td><td>PILAR</td><td>5.69</td><td>1</td><td>Basic</td></tr><tr><td>BLUMENAU</td><td>VORSTADT</td><td>6.24</td><td>1</td><td>Basic</td></tr><tr><td>CATANDUVA</td><td>PARQUE FLAMINGO</td><td>5.99</td><td>1</td><td>Basic</td></tr><tr><td>MOGI GUACU</td><td>JD. GUACU MIRIM</td><td>5.47</td><td>1</td><td>Basic</td></tr><tr><td>BALNEARIO CAMBORIU</td><td>CENTRO</td><td>6.34</td><td>2</td><td>Basic</td></tr><tr><td>SETE LAGOAS</td><td>SAO GERALDO</td><td>5.26</td><td>2</td><td>Basic</td></tr><tr><td>ACAILANDIA</td><td>PEQUIA</td><td>5.69</td><td>1</td><td>Basic</td></tr><tr><td>CANOAS</td><td>NITEROI</td><td>5.70</td><td>3</td><td>Basic</td></tr><tr><td>SENHOR DO BONFIM</td><td>CONTORNO</td><td>6.40</td><td>1</td><td>Basic</td></tr><tr><td>CACHOEIRA DO SUL</td><td>DREWS</td><td>5.85</td><td>1</td><td>Basic</td></tr><tr><td>COXIM</td><td>FLAVIO GARCIA</td><td>6.02</td><td>2</td><td>Basic</td></tr><tr><td>GRAVATAI</td><td>VILA BRANCA</td><td>5.71</td><td>1</td><td>Basic</td></tr><tr><td>ANAPOLIS</td><td>JARDIM DAS AMERICAS III ETAPA</td><td>5.94</td><td>1</td><td>Basic</td></tr><tr><td>CASCAVEL</td><td>SANTOS DUMONT</td><td>5.84</td><td>1</td><td>Basic</td></tr><tr><td>MONTE CARMELO</td><td>BOA VISTA</td><td>5.69</td><td>1</td><td>Basic</td></tr><tr><td>OSASCO</td><td>JD DAS FLORES</td><td>6.59</td><td>1</td><td>Basic</td></tr><tr><td>BETIM</td><td>CHACARA</td><td>5.74</td><td>1</td><td>Basic</td></tr><tr><td>NITEROI</td><td>SAO FRANCISCO</td><td>5.03</td><td>1</td><td>Basic</td></tr><tr><td>SANTA MARIA</td><td>PRESIDENTE JOAO GOULART</td><td>6.09</td><td>2</td><td>Basic</td></tr><tr><td>FORTALEZA</td><td>JANGURUSSU/MESSEJANA</td><td>5.69</td><td>1</td><td>Basic</td></tr><tr><td>COLOMBO</td><td>ATUBA</td><td>5.55</td><td>2</td><td>Basic</td></tr><tr><td>GUARATINGUETA</td><td>ENGENHEIRO NEIVA</td><td>6.14</td><td>1</td><td>Basic</td></tr><tr><td>FORTALEZA</td><td>MONTE CASTELO</td><td>6.19</td><td>1</td><td>Basic</td></tr><tr><td>VICOSA</td><td>CENTRO</td><td>6.22</td><td>2</td><td>Basic</td></tr><tr><td>RIO DE JANEIRO</td><td>REALENGO</td><td>4.19</td><td>1</td><td>Basic</td></tr><tr><td>DELMIRO GOUVEIA</td><td>CENTRO</td><td>6.78</td><td>6</td><td>Basic</td></tr><tr><td>PATO BRANCO</td><td>CENTRO</td><td>5.99</td><td>2</td><td>Basic</td></tr><tr><td>VILHENA</td><td>CENTRO</td><td>6.34</td><td>4</td><td>Basic</td></tr><tr><td>SUMARE</td><td>PQ.RES.M.VASCONCELOS</td><td>5.55</td><td>1</td><td>Basic</td></tr><tr><td>SUMARE</td><td>JARDIM NOVA TERRA (NOVA VENEZA)</td><td>5.44</td><td>1</td><td>Basic</td></tr><tr><td>CACAPAVA</td><td>BAIRRO DO GRAMA</td><td>5.44</td><td>1</td><td>Basic</td></tr><tr><td>VINHEDO</td><td>SAO JOAQUIM</td><td>6.14</td><td>1</td><td>Basic</td></tr><tr><td>MOSSORO</td><td>PLANALTO TREZE DE MAIO</td><td>5.79</td><td>1</td><td>Basic</td></tr><tr><td>MOSSORO</td><td>DIX-SEPT ROSADO</td><td>5.94</td><td>1</td><td>Basic</td></tr><tr><td>RIO DE JANEIRO</td><td>BANGU</td><td>5.22</td><td>2</td><td>Basic</td></tr><tr><td>UBERABA</td><td>ABADIA</td><td>5.99</td><td>1</td><td>Basic</td></tr><tr><td>PIRIPIRI</td><td>PACIENCIA</td><td>6.09</td><td>1</td><td>Basic</td></tr><tr><td>ATIBAIA</td><td>ALVINOPOLIS</td><td>5.87</td><td>1</td><td>Basic</td></tr><tr><td>ATIBAIA</td><td>JARDIM DAS CEREJEIRAS</td><td>6.29</td><td>1</td><td>Basic</td></tr><tr><td>VITORIA DA CONQUISTA</td><td>BRASIL</td><td>6.08</td><td>2</td><td>Basic</td></tr><tr><td>CRATO</td><td>PINTO MADEIRA</td><td>6.10</td><td>1</td><td>Basic</td></tr><tr><td>JABOTICABAL</td><td>CIDADE JARDIM</td><td>5.94</td><td>1</td><td>Basic</td></tr><tr><td>APARECIDA DE GOIANIA</td><td>ST GARAVELO</td><td>5.64</td><td>1</td><td>Basic</td></tr><tr><td>GOIANIA</td><td>VL STA EFIGENIA</td><td>5.94</td><td>1</td><td>Basic</td></tr><tr><td>POA</td><td>CENTRO</td><td>5.64</td><td>1</td><td>Basic</td></tr><tr><td>BRUSQUE</td><td>STEFFEN</td><td>6.25</td><td>1</td><td>Basic</td></tr><tr><td>BAYEUX</td><td>SESI</td><td>5.35</td><td>2</td><td>Basic</td></tr><tr><td>SAQUAREMA</td><td>JACONE (SAMPAIO CORREIA)</td><td>6.89</td><td>1</td><td>Basic</td></tr><tr><td>PELOTAS</td><td>TRES VENDAS</td><td>6.04</td><td>9</td><td>Premium</td></tr><tr><td>JUAZEIRO</td><td>CENTRO</td><td>6.14</td><td>5</td><td>Basic</td></tr><tr><td>PRAIA GRANDE</td><td>JARDIM ALOHA</td><td>5.99</td><td>1</td><td>Basic</td></tr><tr><td>SALVADOR</td><td>PERIPERI</td><td>5.99</td><td>1</td><td>Basic</td></tr><tr><td>UBERLANDIA</td><td>MORUMBI</td><td>5.98</td><td>1</td><td>Basic</td></tr><tr><td>COXIM</td><td>ZONA SUBURBANA</td><td>5.82</td><td>1</td><td>Basic</td></tr><tr><td>ANAPOLIS</td><td>V STA MARIA NAZARE</td><td>5.79</td><td>1</td><td>Basic</td></tr><tr><td>VITORIA</td><td>PRAIA DO SUA</td><td>7.99</td><td>1</td><td>Basic</td></tr><tr><td>ANANINDEUA</td><td>AGUA BRANCA</td><td>7.79</td><td>1</td><td>Basic</td></tr><tr><td>ITACOATIARA</td><td>ARAÚJO COSTA</td><td>7.09</td><td>1</td><td>Basic</td></tr><tr><td>PATOS</td><td>BELO HORIZONTE</td><td>6.20</td><td>2</td><td>Basic</td></tr><tr><td>PETROLINA</td><td>MARIA AUXILIADORA</td><td>6.27</td><td>1</td><td>Basic</td></tr><tr><td>SAO CARLOS</td><td>MARIA STELA FAGA</td><td>5.61</td><td>1</td><td>Basic</td></tr><tr><td>TEIXEIRA DE FREITAS</td><td>ALAGOAS</td><td>6.29</td><td>1</td><td>Basic</td></tr><tr><td>VALENCA</td><td>SAO FELIX</td><td>5.95</td><td>3</td><td>Basic</td></tr><tr><td>BRAGANCA PAULISTA</td><td>JARDIM SANTA LUZIA</td><td>6.84</td><td>1</td><td>Basic</td></tr><tr><td>CACAPAVA</td><td>PIEDADE</td><td>5.57</td><td>1</td><td>Basic</td></tr><tr><td>GRAVATAI</td><td>SAO GERALDO</td><td>5.94</td><td>1</td><td>Basic</td></tr><tr><td>LINS</td><td>RESIDENC. FORTALEZA</td><td>6.08</td><td>1</td><td>Basic</td></tr><tr><td>ITUIUTABA</td><td>CENTRO</td><td>5.95</td><td>6</td><td>Basic</td></tr><tr><td>ALVORADA</td><td>TIJUCA</td><td>5.49</td><td>1</td><td>Basic</td></tr><tr><td>GOIANIA</td><td>JARDIM EUROPA</td><td>5.69</td><td>5</td><td>Basic</td></tr><tr><td>MOSSORO</td><td>REDENCAO</td><td>5.69</td><td>1</td><td>Basic</td></tr><tr><td>BALSAS</td><td>POTOSI</td><td>6.67</td><td>1</td><td>Basic</td></tr><tr><td>BELO HORIZONTE</td><td>SION</td><td>6.09</td><td>2</td><td>Basic</td></tr><tr><td>GUARULHOS</td><td>JARDIM PRESIDENTE DUTRA</td><td>6.29</td><td>3</td><td>Basic</td></tr><tr><td>GUARULHOS</td><td>CENTRO</td><td>6.86</td><td>2</td><td>Basic</td></tr><tr><td>SIMOES FILHO</td><td>SEDE</td><td>5.27</td><td>1</td><td>Basic</td></tr><tr><td>PASSO FUNDO</td><td>JOSE ALEXANDRE ZACHIA</td><td>6.04</td><td>1</td><td>Basic</td></tr><tr><td>MOGI DAS CRUZES</td><td>ALTO DO IPIRANGA</td><td>6.49</td><td>1</td><td>Basic</td></tr><tr><td>SALTO</td><td>PORTO GOES</td><td>5.82</td><td>1</td><td>Basic</td></tr><tr><td>LAGUNA</td><td>PROGRESSO</td><td>5.99</td><td>1</td><td>Basic</td></tr><tr><td>MANAUS</td><td>DISTRITO INDUSTRIAL</td><td>6.21</td><td>1</td><td>Basic</td></tr><tr><td>CARUARU</td><td>DISTRITO INDUSTRIAL</td><td>5.55</td><td>1</td><td>Basic</td></tr><tr><td>TERESOPOLIS</td><td>SANTA ROSA</td><td>5.19</td><td>1</td><td>Basic</td></tr><tr><td>ANGRA DOS REIS</td><td>PARQUE PEREQUE (MAMBUCABA)</td><td>6.89</td><td>1</td><td>Basic</td></tr><tr><td>MACEIO</td><td>JARDIM PETROPOLIS</td><td>5.59</td><td>1</td><td>Basic</td></tr><tr><td>ITABUNA</td><td>LOMANTO JUNIOR</td><td>5.69</td><td>1</td><td>Basic</td></tr><tr><td>GOIATUBA</td><td>ZONA RURAL</td><td>5.44</td><td>1</td><td>Basic</td></tr><tr><td>CACADOR</td><td>CENTRO</td><td>6.22</td><td>3</td><td>Basic</td></tr><tr><td>XINGUARA</td><td>CENTRO</td><td>6.04</td><td>2</td><td>Basic</td></tr><tr><td>JUAZEIRO DO NORTE</td><td>TRES MARIAS</td><td>5.92</td><td>1</td><td>Basic</td></tr><tr><td>BELO HORIZONTE</td><td>CACHOEIRINHA</td><td>4.89</td><td>1</td><td>Basic</td></tr><tr><td>VINHEDO</td><td>SANTA CLAUDINA</td><td>5.55</td><td>1</td><td>Basic</td></tr><tr><td>PARAISO DO TOCANTINS</td><td>CENTRO</td><td>5.71</td><td>3</td><td>Basic</td></tr><tr><td>NOVA LIMA</td><td>CHACARA BOM RETIRO</td><td>5.94</td><td>1</td><td>Basic</td></tr><tr><td>VOLTA REDONDA</td><td>NITEROI</td><td>6.59</td><td>1</td><td>Basic</td></tr><tr><td>CARUARU</td><td>UNIVERSITÁRIO</td><td>5.52</td><td>1</td><td>Basic</td></tr><tr><td>SAO PAULO</td><td>ITAIM PAULISTA</td><td>5.39</td><td>1</td><td>Basic</td></tr><tr><td>RECIFE</td><td>IBURA</td><td>5.76</td><td>1</td><td>Basic</td></tr><tr><td>TATUI</td><td>VILA BRASIL</td><td>5.94</td><td>1</td><td>Basic</td></tr><tr><td>SANTA CRUZ DO CAPIBARIBE</td><td>CENTRO</td><td>5.87</td><td>1</td><td>Basic</td></tr><tr><td>SANTO ANDRE</td><td>PARQUE JOAO RAMALHO</td><td>5.98</td><td>1</td><td>Basic</td></tr><tr><td>JANUARIA</td><td>VILA BRASILINA</td><td>6.12</td><td>1</td><td>Basic</td></tr><tr><td>OLIVEIRA</td><td>PERIMETRO DE EXPANSAO URBANA</td><td>5.78</td><td>1</td><td>Basic</td></tr><tr><td>JOAO PESSOA</td><td>OITIZEIRO</td><td>5.89</td><td>1</td><td>Basic</td></tr><tr><td>JUAZEIRO DO NORTE</td><td>ROMEIRAO</td><td>6.50</td><td>1</td><td>Basic</td></tr><tr><td>PARINTINS</td><td>SAO BENEDITO</td><td>6.89</td><td>1</td><td>Basic</td></tr><tr><td>CASTANHAL</td><td>SAUDADE I</td><td>5.69</td><td>1</td><td>Basic</td></tr><tr><td>GOIANIA</td><td>VI ROSA</td><td>5.89</td><td>1</td><td>Basic</td></tr><tr><td>CACADOR</td><td>SORGATTO</td><td>5.99</td><td>1</td><td>Basic</td></tr><tr><td>BENTO GONCALVES</td><td>CIDADE ALTA</td><td>5.34</td><td>1</td><td>Basic</td></tr><tr><td>TATUI</td><td>ENXOVIA</td><td>5.52</td><td>1</td><td>Basic</td></tr><tr><td>RIO DE JANEIRO</td><td>JARDIM SULACAP</td><td>5.69</td><td>1</td><td>Basic</td></tr><tr><td>FORTALEZA</td><td>CIDADE DOS FUNCIONÁRIOS</td><td>5.99</td><td>1</td><td>Basic</td></tr><tr><td>CAMPO GRANDE</td><td>JARDIM CENTENARIO</td><td>5.68</td><td>1</td><td>Basic</td></tr><tr><td>ITATIBA</td><td>VILA SANTA CLARA</td><td>6.18</td><td>2</td><td>Basic</td></tr><tr><td>CAMPINAS</td><td>JARDIM PLANALTO</td><td>6.09</td><td>1</td><td>Basic</td></tr><tr><td>LAGARTO</td><td>JARDIM CAMPO NOVO</td><td>5.78</td><td>1</td><td>Basic</td></tr><tr><td>SAO PAULO</td><td>IMIRIM</td><td>5.19</td><td>2</td><td>Basic</td></tr><tr><td>SAO PAULO</td><td>CAMBUCI</td><td>5.99</td><td>2</td><td>Basic</td></tr><tr><td>PARNAMIRIM</td><td>CAJUPIRANGA</td><td>5.79</td><td>1</td><td>Basic</td></tr><tr><td>TRES CORACOES</td><td>CENTRO</td><td>6.29</td><td>1</td><td>Basic</td></tr><tr><td>SERTAOZINHO</td><td>JARDIM NASSIM MAMED</td><td>5.84</td><td>1</td><td>Basic</td></tr><tr><td>ARACAJU</td><td>GETULIO VARGAS</td><td>5.61</td><td>3</td><td>Basic</td></tr><tr><td>SAO JOSE DO RIO PRETO</td><td>JARDIM CONCEICAO</td><td>5.67</td><td>2</td><td>Basic</td></tr><tr><td>PONTA PORA</td><td>VILA FERROVIARIA I</td><td>6.13</td><td>1</td><td>Basic</td></tr><tr><td>COLOMBO</td><td>JARDIM MARAMBAIA</td><td>5.99</td><td>1</td><td>Basic</td></tr><tr><td>CAICO</td><td>PENEDO</td><td>6.86</td><td>2</td><td>Basic</td></tr><tr><td>JUIZ DE FORA</td><td>BARBOSA LAGE</td><td>5.73</td><td>1</td><td>Basic</td></tr><tr><td>CAMPO GRANDE</td><td>VILA BANDEIRANTES</td><td>5.85</td><td>2</td><td>Basic</td></tr><tr><td>SAO CARLOS</td><td>VILA ARNALDO</td><td>6.22</td><td>1</td><td>Basic</td></tr><tr><td>SAO JOSE DO RIO PRETO</td><td>JARDIM MARAJO</td><td>5.49</td><td>1</td><td>Basic</td></tr><tr><td>UMUARAMA</td><td>ZONA II</td><td>6.24</td><td>1</td><td>Basic</td></tr><tr><td>PETROPOLIS</td><td>CAPELA</td><td>5.69</td><td>1</td><td>Basic</td></tr><tr><td>TRES RIOS</td><td>PORTAO VERMELHO</td><td>5.81</td><td>1</td><td>Basic</td></tr><tr><td>CRICIUMA</td><td>QUARTA LINHA</td><td>5.64</td><td>1</td><td>Basic</td></tr><tr><td>BOA VISTA</td><td>CENTENARIO</td><td>6.74</td><td>1</td><td>Basic</td></tr><tr><td>SAO PAULO</td><td>PARQUE BOTURUSSU</td><td>5.99</td><td>1</td><td>Basic</td></tr><tr><td>ARAPIRACA</td><td>JARDIM TROPICAL</td><td>5.99</td><td>1</td><td>Basic</td></tr><tr><td>SAO JOSE DE RIBAMAR</td><td>MAIOBINHA</td><td>5.59</td><td>1</td><td>Basic</td></tr><tr><td>SAO LUIS</td><td>IPASE</td><td>5.59</td><td>1</td><td>Basic</td></tr><tr><td>ARAPONGAS</td><td>JARDIM PRIMAVERA</td><td>5.69</td><td>1</td><td>Basic</td></tr><tr><td>ATIBAIA</td><td>GUAXINDUVA</td><td>6.21</td><td>1</td><td>Basic</td></tr><tr><td>CAMPINA GRANDE</td><td>SAO JOSE</td><td>5.98</td><td>1</td><td>Basic</td></tr><tr><td>NOVA FRIBURGO</td><td>YPU</td><td>5.69</td><td>1</td><td>Basic</td></tr><tr><td>CONCORDIA</td><td>FLORESTA</td><td>6.15</td><td>1</td><td>Basic</td></tr><tr><td>DUQUE DE CAXIAS</td><td>JARDIM GRAMACHO - DUQUE DE CAXIAS</td><td>5.69</td><td>1</td><td>Basic</td></tr><tr><td>LAJEADO</td><td>SÃO CRISTÓVÃO</td><td>5.69</td><td>1</td><td>Basic</td></tr><tr><td>UMUARAMA</td><td>ZONA VII</td><td>5.64</td><td>1</td><td>Basic</td></tr><tr><td>LINS</td><td>PARQUE EMPRESARIAL ROLANDE ALVES PEREIRA</td><td>5.79</td><td>1</td><td>Basic</td></tr><tr><td>ANGRA DOS REIS</td><td>FRADE</td><td>6.45</td><td>1</td><td>Basic</td></tr><tr><td>SERRA</td><td>PORTAL DE JACARAIPE</td><td>5.94</td><td>1</td><td>Basic</td></tr><tr><td>ITAGUAI</td><td>BRISA MAR</td><td>5.57</td><td>4</td><td>Basic</td></tr><tr><td>SENHOR DO BONFIM</td><td>RODOVIA</td><td>5.89</td><td>1</td><td>Basic</td></tr><tr><td>SAO PAULO</td><td>CHACARA SAO JOAO</td><td>5.51</td><td>1</td><td>Basic</td></tr><tr><td>VALPARAISO DE GOIAS</td><td>CEU AZUL</td><td>5.67</td><td>1</td><td>Basic</td></tr><tr><td>PARAISO DO TOCANTINS</td><td>VILA MILENA</td><td>5.67</td><td>1</td><td>Basic</td></tr><tr><td>ATIBAIA</td><td>ITAPETINGA</td><td>5.89</td><td>1</td><td>Basic</td></tr><tr><td>CONCORDIA</td><td>BAIRRO SAO CRISTOVAO</td><td>5.88</td><td>1</td><td>Basic</td></tr><tr><td>GRAMADO</td><td>VARZEA GRANDE</td><td>6.72</td><td>1</td><td>Basic</td></tr><tr><td>VARGINHA</td><td>JARDIM ANDERE</td><td>5.85</td><td>2</td><td>Basic</td></tr><tr><td>VALENCA</td><td>APARECIDA</td><td>6.49</td><td>1</td><td>Basic</td></tr><tr><td>SAO PAULO</td><td>MOEMA</td><td>5.99</td><td>1</td><td>Basic</td></tr><tr><td>UBERLANDIA</td><td>JARDIM BRASILIA</td><td>5.72</td><td>2</td><td>Basic</td></tr><tr><td>EUNAPOLIS</td><td>JUCA ROSA</td><td>6.02</td><td>1</td><td>Basic</td></tr><tr><td>VOTUPORANGA</td><td>ZONA RURAL</td><td>5.79</td><td>1</td><td>Basic</td></tr><tr><td>SAO JOSE DOS PINHAIS</td><td>JARDIM YPE</td><td>6.24</td><td>1</td><td>Basic</td></tr><tr><td>JOAO PINHEIRO</td><td>CENTRO</td><td>5.74</td><td>4</td><td>Basic</td></tr><tr><td>UBERLANDIA</td><td>INDUSTRIAL</td><td>5.59</td><td>1</td><td>Basic</td></tr><tr><td>LIMEIRA</td><td>CENTRO</td><td>5.93</td><td>3</td><td>Basic</td></tr><tr><td>ALENQUER</td><td>ANINGAL</td><td>6.95</td><td>1</td><td>Basic</td></tr><tr><td>CASTRO</td><td>RIO BRANCO</td><td>5.74</td><td>1</td><td>Basic</td></tr><tr><td>SAO JOSE DOS CAMPOS</td><td>VILA BETANIA</td><td>5.77</td><td>1</td><td>Basic</td></tr><tr><td>SANTANA DO LIVRAMENTO</td><td>PRADO</td><td>6.50</td><td>1</td><td>Basic</td></tr><tr><td>PONTA GROSSA</td><td>JARDIM CARVALHO</td><td>5.55</td><td>2</td><td>Basic</td></tr><tr><td>VILA VELHA</td><td>GLORIA</td><td>5.93</td><td>1</td><td>Basic</td></tr><tr><td>SAO PAULO</td><td>SÃO MIGUEL PAULISTA</td><td>5.59</td><td>2</td><td>Basic</td></tr><tr><td>PARINTINS</td><td>JOAO RIBEIRO</td><td>6.84</td><td>1</td><td>Basic</td></tr><tr><td>APARECIDA DE GOIANIA</td><td>VILA OLIVEIRA</td><td>5.79</td><td>1</td><td>Basic</td></tr><tr><td>BENTO GONCALVES</td><td>SAO BENTO</td><td>6.08</td><td>1</td><td>Basic</td></tr><tr><td>SUZANO</td><td>VILA SANTANA</td><td>5.02</td><td>1</td><td>Basic</td></tr><tr><td>SAO PAULO</td><td>PIRITUBA</td><td>5.88</td><td>3</td><td>Basic</td></tr><tr><td>TRINDADE</td><td>VILA PAI ETERNO</td><td>5.84</td><td>1</td><td>Basic</td></tr><tr><td>CURITIBA</td><td>BOA VISTA</td><td>5.86</td><td>2</td><td>Basic</td></tr><tr><td>PRAIA GRANDE</td><td>VILA TUPI</td><td>5.69</td><td>1</td><td>Basic</td></tr><tr><td>ANAPOLIS</td><td>PARQUE SAO JOAO</td><td>5.84</td><td>1</td><td>Basic</td></tr><tr><td>RIO LARGO</td><td>PREF ANTONIO LINS SOUZA</td><td>5.92</td><td>1</td><td>Basic</td></tr><tr><td>SAO PAULO</td><td>VILA ORATORIO</td><td>5.59</td><td>1</td><td>Basic</td></tr><tr><td>POA</td><td>VILA LUCIA</td><td>5.39</td><td>1</td><td>Basic</td></tr><tr><td>SERRA</td><td>SAO JUDAS TADEU</td><td>6.19</td><td>1</td><td>Basic</td></tr><tr><td>EUNAPOLIS</td><td>URBIS I</td><td>6.05</td><td>1</td><td>Basic</td></tr><tr><td>CRICIUMA</td><td>CENTRO</td><td>5.68</td><td>1</td><td>Basic</td></tr><tr><td>MACAPA</td><td>TREM</td><td>6.03</td><td>1</td><td>Basic</td></tr><tr><td>BARRA MANSA</td><td>CENTRO</td><td>6.00</td><td>5</td><td>Basic</td></tr><tr><td>LAGUNA</td><td>MATO ALTO</td><td>5.99</td><td>1</td><td>Basic</td></tr><tr><td>SAO PAULO</td><td>BOM RETIRO</td><td>4.79</td><td>1</td><td>Basic</td></tr><tr><td>ITABORAI</td><td>MANILHA</td><td>6.47</td><td>1</td><td>Basic</td></tr><tr><td>SAO CARLOS</td><td>VILA LUTFALLA</td><td>5.89</td><td>1</td><td>Basic</td></tr><tr><td>DUQUE DE CAXIAS</td><td>XEREM</td><td>5.29</td><td>1</td><td>Basic</td></tr><tr><td>CORONEL FABRICIANO</td><td>MORADA DO VALE</td><td>5.74</td><td>1</td><td>Basic</td></tr><tr><td>PALMEIRA DOS INDIOS</td><td>JOSE MAIA COSTA</td><td>6.15</td><td>2</td><td>Basic</td></tr><tr><td>SETE LAGOAS</td><td>SANTA ELISA</td><td>5.44</td><td>1</td><td>Basic</td></tr><tr><td>DIADEMA</td><td>ELDORADO</td><td>5.89</td><td>1</td><td>Basic</td></tr><tr><td>CAMPOS DOS GOYTACAZES</td><td>MINEIROS</td><td>5.77</td><td>1</td><td>Basic</td></tr><tr><td>ARAPONGAS</td><td>VILA INDUSTRIAL</td><td>5.47</td><td>1</td><td>Basic</td></tr><tr><td>PALMEIRA DOS INDIOS</td><td>VILA MARIA</td><td>6.21</td><td>2</td><td>Basic</td></tr><tr><td>GUARULHOS</td><td>PORTAL DOS GRAMADOS</td><td>5.69</td><td>1</td><td>Basic</td></tr><tr><td>JOAO PESSOA</td><td>BAIRRO DOS ESTADOS</td><td>5.68</td><td>1</td><td>Basic</td></tr><tr><td>SANTANA</td><td>VILA AMAZONAS</td><td>6.39</td><td>1</td><td>Basic</td></tr><tr><td>SAO MATEUS</td><td>VILA NOVA</td><td>4.79</td><td>1</td><td>Basic</td></tr><tr><td>PORTO NACIONAL</td><td>CENTRO</td><td>5.93</td><td>1</td><td>Basic</td></tr><tr><td>CAUCAIA</td><td>CAMPO GRANDE</td><td>5.47</td><td>1</td><td>Basic</td></tr><tr><td>CARAPICUIBA</td><td>ARISTON</td><td>5.59</td><td>1</td><td>Basic</td></tr><tr><td>CARATINGA</td><td>ZACARIAS</td><td>6.08</td><td>2</td><td>Basic</td></tr><tr><td>BARRA DO PIRAI</td><td>MATADOURO</td><td>5.58</td><td>2</td><td>Basic</td></tr><tr><td>CUIABA</td><td>JARDIM PETROPOLIS</td><td>5.94</td><td>1</td><td>Basic</td></tr><tr><td>COLOMBO</td><td>ROCA GRANDE</td><td>5.53</td><td>2</td><td>Basic</td></tr><tr><td>SAO VICENTE</td><td>CENTRO</td><td>6.00</td><td>3</td><td>Basic</td></tr><tr><td>VIAMAO</td><td>AUGUSTA</td><td>5.84</td><td>1</td><td>Basic</td></tr><tr><td>ADAMANTINA</td><td>CENTRO</td><td>5.65</td><td>2</td><td>Basic</td></tr><tr><td>CASTANHAL</td><td>IANETAMA</td><td>5.84</td><td>1</td><td>Basic</td></tr><tr><td>ANANINDEUA</td><td>COQUEIRO</td><td>5.71</td><td>4</td><td>Basic</td></tr><tr><td>SAO PAULO</td><td>CAMPO BELO</td><td>6.19</td><td>2</td><td>Basic</td></tr><tr><td>BARREIRAS</td><td>MORADA NOBRE</td><td>6.20</td><td>1</td><td>Basic</td></tr><tr><td>APARECIDA DE GOIANIA</td><td>VILA MARIA</td><td>6.22</td><td>1</td><td>Basic</td></tr><tr><td>VARZEA GRANDE</td><td>PONTE NOVA</td><td>6.09</td><td>1</td><td>Basic</td></tr><tr><td>SUMARE</td><td>PARQUE INDUSTRIAL</td><td>5.59</td><td>1</td><td>Basic</td></tr><tr><td>SANTA MARIA</td><td>KM 3</td><td>6.17</td><td>1</td><td>Basic</td></tr><tr><td>FOZ DO IGUACU</td><td>CENTRO CIVICO</td><td>6.14</td><td>1</td><td>Basic</td></tr><tr><td>ARACAJU</td><td>PONTO NOVO</td><td>6.24</td><td>1</td><td>Basic</td></tr><tr><td>SAO JOSE DOS PINHAIS</td><td>COSTEIRA</td><td>6.36</td><td>1</td><td>Basic</td></tr><tr><td>ILHEUS</td><td>ESPERANCA</td><td>6.19</td><td>1</td><td>Basic</td></tr><tr><td>RIO VERDE</td><td>PARQUE BANDEIRANTE</td><td>5.87</td><td>1</td><td>Basic</td></tr><tr><td>IMPERATRIZ</td><td>VILA LOBAO</td><td>5.60</td><td>1</td><td>Basic</td></tr></tbody></table></div>"
      ]
     },
     "metadata": {
      "application/vnd.databricks.v1+output": {
       "addedWidgets": {},
       "aggData": [],
       "aggError": "",
       "aggOverflow": false,
       "aggSchema": [],
       "aggSeriesLimitReached": false,
       "aggType": "",
       "arguments": {},
       "columnCustomDisplayInfos": {},
       "data": [
        [
         "CABO FRIO",
         "JACARE",
         "5.30",
         1,
         "Basic"
        ],
        [
         "ARARAS",
         "CENTRO",
         "6.10",
         3,
         "Basic"
        ],
        [
         "GARCA",
         "CENTRO",
         "6.09",
         1,
         "Basic"
        ],
        [
         "CACHOEIRINHA",
         "VILA SANTO ANGELO",
         "5.89",
         1,
         "Basic"
        ],
        [
         "SAO LUIZ GONZAGA",
         "RODOVIA",
         "6.02",
         1,
         "Basic"
        ],
        [
         "GOIATUBA",
         "CENTRO",
         "5.76",
         3,
         "Basic"
        ],
        [
         "PIMENTA BUENO",
         "CENTRO",
         "6.05",
         2,
         "Basic"
        ],
        [
         "SAO PAULO",
         "SANTANA",
         "5.47",
         3,
         "Basic"
        ],
        [
         "MARILIA",
         "PALMITAL",
         "6.08",
         2,
         "Basic"
        ],
        [
         "PINDAMONHANGABA",
         "CENTRO",
         "5.75",
         1,
         "Basic"
        ],
        [
         "AMERICANA",
         "VILA PARAISO",
         "6.39",
         1,
         "Basic"
        ],
        [
         "SANTO ANDRE",
         "BAIRRO CASA BRANCA",
         "5.89",
         1,
         "Basic"
        ],
        [
         "SANTA CRUZ DO CAPIBARIBE",
         "BELA VISTA",
         "5.72",
         1,
         "Basic"
        ],
        [
         "UBERLANDIA",
         "PARQUE GUARANI III",
         "5.52",
         1,
         "Basic"
        ],
        [
         "VITORIA DA CONQUISTA",
         "CENTRO",
         "5.88",
         4,
         "Basic"
        ],
        [
         "SAO JOSE DE RIBAMAR",
         "MARACAJA",
         "5.89",
         1,
         "Basic"
        ],
        [
         "CAMPINA GRANDE",
         "NOVA BRASILIA",
         "5.89",
         1,
         "Basic"
        ],
        [
         "SAO JOSE DOS CAMPOS",
         "PARQUE RESIDENCIAL AQUARIUS",
         "5.99",
         1,
         "Basic"
        ],
        [
         "SANTOS",
         "SABOO",
         "6.39",
         1,
         "Basic"
        ],
        [
         "JOAO MONLEVADE",
         "BELMONTE",
         "5.84",
         4,
         "Basic"
        ],
        [
         "DUQUE DE CAXIAS",
         "JARDIM GRAMACHO",
         "5.09",
         3,
         "Basic"
        ],
        [
         "CAMPINA GRANDE",
         "JARDIM TAVARES",
         "5.59",
         1,
         "Basic"
        ],
        [
         "IPATINGA",
         "JARDIM PANORAMA",
         "5.69",
         3,
         "Basic"
        ],
        [
         "ITABORAI",
         "LARANJAL",
         "5.50",
         1,
         "Basic"
        ],
        [
         "JUAZEIRO DO NORTE",
         "TRIANGULO",
         "6.26",
         2,
         "Basic"
        ],
        [
         "GUANAMBI",
         "SANTO ANTONIO",
         "6.24",
         2,
         "Basic"
        ],
        [
         "OSASCO",
         "BUSSOCABA",
         "5.69",
         1,
         "Basic"
        ],
        [
         "COSMOPOLIS",
         "JARDIM BELA VISTA",
         "6.99",
         1,
         "Basic"
        ],
        [
         "ALVORADA",
         "MARIA REGINA",
         "5.89",
         1,
         "Basic"
        ],
        [
         "INDAIATUBA",
         "JD. TROPICAL",
         "5.65",
         1,
         "Basic"
        ],
        [
         "VARGINHA",
         "SANTANA",
         "5.77",
         1,
         "Basic"
        ],
        [
         "ANAPOLIS",
         "VILA SANTA MARIA DE NAZARETH",
         "5.89",
         1,
         "Basic"
        ],
        [
         "CABO DE SANTO AGOSTINHO",
         "GAIBU",
         "5.87",
         1,
         "Basic"
        ],
        [
         "SAO JOSE DO RIO PRETO",
         "VILA TONINHO",
         "5.82",
         2,
         "Basic"
        ],
        [
         "ITAJUBA",
         "SAO JUDAS TADEU",
         "6.04",
         1,
         "Basic"
        ],
        [
         "LIMOEIRO DO NORTE",
         "CENTRO",
         "6.24",
         7,
         "Basic"
        ],
        [
         "SANTOS",
         "BOQUEIRAO",
         "5.59",
         1,
         "Basic"
        ],
        [
         "SAO JOSE DOS CAMPOS",
         "BQ. DOS EUCALIPTOS",
         "5.99",
         1,
         "Basic"
        ],
        [
         "HORTOLANDIA",
         "PARQUE GABRIEL",
         "5.89",
         1,
         "Basic"
        ],
        [
         "RIO DE JANEIRO",
         "QUINTINO BOCAIUVA",
         "4.12",
         1,
         "Basic"
        ],
        [
         "SANTA INES",
         "CANRÇÃO",
         "5.84",
         1,
         "Basic"
        ],
        [
         "RIO DE JANEIRO",
         "ABOLIÇÃO",
         "4.17",
         1,
         "Basic"
        ],
        [
         "MOGI DAS CRUZES",
         "MOGILAR",
         "5.49",
         1,
         "Basic"
        ],
        [
         "DUQUE DE CAXIAS",
         "CHACARAS RIO-PETROPOLIS",
         "5.24",
         2,
         "Basic"
        ],
        [
         "ALTA FLORESTA",
         "CIDADE ALTA",
         "6.65",
         1,
         "Basic"
        ],
        [
         "BENTO GONCALVES",
         "FARIA LEMOS",
         "5.94",
         1,
         "Basic"
        ],
        [
         "DELMIRO GOUVEIA",
         "CAMPO GRANDE",
         "6.81",
         1,
         "Basic"
        ],
        [
         "NATAL",
         "LAGOA AZUL",
         "6.14",
         1,
         "Basic"
        ],
        [
         "FORMOSA",
         "PARQUE LAGUNA II",
         "6.04",
         1,
         "Basic"
        ],
        [
         "SAO PAULO",
         "BELENZINHO",
         "5.53",
         1,
         "Basic"
        ],
        [
         "COLOMBO",
         "CAMPO PEQUENO",
         "6.04",
         1,
         "Basic"
        ],
        [
         "ASSIS",
         "VILA BRASILEIRA",
         "5.49",
         1,
         "Basic"
        ],
        [
         "RIO BONITO",
         "CENTRO",
         "5.95",
         3,
         "Basic"
        ],
        [
         "POUSO ALEGRE",
         "FOCH I",
         "5.94",
         1,
         "Basic"
        ],
        [
         "CURITIBA",
         "CASCATINHA",
         "5.49",
         1,
         "Basic"
        ],
        [
         "OSASCO",
         "JARDIM CIPAVA",
         "5.49",
         1,
         "Basic"
        ],
        [
         "URUGUAIANA",
         "DISTRITO RODOVIARIO",
         "6.12",
         1,
         "Basic"
        ],
        [
         "PARACATU",
         "AMOREIRAS II",
         "6.23",
         1,
         "Basic"
        ],
        [
         "BETIM",
         "CENTRO",
         "5.73",
         3,
         "Basic"
        ],
        [
         "SANTANA DO LIVRAMENTO",
         "DIVISA",
         "6.19",
         1,
         "Basic"
        ],
        [
         "CAXIAS",
         "NOVA CAXIAS",
         "5.81",
         2,
         "Basic"
        ],
        [
         "ALTA FLORESTA",
         "SETOR AP-H4",
         "6.69",
         1,
         "Basic"
        ],
        [
         "SOROCABA",
         "PARQUE DOS EUCALIPTOS",
         "6.04",
         1,
         "Basic"
        ],
        [
         "GRAMADO",
         "FLORESTA",
         "6.39",
         1,
         "Basic"
        ],
        [
         "HORTOLANDIA",
         "JARDIM DAS PAINEIRAS",
         "5.59",
         1,
         "Basic"
        ],
        [
         "GOIANIA",
         "VILA ROSA",
         "5.79",
         1,
         "Basic"
        ],
        [
         "ALTA FLORESTA",
         "SETOR TREVO",
         "6.64",
         1,
         "Basic"
        ],
        [
         "MOGI DAS CRUZES",
         "VILA NOVA CINTRA",
         "6.39",
         1,
         "Basic"
        ],
        [
         "ARARIPINA",
         "ZONA RURAL",
         "5.49",
         1,
         "Basic"
        ],
        [
         "SANTA BARBARA D'OESTE",
         "ZONA RURAL",
         "6.37",
         2,
         "Basic"
        ],
        [
         "SAO JOSE",
         "SERTAO DO IMARUI",
         "5.99",
         1,
         "Basic"
        ],
        [
         "BRUMADO",
         "VITORIA DA CONQUISTA",
         "5.88",
         1,
         "Basic"
        ],
        [
         "SANTAREM",
         "VIGIA",
         "5.99",
         1,
         "Basic"
        ],
        [
         "JUNDIAI",
         "CENTRO",
         "4.69",
         1,
         "Basic"
        ],
        [
         "ARARUAMA",
         "VILA CAPRI",
         "6.39",
         2,
         "Basic"
        ],
        [
         "LEOPOLDINA",
         "5 RESIDENCIA",
         "5.84",
         1,
         "Basic"
        ],
        [
         "BELEM",
         "TAPANA",
         "6.29",
         1,
         "Basic"
        ],
        [
         "PORTO ALEGRE",
         "BARAO DO CAI",
         "5.81",
         1,
         "Basic"
        ],
        [
         "PETROPOLIS",
         "ALTO DA SERRA",
         "5.44",
         1,
         "Basic"
        ],
        [
         "VITORIA DE SANTO ANTAO",
         "MATRIZ",
         "5.89",
         1,
         "Basic"
        ],
        [
         "APUCARANA",
         "VILA SAO MIGUEL",
         "6.13",
         2,
         "Basic"
        ],
        [
         "ITUMBIARA",
         "SANTA RITA",
         "5.77",
         2,
         "Basic"
        ],
        [
         "PICOS",
         "CANTO DA VARZEA",
         "6.05",
         3,
         "Basic"
        ],
        [
         "PARNAIBA",
         "PIAUÍ",
         "5.59",
         1,
         "Basic"
        ],
        [
         "SAO CARLOS",
         "VILA NERY",
         "5.89",
         1,
         "Basic"
        ],
        [
         "PORTO NACIONAL",
         "PORTO IMPERIAL",
         "5.69",
         1,
         "Basic"
        ],
        [
         "SOROCABA",
         "BOA VISTA",
         "5.84",
         1,
         "Basic"
        ],
        [
         "CURITIBA",
         "CAPAO DA IMBUIA",
         "5.49",
         1,
         "Basic"
        ],
        [
         "JUNDIAI",
         "CHACARA MALOTA",
         "6.37",
         1,
         "Basic"
        ],
        [
         "CONTAGEM",
         "PLANO DIR CONTAGEM",
         "5.74",
         1,
         "Basic"
        ],
        [
         "BELO HORIZONTE",
         "SANTA EFIGENIA",
         "5.73",
         1,
         "Basic"
        ],
        [
         "SOUSA",
         "GATO PRETO",
         "5.93",
         1,
         "Basic"
        ],
        [
         "SANTA BARBARA D'OESTE",
         "JARDIM PEROLA",
         "5.69",
         1,
         "Basic"
        ],
        [
         "MIRASSOL",
         "ZONA URBANA",
         "5.59",
         1,
         "Basic"
        ],
        [
         "DUQUE DE CAXIAS",
         "QUATORZE DE JULHO",
         "4.57",
         1,
         "Basic"
        ],
        [
         "BALSAS",
         "PARQUE CIDADE MARAVILHA",
         "5.97",
         1,
         "Basic"
        ],
        [
         "SAO JOSE DE RIBAMAR",
         "ARACAGY",
         "5.59",
         2,
         "Basic"
        ],
        [
         "MACAE",
         "VISCONDE DE ARAÚJO",
         "6.75",
         1,
         "Basic"
        ],
        [
         "BIRIGUI",
         "PARQUE R PINHEIROS",
         "5.63",
         1,
         "Basic"
        ],
        [
         "ADAMANTINA",
         "VILA JAMIL DE LIMA",
         "5.94",
         2,
         "Basic"
        ],
        [
         "JEQUIE",
         "JEQUIEZINHO",
         "6.16",
         3,
         "Basic"
        ],
        [
         "PRAIA GRANDE",
         "VILA GUILHERMINA",
         "5.99",
         1,
         "Basic"
        ],
        [
         "NATAL",
         "IGAPO",
         "5.83",
         3,
         "Basic"
        ],
        [
         "BETIM",
         "BRASILEIA",
         "5.74",
         1,
         "Basic"
        ],
        [
         "PORTO ALEGRE",
         "HUMAITA",
         "6.40",
         1,
         "Basic"
        ],
        [
         "SAO PAULO",
         "VILA BERTIOGA",
         "5.27",
         2,
         "Basic"
        ],
        [
         "CACAPAVA",
         "VERA CRUZ",
         "6.51",
         2,
         "Basic"
        ],
        [
         "LEME",
         "DISTRITO INDUSTRIAL",
         "5.54",
         1,
         "Basic"
        ],
        [
         "MAGE",
         "SURU",
         "6.87",
         1,
         "Basic"
        ],
        [
         "POUSO ALEGRE",
         "JARDIM SAO JOSE",
         "5.87",
         1,
         "Basic"
        ],
        [
         "GARANHUNS",
         "BOA VISTA",
         "5.39",
         2,
         "Basic"
        ],
        [
         "ARAPIRACA",
         "SANTA EDWIGES",
         "5.89",
         1,
         "Basic"
        ],
        [
         "CURVELO",
         "PASSAGINHA",
         "5.94",
         1,
         "Basic"
        ],
        [
         "PATROCINIO",
         "SAO BENEDITO",
         "5.84",
         1,
         "Basic"
        ],
        [
         "CORONEL FABRICIANO",
         "SEN.MELO VIANA",
         "5.74",
         1,
         "Basic"
        ],
        [
         "CABEDELO",
         "JARDIM AMERICA",
         "5.62",
         1,
         "Basic"
        ],
        [
         "POCOS DE CALDAS",
         "JARDIM CASCATINHA",
         "5.73",
         1,
         "Basic"
        ],
        [
         "ITAUNA",
         "CENTRO",
         "5.89",
         5,
         "Basic"
        ],
        [
         "SAO JOSE DOS PINHAIS",
         "AFONSO PENA",
         "5.44",
         4,
         "Basic"
        ],
        [
         "OSORIO",
         "ENT. OSORIO-TORRES",
         "5.70",
         1,
         "Basic"
        ],
        [
         "ITAJAI",
         "SALSEIROS",
         "5.95",
         2,
         "Basic"
        ],
        [
         "CHAPECO",
         "CRISTO REI",
         "5.59",
         1,
         "Basic"
        ],
        [
         "ERECHIM",
         "ESPIRITO SANTO",
         "6.34",
         1,
         "Basic"
        ],
        [
         "MACAE",
         "GLORIA",
         "6.76",
         2,
         "Basic"
        ],
        [
         "PORANGATU",
         "CENTRO",
         "5.99",
         2,
         "Basic"
        ],
        [
         "TOLEDO",
         "VILA BRASIL",
         "5.80",
         1,
         "Basic"
        ],
        [
         "OSASCO",
         "BANDEIRAS",
         "5.99",
         1,
         "Basic"
        ],
        [
         "SORRISO",
         "ZONA RURAL",
         "6.14",
         1,
         "Basic"
        ],
        [
         "BRASILIA",
         "RIACHO FUNDO",
         "5.98",
         1,
         "Basic"
        ],
        [
         "OURINHOS",
         "VL. SAO BENTO",
         "5.87",
         1,
         "Basic"
        ],
        [
         "CAMACARI",
         "ALTO DA CRUZ",
         "5.43",
         1,
         "Basic"
        ],
        [
         "CAMPINAS",
         "CHACARA PRIMAVERA",
         "5.62",
         1,
         "Basic"
        ],
        [
         "SUMARE",
         "JARDIM MARIA ANTONIA",
         "5.81",
         1,
         "Basic"
        ],
        [
         "FEIRA DE SANTANA",
         "SIM",
         "5.55",
         1,
         "Basic"
        ],
        [
         "ITACOATIARA",
         "SANTO ANTONIO",
         "6.82",
         2,
         "Basic"
        ],
        [
         "VARZEA GRANDE",
         "SAO MATHEUS",
         "5.82",
         1,
         "Basic"
        ],
        [
         "MOSSORO",
         "AEROPORTO II",
         "5.57",
         1,
         "Basic"
        ],
        [
         "BACABAL",
         "RAMAL",
         "5.81",
         1,
         "Basic"
        ],
        [
         "SANTAREM",
         "ESPERANCA",
         "6.10",
         2,
         "Basic"
        ],
        [
         "CONCEICAO DO ARAGUAIA",
         "JARDIM PETROPOLIS",
         "5.99",
         1,
         "Basic"
        ],
        [
         "VALENCA",
         "SÃO FELIX",
         "5.95",
         1,
         "Basic"
        ],
        [
         "JANAUBA",
         "ESPLANADA",
         "6.08",
         3,
         "Basic"
        ],
        [
         "CAMPO BELO",
         "PASSA TEMPO",
         "5.75",
         1,
         "Basic"
        ],
        [
         "ITAQUAQUECETUBA",
         "JARDIM ADRIANE",
         "5.67",
         1,
         "Basic"
        ],
        [
         "OLINDA",
         "BULTRINS",
         "5.89",
         1,
         "Basic"
        ],
        [
         "ITAQUAQUECETUBA",
         "DO MANDI",
         "5.99",
         1,
         "Basic"
        ],
        [
         "CACOAL",
         "GREE VILLE I",
         "6.40",
         1,
         "Basic"
        ],
        [
         "OLIMPIA",
         "RESIDENCIAL HARMONIA",
         "5.84",
         1,
         "Basic"
        ],
        [
         "IMPERATRIZ",
         "NOVA IMPERATRIZ",
         "5.89",
         1,
         "Basic"
        ],
        [
         "CAICO",
         "ZONA RURAL",
         "6.74",
         1,
         "Basic"
        ],
        [
         "VITORIA",
         "ENSEADA DO SUA",
         "6.29",
         1,
         "Basic"
        ],
        [
         "SAO PAULO",
         "PARADAS TAIPAS",
         "5.89",
         1,
         "Basic"
        ],
        [
         "LONDRINA",
         "CONJ. VIVI XAVIER",
         "6.19",
         1,
         "Basic"
        ],
        [
         "JUAZEIRO DO NORTE",
         "SALESIANOS",
         "6.54",
         1,
         "Basic"
        ],
        [
         "UBERABA",
         "PARQUE GAMELEIRAS",
         "5.79",
         1,
         "Basic"
        ],
        [
         "SAO PAULO",
         "MOINHO VELHO",
         "5.79",
         1,
         "Basic"
        ],
        [
         "BARRA MANSA",
         "SAO LUIZ",
         "5.59",
         1,
         "Basic"
        ],
        [
         "FORTALEZA",
         "BELA VISTA",
         "5.70",
         1,
         "Basic"
        ],
        [
         "SAO JOSE DO RIO PRETO",
         "RESIDENCIAL PALESTRA",
         "5.69",
         1,
         "Basic"
        ],
        [
         "SETE LAGOAS",
         "SÃO GERALDO",
         "5.49",
         1,
         "Basic"
        ],
        [
         "MACEIO",
         "BOM PARTO",
         "5.24",
         1,
         "Basic"
        ],
        [
         "BIRIGUI",
         "COLINAS PARQUE RESIDENCIAL",
         "6.27",
         1,
         "Basic"
        ],
        [
         "MOGI DAS CRUZES",
         "MOGI MODERNO",
         "5.89",
         1,
         "Basic"
        ],
        [
         "PARAGOMINAS",
         "CAMBOATA",
         "6.37",
         1,
         "Basic"
        ],
        [
         "RIBEIRAO PRETO",
         "VILA BRASIL",
         "5.67",
         1,
         "Basic"
        ],
        [
         "SUMARE",
         "BAIRRO RESIDENCIAL BORDON",
         "5.79",
         1,
         "Basic"
        ],
        [
         "SANTA CRUZ DO SUL",
         "ARROIO GRANDE",
         "6.07",
         2,
         "Basic"
        ],
        [
         "CABEDELO",
         "KILOMETRO 13",
         "4.72",
         1,
         "Basic"
        ],
        [
         "VIAMAO",
         "ELSA",
         "5.34",
         1,
         "Basic"
        ],
        [
         "VALINHOS",
         "NOVA SUICA",
         "6.04",
         1,
         "Basic"
        ],
        [
         "CRATO",
         "SAO JOSE",
         "6.03",
         1,
         "Basic"
        ],
        [
         "CABEDELO",
         "CENTRO",
         "6.37",
         1,
         "Basic"
        ],
        [
         "ILHEUS",
         "CENTRO",
         "6.50",
         5,
         "Basic"
        ],
        [
         "TEIXEIRA DE FREITAS",
         "SAO JOSE",
         "5.89",
         1,
         "Basic"
        ],
        [
         "BRUMADO",
         "SAO FELIX",
         "5.90",
         3,
         "Basic"
        ],
        [
         "DUQUE DE CAXIAS",
         "VILA SAO LUIZ",
         "5.24",
         1,
         "Basic"
        ],
        [
         "BACABAL",
         "VILA PEDRO BRITO",
         "5.64",
         1,
         "Basic"
        ],
        [
         "CACADOR",
         "SEDE",
         "6.24",
         1,
         "Basic"
        ],
        [
         "BETIM",
         "ANGOLA",
         "5.39",
         1,
         "Basic"
        ],
        [
         "FRANCISCO BELTRAO",
         "JARDIM FLORESTA",
         "6.20",
         1,
         "Basic"
        ],
        [
         "COLATINA",
         "SANTO ANTONIO",
         "6.04",
         1,
         "Basic"
        ],
        [
         "JANAUBA",
         "VEREDAS",
         "6.28",
         1,
         "Basic"
        ],
        [
         "CAICO",
         "CENTRO",
         "6.75",
         2,
         "Basic"
        ],
        [
         "MORRINHOS",
         "CENTRO",
         "5.84",
         4,
         "Basic"
        ],
        [
         "ITAMARAJU",
         "SEDE",
         "5.76",
         2,
         "Basic"
        ],
        [
         "PIRIPIRI",
         "CENTRO",
         "6.12",
         5,
         "Basic"
        ],
        [
         "FORTALEZA",
         "FARIAS BRITO",
         "5.68",
         1,
         "Basic"
        ],
        [
         "FRUTAL",
         "ZONA RURAL",
         "6.09",
         1,
         "Basic"
        ],
        [
         "JACOBINA",
         "CENTRO",
         "6.25",
         4,
         "Basic"
        ],
        [
         "ABAETETUBA",
         "CRISTO REDENTOR",
         "6.04",
         1,
         "Basic"
        ],
        [
         "ITABUNA",
         "CENTRO",
         "5.89",
         3,
         "Basic"
        ],
        [
         "TERESOPOLIS",
         "VARZEA",
         "5.99",
         3,
         "Basic"
        ],
        [
         "FORTALEZA",
         "RODOLFO TEOFILO",
         "6.19",
         1,
         "Basic"
        ],
        [
         "TABOAO DA SERRA",
         "JARDIM FREI GALVAO",
         "6.39",
         1,
         "Basic"
        ],
        [
         "SAO JOSE DO RIO PRETO",
         "SAO JUDAS TADEU",
         "5.69",
         1,
         "Basic"
        ],
        [
         "QUIXADA",
         "CAMPO VELHO",
         "5.79",
         1,
         "Basic"
        ],
        [
         "SANTANA DO LIVRAMENTO",
         "HIDRAULICA",
         "6.38",
         1,
         "Basic"
        ],
        [
         "BACABAL",
         "VILA FREI SOLANO",
         "5.61",
         1,
         "Basic"
        ],
        [
         "MONTES CLAROS",
         "CINTRA",
         "5.73",
         1,
         "Basic"
        ],
        [
         "SANTAREM",
         "AEROPORTO VELHO",
         "5.95",
         1,
         "Basic"
        ],
        [
         "BELEM",
         "JURUNAS",
         "5.43",
         1,
         "Basic"
        ],
        [
         "SAO JOSE DO RIO PRETO",
         "VILA MAYOR",
         "5.59",
         1,
         "Basic"
        ],
        [
         "SAO PAULO",
         "JD. IV CENTENARIO",
         "5.99",
         1,
         "Basic"
        ],
        [
         "BENTO GONCALVES",
         "BARRACAO",
         "5.89",
         1,
         "Basic"
        ],
        [
         "SAO JOAO DA BOA VISTA",
         "JARDIM DAS FLORES",
         "5.72",
         1,
         "Basic"
        ],
        [
         "TEIXEIRA DE FREITAS",
         "SAO LOURENCO",
         "6.44",
         1,
         "Basic"
        ],
        [
         "CRICIUMA",
         "SAO SEBASTIAO",
         "5.69",
         1,
         "Basic"
        ],
        [
         "LINHARES",
         "ARACA",
         "5.79",
         1,
         "Basic"
        ],
        [
         "MOGI MIRIM",
         "SANTA CRUZ",
         "5.80",
         2,
         "Basic"
        ],
        [
         "ITAITUBA",
         "BELA VISTA",
         "5.78",
         3,
         "Basic"
        ],
        [
         "FRUTAL",
         "CENTRO",
         "6.06",
         3,
         "Basic"
        ],
        [
         "PASSOS",
         "RECANTO DA HARMONIA",
         "5.93",
         1,
         "Basic"
        ],
        [
         "PORTO ALEGRE",
         "AZENHA",
         "4.69",
         1,
         "Basic"
        ],
        [
         "ITAPIPOCA",
         "JULHO",
         "6.57",
         1,
         "Basic"
        ],
        [
         "BELEM",
         "PEDREIRA",
         "5.64",
         2,
         "Basic"
        ],
        [
         "CAMPINA GRANDE",
         "UNIVERSITARIO",
         "5.63",
         1,
         "Basic"
        ],
        [
         "BETIM",
         "JARDIM ALTEROSA",
         "5.84",
         1,
         "Basic"
        ],
        [
         "DIADEMA",
         "VILA NOGUEIRA",
         "6.41",
         2,
         "Basic"
        ],
        [
         "NOVA IGUACU",
         "PRATA",
         "5.68",
         1,
         "Basic"
        ],
        [
         "MANACAPURU",
         "MORADA DO SOL",
         "6.49",
         1,
         "Basic"
        ],
        [
         "LIMEIRA",
         "VL ROCHA",
         "5.47",
         1,
         "Basic"
        ],
        [
         "BARRA MANSA",
         "SANTA CLARA",
         "6.29",
         1,
         "Basic"
        ],
        [
         "SAO BERNARDO DO CAMPO",
         "COOPERATIVA",
         "6.60",
         2,
         "Basic"
        ],
        [
         "SUMARE",
         "JARDIM SANTA MADALENA",
         "5.54",
         1,
         "Basic"
        ],
        [
         "ERECHIM",
         "SAO VICENTE DE PAULA",
         "6.14",
         1,
         "Basic"
        ],
        [
         "SAO CARLOS",
         "SANTA FELICIA",
         "5.89",
         1,
         "Basic"
        ],
        [
         "RIO DE JANEIRO",
         "VILA VALQUEIRE",
         "4.49",
         1,
         "Basic"
        ],
        [
         "CASTANHAL",
         "CAICARA",
         "5.43",
         1,
         "Basic"
        ],
        [
         "LIMEIRA",
         "JD STO ANDRE",
         "6.04",
         1,
         "Basic"
        ],
        [
         "MACAPA",
         "ACAI",
         "6.43",
         1,
         "Basic"
        ],
        [
         "SAO JOSE DE RIBAMAR",
         "NOVO PARANA",
         "5.38",
         1,
         "Basic"
        ],
        [
         "ANGRA DOS REIS",
         "CAMPO BELO (CUNHAMBEBE)",
         "6.79",
         1,
         "Basic"
        ],
        [
         "LUZIANIA",
         "JARDIM ZULEIKA MARIA DE BRASILIA",
         "5.79",
         1,
         "Basic"
        ],
        [
         "RIBEIRAO PRETO",
         "GERALDO CORREA DE CARVALHO",
         "5.94",
         1,
         "Basic"
        ],
        [
         "PRESIDENTE PRUDENTE",
         "JARDIM BONGIOVANI",
         "5.89",
         1,
         "Basic"
        ],
        [
         "PARANAGUA",
         "SAMAMBAIA",
         "5.54",
         1,
         "Basic"
        ],
        [
         "SAO PAULO",
         "JARDIM IMPERADOR",
         "5.79",
         1,
         "Basic"
        ],
        [
         "RECIFE",
         "BAIRRO DO RECIFE",
         "5.84",
         1,
         "Basic"
        ],
        [
         "POCOS DE CALDAS",
         "JARDIM DOS ESTADOS",
         "5.62",
         1,
         "Basic"
        ],
        [
         "CAUCAIA",
         "SANTA RITA",
         "5.47",
         1,
         "Basic"
        ],
        [
         "ANGRA DOS REIS",
         "JACUACANGA",
         "6.59",
         1,
         "Basic"
        ],
        [
         "SERRA TALHADA",
         "TANCREDO NEVES",
         "5.97",
         1,
         "Basic"
        ],
        [
         "CABO DE SANTO AGOSTINHO",
         "GARAPU",
         "5.05",
         2,
         "Basic"
        ],
        [
         "PONTA PORA",
         "CENTRO",
         "6.42",
         6,
         "Basic"
        ],
        [
         "GOIATUBA",
         "SETOR OESTE",
         "5.89",
         1,
         "Basic"
        ],
        [
         "SANTO ANTONIO DE PADUA",
         "PRIMEIRO DISTRITO",
         "6.29",
         1,
         "Basic"
        ],
        [
         "LAGUNA",
         "CABECUDA",
         "5.42",
         1,
         "Basic"
        ],
        [
         "JUAZEIRO DO NORTE",
         "PIRAJA",
         "6.09",
         1,
         "Basic"
        ],
        [
         "ALEGRETE",
         "CIDADE ALTA",
         "6.24",
         1,
         "Basic"
        ],
        [
         "MARECHAL CANDIDO RONDON",
         "CENTRO",
         "5.87",
         6,
         "Basic"
        ],
        [
         "MANAUS",
         "SAO FRANCISCO",
         "6.29",
         1,
         "Basic"
        ],
        [
         "ITAUNA",
         "PIEDADE",
         "5.69",
         1,
         "Basic"
        ],
        [
         "CHAPECO",
         "CENTRO",
         "5.76",
         5,
         "Basic"
        ],
        [
         "ARACATUBA",
         "JARDIM IPANEMA",
         "6.09",
         1,
         "Basic"
        ],
        [
         "PARACATU",
         "ALTO DO CORREGO",
         "6.13",
         3,
         "Basic"
        ],
        [
         "ITAJUBA",
         "VARGINHA",
         "5.93",
         2,
         "Basic"
        ],
        [
         "CATANDUVA",
         "HIGIENOPOLIS",
         "5.69",
         1,
         "Basic"
        ],
        [
         "CURITIBA",
         "STA FELICIDADE",
         "5.59",
         1,
         "Basic"
        ],
        [
         "CAMPOS DOS GOYTACAZES",
         "PARQUE AURORA",
         "6.10",
         1,
         "Basic"
        ],
        [
         "SAPIRANGA",
         "SAO LUIZ",
         "5.70",
         1,
         "Basic"
        ],
        [
         "ITUIUTABA",
         "GERSON BADUY II",
         "5.89",
         1,
         "Basic"
        ],
        [
         "SAO PAULO",
         "PONTE  PEQUENA",
         "5.99",
         1,
         "Basic"
        ],
        [
         "UBERLANDIA",
         "CAZECA",
         "5.89",
         1,
         "Basic"
        ],
        [
         "CAMPINAS",
         "JD. NOVO C. ELISEOS",
         "5.59",
         1,
         "Basic"
        ],
        [
         "PALMEIRA DOS INDIOS",
         "CENTRO",
         "6.27",
         1,
         "Basic"
        ],
        [
         "SAO PAULO",
         "SITIO DO MANDAQUI",
         "5.73",
         1,
         "Basic"
        ],
        [
         "RIBEIRAO PIRES",
         "BOCAINA",
         "5.73",
         2,
         "Basic"
        ],
        [
         "SOROCABA",
         "RONDA",
         "5.62",
         1,
         "Basic"
        ],
        [
         "CAMPINAS",
         "BOTAFOGO",
         "6.09",
         1,
         "Basic"
        ],
        [
         "PARAGOMINAS",
         "PRESIDENTE JUSCELINO",
         "6.57",
         1,
         "Basic"
        ],
        [
         "FORTALEZA",
         "PASSARE",
         "6.19",
         1,
         "Basic"
        ],
        [
         "SANTO ANDRE",
         "UTINGA",
         "6.07",
         1,
         "Basic"
        ],
        [
         "GURUPI",
         "LOTEAMENTO VILA ALAGOANA",
         "5.94",
         1,
         "Basic"
        ],
        [
         "JACAREI",
         "SANTO ANTONIO DA BOA VISTA",
         "5.81",
         1,
         "Basic"
        ],
        [
         "NATAL",
         "QUINTAS",
         "5.85",
         2,
         "Basic"
        ],
        [
         "CURITIBA",
         "JARDIM SOCIAL",
         "5.99",
         1,
         "Basic"
        ],
        [
         "MOGI DAS CRUZES",
         "COCUERA",
         "6.59",
         1,
         "Basic"
        ],
        [
         "RIO DE JANEIRO",
         "PARADA DE LUCAS",
         "6.14",
         1,
         "Basic"
        ],
        [
         "JAGUAQUARA",
         "CENTRO",
         "6.09",
         4,
         "Basic"
        ],
        [
         "ARACATUBA",
         "JUSSARA",
         "5.94",
         1,
         "Basic"
        ],
        [
         "SOROCABA",
         "VILA ANTAO",
         "6.09",
         1,
         "Basic"
        ],
        [
         "PETROPOLIS",
         "ITAIPAVA",
         "5.56",
         2,
         "Basic"
        ],
        [
         "PASSO FUNDO",
         "LUCAS ARAUJO",
         "5.94",
         1,
         "Basic"
        ],
        [
         "UBA",
         "SANTA LUZIA",
         "5.83",
         1,
         "Basic"
        ],
        [
         "SENHOR DO BONFIM",
         "SANTOS DUMONT",
         "6.40",
         1,
         "Basic"
        ],
        [
         "SUMARE",
         "JDM. ALVORADA",
         "5.69",
         1,
         "Basic"
        ],
        [
         "SAO JOSE DOS PINHAIS",
         "SAO PEDRO",
         "5.64",
         1,
         "Basic"
        ],
        [
         "CAMBE",
         "PARQUE MORUMBI",
         "5.94",
         1,
         "Basic"
        ],
        [
         "COTIA",
         "TIJUCO PRETO",
         "5.71",
         1,
         "Basic"
        ],
        [
         "SAO PAULO",
         "JD GUARAPIRANGA",
         "5.55",
         1,
         "Basic"
        ],
        [
         "CAMACARI",
         "POLO DE APOIO",
         "5.51",
         1,
         "Basic"
        ],
        [
         "NOVA IGUACU",
         "POSSE",
         "5.52",
         1,
         "Basic"
        ],
        [
         "SABARA",
         "SIDERURGICA",
         "5.89",
         1,
         "Basic"
        ],
        [
         "ANANINDEUA",
         "CENTRO",
         "5.50",
         3,
         "Basic"
        ],
        [
         "JEQUIE",
         "CENTRO",
         "6.04",
         5,
         "Basic"
        ],
        [
         "SAO JOSE DO RIO PRETO",
         "VILA SAO JOSE",
         "5.79",
         1,
         "Basic"
        ],
        [
         "SAO PAULO",
         "JARDIM ADUTORA",
         "5.69",
         1,
         "Basic"
        ],
        [
         "DOURADOS",
         "JARDIM TROPICAL",
         "6.29",
         2,
         "Basic"
        ],
        [
         "UNAI",
         "BAIRRO PLANALTO",
         "6.07",
         1,
         "Basic"
        ],
        [
         "SAO CAETANO DO SUL",
         "JD. SAO CAETANO",
         "6.49",
         1,
         "Basic"
        ],
        [
         "TABOAO DA SERRA",
         "PARQUE SAO JOAQUIM",
         "5.59",
         1,
         "Basic"
        ],
        [
         "LEME",
         "VILA GROSSKLAUSS",
         "5.29",
         1,
         "Basic"
        ],
        [
         "PINHAIS",
         "VILA PALMITAL",
         "6.24",
         1,
         "Basic"
        ],
        [
         "CAMACARI",
         "CASCALHEIRA",
         "5.52",
         1,
         "Basic"
        ],
        [
         "SAO LUIS",
         "COHAMA",
         "5.75",
         3,
         "Basic"
        ],
        [
         "JAU",
         "VILA NOVA",
         "5.94",
         1,
         "Basic"
        ],
        [
         "ITANHAEM",
         "ESTANCIA BEIRA MAR",
         "6.39",
         1,
         "Basic"
        ],
        [
         "CAUCAIA",
         "CENTRO",
         "5.65",
         1,
         "Basic"
        ],
        [
         "IPATINGA",
         "NOVO CRUZEIRO",
         "5.65",
         1,
         "Basic"
        ],
        [
         "VARZEA GRANDE",
         "GUARITA",
         "5.82",
         1,
         "Basic"
        ],
        [
         "OSASCO",
         "JARDIM PIRATININGA",
         "5.89",
         1,
         "Basic"
        ],
        [
         "SAO PAULO",
         "JARDIM DRACENA",
         "6.49",
         1,
         "Basic"
        ],
        [
         "BARUERI",
         "BETHAVILLE I",
         "6.66",
         1,
         "Basic"
        ],
        [
         "SAO BERNARDO DO CAMPO",
         "CENTRO",
         "6.51",
         4,
         "Basic"
        ],
        [
         "MONTE CARMELO",
         "TAMBORIL",
         "5.97",
         1,
         "Basic"
        ],
        [
         "JOAO PINHEIRO",
         "MARIA JOSE DE PAULA",
         "5.74",
         2,
         "Basic"
        ],
        [
         "MONTE ALTO",
         "CENTRO",
         "5.81",
         4,
         "Basic"
        ],
        [
         "JUIZ DE FORA",
         "NOVA ERA",
         "6.50",
         1,
         "Basic"
        ],
        [
         "FORTALEZA",
         "FATIMA",
         "5.82",
         3,
         "Basic"
        ],
        [
         "MOGI DAS CRUZES",
         "JARDIM ARMENIA",
         "6.14",
         1,
         "Basic"
        ],
        [
         "ARAXA",
         "MORADA DO SOL",
         "5.89",
         2,
         "Basic"
        ],
        [
         "GUARATINGUETA",
         "CENTRO",
         "5.98",
         3,
         "Basic"
        ],
        [
         "IPIRA",
         "POVOADO DE SANTA RITA",
         "5.55",
         1,
         "Basic"
        ],
        [
         "RIO CLARO",
         "CIDADE JARDIM",
         "5.94",
         1,
         "Basic"
        ],
        [
         "GUARULHOS",
         "CIDADE INDUSTRIAL SATELITE DE SAO PAULO",
         "5.59",
         1,
         "Basic"
        ],
        [
         "SAO JOAO DA BOA VISTA",
         "JARDIM SANTO ANDRE",
         "5.92",
         1,
         "Basic"
        ],
        [
         "CAMPO BELO",
         "CENTENARIO",
         "5.79",
         1,
         "Basic"
        ],
        [
         "SERRA",
         "CIDADE NOVA DA SERRA",
         "5.84",
         1,
         "Basic"
        ],
        [
         "SAO CARLOS",
         "VILA SANTA MARINA",
         "5.89",
         1,
         "Basic"
        ],
        [
         "SANTO ANTONIO DE JESUS",
         "CENTRO",
         "5.96",
         2,
         "Basic"
        ],
        [
         "GOIANIA",
         "SETOR MARISTA",
         "6.59",
         1,
         "Basic"
        ],
        [
         "BRAGANCA PAULISTA",
         "SANTA TEREZINHA",
         "5.62",
         1,
         "Basic"
        ],
        [
         "RIO DE JANEIRO",
         "FREGUESIA (JACAREPAGUA)",
         "6.29",
         1,
         "Basic"
        ],
        [
         "PIMENTA BUENO",
         "SERINGAL",
         "6.43",
         1,
         "Basic"
        ],
        [
         "BARREIRAS",
         "SANTA LUZIA",
         "6.14",
         1,
         "Basic"
        ],
        [
         "SAO CAETANO DO SUL",
         "PROSPERIDADE",
         "5.31",
         1,
         "Basic"
        ],
        [
         "CACAPAVA",
         "JARDIM MARIA CANDIDA",
         "5.99",
         1,
         "Basic"
        ],
        [
         "MANAUS",
         "PRAÇA 14 DE JANEIRO",
         "6.29",
         1,
         "Basic"
        ],
        [
         "DRACENA",
         "CENTRO",
         "5.76",
         4,
         "Basic"
        ],
        [
         "PATOS DE MINAS",
         "ALTO DOS CAICARAS",
         "5.74",
         1,
         "Basic"
        ],
        [
         "SAO LUIS",
         "CENTRO",
         "5.55",
         2,
         "Basic"
        ],
        [
         "LONDRINA",
         "JARDIM UNIVERSITÁRIO",
         "6.09",
         1,
         "Basic"
        ],
        [
         "CARIACICA",
         "ALTO LAJE",
         "5.99",
         2,
         "Basic"
        ],
        [
         "PORTO NACIONAL",
         "NOVO PLANALTO",
         "5.65",
         1,
         "Basic"
        ],
        [
         "RIO DE JANEIRO",
         "OLARIA",
         "5.44",
         2,
         "Basic"
        ],
        [
         "MARILIA",
         "PARQUE DOS SABIAS II (PADRE NOBREGA)",
         "5.94",
         1,
         "Basic"
        ],
        [
         "JOAO PESSOA",
         "JOSE AMERICO",
         "5.99",
         1,
         "Basic"
        ],
        [
         "CONTAGEM",
         "JARDIM LAGUNA",
         "5.59",
         1,
         "Basic"
        ],
        [
         "SAQUAREMA",
         "PORTA ROCA",
         "6.09",
         1,
         "Basic"
        ],
        [
         "SALVADOR",
         "ARRAIAL DO RETIRO",
         "3.99",
         1,
         "Basic"
        ],
        [
         "CASCAVEL",
         "SANTA CRUZ",
         "5.88",
         2,
         "Basic"
        ],
        [
         "PAULINIA",
         "NOVA PAULINIA",
         "5.99",
         1,
         "Basic"
        ],
        [
         "SAO CAETANO DO SUL",
         "FUNDAÇÃO",
         "5.49",
         1,
         "Basic"
        ],
        [
         "ITAPEVA",
         "CENTRAL PARK",
         "5.64",
         1,
         "Basic"
        ],
        [
         "CABO FRIO",
         "CAMPOS NOVOS",
         "6.39",
         1,
         "Basic"
        ],
        [
         "SERRA",
         "CARAPINA GRANDE",
         "5.59",
         1,
         "Basic"
        ],
        [
         "SAO PAULO",
         "DO LIMAO",
         "5.79",
         1,
         "Basic"
        ],
        [
         "SAPIRANGA",
         "VOO LIVRE",
         "5.17",
         1,
         "Basic"
        ],
        [
         "EMBU DAS ARTES",
         "VILA ISIS CRISTINA",
         "5.59",
         1,
         "Basic"
        ],
        [
         "GARCA",
         "J A F A",
         "5.43",
         1,
         "Basic"
        ],
        [
         "GUARAPUAVA",
         "CENTRO",
         "5.71",
         8,
         "Premium"
        ],
        [
         "FEIRA DE SANTANA",
         "SANTA MONICA",
         "5.24",
         1,
         "Basic"
        ],
        [
         "SANTAREM",
         "PRAINHA",
         "5.98",
         1,
         "Basic"
        ],
        [
         "TRES LAGOAS",
         "CENTRO",
         "5.95",
         3,
         "Basic"
        ],
        [
         "IRECE",
         "SEDE",
         "6.18",
         1,
         "Basic"
        ],
        [
         "SOROCABA",
         "PARQUE BOA VISTA",
         "5.79",
         1,
         "Basic"
        ],
        [
         "SAO JOAO DA BOA VISTA",
         "SAO MARCOS",
         "5.29",
         1,
         "Basic"
        ],
        [
         "PORTO FERREIRA",
         "JARDIM SANTA MARIA",
         "5.69",
         1,
         "Basic"
        ],
        [
         "VILA VELHA",
         "COBI DE CIMA",
         "5.89",
         1,
         "Basic"
        ],
        [
         "SAO MATEUS",
         "BOA VISTA",
         "6.39",
         1,
         "Basic"
        ],
        [
         "FORMIGA",
         "MANGABEIRAS",
         "5.51",
         2,
         "Basic"
        ],
        [
         "MARINGA",
         "JARDIM IMPERIAL",
         "5.89",
         1,
         "Basic"
        ],
        [
         "SAO BERNARDO DO CAMPO",
         "BAETA NEVES",
         "6.49",
         1,
         "Basic"
        ],
        [
         "CRUZEIRO",
         "II RET. MANTIQUEIRA",
         "5.81",
         1,
         "Basic"
        ],
        [
         "BRUMADO",
         "ZONA RURAL",
         "5.94",
         1,
         "Basic"
        ],
        [
         "SANTA CRUZ DO SUL",
         "ANA NERY",
         "5.77",
         1,
         "Basic"
        ],
        [
         "RIO VERDE",
         "VILA  MARIA",
         "5.95",
         1,
         "Basic"
        ],
        [
         "GUAIBA",
         "JARDIM IOLANDA",
         "6.04",
         1,
         "Basic"
        ],
        [
         "CAXIAS",
         "CANGALHEIRO",
         "5.60",
         1,
         "Basic"
        ],
        [
         "IMPERATRIZ",
         "PARQUE DAS PALMEIRAS",
         "5.84",
         1,
         "Basic"
        ],
        [
         "CRUZEIRO DO SUL",
         "MIRITIZAL",
         "7.68",
         2,
         "Basic"
        ],
        [
         "CODO",
         "SAO SEBASTIAO",
         "6.29",
         6,
         "Basic"
        ],
        [
         "CURITIBA",
         "BATEL",
         "6.24",
         2,
         "Basic"
        ],
        [
         "NATAL",
         "CIDADE NOVA",
         "5.99",
         1,
         "Basic"
        ],
        [
         "PRESIDENTE PRUDENTE",
         "CIDADE UNIVERSITARIO",
         "5.89",
         1,
         "Basic"
        ],
        [
         "IMPERATRIZ",
         "ZONA RURAL",
         "5.74",
         1,
         "Basic"
        ],
        [
         "MANHUACU",
         "CORREGO DO FEIJOAL",
         "5.84",
         1,
         "Basic"
        ],
        [
         "CAUCAIA",
         "TABAPUA",
         "5.54",
         2,
         "Basic"
        ],
        [
         "MORRINHOS",
         "SETOR OESTE",
         "5.84",
         1,
         "Basic"
        ],
        [
         "SANTO ANTONIO DA PLATINA",
         "VILA SAO PEDRO",
         "5.84",
         1,
         "Basic"
        ],
        [
         "JAGUAQUARA",
         "SAO JORGE",
         "6.07",
         1,
         "Basic"
        ],
        [
         "AGUAS LINDAS DE GOIAS",
         "JARDIM QUERENCIA",
         "6.09",
         1,
         "Basic"
        ],
        [
         "TERESINA",
         "POTI VELHO",
         "5.99",
         1,
         "Basic"
        ],
        [
         "VOTORANTIM",
         "JARDIM ICATU",
         "5.47",
         1,
         "Basic"
        ],
        [
         "MARINGA",
         "PQ. INDUSTRIAL",
         "5.67",
         1,
         "Basic"
        ],
        [
         "BELEM",
         "SACRAMENTA",
         "6.35",
         1,
         "Basic"
        ],
        [
         "PAULO AFONSO",
         "PERPETUO SOCORRO",
         "5.93",
         1,
         "Basic"
        ],
        [
         "ANANINDEUA",
         "QUARENTA HORAS",
         "5.43",
         1,
         "Basic"
        ],
        [
         "CACHOEIRO DE ITAPEMIRIM",
         "ZUMBI",
         "5.84",
         1,
         "Basic"
        ],
        [
         "PIRACICABA",
         "VILA BESSI",
         "5.79",
         1,
         "Basic"
        ],
        [
         "CRICIUMA",
         "MORRO ESTEVAO",
         "5.74",
         1,
         "Basic"
        ],
        [
         "SANTA CRUZ DO SUL",
         "SANTO INÁCIO",
         "6.14",
         1,
         "Basic"
        ],
        [
         "ALAGOINHAS",
         "SANTA TEREZINHA",
         "5.99",
         1,
         "Basic"
        ],
        [
         "MOSSORO",
         "ALTO DA CONCEIÇÃO",
         "5.77",
         1,
         "Basic"
        ],
        [
         "CONGONHAS",
         "IPIRANGA",
         "5.58",
         2,
         "Basic"
        ],
        [
         "VILA VELHA",
         "COBILANDIA",
         "5.14",
         2,
         "Basic"
        ],
        [
         "JUAZEIRO DO NORTE",
         "SALESIANO",
         "6.07",
         1,
         "Basic"
        ],
        [
         "LUZIANIA",
         "CIDADE OSFAYA",
         "5.77",
         1,
         "Basic"
        ],
        [
         "ITAPECERICA DA SERRA",
         "POTUVERA",
         "5.79",
         3,
         "Basic"
        ],
        [
         "CAMETA",
         "BRASILIA",
         "6.60",
         1,
         "Basic"
        ],
        [
         "ARCOVERDE",
         "CENTRO",
         "5.82",
         2,
         "Basic"
        ],
        [
         "MOGI DAS CRUZES",
         "VILA VITÓRIA",
         "6.39",
         1,
         "Basic"
        ],
        [
         "CUIABA",
         "ARAES",
         "6.17",
         1,
         "Basic"
        ],
        [
         "TRINDADE",
         "SETOR RESIDENCIAL GARAVELO II",
         "5.89",
         1,
         "Basic"
        ],
        [
         "SANTA BARBARA D'OESTE",
         "JD. PEROLA",
         "5.52",
         1,
         "Basic"
        ],
        [
         "UNAI",
         "ZONA RURAL",
         "5.94",
         1,
         "Basic"
        ],
        [
         "ARAPIRACA",
         "CAVACO",
         "5.94",
         1,
         "Basic"
        ],
        [
         "VALENCA",
         "TRECHO VAL/TAPEROA",
         "6.03",
         1,
         "Basic"
        ],
        [
         "RECIFE",
         "MADALENA",
         "5.74",
         1,
         "Basic"
        ],
        [
         "GOIANIA",
         "SETOR SOL NASCENTE",
         "5.67",
         2,
         "Basic"
        ],
        [
         "OSASCO",
         "JARDIM VELOSO",
         "6.19",
         1,
         "Basic"
        ],
        [
         "PORTO SEGURO",
         "ANTONIO TITO - SEDE",
         "6.81",
         1,
         "Basic"
        ],
        [
         "SALVADOR",
         "VASCO  DA GAMA",
         "6.29",
         1,
         "Basic"
        ],
        [
         "SAO LUIS",
         "COHAFUMA",
         "5.59",
         1,
         "Basic"
        ],
        [
         "ITAPECERICA DA SERRA",
         "PARQUE PARAISO",
         "5.69",
         1,
         "Basic"
        ],
        [
         "ATIBAIA",
         "CAETETUBA",
         "6.48",
         1,
         "Basic"
        ],
        [
         "MINEIROS",
         "CENTRO",
         "6.16",
         1,
         "Basic"
        ],
        [
         "RECIFE",
         "CURADO",
         "5.24",
         2,
         "Basic"
        ],
        [
         "CANINDE",
         "BOA VISTA",
         "5.89",
         1,
         "Basic"
        ],
        [
         "SETE LAGOAS",
         "CHACARA DO PAIVA",
         "5.25",
         1,
         "Basic"
        ],
        [
         "PIRACICABA",
         "DISTRITO DE TUPI",
         "5.53",
         1,
         "Basic"
        ],
        [
         "PARANAGUA",
         "VILA PARANAGUA",
         "5.77",
         2,
         "Basic"
        ],
        [
         "MANAUS",
         "ALEIXO",
         "6.25",
         2,
         "Basic"
        ],
        [
         "ATIBAIA",
         "ESTANCIA SANTA MARIA DO LARANJAL",
         "6.24",
         1,
         "Basic"
        ],
        [
         "JAU",
         "JD FERREIRA DIAS",
         "5.99",
         1,
         "Basic"
        ],
        [
         "ITUMBIARA",
         "SANTOS DUMONT",
         "5.62",
         3,
         "Basic"
        ],
        [
         "AMERICANA",
         "VALE DAS NOGUEIRAS",
         "5.89",
         1,
         "Basic"
        ],
        [
         "PRESIDENTE DUTRA",
         "VILA MILITAR",
         "5.87",
         1,
         "Basic"
        ],
        [
         "CRATEUS",
         "CIDADE 2000",
         "6.29",
         1,
         "Basic"
        ],
        [
         "SAO VICENTE",
         "CIDADE NAUTICA",
         "6.06",
         2,
         "Basic"
        ],
        [
         "SIMOES FILHO",
         "CRISTO REI",
         "5.56",
         1,
         "Basic"
        ],
        [
         "MACAPA",
         "UNIVERSIDADE",
         "6.39",
         1,
         "Basic"
        ],
        [
         "RIO DE JANEIRO",
         "CURICICA",
         "5.92",
         1,
         "Basic"
        ],
        [
         "RIBEIRAO PRETO",
         "JARDIM INDEPENDENCIA",
         "6.39",
         1,
         "Basic"
        ],
        [
         "MANHUACU",
         "VISTA ALEGRE",
         "5.74",
         1,
         "Basic"
        ],
        [
         "SAO MATEUS",
         "SERNAMBY",
         "5.89",
         1,
         "Basic"
        ],
        [
         "MACEIO",
         "FAROL",
         "5.67",
         5,
         "Basic"
        ],
        [
         "OURINHOS",
         "PARQUE MINAS GERAIS",
         "5.99",
         1,
         "Basic"
        ],
        [
         "PORTO VELHO",
         "SAO JOAO BOSCO",
         "6.39",
         1,
         "Basic"
        ],
        [
         "PALMEIRA DOS INDIOS",
         "JUCA SAMPAIO",
         "6.19",
         2,
         "Basic"
        ],
        [
         "PONTA GROSSA",
         "JD. CARVALHO",
         "5.64",
         1,
         "Basic"
        ],
        [
         "UBERLANDIA",
         "SANTA MONICA",
         "5.76",
         7,
         "Basic"
        ],
        [
         "BARUERI",
         "TAMBORE",
         "6.24",
         1,
         "Basic"
        ],
        [
         "SALVADOR",
         "BARBALHO",
         "6.25",
         1,
         "Basic"
        ],
        [
         "BLUMENAU",
         "SALTO DO NORTE",
         "5.89",
         1,
         "Basic"
        ],
        [
         "SAO GONCALO",
         "ARSENAL",
         "5.84",
         3,
         "Basic"
        ],
        [
         "LAJEADO",
         "SANTO ANDRE",
         "5.63",
         1,
         "Basic"
        ],
        [
         "BOA VISTA",
         "CENTRO",
         "6.37",
         1,
         "Basic"
        ],
        [
         "SAO LUIS",
         "SANTA EFIGENIA",
         "5.59",
         1,
         "Basic"
        ],
        [
         "RIO VERDE",
         "LIBERDADE",
         "5.69",
         1,
         "Basic"
        ],
        [
         "VALINHOS",
         "VILA SANTANA",
         "5.89",
         1,
         "Basic"
        ],
        [
         "SAO GONCALO",
         "NEVES",
         "5.17",
         1,
         "Basic"
        ],
        [
         "ARACRUZ",
         "SEGATTO",
         "5.94",
         1,
         "Basic"
        ],
        [
         "GUARAPUAVA",
         "ARAUCARIAS",
         "5.74",
         1,
         "Basic"
        ],
        [
         "VARZEA GRANDE",
         "MAPIM",
         "5.81",
         1,
         "Basic"
        ],
        [
         "VILA VELHA",
         "DIVINO ESPIRITO SANTO",
         "5.89",
         1,
         "Basic"
        ],
        [
         "PORTO VELHO",
         "NOVA ESPERANCA",
         "6.52",
         1,
         "Basic"
        ],
        [
         "PETROLINA",
         "RIO CORRENTE",
         "6.12",
         1,
         "Basic"
        ],
        [
         "RIO VERDE",
         "PARQUE BANDEIRANTES",
         "5.94",
         1,
         "Basic"
        ],
        [
         "UBERABA",
         "PARQUE DO MIRANTE",
         "6.09",
         1,
         "Basic"
        ],
        [
         "MIRASSOL",
         "JARDIM RENASCENCA",
         "6.04",
         1,
         "Basic"
        ],
        [
         "RIO DE JANEIRO",
         "VILA DA PENHA",
         "5.23",
         1,
         "Basic"
        ],
        [
         "VOLTA REDONDA",
         "ATERRADO",
         "6.21",
         2,
         "Basic"
        ],
        [
         "TERESINA",
         "TRES ANDARES",
         "5.96",
         2,
         "Basic"
        ],
        [
         "PETROLINA",
         "LOTEAMENTO RECIFE",
         "5.87",
         2,
         "Basic"
        ],
        [
         "FORTALEZA",
         "JOAQUIM TAVORA",
         "4.92",
         1,
         "Basic"
        ],
        [
         "SANTA BARBARA D'OESTE",
         "VILA DAINESE",
         "5.92",
         1,
         "Basic"
        ],
        [
         "BRASILIA",
         "LAGO SUL",
         "5.84",
         2,
         "Basic"
        ],
        [
         "ALFENAS",
         "JD. FURNAS",
         "5.79",
         1,
         "Basic"
        ],
        [
         "MARINGA",
         "ZONA 02",
         "5.89",
         1,
         "Basic"
        ],
        [
         "BETIM",
         "INGA",
         "5.69",
         1,
         "Basic"
        ],
        [
         "BOA VISTA",
         "CAIMBE",
         "6.37",
         1,
         "Basic"
        ],
        [
         "GURUPI",
         "JARDIM ELDORADO",
         "6.15",
         1,
         "Basic"
        ],
        [
         "POCOES",
         "SANTA RITA",
         "5.56",
         1,
         "Basic"
        ],
        [
         "JOAO PESSOA",
         "CRUZ DAS ARMAS",
         "4.72",
         1,
         "Basic"
        ],
        [
         "RECIFE",
         "VARZEA",
         "5.99",
         1,
         "Basic"
        ],
        [
         "SANTO ANTONIO DE JESUS",
         "AMPARO",
         "5.65",
         1,
         "Basic"
        ],
        [
         "SERRA",
         "N.S.DO ROSARIO DE FATIMA",
         "5.99",
         1,
         "Basic"
        ],
        [
         "MOGI DAS CRUZES",
         "VL SARAH AVIGNON",
         "6.54",
         1,
         "Basic"
        ],
        [
         "CALDAS NOVAS",
         "ESTANCIA ITANHANGA",
         "5.79",
         1,
         "Basic"
        ],
        [
         "DIADEMA",
         "VILA SAO JOSE",
         "6.39",
         1,
         "Basic"
        ],
        [
         "SANTA CRUZ DO RIO PARDO",
         "CHACARA PEIXE",
         "6.24",
         2,
         "Basic"
        ],
        [
         "GOIANIA",
         "JARDIM AMÉRICA",
         "5.99",
         2,
         "Basic"
        ],
        [
         "NOVA LIMA",
         "CENTRO",
         "5.98",
         3,
         "Basic"
        ],
        [
         "ITAPERUNA",
         "CIDADE NOVA",
         "6.02",
         4,
         "Basic"
        ],
        [
         "RONDONOPOLIS",
         "JARDIM UNIVERSITARIO",
         "6.19",
         1,
         "Basic"
        ],
        [
         "SORRISO",
         "BELA VISTA",
         "6.56",
         2,
         "Basic"
        ],
        [
         "SAO PAULO",
         "CASA VERDE",
         "6.60",
         2,
         "Basic"
        ],
        [
         "VITORIA",
         "MATA DA PRAIA",
         "4.99",
         1,
         "Basic"
        ],
        [
         "LIMEIRA",
         "JARDIM CASON",
         "5.64",
         1,
         "Basic"
        ],
        [
         "BRASILIA",
         "SIA",
         "5.83",
         1,
         "Basic"
        ],
        [
         "ITAQUAQUECETUBA",
         "JARDIM FELIX E MILTON",
         "6.03",
         1,
         "Basic"
        ],
        [
         "PIRACICABA",
         "JR. SAO JORGE",
         "6.03",
         1,
         "Basic"
        ],
        [
         "DIVINOPOLIS",
         "INTERLAGOS",
         "5.67",
         1,
         "Basic"
        ],
        [
         "VALINHOS",
         "JD. ITAPUA",
         "5.39",
         1,
         "Basic"
        ],
        [
         "BELEM",
         "TELGRAFO",
         "5.49",
         1,
         "Basic"
        ],
        [
         "MOGI DAS CRUZES",
         "BRAS CUBAS",
         "6.09",
         1,
         "Basic"
        ],
        [
         "BRUSQUE",
         "LIMEIRA",
         "6.49",
         1,
         "Basic"
        ],
        [
         "VARZEA GRANDE",
         "GLORIA",
         "5.84",
         1,
         "Basic"
        ],
        [
         "CUBATAO",
         "VILA PAULISTA",
         "6.46",
         1,
         "Basic"
        ],
        [
         "SUZANO",
         "VILA MALUF",
         "4.98",
         1,
         "Basic"
        ],
        [
         "PORTO ALEGRE",
         "PEDRA REDONDA",
         "5.79",
         1,
         "Basic"
        ],
        [
         "SAO PAULO",
         "IPIRANGA",
         "3.99",
         1,
         "Basic"
        ],
        [
         "IPIRA",
         "POVOADO PAU FERRO",
         "5.50",
         1,
         "Basic"
        ],
        [
         "LAJEADO",
         "BOM PASTOR",
         "5.80",
         1,
         "Basic"
        ],
        [
         "ARAPIRACA",
         "JARDIM ESPERANCA",
         "5.94",
         1,
         "Basic"
        ],
        [
         "PORTO SEGURO",
         "TABAPIRI",
         "6.85",
         1,
         "Basic"
        ],
        [
         "ITABAIANA",
         "ROTARY CLUB DE ITABAIANA",
         "5.78",
         3,
         "Basic"
        ],
        [
         "BELO HORIZONTE",
         "ITAIPU",
         "5.65",
         1,
         "Basic"
        ],
        [
         "MONTES CLAROS",
         "JARDIM PRIMAVERA",
         "5.60",
         1,
         "Basic"
        ],
        [
         "CAUCAIA",
         "TOCO (JUREMA)",
         "5.47",
         1,
         "Basic"
        ],
        [
         "NOSSA SENHORA DO SOCORRO",
         "JOAO ALVES FILHO",
         "4.89",
         1,
         "Basic"
        ],
        [
         "LINHARES",
         "AVISO",
         "5.81",
         2,
         "Basic"
        ],
        [
         "RIO BONITO",
         "RIO DOS INDIOS",
         "5.67",
         1,
         "Basic"
        ],
        [
         "LIMEIRA",
         "JARDIM COLINAS DE SAO JOAO",
         "5.79",
         1,
         "Basic"
        ],
        [
         "CASCAVEL",
         "UNIVERSITARIO",
         "6.09",
         1,
         "Basic"
        ],
        [
         "PICOS",
         "JUNCA",
         "5.94",
         1,
         "Basic"
        ],
        [
         "PELOTAS",
         "RETIRO",
         "6.55",
         1,
         "Basic"
        ],
        [
         "SAO PAULO",
         "VL CLEMENTINO",
         "4.59",
         1,
         "Basic"
        ],
        [
         "CARIACICA",
         "ITAQUARI",
         "5.60",
         1,
         "Basic"
        ],
        [
         "MARICA",
         "INOA",
         "5.78",
         1,
         "Basic"
        ],
        [
         "VITORIA DE SANTO ANTAO",
         "LOTEAMENTO NOVA VITORIA",
         "5.04",
         1,
         "Basic"
        ],
        [
         "SAO PAULO",
         "CIDADE DUTRA",
         "5.01",
         1,
         "Basic"
        ],
        [
         "SAO PAULO",
         "RIO PEQUENO",
         "5.49",
         2,
         "Basic"
        ],
        [
         "MOGI GUACU",
         "JARDIM SAMIRA",
         "5.64",
         1,
         "Basic"
        ],
        [
         "JUNDIAI",
         "RETIRO",
         "6.08",
         2,
         "Basic"
        ],
        [
         "PAULINIA",
         "V. JOSE P. NOGUEIRA",
         "5.54",
         1,
         "Basic"
        ],
        [
         "PRESIDENTE PRUDENTE",
         "VILA FORMOSA",
         "5.94",
         2,
         "Basic"
        ],
        [
         "UBERLANDIA",
         "CENTRO",
         "5.89",
         2,
         "Basic"
        ],
        [
         "PARANAVAI",
         "JARDIM OURO BRANCO",
         "5.89",
         1,
         "Basic"
        ],
        [
         "CAMPO GRANDE",
         "JARDIM SANTA EMILIA",
         "5.69",
         1,
         "Basic"
        ],
        [
         "CORUMBA",
         "CENTRO",
         "7.42",
         3,
         "Basic"
        ],
        [
         "CAMPOS DOS GOYTACAZES",
         "IBITIOCA",
         "6.50",
         2,
         "Basic"
        ],
        [
         "COLOMBO",
         "RIO VERDE",
         "5.79",
         1,
         "Basic"
        ],
        [
         "GRAVATAI",
         "SAO VICENTE",
         "5.63",
         1,
         "Basic"
        ],
        [
         "CRICIUMA",
         "SÃO DEFENDE",
         "5.69",
         1,
         "Basic"
        ],
        [
         "CANOAS",
         "MARECHAL RONDON",
         "5.53",
         3,
         "Basic"
        ],
        [
         "BOM DESPACHO",
         "JARDIM AMERICA",
         "5.84",
         1,
         "Basic"
        ],
        [
         "VARGINHA",
         "SANTA LUIZA",
         "6.59",
         1,
         "Basic"
        ],
        [
         "SANTO ANDRE",
         "VILA LUZITA",
         "6.29",
         1,
         "Basic"
        ],
        [
         "ITAQUAQUECETUBA",
         "VILA JAPAO",
         "5.93",
         2,
         "Basic"
        ],
        [
         "RONDONOPOLIS",
         "RESIDENCIAL BURITI",
         "6.13",
         1,
         "Basic"
        ],
        [
         "SAO LUIS",
         "COHAPAM",
         "5.51",
         1,
         "Basic"
        ],
        [
         "TAUBATE",
         "VL SAO GERALDO",
         "6.29",
         1,
         "Basic"
        ],
        [
         "VILA VELHA",
         "JARDIM ASTECA",
         "5.99",
         1,
         "Basic"
        ],
        [
         "TERESINA",
         "BUENOS AIRES",
         "5.87",
         1,
         "Basic"
        ],
        [
         "PIMENTA BUENO",
         "BELA VISTA",
         "5.98",
         1,
         "Basic"
        ],
        [
         "CASCAVEL",
         "PARQUE SAO PAULO",
         "6.09",
         2,
         "Basic"
        ],
        [
         "MIRASSOL",
         "CENTRO",
         "5.96",
         2,
         "Basic"
        ],
        [
         "VITORIA DA CONQUISTA",
         "FELICIA",
         "5.54",
         1,
         "Basic"
        ],
        [
         "OLIMPIA",
         "CENTRO",
         "6.04",
         6,
         "Basic"
        ],
        [
         "GOVERNADOR VALADARES",
         "VILA ISA",
         "5.75",
         3,
         "Basic"
        ],
        [
         "SAO JOAO DA BOA VISTA",
         "N.S.DO PERP.SOCORRO",
         "5.69",
         1,
         "Basic"
        ],
        [
         "PAULO AFONSO",
         "BTN3",
         "6.12",
         1,
         "Basic"
        ],
        [
         "ITUMBIARA",
         "ZONA RURAL",
         "5.57",
         1,
         "Basic"
        ],
        [
         "ITU",
         "CENTRO",
         "6.25",
         2,
         "Basic"
        ],
        [
         "TERESINA",
         "TRIUNFO",
         "5.72",
         2,
         "Basic"
        ],
        [
         "SOROCABA",
         "JARDIM EMILIA",
         "6.39",
         1,
         "Basic"
        ],
        [
         "ARARANGUA",
         "ALTO FELIZ",
         "5.86",
         2,
         "Basic"
        ],
        [
         "TERESINA",
         "VERMELHA",
         "6.06",
         3,
         "Basic"
        ],
        [
         "BELO HORIZONTE",
         "BARREIRO",
         "5.89",
         1,
         "Basic"
        ],
        [
         "MANAUS",
         "ZUMBI DOS PALMARES",
         "6.44",
         1,
         "Basic"
        ],
        [
         "PORTO VELHO",
         "IPASE NOVO",
         "5.99",
         1,
         "Basic"
        ],
        [
         "APARECIDA DE GOIANIA",
         "FAZENDA SANTO ANTONIO",
         "5.34",
         1,
         "Basic"
        ],
        [
         "AMERICANA",
         "JARDIM AMERICA",
         "6.04",
         1,
         "Basic"
        ],
        [
         "DUQUE DE CAXIAS",
         "PILAR",
         "6.59",
         1,
         "Basic"
        ],
        [
         "PRESIDENTE PRUDENTE",
         "JD. NOVO BONGIOVANI",
         "6.03",
         1,
         "Basic"
        ],
        [
         "PORTO VELHO",
         "AGENOR DE CARVALHO",
         "6.42",
         2,
         "Basic"
        ],
        [
         "CAXIAS DO SUL",
         "SAO LEOPOLDO",
         "5.59",
         3,
         "Basic"
        ],
        [
         "IJUI",
         "CENTRO",
         "6.22",
         3,
         "Basic"
        ],
        [
         "SAO GABRIEL",
         "ZONA SUL",
         "6.19",
         1,
         "Basic"
        ],
        [
         "VOLTA REDONDA",
         "DOM BOSCO",
         "5.79",
         1,
         "Basic"
        ],
        [
         "CAMPOS DOS GOYTACAZES",
         "PENHA",
         "6.07",
         1,
         "Basic"
        ],
        [
         "SAO JOAO DE MERITI",
         "SAO JOAO DE MERITI",
         "4.44",
         1,
         "Basic"
        ],
        [
         "ABAETETUBA",
         "SANTA ROSA",
         "5.84",
         1,
         "Basic"
        ],
        [
         "BRASILIA",
         "CANDANGOLANDIA",
         "6.15",
         1,
         "Basic"
        ],
        [
         "GUAIBA",
         "SANTA RITA",
         "6.04",
         1,
         "Basic"
        ],
        [
         "SINOP",
         "SETOR COMERCIAL",
         "6.41",
         2,
         "Basic"
        ],
        [
         "GUARULHOS",
         "JARDIM AERODROMO",
         "5.79",
         1,
         "Basic"
        ],
        [
         "PARINTINS",
         "CONJUNTO VITÓRIA RÉGIA",
         "6.89",
         1,
         "Basic"
        ],
        [
         "VITORIA DE SANTO ANTAO",
         "DIST IND PREF JOSE AUGUSTO  FERRER DE MORAIS",
         "5.54",
         1,
         "Basic"
        ],
        [
         "SAO JOSE DE RIBAMAR",
         "VILA KIOLA",
         "5.63",
         1,
         "Basic"
        ],
        [
         "GUAIBA",
         "BOM FIM",
         "6.04",
         1,
         "Basic"
        ],
        [
         "LORENA",
         "VILA NUNES",
         "5.69",
         1,
         "Basic"
        ],
        [
         "ASSIS CHATEAUBRIAND",
         "MINI PARQUE INDUSTRIAL",
         "5.84",
         1,
         "Basic"
        ],
        [
         "PAULISTA",
         "VILA TORRES GALVAO",
         "5.14",
         1,
         "Basic"
        ],
        [
         "SAO GONCALO",
         "RAUL VEIGA",
         "4.26",
         1,
         "Basic"
        ],
        [
         "ITATIBA",
         "JARDIM DA LUZ",
         "5.44",
         1,
         "Basic"
        ],
        [
         "SERRINHA",
         "CENTRO",
         "5.63",
         3,
         "Basic"
        ],
        [
         "JI-PARANA",
         "CENTRO",
         "7.09",
         2,
         "Basic"
        ],
        [
         "RIO CLARO",
         "DO ESTADIO",
         "5.94",
         1,
         "Basic"
        ],
        [
         "ALTAMIRA",
         "JARDIM UIRAPURU",
         "6.94",
         2,
         "Basic"
        ],
        [
         "JOAO PESSOA",
         "MANDACARU",
         "5.33",
         1,
         "Basic"
        ],
        [
         "PAULO AFONSO",
         "CENTRO",
         "5.91",
         1,
         "Basic"
        ],
        [
         "ITAQUAQUECETUBA",
         "VILA ZEFERINA",
         "5.99",
         1,
         "Basic"
        ],
        [
         "GUAIBA",
         "COLUMBIA CITY",
         "5.94",
         1,
         "Basic"
        ],
        [
         "DRACENA",
         "METROPOLE",
         "5.94",
         1,
         "Basic"
        ],
        [
         "PATOS DE MINAS",
         "LAGOA GRANDE",
         "5.74",
         2,
         "Basic"
        ],
        [
         "RIBEIRAO PRETO",
         "IPIRANGA",
         "5.89",
         3,
         "Basic"
        ],
        [
         "MARILIA",
         "JARDIM HERMINIO F. POLON",
         "6.59",
         1,
         "Basic"
        ],
        [
         "FEIRA DE SANTANA",
         "NOVO HORIZONTE",
         "6.01",
         3,
         "Basic"
        ],
        [
         "SAO PAULO",
         "JARDIM DAS OLIVEIRAS",
         "5.73",
         1,
         "Basic"
        ],
        [
         "MORRINHOS",
         "ZONA  RURAL",
         "5.64",
         1,
         "Basic"
        ],
        [
         "COLOMBO",
         "VILA MARACANA",
         "5.64",
         1,
         "Basic"
        ],
        [
         "CRICIUMA",
         "PINHEIRINHO",
         "6.89",
         1,
         "Basic"
        ],
        [
         "ARARAQUARA",
         "CENTRO",
         "5.67",
         3,
         "Basic"
        ],
        [
         "SERRA TALHADA",
         "CAGEP",
         "5.97",
         1,
         "Basic"
        ],
        [
         "ITABORAI",
         "TRES PONTES",
         "5.29",
         1,
         "Basic"
        ],
        [
         "MOGI GUACU",
         "DISTRITO INDUSTRIAL I",
         "5.79",
         1,
         "Basic"
        ],
        [
         "GUANAMBI",
         "CENTRO",
         "6.11",
         4,
         "Basic"
        ],
        [
         "ARACATUBA",
         "SAO JOAO",
         "5.64",
         1,
         "Basic"
        ],
        [
         "ARAXA",
         "DOMINGOS ZEMA",
         "5.81",
         1,
         "Basic"
        ],
        [
         "ICO",
         "CENTRO",
         "6.20",
         5,
         "Basic"
        ],
        [
         "BEBEDOURO",
         "CENTRO",
         "6.06",
         2,
         "Basic"
        ],
        [
         "ATIBAIA",
         "ALVINÓPOLIS",
         "5.78",
         1,
         "Basic"
        ],
        [
         "SALVADOR",
         "NAZARE",
         "6.29",
         2,
         "Basic"
        ],
        [
         "RIO CLARO",
         "JARDIM AMERICA",
         "6.35",
         2,
         "Basic"
        ],
        [
         "GOVERNADOR VALADARES",
         "SANTOS DUMONT",
         "5.91",
         1,
         "Basic"
        ],
        [
         "ARACAJU",
         "SOLEDADE",
         "6.12",
         1,
         "Basic"
        ],
        [
         "CANOAS",
         "IGARA",
         "5.84",
         4,
         "Basic"
        ],
        [
         "BARRETOS",
         "BARONI",
         "5.87",
         1,
         "Basic"
        ],
        [
         "SOROCABA",
         "PARQUE VITORIA REGIA",
         "5.57",
         1,
         "Basic"
        ],
        [
         "VALENCA",
         "CENTRO",
         "6.05",
         4,
         "Basic"
        ],
        [
         "BRUMADO",
         "CENTRO",
         "6.15",
         4,
         "Basic"
        ],
        [
         "ITAPIPOCA",
         "CRUZEIRO",
         "6.58",
         2,
         "Basic"
        ],
        [
         "MOGI MIRIM",
         "TUCURA",
         "6.14",
         2,
         "Basic"
        ],
        [
         "SANTO ANGELO",
         "HALLER",
         "5.89",
         1,
         "Basic"
        ],
        [
         "LIMOEIRO DO NORTE",
         "SANTA LUZIA",
         "5.99",
         1,
         "Basic"
        ],
        [
         "CASTANHAL",
         "CENTRO",
         "5.79",
         2,
         "Basic"
        ],
        [
         "EUNAPOLIS",
         "ENCANTO DAS AGUAS",
         "6.42",
         1,
         "Basic"
        ],
        [
         "BETIM",
         "SANTA CRUZ",
         "5.84",
         1,
         "Basic"
        ],
        [
         "RECIFE",
         "ROSARINHO",
         "5.79",
         1,
         "Basic"
        ],
        [
         "SOROCABA",
         "JARDIM SERIEMA",
         "6.09",
         1,
         "Basic"
        ],
        [
         "CAMPINAS",
         "VILA PARAISO",
         "5.59",
         1,
         "Basic"
        ],
        [
         "CAMPINA GRANDE",
         "JOSE PINHEIRO",
         "5.82",
         1,
         "Basic"
        ],
        [
         "JUIZ DE FORA",
         "PASSOS",
         "5.99",
         1,
         "Basic"
        ],
        [
         "VARZEA GRANDE",
         "JEANNE",
         "5.88",
         1,
         "Basic"
        ],
        [
         "TERESINA",
         "MATINHA",
         "5.92",
         1,
         "Basic"
        ],
        [
         "RIO LARGO",
         "MATA DO ROLO",
         "5.41",
         2,
         "Basic"
        ],
        [
         "JUIZ DE FORA",
         "SAO PEDRO",
         "5.68",
         2,
         "Basic"
        ],
        [
         "SANTO ANDRE",
         "VILA BASTOS",
         "6.39",
         1,
         "Basic"
        ],
        [
         "OURINHOS",
         "CENTRO",
         "5.69",
         2,
         "Basic"
        ],
        [
         "SAO PAULO",
         "ENGENHEIRO GOULART",
         "5.59",
         1,
         "Basic"
        ],
        [
         "NITEROI",
         "INGA",
         "5.79",
         1,
         "Basic"
        ],
        [
         "CAUCAIA",
         "CONJ MARECHAL RONDON",
         "5.95",
         1,
         "Basic"
        ],
        [
         "GUAXUPE",
         "VILA MEZIARA",
         "5.93",
         1,
         "Basic"
        ],
        [
         "SAO LEOPOLDO",
         "BAIRRO SO JOSE",
         "5.74",
         1,
         "Basic"
        ],
        [
         "BEBEDOURO",
         "VILA MAJOR CICERO DE CARVALHO",
         "5.99",
         1,
         "Basic"
        ],
        [
         "CAMPINAS",
         "JARDIM SANTA LUCIA",
         "5.59",
         1,
         "Basic"
        ],
        [
         "TIMOTEO",
         "LIMOEIRO",
         "5.64",
         1,
         "Basic"
        ],
        [
         "IJUI",
         "DISTRITO INDUSTRIAL",
         "6.39",
         1,
         "Basic"
        ],
        [
         "SAO CARLOS",
         "VILA PRADO",
         "5.46",
         1,
         "Basic"
        ],
        [
         "MARILIA",
         "JARDIM ESTORIL",
         "6.09",
         1,
         "Basic"
        ],
        [
         "IRECE",
         "CENTRO",
         "6.11",
         7,
         "Basic"
        ],
        [
         "MANAUS",
         "REDENÇÃO",
         "6.29",
         1,
         "Basic"
        ],
        [
         "CAMBE",
         "JARDIM RIAN",
         "5.99",
         1,
         "Basic"
        ],
        [
         "ITAGUAI",
         "CENTRO",
         "5.40",
         1,
         "Basic"
        ],
        [
         "TRES CORACOES",
         "JARDIM SANTA TEREZA",
         "6.59",
         1,
         "Basic"
        ],
        [
         "GUARAPUAVA",
         "CONRADINHO",
         "5.72",
         2,
         "Basic"
        ],
        [
         "LORENA",
         "BAIRRO DA CRUZ",
         "5.45",
         1,
         "Basic"
        ],
        [
         "GUARULHOS",
         "SÃO ROQUE",
         "4.29",
         1,
         "Basic"
        ],
        [
         "SAO LUIZ GONZAGA",
         "MONSENHOR WOLSKI",
         "6.14",
         2,
         "Basic"
        ],
        [
         "CORONEL FABRICIANO",
         "CALADINHO DE CIMA",
         "5.69",
         1,
         "Basic"
        ],
        [
         "CAMPO GRANDE",
         "JARDIM MONTE ALEGRE",
         "5.75",
         1,
         "Basic"
        ],
        [
         "APUCARANA",
         "JARDIM APUCARANA",
         "6.24",
         1,
         "Basic"
        ],
        [
         "GUAXUPE",
         "VILA PROGRESSO",
         "5.46",
         1,
         "Basic"
        ],
        [
         "JOINVILLE",
         "SANTO ANTONIO",
         "5.42",
         1,
         "Basic"
        ],
        [
         "SALGUEIRO",
         "N S APARECIDA",
         "5.57",
         1,
         "Basic"
        ],
        [
         "ITAITUBA",
         "SAO FRANCISCO",
         "5.79",
         1,
         "Basic"
        ],
        [
         "CURITIBA",
         "ALTO DA XV",
         "5.99",
         1,
         "Basic"
        ],
        [
         "SAO JOSE DOS CAMPOS",
         "JARDIM MORUMBI",
         "5.59",
         1,
         "Basic"
        ],
        [
         "POUSO ALEGRE",
         "JARDIM YARA",
         "5.71",
         1,
         "Basic"
        ],
        [
         "AMERICANA",
         "FAZENDA MACHADINHO",
         "5.79",
         1,
         "Basic"
        ],
        [
         "GOIANIA",
         "SETOR BUENO",
         "5.93",
         11,
         "Premium"
        ],
        [
         "DOURADOS",
         "CENTRO",
         "6.06",
         2,
         "Basic"
        ],
        [
         "UMUARAMA",
         "CENTRO",
         "5.85",
         2,
         "Basic"
        ],
        [
         "LUZIANIA",
         "PARQUE ESTRELA DALVA III",
         "6.54",
         1,
         "Basic"
        ],
        [
         "SAO PAULO",
         "JARDIM JAPAO",
         "6.17",
         1,
         "Basic"
        ],
        [
         "ARAGUAINA",
         "SETOR OESTE",
         "5.29",
         1,
         "Basic"
        ],
        [
         "NOVA IGUACU",
         "VILA DE CAVA",
         "6.35",
         1,
         "Basic"
        ],
        [
         "UBERLANDIA",
         "JARDIM FLORIDA",
         "5.87",
         1,
         "Basic"
        ],
        [
         "SAO PAULO",
         "VILA QUILHERME",
         "5.52",
         1,
         "Basic"
        ],
        [
         "SAQUAREMA",
         "SAO GERALDO ( BACAXA)",
         "5.99",
         1,
         "Basic"
        ],
        [
         "PATOS",
         "MONTE CASTELO",
         "5.84",
         1,
         "Basic"
        ],
        [
         "SAO PAULO",
         "JARDIM REGIS",
         "5.39",
         1,
         "Basic"
        ],
        [
         "SENHOR DO BONFIM",
         "BR 407",
         "5.85",
         2,
         "Basic"
        ],
        [
         "LINS",
         "JARDIM AMERICANO",
         "5.64",
         1,
         "Basic"
        ],
        [
         "CAMPOS DOS GOYTACAZES",
         "DANANA",
         "6.04",
         1,
         "Basic"
        ],
        [
         "JUAZEIRO DO NORTE",
         "SAO JOSE",
         "5.96",
         1,
         "Basic"
        ],
        [
         "ARACATUBA",
         "JARDIM DO TREVO",
         "5.46",
         1,
         "Basic"
        ],
        [
         "ITAJUBA",
         "SANTOS DUMONT",
         "6.22",
         1,
         "Basic"
        ],
        [
         "RIO LARGO",
         "PREFEITO ANTONIO LINS DE SOUZA",
         "5.23",
         2,
         "Basic"
        ],
        [
         "GUARAPARI",
         "MUQUICABA",
         "6.13",
         1,
         "Basic"
        ],
        [
         "MARILIA",
         "JARDIM SANTA ANTONIETA",
         "5.75",
         2,
         "Basic"
        ],
        [
         "JI-PARANA",
         "DOIS DE ABRIL",
         "6.55",
         1,
         "Basic"
        ],
        [
         "ATIBAIA",
         "RIO ABAIXO",
         "5.43",
         1,
         "Basic"
        ],
        [
         "ITAITUBA",
         "COMERCIO",
         "5.78",
         1,
         "Basic"
        ],
        [
         "CAUCAIA",
         "MESTRE ANTONIO",
         "5.69",
         1,
         "Basic"
        ],
        [
         "VARZEA GRANDE",
         "JARDIM COSTA VERDE",
         "5.12",
         1,
         "Basic"
        ],
        [
         "GOVERNADOR VALADARES",
         "GRA DUQUESA",
         "5.72",
         1,
         "Basic"
        ],
        [
         "PETROPOLIS",
         "QUISSAMA",
         "5.79",
         1,
         "Basic"
        ],
        [
         "BRAGANCA",
         "TAIRA",
         "6.08",
         1,
         "Basic"
        ],
        [
         "JUIZ DE FORA",
         "INDUSTRIAL",
         "6.26",
         2,
         "Basic"
        ],
        [
         "PIRACICABA",
         "JD BELA VISTA",
         "5.74",
         1,
         "Basic"
        ],
        [
         "BELFORD ROXO",
         "ROCHA SOBRINHO",
         "5.34",
         1,
         "Basic"
        ],
        [
         "PARNAIBA",
         "FATIMA",
         "6.19",
         1,
         "Basic"
        ],
        [
         "PORTO SEGURO",
         "MIRANTE CARAVELAS",
         "6.84",
         1,
         "Basic"
        ],
        [
         "SAO PAULO",
         "PARQUE VITÓRIA",
         "6.12",
         1,
         "Basic"
        ],
        [
         "CIANORTE",
         "CENTRO",
         "6.12",
         1,
         "Basic"
        ],
        [
         "JUNDIAI",
         "VILA FORMOSA",
         "5.89",
         1,
         "Basic"
        ],
        [
         "NATAL",
         "PAJUCARA",
         "5.79",
         2,
         "Basic"
        ],
        [
         "POCOS DE CALDAS",
         "CASCATINHA",
         "5.99",
         1,
         "Basic"
        ],
        [
         "UBERLANDIA",
         "TUBALINA-ST CAMPESTR",
         "5.64",
         1,
         "Basic"
        ],
        [
         "CAMPINAS",
         "JARDIM DO LAGO CONTINUACAO",
         "5.84",
         1,
         "Basic"
        ],
        [
         "LINS",
         "REBOUCAS",
         "6.09",
         1,
         "Basic"
        ],
        [
         "ARARANGUA",
         "JARDIM DAS AVENIDAS",
         "5.99",
         1,
         "Basic"
        ],
        [
         "SAO JOSE DOS CAMPOS",
         "CHACARAS REUNIDAS",
         "6.25",
         1,
         "Basic"
        ],
        [
         "SAO JOSE DO RIO PRETO",
         "VILA ERCILIA",
         "5.69",
         1,
         "Basic"
        ],
        [
         "CACAPAVA",
         "VL. ANDRE MARTINS",
         "5.42",
         1,
         "Basic"
        ],
        [
         "HORTOLANDIA",
         "JARDIM AMANDA I",
         "5.94",
         1,
         "Basic"
        ],
        [
         "BELEM",
         "TAPANA / ICOARACI",
         "6.09",
         1,
         "Basic"
        ],
        [
         "PRESIDENTE PRUDENTE",
         "BOSQUE",
         "5.97",
         1,
         "Basic"
        ],
        [
         "CAMPOS DOS GOYTACAZES",
         "PQ SANTO AMARO",
         "5.84",
         1,
         "Basic"
        ],
        [
         "OSASCO",
         "JARDIM OSASCO",
         "5.89",
         1,
         "Basic"
        ],
        [
         "GURUPI",
         "LOTEAMENTO NOSSA SENHORA D' ABADIA 2 ETAPA",
         "5.84",
         1,
         "Basic"
        ],
        [
         "PORTO VELHO",
         "COHAB",
         "6.19",
         1,
         "Basic"
        ],
        [
         "HORTOLANDIA",
         "LOTEAMENTO REMANSO CAMPINEIRO",
         "6.24",
         1,
         "Basic"
        ],
        [
         "CAMBE",
         "RESIDENCIAL PARQUE MANELLA",
         "7.16",
         1,
         "Basic"
        ],
        [
         "GOIANIA",
         "JARDIM PLANALTO",
         "5.98",
         1,
         "Basic"
        ],
        [
         "LIMEIRA",
         "DO FERRAO",
         "6.46",
         1,
         "Basic"
        ],
        [
         "JUIZ DE FORA",
         "DEMOCRATA",
         "5.64",
         1,
         "Basic"
        ],
        [
         "CASCAVEL",
         "BR 277",
         "5.79",
         1,
         "Basic"
        ],
        [
         "CONTAGEM",
         "RIACHO DAS PEDRAS",
         "5.69",
         1,
         "Basic"
        ],
        [
         "VARZEA PAULISTA",
         "CENTRO",
         "5.93",
         2,
         "Basic"
        ],
        [
         "MOGI DAS CRUZES",
         "JUNDIAPEBA",
         "5.93",
         3,
         "Basic"
        ],
        [
         "SAO JOAO DEL REI",
         "COLONIA DO MARCAL",
         "5.78",
         3,
         "Basic"
        ],
        [
         "CAMBE",
         "CENTRO",
         "5.89",
         2,
         "Basic"
        ],
        [
         "SANTA CRUZ DO SUL",
         "DISTRITO INDUSTRIAL",
         "6.09",
         1,
         "Basic"
        ],
        [
         "GUARULHOS",
         "JARDIM IPANEMA",
         "5.97",
         1,
         "Basic"
        ],
        [
         "SOROCABA",
         "PINHEIROS",
         "6.49",
         1,
         "Basic"
        ],
        [
         "HORTOLANDIA",
         "JARDIM SAO BENTO",
         "5.54",
         1,
         "Basic"
        ],
        [
         "BEBEDOURO",
         "RESIDENCIAL SAN CONRADO",
         "5.65",
         1,
         "Basic"
        ],
        [
         "PORTO ALEGRE",
         "AGRONOMIA",
         "5.69",
         1,
         "Basic"
        ],
        [
         "CONTAGEM",
         "VILA MAGDALENA",
         "5.63",
         1,
         "Basic"
        ],
        [
         "JI-PARANA",
         "JOTAO",
         "6.49",
         1,
         "Basic"
        ],
        [
         "MARICA",
         "AREA DE TERRA INOA",
         "5.69",
         1,
         "Basic"
        ],
        [
         "JANUARIA",
         "SAO VICENTE",
         "5.96",
         1,
         "Basic"
        ],
        [
         "NOVA FRIBURGO",
         "DUAS PEDRAS",
         "5.76",
         2,
         "Basic"
        ],
        [
         "PARAGUACU PAULISTA",
         "DISTRITO INDUSTRIAL",
         "5.72",
         1,
         "Basic"
        ],
        [
         "VACARIA",
         "NOSSA SENHORA DE FATIMA",
         "6.09",
         1,
         "Basic"
        ],
        [
         "UBERABA",
         "LEBLON",
         "5.74",
         1,
         "Basic"
        ],
        [
         "CACOAL",
         "NOVO HORIZONTE",
         "6.22",
         1,
         "Basic"
        ],
        [
         "SAO PAULO",
         "VILA RE",
         "5.99",
         1,
         "Basic"
        ],
        [
         "LAGARTO",
         "ZONA DE EXPANSAO E-4",
         "5.78",
         1,
         "Basic"
        ],
        [
         "TABOAO DA SERRA",
         "PQ.IND.DAS OLIVEIRAS",
         "5.89",
         1,
         "Basic"
        ],
        [
         "CAXIAS DO SUL",
         "CINQUENTENARIO",
         "5.39",
         2,
         "Basic"
        ],
        [
         "AMERICANA",
         "N SRA FATIMA",
         "5.60",
         1,
         "Basic"
        ],
        [
         "CONTAGEM",
         "JARDIM INDUSTRIAL",
         "5.36",
         2,
         "Basic"
        ],
        [
         "MAGE",
         "VILA RECREIO (VILA INHOMIRIM)",
         "5.80",
         1,
         "Basic"
        ],
        [
         "TRES RIOS",
         "MONTE CASTELO",
         "5.94",
         1,
         "Basic"
        ],
        [
         "SORRISO",
         "CENTRO",
         "6.54",
         2,
         "Basic"
        ],
        [
         "LIMEIRA",
         "JARDIM NOVA EUROPA",
         "5.79",
         1,
         "Basic"
        ],
        [
         "GARANHUNS",
         "SANTO ANTÔNIO",
         "5.65",
         1,
         "Basic"
        ],
        [
         "FRANCISCO BELTRAO",
         "SAO CRISTOVAO",
         "6.20",
         1,
         "Basic"
        ],
        [
         "UBERLANDIA",
         "REZENDE",
         "5.74",
         1,
         "Basic"
        ],
        [
         "LIMEIRA",
         "GRAMINHA",
         "5.50",
         1,
         "Basic"
        ],
        [
         "POCOES",
         "SEDE",
         "5.49",
         1,
         "Basic"
        ],
        [
         "VACARIA",
         "RODOVIA",
         "6.03",
         1,
         "Basic"
        ],
        [
         "COLOMBO",
         "CANGUIRI",
         "5.79",
         1,
         "Basic"
        ],
        [
         "GURUPI",
         "VILA PEDROSO",
         "5.87",
         1,
         "Basic"
        ],
        [
         "CONTAGEM",
         "CIDADE INDUSTRIAL",
         "5.75",
         1,
         "Basic"
        ],
        [
         "RIO DE JANEIRO",
         "LARANJEIRAS",
         "4.69",
         1,
         "Basic"
        ],
        [
         "SAO PAULO",
         "BUTANTÃ",
         "6.79",
         1,
         "Basic"
        ],
        [
         "SAO PAULO",
         "VILA NOSSA SENHORA APARECIDA",
         "5.99",
         1,
         "Basic"
        ],
        [
         "CRICIUMA",
         "RECANTO VERDE",
         "5.58",
         1,
         "Basic"
        ],
        [
         "JOINVILLE",
         "JARIVATUBA",
         "6.17",
         1,
         "Basic"
        ],
        [
         "CACHOEIRO DE ITAPEMIRIM",
         "CAICARA",
         "6.05",
         1,
         "Basic"
        ],
        [
         "CURITIBA",
         "ALTO DA RUA XV",
         "5.83",
         2,
         "Basic"
        ],
        [
         "SAO JOSE DO RIO PRETO",
         "VILA MACENO",
         "5.67",
         2,
         "Basic"
        ],
        [
         "BOTUCATU",
         "JARDIM EVELYN",
         "6.01",
         1,
         "Basic"
        ],
        [
         "ARARAS",
         "VILA PASTORELLO",
         "5.87",
         1,
         "Basic"
        ],
        [
         "SANTA CRUZ DO CAPIBARIBE",
         "CRUZ ALTA",
         "5.86",
         1,
         "Basic"
        ],
        [
         "SORRISO",
         "MORADA DO SOL",
         "6.62",
         1,
         "Basic"
        ],
        [
         "ALAGOINHAS",
         "PRACA KENNEDY",
         "5.93",
         1,
         "Basic"
        ],
        [
         "BOA VISTA",
         "CIDADE SATELITE",
         "6.43",
         1,
         "Basic"
        ],
        [
         "ARAXA",
         "NOVO SAO GERALDO",
         "5.87",
         1,
         "Basic"
        ],
        [
         "SAO JOSE DE RIBAMAR",
         "ARACACY",
         "5.59",
         1,
         "Basic"
        ],
        [
         "PARAGOMINAS",
         "MODULO II",
         "5.82",
         1,
         "Basic"
        ],
        [
         "CAMPO GRANDE",
         "JARDIM JOQUEI CLUB",
         "5.99",
         1,
         "Basic"
        ],
        [
         "PALMEIRA DOS INDIOS",
         "SAO CRISTOVAO",
         "6.29",
         1,
         "Basic"
        ],
        [
         "JOINVILLE",
         "DISTRITO PIRABEIRABA",
         "5.99",
         1,
         "Basic"
        ],
        [
         "RIO CLARO",
         "JARDIM CLARET",
         "5.79",
         1,
         "Basic"
        ],
        [
         "LAGUNA",
         "MAR GROSSO",
         "6.76",
         1,
         "Basic"
        ],
        [
         "PELOTAS",
         "TERRAS ALTAS",
         "6.14",
         1,
         "Basic"
        ],
        [
         "PARANAGUA",
         "PIXIRICA",
         "6.12",
         1,
         "Basic"
        ],
        [
         "OSORIO",
         "CENTRO",
         "5.77",
         5,
         "Basic"
        ],
        [
         "MACEIO",
         "FEITOSA",
         "5.59",
         1,
         "Basic"
        ],
        [
         "SANTOS",
         "CENTRO",
         "5.57",
         1,
         "Basic"
        ],
        [
         "LIMOEIRO DO NORTE",
         "BROTOLANDIA",
         "6.29",
         1,
         "Basic"
        ],
        [
         "MIRASSOL",
         "RESIDENCIAL CELINA DALUL",
         "5.94",
         1,
         "Basic"
        ],
        [
         "SANTAREM",
         "FLORESTA",
         "6.33",
         2,
         "Basic"
        ],
        [
         "JALES",
         "JARDIM ANA CRISTINA",
         "5.77",
         1,
         "Basic"
        ],
        [
         "SETE LAGOAS",
         "CANAA",
         "5.79",
         1,
         "Basic"
        ],
        [
         "GOIANIA",
         "PARQUE ANHANGUERA",
         "5.99",
         1,
         "Basic"
        ],
        [
         "IGARASSU",
         "CRUZ DE REBOUCAS",
         "5.27",
         3,
         "Basic"
        ],
        [
         "PIRACICABA",
         "UNILESTE",
         "5.81",
         1,
         "Basic"
        ],
        [
         "SAO PAULO",
         "CENTRO",
         "7.79",
         1,
         "Basic"
        ],
        [
         "SAO PAULO",
         "CAPAO REDONDO",
         "6.04",
         2,
         "Basic"
        ],
        [
         "AMPARO",
         "CENTRO",
         "6.10",
         4,
         "Basic"
        ],
        [
         "CACHOEIRO DE ITAPEMIRIM",
         "ELPIDIO VOLPINI",
         "5.78",
         2,
         "Basic"
        ],
        [
         "TERESINA",
         "GURUPI",
         "5.88",
         1,
         "Basic"
        ],
        [
         "BELFORD ROXO",
         "BARRO VERMELHO",
         "6.11",
         1,
         "Basic"
        ],
        [
         "CARIACICA",
         "JARDIM AMERICA",
         "5.41",
         3,
         "Basic"
        ],
        [
         "ARAPONGAS",
         "CENTRO",
         "5.83",
         6,
         "Basic"
        ],
        [
         "SAO GONCALO",
         "MUTUA",
         "5.21",
         1,
         "Basic"
        ],
        [
         "CARUARU",
         "CAIUCA",
         "5.59",
         2,
         "Basic"
        ],
        [
         "PRAIA GRANDE",
         "BOQUEIRAO",
         "6.19",
         2,
         "Basic"
        ],
        [
         "BOTUCATU",
         "JARDIM PARAISO",
         "6.14",
         2,
         "Basic"
        ],
        [
         "ARAGUAINA",
         "JARDIM ITATIAIA",
         "6.10",
         1,
         "Basic"
        ],
        [
         "FRANCISCO BELTRAO",
         "CENTRO",
         "5.80",
         1,
         "Basic"
        ],
        [
         "NITEROI",
         "VARZEA DAS MOCAS",
         "5.69",
         1,
         "Basic"
        ],
        [
         "SAO BERNARDO DO CAMPO",
         "RUDGE RAMOS",
         "5.59",
         1,
         "Basic"
        ],
        [
         "NOVA IGUACU",
         "JARDIM ESPLANADA",
         "5.34",
         1,
         "Basic"
        ],
        [
         "SAO PAULO",
         "PRQ JABAQUARA",
         "5.89",
         1,
         "Basic"
        ],
        [
         "VITORIA DA CONQUISTA",
         "JUREMA",
         "5.85",
         1,
         "Basic"
        ],
        [
         "ARARAS",
         "BOA VISTA",
         "5.57",
         1,
         "Basic"
        ],
        [
         "PORANGATU",
         "VILA CAVALCANTE",
         "5.79",
         1,
         "Basic"
        ],
        [
         "DIVINOPOLIS",
         "SANTA TEREZA",
         "6.27",
         1,
         "Basic"
        ],
        [
         "BARRA MANSA",
         "BOA SORTE",
         "5.99",
         1,
         "Basic"
        ],
        [
         "VARGINHA",
         "CENTRO",
         "5.85",
         1,
         "Basic"
        ],
        [
         "MANAUS",
         "TARUMA-ACU",
         "6.29",
         1,
         "Basic"
        ],
        [
         "FORTALEZA",
         "BOM SUCESSO",
         "5.89",
         1,
         "Basic"
        ],
        [
         "NATAL",
         "PLANALTO",
         "6.39",
         1,
         "Basic"
        ],
        [
         "SOBRAL",
         "CAMPOS DOS VELHOS",
         "6.19",
         1,
         "Basic"
        ],
        [
         "SANTANA DO LIVRAMENTO",
         "CENTRO",
         "6.40",
         5,
         "Basic"
        ],
        [
         "CABO FRIO",
         "BRAGA",
         "5.28",
         1,
         "Basic"
        ],
        [
         "TABOAO DA SERRA",
         "PQ PINHEIROS",
         "5.58",
         1,
         "Basic"
        ],
        [
         "VITORIA DE SANTO ANTAO",
         "REDENCAO",
         "5.57",
         4,
         "Basic"
        ],
        [
         "BOA VISTA",
         "SAO FRANCISCO",
         "6.43",
         3,
         "Basic"
        ],
        [
         "LINHARES",
         "LAGOA DO MEIO",
         "5.89",
         1,
         "Basic"
        ],
        [
         "RIO VERDE",
         "GAMELEIRA",
         "5.72",
         1,
         "Basic"
        ],
        [
         "BELEM",
         "UMARIZAL",
         "6.99",
         1,
         "Basic"
        ],
        [
         "UBERLANDIA",
         "TAIAMAN",
         "5.49",
         1,
         "Basic"
        ],
        [
         "GUARULHOS",
         "VILA AEROPORTO",
         "5.98",
         1,
         "Basic"
        ],
        [
         "MOCOCA",
         "CONJUNTO HABITACIONAL GILBERTO ROSSETTI",
         "5.36",
         1,
         "Basic"
        ],
        [
         "PARA DE MINAS",
         "DONA TUNICA",
         "5.74",
         1,
         "Basic"
        ],
        [
         "AMERICANA",
         "SAO VITO",
         "5.59",
         1,
         "Basic"
        ],
        [
         "FORTALEZA",
         "ITAPERI",
         "5.46",
         2,
         "Basic"
        ],
        [
         "SAO JOSE DOS CAMPOS",
         "JD. SAO DIMAS",
         "4.49",
         1,
         "Basic"
        ],
        [
         "SAO PAULO",
         "JARDIM CABORE",
         "5.59",
         1,
         "Basic"
        ],
        [
         "RESENDE",
         "JARDIM JALISCO",
         "5.44",
         1,
         "Basic"
        ],
        [
         "SANTA MARIA",
         "NOSSA SENHORA DO ROSARIO",
         "6.09",
         1,
         "Basic"
        ],
        [
         "BOM DESPACHO",
         "SAO JOAO",
         "5.84",
         1,
         "Basic"
        ],
        [
         "LORENA",
         "VILA HEPACARE",
         "5.55",
         1,
         "Basic"
        ],
        [
         "SAO CARLOS",
         "CENTRO",
         "6.49",
         1,
         "Basic"
        ],
        [
         "SANTA MARIA",
         "NOSSA SENHORA DE FATIMA",
         "5.99",
         1,
         "Basic"
        ],
        [
         "MAGE",
         "PIABETA (VILA INHOMIRIM)",
         "6.04",
         1,
         "Basic"
        ],
        [
         "PASSO FUNDO",
         "SAO JOSE",
         "5.75",
         2,
         "Basic"
        ],
        [
         "JUIZ DE FORA",
         "MARIANO PROCOPIO",
         "5.57",
         3,
         "Basic"
        ],
        [
         "SAO CAETANO DO SUL",
         "FUNDACAO",
         "5.49",
         1,
         "Basic"
        ],
        [
         "CORNELIO PROCOPIO",
         "VILA GALEANO",
         "5.69",
         1,
         "Basic"
        ],
        [
         "VARGINHA",
         "BOM PASTOR/VL PINTO",
         "5.55",
         1,
         "Basic"
        ],
        [
         "CABO FRIO",
         "JARDIM OLINDA",
         "5.84",
         1,
         "Basic"
        ],
        [
         "CAMPINAS",
         "JD DOM BOSCO",
         "5.89",
         1,
         "Basic"
        ],
        [
         "SAO JOSE DOS PINHAIS",
         "SAO CRISTOVAO",
         "5.89",
         1,
         "Basic"
        ],
        [
         "SAO JOSE",
         "COLONIA SANTANA",
         "5.99",
         1,
         "Basic"
        ],
        [
         "GOIATUBA",
         "POVOADO SERRINHA",
         "6.27",
         1,
         "Basic"
        ],
        [
         "ARAGUARI",
         "SUBURBIO",
         "5.53",
         1,
         "Basic"
        ],
        [
         "SAO PAULO",
         "JD DONA SINHA",
         "5.69",
         1,
         "Basic"
        ],
        [
         "JI-PARANA",
         "CASA PRETA",
         "7.37",
         1,
         "Basic"
        ],
        [
         "ARAGUARI",
         "SAO LUIZ",
         "5.77",
         1,
         "Basic"
        ],
        [
         "BRASILIA",
         "TAGUATINGA",
         "5.75",
         6,
         "Basic"
        ],
        [
         "SETE LAGOAS",
         "NOSSA SRA DAS GRACAS",
         "5.49",
         1,
         "Basic"
        ],
        [
         "RIBEIRAO PIRES",
         "CENTRO",
         "5.97",
         3,
         "Basic"
        ],
        [
         "SAO JOSE",
         "IPIRANGA",
         "5.89",
         1,
         "Basic"
        ],
        [
         "NATAL",
         "TIROL",
         "5.73",
         3,
         "Basic"
        ],
        [
         "POCOS DE CALDAS",
         "CENTRO",
         "5.78",
         2,
         "Basic"
        ],
        [
         "BARUERI",
         "CENTRO",
         "6.12",
         2,
         "Basic"
        ],
        [
         "CARIACICA",
         "VASCO DA GAMA",
         "5.84",
         1,
         "Basic"
        ],
        [
         "RIO DE JANEIRO",
         "BONSUCESSO",
         "5.39",
         2,
         "Basic"
        ],
        [
         "ARIQUEMES",
         "SETOR DE GRANDES AREAS",
         "6.07",
         1,
         "Basic"
        ],
        [
         "ATIBAIA",
         "RECREIO ESTORIL",
         "6.04",
         1,
         "Basic"
        ],
        [
         "CURITIBA",
         "ÁGUA VERDE",
         "5.99",
         1,
         "Basic"
        ],
        [
         "SAO PAULO",
         "SAO MIGUEL PAULISTA",
         "5.89",
         3,
         "Basic"
        ],
        [
         "BOA VISTA",
         "JARDIM FLORESTA",
         "6.37",
         1,
         "Basic"
        ],
        [
         "MARACANAU",
         "CENTRO",
         "5.49",
         1,
         "Basic"
        ],
        [
         "SAO PAULO",
         "PARQUE MARIA LUIZA",
         "6.19",
         1,
         "Basic"
        ],
        [
         "ERECHIM",
         "AEROPORTO",
         "6.07",
         1,
         "Basic"
        ],
        [
         "INDAIATUBA",
         "BOM PRINCIPIO",
         "6.09",
         1,
         "Basic"
        ],
        [
         "CAXIAS DO SUL",
         "BELA VISTA",
         "6.04",
         1,
         "Basic"
        ],
        [
         "PRAIA GRANDE",
         "SITIO DO CAMPO",
         "6.27",
         1,
         "Basic"
        ],
        [
         "JUNDIAI",
         "DO POSTE",
         "5.75",
         1,
         "Basic"
        ],
        [
         "MANAUS",
         "SAO JOSE OPERARIO",
         "6.29",
         1,
         "Basic"
        ],
        [
         "MARINGA",
         "JARDIM LIBERDADE",
         "6.09",
         1,
         "Basic"
        ],
        [
         "LAVRAS",
         "JARDIM GLORIA",
         "5.99",
         1,
         "Basic"
        ],
        [
         "CAMPO GRANDE",
         "JARDIM AERO RANCHO",
         "5.69",
         1,
         "Basic"
        ],
        [
         "PIRACICABA",
         "HIGIENOPOLIS",
         "5.71",
         3,
         "Basic"
        ],
        [
         "GUARUJA",
         "CENTRO",
         "6.77",
         3,
         "Basic"
        ],
        [
         "TIMOTEO",
         "PRIMAVERA",
         "5.59",
         1,
         "Basic"
        ],
        [
         "SINOP",
         "BAIRRO DE CHACARAS SINOP",
         "5.77",
         1,
         "Basic"
        ],
        [
         "ITAPIRA",
         "CUBATAO",
         "5.53",
         1,
         "Basic"
        ],
        [
         "DUQUE DE CAXIAS",
         "VILA BEIRA SERRA",
         "6.02",
         1,
         "Basic"
        ],
        [
         "HORTOLANDIA",
         "JARDIM AMANDA",
         "5.80",
         3,
         "Basic"
        ],
        [
         "ARAUCARIA",
         "CENTRO",
         "6.17",
         3,
         "Basic"
        ],
        [
         "SERRA TALHADA",
         "SAO CRISTOVAO",
         "6.15",
         3,
         "Basic"
        ],
        [
         "SAO PAULO",
         "VILA NHOCUNE",
         "6.09",
         2,
         "Basic"
        ],
        [
         "ILHEUS",
         "JARDIM SAVOIA",
         "6.67",
         1,
         "Basic"
        ],
        [
         "COLATINA",
         "SAO SILVANO",
         "5.94",
         1,
         "Basic"
        ],
        [
         "VOTORANTIM",
         "JARDIM SAO LUIZ",
         "6.15",
         1,
         "Basic"
        ],
        [
         "ITUMBIARA",
         "AFONSO PENA",
         "5.74",
         1,
         "Basic"
        ],
        [
         "SAO JOAO DE MERITI",
         "CENTRO",
         "5.41",
         3,
         "Basic"
        ],
        [
         "BELO HORIZONTE",
         "SANTA CRUZ",
         "5.79",
         1,
         "Basic"
        ],
        [
         "SAO LUIS",
         "OLHO D`AGUA",
         "5.59",
         1,
         "Basic"
        ],
        [
         "TUBARAO",
         "MORROTES",
         "6.07",
         1,
         "Basic"
        ],
        [
         "CAMPO MOURAO",
         "JD NOSSA SENHORA APARECIDA",
         "5.45",
         1,
         "Basic"
        ],
        [
         "SERTAOZINHO",
         "CENTRO",
         "5.79",
         5,
         "Basic"
        ],
        [
         "GOIANA",
         "CENTRO",
         "5.38",
         6,
         "Basic"
        ],
        [
         "NATAL",
         "CIDADE DA ESPERANCA",
         "5.98",
         1,
         "Basic"
        ],
        [
         "ALAGOINHAS",
         "CENTRO",
         "5.16",
         1,
         "Basic"
        ],
        [
         "ICO",
         "ALTO DOS BASTOS",
         "6.19",
         1,
         "Basic"
        ],
        [
         "BARRETOS",
         "AMERICA",
         "6.30",
         3,
         "Basic"
        ],
        [
         "SAO PAULO",
         "PARQUE IPE",
         "5.69",
         1,
         "Basic"
        ],
        [
         "CAXIAS DO SUL",
         "DESVIO RIZZO",
         "6.09",
         2,
         "Basic"
        ],
        [
         "BARREIRAS",
         "VILA RICA",
         "6.49",
         1,
         "Basic"
        ],
        [
         "SAO JOSE DOS PINHAIS",
         "CIDADE JARDIM",
         "4.99",
         1,
         "Basic"
        ],
        [
         "GUARUJA",
         "SITIO DA GLORIA",
         "5.79",
         1,
         "Basic"
        ],
        [
         "VACARIA",
         "JARDIM DOS PAMPAS",
         "6.01",
         1,
         "Basic"
        ],
        [
         "BIRIGUI",
         "VILA ISABEL MARIN",
         "6.14",
         1,
         "Basic"
        ],
        [
         "SAO PAULO",
         "VILA ARICANDUVA",
         "5.58",
         1,
         "Basic"
        ],
        [
         "BRASILIA",
         "ASA SUL",
         "5.89",
         1,
         "Basic"
        ],
        [
         "ARIQUEMES",
         "MARECHAL RONDON 01",
         "6.07",
         1,
         "Basic"
        ],
        [
         "ARARIPINA",
         "VILA SANTA MARIA",
         "5.99",
         1,
         "Basic"
        ],
        [
         "ITUIUTABA",
         "SAO JOSE",
         "6.74",
         1,
         "Basic"
        ],
        [
         "COTIA",
         "GRANJA VIANA",
         "5.92",
         2,
         "Basic"
        ],
        [
         "SANTO ANGELO",
         "CENTRO",
         "6.32",
         5,
         "Basic"
        ],
        [
         "ITAPETININGA",
         "VILA NOVA ITAPETININGA",
         "6.69",
         1,
         "Basic"
        ],
        [
         "ARIQUEMES",
         "AREAS ESPECIAIS",
         "6.16",
         1,
         "Basic"
        ],
        [
         "MANAUS",
         "TARUMA",
         "6.29",
         1,
         "Basic"
        ],
        [
         "BARREIRAS",
         "OURO BRANCO",
         "6.16",
         1,
         "Basic"
        ],
        [
         "UMUARAMA",
         "PARQUE INDUSTRIAL I",
         "5.73",
         2,
         "Basic"
        ],
        [
         "ITAQUAQUECETUBA",
         "JD NSA SRA D'AJUDA",
         "5.95",
         1,
         "Basic"
        ],
        [
         "CACHOEIRO DE ITAPEMIRIM",
         "CORONEL BORGES",
         "5.97",
         1,
         "Basic"
        ],
        [
         "SAO PAULO",
         "VILA MIRANTE",
         "5.49",
         1,
         "Basic"
        ],
        [
         "SAQUAREMA",
         "BACAXÁ",
         "6.19",
         1,
         "Basic"
        ],
        [
         "SAO CARLOS",
         "JARDIM GUANABARA",
         "5.79",
         1,
         "Basic"
        ],
        [
         "INDAIATUBA",
         "JARDIM JULIANA",
         "5.39",
         1,
         "Basic"
        ],
        [
         "PASSOS",
         "JARDIM COLEGIO DE PASSOS",
         "5.54",
         2,
         "Basic"
        ],
        [
         "ARAGUARI",
         "CENTRO",
         "5.74",
         2,
         "Basic"
        ],
        [
         "MOGI DAS CRUZES",
         "VL. BERNADOTTI",
         "5.48",
         1,
         "Basic"
        ],
        [
         "RIO DE JANEIRO",
         "VASCO DA GAMA",
         "5.43",
         1,
         "Basic"
        ],
        [
         "CARIACICA",
         "VILA CAPIXABA",
         "5.99",
         1,
         "Basic"
        ],
        [
         "ITAPIPOCA",
         "CRUXATI",
         "6.44",
         1,
         "Basic"
        ],
        [
         "PIMENTA BUENO",
         "BEIRA RIO",
         "6.03",
         1,
         "Basic"
        ],
        [
         "NOVA IGUACU",
         "AUSTIN",
         "5.41",
         1,
         "Basic"
        ],
        [
         "BELEM",
         "MARCO",
         "6.17",
         3,
         "Basic"
        ],
        [
         "PICOS",
         "BELO NORTE",
         "5.91",
         1,
         "Basic"
        ],
        [
         "SAO PAULO",
         "PQ. ANHANGUERA",
         "5.39",
         1,
         "Basic"
        ],
        [
         "ARAXA",
         "BOM JESUS",
         "6.12",
         1,
         "Basic"
        ],
        [
         "PIRASSUNUNGA",
         "CENTRO",
         "5.91",
         4,
         "Basic"
        ],
        [
         "SAO PAULO",
         "JARDIM DAS PALMAS",
         "6.48",
         1,
         "Basic"
        ],
        [
         "JATAI",
         "SETOR CENTRAL - PARTE BAIXA",
         "5.69",
         1,
         "Basic"
        ],
        [
         "VALINHOS",
         "VILA OLIVO",
         "5.79",
         1,
         "Basic"
        ],
        [
         "TRES RIOS",
         "NOVA NITEROI",
         "5.74",
         1,
         "Basic"
        ],
        [
         "OSASCO",
         "VILA MENCK",
         "5.99",
         1,
         "Basic"
        ],
        [
         "SANTA CRUZ DO SUL",
         "VILA SCHULZ",
         "5.89",
         1,
         "Basic"
        ],
        [
         "SERTAOZINHO",
         "JD LIBERDADE",
         "5.74",
         1,
         "Basic"
        ],
        [
         "CALDAS NOVAS",
         "ESTANCIA ITAGUAI",
         "5.69",
         1,
         "Basic"
        ],
        [
         "JABOTICABAL",
         "NOVA JABOTICABAL",
         "6.29",
         1,
         "Basic"
        ],
        [
         "JOINVILLE",
         "DISTRITO INDUSTRIAL",
         "5.86",
         1,
         "Basic"
        ],
        [
         "MAUA",
         "VILA NOEMIA",
         "6.08",
         1,
         "Basic"
        ],
        [
         "PATOS DE MINAS",
         "DISTRITO INDUSTRIAL II",
         "5.89",
         1,
         "Basic"
        ],
        [
         "LAGUNA",
         "PORTINHO",
         "5.97",
         1,
         "Basic"
        ],
        [
         "BRAGANCA PAULISTA",
         "MATADOURO",
         "6.67",
         2,
         "Basic"
        ],
        [
         "NATAL",
         "PAJUÇARA",
         "5.99",
         1,
         "Basic"
        ],
        [
         "JUNDIAI",
         "VILA PROGRESSO",
         "5.49",
         1,
         "Basic"
        ],
        [
         "JACOBINA",
         "MISSAO",
         "6.04",
         1,
         "Basic"
        ],
        [
         "JABOATAO DOS GUARARAPES",
         "MARCOS FREIRE",
         "5.73",
         1,
         "Basic"
        ],
        [
         "SANTAREM",
         "SANTARENZINHO",
         "5.89",
         1,
         "Basic"
        ],
        [
         "FRANCA",
         "JARDIM BRASILANDIA",
         "5.85",
         1,
         "Basic"
        ],
        [
         "ARAXA",
         "AEROPORTO",
         "5.84",
         2,
         "Basic"
        ],
        [
         "ITAUNA",
         "IRMAOS AULER",
         "5.79",
         1,
         "Basic"
        ],
        [
         "SERRA",
         "CASTELANDIA",
         "5.99",
         1,
         "Basic"
        ],
        [
         "CARATINGA",
         "SANTA ZITA",
         "5.99",
         1,
         "Basic"
        ],
        [
         "CURITIBA",
         "CIC",
         "5.67",
         1,
         "Basic"
        ],
        [
         "VITORIA DA CONQUISTA",
         "AUTO DA BOA VISTA",
         "5.84",
         1,
         "Basic"
        ],
        [
         "TERESINA",
         "MOCAMBINHO",
         "6.29",
         1,
         "Basic"
        ],
        [
         "ARAPIRACA",
         "ZONA RURAL",
         "5.79",
         1,
         "Basic"
        ],
        [
         "SUMARE",
         "PQ DA AMIZADE",
         "5.49",
         1,
         "Basic"
        ],
        [
         "DUQUE DE CAXIAS",
         "GRAMACHO",
         "5.29",
         1,
         "Basic"
        ],
        [
         "SAO FRANCISCO DE ITABAPOANA",
         "PRAIA DE SANTA CLARA",
         "5.74",
         1,
         "Basic"
        ],
        [
         "CACHOEIRINHA",
         "VL VERANOPOLIS",
         "5.84",
         1,
         "Basic"
        ],
        [
         "CAXIAS DO SUL",
         "SAO PELEGRINO",
         "6.07",
         1,
         "Basic"
        ],
        [
         "PORTO VELHO",
         "CUNIA",
         "6.29",
         1,
         "Basic"
        ],
        [
         "GUARUJA",
         "JARDIM ENSEADA",
         "6.49",
         1,
         "Basic"
        ],
        [
         "PASSOS",
         "CENTRO",
         "5.72",
         2,
         "Basic"
        ],
        [
         "CAMPINAS",
         "JARDIM SANTA MONICA",
         "5.89",
         1,
         "Basic"
        ],
        [
         "COXIM",
         "SENHOR DIVINO",
         "6.00",
         1,
         "Basic"
        ],
        [
         "VOTORANTIM",
         "CENTRO",
         "6.20",
         1,
         "Basic"
        ],
        [
         "CAMPINA GRANDE",
         "QUARENTA",
         "5.69",
         1,
         "Basic"
        ],
        [
         "BIRIGUI",
         "NOVO PARQUE SAO VICENTE",
         "5.99",
         1,
         "Basic"
        ],
        [
         "SANTA CRUZ DO CAPIBARIBE",
         "NOVO",
         "5.89",
         1,
         "Basic"
        ],
        [
         "VARZEA GRANDE",
         "JARDIM GLORIA II",
         "6.38",
         1,
         "Basic"
        ],
        [
         "BRASILIA",
         "TAGUATINGA NORTE",
         "5.49",
         1,
         "Basic"
        ],
        [
         "PRAIA GRANDE",
         "SAMAMBAIA",
         "5.74",
         1,
         "Basic"
        ],
        [
         "ANAPOLIS",
         "JUNDIAI",
         "6.12",
         2,
         "Basic"
        ],
        [
         "BARUERI",
         "JARDIM BELVAL",
         "5.84",
         1,
         "Basic"
        ],
        [
         "LAGARTO",
         "SAO JOSE",
         "5.80",
         1,
         "Basic"
        ],
        [
         "ALVORADA",
         "PRIMAVERA",
         "5.89",
         1,
         "Basic"
        ],
        [
         "SAO PAULO",
         "VILA MEDEIROS",
         "6.09",
         1,
         "Basic"
        ],
        [
         "ITATIBA",
         "VILA BRASILEIRA",
         "6.09",
         1,
         "Basic"
        ],
        [
         "CODO",
         "SANTA TEREZINHA",
         "6.17",
         2,
         "Basic"
        ],
        [
         "ALEGRETE",
         "INTERIOR",
         "6.23",
         1,
         "Basic"
        ],
        [
         "FLORIANOPOLIS",
         "PANTANAL",
         "6.09",
         1,
         "Basic"
        ],
        [
         "LINS",
         "JARDIM GUANABARA",
         "5.88",
         1,
         "Basic"
        ],
        [
         "BOA VISTA",
         "APARECIDA",
         "6.42",
         1,
         "Basic"
        ],
        [
         "CORNELIO PROCOPIO",
         "CONJUNTO SAO SILVESTRE",
         "6.20",
         1,
         "Basic"
        ],
        [
         "VITORIA",
         "SANTA LUCIA",
         "5.99",
         1,
         "Basic"
        ],
        [
         "JOAO PESSOA",
         "JARDIM SAO PAULO",
         "5.20",
         1,
         "Basic"
        ],
        [
         "SAO JOSE DO RIO PRETO",
         "JARDIM SANTA ROSA II",
         "5.69",
         1,
         "Basic"
        ],
        [
         "CIANORTE",
         "ZONA 02",
         "5.86",
         2,
         "Basic"
        ],
        [
         "BIGUACU",
         "RIO CAVEIRAS",
         "5.79",
         2,
         "Basic"
        ],
        [
         "SETE LAGOAS",
         "BAIRRO SAO JORGE",
         "5.52",
         1,
         "Basic"
        ],
        [
         "CUIABA",
         "CIDADE ALTA",
         "5.87",
         1,
         "Basic"
        ],
        [
         "CARAGUATATUBA",
         "JARAGUAZINHO",
         "6.29",
         1,
         "Basic"
        ],
        [
         "VARGINHA",
         "VILA SAO GERALDO",
         "5.59",
         1,
         "Basic"
        ],
        [
         "JABOTICABAL",
         "VILA INDUSTRIAL",
         "5.74",
         1,
         "Basic"
        ],
        [
         "CAMPINA GRANDE",
         "BODOCONGO",
         "5.73",
         3,
         "Basic"
        ],
        [
         "APARECIDA DE GOIANIA",
         "CIDADE SATELITE SAO LUIZ",
         "5.89",
         1,
         "Basic"
        ],
        [
         "BARRETOS",
         "CENTRO",
         "6.07",
         4,
         "Basic"
        ],
        [
         "BENTO GONCALVES",
         "JUVENTUDE DA ENOLOGIA",
         "5.93",
         1,
         "Basic"
        ],
        [
         "RECIFE",
         "HIPODROMO",
         "5.85",
         1,
         "Basic"
        ],
        [
         "CAMBE",
         "RODOVIA",
         "6.63",
         2,
         "Basic"
        ],
        [
         "MARINGA",
         "IGUATEMI",
         "5.44",
         1,
         "Basic"
        ],
        [
         "DUQUE DE CAXIAS",
         "25 DE AGOSTO",
         "5.24",
         2,
         "Basic"
        ],
        [
         "OSASCO",
         "VILA YOLANDA",
         "5.99",
         1,
         "Basic"
        ],
        [
         "BRAGANCA",
         "RIOZINHO",
         "6.04",
         1,
         "Basic"
        ],
        [
         "RIO DE JANEIRO",
         "CAJU",
         "5.34",
         1,
         "Basic"
        ],
        [
         "PARAISO DO TOCANTINS",
         "SETOR LESTE",
         "5.69",
         1,
         "Basic"
        ],
        [
         "ANGRA DOS REIS",
         "NOVA ANGRA (CUNHAMBEBE)",
         "6.79",
         1,
         "Basic"
        ],
        [
         "ARAUCARIA",
         "FAZENDA VELHA",
         "5.74",
         1,
         "Basic"
        ],
        [
         "SAO PAULO",
         "VILA GUILHERME",
         "5.40",
         3,
         "Basic"
        ],
        [
         "VACARIA",
         "JARDIM AMERICA",
         "6.08",
         2,
         "Basic"
        ],
        [
         "CURITIBA",
         "CAJURU",
         "5.54",
         3,
         "Basic"
        ],
        [
         "LAJEADO",
         "CENTRO",
         "5.81",
         2,
         "Basic"
        ],
        [
         "CURVELO",
         "CENTRO",
         "5.83",
         6,
         "Basic"
        ],
        [
         "VACARIA",
         "PETROPOLIS",
         "6.05",
         1,
         "Basic"
        ],
        [
         "CAXIAS",
         "CENTRO",
         "5.77",
         3,
         "Basic"
        ],
        [
         "DIADEMA",
         "TABOAO",
         "5.47",
         1,
         "Basic"
        ],
        [
         "CARAPICUIBA",
         "JARDIM EDI",
         "5.89",
         1,
         "Basic"
        ],
        [
         "MARINGA",
         "ZONA 07",
         "5.73",
         3,
         "Basic"
        ],
        [
         "SAO CAETANO DO SUL",
         "VL PROSPERIDADE",
         "5.50",
         1,
         "Basic"
        ],
        [
         "VARZEA PAULISTA",
         "JARDIM PAULISTA",
         "5.64",
         1,
         "Basic"
        ],
        [
         "VIAMAO",
         "VIAMOPOLIS",
         "5.97",
         2,
         "Basic"
        ],
        [
         "TERESOPOLIS",
         "VALE DO PARAISO",
         "5.99",
         1,
         "Basic"
        ],
        [
         "SAO PAULO",
         "J.RODOLFO PIRANI",
         "6.39",
         1,
         "Basic"
        ],
        [
         "AMERICANA",
         "JARDIM BRASIL",
         "6.10",
         1,
         "Basic"
        ],
        [
         "LORENA",
         "OLARIA",
         "6.29",
         1,
         "Basic"
        ],
        [
         "INDAIATUBA",
         "JARDIM ESPLANADA",
         "5.89",
         1,
         "Basic"
        ],
        [
         "GUARULHOS",
         "CIDADE PARQUE SAO LUIZ",
         "5.29",
         1,
         "Basic"
        ],
        [
         "LONDRINA",
         "PQ MEDITERRANEO",
         "5.99",
         1,
         "Basic"
        ],
        [
         "SERRA",
         "CIVIT II",
         "5.86",
         3,
         "Basic"
        ],
        [
         "SAO PAULO",
         "VILA MONTEVIDEO",
         "6.05",
         1,
         "Basic"
        ],
        [
         "PORTO VELHO",
         "FLODOALDO PONTES PINTO",
         "6.05",
         2,
         "Basic"
        ],
        [
         "PARA DE MINAS",
         "SENADOR VALADARES",
         "5.69",
         1,
         "Basic"
        ],
        [
         "ARACAJU",
         "SIQUEIRA CAMPOS",
         "5.78",
         2,
         "Basic"
        ],
        [
         "CABO DE SANTO AGOSTINHO",
         "DISTRITO INDUSTRIAL DIPER",
         "5.16",
         1,
         "Basic"
        ],
        [
         "ALTAMIRA",
         "ESPLANADA DO XINGU",
         "6.77",
         1,
         "Basic"
        ],
        [
         "POCOES",
         "LAGOA GRANDE",
         "5.59",
         1,
         "Basic"
        ],
        [
         "ARCOVERDE",
         "SAO CRISTOVAO",
         "5.79",
         3,
         "Basic"
        ],
        [
         "ADAMANTINA",
         "VILA INDUSTRIAL",
         "6.15",
         1,
         "Basic"
        ],
        [
         "LONDRINA",
         "JARDIM SHANGRI-LA",
         "5.84",
         1,
         "Basic"
        ],
        [
         "CACADOR",
         "SANTELMO",
         "6.19",
         1,
         "Basic"
        ],
        [
         "MAFRA",
         "CENTRO II ALTO DE MAFRA",
         "5.59",
         1,
         "Basic"
        ],
        [
         "NOVA IGUACU",
         "CAIOABA",
         "5.99",
         1,
         "Basic"
        ],
        [
         "JOAO MONLEVADE",
         "CRUZEIRO CELESTE",
         "6.14",
         1,
         "Basic"
        ],
        [
         "AGUAS LINDAS DE GOIAS",
         "SETOR JARDIM BRASILIA",
         "6.08",
         1,
         "Basic"
        ],
        [
         "VALINHOS",
         "JARDIM PLANALTO",
         "6.29",
         1,
         "Basic"
        ],
        [
         "VALPARAISO DE GOIAS",
         "CENTRO",
         "5.69",
         1,
         "Basic"
        ],
        [
         "SAO JOAO DE MERITI",
         "JARDIM JOSE BONIFACIO",
         "4.98",
         1,
         "Basic"
        ],
        [
         "SAO LUIS",
         "PONTA DAREIA",
         "5.99",
         1,
         "Basic"
        ],
        [
         "APARECIDA DE GOIANIA",
         "BAIRRO CARDOSO II ETAPA",
         "5.69",
         1,
         "Basic"
        ],
        [
         "MAFRA",
         "JARDIM AMERICA",
         "6.09",
         1,
         "Basic"
        ],
        [
         "FORTALEZA",
         "PAPICU",
         "4.94",
         2,
         "Basic"
        ],
        [
         "CUBATAO",
         "CENTRO",
         "6.95",
         2,
         "Basic"
        ],
        [
         "BARBACENA",
         "CENTRO",
         "5.89",
         5,
         "Basic"
        ],
        [
         "ITATIBA",
         "MORRO AZUL",
         "5.50",
         1,
         "Basic"
        ],
        [
         "CAXIAS DO SUL",
         "CIDADE NOVA",
         "6.08",
         2,
         "Basic"
        ],
        [
         "VILA VELHA",
         "PRAIA DA COSTA",
         "5.99",
         1,
         "Basic"
        ],
        [
         "SANTO ANTONIO DA PLATINA",
         "TREVO BR 153 COM PR 092",
         "5.73",
         1,
         "Basic"
        ],
        [
         "SAO JOAO DA BOA VISTA",
         "VILA ZANETTI",
         "5.59",
         1,
         "Basic"
        ],
        [
         "TERESINA",
         "LOURIVAL PARENTE",
         "5.81",
         6,
         "Basic"
        ],
        [
         "MARECHAL CANDIDO RONDON",
         "AUGUSTO II",
         "5.84",
         1,
         "Basic"
        ],
        [
         "JALES",
         "CENTRO",
         "5.78",
         2,
         "Basic"
        ],
        [
         "INDAIATUBA",
         "VILA MARIA",
         "5.89",
         1,
         "Basic"
        ],
        [
         "BARRA MANSA",
         "VILA NOVA",
         "5.92",
         2,
         "Basic"
        ],
        [
         "SOBRAL",
         "EXPECTATIVA",
         "6.14",
         1,
         "Basic"
        ],
        [
         "ITABIRA",
         "VILA SANTA ROSA",
         "6.39",
         1,
         "Basic"
        ],
        [
         "PATOS DE MINAS",
         "BELA VISTA",
         "5.69",
         1,
         "Basic"
        ],
        [
         "GUARAPUAVA",
         "DOS ESTADOS",
         "5.38",
         1,
         "Basic"
        ],
        [
         "MOSSORO",
         "SANTO ANTÔNIO",
         "5.77",
         2,
         "Basic"
        ],
        [
         "SANTO ANGELO",
         "OLIVEIRA",
         "6.18",
         1,
         "Basic"
        ],
        [
         "ARACATUBA",
         "VILA CARVALHO",
         "5.49",
         1,
         "Basic"
        ],
        [
         "JOAO PESSOA",
         "JAGUARIBE",
         "5.59",
         1,
         "Basic"
        ],
        [
         "OSASCO",
         "JARDIM D ABRIL",
         "5.89",
         1,
         "Basic"
        ],
        [
         "BALSAS",
         "POTOZI",
         "5.64",
         1,
         "Basic"
        ],
        [
         "CAMPO GRANDE",
         "MATA DO JACINTO",
         "5.85",
         1,
         "Basic"
        ],
        [
         "MACAPA",
         "BRASIL NOVO",
         "6.56",
         1,
         "Basic"
        ],
        [
         "SAO GABRIEL",
         "GABRIELENSE",
         "6.17",
         1,
         "Basic"
        ],
        [
         "JACAREI",
         "CENTRO",
         "5.57",
         5,
         "Basic"
        ],
        [
         "RECIFE",
         "BOA VIAGEM",
         "4.98",
         5,
         "Basic"
        ],
        [
         "SAO JOAO DEL REI",
         "MATOZINHOS",
         "5.93",
         2,
         "Basic"
        ],
        [
         "RIBEIRAO PRETO",
         "PARQUE RIBEIRAO PRETO",
         "5.69",
         1,
         "Basic"
        ],
        [
         "ITAJAI",
         "SAO JOAO",
         "5.84",
         2,
         "Basic"
        ],
        [
         "CATANDUVA",
         "DISTRITO INDUSTRIAL",
         "5.49",
         1,
         "Basic"
        ],
        [
         "TRES LAGOAS",
         "LAPA",
         "6.31",
         2,
         "Basic"
        ],
        [
         "ARAGUARI",
         "DISTRITO INDUSTRIAL",
         "5.59",
         1,
         "Basic"
        ],
        [
         "NOSSA SENHORA DO SOCORRO",
         "ZONA RURAL",
         "6.07",
         2,
         "Basic"
        ],
        [
         "GUARULHOS",
         "VILA HERMINIA",
         "5.31",
         2,
         "Basic"
        ],
        [
         "PORTO SEGURO",
         "BAIANAO",
         "6.84",
         1,
         "Basic"
        ],
        [
         "SENHOR DO BONFIM",
         "CENTRO",
         "6.40",
         3,
         "Basic"
        ],
        [
         "SANTA CRUZ DO CAPIBARIBE",
         "MALAQUIAS CARDOSO",
         "5.88",
         3,
         "Basic"
        ],
        [
         "PORTO FERREIRA",
         "CENTRO",
         "5.74",
         2,
         "Basic"
        ],
        [
         "SAO JOSE DE RIBAMAR",
         "OUTEIRO",
         "5.59",
         2,
         "Basic"
        ],
        [
         "FORTALEZA",
         "EDSON QUEIROIS",
         "6.15",
         1,
         "Basic"
        ],
        [
         "SANTA MARIA",
         "PERPETUO SOCORRO",
         "6.22",
         1,
         "Basic"
        ],
        [
         "DIVINOPOLIS",
         "MANOEL VALINHAS",
         "6.27",
         1,
         "Basic"
        ],
        [
         "CASTRO",
         "JARDIM DAS ARAUCARIAS",
         "5.93",
         1,
         "Basic"
        ],
        [
         "CAMPO GRANDE",
         "VILA CARVALHO",
         "5.83",
         1,
         "Basic"
        ],
        [
         "SANTOS",
         "CAMPO GRANDE",
         "6.19",
         1,
         "Basic"
        ],
        [
         "SAO PAULO",
         "ALTO DA MOOCA",
         "6.69",
         1,
         "Basic"
        ],
        [
         "MARICA",
         "SAO JOSE DO IMBASSAI",
         "5.86",
         1,
         "Basic"
        ],
        [
         "SAO PAULO",
         "ITAQUERA",
         "5.74",
         4,
         "Basic"
        ],
        [
         "GUARULHOS",
         "PARQUE INDUSTRIAL CUMBICA",
         "5.89",
         1,
         "Basic"
        ],
        [
         "BARREIRAS",
         "SAO MIGUEL",
         "6.16",
         1,
         "Basic"
        ],
        [
         "BARRA DO PIRAI",
         "IPIABAS",
         "6.49",
         1,
         "Basic"
        ],
        [
         "CURITIBA",
         "MOSSUNGUE",
         "5.99",
         1,
         "Basic"
        ],
        [
         "FORTALEZA",
         "MUCURIPE",
         "5.45",
         1,
         "Basic"
        ],
        [
         "ESTEIO",
         "NOVO ESTEIO",
         "5.90",
         3,
         "Basic"
        ],
        [
         "RIBEIRAO PRETO",
         "JARDIM PAULISTA",
         "6.09",
         1,
         "Basic"
        ],
        [
         "CACHOEIRO DE ITAPEMIRIM",
         "ALTO MONTE CRISTO",
         "5.92",
         1,
         "Basic"
        ],
        [
         "FORTALEZA",
         "BARRA DO CEARÁ",
         "5.24",
         1,
         "Basic"
        ],
        [
         "VALINHOS",
         "CHACARAS DAS ROSAS",
         "5.69",
         1,
         "Basic"
        ],
        [
         "VILHENA",
         "PARQUE INDUSTRIAL TANCREDO NEVES",
         "6.42",
         1,
         "Basic"
        ],
        [
         "MIRASSOL",
         "PORTAL DA CIDADE AMIGA",
         "5.64",
         1,
         "Basic"
        ],
        [
         "FLORIANOPOLIS",
         "SACO DOS LIMÕES",
         "6.29",
         1,
         "Basic"
        ],
        [
         "ALTAMIRA",
         "JARDIM INDEPENDENTE II",
         "6.79",
         1,
         "Basic"
        ],
        [
         "JACAREI",
         "RESIDENCIAL SAO PAULO",
         "5.64",
         1,
         "Basic"
        ],
        [
         "SAO PAULO",
         "VILA BUARQUE",
         "5.79",
         1,
         "Basic"
        ],
        [
         "ITAPECERICA DA SERRA",
         "JARDIM  MARILU",
         "5.79",
         1,
         "Basic"
        ],
        [
         "BOM DESPACHO",
         "JARDIM DOS IPES",
         "5.62",
         1,
         "Basic"
        ],
        [
         "AMERICANA",
         "BARROCA",
         "6.09",
         1,
         "Basic"
        ],
        [
         "OSASCO",
         "VILA YARA",
         "4.59",
         1,
         "Basic"
        ],
        [
         "SERRINHA",
         "CIDADE NOVA",
         "5.83",
         1,
         "Basic"
        ],
        [
         "BIRIGUI",
         "VILA PONTES",
         "5.41",
         1,
         "Basic"
        ],
        [
         "TERESINA",
         "PRIMAVERA",
         "6.49",
         1,
         "Basic"
        ],
        [
         "SANTANA DO LIVRAMENTO",
         "KENNEDY",
         "6.37",
         1,
         "Basic"
        ],
        [
         "CARATINGA",
         "LIMOEIRO",
         "5.82",
         1,
         "Basic"
        ],
        [
         "BRAGANCA PAULISTA",
         "PENHA",
         "5.74",
         1,
         "Basic"
        ],
        [
         "ALAGOINHAS",
         "SEDE",
         "5.58",
         1,
         "Basic"
        ],
        [
         "CURITIBA",
         "AGUA VERDE",
         "6.04",
         2,
         "Basic"
        ],
        [
         "NITEROI",
         "SÃO FRANCISCO",
         "5.49",
         1,
         "Basic"
        ],
        [
         "SANTA MARIA",
         "TOMAZETTI",
         "6.07",
         2,
         "Basic"
        ],
        [
         "ABAETETUBA",
         "AVIACAO",
         "6.20",
         2,
         "Basic"
        ],
        [
         "UBERABA",
         "MERCES",
         "5.77",
         2,
         "Basic"
        ],
        [
         "JI-PARANA",
         "JARDIM AURELIO BERNARDI",
         "7.37",
         1,
         "Basic"
        ],
        [
         "PRESIDENTE PRUDENTE",
         "VILA BRASIL",
         "6.04",
         1,
         "Basic"
        ],
        [
         "GRAVATAI",
         "MORADA DO VALE III",
         "5.58",
         1,
         "Basic"
        ],
        [
         "COLATINA",
         "LACE",
         "6.09",
         1,
         "Basic"
        ],
        [
         "PARAUAPEBAS",
         "LOTEAMENTO JARDIM CANADÁ",
         "6.99",
         1,
         "Basic"
        ],
        [
         "JOINVILLE",
         "JARDIM PARAISO",
         "5.99",
         1,
         "Basic"
        ],
        [
         "BOA VISTA",
         "SAO VICENTE",
         "6.47",
         1,
         "Basic"
        ],
        [
         "JOAO PESSOA",
         "VARADOURO",
         "5.71",
         1,
         "Basic"
        ],
        [
         "REDENCAO",
         "CENTRO",
         "5.94",
         1,
         "Basic"
        ],
        [
         "PALMAS",
         "CENTRO",
         "5.71",
         6,
         "Basic"
        ],
        [
         "DELMIRO GOUVEIA",
         "CIDADE UNIVERSITARIA",
         "6.71",
         1,
         "Basic"
        ],
        [
         "BAYEUX",
         "ALTO DA BOA VISTA",
         "5.41",
         2,
         "Basic"
        ],
        [
         "SANTO ANTONIO DE PADUA",
         "COSME E DAMIÃO",
         "5.58",
         1,
         "Basic"
        ],
        [
         "PARAUAPEBAS",
         "RIO VERDE",
         "6.70",
         2,
         "Basic"
        ],
        [
         "GUAIBA",
         "JARDIM DOS LAGOS",
         "6.04",
         1,
         "Basic"
        ],
        [
         "PIRACICABA",
         "PAULICEIA",
         "5.57",
         2,
         "Basic"
        ],
        [
         "ASSIS",
         "CDA 3",
         "5.91",
         1,
         "Basic"
        ],
        [
         "ARACATUBA",
         "JD. NOVA YORK",
         "6.29",
         1,
         "Basic"
        ],
        [
         "SANTO ANDRE",
         "VL GUIOMAR",
         "5.39",
         1,
         "Basic"
        ],
        [
         "AMERICANA",
         "JD. HELENA",
         "5.62",
         1,
         "Basic"
        ],
        [
         "TERESINA",
         "BEIRA RIO",
         "5.87",
         1,
         "Basic"
        ],
        [
         "UNIAO DA VITORIA",
         "NOSSA SENHORA DO ROCIO",
         "6.22",
         1,
         "Basic"
        ],
        [
         "SAO GONCALO",
         "PORTO NOVO",
         "5.74",
         1,
         "Basic"
        ],
        [
         "TERESINA",
         "SAO CRISTOVAO",
         "6.31",
         3,
         "Basic"
        ],
        [
         "SINOP",
         "JARDIM DAS PALMEIRAS",
         "5.92",
         2,
         "Basic"
        ],
        [
         "RIO BRANCO",
         "FLORESTA",
         "7.07",
         2,
         "Basic"
        ],
        [
         "GUARULHOS",
         "MACEDO",
         "7.99",
         1,
         "Basic"
        ],
        [
         "SAO GABRIEL",
         "UNIVERSITARIO",
         "6.08",
         1,
         "Basic"
        ],
        [
         "BRUMADO",
         "RODOVIARIO - SEDE",
         "5.94",
         1,
         "Basic"
        ],
        [
         "AMPARO",
         "DISTRITO TRES PONTES",
         "6.17",
         1,
         "Basic"
        ],
        [
         "BARRA DO PIRAI",
         "BELVEDERE DA TAQUARA",
         "6.74",
         1,
         "Basic"
        ],
        [
         "RONDONOPOLIS",
         "JD. PINDORAMA PART 1",
         "6.19",
         1,
         "Basic"
        ],
        [
         "COXIM",
         "PIRACEMA",
         "5.94",
         1,
         "Basic"
        ],
        [
         "CHAPECO",
         "EFAPI",
         "5.89",
         1,
         "Basic"
        ],
        [
         "PARNAIBA",
         "SAO FRANCISCO",
         "5.92",
         2,
         "Basic"
        ],
        [
         "SAO PAULO",
         "VL PRUDENTE",
         "7.05",
         1,
         "Basic"
        ],
        [
         "FORTALEZA",
         "CAJAZEIRAS",
         "5.14",
         1,
         "Basic"
        ],
        [
         "CAMPO GRANDE",
         "VILA NOSSA SENHORA LOURDES",
         "4.09",
         1,
         "Basic"
        ],
        [
         "ARAGUAINA",
         "SAO JOAO",
         "5.62",
         2,
         "Basic"
        ],
        [
         "MATAO",
         "IV CENTENARIO",
         "5.99",
         1,
         "Basic"
        ],
        [
         "PORTO ALEGRE",
         "SAO GERALDO",
         "5.57",
         2,
         "Basic"
        ],
        [
         "PASSO FUNDO",
         "CENTRO",
         "5.98",
         6,
         "Basic"
        ],
        [
         "MARABA",
         "NOVA MARABA",
         "6.13",
         8,
         "Premium"
        ],
        [
         "CAMBE",
         "JARDIM BOA VISTA",
         "5.64",
         1,
         "Basic"
        ],
        [
         "CAMETA",
         "CENTRO",
         "6.34",
         3,
         "Basic"
        ],
        [
         "TERESINA",
         "SAO PEDRO",
         "5.70",
         2,
         "Basic"
        ],
        [
         "SAO LUIZ GONZAGA",
         "AGRICOLA",
         "6.37",
         1,
         "Basic"
        ],
        [
         "ITUIUTABA",
         "PLATINA",
         "5.59",
         1,
         "Basic"
        ],
        [
         "LUZIANIA",
         "JARDIM JOCKEY CLUB",
         "5.68",
         1,
         "Basic"
        ],
        [
         "ITAPIPOCA",
         "BOA VISTA",
         "6.58",
         1,
         "Basic"
        ],
        [
         "PETROPOLIS",
         "CORONEL VEIGA",
         "5.57",
         2,
         "Basic"
        ],
        [
         "OURO PRETO",
         "SAO CRISTOVAO",
         "5.86",
         2,
         "Basic"
        ],
        [
         "PARAGOMINAS",
         "CIDADE NOVA",
         "6.37",
         1,
         "Basic"
        ],
        [
         "CONTAGEM",
         "CINCAO",
         "5.66",
         1,
         "Basic"
        ],
        [
         "SANTOS",
         "ESTUARIO",
         "6.59",
         1,
         "Basic"
        ],
        [
         "VIDEIRA",
         "DOIS PINHEIROS",
         "6.10",
         2,
         "Basic"
        ],
        [
         "SAO LUIS",
         "CUTIM ANIL",
         "5.44",
         1,
         "Basic"
        ],
        [
         "PARNAMIRIM",
         "VALE DO SOL",
         "5.81",
         3,
         "Basic"
        ],
        [
         "RIO DE JANEIRO",
         "PENHA",
         "5.66",
         2,
         "Basic"
        ],
        [
         "OLIMPIA",
         "JARDIM MENINA MOCA",
         "5.84",
         1,
         "Basic"
        ],
        [
         "SAO LUIS",
         "FORQUILHA",
         "5.36",
         1,
         "Basic"
        ],
        [
         "PALHOCA",
         "CENTRO",
         "5.99",
         1,
         "Basic"
        ],
        [
         "CAMPO MOURAO",
         "AREA URBANIZADA III",
         "5.84",
         1,
         "Basic"
        ],
        [
         "CACHOEIRO DE ITAPEMIRIM",
         "CENTRAL PARQUE",
         "5.84",
         1,
         "Basic"
        ],
        [
         "RIO VERDE",
         "PARQUE DOS BURITIS",
         "6.09",
         1,
         "Basic"
        ],
        [
         "POUSO ALEGRE",
         "FAZENDA GRANDE",
         "5.64",
         1,
         "Basic"
        ],
        [
         "TERESINA",
         "URUGUAI",
         "6.39",
         1,
         "Basic"
        ],
        [
         "JUIZ DE FORA",
         "SANTA TEREZINHA",
         "6.55",
         1,
         "Basic"
        ],
        [
         "CALDAS NOVAS",
         "JARDIM DOS TURISTAS",
         "5.96",
         1,
         "Basic"
        ],
        [
         "GUARULHOS",
         "JD STA RITA",
         "5.43",
         1,
         "Basic"
        ],
        [
         "SAO LUIZ GONZAGA",
         "CENTRO",
         "6.02",
         3,
         "Basic"
        ],
        [
         "GOIANIA",
         "JARDIM PRESIDENTE",
         "5.82",
         2,
         "Basic"
        ],
        [
         "CACADOR",
         "SAO CRISTOVAO",
         "5.99",
         1,
         "Basic"
        ],
        [
         "MANAUS",
         "NOVO ALEIXO",
         "6.29",
         2,
         "Basic"
        ],
        [
         "SAPUCAIA DO SUL",
         "PIRATINI",
         "5.84",
         1,
         "Basic"
        ],
        [
         "SANTAREM",
         "CARANAZAL",
         "6.23",
         4,
         "Basic"
        ],
        [
         "NOVO HAMBURGO",
         "PATRIA NOVA",
         "5.84",
         1,
         "Basic"
        ],
        [
         "SAO JOSE DE RIBAMAR",
         "VILA SARNEY FILHO I",
         "5.69",
         1,
         "Basic"
        ],
        [
         "SETE LAGOAS",
         "CENTRO",
         "5.66",
         5,
         "Basic"
        ],
        [
         "MOGI DAS CRUZES",
         "VILA LAVINIA",
         "5.99",
         1,
         "Basic"
        ],
        [
         "SOROCABA",
         "JD. SIRIEMA",
         "5.92",
         1,
         "Basic"
        ],
        [
         "SANTAREM",
         "APARECIDA",
         "6.07",
         2,
         "Basic"
        ],
        [
         "CACERES",
         "JARDIM SAO LUIZ DA PONTE",
         "5.79",
         2,
         "Basic"
        ],
        [
         "JATAI",
         "CENTRO",
         "6.15",
         2,
         "Basic"
        ],
        [
         "ABAETETUBA",
         "CENTRO",
         "5.70",
         1,
         "Basic"
        ],
        [
         "BOA VISTA",
         "CALUNGA",
         "6.74",
         1,
         "Basic"
        ],
        [
         "ARCOVERDE",
         "CORONEL SIQUEIRA CAMPOS",
         "5.79",
         1,
         "Basic"
        ],
        [
         "GOIANIA",
         "JARDIM ATLANTICO",
         "5.87",
         1,
         "Basic"
        ],
        [
         "IPATINGA",
         "BETHANIA",
         "5.79",
         1,
         "Basic"
        ],
        [
         "ITABUNA",
         "TAVEIROLANDIA",
         "5.29",
         1,
         "Basic"
        ],
        [
         "BELO HORIZONTE",
         "MANGABEIRAS",
         "6.49",
         1,
         "Basic"
        ],
        [
         "VARZEA GRANDE",
         "PARQUE INDUSTRIAL ATLANTICO",
         "5.70",
         1,
         "Basic"
        ],
        [
         "JI-PARANA",
         "JARDIM PRESIDENCIAL",
         "6.99",
         1,
         "Basic"
        ],
        [
         "SIMOES FILHO",
         "PALMARES",
         "5.61",
         1,
         "Basic"
        ],
        [
         "TRINDADE",
         "SETOR MARIA EDUARDA",
         "5.89",
         1,
         "Basic"
        ],
        [
         "JOAO PESSOA",
         "JD CIDADE UNIVERSITA",
         "5.68",
         1,
         "Basic"
        ],
        [
         "ATIBAIA",
         "PORTAO",
         "5.75",
         2,
         "Basic"
        ],
        [
         "ITAQUAQUECETUBA",
         "VL VIRGINIA",
         "5.99",
         1,
         "Basic"
        ],
        [
         "SINOP",
         "ZONA RURAL",
         "5.71",
         2,
         "Basic"
        ],
        [
         "SAO GONCALO",
         "GRADIM",
         "5.63",
         2,
         "Basic"
        ],
        [
         "COLOMBO",
         "MAUA",
         "5.74",
         1,
         "Basic"
        ],
        [
         "OSASCO",
         "JD PIRATININGA",
         "5.32",
         1,
         "Basic"
        ],
        [
         "FORMOSA",
         "SETOR BOSQUE",
         "6.04",
         1,
         "Basic"
        ],
        [
         "PICOS",
         "CENTRO",
         "5.95",
         3,
         "Basic"
        ],
        [
         "ITABAIANA",
         "JOSE MILTON MACHADO",
         "5.68",
         1,
         "Basic"
        ],
        [
         "JOSE BONIFACIO",
         "JARDIM PANORAMA",
         "5.52",
         1,
         "Basic"
        ],
        [
         "GUARULHOS",
         "JD PONTE GRANDE",
         "5.36",
         1,
         "Basic"
        ],
        [
         "SERRA",
         "NOVO HORIZONTE",
         "5.84",
         1,
         "Basic"
        ],
        [
         "MAUA",
         "SERTAOZINHO",
         "5.68",
         1,
         "Basic"
        ],
        [
         "CARAPICUIBA",
         "POUSADA DOS BANDEIRANTES",
         "5.69",
         1,
         "Basic"
        ],
        [
         "JUIZ DE FORA",
         "BANDEIRANTES",
         "5.70",
         1,
         "Basic"
        ],
        [
         "SANTO ANDRE",
         "SILVEIRA",
         "5.99",
         1,
         "Basic"
        ],
        [
         "OLIVEIRA",
         "SANTA MARIA",
         "5.89",
         1,
         "Basic"
        ],
        [
         "ITAMARAJU",
         "CENTRO",
         "5.81",
         4,
         "Basic"
        ],
        [
         "ARACATUBA",
         "NOVO PARAISO",
         "5.67",
         1,
         "Basic"
        ],
        [
         "SANTAREM",
         "ALDEIA",
         "6.05",
         1,
         "Basic"
        ],
        [
         "CONSELHEIRO LAFAIETE",
         "CARIJOS",
         "5.54",
         1,
         "Basic"
        ],
        [
         "RECIFE",
         "JARDIM SAO PAULO",
         "5.74",
         2,
         "Basic"
        ],
        [
         "GOIANIA",
         "PARQUE AMAZONIA",
         "5.91",
         3,
         "Basic"
        ],
        [
         "ARACATUBA",
         "PLANALTO",
         "5.48",
         1,
         "Basic"
        ],
        [
         "JI-PARANA",
         "CAFEZINHO",
         "6.39",
         1,
         "Basic"
        ],
        [
         "TRINDADE",
         "SETOR OESTE",
         "5.74",
         1,
         "Basic"
        ],
        [
         "DUQUE DE CAXIAS",
         "VILA SANTA ALICE",
         "5.49",
         1,
         "Basic"
        ],
        [
         "ITAPIRA",
         "PRADOS",
         "5.97",
         2,
         "Basic"
        ],
        [
         "BALNEARIO CAMBORIU",
         "MUNICIPIOS",
         "5.69",
         1,
         "Basic"
        ],
        [
         "RECIFE",
         "TORRE",
         "5.31",
         3,
         "Basic"
        ],
        [
         "TRINDADE",
         "VILA JOAO BRAZ",
         "5.79",
         1,
         "Basic"
        ],
        [
         "ITU",
         "JARDIM PADRE BENTO",
         "5.96",
         2,
         "Basic"
        ],
        [
         "CARUARU",
         "SAO FRANCISCO",
         "5.74",
         1,
         "Basic"
        ],
        [
         "GRAVATAI",
         "SALGADO FILHO",
         "5.28",
         1,
         "Basic"
        ],
        [
         "BELEM",
         "TELEGRAFO",
         "5.52",
         1,
         "Basic"
        ],
        [
         "DIVINOPOLIS",
         "PORTO VELHO",
         "5.76",
         1,
         "Basic"
        ],
        [
         "PIRIPIRI",
         "SAO JOAO",
         "6.29",
         1,
         "Basic"
        ],
        [
         "IMPERATRIZ",
         "COCO GRANDE",
         "5.69",
         1,
         "Basic"
        ],
        [
         "VOLTA REDONDA",
         "JARDIM BELVEDERE",
         "5.79",
         1,
         "Basic"
        ],
        [
         "FORMOSA",
         "SETOR SUL",
         "5.99",
         1,
         "Basic"
        ],
        [
         "BOA VISTA",
         "SANTA TEREZA",
         "6.64",
         1,
         "Basic"
        ],
        [
         "SAO PAULO",
         "GUAIANAZES",
         "6.04",
         2,
         "Basic"
        ],
        [
         "MACEIO",
         "SERRARIA",
         "5.49",
         1,
         "Basic"
        ],
        [
         "SAO LUIS",
         "CAMBOA",
         "5.59",
         2,
         "Basic"
        ],
        [
         "CHAPECO",
         "PASSO DOS FORTES",
         "6.18",
         1,
         "Basic"
        ],
        [
         "SANTO ANTONIO DA PLATINA",
         "CENTRO",
         "5.82",
         4,
         "Basic"
        ],
        [
         "ALAGOINHAS",
         "POSTO",
         "5.60",
         1,
         "Basic"
        ],
        [
         "MARINGA",
         "VILA MORANGUEIRA",
         "5.57",
         1,
         "Basic"
        ],
        [
         "TRINDADE",
         "SETOR MAYSA",
         "5.79",
         1,
         "Basic"
        ],
        [
         "AMPARO",
         "ARCADAS",
         "6.04",
         1,
         "Basic"
        ],
        [
         "JOSE BONIFACIO",
         "JARDIM DAS FLORES",
         "5.55",
         1,
         "Basic"
        ],
        [
         "TEFE",
         "SÃO JOÃO",
         "7.80",
         1,
         "Basic"
        ],
        [
         "SAO PAULO",
         "BUTANTA",
         "5.45",
         3,
         "Basic"
        ],
        [
         "GUANAMBI",
         "SAO FRANCISCO",
         "5.90",
         1,
         "Basic"
        ],
        [
         "SALVADOR",
         "PITUBA",
         "5.90",
         2,
         "Basic"
        ],
        [
         "MANAUS",
         "SANTA ETELVINA",
         "6.29",
         1,
         "Basic"
        ],
        [
         "SERRA",
         "SAO PEDRO",
         "5.89",
         1,
         "Basic"
        ],
        [
         "SAO VICENTE",
         "PARQUE SAO VICENTE",
         "5.47",
         1,
         "Basic"
        ],
        [
         "SAO MATEUS",
         "AYRTON SENNA",
         "5.69",
         1,
         "Basic"
        ],
        [
         "SANTO ANDRE",
         "PARQUE BANDEIRANTE",
         "6.49",
         1,
         "Basic"
        ],
        [
         "SAO PAULO",
         "BELA VISTA",
         "6.59",
         1,
         "Basic"
        ],
        [
         "SAO JOSE DE RIBAMAR",
         "VILA FLAMENGO",
         "5.48",
         1,
         "Basic"
        ],
        [
         "ARACATUBA",
         "VILA INDUSTRIAL",
         "5.39",
         1,
         "Basic"
        ],
        [
         "IBITINGA",
         "JARDIM CENTENARIO",
         "6.29",
         1,
         "Basic"
        ],
        [
         "TEIXEIRA DE FREITAS",
         "CENTRO",
         "6.39",
         1,
         "Basic"
        ],
        [
         "GUAIBA",
         "LOTEAMENTO DA RAMADA",
         "5.94",
         1,
         "Basic"
        ],
        [
         "TUBARAO",
         "SAO JOAO (MARGEM ESQUERDA)",
         "5.89",
         1,
         "Basic"
        ],
        [
         "FOZ DO IGUACU",
         "CAMPOS DO IGUACU",
         "6.09",
         1,
         "Basic"
        ],
        [
         "DUQUE DE CAXIAS",
         "BAR DOS CAVALEIROS",
         "5.89",
         1,
         "Basic"
        ],
        [
         "CACHOEIRA DO SUL",
         "CENTRO",
         "5.92",
         5,
         "Basic"
        ],
        [
         "JACOBINA",
         "CATUABA",
         "6.18",
         3,
         "Basic"
        ],
        [
         "ITABUNA",
         "FERRADAS",
         "5.67",
         1,
         "Basic"
        ],
        [
         "BELO HORIZONTE",
         "VILA TIRADENTES",
         "5.36",
         1,
         "Basic"
        ],
        [
         "PATROCINIO",
         "NACOES",
         "6.22",
         1,
         "Basic"
        ],
        [
         "PETROPOLIS",
         "CORREAS",
         "5.89",
         1,
         "Basic"
        ],
        [
         "FEIRA DE SANTANA",
         "MUCHILA II",
         "5.69",
         1,
         "Basic"
        ],
        [
         "ANAPOLIS",
         "PARAISO",
         "5.72",
         1,
         "Basic"
        ],
        [
         "VALENCA",
         "CARAMBITA",
         "6.29",
         1,
         "Basic"
        ],
        [
         "CAMPO GRANDE",
         "VILA TRIANGULO",
         "5.90",
         1,
         "Basic"
        ],
        [
         "ARARAS",
         "BELVEDERE",
         "4.99",
         1,
         "Basic"
        ],
        [
         "SAO GONCALO",
         "VISTA ALEGRE",
         "5.32",
         2,
         "Basic"
        ],
        [
         "SUZANO",
         "PARQUE PALMEIRAS",
         "5.49",
         1,
         "Basic"
        ],
        [
         "JUNDIAI",
         "VILA MAFALDA",
         "5.49",
         1,
         "Basic"
        ],
        [
         "SANTO ANDRE",
         "VILA GUIOMAR",
         "5.56",
         3,
         "Basic"
        ],
        [
         "MONTES CLAROS",
         "CENTRO",
         "5.68",
         1,
         "Basic"
        ],
        [
         "FRANCISCO BELTRAO",
         "ALVORADA",
         "5.95",
         1,
         "Basic"
        ],
        [
         "SAO BERNARDO DO CAMPO",
         "VILA MARLENE",
         "6.69",
         1,
         "Basic"
        ],
        [
         "MONTES CLAROS",
         "SEDE",
         "5.60",
         1,
         "Basic"
        ],
        [
         "POA",
         "JARDIM EMILIA",
         "6.79",
         1,
         "Basic"
        ],
        [
         "IJUI",
         "INTERIOR",
         "5.95",
         1,
         "Basic"
        ],
        [
         "CURITIBA",
         "TARUMA",
         "6.19",
         1,
         "Basic"
        ],
        [
         "SANTO ANDRE",
         "VILA PIRES",
         "6.19",
         2,
         "Basic"
        ],
        [
         "JOINVILLE",
         "COSTA E SILVA",
         "5.88",
         3,
         "Basic"
        ],
        [
         "SERRA",
         "BARCELONA",
         "5.79",
         1,
         "Basic"
        ],
        [
         "COLATINA",
         "HONORIO FRAGA",
         "5.84",
         1,
         "Basic"
        ],
        [
         "JOAO PESSOA",
         "ESTADOS",
         "5.68",
         1,
         "Basic"
        ],
        [
         "SOROCABA",
         "ÉDEN",
         "5.84",
         1,
         "Basic"
        ],
        [
         "GOVERNADOR VALADARES",
         "CENTRO",
         "5.88",
         4,
         "Basic"
        ],
        [
         "DUQUE DE CAXIAS",
         "VILA BONANCA",
         "5.42",
         1,
         "Basic"
        ],
        [
         "ITAPETININGA",
         "PARQUE DA LAGOA",
         "6.69",
         1,
         "Basic"
        ],
        [
         "PRAIA GRANDE",
         "GUILHERMINA",
         "6.29",
         1,
         "Basic"
        ],
        [
         "ITAPERUNA",
         "PRES COSTA E SILVA",
         "5.94",
         1,
         "Basic"
        ],
        [
         "BELO HORIZONTE",
         "SANTA   EFIGENIA",
         "5.77",
         1,
         "Basic"
        ],
        [
         "VOLTA REDONDA",
         "PONTE ALTA",
         "6.18",
         1,
         "Basic"
        ],
        [
         "SOROCABA",
         "CENTRO",
         "5.89",
         1,
         "Basic"
        ],
        [
         "CUIABA",
         "GOIABEIRA",
         "5.92",
         1,
         "Basic"
        ],
        [
         "BELEM",
         "MARAMBAIA",
         "5.49",
         1,
         "Basic"
        ],
        [
         "AMPARO",
         "RIBEIRÃO",
         "5.88",
         1,
         "Basic"
        ],
        [
         "CACHOEIRA DO SUL",
         "UNIVERSITARIO",
         "6.09",
         1,
         "Basic"
        ],
        [
         "CARAGUATATUBA",
         "MASSAGUACU",
         "6.08",
         1,
         "Basic"
        ],
        [
         "CAMPO LARGO",
         "VILA BANCARIA",
         "5.99",
         1,
         "Basic"
        ],
        [
         "TERESINA",
         "MACAUBA",
         "5.89",
         1,
         "Basic"
        ],
        [
         "JATAI",
         "DIVINO ESPIRITO SANTO",
         "5.72",
         1,
         "Basic"
        ],
        [
         "JOAO MONLEVADE",
         "BAU",
         "5.92",
         1,
         "Basic"
        ],
        [
         "CAMPO GRANDE",
         "CENTRO",
         "5.40",
         4,
         "Basic"
        ],
        [
         "SAO MATEUS",
         "GURIRI NORTE",
         "5.83",
         1,
         "Basic"
        ],
        [
         "PETROLINA",
         "CENTRO",
         "6.17",
         3,
         "Basic"
        ],
        [
         "SAO LEOPOLDO",
         "SCHARLAU",
         "5.49",
         2,
         "Basic"
        ],
        [
         "PARANAGUA",
         "PARQUE SAO JOAO",
         "5.86",
         2,
         "Basic"
        ],
        [
         "PIRACICABA",
         "JD. NOVA IGUACU",
         "6.39",
         1,
         "Basic"
        ],
        [
         "PRAIA GRANDE",
         "CAICARA",
         "6.02",
         3,
         "Basic"
        ],
        [
         "COXIM",
         "BAIRRO PIRACEMA",
         "5.87",
         1,
         "Basic"
        ],
        [
         "CHAPECO",
         "SANTA MARIA",
         "5.92",
         1,
         "Basic"
        ],
        [
         "BELEM",
         "TELEGRAFO SEM FIO",
         "5.60",
         1,
         "Basic"
        ],
        [
         "MARILIA",
         "BAIRRO PALMITAL",
         "5.79",
         1,
         "Basic"
        ],
        [
         "BARREIRAS",
         "BARREIRINHAS",
         "6.24",
         1,
         "Basic"
        ],
        [
         "JUAZEIRO DO NORTE",
         "SANTA TEREZA",
         "6.49",
         1,
         "Basic"
        ],
        [
         "BELEM",
         "COQUEIRO",
         "5.73",
         2,
         "Basic"
        ],
        [
         "TEOFILO OTONI",
         "CENTRO",
         "5.66",
         5,
         "Basic"
        ],
        [
         "CASTRO",
         "VILA RIO BRANCO",
         "6.35",
         2,
         "Basic"
        ],
        [
         "VILA VELHA",
         "RIO MARINHO",
         "5.84",
         2,
         "Basic"
        ],
        [
         "TUPA",
         "JD STA MARIA",
         "5.82",
         1,
         "Basic"
        ],
        [
         "INDAIATUBA",
         "VILA SAO JOSE",
         "5.44",
         1,
         "Basic"
        ],
        [
         "DIADEMA",
         "JD MARAVILHA",
         "5.54",
         1,
         "Basic"
        ],
        [
         "SAO PAULO",
         "BAIRRO VARZEA BAIXA",
         "5.99",
         1,
         "Basic"
        ],
        [
         "CABEDELO",
         "PRAIA DO POÇO",
         "6.03",
         1,
         "Basic"
        ],
        [
         "ITAPERUNA",
         "MAL. CASTELO BRANCO",
         "5.94",
         1,
         "Basic"
        ],
        [
         "PARNAMIRIM",
         "PARQUE DE EXPOSICOES",
         "5.89",
         1,
         "Basic"
        ],
        [
         "CATALAO",
         "CENTRO",
         "5.94",
         3,
         "Basic"
        ],
        [
         "CURITIBA",
         "BOQUEIRÃO",
         "5.76",
         2,
         "Basic"
        ],
        [
         "MARILIA",
         "JD. TANGARA",
         "5.89",
         1,
         "Basic"
        ],
        [
         "GARCA",
         "JARDIM RIBEIRO DE ANDRADE",
         "6.04",
         1,
         "Basic"
        ],
        [
         "TATUI",
         "JARDIM TOKIO",
         "6.64",
         1,
         "Basic"
        ],
        [
         "PETROPOLIS",
         "MORIN",
         "5.89",
         1,
         "Basic"
        ],
        [
         "FOZ DO IGUACU",
         "VILA PEROLA",
         "6.29",
         1,
         "Basic"
        ],
        [
         "SANTO ANTONIO DE PADUA",
         "1º DISTRITO",
         "6.19",
         1,
         "Basic"
        ],
        [
         "OSORIO",
         "ALBATROZ",
         "5.59",
         1,
         "Basic"
        ],
        [
         "GUARULHOS",
         "PARQUE SAO MIGUEL",
         "6.19",
         1,
         "Basic"
        ],
        [
         "CARATINGA",
         "SALATIEL",
         "5.89",
         2,
         "Basic"
        ],
        [
         "CAUCAIA",
         "ARIANOPOLES",
         "5.69",
         1,
         "Basic"
        ],
        [
         "PASSO FUNDO",
         "VILA RODRIGUES",
         "5.95",
         3,
         "Basic"
        ],
        [
         "SAO JOSE DOS CAMPOS",
         "JD SATELITE",
         "5.79",
         1,
         "Basic"
        ],
        [
         "BELEM",
         "PRATINHA",
         "6.16",
         1,
         "Basic"
        ],
        [
         "TERESINA",
         "TANCREDO NEVES",
         "5.67",
         1,
         "Basic"
        ],
        [
         "CABEDELO",
         "PORTAL DO POCO",
         "5.74",
         1,
         "Basic"
        ],
        [
         "PATROCINIO",
         "INDUSTRIAL",
         "6.48",
         1,
         "Basic"
        ],
        [
         "GUARULHOS",
         "CID SAT DE CUMBICA",
         "5.65",
         1,
         "Basic"
        ],
        [
         "JABOTICABAL",
         "JD BRANDI",
         "6.04",
         1,
         "Basic"
        ],
        [
         "TERESINA",
         "ANGELIM",
         "5.78",
         3,
         "Basic"
        ],
        [
         "SAO PAULO",
         "VILA CALIFORNIA",
         "6.49",
         1,
         "Basic"
        ],
        [
         "UBERABA",
         "JARDIM SANTA CLARA",
         "5.44",
         1,
         "Basic"
        ],
        [
         "MANACAPURU",
         "LIBERDADE",
         "6.84",
         1,
         "Basic"
        ],
        [
         "FORTALEZA",
         "BARRA DO CEARA",
         "5.20",
         1,
         "Basic"
        ],
        [
         "VOTUPORANGA",
         "VILA AMERICA",
         "6.07",
         1,
         "Basic"
        ],
        [
         "TRES CORACOES",
         "VL N S DE FATIMA",
         "5.96",
         1,
         "Basic"
        ],
        [
         "RIO DE JANEIRO",
         "BENFICA",
         "5.35",
         2,
         "Basic"
        ],
        [
         "VALINHOS",
         "AR ANTONIO BISSOTO",
         "5.69",
         1,
         "Basic"
        ],
        [
         "COXIM",
         "CENTRO",
         "6.15",
         2,
         "Basic"
        ],
        [
         "MOGI GUACU",
         "VILA PARAISO",
         "5.94",
         1,
         "Basic"
        ],
        [
         "VILA VELHA",
         "DIVINO ESPÍRITO SANTO",
         "5.99",
         1,
         "Basic"
        ],
        [
         "JUNDIAI",
         "VILA ARENS",
         "5.50",
         1,
         "Basic"
        ],
        [
         "BOA VISTA",
         "DR. SILVIO LEITE",
         "6.37",
         1,
         "Basic"
        ],
        [
         "MARINGA",
         "CIDADE NOVA",
         "5.77",
         1,
         "Basic"
        ],
        [
         "VILHENA",
         "S-13",
         "6.02",
         1,
         "Basic"
        ],
        [
         "BENTO GONCALVES",
         "CENTRO",
         "5.89",
         2,
         "Basic"
        ],
        [
         "BETIM",
         "DECAMAO",
         "5.79",
         1,
         "Basic"
        ],
        [
         "MOGI DAS CRUZES",
         "JD UNIVERSO",
         "5.59",
         1,
         "Basic"
        ],
        [
         "CUBATAO",
         "VILA COUTO",
         "6.93",
         1,
         "Basic"
        ],
        [
         "ARAGUAINA",
         "65",
         "5.59",
         1,
         "Basic"
        ],
        [
         "PATROCINIO",
         "SAO VICENTE",
         "6.04",
         1,
         "Basic"
        ],
        [
         "RIO DE JANEIRO",
         "TIJUCA",
         "5.49",
         1,
         "Basic"
        ],
        [
         "ARAGUAINA",
         "LOTEAMENTO MANOEL GOMES DA CUNHA",
         "5.47",
         1,
         "Basic"
        ],
        [
         "BOA VISTA",
         "JARDIM TROPICAL",
         "6.58",
         1,
         "Basic"
        ],
        [
         "AVARE",
         "BOM SUCESSO",
         "5.39",
         1,
         "Basic"
        ],
        [
         "SANTOS",
         "PONTA DA PRAIA",
         "6.69",
         1,
         "Basic"
        ],
        [
         "BRASILIA",
         "RECANTO DAS EMAS",
         "5.83",
         4,
         "Basic"
        ],
        [
         "CRICIUMA",
         "CEARA",
         "5.89",
         1,
         "Basic"
        ],
        [
         "SALVADOR",
         "FEDERACAO",
         "5.92",
         1,
         "Basic"
        ],
        [
         "COLOMBO",
         "JD SANTA FE",
         "5.84",
         1,
         "Basic"
        ],
        [
         "VITORIA DA CONQUISTA",
         "BOA VISTA",
         "5.81",
         2,
         "Basic"
        ],
        [
         "MINEIROS",
         "COHACOL TRES",
         "6.12",
         1,
         "Basic"
        ],
        [
         "ITANHAEM",
         "JARDIM BELAS ARTES",
         "6.21",
         1,
         "Basic"
        ],
        [
         "XANXERE",
         "BORTOLON",
         "5.67",
         2,
         "Basic"
        ],
        [
         "NOVA IGUACU",
         "CENTRO",
         "5.28",
         3,
         "Basic"
        ],
        [
         "CAMPO GRANDE",
         "CIDADE MORENA",
         "5.89",
         1,
         "Basic"
        ],
        [
         "VOTORANTIM",
         "JARDIM CLARICE",
         "5.69",
         1,
         "Basic"
        ],
        [
         "CACERES",
         "JARDIM DO TREVO",
         "6.20",
         1,
         "Basic"
        ],
        [
         "IPATINGA",
         "BAIRRO IGUACU",
         "5.74",
         1,
         "Basic"
        ],
        [
         "CARUARU",
         "LADO DIREITO",
         "5.67",
         1,
         "Basic"
        ],
        [
         "ITANHAEM",
         "CENTRO",
         "5.99",
         2,
         "Basic"
        ],
        [
         "ADAMANTINA",
         "VILA ENDO",
         "5.57",
         1,
         "Basic"
        ],
        [
         "SALVADOR",
         "PIRAJA",
         "4.96",
         1,
         "Basic"
        ],
        [
         "SUMARE",
         "MATAO",
         "5.59",
         1,
         "Basic"
        ],
        [
         "LAURO DE FREITAS",
         "RECREIO IPITANGA",
         "5.99",
         1,
         "Basic"
        ],
        [
         "CACHOEIRO DE ITAPEMIRIM",
         "AEROPORTO",
         "5.73",
         1,
         "Basic"
        ],
        [
         "ITAPOLIS",
         "JARDIM REDENCAO",
         "5.59",
         1,
         "Basic"
        ],
        [
         "RIO CLARO",
         "PARQUE MAE PRETA",
         "5.54",
         1,
         "Basic"
        ],
        [
         "COLOMBO",
         "JARDIM DAS OLIVEIRAS",
         "5.99",
         1,
         "Basic"
        ],
        [
         "GOIANIA",
         "NOVA SUIÇA",
         "5.49",
         1,
         "Basic"
        ],
        [
         "NOSSA SENHORA DO SOCORRO",
         "SOBRADO",
         "5.80",
         1,
         "Basic"
        ],
        [
         "BOTUCATU",
         "VILA MARIA",
         "5.99",
         1,
         "Basic"
        ],
        [
         "TERESINA",
         "NOSSA SENHORA DAS GRACAS",
         "5.99",
         1,
         "Basic"
        ],
        [
         "CACOAL",
         "CENTRO",
         "6.34",
         4,
         "Basic"
        ],
        [
         "PAULISTA",
         "FRAGOSO",
         "5.77",
         1,
         "Basic"
        ],
        [
         "PARAUAPEBAS",
         "LIBERDADE",
         "6.78",
         1,
         "Basic"
        ],
        [
         "TORRES",
         "CENTRO",
         "5.88",
         4,
         "Basic"
        ],
        [
         "CURITIBA",
         "BOQUEIRAO",
         "5.74",
         7,
         "Basic"
        ],
        [
         "MOSSORO",
         "ALTO DO SUMARE",
         "5.73",
         2,
         "Basic"
        ],
        [
         "VICOSA",
         "SANTO ANTÔNIO",
         "6.29",
         1,
         "Basic"
        ],
        [
         "CURITIBA",
         "SANTO INÁCIO",
         "6.09",
         1,
         "Basic"
        ],
        [
         "SAO PAULO",
         "HORTO FLORESTAL",
         "5.57",
         1,
         "Basic"
        ],
        [
         "CUBATAO",
         "VILA NOVA",
         "6.80",
         1,
         "Basic"
        ],
        [
         "PATOS",
         "CENTRO",
         "5.89",
         2,
         "Basic"
        ],
        [
         "MOCOCA",
         "JARDIM SAO FRANCISCO",
         "5.99",
         1,
         "Basic"
        ],
        [
         "SAO PAULO",
         "VILA PLANA",
         "4.82",
         1,
         "Basic"
        ],
        [
         "ALTA FLORESTA",
         "CANTEIRO CENTRAL",
         "6.72",
         1,
         "Basic"
        ],
        [
         "PALHOCA",
         "RIO GRANDE",
         "5.99",
         1,
         "Basic"
        ],
        [
         "VARZEA PAULISTA",
         "JD BERTIOGA",
         "5.94",
         1,
         "Basic"
        ],
        [
         "GOIATUBA",
         "SETOR IMPERIAL",
         "5.59",
         1,
         "Basic"
        ],
        [
         "LINHARES",
         "NOVO HORIZONTE",
         "5.90",
         2,
         "Basic"
        ],
        [
         "FLORIANOPOLIS",
         "CORREGO GRANDE",
         "6.09",
         1,
         "Basic"
        ],
        [
         "CAMACARI",
         "POLO PETROQUIMICO",
         "6.50",
         1,
         "Basic"
        ],
        [
         "RECIFE",
         "SAN MARTIN",
         "5.19",
         1,
         "Basic"
        ],
        [
         "MINEIROS",
         "MANOEL ABRAO",
         "6.12",
         1,
         "Basic"
        ],
        [
         "TABOAO DA SERRA",
         "JARDIM SALETE",
         "6.18",
         1,
         "Basic"
        ],
        [
         "LIVRAMENTO DE NOSSA SENHORA",
         "TAQUARI",
         "5.98",
         3,
         "Basic"
        ],
        [
         "UBATUBA",
         "CENTRO",
         "5.93",
         3,
         "Basic"
        ],
        [
         "PARNAMIRIM",
         "ROSA DOS VENTOS",
         "6.29",
         1,
         "Basic"
        ],
        [
         "NOVO HAMBURGO",
         "HAMBURGO VELHO",
         "5.47",
         1,
         "Basic"
        ],
        [
         "FORTALEZA",
         "MONDUBIM",
         "5.95",
         2,
         "Basic"
        ],
        [
         "SAO PAULO",
         "SANTO AMARO",
         "6.08",
         3,
         "Basic"
        ],
        [
         "ALTAMIRA",
         "CENTRO",
         "6.49",
         3,
         "Basic"
        ],
        [
         "SANTA BARBARA D'OESTE",
         "CIDADE NOVA",
         "5.67",
         1,
         "Basic"
        ],
        [
         "GOIANIA",
         "CONJUNTO ROMILDO FERREIRA DO AMARAL",
         "5.89",
         1,
         "Basic"
        ],
        [
         "MAGE",
         "PIABETA",
         "5.73",
         2,
         "Basic"
        ],
        [
         "LIMEIRA",
         "ANAVEC",
         "5.99",
         1,
         "Basic"
        ],
        [
         "SAPIRANGA",
         "HORIZONTE",
         "5.79",
         1,
         "Basic"
        ],
        [
         "PETROLINA",
         "ZONA RURAL",
         "5.76",
         2,
         "Basic"
        ],
        [
         "CAMPO BELO",
         "AEROPORTO",
         "5.89",
         1,
         "Basic"
        ],
        [
         "TERESINA",
         "SAO  JOAO",
         "5.89",
         1,
         "Basic"
        ],
        [
         "ITAPECERICA DA SERRA",
         "CENTRO",
         "5.81",
         2,
         "Basic"
        ],
        [
         "SANTOS",
         "MACUCO",
         "5.54",
         1,
         "Basic"
        ],
        [
         "SANTA MARIA",
         "MEDIANEIRA",
         "6.69",
         1,
         "Basic"
        ],
        [
         "ALAGOINHAS",
         "SAUIPE",
         "5.69",
         1,
         "Basic"
        ],
        [
         "IMPERATRIZ",
         "BACURI",
         "5.90",
         4,
         "Basic"
        ],
        [
         "VACARIA",
         "SANTA TEREZINHA",
         "6.00",
         3,
         "Basic"
        ],
        [
         "CAMPOS DOS GOYTACAZES",
         "URURAÍ",
         "5.74",
         1,
         "Basic"
        ],
        [
         "PATOS DE MINAS",
         "CRISTO REDENTOR",
         "6.00",
         3,
         "Basic"
        ],
        [
         "PAULO AFONSO",
         "TANCREDO NEVES II",
         "6.03",
         3,
         "Basic"
        ],
        [
         "CRICIUMA",
         "JARDIM MARISTELA",
         "5.60",
         2,
         "Basic"
        ],
        [
         "PORTO ALEGRE",
         "PETROPOLIS",
         "5.79",
         2,
         "Basic"
        ],
        [
         "TIMOTEO",
         "OLARIA",
         "5.74",
         1,
         "Basic"
        ],
        [
         "PALMAS",
         "CENTRO (TAQUARALTO)",
         "5.74",
         1,
         "Basic"
        ],
        [
         "TUPA",
         "VILA TUPA MIRIM II",
         "5.99",
         1,
         "Basic"
        ],
        [
         "DOURADOS",
         "VILA LILI",
         "6.07",
         1,
         "Basic"
        ],
        [
         "CRATO",
         "MURITI",
         "5.97",
         1,
         "Basic"
        ],
        [
         "VIAMAO",
         "KRAHE",
         "6.24",
         1,
         "Basic"
        ],
        [
         "NOVO HAMBURGO",
         "CENTRO",
         "5.67",
         1,
         "Basic"
        ],
        [
         "CIANORTE",
         "ZONA TRES",
         "5.49",
         1,
         "Basic"
        ],
        [
         "BOTUCATU",
         "RUBIAO JUNIOR",
         "5.99",
         1,
         "Basic"
        ],
        [
         "UBERLANDIA",
         "PARQUE GRANADA",
         "5.87",
         1,
         "Basic"
        ],
        [
         "ACAILANDIA",
         "GETAT",
         "5.83",
         1,
         "Basic"
        ],
        [
         "JABOTICABAL",
         "APARECIDA",
         "5.79",
         1,
         "Basic"
        ],
        [
         "CONTAGEM",
         "INDUSTRIAL-3 SECAO",
         "5.69",
         1,
         "Basic"
        ],
        [
         "CAMPO GRANDE",
         "VILA SANTA  CATARINA",
         "5.99",
         1,
         "Basic"
        ],
        [
         "PASSO FUNDO",
         "VILA ARAUJO",
         "5.79",
         1,
         "Basic"
        ],
        [
         "NOVA ANDRADINA",
         "CENTRO",
         "6.12",
         7,
         "Basic"
        ],
        [
         "TAUBATE",
         "CENTRO",
         "5.85",
         2,
         "Basic"
        ],
        [
         "ARARIPINA",
         "MORAIS",
         "5.67",
         2,
         "Basic"
        ],
        [
         "JOINVILLE",
         "BUCAREIN",
         "5.56",
         2,
         "Basic"
        ],
        [
         "LAGUNA",
         "BARRANCEIRA",
         "5.94",
         1,
         "Basic"
        ],
        [
         "ALTAMIRA",
         "JARDIM INDEPENDENTE I",
         "6.77",
         1,
         "Basic"
        ],
        [
         "SERTAOZINHO",
         "JARDIM GRANDE ALIANCA",
         "5.89",
         1,
         "Basic"
        ],
        [
         "RIBEIRAO PIRES",
         "JARDIM PASTORIL",
         "6.29",
         1,
         "Basic"
        ],
        [
         "MOGI DAS CRUZES",
         "PARQUE SANTANA",
         "5.59",
         1,
         "Basic"
        ],
        [
         "NOSSA SENHORA DO SOCORRO",
         "PARQUE DOS FAROIS",
         "5.85",
         1,
         "Basic"
        ],
        [
         "TORRES",
         "ENGENHO VELHO",
         "5.79",
         2,
         "Basic"
        ],
        [
         "SAO JOAO DE MERITI",
         "AGOSTINHO PORTO",
         "4.59",
         1,
         "Basic"
        ],
        [
         "MARILIA",
         "PALMITAL PROLONG",
         "6.69",
         1,
         "Basic"
        ],
        [
         "COTIA",
         "CHACARA REMANSO",
         "5.77",
         1,
         "Basic"
        ],
        [
         "FOZ DO IGUACU",
         "VILA BRASILIA",
         "5.79",
         1,
         "Basic"
        ],
        [
         "SAO PAULO",
         "JARDIM MATARAZZO",
         "5.99",
         1,
         "Basic"
        ],
        [
         "CONSELHEIRO LAFAIETE",
         "JARDIM AMERICA",
         "6.19",
         1,
         "Basic"
        ],
        [
         "CACHOEIRINHA",
         "VILA IMBUI",
         "5.94",
         1,
         "Basic"
        ],
        [
         "RONDONOPOLIS",
         "LOTEAMENTO ALVES",
         "6.30",
         1,
         "Basic"
        ],
        [
         "NITEROI",
         "FONSECA",
         "5.44",
         9,
         "Premium"
        ],
        [
         "SOROCABA",
         "ALEM PONTE",
         "5.84",
         1,
         "Basic"
        ],
        [
         "SAO JOAO DEL REI",
         "COLONIA DO MARÇAL",
         "5.93",
         1,
         "Basic"
        ],
        [
         "AVARE",
         "CENTRO",
         "6.21",
         4,
         "Basic"
        ],
        [
         "SERRA TALHADA",
         "BOM JESUS",
         "5.97",
         1,
         "Basic"
        ],
        [
         "NILOPOLIS",
         "CENTRO",
         "5.82",
         2,
         "Basic"
        ],
        [
         "PINHEIRO",
         "PONTA DE SANTANA",
         "5.95",
         1,
         "Basic"
        ],
        [
         "CONCEICAO DO ARAGUAIA",
         "CENTRO",
         "6.37",
         3,
         "Basic"
        ],
        [
         "REDENCAO",
         "JARDIM UMUARAMA",
         "5.89",
         1,
         "Basic"
        ],
        [
         "TERESINA",
         "MARQUES DE PARANAGUA",
         "5.72",
         1,
         "Basic"
        ],
        [
         "AMERICANA",
         "CARIOBINHA",
         "6.09",
         1,
         "Basic"
        ],
        [
         "BAGE",
         "CENTRO",
         "6.75",
         2,
         "Basic"
        ],
        [
         "FRANCA",
         "JARDIM MARAMBAIA",
         "5.79",
         1,
         "Basic"
        ],
        [
         "GUANAMBI",
         "PARAÍSO",
         "6.09",
         1,
         "Basic"
        ],
        [
         "GUARAPUAVA",
         "BOQUEIRAO",
         "5.38",
         1,
         "Basic"
        ],
        [
         "TUBARAO",
         "REVOREDO",
         "5.42",
         1,
         "Basic"
        ],
        [
         "CORUMBA",
         "UNIVERSITARIO",
         "7.47",
         1,
         "Basic"
        ],
        [
         "SALVADOR",
         "ESTRADA DA BASE NAVAL",
         "5.34",
         1,
         "Basic"
        ],
        [
         "SALVADOR",
         "ITAPOAN",
         "5.99",
         1,
         "Basic"
        ],
        [
         "CACHOEIRO DE ITAPEMIRIM",
         "ABELARDO FERREIRA MACHADO",
         "5.99",
         1,
         "Basic"
        ],
        [
         "UBERABA",
         "RESIDENCIAL DOUTOR ABEL REIS",
         "5.76",
         1,
         "Basic"
        ],
        [
         "CAICO",
         "BARRA NOVA",
         "6.74",
         1,
         "Basic"
        ],
        [
         "CATALAO",
         "IPANEMA",
         "5.91",
         1,
         "Basic"
        ],
        [
         "SAO PAULO",
         "MOOCA",
         "6.38",
         5,
         "Basic"
        ],
        [
         "GUARUJA",
         "JARDIM BOA ESPERANCA",
         "6.26",
         2,
         "Basic"
        ],
        [
         "JUAZEIRO",
         "CASTELO BRANCO",
         "5.97",
         2,
         "Basic"
        ],
        [
         "PORTO VELHO",
         "NOSSA SENHORA DAS GRACAS",
         "6.39",
         1,
         "Basic"
        ],
        [
         "LIMEIRA",
         "JARDIM ALVORADA",
         "5.94",
         1,
         "Basic"
        ],
        [
         "SAO PAULO",
         "JD IGUATEMI",
         "5.58",
         2,
         "Basic"
        ],
        [
         "TEIXEIRA DE FREITAS",
         "MONTE CASTELO",
         "6.06",
         2,
         "Basic"
        ],
        [
         "AMERICANA",
         "DISTR. INDL MARIA J.C.ABRAO",
         "6.14",
         1,
         "Basic"
        ],
        [
         "VARZEA GRANDE",
         "AEROPORTO",
         "3.54",
         1,
         "Basic"
        ],
        [
         "FORTALEZA",
         "HENRIQUE JORGE",
         "5.34",
         1,
         "Basic"
        ],
        [
         "FRANCA",
         "JARDIM MARIA ROSA",
         "5.99",
         1,
         "Basic"
        ],
        [
         "VIAMAO",
         "SANTA CECILIA",
         "5.84",
         1,
         "Basic"
        ],
        [
         "BOA VISTA",
         "CAUAME",
         "6.49",
         1,
         "Basic"
        ],
        [
         "SAO LUIS",
         "BEQUIMAO",
         "5.48",
         1,
         "Basic"
        ],
        [
         "VIAMAO",
         "JARDIM DO COCAO",
         "5.89",
         1,
         "Basic"
        ],
        [
         "LORENA",
         "VILA IPE",
         "5.47",
         1,
         "Basic"
        ],
        [
         "OURO PRETO",
         "CENTRO",
         "5.80",
         1,
         "Basic"
        ],
        [
         "TERESINA",
         "SANTA ROSA",
         "6.02",
         1,
         "Basic"
        ],
        [
         "LAGARTO",
         "RODOVIA",
         "5.80",
         1,
         "Basic"
        ],
        [
         "BRUMADO",
         "VILA CATIBOABA",
         "5.94",
         1,
         "Basic"
        ],
        [
         "BELO HORIZONTE",
         "CASTELO",
         "5.99",
         1,
         "Basic"
        ],
        [
         "MOGI GUACU",
         "JARDIM IGACABA",
         "6.19",
         1,
         "Basic"
        ],
        [
         "DUQUE DE CAXIAS",
         "CHACARAS RIO PETRPOLIS",
         "5.56",
         1,
         "Basic"
        ],
        [
         "MANAUS",
         "CENTRO",
         "6.23",
         3,
         "Basic"
        ],
        [
         "CURITIBA",
         "XAXIM",
         "5.89",
         2,
         "Basic"
        ],
        [
         "BRASILIA",
         "CEILANDIA NORTE",
         "5.99",
         1,
         "Basic"
        ],
        [
         "IPIRA",
         "CENTRO",
         "5.90",
         5,
         "Basic"
        ],
        [
         "SALVADOR",
         "PAU MIUDO",
         "5.20",
         2,
         "Basic"
        ],
        [
         "CAMPO BELO",
         "CENTRO",
         "5.88",
         4,
         "Basic"
        ],
        [
         "APARECIDA DE GOIANIA",
         "CHACARAS SAO PEDRO",
         "5.97",
         1,
         "Basic"
        ],
        [
         "SAO PAULO",
         "C. REDENDO",
         "5.49",
         1,
         "Basic"
        ],
        [
         "DUQUE DE CAXIAS",
         "NOSSA SENHORA DO PILAR",
         "6.24",
         1,
         "Basic"
        ],
        [
         "CUIABA",
         "JARDIM EUROPA",
         "6.16",
         1,
         "Basic"
        ],
        [
         "TRES CORACOES",
         "PERO",
         "6.32",
         2,
         "Basic"
        ],
        [
         "CRICIUMA",
         "SAO CRISTOVAO",
         "5.89",
         1,
         "Basic"
        ],
        [
         "BELO JARDIM",
         "COHAB I",
         "5.68",
         1,
         "Basic"
        ],
        [
         "PORTO NACIONAL",
         "SETOR AEROPORTO",
         "5.49",
         1,
         "Basic"
        ],
        [
         "JOAO PESSOA",
         "ERNANI SATYRO",
         "5.66",
         1,
         "Basic"
        ],
        [
         "UBA",
         "SANTANA",
         "5.83",
         1,
         "Basic"
        ],
        [
         "CONSELHEIRO LAFAIETE",
         "CENTRO",
         "6.15",
         4,
         "Basic"
        ],
        [
         "MANAUS",
         "CIDADE NOVA",
         "6.25",
         3,
         "Basic"
        ],
        [
         "LAJEDO",
         "CENTRO",
         "5.73",
         9,
         "Premium"
        ],
        [
         "QUIXADA",
         "CARRASCAL",
         "5.79",
         1,
         "Basic"
        ],
        [
         "BIGUACU",
         "MORRO DA BINA",
         "4.89",
         1,
         "Basic"
        ],
        [
         "SAO VICENTE",
         "BEIRA MAR",
         "6.04",
         1,
         "Basic"
        ],
        [
         "BOA VISTA",
         "CACARI",
         "6.48",
         1,
         "Basic"
        ],
        [
         "TAUBATE",
         "JD. DAS NACOES",
         "5.99",
         1,
         "Basic"
        ],
        [
         "SAO PAULO",
         "JARDIM MARINA",
         "6.29",
         1,
         "Basic"
        ],
        [
         "NATAL",
         "PITIMBU",
         "5.82",
         3,
         "Basic"
        ],
        [
         "OSASCO",
         "CIPAVA",
         "5.38",
         1,
         "Basic"
        ],
        [
         "OSORIO",
         "SEDE",
         "6.04",
         1,
         "Basic"
        ],
        [
         "SAO VICENTE",
         "VILA CASCATINHA",
         "6.09",
         1,
         "Basic"
        ],
        [
         "CAMPO GRANDE",
         "JARDIM FLUMINENSE",
         "5.69",
         1,
         "Basic"
        ],
        [
         "ITABORAI",
         "RETIRO SÃO JOAQUIM",
         "5.19",
         1,
         "Basic"
        ],
        [
         "SOROCABA",
         "VILA CAROL",
         "5.99",
         1,
         "Basic"
        ],
        [
         "MOGI DAS CRUZES",
         "JD CINTIA",
         "6.49",
         1,
         "Basic"
        ],
        [
         "CAMPINA GRANDE",
         "SANDRA CAVALCANTE",
         "5.59",
         1,
         "Basic"
        ],
        [
         "SAO GONCALO",
         "JARDIM CATARINA",
         "5.74",
         1,
         "Basic"
        ],
        [
         "ARAGUAINA",
         "SANTA TEREZINHA",
         "6.19",
         1,
         "Basic"
        ],
        [
         "POA",
         "VILA JAU",
         "5.14",
         1,
         "Basic"
        ],
        [
         "COTIA",
         "CAUCAIA DO ALTO",
         "5.82",
         2,
         "Basic"
        ],
        [
         "BARBACENA",
         "CAIÇARAS",
         "5.39",
         1,
         "Basic"
        ],
        [
         "FORTALEZA",
         "BENFICA",
         "5.28",
         2,
         "Basic"
        ],
        [
         "SALGUEIRO",
         "NOSSA SENHORA APARECIDA",
         "6.75",
         1,
         "Basic"
        ],
        [
         "OURINHOS",
         "NOVA OURINHOS",
         "7.44",
         2,
         "Basic"
        ],
        [
         "ANAPOLIS",
         "JK PARQUE INDUSTRIAL NOVA CAPITAL",
         "5.89",
         1,
         "Basic"
        ],
        [
         "PORTO SEGURO",
         "OLHOS DAGUA",
         "6.85",
         1,
         "Basic"
        ],
        [
         "PORTO VELHO",
         "MARIANA",
         "6.08",
         1,
         "Basic"
        ],
        [
         "MONTE ALTO",
         "SAO GUILHERME",
         "6.04",
         1,
         "Basic"
        ],
        [
         "BELO HORIZONTE",
         "FLORAMAR",
         "5.89",
         1,
         "Basic"
        ],
        [
         "SAO CAETANO DO SUL",
         "JARDIM SAO CAETANO",
         "6.39",
         1,
         "Basic"
        ],
        [
         "GOIANIA",
         "JD ATLANTICO",
         "5.94",
         1,
         "Basic"
        ],
        [
         "IBITINGA",
         "SALTINHO",
         "5.67",
         1,
         "Basic"
        ],
        [
         "PORTO FERREIRA",
         "JARDIM AEROPORTO",
         "5.79",
         1,
         "Basic"
        ],
        [
         "LAGUNA",
         "CENTRO",
         "5.98",
         1,
         "Basic"
        ],
        [
         "XINGUARA",
         "ITAMARATI",
         "6.03",
         1,
         "Basic"
        ],
        [
         "GRAVATAI",
         "SÍTIO SOBRADO",
         "5.69",
         2,
         "Basic"
        ],
        [
         "GUARAPUAVA",
         "VILA BELA",
         "5.81",
         1,
         "Basic"
        ],
        [
         "PORTO SEGURO",
         "MIRANTE DAS CARAVELAS",
         "6.50",
         1,
         "Basic"
        ],
        [
         "DIADEMA",
         "PIRAPORINHA",
         "5.38",
         1,
         "Basic"
        ],
        [
         "IPIRA",
         "SEDE",
         "6.53",
         1,
         "Basic"
        ],
        [
         "PRAIA GRANDE",
         "AVIACAO",
         "6.29",
         1,
         "Basic"
        ],
        [
         "PETROLINA",
         "VILA MOCO",
         "6.09",
         1,
         "Basic"
        ],
        [
         "CAXIAS DO SUL",
         "NOSSA SENHORA DE FATIMA",
         "6.13",
         2,
         "Basic"
        ],
        [
         "MATAO",
         "CENTRO",
         "6.58",
         3,
         "Basic"
        ],
        [
         "SOUSA",
         "JARDIM SORRILANDIA III",
         "5.79",
         1,
         "Basic"
        ],
        [
         "GUARULHOS",
         "JD. SAO FRANCISCO",
         "5.79",
         1,
         "Basic"
        ],
        [
         "RIO BRANCO",
         "7 BEC",
         "7.12",
         1,
         "Basic"
        ],
        [
         "NOSSA SENHORA DO SOCORRO",
         "TAICOCA",
         "6.27",
         1,
         "Basic"
        ],
        [
         "SAO PAULO",
         "JD DAS OLIVEIRAS",
         "6.19",
         1,
         "Basic"
        ],
        [
         "PORTO NACIONAL",
         "JARDIM UMUARAMA 4",
         "5.65",
         1,
         "Basic"
        ],
        [
         "BENTO GONCALVES",
         "SAO VENDELINO",
         "5.84",
         1,
         "Basic"
        ],
        [
         "ANAPOLIS",
         "STR PARQUE DAS NACOE",
         "5.64",
         1,
         "Basic"
        ],
        [
         "ARAGUAINA",
         "SETOR BRASIL",
         "5.57",
         1,
         "Basic"
        ],
        [
         "FORMOSA",
         "PRQUE LAGO",
         "6.74",
         1,
         "Basic"
        ],
        [
         "JOINVILLE",
         "NOVA BRASILIA",
         "5.75",
         1,
         "Basic"
        ],
        [
         "SALGUEIRO",
         "AUGUSTO DE ALENCAR SAMPAIO",
         "5.57",
         1,
         "Basic"
        ],
        [
         "MACEIO",
         "SAO JORGE",
         "5.59",
         1,
         "Basic"
        ],
        [
         "COSMOPOLIS",
         "BELA VISTA",
         "6.04",
         1,
         "Basic"
        ],
        [
         "PRESIDENTE PRUDENTE",
         "JARDIM SAO PEDRO",
         "5.94",
         1,
         "Basic"
        ],
        [
         "FEIRA DE SANTANA",
         "MANGABEIRA",
         "5.98",
         1,
         "Basic"
        ],
        [
         "TUBARAO",
         "CENTRO",
         "5.31",
         2,
         "Basic"
        ],
        [
         "GUARULHOS",
         "CIDADE JARDIM CUMBICA",
         "5.89",
         2,
         "Basic"
        ],
        [
         "HORTOLANDIA",
         "VILA REAL SANTISTA",
         "5.55",
         1,
         "Basic"
        ],
        [
         "FRANCA",
         "SAO JOSE",
         "5.89",
         1,
         "Basic"
        ],
        [
         "BENTO GONCALVES",
         "VALE DOS VINHEDOS",
         "5.87",
         1,
         "Basic"
        ],
        [
         "FRANCA",
         "DISTRITO INDUSTRIAL",
         "5.92",
         1,
         "Basic"
        ],
        [
         "BRUMADO",
         "SAO JORGE",
         "5.84",
         1,
         "Basic"
        ],
        [
         "BELEM",
         "NAZARE",
         "6.35",
         1,
         "Basic"
        ],
        [
         "PORTO VELHO",
         "LAGOA",
         "6.36",
         2,
         "Basic"
        ],
        [
         "LAGES",
         "CENTRO",
         "6.09",
         1,
         "Basic"
        ],
        [
         "SALTO",
         "CHACARA VENDRAMINI",
         "5.37",
         1,
         "Basic"
        ],
        [
         "MACAPA",
         "INFRAERO",
         "6.39",
         1,
         "Basic"
        ],
        [
         "CRATEUS",
         "PLANALTO",
         "5.75",
         1,
         "Basic"
        ],
        [
         "SAO MATEUS",
         "GURIRI SUL",
         "5.88",
         1,
         "Basic"
        ],
        [
         "CAMPO GRANDE",
         "CORONEL ANTONINO",
         "5.83",
         1,
         "Basic"
        ],
        [
         "SAO PAULO",
         "VILA SULINA",
         "5.84",
         1,
         "Basic"
        ],
        [
         "DUQUE DE CAXIAS",
         "VILA SANTA CRUZ",
         "5.19",
         1,
         "Basic"
        ],
        [
         "SAO JOSE DE RIBAMAR",
         "TURU",
         "5.59",
         1,
         "Basic"
        ],
        [
         "SAO PAULO",
         "VILA SANTA EULALIA",
         "7.99",
         1,
         "Basic"
        ],
        [
         "AVARE",
         "JARDIM SÃO PAULO",
         "6.74",
         1,
         "Basic"
        ],
        [
         "JOSE BONIFACIO",
         null,
         "6.12",
         1,
         "Basic"
        ],
        [
         "UNAI",
         "BARROCA",
         "6.09",
         1,
         "Basic"
        ],
        [
         "SAO JOAO DE MERITI",
         "VILAR DOS TELES",
         "5.23",
         2,
         "Basic"
        ],
        [
         "CAMPINAS",
         "DISTRITO INDUSTRIAL",
         "6.75",
         1,
         "Basic"
        ],
        [
         "SAQUAREMA",
         "BACAXA",
         "6.17",
         2,
         "Basic"
        ],
        [
         "ARIQUEMES",
         "SETOR 02",
         "6.20",
         2,
         "Basic"
        ],
        [
         "ITAQUAQUECETUBA",
         "MANDI",
         "5.94",
         1,
         "Basic"
        ],
        [
         "BENTO GONCALVES",
         "LICORSUL",
         "5.84",
         1,
         "Basic"
        ],
        [
         "UBERLANDIA",
         "BRASIL",
         "5.74",
         2,
         "Basic"
        ],
        [
         "FLORIANOPOLIS",
         "AGRONOMICA",
         "6.59",
         1,
         "Basic"
        ],
        [
         "SAO BERNARDO DO CAMPO",
         "VILA MAGNOLIA",
         "5.46",
         1,
         "Basic"
        ],
        [
         "TABOAO DA SERRA",
         "VILA SANTA LUZIA",
         "6.19",
         1,
         "Basic"
        ],
        [
         "VILA VELHA",
         "ITAPARICA",
         "6.14",
         2,
         "Basic"
        ],
        [
         "SAO PAULO",
         "JD JACARANDAS",
         "6.49",
         1,
         "Basic"
        ],
        [
         "NOVA FRIBURGO",
         "CHACARA PARAISO",
         "6.59",
         1,
         "Basic"
        ],
        [
         "TERESINA",
         "NOIVOS",
         "6.02",
         3,
         "Basic"
        ],
        [
         "SANTO ANTONIO DE PADUA",
         "5 º DISTRITO",
         "5.89",
         1,
         "Basic"
        ],
        [
         "POCOS DE CALDAS",
         "VILA NOVA",
         "5.99",
         1,
         "Basic"
        ],
        [
         "ITACOATIARA",
         "SAO JORGE",
         "7.09",
         1,
         "Basic"
        ],
        [
         "SAO GONCALO",
         "CALA BOCA",
         "5.69",
         1,
         "Basic"
        ],
        [
         "CAMPO LARGO",
         "VILA ELIZABETH",
         "5.79",
         1,
         "Basic"
        ],
        [
         "SENHOR DO BONFIM",
         "RODOVIARIO",
         "6.20",
         1,
         "Basic"
        ],
        [
         "INDAIATUBA",
         "RECREIO CAMPESTRE JOIA",
         "5.79",
         1,
         "Basic"
        ],
        [
         "OSORIO",
         "PANORAMICO",
         "6.19",
         1,
         "Basic"
        ],
        [
         "BLUMENAU",
         "PONTA AGUDA",
         "5.57",
         1,
         "Basic"
        ],
        [
         "ITAPIPOCA",
         "LADEIRA",
         "6.57",
         1,
         "Basic"
        ],
        [
         "ARARAS",
         "DISTRITO INDUSTRIAL II",
         "6.45",
         1,
         "Basic"
        ],
        [
         "SANTOS",
         "CHICO DE PAULA",
         "6.19",
         1,
         "Basic"
        ],
        [
         "CAXIAS DO SUL",
         "SAO JOSE",
         "6.14",
         1,
         "Basic"
        ],
        [
         "MOSSORO",
         "CENTRO",
         "5.81",
         2,
         "Basic"
        ],
        [
         "CONTAGEM",
         "BITACULA E PEROBAS",
         "5.36",
         1,
         "Basic"
        ],
        [
         "BALSAS",
         "ACUCENA",
         "6.12",
         2,
         "Basic"
        ],
        [
         "BARBACENA",
         "CAICARAS",
         "5.88",
         1,
         "Basic"
        ],
        [
         "LONDRINA",
         "JARDIM ATENAS",
         "5.89",
         1,
         "Basic"
        ],
        [
         "OSASCO",
         "JD CIPAVA",
         "6.74",
         1,
         "Basic"
        ],
        [
         "SANTO ANTONIO DE PADUA",
         "AEROPORTO",
         "5.86",
         1,
         "Basic"
        ],
        [
         "SAO LUIZ GONZAGA",
         "FLORESTA",
         "6.02",
         1,
         "Basic"
        ],
        [
         "COLATINA",
         "VILA AMELIA",
         "5.94",
         1,
         "Basic"
        ],
        [
         "SAO JOSE DO RIO PRETO",
         "PARQUE JAGUARE",
         "5.99",
         1,
         "Basic"
        ],
        [
         "IJUI",
         "MUNDSTOCK",
         "6.59",
         1,
         "Basic"
        ],
        [
         "VOLTA REDONDA",
         "VILA MURY",
         "5.94",
         1,
         "Basic"
        ],
        [
         "MOSSORO",
         "MONSENHOR AMERICO",
         "5.68",
         1,
         "Basic"
        ],
        [
         "VALENCA",
         "GRACA",
         "6.06",
         2,
         "Basic"
        ],
        [
         "CARAGUATATUBA",
         "CENTRO",
         "6.23",
         1,
         "Basic"
        ],
        [
         "SIMOES FILHO",
         "CIA I",
         "5.56",
         1,
         "Basic"
        ],
        [
         "CURITIBA",
         "AHU",
         "5.99",
         1,
         "Basic"
        ],
        [
         "CHAPECO",
         "MARIA GORETTI",
         "5.59",
         1,
         "Basic"
        ],
        [
         "CUIABA",
         "COSTA DO SOL",
         "6.15",
         1,
         "Basic"
        ],
        [
         "PAULISTA",
         "ARTHUR LUNDGREN I",
         "5.74",
         1,
         "Basic"
        ],
        [
         "SINOP",
         "RESIDENCIAL VITORIA REGIA",
         "6.89",
         1,
         "Basic"
        ],
        [
         "MORRINHOS",
         "VILA SAO PEDRO",
         "5.70",
         1,
         "Basic"
        ],
        [
         "FORMIGA",
         "CENTRO",
         "5.89",
         3,
         "Basic"
        ],
        [
         "ASSIS",
         "VILA SANTA ELISA",
         "6.54",
         1,
         "Basic"
        ],
        [
         "BARRA MANSA",
         "JARDIM BOA VISTA",
         "5.71",
         2,
         "Basic"
        ],
        [
         "JABOATAO DOS GUARARAPES",
         "CANDEIAS",
         "5.38",
         3,
         "Basic"
        ],
        [
         "ITAQUAQUECETUBA",
         "CUIABA",
         "5.84",
         1,
         "Basic"
        ],
        [
         "ARARAS",
         "JARDIM BELVEDERE",
         "5.67",
         1,
         "Basic"
        ],
        [
         "CAMPINA GRANDE",
         "LIBERDADE",
         "5.68",
         4,
         "Basic"
        ],
        [
         "SAO PAULO",
         "BARRA FUNDA",
         "6.25",
         2,
         "Basic"
        ],
        [
         "VARZEA GRANDE",
         "PETROPOLIS",
         "5.86",
         1,
         "Basic"
        ],
        [
         "LONDRINA",
         "PARQUE INDUSTRIAL ALICANTE",
         "5.74",
         1,
         "Basic"
        ],
        [
         "CARUARU",
         "T TORITAMA/CARUARU",
         "5.61",
         1,
         "Basic"
        ],
        [
         "CAMPINAS",
         "JARDIM SAO JUDAS TADEU",
         "5.47",
         1,
         "Basic"
        ],
        [
         "FLORIANOPOLIS",
         "CAPOEIRAS",
         "4.86",
         1,
         "Basic"
        ],
        [
         "PATOS",
         "LIBERDADE",
         "6.34",
         1,
         "Basic"
        ],
        [
         "PORTO VELHO",
         "ESPERANCA DA COMUNIDADE",
         "6.37",
         1,
         "Basic"
        ],
        [
         "MONTES CLAROS",
         "DOUTOR JOAO ALVES",
         "5.69",
         1,
         "Basic"
        ],
        [
         "CAMPINA GRANDE",
         "SANTA ROSA",
         "5.94",
         1,
         "Basic"
        ],
        [
         "GUARUJA",
         "J BOA ESPERANCA",
         "5.60",
         1,
         "Basic"
        ],
        [
         "CUIABA",
         "PORTO",
         "5.91",
         3,
         "Basic"
        ],
        [
         "JABOATAO DOS GUARARAPES",
         "PIEDADE",
         "5.67",
         7,
         "Basic"
        ],
        [
         "VILA VELHA",
         "SANTOS DUMONT",
         "6.45",
         1,
         "Basic"
        ],
        [
         "GOIANA",
         "PONTAS DE PEDRA",
         "5.59",
         1,
         "Basic"
        ],
        [
         "RIO DE JANEIRO",
         "SAO CRISTOVAO",
         "5.52",
         2,
         "Basic"
        ],
        [
         "MARINGA",
         "VILA BOSQUE",
         "6.39",
         1,
         "Basic"
        ],
        [
         "FORTALEZA",
         "ALDEOTA",
         "5.92",
         5,
         "Basic"
        ],
        [
         "CAUCAIA",
         "ICARAI",
         "6.04",
         1,
         "Basic"
        ],
        [
         "UBERLANDIA",
         "GLEBAS",
         "5.89",
         1,
         "Basic"
        ],
        [
         "MONTE CARMELO",
         "ZONA RURAL",
         "5.57",
         1,
         "Basic"
        ],
        [
         "LIMEIRA",
         "BOA VISTA",
         "5.75",
         2,
         "Basic"
        ],
        [
         "TERESINA",
         "PROMORAR",
         "5.69",
         1,
         "Basic"
        ],
        [
         "BARRA MANSA",
         "BARBARÁ",
         "5.89",
         1,
         "Basic"
        ],
        [
         "GUARULHOS",
         "VILA ANNY",
         "6.34",
         1,
         "Basic"
        ],
        [
         "ITAJAI",
         "SÃO JUDAS",
         "6.09",
         1,
         "Basic"
        ],
        [
         "CAMBE",
         "PQ MANELLA",
         "5.74",
         1,
         "Basic"
        ],
        [
         "CACHOEIRO DE ITAPEMIRIM",
         "TEIXEIRA LEITE",
         "5.89",
         1,
         "Basic"
        ],
        [
         "NOVA LIMA",
         "VILA DA SERRA",
         "5.99",
         1,
         "Basic"
        ],
        [
         "SORRISO",
         "INDUSTRIAL 1 ETAPA",
         "5.89",
         1,
         "Basic"
        ],
        [
         "CARUARU",
         "MAURICIO DE NASSAU",
         "5.61",
         3,
         "Basic"
        ],
        [
         "PARANAGUA",
         "VILA ITIBERE",
         "6.39",
         1,
         "Basic"
        ],
        [
         "MACEIO",
         "GRUTA DE LOURDES",
         "5.59",
         1,
         "Basic"
        ],
        [
         "JUIZ DE FORA",
         "CASCATINHA",
         "5.70",
         1,
         "Basic"
        ],
        [
         "UNAI",
         "CAPIM BRANCO I",
         "6.19",
         1,
         "Basic"
        ],
        [
         "BETIM",
         "DISTRITO INDUSTRIAL JARDIM PIEMONT NORTE",
         "5.69",
         1,
         "Basic"
        ],
        [
         "NATAL",
         "POTENGI",
         "5.56",
         3,
         "Basic"
        ],
        [
         "TUPA",
         "JARDIM AMERICA",
         "5.70",
         1,
         "Basic"
        ],
        [
         "VITORIA DA CONQUISTA",
         "RECREIO",
         "5.99",
         2,
         "Basic"
        ],
        [
         "PINHAIS",
         "VILA ESPLANADA",
         "6.28",
         1,
         "Basic"
        ],
        [
         "TRES CORACOES",
         "COTIA",
         "6.29",
         1,
         "Basic"
        ],
        [
         "BALSAS",
         "SETOR INDUSTRIAL",
         "5.77",
         3,
         "Basic"
        ],
        [
         "CANOAS",
         "SAO LUIS",
         "6.12",
         1,
         "Basic"
        ],
        [
         "ARARANGUA",
         "CIDADE ALTA",
         "5.62",
         4,
         "Basic"
        ],
        [
         "VOTORANTIM",
         "RIO ACIMA",
         "6.04",
         1,
         "Basic"
        ],
        [
         "PORTO VELHO",
         "JARDIM AMERICA",
         "6.49",
         1,
         "Basic"
        ],
        [
         "NOVA IGUACU",
         "CABUCU",
         "5.30",
         1,
         "Basic"
        ],
        [
         "UBATUBA",
         "UMUARAMA",
         "6.07",
         1,
         "Basic"
        ],
        [
         "CAMACARI",
         "POLO INDUSTRIAL DE CAMACARI",
         "4.99",
         1,
         "Basic"
        ],
        [
         "SAO LUIS",
         "SAO CRISTOVAO",
         "5.92",
         2,
         "Basic"
        ],
        [
         "GUARULHOS",
         "JARDIM NOVA TABOAO",
         "5.29",
         1,
         "Basic"
        ],
        [
         "PARANAGUA",
         "OCEANIA",
         "6.09",
         1,
         "Basic"
        ],
        [
         "VOTUPORANGA",
         "VILA RECANTO DAS AGUAS",
         "5.94",
         1,
         "Basic"
        ],
        [
         "SANTO ANDRE",
         "SACADURA CABRAL",
         "5.99",
         1,
         "Basic"
        ],
        [
         "JUIZ DE FORA",
         "IGREJINHA",
         "5.67",
         1,
         "Basic"
        ],
        [
         "TRES RIOS",
         "PONTO AZUL",
         "5.82",
         2,
         "Basic"
        ],
        [
         "POUSO ALEGRE",
         "R.F.F.S.A.",
         "5.97",
         1,
         "Basic"
        ],
        [
         "PARAGOMINAS",
         "URAIM",
         "6.49",
         1,
         "Basic"
        ],
        [
         "PIRACICABA",
         "MORUMBI",
         "6.60",
         1,
         "Basic"
        ],
        [
         "CATALAO",
         "NOSSA SRA DE FATIMA",
         "5.87",
         1,
         "Basic"
        ],
        [
         "IPATINGA",
         "CARAVELAS",
         "5.59",
         1,
         "Basic"
        ],
        [
         "PARNAIBA",
         "JOAO XIII",
         "5.79",
         1,
         "Basic"
        ],
        [
         "NATAL",
         "LAGOA NOVA",
         "5.93",
         3,
         "Basic"
        ],
        [
         "GUARUJA",
         "JARDIM BOA ESPERANCA (VICENTE DE CARVALHO)",
         "5.72",
         1,
         "Basic"
        ],
        [
         "SAO PAULO",
         "LIMAO",
         "5.79",
         1,
         "Basic"
        ],
        [
         "NOVA FRIBURGO",
         "OLARIA",
         "6.09",
         1,
         "Basic"
        ],
        [
         "ARACATUBA",
         "JARDIM PAULISTA",
         "6.19",
         1,
         "Basic"
        ],
        [
         "CARUARU",
         "BOA VISTA I",
         "5.69",
         1,
         "Basic"
        ],
        [
         "UBERABA",
         "ESTADOS UNIDOS",
         "5.73",
         2,
         "Basic"
        ],
        [
         "ERECHIM",
         "LINHO",
         "5.83",
         2,
         "Basic"
        ],
        [
         "GARCA",
         "SALGUEIRO",
         "5.88",
         1,
         "Basic"
        ],
        [
         "CACHOEIRINHA",
         "VILA CACHOEIRINHA",
         "5.89",
         1,
         "Basic"
        ],
        [
         "JOAO PINHEIRO",
         "AEROPORTO",
         "5.74",
         1,
         "Basic"
        ],
        [
         "SAO JOSE DO RIO PRETO",
         "PQ RES LAUREANO TEBA",
         "6.34",
         1,
         "Basic"
        ],
        [
         "BOA VISTA",
         "CINTURAO VERDE",
         "6.77",
         1,
         "Basic"
        ],
        [
         "GRAVATAI",
         "COHAB C",
         "5.55",
         2,
         "Basic"
        ],
        [
         "SANTA BARBARA D'OESTE",
         "LAGOA SECA",
         "5.89",
         1,
         "Basic"
        ],
        [
         "JUNDIAI",
         "IVOTURUCAIA",
         "5.74",
         1,
         "Basic"
        ],
        [
         "FORTALEZA",
         "CENTRO",
         "5.77",
         3,
         "Basic"
        ],
        [
         "JUAZEIRO DO NORTE",
         "FRANCISCANOS",
         "6.04",
         1,
         "Basic"
        ],
        [
         "SAO CARLOS",
         "PARQUE FABER CASTEL",
         "5.94",
         1,
         "Basic"
        ],
        [
         "INDAIATUBA",
         "DISTRITO INDUSTRIAL JOAO NAREZZI",
         "5.43",
         1,
         "Basic"
        ],
        [
         "BALNEARIO CAMBORIU",
         "ARIRIBA",
         "5.99",
         1,
         "Basic"
        ],
        [
         "BARRA DO CORDA",
         "CAJAZEIRA",
         "5.90",
         1,
         "Basic"
        ],
        [
         "ARACATUBA",
         "PARQUE BAGUACU",
         "6.29",
         1,
         "Basic"
        ],
        [
         "SENHOR DO BONFIM",
         "ITAMARATY",
         "6.54",
         1,
         "Basic"
        ],
        [
         "ARACATUBA",
         "SAO VICENTE",
         "5.99",
         1,
         "Basic"
        ],
        [
         "CARIACICA",
         "ALTO LAGE",
         "5.76",
         1,
         "Basic"
        ],
        [
         "SAPIRANGA",
         "SETE DE SETEMBRO",
         "5.82",
         1,
         "Basic"
        ],
        [
         "ARARUAMA",
         "CENTRO",
         "6.32",
         1,
         "Basic"
        ],
        [
         "SAO CAETANO DO SUL",
         "SANTA MARIA",
         "6.49",
         1,
         "Basic"
        ],
        [
         "CAMPOS DOS GOYTACAZES",
         "PARQUE LEOPOLDINA",
         "5.80",
         1,
         "Basic"
        ],
        [
         "UMUARAMA",
         "ZONA SUBURBANA",
         "5.52",
         1,
         "Basic"
        ],
        [
         "CARUARU",
         "BOA VISTA",
         "5.69",
         1,
         "Basic"
        ],
        [
         "BAURU",
         "VILA CARDIA",
         "5.24",
         1,
         "Basic"
        ],
        [
         "VINHEDO",
         "CAPELA",
         "5.89",
         1,
         "Basic"
        ],
        [
         "VARZEA GRANDE",
         "23 DE SETEMBRO",
         "5.82",
         1,
         "Basic"
        ],
        [
         "RIBEIRAO PIRES",
         "RONCON",
         "5.84",
         1,
         "Basic"
        ],
        [
         "MIRASSOL",
         "JARDIM ALVORADA",
         "5.49",
         1,
         "Basic"
        ],
        [
         "GUARULHOS",
         "JARDIM SANTA RITA",
         "5.89",
         1,
         "Basic"
        ],
        [
         "CAUCAIA",
         "PARQUE SOLEDADE",
         "5.47",
         2,
         "Basic"
        ],
        [
         "GUAXUPE",
         "CENTRO",
         "5.75",
         4,
         "Basic"
        ],
        [
         "GUARUJA",
         "BALNEARIO PRAIA DO PEREQUE",
         "6.42",
         1,
         "Basic"
        ],
        [
         "PINHAIS",
         "EMILIANO PERNETA",
         "5.47",
         1,
         "Basic"
        ],
        [
         "MOSSORO",
         "BELO HORIZONTE",
         "5.65",
         1,
         "Basic"
        ],
        [
         "MANHUACU",
         "BOM JARDIM",
         "5.74",
         1,
         "Basic"
        ],
        [
         "SUMARE",
         "NOVA VENEZA",
         "5.83",
         2,
         "Basic"
        ],
        [
         "SAO PAULO",
         "JARDIM GRIMALDI",
         "6.12",
         1,
         "Basic"
        ],
        [
         "CASCAVEL",
         "PIONEIROS CATARINENSES",
         "5.80",
         1,
         "Basic"
        ],
        [
         "SAO PAULO",
         "JARDIM D'ABRIL",
         "5.27",
         1,
         "Basic"
        ],
        [
         "ARARAQUARA",
         "JARDIM NOVA AMERICA",
         "5.69",
         1,
         "Basic"
        ],
        [
         "RIO BRANCO",
         "VILA IVONETE",
         "7.12",
         1,
         "Basic"
        ],
        [
         "MINEIROS",
         "JOSE ANTONIO DA COSTA NERY",
         "6.09",
         1,
         "Basic"
        ],
        [
         "SANTO ANDRE",
         "CENTRO",
         "6.28",
         2,
         "Basic"
        ],
        [
         "ALTA FLORESTA",
         "RESIDENCIAL UNIVERSITARIO",
         "6.64",
         1,
         "Basic"
        ],
        [
         "PARANAGUA",
         "CENTRO",
         "6.39",
         1,
         "Basic"
        ],
        [
         "PORTO ALEGRE",
         "SANTA MARIA GORETTI",
         "5.75",
         1,
         "Basic"
        ],
        [
         "SAO JOSE DOS CAMPOS",
         "RESIDEN. GALO BRANCO",
         "5.89",
         1,
         "Basic"
        ],
        [
         "TERESINA",
         "TABULETA",
         "5.83",
         2,
         "Basic"
        ],
        [
         "BRASILIA",
         "GAMA",
         "5.75",
         5,
         "Basic"
        ],
        [
         "CAMPO LARGO",
         "SANTA TEREZINHA",
         "5.83",
         1,
         "Basic"
        ],
        [
         "CIANORTE",
         "ZONA 01",
         "5.61",
         2,
         "Basic"
        ],
        [
         "QUIXADA",
         "PUTIU",
         "5.79",
         1,
         "Basic"
        ],
        [
         "LINHARES",
         "CENTRO",
         "5.94",
         2,
         "Basic"
        ],
        [
         "DIVINOPOLIS",
         "NITEROI",
         "5.67",
         3,
         "Basic"
        ],
        [
         "GOIANIA",
         "ST BUENO",
         "5.97",
         1,
         "Basic"
        ],
        [
         "TORRES",
         "FAXINAL",
         "5.86",
         2,
         "Basic"
        ],
        [
         "BRASILIA",
         "SANTA MARIA",
         "5.97",
         3,
         "Basic"
        ],
        [
         "GUARULHOS",
         "VILA RIO DE JANEIRO",
         "5.59",
         1,
         "Basic"
        ],
        [
         "FRANCA",
         "VILA APARECIDA",
         "5.79",
         2,
         "Basic"
        ],
        [
         "UMUARAMA",
         "PARQUE INDUSTRIAL III",
         "5.70",
         1,
         "Basic"
        ],
        [
         "DUQUE DE CAXIAS",
         "PARQUE JORGE ABDALA CHAMA",
         "5.84",
         1,
         "Basic"
        ],
        [
         "SAO JOSE DOS CAMPOS",
         "JARDIM APOLO",
         "6.16",
         1,
         "Basic"
        ],
        [
         "SAO PAULO",
         "JD PAULISTA",
         "8.49",
         1,
         "Basic"
        ],
        [
         "CARUARU",
         "SALGADO",
         "5.79",
         1,
         "Basic"
        ],
        [
         "SALVADOR",
         "BOCA DO RIO",
         "5.90",
         1,
         "Basic"
        ],
        [
         "TEFE",
         "JURUA",
         "7.76",
         1,
         "Basic"
        ],
        [
         "PIRACICABA",
         "JARAGUA",
         "6.29",
         1,
         "Basic"
        ],
        [
         "ITABORAI",
         "SANTO EXPEDITO",
         "5.76",
         1,
         "Basic"
        ],
        [
         "JUIZ DE FORA",
         "SALVATERRA",
         "5.74",
         2,
         "Basic"
        ],
        [
         "SAO JOSE DO RIO PRETO",
         "JARDIM ALTO RIO PRET",
         "5.63",
         1,
         "Basic"
        ],
        [
         "PINDAMONHANGABA",
         "MOMBACA",
         "6.02",
         1,
         "Basic"
        ],
        [
         "SALTO",
         "JARDIM ELIZABETH",
         "5.84",
         1,
         "Basic"
        ],
        [
         "MANAUS",
         "PARQUE 10 DE NOVEMBRO",
         "6.29",
         2,
         "Basic"
        ],
        [
         "JAU",
         "JARDIM ALVORADA",
         "6.09",
         1,
         "Basic"
        ],
        [
         "BELO HORIZONTE",
         "IPIRANGA",
         "5.49",
         1,
         "Basic"
        ],
        [
         "ARAGUARI",
         "SIBIPIRUNA",
         "5.53",
         1,
         "Basic"
        ],
        [
         "PARAUAPEBAS",
         "NOVO HORIZONTE",
         "6.79",
         1,
         "Basic"
        ],
        [
         "GOIATUBA",
         "SETOR AEROPORTO",
         "5.80",
         1,
         "Basic"
        ],
        [
         "PRESIDENTE DUTRA",
         "CAMPOS DANTAS",
         "5.83",
         1,
         "Basic"
        ],
        [
         "APUCARANA",
         "VILA CASSALA",
         "6.24",
         1,
         "Basic"
        ],
        [
         "MARILIA",
         "JOCKEI CLUBE",
         "5.66",
         1,
         "Basic"
        ],
        [
         "MOSSORO",
         "SANTA DELMIRA",
         "6.09",
         1,
         "Basic"
        ],
        [
         "CRUZ ALTA",
         "CENTRO",
         "6.11",
         5,
         "Basic"
        ],
        [
         "SAO JOSE DO RIO PRETO",
         "JD. PINHEIROS",
         "5.89",
         1,
         "Basic"
        ],
        [
         "CONTAGEM",
         "NSRA DO CARMO",
         "5.55",
         1,
         "Basic"
        ],
        [
         "BELFORD ROXO",
         "NOVA PIAM",
         "5.48",
         1,
         "Basic"
        ],
        [
         "MANAUS",
         "PARQUE DEZ DE NOVEMBRO",
         "6.29",
         1,
         "Basic"
        ],
        [
         "SAO PAULO",
         "VL MORRO GRANDE",
         "5.89",
         1,
         "Basic"
        ],
        [
         "PARAUAPEBAS",
         "DA PAZ",
         "6.88",
         3,
         "Basic"
        ],
        [
         "LONDRINA",
         "CONJUNTO VIVI XAVIER",
         "6.44",
         1,
         "Basic"
        ],
        [
         "CARAGUATATUBA",
         "CAPRICORNIO II",
         "6.09",
         1,
         "Basic"
        ],
        [
         "NOVA IGUACU",
         "COMENDADOR SOARES",
         "5.94",
         1,
         "Basic"
        ],
        [
         "ANAPOLIS",
         "SETOR SUL JAMIL MIGUEL",
         "5.79",
         1,
         "Basic"
        ],
        [
         "CAMPINAS",
         "PARQUE SANTA LETICIA",
         "5.94",
         1,
         "Basic"
        ],
        [
         "MARINGA",
         "JARDIM NILZA",
         "5.58",
         1,
         "Basic"
        ],
        [
         "SAO PAULO",
         "VILA PRUDENTE",
         "6.10",
         3,
         "Basic"
        ],
        [
         "CACHOEIRINHA",
         "DISTRITO INDUSTRIAL",
         "5.46",
         1,
         "Basic"
        ],
        [
         "VOTUPORANGA",
         "JARDIM ALVORADA",
         "6.07",
         1,
         "Basic"
        ],
        [
         "VIAMAO",
         "CECILIA",
         "4.69",
         1,
         "Basic"
        ],
        [
         "CABO FRIO",
         "CENTRO",
         "5.72",
         2,
         "Basic"
        ],
        [
         "BETIM",
         "CACHOEIRA",
         "5.64",
         1,
         "Basic"
        ],
        [
         "MANAUS",
         "PRACA 14 DE JANEIRO",
         "6.29",
         2,
         "Basic"
        ],
        [
         "RIO CLARO",
         "JARDIM MIRASSOL",
         "5.31",
         1,
         "Basic"
        ],
        [
         "PARINTINS",
         "DJARD VIEIRA",
         "6.79",
         1,
         "Basic"
        ],
        [
         "CAMPINA GRANDE",
         "TAMBOR",
         "5.68",
         2,
         "Basic"
        ],
        [
         "PATOS",
         "LOT.DARCILIO WANDERL",
         "5.83",
         1,
         "Basic"
        ],
        [
         "MURIAE",
         "CENTRO",
         "5.90",
         2,
         "Basic"
        ],
        [
         "ALTAMIRA",
         "APARECIDA",
         "6.67",
         1,
         "Basic"
        ],
        [
         "CAMPO GRANDE",
         "BAIIRRO CARANDA BOSQUE I",
         "5.99",
         1,
         "Basic"
        ],
        [
         "MAUA",
         "JARDIM ZAIRA",
         "6.29",
         1,
         "Basic"
        ],
        [
         "CUIABA",
         "BOA ESPERANCA",
         "5.97",
         2,
         "Basic"
        ],
        [
         "BRASILIA",
         "SAMAMBAIA SUL",
         "5.84",
         1,
         "Basic"
        ],
        [
         "SAO PAULO",
         "CITY JARAGUA",
         "5.59",
         1,
         "Basic"
        ],
        [
         "OURINHOS",
         "VILA SAO LUIZ",
         "7.25",
         1,
         "Basic"
        ],
        [
         "ARAXA",
         "VILA JARDIM",
         "5.58",
         1,
         "Basic"
        ],
        [
         "VARZEA PAULISTA",
         "JARDIM MIRANTE",
         "5.64",
         1,
         "Basic"
        ],
        [
         "SAO JOSE",
         "JARDIM CIDADE DE FLORIANOPOLIS",
         "5.84",
         1,
         "Basic"
        ],
        [
         "SERRA",
         "TIMS",
         "5.69",
         1,
         "Basic"
        ],
        [
         "TERESINA",
         "CENTRO",
         "5.98",
         1,
         "Basic"
        ],
        [
         "SETE LAGOAS",
         "SAO PEDRO",
         "5.74",
         1,
         "Basic"
        ],
        [
         "GRAMADO",
         "CENTRO",
         "6.42",
         3,
         "Basic"
        ],
        [
         "SAO PAULO",
         "PENHA",
         "5.82",
         2,
         "Basic"
        ],
        [
         "ANAPOLIS",
         "VILA SANTANA",
         "5.77",
         1,
         "Basic"
        ],
        [
         "JUNDIAI",
         "VILA HORTOLANDIA",
         "6.04",
         1,
         "Basic"
        ],
        [
         "PATO BRANCO",
         "CRISTO REI",
         "6.34",
         2,
         "Basic"
        ],
        [
         "BRASILIA",
         "GUARA II",
         "5.95",
         1,
         "Basic"
        ],
        [
         "FRANCA",
         "SÃO JOAQUIM",
         "5.77",
         2,
         "Basic"
        ],
        [
         "FEIRA DE SANTANA",
         "PONTO CENTRAL",
         "4.91",
         1,
         "Basic"
        ],
        [
         "BLUMENAU",
         "VELHA",
         "6.06",
         1,
         "Basic"
        ],
        [
         "CARUARU",
         "DIVINOPOLIS",
         "5.73",
         2,
         "Basic"
        ],
        [
         "SAO JOSE DO RIO PRETO",
         "JARDIM SAO PAULO",
         "5.64",
         1,
         "Basic"
        ],
        [
         "DELMIRO GOUVEIA",
         "BOM SOSSEGO",
         "6.75",
         1,
         "Basic"
        ],
        [
         "INDAIATUBA",
         "JARDIM BELO HORIZONTE",
         "5.47",
         1,
         "Basic"
        ],
        [
         "JUNDIAI",
         "ANHANGABAU",
         "6.26",
         2,
         "Basic"
        ],
        [
         "ARACAJU",
         "OLARIA",
         "4.89",
         1,
         "Basic"
        ],
        [
         "PATROCINIO",
         "CENTRO",
         "6.55",
         1,
         "Basic"
        ],
        [
         "NATAL",
         "DIX-SEPT ROSADO",
         "5.51",
         1,
         "Basic"
        ],
        [
         "ITAPERUNA",
         "PRIMEIRO DISTRITO",
         "5.94",
         1,
         "Basic"
        ],
        [
         "VILHENA",
         "PARQUE SÃO PAULO",
         "6.83",
         1,
         "Basic"
        ],
        [
         "LONDRINA",
         "VILA AGARI",
         "5.65",
         1,
         "Basic"
        ],
        [
         "TERESOPOLIS",
         "ALBUQUERQUE",
         "5.99",
         1,
         "Basic"
        ],
        [
         "CAMPO GRANDE",
         "TIJUCA I",
         "5.95",
         1,
         "Basic"
        ],
        [
         "SALVADOR",
         "ACUPE DE BROTAS",
         "4.93",
         1,
         "Basic"
        ],
        [
         "SAO LEOPOLDO",
         "FEITORIA",
         "5.64",
         1,
         "Basic"
        ],
        [
         "CAMPO MOURAO",
         "CENTRO",
         "5.71",
         4,
         "Basic"
        ],
        [
         "TUBARAO",
         "FABIO SILVA",
         "5.69",
         1,
         "Basic"
        ],
        [
         "IGUATU",
         "ALTO DO JUCA",
         "5.97",
         2,
         "Basic"
        ],
        [
         "PONTA GROSSA",
         "UVARANAS",
         "5.79",
         6,
         "Basic"
        ],
        [
         "CURITIBA",
         "HAUER",
         "5.63",
         2,
         "Basic"
        ],
        [
         "ALFENAS",
         "JARDIM SAO CARLOS",
         "5.82",
         1,
         "Basic"
        ],
        [
         "CURITIBA",
         "BIGORRILHO",
         "6.19",
         1,
         "Basic"
        ],
        [
         "LAGES",
         "CORAL",
         "6.14",
         2,
         "Basic"
        ],
        [
         "SANTO ANTONIO DE PADUA",
         "ARRAIALZINHO",
         "5.78",
         1,
         "Basic"
        ],
        [
         "ARARUAMA",
         "CAPA AZUL",
         "6.14",
         1,
         "Basic"
        ],
        [
         "OSORIO",
         "ENTRONCAMENTO",
         "5.73",
         1,
         "Basic"
        ],
        [
         "ITABAIANA",
         "CENTRO",
         "5.79",
         3,
         "Basic"
        ],
        [
         "ARARAS",
         "JD STA MARTA",
         "5.74",
         1,
         "Basic"
        ],
        [
         "GOIANIA",
         "PARQUE AMAZÔNIA",
         "5.74",
         1,
         "Basic"
        ],
        [
         "ITU",
         "BAIRRO TABOAO",
         "5.99",
         1,
         "Basic"
        ],
        [
         "ITAQUAQUECETUBA",
         "VILA MONTE BELO",
         "4.39",
         1,
         "Basic"
        ],
        [
         "SENHOR DO BONFIM",
         "ZONA RURAL",
         "6.58",
         2,
         "Basic"
        ],
        [
         "ARAPIRACA",
         "CANAFISTULA",
         "5.29",
         1,
         "Basic"
        ],
        [
         "PARANAGUA",
         "DOM PEDRO II",
         "5.67",
         1,
         "Basic"
        ],
        [
         "ARAXA",
         "ALVORADA",
         "5.94",
         1,
         "Basic"
        ],
        [
         "AMERICANA",
         "CENTRO",
         "6.14",
         1,
         "Basic"
        ],
        [
         "QUIXADA",
         "COMBATE",
         "6.06",
         1,
         "Basic"
        ],
        [
         "CALDAS NOVAS",
         "SETOR CENTRAL",
         "5.89",
         1,
         "Basic"
        ],
        [
         "GUAXUPE",
         "BEBEDOURO",
         "5.99",
         1,
         "Basic"
        ],
        [
         "RIO CLARO",
         "SANTA CRUZ",
         "5.99",
         1,
         "Basic"
        ],
        [
         "CORONEL FABRICIANO",
         "SANTA CRUZ",
         "5.88",
         1,
         "Basic"
        ],
        [
         "JOINVILLE",
         "IRIRIU",
         "5.98",
         3,
         "Basic"
        ],
        [
         "JI-PARANA",
         "DUQUE DE CAXIAS",
         "6.59",
         1,
         "Basic"
        ],
        [
         "NILOPOLIS",
         "OLINDA",
         "5.68",
         1,
         "Basic"
        ],
        [
         "JATAI",
         "VILA SANTA MARIA",
         "5.93",
         1,
         "Basic"
        ],
        [
         "EMBU DAS ARTES",
         "JARDIM INDEPENDENCIA",
         "5.79",
         1,
         "Basic"
        ],
        [
         "FEIRA DE SANTANA",
         "MUCHILA",
         "5.63",
         1,
         "Basic"
        ],
        [
         "MACAPA",
         "CABRALZINHO",
         "6.27",
         2,
         "Basic"
        ],
        [
         "LONDRINA",
         "JARDIM BURLE MARX",
         "6.39",
         1,
         "Basic"
        ],
        [
         "RIO DE JANEIRO",
         "SANTISSIMO",
         "5.39",
         1,
         "Basic"
        ],
        [
         "CARAPICUIBA",
         "PQ JANDAIA",
         "5.69",
         1,
         "Basic"
        ],
        [
         "SAO JOSE",
         "KOBRASOL",
         "5.69",
         1,
         "Basic"
        ],
        [
         "SAO PAULO",
         "FERREIRA",
         "6.39",
         1,
         "Basic"
        ],
        [
         "URUGUAIANA",
         "INTERIOR",
         "6.13",
         1,
         "Basic"
        ],
        [
         "PARNAIBA",
         "PIAUI",
         "5.96",
         1,
         "Basic"
        ],
        [
         "SAO PAULO",
         "VILA MONUMENTO",
         "6.99",
         1,
         "Basic"
        ],
        [
         "URUGUAIANA",
         "CIDADE ALEGRIA",
         "6.19",
         1,
         "Basic"
        ],
        [
         "JUIZ DE FORA",
         "SANTA CRUZ",
         "5.50",
         1,
         "Basic"
        ],
        [
         "MINEIROS",
         "SETOR SAO BENTO",
         "6.32",
         1,
         "Basic"
        ],
        [
         "BOA VISTA",
         "SAO PEDRO",
         "6.45",
         1,
         "Basic"
        ],
        [
         "GUARULHOS",
         "JARDIM PARAVENTI",
         "6.19",
         1,
         "Basic"
        ],
        [
         "CARAPICUIBA",
         "VILA DIRCE",
         "5.47",
         1,
         "Basic"
        ],
        [
         "CARAPICUIBA",
         "VILA SANTA TEREZINHA",
         "5.59",
         1,
         "Basic"
        ],
        [
         "FORMOSA",
         "CENTRO",
         "6.08",
         2,
         "Basic"
        ],
        [
         "ARAXA",
         "CENTRO",
         "5.89",
         3,
         "Basic"
        ],
        [
         "CAMPINAS",
         "JARDIM MIRIAM DA COSTA",
         "6.49",
         1,
         "Basic"
        ],
        [
         "NOVA LIMA",
         "OLARIA",
         "5.99",
         1,
         "Basic"
        ],
        [
         "ACAILANDIA",
         "VILA SAO FRANCISCO",
         "6.11",
         1,
         "Basic"
        ],
        [
         "TUPA",
         "CENTRO",
         "5.89",
         4,
         "Basic"
        ],
        [
         "NOVA IGUACU",
         "MOQUETA",
         "5.59",
         1,
         "Basic"
        ],
        [
         "ARAGUAINA",
         "ANHANGUERA",
         "5.75",
         1,
         "Basic"
        ],
        [
         "LEME",
         "VILA SANTUCCI",
         "5.42",
         1,
         "Basic"
        ],
        [
         "SIMOES FILHO",
         "CENTRO",
         "5.99",
         2,
         "Basic"
        ],
        [
         "SAO PAULO",
         "TREMEMBE",
         "6.29",
         1,
         "Basic"
        ],
        [
         "VILHENA",
         "PARQUE INDUSTRIAL SAO PAULO",
         "5.92",
         1,
         "Basic"
        ],
        [
         "PORTO VELHO",
         "NOSSA SENHORA DAS GRAÇAS",
         "6.39",
         1,
         "Basic"
        ],
        [
         "ITAITUBA",
         "BOM REMEDIO",
         "5.71",
         1,
         "Basic"
        ],
        [
         "LAVRAS",
         "CENTRO",
         "6.30",
         2,
         "Basic"
        ],
        [
         "MARINGA",
         "ZONA 03",
         "5.85",
         1,
         "Basic"
        ],
        [
         "SAO PAULO",
         "JAGUARE",
         "5.33",
         3,
         "Basic"
        ],
        [
         "UBERLANDIA",
         "SHOPPING PARK",
         "6.09",
         1,
         "Basic"
        ],
        [
         "SAO JOSE",
         "BARREIROS",
         "5.36",
         4,
         "Basic"
        ],
        [
         "OLINDA",
         "GUADALUPE",
         "5.20",
         1,
         "Basic"
        ],
        [
         "CATANDUVA",
         "PARQUE IPIRANGA",
         "5.54",
         1,
         "Basic"
        ],
        [
         "CAUCAIA",
         "ARATURI (JUREMA)",
         "5.95",
         1,
         "Basic"
        ],
        [
         "PORTO ALEGRE",
         "PARTENON",
         "4.59",
         1,
         "Basic"
        ],
        [
         "JALES",
         "JARDIM SAMAMBAIA",
         "5.76",
         1,
         "Basic"
        ],
        [
         "INDAIATUBA",
         "CENTRO",
         "5.59",
         1,
         "Basic"
        ],
        [
         "JUAZEIRO DO NORTE",
         "SANTA TERESA",
         "6.13",
         1,
         "Basic"
        ],
        [
         "RECIFE",
         "SOLEDADE",
         "5.88",
         1,
         "Basic"
        ],
        [
         "SANTA BARBARA D'OESTE",
         "CENTRO",
         "5.69",
         1,
         "Basic"
        ],
        [
         "MANAUS",
         "COLONIA TERRA NOVA",
         "6.14",
         1,
         "Basic"
        ],
        [
         "UMUARAMA",
         "RODOVIA",
         "5.73",
         1,
         "Basic"
        ],
        [
         "CASTANHAL",
         "NOVA OLINDA",
         "5.43",
         1,
         "Basic"
        ],
        [
         "CASTANHAL",
         "IMPERADOR",
         "5.43",
         1,
         "Basic"
        ],
        [
         "PRESIDENTE PRUDENTE",
         "JD SANTA CLARA",
         "6.29",
         1,
         "Basic"
        ],
        [
         "SAO CAETANO DO SUL",
         "CERAMICA",
         "5.71",
         2,
         "Basic"
        ],
        [
         "RIO DE JANEIRO",
         "CAMPO GRANDE",
         "5.56",
         17,
         "VIP"
        ],
        [
         "SAO PAULO",
         "JARDIM ARPOADOR",
         "5.27",
         1,
         "Basic"
        ],
        [
         "CAUCAIA",
         "BOQUEIRAO",
         "5.18",
         1,
         "Basic"
        ],
        [
         "SAO GONCALO",
         "ALCANTARA",
         "5.34",
         1,
         "Basic"
        ],
        [
         "IJUI",
         "SOL NASCENTE",
         "6.07",
         1,
         "Basic"
        ],
        [
         "VIAMAO",
         "AGUAS CLARAS",
         "5.65",
         3,
         "Basic"
        ],
        [
         "SALVADOR",
         "MATA ESCURA",
         "5.84",
         1,
         "Basic"
        ],
        [
         "BIRIGUI",
         "JARDIM JUSSARA MARIA",
         "5.59",
         1,
         "Basic"
        ],
        [
         "SAPUCAIA DO SUL",
         "CENTRO",
         "5.84",
         1,
         "Basic"
        ],
        [
         "JOINVILLE",
         "SANTA CATARINA",
         "5.22",
         1,
         "Basic"
        ],
        [
         "SANTOS",
         "VILA MATHIAS",
         "6.32",
         2,
         "Basic"
        ],
        [
         "SAO GONCALO",
         "BOA VISTA",
         "5.79",
         1,
         "Basic"
        ],
        [
         "MONTES CLAROS",
         "CIDADE SANTA MARIA",
         "5.69",
         1,
         "Basic"
        ],
        [
         "BRAGANCA",
         "PERPETUO SOCORRO",
         "6.30",
         2,
         "Basic"
        ],
        [
         "PIRACICABA",
         "DOS ALEMAES",
         "6.09",
         1,
         "Basic"
        ],
        [
         "SAO PAULO",
         "FREGUESIA DO Ó",
         "5.89",
         2,
         "Basic"
        ],
        [
         "IPATINGA",
         "CIDADE NOBRE",
         "5.70",
         2,
         "Basic"
        ],
        [
         "ANAPOLIS",
         "MARACANA",
         "5.96",
         1,
         "Basic"
        ],
        [
         "NOSSA SENHORA DO SOCORRO",
         "JARDIM",
         "5.80",
         1,
         "Basic"
        ],
        [
         "PINDAMONHANGABA",
         "CRISPIM",
         "6.02",
         1,
         "Basic"
        ],
        [
         "ARARAQUARA",
         "JARDIM AROEIRAS",
         "5.31",
         1,
         "Basic"
        ],
        [
         "MOGI DAS CRUZES",
         "JD SAO PEDRO",
         "5.84",
         1,
         "Basic"
        ],
        [
         "SAO ROQUE",
         "CENTRO",
         "5.89",
         1,
         "Basic"
        ],
        [
         "PORTO ALEGRE",
         "SAO JOAO",
         "5.69",
         1,
         "Basic"
        ],
        [
         "LIMOEIRO DO NORTE",
         "BROTOLNDIA",
         "5.99",
         1,
         "Basic"
        ],
        [
         "ALFENAS",
         "VILA BETANIA",
         "5.79",
         1,
         "Basic"
        ],
        [
         "CHAPECO",
         "TREVO",
         "5.52",
         1,
         "Basic"
        ],
        [
         "SAO LEOPOLDO",
         "RIO DOS SINOS",
         "5.50",
         1,
         "Basic"
        ],
        [
         "RIO CLARO",
         "VILA APARECIDA",
         "5.69",
         1,
         "Basic"
        ],
        [
         "NOVO HAMBURGO",
         "CANUDOS",
         "5.47",
         1,
         "Basic"
        ],
        [
         "BOA VISTA",
         "RAIAR DO SOL",
         "6.48",
         1,
         "Basic"
        ],
        [
         "MARICA",
         "PONTA NEGRA",
         "5.52",
         1,
         "Basic"
        ],
        [
         "SAO PAULO",
         "VILA CARRAO",
         "5.99",
         3,
         "Basic"
        ],
        [
         "SAO BERNARDO DO CAMPO",
         "NOVA PETROPOLIS",
         "5.89",
         2,
         "Basic"
        ],
        [
         "ARAUCARIA",
         "THOMAZ COELHO",
         "5.75",
         2,
         "Basic"
        ],
        [
         "CARAPICUIBA",
         "JARDIM PIGNATARI",
         "5.31",
         1,
         "Basic"
        ],
        [
         "SERRINHA",
         "RODOVIARIA",
         "5.89",
         1,
         "Basic"
        ],
        [
         "SAO CARLOS",
         "JARDIM PAULISTANO",
         "5.36",
         1,
         "Basic"
        ],
        [
         "JUAZEIRO DO NORTE",
         "AEROPORTO",
         "6.06",
         2,
         "Basic"
        ],
        [
         "NATAL",
         "RIBEIRA",
         "6.21",
         2,
         "Basic"
        ],
        [
         "MARECHAL CANDIDO RONDON",
         "BOA VISTA",
         "5.81",
         1,
         "Basic"
        ],
        [
         "ANAPOLIS",
         "ALVORADA",
         "5.71",
         1,
         "Basic"
        ],
        [
         "SAO PAULO",
         "JARDIM TABOAO",
         "5.49",
         1,
         "Basic"
        ],
        [
         "ITAJAI",
         "CENTRO",
         "6.00",
         2,
         "Basic"
        ],
        [
         "ESTEIO",
         "PARQUE AMADOR",
         "5.59",
         1,
         "Basic"
        ],
        [
         "IMPERATRIZ",
         "ENTROCAMENTO",
         "5.97",
         1,
         "Basic"
        ],
        [
         "VIDEIRA",
         "NOSSA SENHORA APARECIDA",
         "6.09",
         1,
         "Basic"
        ],
        [
         "JACOBINA",
         "LAGOINHA",
         "6.19",
         1,
         "Basic"
        ],
        [
         "RIO BRANCO",
         "PLACAS",
         "7.14",
         1,
         "Basic"
        ],
        [
         "PARINTINS",
         "RAIMUNDO MUNIZ",
         "6.89",
         1,
         "Basic"
        ],
        [
         "BARREIRAS",
         "CENTRO",
         "6.21",
         2,
         "Basic"
        ],
        [
         "IMPERATRIZ",
         "ENTRONCAMENTO",
         "5.83",
         2,
         "Basic"
        ],
        [
         "CAUCAIA",
         "JARDIM FORTALEZA",
         "5.47",
         1,
         "Basic"
        ],
        [
         "SABARA",
         "CENTRO",
         "6.19",
         1,
         "Basic"
        ],
        [
         "CRUZEIRO",
         "CENTRO",
         "6.59",
         1,
         "Basic"
        ],
        [
         "SAO JOAO DA BOA VISTA",
         "JARDIM BELA VISTA",
         "5.72",
         1,
         "Basic"
        ],
        [
         "BETIM",
         "JARDIM DA CIDADE",
         "5.79",
         1,
         "Basic"
        ],
        [
         "PONTA GROSSA",
         "CENTRO",
         "5.93",
         3,
         "Basic"
        ],
        [
         "VARGINHA",
         "CONJUNTO HABITACIONAL CENTENARIO",
         "5.94",
         1,
         "Basic"
        ],
        [
         "SOUSA",
         "JARDIM BELA VISTA",
         "5.89",
         1,
         "Basic"
        ],
        [
         "VACARIA",
         "GLORIA",
         "5.99",
         1,
         "Basic"
        ],
        [
         "SAO VICENTE",
         "VILA MARGARIDA",
         "6.09",
         1,
         "Basic"
        ],
        [
         "SOUSA",
         "JARDIM SORRILANDIA II",
         "6.19",
         1,
         "Basic"
        ],
        [
         "SAO SEBASTIAO DO PARAISO",
         "SUBURBIO",
         "5.65",
         1,
         "Basic"
        ],
        [
         "MAGE",
         "MAURIMARCIA (VILA INHOMIRIM)",
         "4.49",
         1,
         "Basic"
        ],
        [
         "ITAPOLIS",
         "NOVA AMERICA",
         "5.44",
         1,
         "Basic"
        ],
        [
         "ARACATUBA",
         "PARQUE INDUSTRIAL DE GRANDES RESIDUOS",
         "5.55",
         1,
         "Basic"
        ],
        [
         "COSMOPOLIS",
         "BELA VISTA IV",
         "5.51",
         1,
         "Basic"
        ],
        [
         "RIBEIRAO PRETO",
         "CAMPOS ELISEOS",
         "6.05",
         6,
         "Basic"
        ],
        [
         "CAMPO GRANDE",
         "VILA SAO FRANCISCO",
         "5.71",
         1,
         "Basic"
        ],
        [
         "BRUMADO",
         "FELICIANO PEREIRA SANTOS",
         "5.94",
         1,
         "Basic"
        ],
        [
         "POCOS DE CALDAS",
         "PARQUE VIVALDI LEITE RIBEIRO",
         "5.59",
         1,
         "Basic"
        ],
        [
         "SAO PAULO",
         "PARQUE EDU CHAVES",
         "5.99",
         1,
         "Basic"
        ],
        [
         "FORTALEZA",
         "CARLITO PAMPLONA",
         "5.62",
         2,
         "Basic"
        ],
        [
         "RIO VERDE",
         "JARDIM GOIAS",
         "5.78",
         2,
         "Basic"
        ],
        [
         "MARILIA",
         "JARDIM VISTA ALEGRE",
         "5.66",
         1,
         "Basic"
        ],
        [
         "SAO SEBASTIAO DO PARAISO",
         "VILA DALVA",
         "5.69",
         1,
         "Basic"
        ],
        [
         "OSASCO",
         "SANTO ANTONIO",
         "6.59",
         1,
         "Basic"
        ],
        [
         "MOCOCA",
         "VILA QUINTINO",
         "5.84",
         1,
         "Basic"
        ],
        [
         "PIRACICABA",
         "EST.MUNIC.MATAO",
         "5.74",
         1,
         "Basic"
        ],
        [
         "POA",
         "CALMON VIANA",
         "5.99",
         2,
         "Basic"
        ],
        [
         "BELFORD ROXO",
         "CENTRO",
         "5.50",
         3,
         "Basic"
        ],
        [
         "VALENCA",
         "CHACRINHA",
         "5.92",
         1,
         "Basic"
        ],
        [
         "UBERLANDIA",
         "LOTEAMENTO JARDIM BOTANICO BAIRRO GRANADA",
         "5.99",
         1,
         "Basic"
        ],
        [
         "SAO ROQUE",
         "TABOAO",
         "5.69",
         1,
         "Basic"
        ],
        [
         "GRAVATAI",
         "BOM SUCESSO",
         "5.84",
         1,
         "Basic"
        ],
        [
         "BRUSQUE",
         "SANTA TEREZINHA",
         "5.09",
         1,
         "Basic"
        ],
        [
         "GOVERNADOR VALADARES",
         "GRA-DUQUESA",
         "5.67",
         1,
         "Basic"
        ],
        [
         "FORTALEZA",
         "PARANGABA",
         "5.52",
         2,
         "Basic"
        ],
        [
         "VILA VELHA",
         "JABURUNA",
         "5.61",
         2,
         "Basic"
        ],
        [
         "CRATEUS",
         "VENANCIO",
         "6.39",
         1,
         "Basic"
        ],
        [
         "JOSE BONIFACIO",
         "SÃO JOSÉ",
         "6.18",
         1,
         "Basic"
        ],
        [
         "MAUA",
         "JARDIM QUARTO CENTENARIO",
         "6.49",
         1,
         "Basic"
        ],
        [
         "ARACATUBA",
         "VILA SAO PAULO",
         "6.25",
         1,
         "Basic"
        ],
        [
         "MACAE",
         "COSTA DO SOL",
         "5.94",
         1,
         "Basic"
        ],
        [
         "APARECIDA DE GOIANIA",
         "SERRA DOURADA III",
         "5.59",
         1,
         "Basic"
        ],
        [
         "CUIABA",
         "CARUMBE",
         "6.34",
         2,
         "Basic"
        ],
        [
         "BELO HORIZONTE",
         "VILA BERNADETI",
         "4.89",
         1,
         "Basic"
        ],
        [
         "SAO PAULO",
         "BRAS",
         "6.99",
         1,
         "Basic"
        ],
        [
         "FEIRA DE SANTANA",
         "CENTRO",
         "5.58",
         5,
         "Basic"
        ],
        [
         "RIO DE JANEIRO",
         "DEL CASTILHO",
         "5.90",
         3,
         "Basic"
        ],
        [
         "BENTO GONCALVES",
         "SANTO ANTAO",
         "5.84",
         1,
         "Basic"
        ],
        [
         "PIRACICABA",
         "PAULISTA",
         "5.74",
         1,
         "Basic"
        ],
        [
         "MATAO",
         "BAIRRO ALTO",
         "6.78",
         1,
         "Basic"
        ],
        [
         "EMBU DAS ARTES",
         "CERCADO GRANDE",
         "6.22",
         1,
         "Basic"
        ],
        [
         "SANTA CRUZ DO SUL",
         "AVENIDA",
         "6.12",
         2,
         "Basic"
        ],
        [
         "BELFORD ROXO",
         "BELFORDROXO",
         "4.58",
         1,
         "Basic"
        ],
        [
         "VOLTA REDONDA",
         "SANTA CRUZ",
         "5.99",
         1,
         "Basic"
        ],
        [
         "POCOS DE CALDAS",
         "BORTOLAN NORTE I",
         "6.14",
         1,
         "Basic"
        ],
        [
         "FORTALEZA",
         "GRANJA PORTUGAL",
         "5.64",
         1,
         "Basic"
        ],
        [
         "SAO ROQUE",
         "JARDIM ESTHER",
         "5.49",
         1,
         "Basic"
        ],
        [
         "PORTO VELHO",
         "IGARAPE",
         "6.29",
         1,
         "Basic"
        ],
        [
         "TERESINA",
         "SAO JOAO",
         "5.99",
         1,
         "Basic"
        ],
        [
         "ITAJAI",
         "PRAIA BRAVA",
         "6.08",
         1,
         "Basic"
        ],
        [
         "SAO PAULO",
         "JARDIM IPANEMA",
         "5.99",
         1,
         "Basic"
        ],
        [
         "CAXIAS",
         "VOLTA REDONDA",
         "5.70",
         1,
         "Basic"
        ],
        [
         "SAO PAULO",
         "VILA CURUÇÁ",
         "5.69",
         1,
         "Basic"
        ],
        [
         "DOURADOS",
         "JARDIM MARCIA",
         "6.07",
         1,
         "Basic"
        ],
        [
         "TAUBATE",
         "CAMPOS ELISEOS",
         "5.89",
         1,
         "Basic"
        ],
        [
         "ARACAJU",
         "JABOTIANA",
         "5.36",
         2,
         "Basic"
        ],
        [
         "BARRA DO CORDA",
         "ALTAMIRA",
         "5.84",
         5,
         "Basic"
        ],
        [
         "ESTEIO",
         "CENTRO",
         "5.85",
         3,
         "Basic"
        ],
        [
         "CARAPICUIBA",
         "PARQUE JANDAIA",
         "5.69",
         1,
         "Basic"
        ],
        [
         "COTIA",
         "JARDIM DA GLORIA",
         "6.38",
         2,
         "Basic"
        ],
        [
         "CANINDE",
         "CANINDEZINHO",
         "6.08",
         1,
         "Basic"
        ],
        [
         "MINEIROS",
         "SETOR COHACOL 3",
         "5.74",
         1,
         "Basic"
        ],
        [
         "URUGUAIANA",
         "BOA VISTA",
         "6.31",
         1,
         "Basic"
        ],
        [
         "BELEM",
         "ICOARACI",
         "5.49",
         2,
         "Basic"
        ],
        [
         "PINHEIRO",
         "CENTRO",
         "6.21",
         5,
         "Basic"
        ],
        [
         "ITAGUAI",
         "IBIRAPITANGA",
         "5.99",
         1,
         "Basic"
        ],
        [
         "CACERES",
         "CENTRO",
         "6.05",
         3,
         "Basic"
        ],
        [
         "FLORIANOPOLIS",
         "CENTRO",
         "5.95",
         1,
         "Basic"
        ],
        [
         "CRICIUMA",
         "HG - QUARTA LINHA",
         "5.69",
         1,
         "Basic"
        ],
        [
         "CAMPO GRANDE",
         "VILA GAL WOLGRAND",
         "5.79",
         1,
         "Basic"
        ],
        [
         "ITABUNA",
         "JACANA",
         "5.81",
         2,
         "Basic"
        ],
        [
         "MONTES CLAROS",
         "MARACANA",
         "6.08",
         1,
         "Basic"
        ],
        [
         "SALVADOR",
         "PERNAMBUES",
         "4.94",
         1,
         "Basic"
        ],
        [
         "MACAPA",
         "MARABAIXO",
         "6.35",
         1,
         "Basic"
        ],
        [
         "IMPERATRIZ",
         "JARDIM TROPICAL",
         "5.61",
         1,
         "Basic"
        ],
        [
         "CUBATAO",
         "JARDIM CASQUEIRO",
         "6.35",
         1,
         "Basic"
        ],
        [
         "SOROCABA",
         "VILA AUGUSTA",
         "5.73",
         1,
         "Basic"
        ],
        [
         "MIRASSOL",
         "JARDIM SAO BERNARDO II",
         "5.79",
         1,
         "Basic"
        ],
        [
         "SAO SEBASTIAO DO PARAISO",
         "JARDIM SAO JOSE",
         "5.69",
         1,
         "Basic"
        ],
        [
         "ARARIPINA",
         "CENTRO",
         "5.87",
         4,
         "Basic"
        ],
        [
         "CAMPINAS",
         "CHACARA DA BARRA",
         "5.79",
         1,
         "Basic"
        ],
        [
         "BELO JARDIM",
         "CENTRO",
         "5.52",
         2,
         "Basic"
        ],
        [
         "JOINVILLE",
         "BOA VISTA",
         "6.09",
         1,
         "Basic"
        ],
        [
         "CANOAS",
         "ESTANCIA VELHA",
         "6.00",
         5,
         "Basic"
        ],
        [
         "CARUARU",
         "ZONA RURAL",
         "5.61",
         2,
         "Basic"
        ],
        [
         "ITACOATIARA",
         "SAO FRANCISCO",
         "7.19",
         1,
         "Basic"
        ],
        [
         "SAO JOSE DOS CAMPOS",
         "CID JARDIM",
         "5.49",
         1,
         "Basic"
        ],
        [
         "CARUARU",
         "INDIANOPOLIS",
         "5.73",
         3,
         "Basic"
        ],
        [
         "OSASCO",
         "AYROSA",
         "5.62",
         2,
         "Basic"
        ],
        [
         "SANTAREM",
         "FATIMA",
         "5.95",
         1,
         "Basic"
        ],
        [
         "PINHEIRO",
         "ENSEADA",
         "6.20",
         1,
         "Basic"
        ],
        [
         "CACAPAVA",
         "VILA SANTOS",
         "5.79",
         1,
         "Basic"
        ],
        [
         "ITAJAI",
         "SÃO VICENTE",
         "5.98",
         1,
         "Basic"
        ],
        [
         "CARUARU",
         "NOVA CARUARU",
         "5.69",
         1,
         "Basic"
        ],
        [
         "ASSIS",
         "VILA SANTA CECILIA",
         "6.19",
         1,
         "Basic"
        ],
        [
         "VITORIA DE SANTO ANTAO",
         "LIVRAMENTO",
         "5.79",
         1,
         "Basic"
        ],
        [
         "SAO PAULO",
         "JARDIM MORALES",
         "5.79",
         1,
         "Basic"
        ],
        [
         "CATALAO",
         "SAO JOAO",
         "5.82",
         1,
         "Basic"
        ],
        [
         "ARACRUZ",
         "DE CARLI",
         "5.92",
         1,
         "Basic"
        ],
        [
         "ALENQUER",
         "CENTRO",
         "7.00",
         1,
         "Basic"
        ],
        [
         "TOLEDO",
         "CENTRO",
         "5.91",
         3,
         "Basic"
        ],
        [
         "VALPARAISO DE GOIAS",
         "JARDIM CEU AZUL",
         "5.69",
         3,
         "Basic"
        ],
        [
         "CAMPO GRANDE",
         "VILA MARCOS ROBERTO",
         "5.69",
         1,
         "Basic"
        ],
        [
         "ACAILANDIA",
         "LOTEAMENTO MORADA DO SOL",
         "5.70",
         1,
         "Basic"
        ],
        [
         "GARANHUNS",
         "MAGANO",
         "5.59",
         1,
         "Basic"
        ],
        [
         "ALTA FLORESTA",
         "CENTRO",
         "6.74",
         2,
         "Basic"
        ],
        [
         "ACAILANDIA",
         "VILA ILDEMAR",
         "5.70",
         1,
         "Basic"
        ],
        [
         "CARIACICA",
         "PORTO DE SANTANA",
         "5.89",
         1,
         "Basic"
        ],
        [
         "ARIQUEMES",
         "SETOR 01",
         "6.38",
         1,
         "Basic"
        ],
        [
         "RIO BRANCO",
         "FLORESTA SUL",
         "7.30",
         1,
         "Basic"
        ],
        [
         "OLINDA",
         "PEIXINHOS",
         "5.76",
         1,
         "Basic"
        ],
        [
         "JI-PARANA",
         "NOSSA SENHORA DE FATIMA",
         "6.88",
         1,
         "Basic"
        ],
        [
         "FOZ DO IGUACU",
         "TRES LAGOAS",
         "6.29",
         2,
         "Basic"
        ],
        [
         "GARANHUNS",
         "ZONA RURAL",
         "5.65",
         1,
         "Basic"
        ],
        [
         "PORANGATU",
         "JARDIM BRASILIA",
         "5.93",
         1,
         "Basic"
        ],
        [
         "SAO LUIS",
         "JARDIM SAO CRISTOVAO II",
         "5.89",
         1,
         "Basic"
        ],
        [
         "BELO HORIZONTE",
         "VENDA NOVA",
         "5.79",
         1,
         "Basic"
        ],
        [
         "CUIABA",
         "POCAO",
         "5.89",
         1,
         "Basic"
        ],
        [
         "MOSSORO",
         "ALTO SAO MANOEL",
         "5.56",
         1,
         "Basic"
        ],
        [
         "RIO DE JANEIRO",
         "RIO COMPRIDO",
         "5.69",
         1,
         "Basic"
        ],
        [
         "CABO FRIO",
         "PORTO DO CARRO",
         "6.07",
         1,
         "Basic"
        ],
        [
         "RIO DE JANEIRO",
         "PADRE MIGUEL",
         "4.59",
         1,
         "Basic"
        ],
        [
         "PAULISTA",
         "TORRES GALVÃO",
         "5.89",
         1,
         "Basic"
        ],
        [
         "MARINGA",
         "ZONA 01",
         "6.29",
         1,
         "Basic"
        ],
        [
         "COTIA",
         "JARDIM PETROPOLIS",
         "5.99",
         1,
         "Basic"
        ],
        [
         "ARCOVERDE",
         "SÃO CRISTOVÃO",
         "5.79",
         1,
         "Basic"
        ],
        [
         "SOROCABA",
         "ALEM LINHA",
         "5.89",
         1,
         "Basic"
        ],
        [
         "SINOP",
         "SAO CRISTOVAO",
         "5.75",
         1,
         "Basic"
        ],
        [
         "CARUARU",
         "KENNEDY",
         "5.35",
         2,
         "Basic"
        ],
        [
         "CASCAVEL",
         "JD. DONA JURACY",
         "5.99",
         1,
         "Basic"
        ],
        [
         "BRAGANCA PAULISTA",
         "BIRICA DO CAMPO NOVO",
         "5.64",
         1,
         "Basic"
        ],
        [
         "SOUSA",
         "RODOVIA",
         "5.99",
         1,
         "Basic"
        ],
        [
         "PORTO VELHO",
         "NOVA PORTO VELHO",
         "6.30",
         4,
         "Basic"
        ],
        [
         "JACAREI",
         "SANTA CRUZ DOS LAZAROS",
         "5.99",
         1,
         "Basic"
        ],
        [
         "BELFORD ROXO",
         "PARQUE VENEZA",
         "5.34",
         1,
         "Basic"
        ],
        [
         "CARIACICA",
         "GRAUNA",
         "5.83",
         1,
         "Basic"
        ],
        [
         "SAO MATEUS",
         "PEDRA D'AGUA",
         "5.84",
         1,
         "Basic"
        ],
        [
         "MACEIO",
         "TABULEIRO DOS MARTINS",
         "4.69",
         1,
         "Basic"
        ],
        [
         "ALFENAS",
         "CENTRO",
         "5.67",
         1,
         "Basic"
        ],
        [
         "ASSIS CHATEAUBRIAND",
         "JARDIM EUROPA",
         "5.59",
         1,
         "Basic"
        ],
        [
         "SORRISO",
         "DISTRITO INDUSTRIAL",
         "5.74",
         1,
         "Basic"
        ],
        [
         "CACHOEIRINHA",
         "VILA PRINCESA IZABEL",
         "5.99",
         1,
         "Basic"
        ],
        [
         "JATAI",
         "JARDIM RIO CLARO",
         "6.08",
         1,
         "Basic"
        ],
        [
         "ARARAQUARA",
         "VILA SUCONASA",
         "6.29",
         1,
         "Basic"
        ],
        [
         "VOLTA REDONDA",
         null,
         "6.29",
         1,
         "Basic"
        ],
        [
         "SAO PAULO",
         "TATUAPE",
         "6.02",
         5,
         "Basic"
        ],
        [
         "ITAQUAQUECETUBA",
         "CAMPO DA VENDA",
         "6.09",
         1,
         "Basic"
        ],
        [
         "ITAJUBA",
         "NOSSA SENHORA DE FATIMA",
         "6.08",
         1,
         "Basic"
        ],
        [
         "SAO JOSE DO RIO PRETO",
         "JARDIM NAZARETH",
         "5.64",
         1,
         "Basic"
        ],
        [
         "MARABA",
         "CENTRO",
         "6.33",
         1,
         "Basic"
        ],
        [
         "CASTANHAL",
         "ESTRELA",
         "6.02",
         2,
         "Basic"
        ],
        [
         "OLINDA",
         "RIO DOCE",
         "5.78",
         2,
         "Basic"
        ],
        [
         "CAMPINAS",
         "CENTRO",
         "5.47",
         1,
         "Basic"
        ],
        [
         "ITATIBA",
         "JARDIM DE LUCCA",
         "6.44",
         1,
         "Basic"
        ],
        [
         "SANTO ANDRE",
         "CAMILOPOLIS",
         "6.04",
         1,
         "Basic"
        ],
        [
         "CAMPO LARGO",
         "BOM JESUS",
         "5.69",
         2,
         "Basic"
        ],
        [
         "JACAREI",
         "CIDADE SALVADOR",
         "5.60",
         2,
         "Basic"
        ],
        [
         "VALPARAISO DE GOIAS",
         "MORADA NOBRE",
         "5.75",
         1,
         "Basic"
        ],
        [
         "SANTA ROSA",
         "TIMBAUVA",
         "5.59",
         1,
         "Basic"
        ],
        [
         "TERESINA",
         "AREIAS",
         "5.94",
         1,
         "Basic"
        ],
        [
         "FEIRA DE SANTANA",
         "CIDADE NOVA",
         "5.66",
         2,
         "Basic"
        ],
        [
         "OLIVEIRA",
         "CABRAIS",
         "6.12",
         1,
         "Basic"
        ],
        [
         "ARAGUARI",
         "MILENIUM",
         "5.88",
         1,
         "Basic"
        ],
        [
         "COLATINA",
         "COLATINA VELHA",
         "5.99",
         1,
         "Basic"
        ],
        [
         "LEME",
         "SERELEPE",
         "6.09",
         1,
         "Basic"
        ],
        [
         "UBERLANDIA",
         "CARAJAS",
         "5.74",
         1,
         "Basic"
        ],
        [
         "JAU",
         "JARDIM BELA VISTA",
         "6.09",
         1,
         "Basic"
        ],
        [
         "JOAO MONLEVADE",
         "CARNEIRINHOS",
         "6.03",
         1,
         "Basic"
        ],
        [
         "MACEIO",
         "JATIUCA",
         "4.69",
         1,
         "Basic"
        ],
        [
         "PORTO SEGURO",
         "CAMBOLO",
         "6.90",
         1,
         "Basic"
        ],
        [
         "SAO JOSE DOS CAMPOS",
         "COLONIA PARAISO",
         "5.69",
         1,
         "Basic"
        ],
        [
         "SANTO ANTONIO DE PADUA",
         "SANTA CRUZ",
         "5.68",
         1,
         "Basic"
        ],
        [
         "CODO",
         "CENTRO",
         "6.04",
         2,
         "Basic"
        ],
        [
         "SANTANA",
         "COMERCIAL",
         "6.24",
         1,
         "Basic"
        ],
        [
         "ITAPIRA",
         "CENTRO",
         "5.89",
         3,
         "Basic"
        ],
        [
         "CARUARU",
         "PINHEIROPOLIS",
         "5.69",
         1,
         "Basic"
        ],
        [
         "ARAPIRACA",
         "SAO LUIZ II",
         "5.89",
         1,
         "Basic"
        ],
        [
         "VOTUPORANGA",
         "SIMONSEN",
         "5.47",
         1,
         "Basic"
        ],
        [
         "PARA DE MINAS",
         "VILA LARA",
         "5.74",
         1,
         "Basic"
        ],
        [
         "TERESINA",
         "CRISTO REI",
         "5.94",
         1,
         "Basic"
        ],
        [
         "SUZANO",
         "MIGUEL BADRA",
         "5.97",
         1,
         "Basic"
        ],
        [
         "ITUMBIARA",
         "PORTAL DOS IPES",
         "5.54",
         1,
         "Basic"
        ],
        [
         "GOVERNADOR VALADARES",
         "SAO PAULO",
         "5.65",
         1,
         "Basic"
        ],
        [
         "MARACANAU",
         "TIMBO",
         "5.55",
         1,
         "Basic"
        ],
        [
         "CAMPINAS",
         "JD.NOVO CAMPOS ELISE",
         "5.74",
         1,
         "Basic"
        ],
        [
         "ITU",
         "VILA MARTINS",
         "5.94",
         1,
         "Basic"
        ],
        [
         "SAO JOSE DO RIO PRETO",
         "VILA ITALIA",
         "5.56",
         1,
         "Basic"
        ],
        [
         "PARAUAPEBAS",
         "CIDADE NOVA",
         "6.55",
         1,
         "Basic"
        ],
        [
         "APARECIDA DE GOIANIA",
         "VILA SANTO ANTONIO - SEGUNDO ACRESCIMO",
         "5.89",
         1,
         "Basic"
        ],
        [
         "CRICIUMA",
         "SANTA LUZIA",
         "5.83",
         2,
         "Basic"
        ],
        [
         "CIANORTE",
         "ZONA 07",
         "5.49",
         1,
         "Basic"
        ],
        [
         "SUZANO",
         "JD REVISTA",
         "5.68",
         1,
         "Basic"
        ],
        [
         "REDENCAO",
         "NOVO HORIZONTE",
         "5.94",
         2,
         "Basic"
        ],
        [
         "SANTO ANDRE",
         "JARDIM MONTE LIBANO",
         "6.41",
         1,
         "Basic"
        ],
        [
         "ITUMBIARA",
         "SETOR CENTRAL",
         "5.79",
         1,
         "Basic"
        ],
        [
         "CATANDUVA",
         "VL PAULISTA",
         "5.34",
         1,
         "Basic"
        ],
        [
         "MARINGA",
         "ZONA 2",
         "5.99",
         1,
         "Basic"
        ],
        [
         "MARILIA",
         "RURAL",
         "6.49",
         1,
         "Basic"
        ],
        [
         "CAMPINAS",
         "SWIFT",
         "5.84",
         1,
         "Basic"
        ],
        [
         "FRANCA",
         "JARDIM MARIA GABRIELA",
         "5.72",
         1,
         "Basic"
        ],
        [
         "RIO DE JANEIRO",
         "PRACA DA BANDEIRA",
         "5.79",
         1,
         "Basic"
        ],
        [
         "RIBEIRAO PIRES",
         "PONTE SECA",
         "6.09",
         1,
         "Basic"
        ],
        [
         "UBERABA",
         "OLINDA",
         "6.09",
         1,
         "Basic"
        ],
        [
         "CARAGUATATUBA",
         "JARDIM BRITANIA",
         "6.39",
         1,
         "Basic"
        ],
        [
         "SOBRAL",
         "CIDADE PEDRO MENDES CARNEIRO",
         "5.99",
         1,
         "Basic"
        ],
        [
         "ABAETETUBA",
         "BOSQUE",
         "5.79",
         2,
         "Basic"
        ],
        [
         "SAO PAULO",
         "JARAGUA",
         "6.31",
         3,
         "Basic"
        ],
        [
         "RIO DE JANEIRO",
         "JACAREPAGUÁ",
         "5.36",
         2,
         "Basic"
        ],
        [
         "LIMEIRA",
         "SANTA LUCIA",
         "5.48",
         1,
         "Basic"
        ],
        [
         "SAO PAULO",
         "CIDADE SATELITE",
         "5.39",
         1,
         "Basic"
        ],
        [
         "ITATIBA",
         "BAIRRO ENGENHO",
         "5.14",
         1,
         "Basic"
        ],
        [
         "GRAVATAI",
         "NEOPOLIS",
         "5.64",
         1,
         "Basic"
        ],
        [
         "IGUATU",
         "PLANALTO",
         "5.99",
         1,
         "Basic"
        ],
        [
         "RIO BRANCO",
         "IVETE VARGAS",
         "7.20",
         1,
         "Basic"
        ],
        [
         "QUIXADA",
         "ZONA  URBANA",
         "6.35",
         1,
         "Basic"
        ],
        [
         "JOSE BONIFACIO",
         "JARDIM PRIMAVERA II",
         "5.54",
         1,
         "Basic"
        ],
        [
         "PARAGOMINAS",
         "PARQUE DAS AMERICAS",
         "6.50",
         1,
         "Basic"
        ],
        [
         "SANTOS",
         "VILA MATIAS",
         "5.89",
         1,
         "Basic"
        ],
        [
         "TAUBATE",
         "INDEPENDENCIA",
         "5.37",
         1,
         "Basic"
        ],
        [
         "SANTO ANDRE",
         "VILA ALICE",
         "5.99",
         1,
         "Basic"
        ],
        [
         "TEOFILO OTONI",
         "MARAJOARA",
         "5.82",
         1,
         "Basic"
        ],
        [
         "VOTORANTIM",
         "PARQUE BELA VISTA",
         "5.79",
         1,
         "Basic"
        ],
        [
         "PONTA PORA",
         "VILA AQUIDABAM",
         "6.15",
         1,
         "Basic"
        ],
        [
         "DELMIRO GOUVEIA",
         "PEDRA VELHA",
         "6.72",
         2,
         "Basic"
        ],
        [
         "RESENDE",
         "CAMPOS ELISEOS",
         "5.24",
         1,
         "Basic"
        ],
        [
         "RIO DE JANEIRO",
         "ITANHANGA",
         "4.42",
         1,
         "Basic"
        ],
        [
         "AMERICANA",
         "CIDADE JARDIM I",
         "5.99",
         2,
         "Basic"
        ],
        [
         "BRAGANCA PAULISTA",
         "LAVAPES",
         "5.99",
         1,
         "Basic"
        ],
        [
         "GUARULHOS",
         "VILA NOVA BONSUCESSO",
         "5.19",
         2,
         "Basic"
        ],
        [
         "SINOP",
         "JARDIM BOTANICO",
         "5.82",
         1,
         "Basic"
        ],
        [
         "ALAGOINHAS",
         "ZONA RURAL",
         "5.11",
         1,
         "Basic"
        ],
        [
         "OLIMPIA",
         "JARDIM GLORIA",
         "6.23",
         1,
         "Basic"
        ],
        [
         "GUARULHOS",
         "CUMBICA",
         "6.44",
         2,
         "Basic"
        ],
        [
         "VALENCA",
         "BARAO DE JUPARANA",
         "6.49",
         1,
         "Basic"
        ],
        [
         "GOIANIA",
         "CIDADE JARDIM",
         "5.87",
         1,
         "Basic"
        ],
        [
         "CORNELIO PROCOPIO",
         "CONJUNTO UNIVERSITARIO",
         "6.79",
         1,
         "Basic"
        ],
        [
         "MACAPA",
         "MARABAIXO 3",
         "6.77",
         1,
         "Basic"
        ],
        [
         "APARECIDA DE GOIANIA",
         "RESIDENCIAL VILLAGE GARAVELO",
         "5.52",
         1,
         "Basic"
        ],
        [
         "LAURO DE FREITAS",
         "CAJI",
         "5.94",
         1,
         "Basic"
        ],
        [
         "ALEGRETE",
         "CENTRO",
         "6.24",
         3,
         "Basic"
        ],
        [
         "BELO JARDIM",
         "SAO PEDRO",
         "5.66",
         2,
         "Basic"
        ],
        [
         "EMBU DAS ARTES",
         "CENTRO",
         "5.99",
         1,
         "Basic"
        ],
        [
         "MOGI DAS CRUZES",
         "BRAZ CUBAS",
         "5.99",
         2,
         "Basic"
        ],
        [
         "PARA DE MINAS",
         "SAO FRANCISCO",
         "5.79",
         2,
         "Basic"
        ],
        [
         "PAULISTA",
         "JANGA",
         "5.71",
         1,
         "Basic"
        ],
        [
         "LAJEADO",
         "AMERICANO",
         "5.79",
         2,
         "Basic"
        ],
        [
         "SAO PAULO",
         "JABAQUARA",
         "5.99",
         1,
         "Basic"
        ],
        [
         "BAGE",
         "TARUMA",
         "6.73",
         1,
         "Basic"
        ],
        [
         "SAO PAULO",
         "JARDIM REBOUÇAS",
         "5.59",
         1,
         "Basic"
        ],
        [
         "MARINGA",
         "GLEBA RIBEIRAO PINGUIM",
         "5.71",
         1,
         "Basic"
        ],
        [
         "SAO JOAO DEL REI",
         "FABRICAS",
         "5.89",
         1,
         "Basic"
        ],
        [
         "CHAPECO",
         "PALMITAL",
         "5.59",
         1,
         "Basic"
        ],
        [
         "EUNAPOLIS",
         "PEQUI",
         "6.44",
         1,
         "Basic"
        ],
        [
         "CONTAGEM",
         "JD.RIACHO DAS PEDRAS",
         "5.84",
         1,
         "Basic"
        ],
        [
         "PATROCINIO",
         "SAO JUDAS TADEU",
         "6.53",
         1,
         "Basic"
        ],
        [
         "VIDEIRA",
         "MATRIZ",
         "6.15",
         1,
         "Basic"
        ],
        [
         "JALES",
         "JARDIM SANTO EXPEDITO",
         "5.76",
         1,
         "Basic"
        ],
        [
         "BARRA MANSA",
         "ANO BOM",
         "6.08",
         2,
         "Basic"
        ],
        [
         "TERESOPOLIS",
         "BOM RETIRO",
         "5.99",
         1,
         "Basic"
        ],
        [
         "FORMIGA",
         "QUINZINHO",
         "5.89",
         1,
         "Basic"
        ],
        [
         "ARAPONGAS",
         "JD. UNIVERSITARIO",
         "5.87",
         1,
         "Basic"
        ],
        [
         "PORTO VELHO",
         "ELDORADO",
         "5.94",
         2,
         "Basic"
        ],
        [
         "TUBARAO",
         "VILA MOEMA",
         "5.74",
         1,
         "Basic"
        ],
        [
         "JUIZ DE FORA",
         "BENFICA",
         "5.24",
         1,
         "Basic"
        ],
        [
         "SAO PAULO",
         "JARDIM ESMERALDA",
         "6.79",
         1,
         "Basic"
        ],
        [
         "RIO DE JANEIRO",
         "ESTACIO",
         "4.59",
         1,
         "Basic"
        ],
        [
         "SAO PAULO",
         "PQ COLONIAL",
         "5.24",
         1,
         "Basic"
        ],
        [
         "AMERICANA",
         "JARDIM GUANABARA",
         "5.89",
         1,
         "Basic"
        ],
        [
         "ARAGUAINA",
         "RESIDENCIAL CAMARGO",
         "5.89",
         1,
         "Basic"
        ],
        [
         "APARECIDA DE GOIANIA",
         "JARDIM HELVECIA",
         "5.80",
         1,
         "Basic"
        ],
        [
         "CONSELHEIRO LAFAIETE",
         "GIGANTE",
         "5.67",
         1,
         "Basic"
        ],
        [
         "SAO JOSE DO RIO PRETO",
         "VILA ANCHIETA",
         "5.49",
         1,
         "Basic"
        ],
        [
         "AVARE",
         "JARDIM PAINEIRAS",
         "6.34",
         1,
         "Basic"
        ],
        [
         "SAO PAULO",
         "JURUBATUBA",
         "5.64",
         1,
         "Basic"
        ],
        [
         "VERA CRUZ",
         "KM 03",
         "5.99",
         1,
         "Basic"
        ],
        [
         "UBERABA",
         "SÃO BENEDITO",
         "5.99",
         1,
         "Basic"
        ],
        [
         "PARAUAPEBAS",
         "CENTRO",
         "6.99",
         1,
         "Basic"
        ],
        [
         "CAXIAS DO SUL",
         "PIONEIRO",
         "5.98",
         1,
         "Basic"
        ],
        [
         "RECIFE",
         "CACOTE",
         "5.76",
         1,
         "Basic"
        ],
        [
         "FOZ DO IGUACU",
         "LOTEAMENTO JARDIM ESMERALDA",
         "6.39",
         1,
         "Basic"
        ],
        [
         "MACEIO",
         "JACINTINHO",
         "5.22",
         3,
         "Basic"
        ],
        [
         "SOROCABA",
         "AEROPORTO",
         "5.81",
         1,
         "Basic"
        ],
        [
         "TERESINA",
         "PARQUE IDEAL",
         "5.94",
         2,
         "Basic"
        ],
        [
         "JACOBINA",
         "NAZARE",
         "6.27",
         2,
         "Basic"
        ],
        [
         "ITAPERUNA",
         "CASTELO BRANCO",
         "6.09",
         1,
         "Basic"
        ],
        [
         "AGUAS LINDAS DE GOIAS",
         "PARQUE AGUAS BONITAS I",
         "6.44",
         1,
         "Basic"
        ],
        [
         "SAPUCAIA DO SUL",
         "TRES PORTOS",
         "5.24",
         1,
         "Basic"
        ],
        [
         "GRAVATAI",
         "BOM PRINCIPIO",
         "5.89",
         1,
         "Basic"
        ],
        [
         "MARILIA",
         "CASCATA",
         "6.09",
         1,
         "Basic"
        ],
        [
         "BALSAS",
         "SAO FELIX",
         "5.94",
         1,
         "Basic"
        ],
        [
         "PRESIDENTE DUTRA",
         "POVOADO PEDRA BRANCA",
         "5.69",
         1,
         "Basic"
        ],
        [
         "UBA",
         "CENTRO",
         "5.82",
         3,
         "Basic"
        ],
        [
         "SETE LAGOAS",
         "MATA GRANDE",
         "5.47",
         1,
         "Basic"
        ],
        [
         "BRUMADO",
         "RODOVIARIO",
         "5.94",
         1,
         "Basic"
        ],
        [
         "MANAUS",
         "MORRO DA LIBERDADE",
         "6.29",
         1,
         "Basic"
        ],
        [
         "MONTES CLAROS",
         "VILA NAZARETH",
         "5.74",
         1,
         "Basic"
        ],
        [
         "CUIABA",
         "PRAIEIRO",
         "5.95",
         1,
         "Basic"
        ],
        [
         "TERESOPOLIS",
         "PESSEGUEIROS",
         "5.64",
         1,
         "Basic"
        ],
        [
         "SAO PAULO",
         "BROOKLIN NOVO",
         "7.99",
         1,
         "Basic"
        ],
        [
         "BEBEDOURO",
         "RESIDENCIAL CENTENARIO",
         "6.39",
         1,
         "Basic"
        ],
        [
         "ASSIS",
         "VILA OPERARIA",
         "6.19",
         1,
         "Basic"
        ],
        [
         "DUQUE DE CAXIAS",
         "CENTRO",
         "5.40",
         5,
         "Basic"
        ],
        [
         "SANTA CRUZ DO SUL",
         "FAXINAL",
         "6.21",
         1,
         "Basic"
        ],
        [
         "ITANHAEM",
         "CHACARAS CIBRATEL",
         "5.69",
         1,
         "Basic"
        ],
        [
         "PETROLINA",
         "KM 02",
         "6.19",
         1,
         "Basic"
        ],
        [
         "RIO DE JANEIRO",
         "PECHINCHA",
         "5.47",
         2,
         "Basic"
        ],
        [
         "MAFRA",
         "ESPIGAO DO BUGRE",
         "5.85",
         1,
         "Basic"
        ],
        [
         "ARAPIRACA",
         "SENADOR TEOTONIO VILELA",
         "6.69",
         1,
         "Basic"
        ],
        [
         "SAO BERNARDO DO CAMPO",
         "DEMARCHI",
         "5.55",
         1,
         "Basic"
        ],
        [
         "RIO LARGO",
         "ZONA RURAL",
         "5.82",
         1,
         "Basic"
        ],
        [
         "PETROPOLIS",
         "QUITANDINHA",
         "6.02",
         3,
         "Basic"
        ],
        [
         "VOLTA REDONDA",
         "CASA DE PEDRA",
         "5.69",
         2,
         "Basic"
        ],
        [
         "FORTALEZA",
         "CURIO",
         "5.49",
         1,
         "Basic"
        ],
        [
         "TABOAO DA SERRA",
         "INTERCAP",
         "7.29",
         1,
         "Basic"
        ],
        [
         "CURITIBA",
         "SANTA FELICIDADE",
         "5.75",
         3,
         "Basic"
        ],
        [
         "TIMOTEO",
         "QUITANDINHA",
         "5.75",
         1,
         "Basic"
        ],
        [
         "COLOMBO",
         "JARDIM MARACANA",
         "5.79",
         1,
         "Basic"
        ],
        [
         "SAO BERNARDO DO CAMPO",
         "ASSUNCAO",
         "5.69",
         2,
         "Basic"
        ],
        [
         "SANTA MARIA",
         "CENTRO",
         "5.99",
         1,
         "Basic"
        ],
        [
         "SAO PAULO",
         "TATUAPÉ",
         "6.39",
         1,
         "Basic"
        ],
        [
         "MARINGA",
         "ZONA 46",
         "5.57",
         1,
         "Basic"
        ],
        [
         "LIMOEIRO DO NORTE",
         "ANTONIO HOLANDA DE OLIVEIRA",
         "6.29",
         1,
         "Basic"
        ],
        [
         "RIO DE JANEIRO",
         "SULACAP",
         "4.59",
         1,
         "Basic"
        ],
        [
         "RONDONOPOLIS",
         "VILA ANDREIA",
         "5.94",
         2,
         "Basic"
        ],
        [
         "FRUTAL",
         "NS DO CARMO",
         "5.62",
         1,
         "Basic"
        ],
        [
         "PARA DE MINAS",
         "SAO JOSE",
         "6.09",
         1,
         "Basic"
        ],
        [
         "FEIRA DE SANTANA",
         "SANTO ANTONIO DOS PRAZERES",
         "5.72",
         1,
         "Basic"
        ],
        [
         "CAMPO GRANDE",
         "VL FREDERICO PORTINHO PACHE",
         "5.59",
         1,
         "Basic"
        ],
        [
         "CORNELIO PROCOPIO",
         "CENTRO",
         "5.82",
         5,
         "Basic"
        ],
        [
         "JABOATAO DOS GUARARAPES",
         "PRAZERES",
         "5.25",
         2,
         "Basic"
        ],
        [
         "UBERABA",
         "VILA SAO CRISTOVAO",
         "5.64",
         1,
         "Basic"
        ],
        [
         "SAO JOSE DO RIO PRETO",
         "JARDIM SANTA BARBARA",
         "5.59",
         1,
         "Basic"
        ],
        [
         "LUZIANIA",
         "PARQUE ESTRELA DALVA II",
         "5.94",
         1,
         "Basic"
        ],
        [
         "MONTE ALTO",
         "JARDIM ACAPULCO",
         "5.64",
         1,
         "Basic"
        ],
        [
         "SAO BERNARDO DO CAMPO",
         "PAULICEIA",
         "6.29",
         1,
         "Basic"
        ],
        [
         "RESENDE",
         "CIDADE ALEGRIA",
         "5.19",
         1,
         "Basic"
        ],
        [
         "PRESIDENTE DUTRA",
         "CAMPO DANTAS",
         "5.68",
         4,
         "Basic"
        ],
        [
         "ASSIS CHATEAUBRIAND",
         "JD. PARANÁ",
         "5.39",
         1,
         "Basic"
        ],
        [
         "MACAPA",
         "PACOVAL",
         "7.13",
         2,
         "Basic"
        ],
        [
         "VINHEDO",
         "NOVA VINHEDO",
         "5.89",
         1,
         "Basic"
        ],
        [
         "JAU",
         "CENTRO",
         "6.19",
         1,
         "Basic"
        ],
        [
         "GUARAPUAVA",
         "SANTA CRUZ",
         "5.99",
         1,
         "Basic"
        ],
        [
         "POCOS DE CALDAS",
         "JOAO PINHEIRO",
         "5.69",
         1,
         "Basic"
        ],
        [
         "BIGUACU",
         "UNIVERSITARIO",
         "6.19",
         1,
         "Basic"
        ],
        [
         "GOIANIA",
         "SET OESTE",
         "5.99",
         1,
         "Basic"
        ],
        [
         "ARARUAMA",
         "IGUABINHA",
         "5.89",
         1,
         "Basic"
        ],
        [
         "MOGI GUACU",
         "J CARMEM LYDIA",
         "6.19",
         1,
         "Basic"
        ],
        [
         "RONDONOPOLIS",
         "VILA IRACY",
         "6.19",
         1,
         "Basic"
        ],
        [
         "ARAPIRACA",
         "NOVA ESPERANCA",
         "5.69",
         1,
         "Basic"
        ],
        [
         "SAO LUIS",
         "PEDRINHAS",
         "5.47",
         2,
         "Basic"
        ],
        [
         "OLIMPIA",
         "PATRIM.S.J.BATISTA I",
         "5.82",
         1,
         "Basic"
        ],
        [
         "BETIM",
         "BETIM INDUSTRIAL",
         "5.70",
         2,
         "Basic"
        ],
        [
         "JOSE BONIFACIO",
         "CENTRO",
         "5.95",
         2,
         "Basic"
        ],
        [
         "ITAPECERICA DA SERRA",
         "JARDIM TEREZA MARIA",
         "5.99",
         1,
         "Basic"
        ],
        [
         "SAPUCAIA DO SUL",
         "CAMBOIM",
         "5.84",
         1,
         "Basic"
        ],
        [
         "GUARULHOS",
         "PICANÇO",
         "5.79",
         1,
         "Basic"
        ],
        [
         "BAURU",
         "CENTRO",
         "5.92",
         2,
         "Basic"
        ],
        [
         "CAMPINA GRANDE",
         "CENTRO",
         "5.76",
         5,
         "Basic"
        ],
        [
         "GUARULHOS",
         "JD NOVA CUMBICA",
         "6.29",
         1,
         "Basic"
        ],
        [
         "SAO PAULO",
         "PARQUE PAULISTANO",
         "5.84",
         1,
         "Basic"
        ],
        [
         "MANACAPURU",
         "CENTRO",
         "6.47",
         2,
         "Basic"
        ],
        [
         "DIVINOPOLIS",
         "SAO JOSE",
         "5.79",
         1,
         "Basic"
        ],
        [
         "BELO HORIZONTE",
         "CARLOS PRATES",
         "5.76",
         3,
         "Basic"
        ],
        [
         "SOROCABA",
         "JARDIM NOGUEIRA",
         "5.99",
         1,
         "Basic"
        ],
        [
         "SAO FRANCISCO DE ITABAPOANA",
         "GARGAU",
         "6.47",
         1,
         "Basic"
        ],
        [
         "BELO HORIZONTE",
         "CIDADE JARDIM",
         "5.97",
         1,
         "Basic"
        ],
        [
         "CURITIBA",
         "VILA TINGUI",
         "5.54",
         1,
         "Basic"
        ],
        [
         "PORTO VELHO",
         "ESCOLA DE POLICIA",
         "7.34",
         1,
         "Basic"
        ],
        [
         "BAYEUX",
         "CENTRO COM. NORTE",
         "5.69",
         1,
         "Basic"
        ],
        [
         "CASTANHAL",
         "SAO JOSE",
         "5.99",
         1,
         "Basic"
        ],
        [
         "NITEROI",
         "ITAIPU",
         "6.35",
         1,
         "Basic"
        ],
        [
         "PINDAMONHANGABA",
         "ALTO DO CARDOSO",
         "5.89",
         1,
         "Basic"
        ],
        [
         "CAMACARI",
         "CAMAÇARI DE DENTRO",
         "5.95",
         1,
         "Basic"
        ],
        [
         "RECIFE",
         "PRADO",
         "5.15",
         2,
         "Basic"
        ],
        [
         "JUIZ DE FORA",
         "RETIRO",
         "5.79",
         1,
         "Basic"
        ],
        [
         "PORTO ALEGRE",
         "JARDIM FLORESTA",
         "5.58",
         1,
         "Basic"
        ],
        [
         "SANTA ROSA",
         "CENTRO",
         "6.00",
         6,
         "Basic"
        ],
        [
         "GUARATINGUETA",
         "CAMPO DO GALVAO",
         "5.99",
         1,
         "Basic"
        ],
        [
         "ITAPIPOCA",
         "COQUEIRO",
         "6.58",
         1,
         "Basic"
        ],
        [
         "BRASILIA",
         "SETOR DE HABITACOES INDIVIDUAIS SUL",
         "5.89",
         1,
         "Basic"
        ],
        [
         "ITU",
         "VILA PADRE BENTO",
         "5.23",
         1,
         "Basic"
        ],
        [
         "SAPUCAIA DO SUL",
         "WALDEREZ",
         "5.71",
         2,
         "Basic"
        ],
        [
         "SANTANA DO LIVRAMENTO",
         "ARMOUR",
         "6.50",
         1,
         "Basic"
        ],
        [
         "CASTRO",
         "CASTROLANDA",
         "6.01",
         1,
         "Basic"
        ],
        [
         "NOVA IGUACU",
         "PARQUE SAO FRANCISCO",
         "5.32",
         1,
         "Basic"
        ],
        [
         "MOGI GUACU",
         "CENTRO",
         "5.94",
         1,
         "Basic"
        ],
        [
         "PORTO SEGURO",
         "JARDIM PRIMAVERA",
         "6.84",
         1,
         "Basic"
        ],
        [
         "BELO HORIZONTE",
         "JARDIM MONTANHES",
         "4.89",
         1,
         "Basic"
        ],
        [
         "BELO JARDIM",
         "SANTO ANTÔNIO",
         "5.53",
         1,
         "Basic"
        ],
        [
         "SAO JOAO DA BOA VISTA",
         "CENTRO",
         "5.51",
         2,
         "Basic"
        ],
        [
         "RIO LARGO",
         "ANTONIO LINS DE SOUZA",
         "5.81",
         2,
         "Basic"
        ],
        [
         "PRAIA GRANDE",
         "TUPI",
         "6.59",
         1,
         "Basic"
        ],
        [
         "MANAUS",
         "COROADO",
         "5.67",
         1,
         "Basic"
        ],
        [
         "ITAGUAI",
         "VILA MARGARIDA",
         "5.48",
         2,
         "Basic"
        ],
        [
         "GUARUJA",
         "ENSEADA",
         "6.07",
         2,
         "Basic"
        ],
        [
         "IBITINGA",
         "CENTRO",
         "5.95",
         3,
         "Basic"
        ],
        [
         "ITATIBA",
         "CENTRO",
         "6.06",
         2,
         "Basic"
        ],
        [
         "BENTO GONCALVES",
         "BORGO",
         "5.85",
         1,
         "Basic"
        ],
        [
         "UNIAO DA VITORIA",
         "CENTRO",
         "6.25",
         7,
         "Basic"
        ],
        [
         "CABO FRIO",
         "JARDIM ESPERANCA",
         "6.16",
         1,
         "Basic"
        ],
        [
         "OSASCO",
         "ROCHDALE",
         "7.29",
         2,
         "Basic"
        ],
        [
         "SAO JOSE DO RIO PRETO",
         "JD. NUNES",
         "5.74",
         1,
         "Basic"
        ],
        [
         "UBERLANDIA",
         "PANORAMA",
         "5.76",
         1,
         "Basic"
        ],
        [
         "CURITIBA",
         "MERCES",
         "5.71",
         3,
         "Basic"
        ],
        [
         "CACHOEIRINHA",
         "VILA PARQUE BRASILIA",
         "5.82",
         1,
         "Basic"
        ],
        [
         "CRUZEIRO",
         "VILA CANEVARI",
         "6.24",
         2,
         "Basic"
        ],
        [
         "CARIACICA",
         "DOM BOSCO",
         "5.54",
         1,
         "Basic"
        ],
        [
         "JOAO MONLEVADE",
         "LOANDA",
         "5.89",
         1,
         "Basic"
        ],
        [
         "ITUIUTABA",
         "GARDENIA",
         "5.73",
         1,
         "Basic"
        ],
        [
         "LAVRAS",
         "CONJ HABITACIONAL AGUA LIMPA",
         "5.55",
         1,
         "Basic"
        ],
        [
         "NOVA LIMA",
         "B OURO VELHO MANSOES",
         "5.89",
         1,
         "Basic"
        ],
        [
         "LUZIANIA",
         "SETOR AEROPORTO",
         "5.92",
         1,
         "Basic"
        ],
        [
         "LONDRINA",
         "JARDIM BANDEIRANTES",
         "6.14",
         1,
         "Basic"
        ],
        [
         "ITAJUBA",
         "MORRO GRANDE",
         "5.99",
         1,
         "Basic"
        ],
        [
         "LAVRAS",
         "JARDIM SAMAUMA",
         "5.94",
         1,
         "Basic"
        ],
        [
         "SAPUCAIA DO SUL",
         "PASQUALINI",
         "5.66",
         1,
         "Basic"
        ],
        [
         "BAYEUX",
         "IMACULADA",
         "5.89",
         1,
         "Basic"
        ],
        [
         "SAO JOSE DE RIBAMAR",
         "MIRITIUA",
         "5.59",
         1,
         "Basic"
        ],
        [
         "TERESINA",
         "SAO JOAQUIM",
         "5.89",
         1,
         "Basic"
        ],
        [
         "BELEM",
         "GUAMÁ",
         "6.69",
         1,
         "Basic"
        ],
        [
         "SINOP",
         "SETOR INDUSTRIAL",
         "6.80",
         2,
         "Basic"
        ],
        [
         "SOROCABA",
         "CONJUNTO HABITACIONAL JULIO DE MESQUITA FILHO",
         "5.53",
         2,
         "Basic"
        ],
        [
         "DUQUE DE CAXIAS",
         "JARDIM 25 DE AGOSTO",
         "5.45",
         2,
         "Basic"
        ],
        [
         "JOINVILLE",
         "SAGUAÇU",
         "6.09",
         1,
         "Basic"
        ],
        [
         "RECIFE",
         "BARRO",
         "5.79",
         1,
         "Basic"
        ],
        [
         "TRES RIOS",
         "CENTRO",
         "6.02",
         3,
         "Basic"
        ],
        [
         "BELO JARDIM",
         "SANTO ANTONIO",
         "5.56",
         2,
         "Basic"
        ],
        [
         "BLUMENAU",
         "ASILO",
         "6.19",
         1,
         "Basic"
        ],
        [
         "SALVADOR",
         "SANTA TERESA",
         "4.69",
         1,
         "Basic"
        ],
        [
         "TUBARAO",
         "SAO CRISTOVAO",
         "5.74",
         1,
         "Basic"
        ],
        [
         "JEQUIE",
         "SÃO JOSÉ",
         "6.19",
         1,
         "Basic"
        ],
        [
         "CARAGUATATUBA",
         "TABATINGA",
         "6.19",
         1,
         "Basic"
        ],
        [
         "SORRISO",
         "EXPANSAO URBANA",
         "5.77",
         1,
         "Basic"
        ],
        [
         "SAO GONCALO",
         "TRIBOBO",
         "5.54",
         3,
         "Basic"
        ],
        [
         "PARA DE MINAS",
         "BELVEDERE",
         "5.69",
         1,
         "Basic"
        ],
        [
         "PAULINIA",
         "VILA BRESSANI",
         "6.09",
         1,
         "Basic"
        ],
        [
         "ITAPOLIS",
         "CENTRO",
         "5.84",
         7,
         "Basic"
        ],
        [
         "BRUSQUE",
         "SANTA RITA",
         "6.22",
         1,
         "Basic"
        ],
        [
         "MOSSORO",
         "ALTO DE SO MANOEL",
         "5.74",
         1,
         "Basic"
        ],
        [
         "SAO LUIS",
         "OLHO D¿ÁGUA",
         "5.59",
         1,
         "Basic"
        ],
        [
         "CAMPOS DOS GOYTACAZES",
         "PARQUE ROSARIO",
         "6.04",
         1,
         "Basic"
        ],
        [
         "RIO BONITO",
         "BOA ESPERANCA",
         "5.94",
         1,
         "Basic"
        ],
        [
         "FORTALEZA",
         "MONTESE",
         "6.11",
         3,
         "Basic"
        ],
        [
         "ITUMBIARA",
         "PLANALTO",
         "5.54",
         1,
         "Basic"
        ],
        [
         "VOTORANTIM",
         "B. DOS PROTESTANTES",
         "5.99",
         1,
         "Basic"
        ],
        [
         "CAICO",
         "VILA ALTIVA II",
         "6.92",
         1,
         "Basic"
        ],
        [
         "MAFRA",
         "RESTINGA",
         "5.57",
         1,
         "Basic"
        ],
        [
         "PIRACICABA",
         "V INDEPENDENCIA",
         "5.94",
         1,
         "Basic"
        ],
        [
         "GOIANIA",
         "ST CIDADE JARDIM",
         "5.67",
         1,
         "Basic"
        ],
        [
         "AGUAS LINDAS DE GOIAS",
         "SETOR JARDIM QUERENCIA",
         "6.02",
         1,
         "Basic"
        ],
        [
         "OSASCO",
         "JARDIM MUNHOZ",
         "5.52",
         1,
         "Basic"
        ],
        [
         "MAFRA",
         "CENTRO I BAIXADA",
         "6.15",
         2,
         "Basic"
        ],
        [
         "SERTAOZINHO",
         "SETOR INDUSTRIAL",
         "5.32",
         1,
         "Basic"
        ],
        [
         "ITAPEVA",
         "JARDIM MARINGA",
         "5.45",
         2,
         "Basic"
        ],
        [
         "JATAI",
         "VILA JARDIM RIO CLARO",
         "5.88",
         2,
         "Basic"
        ],
        [
         "SAO PAULO",
         "INTERLAGOS",
         "5.48",
         2,
         "Basic"
        ],
        [
         "ARARAQUARA",
         "SANTANA",
         "6.09",
         1,
         "Basic"
        ],
        [
         "NOVO HAMBURGO",
         "PRIMAVERA",
         "5.47",
         1,
         "Basic"
        ],
        [
         "MANAUS",
         "MAUAZINHO",
         "6.29",
         1,
         "Basic"
        ],
        [
         "JOAO PESSOA",
         "TORRE",
         "5.04",
         2,
         "Basic"
        ],
        [
         "ARARAS",
         "MATADOURO",
         "5.84",
         1,
         "Basic"
        ],
        [
         "BARRA DO PIRAI",
         "MUQUECA",
         "6.12",
         2,
         "Basic"
        ],
        [
         "BACABAL",
         "POVOADO OLHO DAGUA DO DJALMA",
         "5.51",
         1,
         "Basic"
        ],
        [
         "SAO LUIS",
         "COHATRAC IV",
         "5.59",
         1,
         "Basic"
        ],
        [
         "LIMEIRA",
         "JD SAO MANOEL",
         "5.84",
         1,
         "Basic"
        ],
        [
         "SAO PAULO",
         "PENHA DE FRANCA",
         "5.22",
         1,
         "Basic"
        ],
        [
         "VALINHOS",
         "JD. SANTA TEREZINHA",
         "5.59",
         1,
         "Basic"
        ],
        [
         "ARAPIRACA",
         "CENTRO",
         "5.85",
         3,
         "Basic"
        ],
        [
         "PETROLINA",
         "VILA EDUARDO",
         "6.05",
         2,
         "Basic"
        ],
        [
         "CACHOEIRINHA",
         "INDUSTRIAL",
         "5.84",
         1,
         "Basic"
        ],
        [
         "BOA VISTA",
         "CAMBARA",
         "6.51",
         1,
         "Basic"
        ],
        [
         "UNAI",
         "CENTRO",
         "6.21",
         2,
         "Basic"
        ],
        [
         "COLOMBO",
         "SAO GABRIEL",
         "5.84",
         1,
         "Basic"
        ],
        [
         "SAO PAULO",
         "SAUDE",
         "4.43",
         2,
         "Basic"
        ],
        [
         "POCOS DE CALDAS",
         "PARQUE PRIMAVERA",
         "5.99",
         1,
         "Basic"
        ],
        [
         "CARAGUATATUBA",
         "TRAVESSAO",
         "6.09",
         1,
         "Basic"
        ],
        [
         "SOBRAL",
         "CENTRO",
         "6.18",
         5,
         "Basic"
        ],
        [
         "SANTA CRUZ DO SUL",
         "RENASCENCA",
         "6.04",
         1,
         "Basic"
        ],
        [
         "QUIXADA",
         "COHAB",
         "5.79",
         1,
         "Basic"
        ],
        [
         "JABOTICABAL",
         "VILA SERRA",
         "5.64",
         1,
         "Basic"
        ],
        [
         "SAPIRANGA",
         "CENTRO",
         "5.59",
         3,
         "Basic"
        ],
        [
         "MARACANAU",
         "JARDIM JATOBA",
         "5.47",
         1,
         "Basic"
        ],
        [
         "MARILIA",
         "JARDIM NAZARETH",
         "6.19",
         1,
         "Basic"
        ],
        [
         "FORTALEZA",
         "BAIRRO DE FATIMA",
         "5.89",
         1,
         "Basic"
        ],
        [
         "CAMPOS DOS GOYTACAZES",
         "GOITACAZES",
         "5.74",
         1,
         "Basic"
        ],
        [
         "CACHOEIRA DO SUL",
         "OLIVEIRA",
         "6.19",
         1,
         "Basic"
        ],
        [
         "SANTO ANDRE",
         "PQ. DAS NACOES",
         "5.99",
         1,
         "Basic"
        ],
        [
         "DUQUE DE CAXIAS",
         "CIDADE DOS MENINOS",
         "5.84",
         1,
         "Basic"
        ],
        [
         "PORTO NACIONAL",
         "PARQUE DO TREVO",
         "5.68",
         1,
         "Basic"
        ],
        [
         "MACAPA",
         "MUCA",
         "6.38",
         1,
         "Basic"
        ],
        [
         "JUIZ DE FORA",
         "GRAMA",
         "5.70",
         1,
         "Basic"
        ],
        [
         "UBERLANDIA",
         "MORADA DA COLINA",
         "6.29",
         1,
         "Basic"
        ],
        [
         "ARAPONGAS",
         "BAIRRO GRANDE PARADA",
         "5.90",
         1,
         "Basic"
        ],
        [
         "SAPUCAIA",
         "JAMAPARA",
         "5.74",
         2,
         "Basic"
        ],
        [
         "DUQUE DE CAXIAS",
         "SANTA CRUZ DA SERRA",
         "5.24",
         1,
         "Basic"
        ],
        [
         "SAO PAULO",
         "VILA MAZZEI",
         "5.95",
         1,
         "Basic"
        ],
        [
         "INDAIATUBA",
         "VILA GEORGINA",
         "6.02",
         1,
         "Basic"
        ],
        [
         "LAURO DE FREITAS",
         "CENTRO",
         "6.10",
         4,
         "Basic"
        ],
        [
         "LAJEADO",
         "CONVENTOS",
         "5.68",
         1,
         "Basic"
        ],
        [
         "CONCORDIA",
         "PETROPOLIS",
         "6.20",
         1,
         "Basic"
        ],
        [
         "SAO ROQUE",
         "DISTRITO DE SAO JOAO NOVO",
         "5.99",
         1,
         "Basic"
        ],
        [
         "BIGUACU",
         "BOM VIVER",
         "6.29",
         1,
         "Basic"
        ],
        [
         "RONDONOPOLIS",
         "VILA OPERARIA",
         "6.14",
         1,
         "Basic"
        ],
        [
         "JACAREI",
         "JARDIM SANTA MARIA",
         "5.83",
         1,
         "Basic"
        ],
        [
         "SAO LUIS",
         "TIRIRICAL",
         "5.59",
         1,
         "Basic"
        ],
        [
         "GRAVATAI",
         "PARQUE OLINDA",
         "5.84",
         1,
         "Basic"
        ],
        [
         "GUARULHOS",
         "COCAIA",
         "6.29",
         1,
         "Basic"
        ],
        [
         "MARILIA",
         "ALTO CAFEZAL",
         "5.79",
         1,
         "Basic"
        ],
        [
         "CURITIBA",
         "SANTA QUITERIA",
         "5.29",
         1,
         "Basic"
        ],
        [
         "APARECIDA DE GOIANIA",
         "SETOR SERRA DOURADA",
         "5.49",
         1,
         "Basic"
        ],
        [
         "OURINHOS",
         "VILA SANTA MARIA",
         "5.56",
         2,
         "Basic"
        ],
        [
         "MACAPA",
         "CIDADE NOVA",
         "6.32",
         1,
         "Basic"
        ],
        [
         "ARARAS",
         "VILA MICHELIN",
         "5.58",
         1,
         "Basic"
        ],
        [
         "RIO DE JANEIRO",
         "CATUMBI",
         "5.07",
         1,
         "Basic"
        ],
        [
         "SANTO ANTONIO DE JESUS",
         "ANDAIA",
         "5.95",
         2,
         "Basic"
        ],
        [
         "GURUPI",
         "JARDIM SERVILHA",
         "6.59",
         1,
         "Basic"
        ],
        [
         "HORTOLANDIA",
         "NUCLEO SANTA IZABEL",
         "5.64",
         1,
         "Basic"
        ],
        [
         "CURITIBA",
         "JARDIM DAS AMERICAS",
         "5.95",
         3,
         "Basic"
        ],
        [
         "MARABA",
         "AMAPA",
         "5.99",
         1,
         "Basic"
        ],
        [
         "SUMARE",
         "BOM RETIRO",
         "5.99",
         1,
         "Basic"
        ],
        [
         "CAXIAS DO SUL",
         "FLORESTA",
         "6.03",
         1,
         "Basic"
        ],
        [
         "RIO BONITO",
         "PRACA CRUZEIRO",
         "6.61",
         1,
         "Basic"
        ],
        [
         "SANTOS",
         "VILA BELMIRO",
         "5.99",
         1,
         "Basic"
        ],
        [
         "BELO HORIZONTE",
         "UNIAO",
         "5.39",
         1,
         "Basic"
        ],
        [
         "ITUMBIARA",
         "SETOR AFONSO PENA",
         "5.70",
         2,
         "Basic"
        ],
        [
         "GUARAPUAVA",
         "ALTO DA XV",
         "5.99",
         2,
         "Basic"
        ],
        [
         "SAO JOAO DE MERITI",
         "COELHO DA ROCHA",
         "5.99",
         1,
         "Basic"
        ],
        [
         "RECIFE",
         "TORROES",
         "5.88",
         1,
         "Basic"
        ],
        [
         "SAO PAULO",
         "JARDIM PINHEIROS",
         "5.69",
         1,
         "Basic"
        ],
        [
         "LONDRINA",
         "JARDIM PALMARES",
         "6.01",
         1,
         "Basic"
        ],
        [
         "SANTOS",
         "APARECIDA",
         "6.97",
         1,
         "Basic"
        ],
        [
         "GOVERNADOR VALADARES",
         "S PEDRO",
         "5.80",
         1,
         "Basic"
        ],
        [
         "GUARATINGUETA",
         "BEIRA RIO 01",
         "6.49",
         1,
         "Basic"
        ],
        [
         "GUARAPUAVA",
         "IMOVEL MORRO ALTO",
         "6.04",
         1,
         "Basic"
        ],
        [
         "ATIBAIA",
         "BAIRRO DO PORTÃO",
         "6.04",
         1,
         "Basic"
        ],
        [
         "SALVADOR",
         "BROTAS",
         "4.87",
         2,
         "Basic"
        ],
        [
         "GUARULHOS",
         "JARDIM  SAO PAULO",
         "5.89",
         1,
         "Basic"
        ],
        [
         "CRATEUS",
         "FATIMA II",
         "6.14",
         3,
         "Basic"
        ],
        [
         "ARAPIRACA",
         "BOA VISTA",
         "5.94",
         1,
         "Basic"
        ],
        [
         "SANTO ANDRE",
         "VILA HOMERO THON",
         "6.29",
         1,
         "Basic"
        ],
        [
         "JANUARIA",
         "VILA JADETE",
         "6.08",
         1,
         "Basic"
        ],
        [
         "BARRA MANSA",
         "SAUDADE",
         "5.99",
         1,
         "Basic"
        ],
        [
         "PARAUAPEBAS",
         "LOTEAMENTO BEIRA RIO II",
         "6.99",
         1,
         "Basic"
        ],
        [
         "CAMPINAS",
         "TAQUARAL",
         "5.94",
         2,
         "Basic"
        ],
        [
         "FOZ DO IGUACU",
         "VILA PORTES",
         "6.00",
         5,
         "Basic"
        ],
        [
         "PAULISTA",
         "MARANGUAPE I",
         "5.17",
         1,
         "Basic"
        ],
        [
         "ARACRUZ",
         "BELA VISTA",
         "5.90",
         2,
         "Basic"
        ],
        [
         "SINOP",
         "DISTRITO INDUSTRIAL",
         "5.96",
         1,
         "Basic"
        ],
        [
         "UNIAO DA VITORIA",
         "SÃO CRISTÓVÃO",
         "6.49",
         1,
         "Basic"
        ],
        [
         "CARATINGA",
         "CENTRO",
         "5.80",
         1,
         "Basic"
        ],
        [
         "DIADEMA",
         "CANHEMA",
         "6.29",
         1,
         "Basic"
        ],
        [
         "SUMARE",
         "PARQUE R. VIRGNIO BASSO",
         "5.54",
         1,
         "Basic"
        ],
        [
         "PORTO VELHO",
         "TEIXEIRAO",
         "6.39",
         1,
         "Basic"
        ],
        [
         "SETE LAGOAS",
         "UNIVERSITARIO",
         "5.44",
         1,
         "Basic"
        ],
        [
         "MONTES CLAROS",
         "ESPLANADA",
         "6.16",
         1,
         "Basic"
        ],
        [
         "MOSSORO",
         "LIBERDADE",
         "5.79",
         1,
         "Basic"
        ],
        [
         "JUNDIAI",
         "ENGORDADOURO",
         "6.04",
         1,
         "Basic"
        ],
        [
         "SERTAOZINHO",
         "CJ HAB L DOMENICI",
         "5.73",
         1,
         "Basic"
        ],
        [
         "SAO PAULO",
         "VILA SOCORRO",
         "5.99",
         1,
         "Basic"
        ],
        [
         "ITAUNA",
         "VILA TAVARES",
         "5.64",
         2,
         "Basic"
        ],
        [
         "CARAGUATATUBA",
         "JARDIM TARUMAS",
         "6.42",
         1,
         "Basic"
        ],
        [
         "NOVO HAMBURGO",
         "RIO BRANCO",
         "5.79",
         2,
         "Basic"
        ],
        [
         "ITAPIRA",
         "JARDIM SANTA MARTA",
         "6.04",
         1,
         "Basic"
        ],
        [
         "ITAJAI",
         "CANHANDUBA",
         "6.09",
         2,
         "Basic"
        ],
        [
         "ATIBAIA",
         "JARDIM CEREJEIRAS",
         "5.49",
         1,
         "Basic"
        ],
        [
         "CRUZ ALTA",
         "VILA CONCEICAO",
         "6.24",
         1,
         "Basic"
        ],
        [
         "JUAZEIRO",
         "JOÃO PAULO II",
         "5.91",
         1,
         "Basic"
        ],
        [
         "COTIA",
         "CIDADE DAS ROSAS",
         "6.59",
         1,
         "Basic"
        ],
        [
         "SANTOS",
         "JABAQUARA",
         "6.19",
         1,
         "Basic"
        ],
        [
         "PARAISO DO TOCANTINS",
         "LOTEAMENTO SETOR ALTO PARAISO",
         "5.63",
         1,
         "Basic"
        ],
        [
         "MARABA",
         "LARANJEIRAS",
         "6.19",
         1,
         "Basic"
        ],
        [
         "CAMPINAS",
         "JARDIM NOVA EUROPA",
         "5.89",
         1,
         "Basic"
        ],
        [
         "JUNDIAI",
         "JARDIM PLANALTO",
         "5.89",
         1,
         "Basic"
        ],
        [
         "ANAPOLIS",
         "JK NOVA CAPITAL",
         "5.85",
         1,
         "Basic"
        ],
        [
         "CARIACICA",
         "NOVA VALVERDE - CONTORNO DE VITORIA",
         "5.53",
         1,
         "Basic"
        ],
        [
         "ITANHAEM",
         "JARDIM IBERA",
         "5.79",
         1,
         "Basic"
        ],
        [
         "JUAZEIRO",
         "JOAO PAULO II",
         "5.99",
         1,
         "Basic"
        ],
        [
         "PARA DE MINAS",
         "JK",
         "5.81",
         1,
         "Basic"
        ],
        [
         "MACEIO",
         "PINHEIRO",
         "4.69",
         1,
         "Basic"
        ],
        [
         "JUIZ DE FORA",
         "SANTA MARIA",
         "5.57",
         1,
         "Basic"
        ],
        [
         "BELFORD ROXO",
         "SANTA AMELIA",
         "5.28",
         1,
         "Basic"
        ],
        [
         "DUQUE DE CAXIAS",
         "PARQUE A EQUITATIVA",
         "5.43",
         2,
         "Basic"
        ],
        [
         "OLIVEIRA",
         "CENTRO",
         "5.83",
         3,
         "Basic"
        ],
        [
         "ITAQUAQUECETUBA",
         "JARDIM ALPES DE ITAQUA",
         "6.03",
         1,
         "Basic"
        ],
        [
         "MACEIO",
         "PETROPOLIS",
         "5.72",
         2,
         "Basic"
        ],
        [
         "TEFE",
         "CENTRO",
         "7.79",
         1,
         "Basic"
        ],
        [
         "SANTA MARIA",
         "CAMOBI",
         "6.03",
         3,
         "Basic"
        ],
        [
         "SAO LUIS",
         "VILA PALMEIRA",
         "5.59",
         1,
         "Basic"
        ],
        [
         "PINHAIS",
         "CONJUNTO MARINGA",
         "5.94",
         1,
         "Basic"
        ],
        [
         "PARNAMIRIM",
         "NOVA PARNAMIRIM",
         "5.92",
         3,
         "Basic"
        ],
        [
         "LINS",
         "CENTRO",
         "5.98",
         3,
         "Basic"
        ],
        [
         "BELO HORIZONTE",
         "MINASLANDIA",
         "5.52",
         2,
         "Basic"
        ],
        [
         "CAMPINA GRANDE",
         "ALTO BRANCO",
         "5.78",
         1,
         "Basic"
        ],
        [
         "BRAGANCA PAULISTA",
         "CENTRO",
         "5.69",
         1,
         "Basic"
        ],
        [
         "UBERLANDIA",
         "MARTINS",
         "5.79",
         2,
         "Basic"
        ],
        [
         "BAYEUX",
         "ESTRADA",
         "5.37",
         1,
         "Basic"
        ],
        [
         "PRAIA GRANDE",
         "XIXOVA",
         "6.27",
         1,
         "Basic"
        ],
        [
         "BARBACENA",
         "PONTILHAO",
         "6.02",
         2,
         "Basic"
        ],
        [
         "SAO CARLOS",
         "VILA MARINA",
         "5.74",
         1,
         "Basic"
        ],
        [
         "UBERLANDIA",
         "PATRIMONIO",
         "5.99",
         1,
         "Basic"
        ],
        [
         "LAGARTO",
         "CIDADE NOVA",
         "5.80",
         1,
         "Basic"
        ],
        [
         "MANAUS",
         "PLANALTO",
         "6.29",
         1,
         "Basic"
        ],
        [
         "FOZ DO IGUACU",
         "LOTEAMENTO JARDIM AURORA",
         "5.89",
         1,
         "Basic"
        ],
        [
         "POUSO ALEGRE",
         "FRANCISCA AUGUSTA RIOS",
         "5.84",
         1,
         "Basic"
        ],
        [
         "BALNEARIO CAMBORIU",
         "PRAIA DOS AMORES",
         "5.44",
         1,
         "Basic"
        ],
        [
         "PICOS",
         null,
         "5.71",
         1,
         "Basic"
        ],
        [
         "ASSIS",
         "VILA RODRIGUES",
         "6.23",
         1,
         "Basic"
        ],
        [
         "CARUARU",
         "CIDADE ALTA",
         "5.59",
         1,
         "Basic"
        ],
        [
         "ALAGOINHAS",
         "JURACY MAGALHÃES",
         "5.61",
         1,
         "Basic"
        ],
        [
         "XANXERE",
         "CENTRO",
         "5.79",
         4,
         "Basic"
        ],
        [
         "CRATEUS",
         "CAJAS",
         "6.27",
         1,
         "Basic"
        ],
        [
         "JAU",
         "JARDIM OLIMPIA",
         "6.09",
         1,
         "Basic"
        ],
        [
         "SAO PAULO",
         "LAUZANE PAULISTA",
         "5.69",
         1,
         "Basic"
        ],
        [
         "IBITINGA",
         "JARDIM MARGARIDA",
         "6.12",
         1,
         "Basic"
        ],
        [
         "SALGUEIRO",
         "BARRIGUDA",
         "5.57",
         1,
         "Basic"
        ],
        [
         "ITAPIRA",
         "SANTA CRUZ",
         "5.89",
         1,
         "Basic"
        ],
        [
         "ARACAJU",
         "CIRURGIA",
         "5.36",
         1,
         "Basic"
        ],
        [
         "ACAILANDIA",
         "PARQUE DAS NACOES",
         "5.97",
         1,
         "Basic"
        ],
        [
         "SANTO ANTONIO DE PADUA",
         "SANTA LUZIA",
         "5.84",
         1,
         "Basic"
        ],
        [
         "ARARANGUA",
         "CENTRO",
         "5.85",
         1,
         "Basic"
        ],
        [
         "BELFORD ROXO",
         "HELIOPOLIS",
         "5.94",
         1,
         "Basic"
        ],
        [
         "LIMOEIRO DO NORTE",
         "ZONA RURAL",
         "5.82",
         1,
         "Basic"
        ],
        [
         "MARECHAL CANDIDO RONDON",
         "SEDE MUNICIPAL",
         "5.70",
         1,
         "Basic"
        ],
        [
         "NOVA FRIBURGO",
         "CONSELHEIRO PAULINO",
         "5.78",
         1,
         "Basic"
        ],
        [
         "RIO DE JANEIRO",
         "TAQUARA",
         "4.38",
         1,
         "Basic"
        ],
        [
         "JANUARIA",
         "CENTRO",
         "6.09",
         5,
         "Basic"
        ],
        [
         "SALTO",
         "CENTRO",
         "5.99",
         2,
         "Basic"
        ],
        [
         "BRAGANCA PAULISTA",
         "JARDIM AMERICA",
         "5.59",
         1,
         "Basic"
        ],
        [
         "POCOS DE CALDAS",
         "ESTANCIA POCOS DE CALDAS",
         "5.69",
         1,
         "Basic"
        ],
        [
         "MOSSORO",
         "NOVA BETANIA",
         "5.41",
         1,
         "Basic"
        ],
        [
         "ASSIS",
         "VILA ORESTES",
         "5.37",
         1,
         "Basic"
        ],
        [
         "EUNAPOLIS",
         "DINAH BORGES",
         "6.35",
         2,
         "Basic"
        ],
        [
         "BOA VISTA",
         "AEROPORTO",
         "6.45",
         2,
         "Basic"
        ],
        [
         "MACAE",
         "BOTAFOGO",
         "6.22",
         1,
         "Basic"
        ],
        [
         "BENTO GONCALVES",
         "SANTA MARTA",
         "5.94",
         1,
         "Basic"
        ],
        [
         "SALVADOR",
         "PARIPE",
         "5.84",
         3,
         "Basic"
        ],
        [
         "BEBEDOURO",
         "JD. CIRANDA",
         "5.94",
         1,
         "Basic"
        ],
        [
         "LIMEIRA",
         "JARDIM GLORIA",
         "6.39",
         1,
         "Basic"
        ],
        [
         "SANTA BARBARA D'OESTE",
         "JARDIM SAO FERNANDO",
         "5.34",
         1,
         "Basic"
        ],
        [
         "ESTEIO",
         "SAO SEBASTIAO",
         "5.18",
         1,
         "Basic"
        ],
        [
         "MINEIROS",
         "BUENA VISTA",
         "5.68",
         2,
         "Basic"
        ],
        [
         "JUNDIAI",
         "VILA CANTARUCCI",
         "5.95",
         1,
         "Basic"
        ],
        [
         "RIO DE JANEIRO",
         "PAVUNA",
         "5.35",
         2,
         "Basic"
        ],
        [
         "PIRASSUNUNGA",
         "VILA NOVA",
         "6.00",
         1,
         "Basic"
        ],
        [
         "BARRETOS",
         "JARDIM ESTANCIA",
         "6.26",
         1,
         "Basic"
        ],
        [
         "TRINDADE",
         "VILA PADRE ETERNO",
         "5.94",
         1,
         "Basic"
        ],
        [
         "MANAUS",
         "FLORES",
         "6.29",
         3,
         "Basic"
        ],
        [
         "CACOAL",
         "JARDIM BANDEIRANTES",
         "6.85",
         1,
         "Basic"
        ],
        [
         "PARACATU",
         "CENTRO",
         "6.05",
         3,
         "Basic"
        ],
        [
         "UBERLANDIA",
         "CUSTODIO PEREIRA",
         "5.93",
         1,
         "Basic"
        ],
        [
         "SAPUCAIA DO SUL",
         "SAO JOSE",
         "5.79",
         1,
         "Basic"
        ],
        [
         "SAO PAULO",
         "VILA PROGREDIOR",
         "6.79",
         1,
         "Basic"
        ],
        [
         "CATALAO",
         "NOSSA SENHORA DE FATIMA",
         "5.77",
         1,
         "Basic"
        ],
        [
         "RIO DE JANEIRO",
         "ENGENHO NOVO",
         "5.94",
         2,
         "Basic"
        ],
        [
         "SAO PAULO",
         "CIDADE DE PIRITUBA",
         "5.49",
         1,
         "Basic"
        ],
        [
         "MARACANAU",
         "PAJUÇARA",
         "5.22",
         1,
         "Basic"
        ],
        [
         "SAO PAULO",
         "BELEM",
         "5.59",
         1,
         "Basic"
        ],
        [
         "DUQUE DE CAXIAS",
         "JARDIM VINTE E CINCO DE AGOSTO",
         "4.79",
         1,
         "Basic"
        ],
        [
         "CURITIBA",
         "CRISTO REI",
         "6.19",
         1,
         "Basic"
        ],
        [
         "CAMPINA GRANDE",
         "CENTENARIO",
         "5.68",
         2,
         "Basic"
        ],
        [
         "BELEM",
         "BIRIGUI",
         "5.50",
         1,
         "Basic"
        ],
        [
         "TRES RIOS",
         "VILA ISABEL",
         "5.74",
         1,
         "Basic"
        ],
        [
         "ITANHAEM",
         "BELAS ARTES",
         "5.99",
         1,
         "Basic"
        ],
        [
         "CAETITE",
         "CENTRO",
         "6.26",
         4,
         "Basic"
        ],
        [
         "JALES",
         "JARDIM ESTADOS UNIDOS",
         "5.82",
         1,
         "Basic"
        ],
        [
         "ALTA FLORESTA",
         "SETOR NW1",
         "6.64",
         1,
         "Basic"
        ],
        [
         "ARARAS",
         "JARDIM CAMBUI",
         "5.89",
         1,
         "Basic"
        ],
        [
         "SERRINHA",
         "NOVO HORIZONTE",
         "5.56",
         1,
         "Basic"
        ],
        [
         "RONDONOPOLIS",
         "CENTRO",
         "6.47",
         2,
         "Basic"
        ],
        [
         "DOURADOS",
         "PARTE DA FAZENDA CURRAL DE ARAME",
         "5.60",
         1,
         "Basic"
        ],
        [
         "GUARUJA",
         "JARDIM LAS PALMAS",
         "6.49",
         1,
         "Basic"
        ],
        [
         "TABOAO DA SERRA",
         "JARDIM TRES MARIAS",
         "4.92",
         1,
         "Basic"
        ],
        [
         "ITAGUAI",
         "BRISAMAR",
         "6.09",
         1,
         "Basic"
        ],
        [
         "NITEROI",
         "CENTRO",
         "5.64",
         4,
         "Basic"
        ],
        [
         "IJUI",
         "CHORAO",
         "5.96",
         1,
         "Basic"
        ],
        [
         "PATOS DE MINAS",
         "CENTRO",
         "5.95",
         4,
         "Basic"
        ],
        [
         "ERECHIM",
         "CENTRO",
         "6.11",
         5,
         "Basic"
        ],
        [
         "REDENCAO",
         "ALTO PARANA",
         "5.94",
         1,
         "Basic"
        ],
        [
         "CAXIAS DO SUL",
         "SANTA CATARINA",
         "6.07",
         1,
         "Basic"
        ],
        [
         "ITUIUTABA",
         "PROGRESSO",
         "5.70",
         2,
         "Basic"
        ],
        [
         "COSMOPOLIS",
         "CENTRO",
         "5.93",
         1,
         "Basic"
        ],
        [
         "BAURU",
         "VILA SAMARITANA",
         "5.79",
         1,
         "Basic"
        ],
        [
         "RIO VERDE",
         "ODILIA",
         "5.78",
         1,
         "Basic"
        ],
        [
         "VINHEDO",
         "JARDIM ROSA",
         "6.29",
         1,
         "Basic"
        ],
        [
         "SAO CAETANO DO SUL",
         "CENTRO",
         "6.49",
         1,
         "Basic"
        ],
        [
         "BRUSQUE",
         "CENTRO II",
         "6.49",
         1,
         "Basic"
        ],
        [
         "JOAO PESSOA",
         "BANCARIOS",
         "5.63",
         1,
         "Basic"
        ],
        [
         "CAMPO GRANDE",
         "CEL ANTONINO",
         "5.69",
         1,
         "Basic"
        ],
        [
         "SAO SEBASTIAO DO PARAISO",
         "JARDIM VITORIA I",
         "5.79",
         1,
         "Basic"
        ],
        [
         "SAO CARLOS",
         "JD.CRUZ DO SUL",
         "5.90",
         1,
         "Basic"
        ],
        [
         "ARARUAMA",
         "PRAIA DOS COQUEIROS",
         "6.19",
         1,
         "Basic"
        ],
        [
         "CARAPICUIBA",
         "JARDIM CECILIA CRISTINA",
         "5.76",
         1,
         "Basic"
        ],
        [
         "ANGRA DOS REIS",
         "BELEM TQ. DA JAPUIBA",
         "6.89",
         1,
         "Basic"
        ],
        [
         "PORTO VELHO",
         "TIRADENTES",
         "6.19",
         1,
         "Basic"
        ],
        [
         "TERESOPOLIS",
         "ERMITAGE",
         "5.56",
         1,
         "Basic"
        ],
        [
         "MACAPA",
         "JARDIM FELICIDADE",
         "6.39",
         1,
         "Basic"
        ],
        [
         "MANACAPURU",
         "APARECIDA",
         "6.59",
         1,
         "Basic"
        ],
        [
         "IJUI",
         "LULU ILGENFRITZ",
         "5.92",
         1,
         "Basic"
        ],
        [
         "CAUCAIA",
         "ZONA RURAL",
         "5.45",
         2,
         "Basic"
        ],
        [
         "NOVA IGUACU",
         "AUSTIN (NOVA IGUACU)",
         "5.79",
         1,
         "Basic"
        ],
        [
         "ANAPOLIS",
         "JARDIM DAS AMÉRICAS",
         "5.93",
         1,
         "Basic"
        ],
        [
         "LEME",
         "VILA SANTA MARIA",
         "6.39",
         1,
         "Basic"
        ],
        [
         "VITORIA",
         "AEROPORTO",
         "5.69",
         1,
         "Basic"
        ],
        [
         "PALMAS",
         "TAQUARALTO",
         "5.79",
         2,
         "Basic"
        ],
        [
         "TIMOTEO",
         "CENTRO SUL",
         "5.59",
         1,
         "Basic"
        ],
        [
         "VILA VELHA",
         "CRISTOVAO COLOMBO",
         "5.99",
         1,
         "Basic"
        ],
        [
         "ANAPOLIS",
         "VILA JAIARA",
         "5.60",
         1,
         "Basic"
        ],
        [
         "FORTALEZA",
         "OTAVIO BONFIM",
         "5.69",
         1,
         "Basic"
        ],
        [
         "MONTES CLAROS",
         "VILA IPIRANGA",
         "5.69",
         1,
         "Basic"
        ],
        [
         "VITORIA DE SANTO ANTAO",
         "ZONA RURAL",
         "5.45",
         1,
         "Basic"
        ],
        [
         "APUCARANA",
         "JARDIM TRABALHISTA",
         "5.88",
         1,
         "Basic"
        ],
        [
         "PELOTAS",
         "TRÊS VENDAS",
         "6.54",
         1,
         "Basic"
        ],
        [
         "CAMPINAS",
         "JARDIM PARAISO",
         "4.79",
         1,
         "Basic"
        ],
        [
         "SALVADOR",
         "STIEP",
         "6.34",
         1,
         "Basic"
        ],
        [
         "VIAMAO",
         "VILA SANTA ISABEL",
         "6.09",
         1,
         "Basic"
        ],
        [
         "RIBEIRAO PRETO",
         "JARDIM CALIFORNIA",
         "5.87",
         2,
         "Basic"
        ],
        [
         "SALTO",
         "JARDIM DAS NACOES",
         "5.92",
         1,
         "Basic"
        ],
        [
         "MOGI DAS CRUZES",
         "VILA MOGILAR",
         "5.92",
         1,
         "Basic"
        ],
        [
         "OLIVEIRA",
         "FRADIQUES",
         "5.92",
         1,
         "Basic"
        ],
        [
         "REDENCAO",
         "ADEMAR GUIMARAES",
         "5.94",
         1,
         "Basic"
        ],
        [
         "FEIRA DE SANTANA",
         "CAPUCHINHOS",
         "5.54",
         2,
         "Basic"
        ],
        [
         "TERESOPOLIS",
         "CENTRO",
         "5.99",
         1,
         "Basic"
        ],
        [
         "MAFRA",
         "JARDIM MOINHO",
         "6.21",
         1,
         "Basic"
        ],
        [
         "VARZEA GRANDE",
         "CENTRO",
         "6.07",
         1,
         "Basic"
        ],
        [
         "VITORIA DE SANTO ANTAO",
         "D. I. (PREFEITO JOSE AUGUSTO FERRER DE MORAIS)",
         "5.54",
         1,
         "Basic"
        ],
        [
         "SANTA CRUZ DO RIO PARDO",
         null,
         "5.99",
         1,
         "Basic"
        ],
        [
         "FORMIGA",
         "SAGR COR DE JESUS",
         "5.79",
         1,
         "Basic"
        ],
        [
         "CAUCAIA",
         "LOT. PARQUE POTIRA",
         "5.72",
         1,
         "Basic"
        ],
        [
         "SAO LUIS",
         "ANGELIM",
         "5.48",
         1,
         "Basic"
        ],
        [
         "CACHOEIRINHA",
         "JARDIM BETANIA",
         "5.62",
         1,
         "Basic"
        ],
        [
         "ITANHAEM",
         "ESTANCIA BALNEARIO DE ITANHAEM",
         "6.19",
         1,
         "Basic"
        ],
        [
         "BARRA DO PIRAI",
         "CENTRO",
         "6.64",
         1,
         "Basic"
        ],
        [
         "VACARIA",
         "MONTE CLARO",
         "5.99",
         1,
         "Basic"
        ],
        [
         "ALFENAS",
         "RESIDENCIAL OLIVEIRA",
         "5.79",
         1,
         "Basic"
        ],
        [
         "TERESOPOLIS",
         "VILA MUQUI",
         "6.09",
         1,
         "Basic"
        ],
        [
         "PARAISO DO TOCANTINS",
         "SETOR INTERLAGOS",
         "5.80",
         1,
         "Basic"
        ],
        [
         "CABO FRIO",
         "SANTA MARGARIDA",
         "5.76",
         1,
         "Basic"
        ],
        [
         "PASSOS",
         "MONSENHOR MESSIAS",
         "5.76",
         1,
         "Basic"
        ],
        [
         "PORTO ALEGRE",
         "SNTANA",
         "6.09",
         1,
         "Basic"
        ],
        [
         "CRUZ ALTA",
         "SANTA TEREZINHA",
         "6.06",
         1,
         "Basic"
        ],
        [
         "COTIA",
         "JARDIM DOS PEREIRAS (CAUCAIA DO ALTO)",
         "5.84",
         1,
         "Basic"
        ],
        [
         "OLIVEIRA",
         "DIST. IND. DAVID MATTAR II",
         "5.62",
         1,
         "Basic"
        ],
        [
         "MONTES CLAROS",
         "JARDIM PALMEIRAS",
         "5.66",
         1,
         "Basic"
        ],
        [
         "LIVRAMENTO DE NOSSA SENHORA",
         "CENTRO",
         "6.12",
         4,
         "Basic"
        ],
        [
         "RIBEIRAO PRETO",
         "VILA VIRGINIA",
         "5.79",
         3,
         "Basic"
        ],
        [
         "CAMETA",
         "SANTA MARIA",
         "6.49",
         2,
         "Basic"
        ],
        [
         "MAUA",
         "JARDIM CAMILA",
         "6.09",
         1,
         "Basic"
        ],
        [
         "LONDRINA",
         "CENTRO",
         "5.55",
         2,
         "Basic"
        ],
        [
         "CACHOEIRO DE ITAPEMIRIM",
         "PARQUE LARANJEIRAS",
         "6.19",
         1,
         "Basic"
        ],
        [
         "CACHOEIRINHA",
         "COSTA DO IPIRANGA",
         "5.81",
         1,
         "Basic"
        ],
        [
         "UBERABA",
         "PARQUE HILEA",
         "5.64",
         1,
         "Basic"
        ],
        [
         "SOUSA",
         "ESTACAO",
         "6.19",
         1,
         "Basic"
        ],
        [
         "SAO JOSE DOS PINHAIS",
         "BONECA DO IGUACU",
         "5.92",
         2,
         "Basic"
        ],
        [
         "UBA",
         "SEMINARIO",
         "5.83",
         1,
         "Basic"
        ],
        [
         "MOGI MIRIM",
         "JARDIM INOCOOP",
         "5.37",
         1,
         "Basic"
        ],
        [
         "APUCARANA",
         "VILA NOVA",
         "5.98",
         2,
         "Basic"
        ],
        [
         "SAO MATEUS",
         "GURIRI",
         "5.89",
         1,
         "Basic"
        ],
        [
         "MATAO",
         "JARDIM DO BOSQUE",
         "5.64",
         1,
         "Basic"
        ],
        [
         "TERESOPOLIS",
         "VALE FELIZ",
         "5.94",
         1,
         "Basic"
        ],
        [
         "VILHENA",
         "JARDIM ELDORADO",
         "5.94",
         1,
         "Basic"
        ],
        [
         "SAO PAULO",
         "VILA ANDRADE",
         "6.99",
         1,
         "Basic"
        ],
        [
         "PORTO VELHO",
         "SOCIALISTA",
         "6.05",
         1,
         "Basic"
        ],
        [
         "ITAPETININGA",
         "CHAPADA GRANDE",
         "5.47",
         1,
         "Basic"
        ],
        [
         "JABOATAO DOS GUARARAPES",
         "SUCUPIRA",
         "5.77",
         1,
         "Basic"
        ],
        [
         "BEBEDOURO",
         "VILA IRMA ANTONIETA FARANI",
         "5.88",
         1,
         "Basic"
        ],
        [
         "GUARULHOS",
         "JD MEDITERRANIO",
         "5.99",
         1,
         "Basic"
        ],
        [
         "ALENQUER",
         "PLANALTO",
         "6.99",
         4,
         "Basic"
        ],
        [
         "SUMARE",
         "CENTRO",
         "6.24",
         1,
         "Basic"
        ],
        [
         "UBERABA",
         "SAO BENEDITO",
         "6.02",
         2,
         "Basic"
        ],
        [
         "URUGUAIANA",
         "CENTRO",
         "5.98",
         2,
         "Basic"
        ],
        [
         "TERESINA",
         "MORROS",
         "5.88",
         1,
         "Basic"
        ],
        [
         "CUIABA",
         "COXIPO",
         "5.72",
         1,
         "Basic"
        ],
        [
         "JUNDIAI",
         "DISTRITO INDUSTRIAL",
         "6.29",
         1,
         "Basic"
        ],
        [
         "ITAPIPOCA",
         "CACIMBAS",
         "6.59",
         1,
         "Basic"
        ],
        [
         "RIO DE JANEIRO",
         "SENADOR VASCONCELOS",
         "5.79",
         1,
         "Basic"
        ],
        [
         "APARECIDA DE GOIANIA",
         "POLO EMPRESARIAL GOIAS",
         "5.54",
         1,
         "Basic"
        ],
        [
         "ITANHAEM",
         "JARDIM SABAUNA",
         "6.26",
         1,
         "Basic"
        ],
        [
         "CONGONHAS",
         "CAMPO DAS FLORES",
         "5.57",
         2,
         "Basic"
        ],
        [
         "UBERLANDIA",
         "VIGILATO PEREIRA",
         "5.84",
         2,
         "Basic"
        ],
        [
         "PATOS",
         "SANTO ANTÔNIO",
         "5.91",
         1,
         "Basic"
        ],
        [
         "SAO GONCALO",
         "RIO DO OURO",
         "6.04",
         2,
         "Basic"
        ],
        [
         "ARIQUEMES",
         "PARQUE DAS GEMAS",
         "6.39",
         1,
         "Basic"
        ],
        [
         "CUIABA",
         "DUQUE DE CAXIAS",
         "6.21",
         1,
         "Basic"
        ],
        [
         "ITABUNA",
         "ALTO MIRANTE",
         "5.83",
         1,
         "Basic"
        ],
        [
         "VALPARAISO DE GOIAS",
         "PARQUE ESPLANADA II",
         "5.74",
         2,
         "Basic"
        ],
        [
         "GOVERNADOR VALADARES",
         "VILA BRETAS",
         "5.74",
         2,
         "Basic"
        ],
        [
         "SUZANO",
         "CENTRO",
         "6.04",
         1,
         "Basic"
        ],
        [
         "CAMPO GRANDE",
         "SAO JORGE DA LAGOA",
         "6.09",
         1,
         "Basic"
        ],
        [
         "XANXERE",
         "NOSSA SENHORA DE LOURDES",
         "5.84",
         1,
         "Basic"
        ],
        [
         "MOCOCA",
         "JARDIM LAVINIA",
         "6.11",
         4,
         "Basic"
        ],
        [
         "BRASILIA",
         "TAGUATINGA CENTRO (TAGUATINGA)",
         "5.67",
         2,
         "Basic"
        ],
        [
         "IJUI",
         "15 DE NOVEMBRO",
         "6.04",
         1,
         "Basic"
        ],
        [
         "CONTAGEM",
         "CINCO/PEROBAS",
         "5.64",
         1,
         "Basic"
        ],
        [
         "SALVADOR",
         "BONOCO",
         "5.22",
         1,
         "Basic"
        ],
        [
         "AVARE",
         "CIDADE",
         "6.34",
         1,
         "Basic"
        ],
        [
         "BARRETOS",
         "SAO BENEDITO",
         "6.19",
         1,
         "Basic"
        ],
        [
         "PAULISTA",
         "MARANGUAPE II",
         "5.78",
         1,
         "Basic"
        ],
        [
         "SORRISO",
         "ROTA DO SOL",
         "6.64",
         1,
         "Basic"
        ],
        [
         "BENTO GONCALVES",
         "PROGRESSO",
         "5.89",
         1,
         "Basic"
        ],
        [
         "SANTA MARIA",
         "PASSO D'AREIA",
         "6.28",
         1,
         "Basic"
        ],
        [
         "NOVA IGUACU",
         "JARDIM ALVORADA",
         "5.78",
         1,
         "Basic"
        ],
        [
         "BARBACENA",
         "SANTA TEREZA II",
         "6.37",
         1,
         "Basic"
        ],
        [
         "SAO PAULO",
         "VL MOINHO VELHO",
         "5.19",
         1,
         "Basic"
        ],
        [
         "SAO PAULO",
         "VILA DALVA",
         "5.39",
         1,
         "Basic"
        ],
        [
         "ALFENAS",
         "JARDIM BOA ESPERANÇA",
         "5.96",
         1,
         "Basic"
        ],
        [
         "COLATINA",
         "CARLOS GERMANO NAUMANN",
         "5.84",
         3,
         "Basic"
        ],
        [
         "MURIAE",
         "BARRA",
         "5.87",
         4,
         "Basic"
        ],
        [
         "RIO DE JANEIRO",
         "JACAREPAGUA",
         "5.61",
         9,
         "Premium"
        ],
        [
         "ERECHIM",
         "DISTRITO INDUSTRIAL",
         "6.19",
         1,
         "Basic"
        ],
        [
         "ALTAMIRA",
         "JARDIM ORIENTE",
         "6.65",
         1,
         "Basic"
        ],
        [
         "RIO BRANCO",
         "VILA ACRE",
         "7.11",
         2,
         "Basic"
        ],
        [
         "JACOBINA",
         "MALHADINHA",
         "6.13",
         1,
         "Basic"
        ],
        [
         "TUBARAO",
         "HUMAITA DE CIMA",
         "5.64",
         1,
         "Basic"
        ],
        [
         "RESENDE",
         "FAZENDA DA BARRA",
         "5.40",
         1,
         "Basic"
        ],
        [
         "MAFRA",
         "FAXINAL",
         "5.90",
         2,
         "Basic"
        ],
        [
         "LUZIANIA",
         "CENTRO",
         "5.94",
         1,
         "Basic"
        ],
        [
         "CARUARU",
         "JARDIM EUROPA",
         "5.77",
         1,
         "Basic"
        ],
        [
         "CAXIAS DO SUL",
         "CENTRO",
         "6.04",
         2,
         "Basic"
        ],
        [
         "CONGONHAS",
         "JOAQUIM MURTINHO",
         "5.53",
         1,
         "Basic"
        ],
        [
         "GUARATINGUETA",
         "VILA SAO JOSE",
         "5.43",
         1,
         "Basic"
        ],
        [
         "TRINDADE",
         "RESIDENCIAL ARAGUAIA",
         "5.69",
         1,
         "Basic"
        ],
        [
         "ITUIUTABA",
         "IPIRANGA",
         "5.80",
         2,
         "Basic"
        ],
        [
         "TUBARAO",
         "OFICINAS",
         "5.74",
         1,
         "Basic"
        ],
        [
         "TRES CORACOES",
         "DISTRITO INDUSTRIAL",
         "6.14",
         1,
         "Basic"
        ],
        [
         "JABOATAO DOS GUARARAPES",
         "MANASSU",
         "4.80",
         2,
         "Basic"
        ],
        [
         "OLINDA",
         "UMUARAMA",
         "5.26",
         1,
         "Basic"
        ],
        [
         "RIBEIRAO PRETO",
         "CENTRO",
         "5.60",
         2,
         "Basic"
        ],
        [
         "ITAPEVA",
         "CENTRO",
         "5.88",
         5,
         "Basic"
        ],
        [
         "CHAPECO",
         "SÃO CRISTÓVÃO",
         "6.19",
         1,
         "Basic"
        ],
        [
         "MOGI DAS CRUZES",
         "CENTRO",
         "5.88",
         2,
         "Basic"
        ],
        [
         "VILHENA",
         "JARDIM AMERICA",
         "6.59",
         1,
         "Basic"
        ],
        [
         "CAMPO GRANDE",
         "JD CENTENARIO",
         "5.75",
         1,
         "Basic"
        ],
        [
         "CURITIBA",
         "CENTRO CIVICO",
         "5.99",
         1,
         "Basic"
        ],
        [
         "FRUTAL",
         "NOSSA SENHORA APARECIDA",
         "5.89",
         1,
         "Basic"
        ],
        [
         "BELO HORIZONTE",
         "GLORIA",
         "5.99",
         1,
         "Basic"
        ],
        [
         "POUSO ALEGRE",
         "VILA COSTA RIOS",
         "6.09",
         1,
         "Basic"
        ],
        [
         "BOM DESPACHO",
         "CENTRO",
         "5.67",
         1,
         "Basic"
        ],
        [
         "RESENDE",
         "PARAISO",
         "5.15",
         1,
         "Basic"
        ],
        [
         "IPATINGA",
         "CENTRO",
         "5.62",
         1,
         "Basic"
        ],
        [
         "MOGI MIRIM",
         "MARIA BEATRIZ",
         "5.58",
         1,
         "Basic"
        ],
        [
         "CAMACARI",
         "VILA DE ABRANTES",
         "5.61",
         1,
         "Basic"
        ],
        [
         "ALENQUER",
         "ESPERANCA",
         "6.99",
         1,
         "Basic"
        ],
        [
         "OLINDA",
         "BAIRRO NOVO",
         "5.72",
         1,
         "Basic"
        ],
        [
         "SAO PAULO",
         "VILA PIRAJUSSARA",
         "7.20",
         1,
         "Basic"
        ],
        [
         "GUARAPARI",
         "ENSEADA AZUL",
         "5.99",
         1,
         "Basic"
        ],
        [
         "ITABORAI",
         "PICO",
         "5.47",
         1,
         "Basic"
        ],
        [
         "CONGONHAS",
         "PRAIA",
         "5.79",
         1,
         "Basic"
        ],
        [
         "SAO PAULO",
         "VL NOVA CACHOEIRINHA",
         "5.49",
         1,
         "Basic"
        ],
        [
         "MOCOCA",
         null,
         "6.34",
         1,
         "Basic"
        ],
        [
         "GARANHUNS",
         "HELIOPOLIS",
         "5.58",
         8,
         "Premium"
        ],
        [
         "MARABA",
         "BELO HORIZONTE",
         "6.20",
         1,
         "Basic"
        ],
        [
         "CARAPICUIBA",
         "CHAC DAS PAINEIRAS",
         "5.89",
         1,
         "Basic"
        ],
        [
         "APARECIDA DE GOIANIA",
         "PARQUE FLORESTA",
         "5.59",
         1,
         "Basic"
        ],
        [
         "AMERICANA",
         "CIDADE JARDIM II",
         "5.59",
         1,
         "Basic"
        ],
        [
         "GUARULHOS",
         "VILA BONSUCESSO",
         "5.69",
         1,
         "Basic"
        ],
        [
         "FLORIANOPOLIS",
         "CAMPECHE",
         "6.25",
         2,
         "Basic"
        ],
        [
         "PIMENTA BUENO",
         "ZONA RURAL",
         "6.63",
         1,
         "Basic"
        ],
        [
         "SAO JOAO DA BOA VISTA",
         "VILA CONRADO",
         "5.39",
         1,
         "Basic"
        ],
        [
         "SALVADOR",
         "SAUDE",
         "5.92",
         1,
         "Basic"
        ],
        [
         "ITAJAI",
         "ARRAIAL DOS CUNHAS",
         "6.04",
         1,
         "Basic"
        ],
        [
         "SORRISO",
         "RODOVIA",
         "6.24",
         1,
         "Basic"
        ],
        [
         "CRATEUS",
         "JOSE ROSA",
         "5.82",
         1,
         "Basic"
        ],
        [
         "BOTUCATU",
         "VILA ASSUNCAO",
         "5.98",
         1,
         "Basic"
        ],
        [
         "MARINGA",
         "JARDIM HIGIENOPOLIS",
         "5.89",
         1,
         "Basic"
        ],
        [
         "PORTO NACIONAL",
         "J. PORTO IMPERIAL",
         "5.92",
         1,
         "Basic"
        ],
        [
         "SOBRAL",
         "ALTO DA BRASILIA",
         "5.99",
         1,
         "Basic"
        ],
        [
         "CAMBE",
         "JD. SANTO AMARO",
         "5.92",
         1,
         "Basic"
        ],
        [
         "BARUERI",
         "ALPHAVILLE",
         "5.43",
         2,
         "Basic"
        ],
        [
         "SANTANA",
         "CENTRAL",
         "6.45",
         4,
         "Basic"
        ],
        [
         "JATAI",
         "SAMUEL GRAHAN",
         "6.08",
         1,
         "Basic"
        ],
        [
         "NATAL",
         "REDINHA",
         "6.22",
         2,
         "Basic"
        ],
        [
         "FORTALEZA",
         "CASTELAO",
         "5.77",
         2,
         "Basic"
        ],
        [
         "TEOFILO OTONI",
         "JARDIM DAS ACACIAS",
         "5.94",
         1,
         "Basic"
        ],
        [
         "SANTO ANDRE",
         "VL GILDA",
         "6.49",
         1,
         "Basic"
        ],
        [
         "CURITIBA",
         "SANTA CANDIDA",
         "5.65",
         2,
         "Basic"
        ],
        [
         "SAO JOSE DO RIO PRETO",
         "ELDORADO",
         "5.87",
         2,
         "Basic"
        ],
        [
         "ATIBAIA",
         "VL ESPERIA",
         "5.89",
         1,
         "Basic"
        ],
        [
         "ARAPIRACA",
         "PRIMAVERA",
         "6.02",
         1,
         "Basic"
        ],
        [
         "REDENCAO",
         "JARDIM CUMARU",
         "6.24",
         1,
         "Basic"
        ],
        [
         "ARAGUAINA",
         "ZONA RURAL",
         "6.04",
         1,
         "Basic"
        ],
        [
         "MURIAE",
         null,
         "5.89",
         1,
         "Basic"
        ],
        [
         "PORTO NACIONAL",
         "LOTEAMENTO PORTO IMPERIAL",
         "5.63",
         1,
         "Basic"
        ],
        [
         "FORTALEZA",
         "MESSEJANA",
         "5.46",
         3,
         "Basic"
        ],
        [
         "MARABA",
         "DIST INDUSTRIAL",
         "5.79",
         1,
         "Basic"
        ],
        [
         "CURVELO",
         "VILA DE LOURDES",
         "5.84",
         2,
         "Basic"
        ],
        [
         "GOIANIA",
         "JARDIM AMERICA",
         "5.72",
         5,
         "Basic"
        ],
        [
         "PRESIDENTE DUTRA",
         "CENTRO",
         "5.74",
         7,
         "Basic"
        ],
        [
         "BRASILIA",
         "CEILANDIA",
         "5.91",
         4,
         "Basic"
        ],
        [
         "UBATUBA",
         "PEREQUE ASSU",
         "5.89",
         1,
         "Basic"
        ],
        [
         "SANTA BARBARA D'OESTE",
         "JARDIM CONCEICAO",
         "5.89",
         1,
         "Basic"
        ],
        [
         "BARREIRAS",
         "JARDIM OURO BRANCO",
         "6.19",
         1,
         "Basic"
        ],
        [
         "ITAJUBA",
         "BOA VISTA",
         "6.02",
         1,
         "Basic"
        ],
        [
         "FORTALEZA",
         "JOAO XXIII",
         "5.88",
         1,
         "Basic"
        ],
        [
         "CURITIBA",
         "PORTAO",
         "5.69",
         1,
         "Basic"
        ],
        [
         "ITAGUAI",
         "JARDIM AMERICA",
         "5.15",
         1,
         "Basic"
        ],
        [
         "SETE LAGOAS",
         "N SRA DAS GRACAS",
         "5.44",
         1,
         "Basic"
        ],
        [
         "MARICA",
         "INOÃ",
         "5.84",
         1,
         "Basic"
        ],
        [
         "SAO CAETANO DO SUL",
         "BARCELONA",
         "6.02",
         1,
         "Basic"
        ],
        [
         "RIO DE JANEIRO",
         "RAMOS",
         "5.04",
         1,
         "Basic"
        ],
        [
         "ARACATUBA",
         "JARDIM ALVORADA",
         "5.46",
         1,
         "Basic"
        ],
        [
         "VALENCA",
         "BARROSO",
         "5.90",
         1,
         "Basic"
        ],
        [
         "ATIBAIA",
         "JARDIM PAULISTA",
         "6.49",
         1,
         "Basic"
        ],
        [
         "QUIXADA",
         "ALTO SAO FRANCISCO",
         "5.79",
         1,
         "Basic"
        ],
        [
         "PARACATU",
         "NOSSA SENHORA DE FATIMA",
         "6.14",
         1,
         "Basic"
        ],
        [
         "INDAIATUBA",
         "REC. CAMP.JOIA",
         "5.64",
         1,
         "Basic"
        ],
        [
         "POCOES",
         "PITUBA",
         "5.62",
         3,
         "Basic"
        ],
        [
         "ARACRUZ",
         "DE CALI",
         "5.94",
         1,
         "Basic"
        ],
        [
         "PETROLINA",
         "JOSE E MARIA",
         "5.92",
         1,
         "Basic"
        ],
        [
         "BACABAL",
         "CENTRO",
         "5.84",
         4,
         "Basic"
        ],
        [
         "JACAREI",
         "SAO SILVESTRE",
         "5.57",
         1,
         "Basic"
        ],
        [
         "FRUTAL",
         "N SRA APARECIDA",
         "5.64",
         1,
         "Basic"
        ],
        [
         "BLUMENAU",
         "ITOUPAVAZINHA",
         "6.30",
         2,
         "Basic"
        ],
        [
         "CONCORDIA",
         "SAO CRISTOVAO",
         "6.39",
         1,
         "Basic"
        ],
        [
         "ITATIBA",
         "NUCLEO RESIDENCIAL DOUTOR LUIZ DE MATTOS PIMENTA",
         "6.71",
         1,
         "Basic"
        ],
        [
         "ITAPERUNA",
         "BOA FORTUNA",
         "5.89",
         1,
         "Basic"
        ],
        [
         "ITABAIANA",
         "OVIEDO TEIXEIRA",
         "5.82",
         1,
         "Basic"
        ],
        [
         "VARZEA GRANDE",
         "CRISTO REI",
         "5.92",
         1,
         "Basic"
        ],
        [
         "JACAREI",
         "PARQUE MEIA LUA",
         "5.44",
         1,
         "Basic"
        ],
        [
         "ITAMARAJU",
         "JAQUEIRA",
         "5.83",
         1,
         "Basic"
        ],
        [
         "CIANORTE",
         "ZONA 06",
         "5.52",
         1,
         "Basic"
        ],
        [
         "CARAPICUIBA",
         "PARQUE SANTA TEREZA",
         "6.09",
         1,
         "Basic"
        ],
        [
         "VOLTA REDONDA",
         "VOLDAC",
         "6.31",
         1,
         "Basic"
        ],
        [
         "IPATINGA",
         "CARIRU",
         "5.74",
         1,
         "Basic"
        ],
        [
         "CABO DE SANTO AGOSTINHO",
         "MASSANGANA",
         "5.86",
         1,
         "Basic"
        ],
        [
         "RIO DE JANEIRO",
         "SANTA CRUZ",
         "5.61",
         6,
         "Basic"
        ],
        [
         "CAMPOS DOS GOYTACAZES",
         "TURF CLUB",
         "5.55",
         2,
         "Basic"
        ],
        [
         "SAO LUIS",
         "CIDADE OPERARIA",
         "5.79",
         1,
         "Basic"
        ],
        [
         "PORTO VELHO",
         "AREAL",
         "6.45",
         2,
         "Basic"
        ],
        [
         "COLATINA",
         "MARIO GIURIZATTO",
         "6.00",
         1,
         "Basic"
        ],
        [
         "CARIACICA",
         "VERA CRUZ",
         "6.05",
         1,
         "Basic"
        ],
        [
         "PIRACICABA",
         "SAO DIMAS",
         "6.19",
         1,
         "Basic"
        ],
        [
         "RIBEIRAO PRETO",
         "VILA TIBERIO",
         "5.94",
         1,
         "Basic"
        ],
        [
         "FRANCA",
         "JARDIM VENEZA",
         "5.79",
         1,
         "Basic"
        ],
        [
         "BELO HORIZONTE",
         "PARAISO",
         "5.73",
         1,
         "Basic"
        ],
        [
         "BALSAS",
         "NAZARE",
         "6.67",
         1,
         "Basic"
        ],
        [
         "GUARUJA",
         "PARQUE ENSEADA",
         "6.47",
         1,
         "Basic"
        ],
        [
         "MONTES CLAROS",
         "CHACARA RECANTO DOS ARACAS",
         "5.60",
         1,
         "Basic"
        ],
        [
         "CAMPO MOURAO",
         "JARDIM CURITIBA",
         "6.05",
         1,
         "Basic"
        ],
        [
         "TERESINA",
         "SANTO ANTONIO",
         "5.78",
         1,
         "Basic"
        ],
        [
         "ITUIUTABA",
         "LAGOA AZUL I",
         "5.84",
         1,
         "Basic"
        ],
        [
         "RIO CLARO",
         "VILA HORTO FLORESTAL",
         "5.64",
         1,
         "Basic"
        ],
        [
         "GUAIBA",
         "PARQUE 35",
         "5.94",
         2,
         "Basic"
        ],
        [
         "CAMPINAS",
         "NOVA CAMPINAS",
         "5.99",
         1,
         "Basic"
        ],
        [
         "PARANAVAI",
         "CENTRO",
         "5.71",
         6,
         "Basic"
        ],
        [
         "JUIZ DE FORA",
         "POCO RICO",
         "5.49",
         1,
         "Basic"
        ],
        [
         "LAJEADO",
         "MOINHOS",
         "5.74",
         1,
         "Basic"
        ],
        [
         "JI-PARANA",
         "NOVA BRASILIA",
         "7.22",
         2,
         "Basic"
        ],
        [
         "CALDAS NOVAS",
         "CALDAS DO OESTE",
         "5.76",
         2,
         "Basic"
        ],
        [
         "PATOS",
         "ESTRADA",
         "5.81",
         1,
         "Basic"
        ],
        [
         "MONTES CLAROS",
         "IBITURUNA",
         "5.99",
         1,
         "Basic"
        ],
        [
         "CAMPO GRANDE",
         "COOPHAVILA II",
         "5.24",
         1,
         "Basic"
        ],
        [
         "ITACOATIARA",
         "CENTRO",
         "7.09",
         2,
         "Basic"
        ],
        [
         "BARREIRAS",
         "VILA DOS SAS",
         "6.35",
         1,
         "Basic"
        ],
        [
         "CURITIBA",
         "JUVEVE",
         "6.59",
         1,
         "Basic"
        ],
        [
         "BARUERI",
         "VILA SAO SILVESTRE",
         "6.02",
         1,
         "Basic"
        ],
        [
         "URUGUAIANA",
         "IPIRANGA",
         "5.88",
         1,
         "Basic"
        ],
        [
         "GOIANIA",
         "SETOR SUDOESTE",
         "5.79",
         2,
         "Basic"
        ],
        [
         "PRAIA GRANDE",
         "VILA ANTARTICA",
         "5.99",
         1,
         "Basic"
        ],
        [
         "LAGARTO",
         "LAUDELINO FREIRE",
         "5.94",
         1,
         "Basic"
        ],
        [
         "CABEDELO",
         "INTERMARES",
         "5.89",
         1,
         "Basic"
        ],
        [
         "BELO HORIZONTE",
         "DOM SILVERIO",
         "5.62",
         1,
         "Basic"
        ],
        [
         "CAXIAS DO SUL",
         "SAO CRISTOVAO",
         "5.97",
         1,
         "Basic"
        ],
        [
         "TRES CORACOES",
         "RESIDENCIAL VILLAGE DHARMA",
         "5.89",
         1,
         "Basic"
        ],
        [
         "VALINHOS",
         "CAPUAVA",
         "5.99",
         1,
         "Basic"
        ],
        [
         "SAO JOSE DOS PINHAIS",
         "CAMPO LARGO DA ROSEIRA",
         "5.76",
         2,
         "Basic"
        ],
        [
         "IGUATU",
         "VARJOTA",
         "5.99",
         1,
         "Basic"
        ],
        [
         "CUIABA",
         "DISTRITO INDUSTRIAL",
         "5.74",
         1,
         "Basic"
        ],
        [
         "FORMIGA",
         "AREIAS BRANCAS",
         "6.29",
         1,
         "Basic"
        ],
        [
         "CUIABA",
         "JARDIM MONTE LIBANO",
         "6.14",
         1,
         "Basic"
        ],
        [
         "LAJEDO",
         "ZONA RURAL",
         "5.75",
         2,
         "Basic"
        ],
        [
         "MAGE",
         "VILA SERRANA (VILA INHOMIRIM)",
         "5.64",
         1,
         "Basic"
        ],
        [
         "TORRES",
         "IGRA",
         "5.84",
         1,
         "Basic"
        ],
        [
         "CALDAS NOVAS",
         "JARDIM HANASHIRO",
         "5.92",
         1,
         "Basic"
        ],
        [
         "CAXIAS DO SUL",
         "FORQUETA",
         "6.04",
         1,
         "Basic"
        ],
        [
         "PETROLINA",
         "GERCINO COELHO",
         "6.03",
         2,
         "Basic"
        ],
        [
         "SAO PAULO",
         "PERUS",
         "6.39",
         2,
         "Basic"
        ],
        [
         "GOIANIA",
         "SETOR OESTE",
         "5.97",
         2,
         "Basic"
        ],
        [
         "RIO VERDE",
         "SETOR CENTRAL",
         "5.69",
         1,
         "Basic"
        ],
        [
         "BAURU",
         "JARDIM TERRA BRANCA",
         "6.09",
         1,
         "Basic"
        ],
        [
         "FORTALEZA",
         "CIDADE DOS FUNCIONARIOS",
         "5.44",
         1,
         "Basic"
        ],
        [
         "PORTO ALEGRE",
         "PASSO DA AREIA",
         "5.89",
         1,
         "Basic"
        ],
        [
         "MOGI GUACU",
         "CHACARA NOVA ODESSA",
         "5.64",
         1,
         "Basic"
        ],
        [
         "FLORIANOPOLIS",
         "RIO TAVARES",
         "6.09",
         1,
         "Basic"
        ],
        [
         "CRUZEIRO DO SUL",
         "BOCA DA ALEMANHA",
         "7.66",
         1,
         "Basic"
        ],
        [
         "PARACATU",
         "VILA MARIANA",
         "6.10",
         1,
         "Basic"
        ],
        [
         "CAMACARI",
         "CAMACARI DE DENTRO",
         "6.04",
         1,
         "Basic"
        ],
        [
         "GARCA",
         "VILA GUANABARA",
         "6.04",
         1,
         "Basic"
        ],
        [
         "CAMPOS DOS GOYTACAZES",
         "TURF CLUBE",
         "5.67",
         1,
         "Basic"
        ],
        [
         "QUIXADA",
         "JARDIM DOS MONOLITOS",
         "5.95",
         1,
         "Basic"
        ],
        [
         "MINEIROS",
         "RESIDENCIAL MICHELANGELO",
         "5.69",
         1,
         "Basic"
        ],
        [
         "PICOS",
         "JUNCO",
         "5.91",
         4,
         "Basic"
        ],
        [
         "IGARASSU",
         "CENTRO",
         "5.16",
         2,
         "Basic"
        ],
        [
         "VARGINHA",
         "VILA IPIRANGA",
         "5.68",
         1,
         "Basic"
        ],
        [
         "RIBEIRAO PRETO",
         "RECREIO ANHANGUERA",
         "5.62",
         1,
         "Basic"
        ],
        [
         "CHAPECO",
         "SAO CRISTOVAO",
         "6.04",
         2,
         "Basic"
        ],
        [
         "OSASCO",
         "VILA MENK",
         "6.49",
         1,
         "Basic"
        ],
        [
         "SAO PAULO",
         "PQ BRISTOL",
         "5.62",
         1,
         "Basic"
        ],
        [
         "GRAVATAI",
         "PASSO DA CAVEIRA",
         "6.09",
         1,
         "Basic"
        ],
        [
         "BARREIRAS",
         "SAO PEDRO",
         "5.71",
         1,
         "Basic"
        ],
        [
         "VALINHOS",
         "VILA PAGANO",
         "4.46",
         1,
         "Basic"
        ],
        [
         "CASCAVEL",
         "CANADA",
         "5.80",
         1,
         "Basic"
        ],
        [
         "CRUZEIRO",
         "VILA REGINA CELIA",
         "5.80",
         1,
         "Basic"
        ],
        [
         "UBATUBA",
         "PEREQUE-ACU",
         "6.39",
         1,
         "Basic"
        ],
        [
         "MONTES CLAROS",
         "ACACIAS",
         "5.64",
         1,
         "Basic"
        ],
        [
         "SAO PAULO",
         "JD PIRITUBA",
         "5.96",
         1,
         "Basic"
        ],
        [
         "OSORIO",
         "SUL BRASILEIRO",
         "6.04",
         1,
         "Basic"
        ],
        [
         "EMBU DAS ARTES",
         "PARQUE LUIZA",
         "5.49",
         1,
         "Basic"
        ],
        [
         "GOVERNADOR VALADARES",
         "ALTINOPOLIS",
         "5.75",
         3,
         "Basic"
        ],
        [
         "SANTO ANTONIO DE JESUS",
         "ERNESTO MELO",
         "5.92",
         3,
         "Basic"
        ],
        [
         "LINHARES",
         "PALMITAL",
         "5.99",
         1,
         "Basic"
        ],
        [
         "RIO DE JANEIRO",
         "RECREIO DOS BANDEIRANTES",
         "5.29",
         1,
         "Basic"
        ],
        [
         "NOVA LIMA",
         "VALE DO SERENO",
         "5.99",
         1,
         "Basic"
        ],
        [
         "JANAUBA",
         "CENTRO",
         "6.55",
         2,
         "Basic"
        ],
        [
         "GUARATINGUETA",
         "PARQUE  DAS ARVORES",
         "6.24",
         1,
         "Basic"
        ],
        [
         "OURINHOS",
         "ZONA RURAL",
         "6.05",
         1,
         "Basic"
        ],
        [
         "MARINGA",
         "ZONA 28",
         "6.19",
         1,
         "Basic"
        ],
        [
         "SAO PAULO",
         "AGUA FRIA",
         "6.87",
         2,
         "Basic"
        ],
        [
         "FORTALEZA",
         "PARQUE SANTO ANTONIO",
         "5.50",
         1,
         "Basic"
        ],
        [
         "CURITIBA",
         "FAZENDINHA",
         "5.29",
         1,
         "Basic"
        ],
        [
         "ITAPIPOCA",
         "DAS FLORES",
         "6.58",
         1,
         "Basic"
        ],
        [
         "LINHARES",
         "COLINA",
         "5.15",
         1,
         "Basic"
        ],
        [
         "PORTO ALEGRE",
         "CAVALHADA",
         "5.69",
         1,
         "Basic"
        ],
        [
         "CAICO",
         "PARAIBA",
         "6.74",
         1,
         "Basic"
        ],
        [
         "CONCEICAO DO ARAGUAIA",
         "VILA NOVA",
         "6.05",
         2,
         "Basic"
        ],
        [
         "BOM DESPACHO",
         "PERIMETRO URBANO",
         "5.64",
         1,
         "Basic"
        ],
        [
         "MANAUS",
         "SANTO AGOSTINHO",
         "5.16",
         2,
         "Basic"
        ],
        [
         "INDAIATUBA",
         "SANTA CRUZ",
         "6.09",
         1,
         "Basic"
        ],
        [
         "SOBRAL",
         "JUNCO",
         "6.06",
         2,
         "Basic"
        ],
        [
         "SAO PAULO",
         "JD.NOVE DE JULHO",
         "5.79",
         1,
         "Basic"
        ],
        [
         "PORTO VELHO",
         "OLARIA",
         "6.29",
         1,
         "Basic"
        ],
        [
         "VALINHOS",
         "LOT. SANTA MARINA",
         "6.04",
         1,
         "Basic"
        ],
        [
         "SAO JOSE DOS PINHAIS",
         "ARISTOCRATA",
         "5.89",
         1,
         "Basic"
        ],
        [
         "BAURU",
         "JD.SANTANA",
         "6.04",
         1,
         "Basic"
        ],
        [
         "IPATINGA",
         "IGUACU",
         "5.68",
         2,
         "Basic"
        ],
        [
         "CAMPO GRANDE",
         "SANTO AMARO",
         "5.70",
         1,
         "Basic"
        ],
        [
         "SAO PAULO",
         "JARDIM ANGELA",
         "5.79",
         1,
         "Basic"
        ],
        [
         "PORTO VELHO",
         "LIBERDADE",
         "6.39",
         1,
         "Basic"
        ],
        [
         "CUIABA",
         "CENTRO SUL",
         "5.67",
         1,
         "Basic"
        ],
        [
         "OURINHOS",
         "VL. ODILON",
         "5.39",
         1,
         "Basic"
        ],
        [
         "ANAPOLIS",
         "J K NOVA CAPITAL",
         "5.74",
         1,
         "Basic"
        ],
        [
         "LIVRAMENTO DE NOSSA SENHORA",
         "PIÇARRAO",
         "5.94",
         1,
         "Basic"
        ],
        [
         "LONDRINA",
         "JARDIM IPANEMA",
         "5.76",
         1,
         "Basic"
        ],
        [
         "SERRA",
         "PLANALTO DE CARAPINA",
         "5.89",
         1,
         "Basic"
        ],
        [
         "CUIABA",
         "CPA I",
         "6.14",
         1,
         "Basic"
        ],
        [
         "PAULO AFONSO",
         "VILA POTY",
         "6.04",
         2,
         "Basic"
        ],
        [
         "CAMACARI",
         "CENTRO",
         "5.91",
         4,
         "Basic"
        ],
        [
         "GUARULHOS",
         "GUARULHOS",
         "6.39",
         2,
         "Basic"
        ],
        [
         "NATAL",
         "NOSSA SENHORA DE NAZARE",
         "5.95",
         1,
         "Basic"
        ],
        [
         "AMERICANA",
         "FREZARIM",
         "6.39",
         1,
         "Basic"
        ],
        [
         "JOINVILLE",
         "VILA NOVA",
         "6.04",
         2,
         "Basic"
        ],
        [
         "VINHEDO",
         "SANTA LEONIDIA",
         "6.34",
         1,
         "Basic"
        ],
        [
         "PETROPOLIS",
         "CENTRO",
         "5.51",
         5,
         "Basic"
        ],
        [
         "DIVINOPOLIS",
         "SÃO JOSÉ",
         "5.67",
         1,
         "Basic"
        ],
        [
         "CACHOEIRO DE ITAPEMIRIM",
         "SANTO ANTONIO",
         "5.89",
         1,
         "Basic"
        ],
        [
         "SAO JOSE DE RIBAMAR",
         "LOTEAMENTO JARDIM DAS PRINCESAS",
         "5.59",
         1,
         "Basic"
        ],
        [
         "SAO CARLOS",
         "VILA COSTA DO SOL",
         "5.94",
         1,
         "Basic"
        ],
        [
         "CONSELHEIRO LAFAIETE",
         "SANTA MATILDE",
         "5.87",
         1,
         "Basic"
        ],
        [
         "NOVA FRIBURGO",
         "PRADO",
         "5.99",
         1,
         "Basic"
        ],
        [
         "PIRACICABA",
         "JARDIM CALIFORNIA",
         "5.40",
         1,
         "Basic"
        ],
        [
         "CONCEICAO DO ARAGUAIA",
         "SAO LUIZ II",
         "6.00",
         1,
         "Basic"
        ],
        [
         "ARAPIRACA",
         "ALTO DO CRUZEIRO",
         "5.99",
         1,
         "Basic"
        ],
        [
         "SAO PAULO",
         "PARADA INGLESA",
         "5.69",
         1,
         "Basic"
        ],
        [
         "LINHARES",
         "N SRA DA CONCEICAO",
         "5.94",
         1,
         "Basic"
        ],
        [
         "JACOBINA",
         "PERU",
         "6.19",
         1,
         "Basic"
        ],
        [
         "JUNDIAI",
         "JARDIM DO TREVO",
         "6.09",
         1,
         "Basic"
        ],
        [
         "BENTO GONCALVES",
         "SANTA RITA",
         "5.81",
         1,
         "Basic"
        ],
        [
         "PARINTINS",
         "ITAUNA I",
         "6.89",
         1,
         "Basic"
        ],
        [
         "LAVRAS",
         "JARDIM FABIANA",
         "5.79",
         1,
         "Basic"
        ],
        [
         "SERRA TALHADA",
         "NOSSA SENHORA DA PENHA",
         "5.97",
         3,
         "Basic"
        ],
        [
         "CAXIAS DO SUL",
         "PIO X",
         "6.02",
         1,
         "Basic"
        ],
        [
         "RECIFE",
         "AFOGADOS",
         "5.41",
         4,
         "Basic"
        ],
        [
         "CUIABA",
         "TIJUCAL",
         "5.99",
         1,
         "Basic"
        ],
        [
         "CASCAVEL",
         "BRASILIA",
         "5.99",
         1,
         "Basic"
        ],
        [
         "MACAE",
         "JARDIM SOL Y MAR",
         "6.70",
         1,
         "Basic"
        ],
        [
         "ARIQUEMES",
         "SETOR DE CHACARAS",
         "6.55",
         1,
         "Basic"
        ],
        [
         "GOIANIA",
         "SET SUDOESTE",
         "5.69",
         1,
         "Basic"
        ],
        [
         "PATROCINIO",
         "DISTRITO INDUSTRIAL",
         "6.13",
         1,
         "Basic"
        ],
        [
         "TAUBATE",
         "VILA PROGRESSO",
         "5.19",
         1,
         "Basic"
        ],
        [
         "SAQUAREMA",
         "BICUIBA",
         "6.08",
         1,
         "Basic"
        ],
        [
         "NOVA FRIBURGO",
         "RIOGRANDINA",
         "5.68",
         1,
         "Basic"
        ],
        [
         "VITORIA DA CONQUISTA",
         "JARDIM GUANABARA",
         "5.69",
         1,
         "Basic"
        ],
        [
         "RIBEIRAO PRETO",
         "PQ. RIBEIRAO PRETO",
         "5.59",
         1,
         "Basic"
        ],
        [
         "PORTO VELHO",
         "SETOR INDUSTRIAL",
         "6.39",
         1,
         "Basic"
        ],
        [
         "PARANAGUA",
         "JARDIM SAMAMBAIA",
         "6.02",
         2,
         "Basic"
        ],
        [
         "SAO LUIS",
         "SANTO ANTONIO",
         "5.39",
         1,
         "Basic"
        ],
        [
         "RIO VERDE",
         "JARDIM PRESIDENTE",
         "5.85",
         2,
         "Basic"
        ],
        [
         "MACAE",
         "LAGOMAR",
         "6.23",
         1,
         "Basic"
        ],
        [
         "PARAGUACU PAULISTA",
         "CENTRO",
         "5.93",
         3,
         "Basic"
        ],
        [
         "SAO LUIS",
         "MARACANA",
         "5.58",
         1,
         "Basic"
        ],
        [
         "LAGES",
         "SAO CRISTOVAO",
         "5.70",
         1,
         "Basic"
        ],
        [
         "SAO PAULO",
         "PIRAJUSSARA",
         "5.79",
         1,
         "Basic"
        ],
        [
         "PORTO ALEGRE",
         "SARANDI",
         "5.59",
         3,
         "Basic"
        ],
        [
         "CRUZEIRO DO SUL",
         "AEROPORTO VELHO",
         "7.55",
         2,
         "Basic"
        ],
        [
         "SANTAREM",
         "DIAMANTINO",
         "6.49",
         1,
         "Basic"
        ],
        [
         "SAO PAULO",
         "PARADA DE TAIPAS",
         "5.49",
         1,
         "Basic"
        ],
        [
         "MAUA",
         "CENTRO",
         "5.58",
         3,
         "Basic"
        ],
        [
         "EUNAPOLIS",
         "VIVENDAS COSTA AZUL",
         "6.09",
         1,
         "Basic"
        ],
        [
         "CAXIAS DO SUL",
         "LUIZ MICHELON",
         "5.88",
         1,
         "Basic"
        ],
        [
         "RIO DE JANEIRO",
         "MADUREIRA",
         "5.79",
         1,
         "Basic"
        ],
        [
         "RIO BONITO",
         "PRIMEIRO",
         "5.53",
         1,
         "Basic"
        ],
        [
         "CAUCAIA",
         "SAO PEDRO",
         "5.39",
         1,
         "Basic"
        ],
        [
         "CABO DE SANTO AGOSTINHO",
         "SANTO INACIO",
         "5.71",
         1,
         "Basic"
        ],
        [
         "PONTA GROSSA",
         "NOVA RUSSIA",
         "5.76",
         2,
         "Basic"
        ],
        [
         "CAICO",
         "BOA PASSAGEM",
         "6.69",
         1,
         "Basic"
        ],
        [
         "SAO CAETANO DO SUL",
         "OSWALDO CRUZ",
         "6.79",
         1,
         "Basic"
        ],
        [
         "SAO PAULO",
         "JARDIM SANTA FE",
         "6.09",
         2,
         "Basic"
        ],
        [
         "SAO PAULO",
         "NOSSA SRA DO O",
         "5.26",
         1,
         "Basic"
        ],
        [
         "CRICIUMA",
         "DOS IMIGRANTES",
         "5.94",
         1,
         "Basic"
        ],
        [
         "OSASCO",
         "PARQUE CACHOERINHA",
         "6.19",
         1,
         "Basic"
        ],
        [
         "EMBU DAS ARTES",
         "TINGIDOR",
         "6.14",
         1,
         "Basic"
        ],
        [
         "CAMPO GRANDE",
         "VILA CIDADE",
         "5.97",
         3,
         "Basic"
        ],
        [
         "CATANDUVA",
         "PARQUE IRACEMA",
         "5.97",
         1,
         "Basic"
        ],
        [
         "TERESOPOLIS",
         "SAO PEDRO",
         "5.79",
         1,
         "Basic"
        ],
        [
         "FORTALEZA",
         "DEMOCRITO ROCHA",
         "5.66",
         1,
         "Basic"
        ],
        [
         "HORTOLANDIA",
         "VILA REAL",
         "4.44",
         1,
         "Basic"
        ],
        [
         "APARECIDA DE GOIANIA",
         "VILA ROSA",
         "5.89",
         1,
         "Basic"
        ],
        [
         "BOA VISTA",
         "MECEJANA",
         "6.47",
         2,
         "Basic"
        ],
        [
         "SAO LUIS",
         "OLHO DAGUA",
         "5.59",
         1,
         "Basic"
        ],
        [
         "MANACAPURU",
         "TERRA PRETA",
         "6.28",
         1,
         "Basic"
        ],
        [
         "VARZEA PAULISTA",
         "VIAL STA TEREZINHA",
         "5.94",
         1,
         "Basic"
        ],
        [
         "GOIANA",
         "TEJUCUPAPO",
         "5.90",
         1,
         "Basic"
        ],
        [
         "FOZ DO IGUACU",
         "MARACANA",
         "6.09",
         1,
         "Basic"
        ],
        [
         "CACHOEIRA DO SUL",
         "NOSSA SENHORA DE FATIMA",
         "5.83",
         1,
         "Basic"
        ],
        [
         "LAJEADO",
         "SAO CRISTOVAO",
         "5.75",
         2,
         "Basic"
        ],
        [
         "BIGUACU",
         "CENTRO",
         "5.97",
         1,
         "Basic"
        ],
        [
         "RIO DE JANEIRO",
         "ANCHIETA",
         "5.34",
         1,
         "Basic"
        ],
        [
         "PALMAS",
         "PLANO DIRETOR NORTE",
         "5.64",
         1,
         "Basic"
        ],
        [
         "MATAO",
         "NOVA MATAO",
         "6.49",
         1,
         "Basic"
        ],
        [
         "MANACAPURU",
         "SAO JOSE",
         "6.49",
         2,
         "Basic"
        ],
        [
         "LINS",
         "ZONA RURAL",
         "5.81",
         1,
         "Basic"
        ],
        [
         "SANTA CRUZ DO RIO PARDO",
         "ESTACAO",
         "5.56",
         1,
         "Basic"
        ],
        [
         "PIMENTA BUENO",
         "DOS PIONEIROS",
         "6.09",
         1,
         "Basic"
        ],
        [
         "LONDRINA",
         "JARDIM AEROPORTO",
         "5.69",
         1,
         "Basic"
        ],
        [
         "SOBRAL",
         "CORACAO DE JESUS",
         "6.12",
         1,
         "Basic"
        ],
        [
         "FORTALEZA",
         "JARDIM IRACEMA",
         "5.99",
         1,
         "Basic"
        ],
        [
         "JAGUAQUARA",
         "CEARA",
         "6.02",
         1,
         "Basic"
        ],
        [
         "PARNAIBA",
         "SAO FRANCISCO DA GUARITA",
         "6.19",
         1,
         "Basic"
        ],
        [
         "MONTES CLAROS",
         "AUGUSTA MOTA",
         "5.89",
         1,
         "Basic"
        ],
        [
         "SAO JOSE DOS CAMPOS",
         "JARDIM SATÉLITE",
         "5.14",
         1,
         "Basic"
        ],
        [
         "ITUMBIARA",
         "SETOR OESTE",
         "5.79",
         1,
         "Basic"
        ],
        [
         "MARACANAU",
         "CONJ  JEREISSATI I",
         "5.45",
         1,
         "Basic"
        ],
        [
         "FRUTAL",
         "NOSSA SENHORA DO CARMO",
         "5.73",
         1,
         "Basic"
        ],
        [
         "CAMPINA GRANDE",
         "CATOLE",
         "5.81",
         2,
         "Basic"
        ],
        [
         "SAO GONCALO",
         "MUTONDO",
         "5.15",
         2,
         "Basic"
        ],
        [
         "CUIABA",
         "PARQUE OHARA",
         "6.34",
         2,
         "Basic"
        ],
        [
         "SAO PAULO",
         "BRASILANDIA",
         "5.29",
         1,
         "Basic"
        ],
        [
         "SETE LAGOAS",
         "BOA VISTA",
         "5.64",
         1,
         "Basic"
        ],
        [
         "PASSOS",
         "JARDIM CONTINENTAL",
         "5.90",
         1,
         "Basic"
        ],
        [
         "CAMPINAS",
         "NOVO CAMPO ELISEOS",
         "5.59",
         1,
         "Basic"
        ],
        [
         "GUARUJA",
         "JARDIM MAR E CEU",
         "5.65",
         1,
         "Basic"
        ],
        [
         "OSASCO",
         "JARDIM DAS FLORES",
         "5.99",
         1,
         "Basic"
        ],
        [
         "EMBU DAS ARTES",
         "JV ALEGRE",
         "5.84",
         1,
         "Basic"
        ],
        [
         "PARACATU",
         "AMOREIRAS I",
         "6.14",
         1,
         "Basic"
        ],
        [
         "JATAI",
         "SETOR PLANALTO",
         "5.85",
         1,
         "Basic"
        ],
        [
         "RONDONOPOLIS",
         "VILA GOULART",
         "6.54",
         1,
         "Basic"
        ],
        [
         "EUNAPOLIS",
         "CENTRO",
         "6.49",
         1,
         "Basic"
        ],
        [
         "PIRACICABA",
         "PIRACICAMIRIM",
         "5.87",
         2,
         "Basic"
        ],
        [
         "CATALAO",
         "LOTEAMENTO LEAO",
         "5.89",
         1,
         "Basic"
        ],
        [
         "PARAISO DO TOCANTINS",
         "ST. MILENA",
         "5.66",
         1,
         "Basic"
        ],
        [
         "VITORIA",
         "FRADINHOS",
         "5.89",
         1,
         "Basic"
        ],
        [
         "RIO BRANCO",
         "AREAL",
         "7.10",
         1,
         "Basic"
        ],
        [
         "JALES",
         "JARDIM ACLIMACAO",
         "5.76",
         1,
         "Basic"
        ],
        [
         "JUNDIAI",
         "CAXAMBU",
         "5.97",
         1,
         "Basic"
        ],
        [
         "BARRA DO CORDA",
         "CENTRO",
         "5.91",
         2,
         "Basic"
        ],
        [
         "NOVA LIMA",
         "VALE DO SOL",
         "5.99",
         1,
         "Basic"
        ],
        [
         "MOGI DAS CRUZES",
         "VILA SUISSA",
         "6.89",
         1,
         "Basic"
        ],
        [
         "RECIFE",
         "PINA",
         "4.63",
         1,
         "Basic"
        ],
        [
         "RIBEIRAO PRETO",
         "VILA VIRGÍNIA",
         "5.29",
         1,
         "Basic"
        ],
        [
         "TATUI",
         "GUARDINHA",
         "6.17",
         2,
         "Basic"
        ],
        [
         "SAO GABRIEL",
         "CENTRO",
         "6.17",
         5,
         "Basic"
        ],
        [
         "UBERABA",
         "ONEIDA MENDES",
         "5.77",
         1,
         "Basic"
        ],
        [
         "ITAITUBA",
         "CENTRO",
         "5.79",
         2,
         "Basic"
        ],
        [
         "PORTO VELHO",
         "NOVA FLORESTA",
         "6.67",
         1,
         "Basic"
        ],
        [
         "ITAJAI",
         "CORDEIROS",
         "5.55",
         2,
         "Basic"
        ],
        [
         "NATAL",
         "CANDELARIA",
         "5.82",
         3,
         "Basic"
        ],
        [
         "JATAI",
         "EPAMINONDAS",
         "5.88",
         1,
         "Basic"
        ],
        [
         "LONDRINA",
         "PARQUE DAS INDUSTRIA",
         "5.94",
         1,
         "Basic"
        ],
        [
         "LIMOEIRO DO NORTE",
         "BOA FE",
         "6.18",
         2,
         "Basic"
        ],
        [
         "DIADEMA",
         "VILA CONCEICAO",
         "5.49",
         1,
         "Basic"
        ],
        [
         "TEOFILO OTONI",
         "SAO CRISTOVAO",
         "5.79",
         3,
         "Basic"
        ],
        [
         "SAO PAULO",
         "VILA MANCHESTER",
         "5.31",
         1,
         "Basic"
        ],
        [
         "GUARAPARI",
         "NOVA GUARAPARI",
         "6.19",
         1,
         "Basic"
        ],
        [
         "RIBEIRAO PRETO",
         "RESIDENCIAL FLORIDA",
         "5.94",
         1,
         "Basic"
        ],
        [
         "LAURO DE FREITAS",
         "VILAS DO  ATLANTICO",
         "5.93",
         1,
         "Basic"
        ],
        [
         "ASSIS",
         "VILA SOUZA",
         "5.59",
         1,
         "Basic"
        ],
        [
         "TERESINA",
         "PARQUE PIAUI",
         "5.84",
         3,
         "Basic"
        ],
        [
         "IGARASSU",
         "CRUZ DO REBOUCAS",
         "5.74",
         1,
         "Basic"
        ],
        [
         "SAO JOAO DE MERITI",
         "JARDIM MERITI",
         "6.29",
         1,
         "Basic"
        ],
        [
         "JALES",
         "VILA NOSSA SENHORA APARECIDA",
         "5.77",
         1,
         "Basic"
        ],
        [
         "CACADOR",
         "MARTELLO",
         "5.95",
         2,
         "Basic"
        ],
        [
         "BAYEUX",
         "MANGUINHOS",
         "5.74",
         1,
         "Basic"
        ],
        [
         "LIMEIRA",
         "JD. NOVO HORIZONTE",
         "5.79",
         1,
         "Basic"
        ],
        [
         "CANINDE",
         "CENTRO",
         "6.08",
         4,
         "Basic"
        ],
        [
         "ITU",
         "VILA LUCINDA",
         "5.45",
         1,
         "Basic"
        ],
        [
         "BALSAS",
         "CENTRO",
         "6.09",
         4,
         "Basic"
        ],
        [
         "OLINDA",
         "SANTA TEREZA",
         "5.44",
         2,
         "Basic"
        ],
        [
         "CRATO",
         "SAO MIGUEL",
         "5.96",
         5,
         "Basic"
        ],
        [
         "ARAGUARI",
         "JARDIM REGINA",
         "5.52",
         1,
         "Basic"
        ],
        [
         "CACAPAVA",
         "VILA ANTONIO A. LUIZ",
         "5.24",
         1,
         "Basic"
        ],
        [
         "TATUI",
         "JARDIM LUCILA",
         "6.61",
         1,
         "Basic"
        ],
        [
         "GUARAPARI",
         "VARZEA NOVA",
         "5.79",
         1,
         "Basic"
        ],
        [
         "MORRINHOS",
         "ZONA RURAL",
         "5.74",
         1,
         "Basic"
        ],
        [
         "FRANCISCO BELTRAO",
         "LUTHER KING",
         "6.08",
         1,
         "Basic"
        ],
        [
         "SAO BERNARDO DO CAMPO",
         "VILA TEREZA",
         "6.19",
         1,
         "Basic"
        ],
        [
         "APUCARANA",
         "JD APUCARANA",
         "5.99",
         1,
         "Basic"
        ],
        [
         "SANTO ANTONIO DE PADUA",
         "CENTRO",
         "5.94",
         1,
         "Basic"
        ],
        [
         "SANTO ANTONIO DA PLATINA",
         "VILA CLARO",
         "5.68",
         1,
         "Basic"
        ],
        [
         "MARINGA",
         "ZONA 7",
         "5.89",
         1,
         "Basic"
        ],
        [
         "VOLTA REDONDA",
         "RETIRO",
         "5.89",
         4,
         "Basic"
        ],
        [
         "PINHAIS",
         "MARIA ANTONIETA",
         "5.36",
         1,
         "Basic"
        ],
        [
         "CRUZEIRO DO SUL",
         "25 DE AGOSTO",
         "7.66",
         2,
         "Basic"
        ],
        [
         "ITAPETININGA",
         "CENTRO",
         "6.93",
         3,
         "Basic"
        ],
        [
         "SANTOS",
         "EMBARE",
         "7.79",
         1,
         "Basic"
        ],
        [
         "PORANGATU",
         "SETOR CENTRAL",
         "5.85",
         2,
         "Basic"
        ],
        [
         "LINHARES",
         "SAO JOSE",
         "5.98",
         1,
         "Basic"
        ],
        [
         "SABARA",
         "ANA LUCIA",
         "5.54",
         2,
         "Basic"
        ],
        [
         "ARARANGUA",
         "COLONINHA",
         "5.85",
         1,
         "Basic"
        ],
        [
         "BELO HORIZONTE",
         "FLORESTA",
         "5.99",
         1,
         "Basic"
        ],
        [
         "SUZANO",
         "JARDIM DONA BENTA",
         "6.06",
         2,
         "Basic"
        ],
        [
         "DIADEMA",
         "PARQUE DAS JABUTICABEIRAS",
         "6.39",
         1,
         "Basic"
        ],
        [
         "CAMPINAS",
         "JARDIM LEONOR",
         "5.84",
         1,
         "Basic"
        ],
        [
         "VARZEA PAULISTA",
         "AREA INDUSTRIAL",
         "6.07",
         1,
         "Basic"
        ],
        [
         "RIO BRANCO",
         "CONJUNTO RUI LINO",
         "7.08",
         1,
         "Basic"
        ],
        [
         "TATUI",
         "CENTRO",
         "6.36",
         2,
         "Basic"
        ],
        [
         "IMPERATRIZ",
         "SANTA RITA",
         "5.89",
         1,
         "Basic"
        ],
        [
         "ITU",
         "VILA NOVA",
         "6.09",
         1,
         "Basic"
        ],
        [
         "NOVA IGUACU",
         "VILA NOVA",
         "5.99",
         1,
         "Basic"
        ],
        [
         "LUZIANIA",
         "PARQUE JK",
         "5.89",
         1,
         "Basic"
        ],
        [
         "GUARUJA",
         "VILA MAIA",
         "6.69",
         1,
         "Basic"
        ],
        [
         "ITUIUTABA",
         "NATAL",
         "5.87",
         1,
         "Basic"
        ],
        [
         "RIO DE JANEIRO",
         "BARRA DA TIJUCA",
         "5.30",
         5,
         "Basic"
        ],
        [
         "OURO PRETO",
         "SARAMENHA",
         "5.77",
         1,
         "Basic"
        ],
        [
         "JARAGUA DO SUL",
         "CHICO DE PAULO",
         "6.04",
         1,
         "Basic"
        ],
        [
         "ANANINDEUA",
         "CIDADE NOVA",
         "5.58",
         2,
         "Basic"
        ],
        [
         "GUARAPARI",
         "PRAIA DO MORRO",
         "6.46",
         3,
         "Basic"
        ],
        [
         "SAO PAULO",
         "SAO JOAO CLIMACO",
         "5.87",
         1,
         "Basic"
        ],
        [
         "JI-PARANA",
         "RIACHUELO",
         "7.21",
         2,
         "Basic"
        ],
        [
         "CARAGUATATUBA",
         "CAPUTERA",
         "6.19",
         1,
         "Basic"
        ],
        [
         "ITAPETININGA",
         "ZONA RURAL",
         "5.52",
         1,
         "Basic"
        ],
        [
         "UBERABA",
         "REC DOS BANDEIRANTES",
         "6.79",
         1,
         "Basic"
        ],
        [
         "MAFRA",
         "CENTRO",
         "6.27",
         2,
         "Basic"
        ],
        [
         "OURO PRETO",
         "N. SA. DO CARMO",
         "5.88",
         1,
         "Basic"
        ],
        [
         "JOINVILLE",
         "PIRABEIRABA",
         "5.74",
         1,
         "Basic"
        ],
        [
         "SERRA",
         "JARDIM LIMOEIRO",
         "5.87",
         3,
         "Basic"
        ],
        [
         "FORTALEZA",
         "BONSUCESSO",
         "5.79",
         1,
         "Basic"
        ],
        [
         "MURIAE",
         "DORNELAS",
         "5.87",
         2,
         "Basic"
        ],
        [
         "ALFENAS",
         "JARDIM BOA ESPERANCA II",
         "5.99",
         1,
         "Basic"
        ],
        [
         "RONDONOPOLIS",
         "JARDIM VERA CRUZ",
         "6.14",
         1,
         "Basic"
        ],
        [
         "AGUAS LINDAS DE GOIAS",
         "VIVENDAS PARAISO",
         "5.79",
         1,
         "Basic"
        ],
        [
         "BETIM",
         "JARDIM TERESOPOLIS",
         "5.69",
         1,
         "Basic"
        ],
        [
         "PETROLINA",
         "COHAB MASSANGANO",
         "6.09",
         1,
         "Basic"
        ],
        [
         "CONCORDIA",
         "CRISTAL",
         "6.20",
         1,
         "Basic"
        ],
        [
         "CASCAVEL",
         "JD CLARITO",
         "6.31",
         1,
         "Basic"
        ],
        [
         "PAULISTA",
         "PARATIBE",
         "5.73",
         1,
         "Basic"
        ],
        [
         "BOTUCATU",
         "CENTRO",
         "5.84",
         2,
         "Basic"
        ],
        [
         "CAMPOS DOS GOYTACAZES",
         "PQUE TURFE CLUB",
         "5.59",
         1,
         "Basic"
        ],
        [
         "BAGE",
         "HIDRAULICA",
         "6.86",
         1,
         "Basic"
        ],
        [
         "PARANAVAI",
         "JD SANTOS DUMONT",
         "6.24",
         1,
         "Basic"
        ],
        [
         "BARRA DO PIRAI",
         "SANTANA",
         "5.39",
         1,
         "Basic"
        ],
        [
         "UMUARAMA",
         "ZONA III",
         "6.03",
         2,
         "Basic"
        ],
        [
         "POUSO ALEGRE",
         "GAMBA",
         "5.71",
         1,
         "Basic"
        ],
        [
         "SOROCABA",
         "VILA NOVA SOROCABA",
         "5.54",
         1,
         "Basic"
        ],
        [
         "ITATIBA",
         "JD BROTAS",
         "6.61",
         1,
         "Basic"
        ],
        [
         "POUSO ALEGRE",
         "BELA VISTA",
         "5.87",
         1,
         "Basic"
        ],
        [
         "CAMPINAS",
         "CIDADE SATELITE IRIS",
         "5.79",
         1,
         "Basic"
        ],
        [
         "ARAXA",
         "VILA SAO PEDRO",
         "5.68",
         1,
         "Basic"
        ],
        [
         "FOZ DO IGUACU",
         "JARDIM POLO CENTRO",
         "5.77",
         1,
         "Basic"
        ],
        [
         "UNAI",
         "KAMAYURA",
         "5.59",
         1,
         "Basic"
        ],
        [
         "SETE LAGOAS",
         "DISTRITO INDUSTRIAL",
         "5.63",
         2,
         "Basic"
        ],
        [
         "BIRIGUI",
         "CENTRO",
         "5.99",
         3,
         "Basic"
        ],
        [
         "CURITIBA",
         "SAO LOURENCO",
         "5.94",
         1,
         "Basic"
        ],
        [
         "MAUA",
         "JARDIM PEDROSO",
         "6.20",
         1,
         "Basic"
        ],
        [
         "CUIABA",
         "JARDIM PAULISTA",
         "6.09",
         1,
         "Basic"
        ],
        [
         "ARAPIRACA",
         "BOM SUCESSO",
         "5.89",
         1,
         "Basic"
        ],
        [
         "GRAVATAI",
         "VERA CRUZ",
         "5.64",
         1,
         "Basic"
        ],
        [
         "IJUI",
         "SAO GERALDO",
         "6.33",
         1,
         "Basic"
        ],
        [
         "ATIBAIA",
         "ATIBAIA JARDIM",
         "5.89",
         1,
         "Basic"
        ],
        [
         "SOBRAL",
         "DOM EXPEDITO",
         "6.19",
         1,
         "Basic"
        ],
        [
         "DOURADOS",
         "JARDIM ÁGUA BOA",
         "5.83",
         1,
         "Basic"
        ],
        [
         "JANAUBA",
         "SANTO ANTONIO",
         "6.39",
         2,
         "Basic"
        ],
        [
         "BARREIRAS",
         "NOVO HORIZONTE",
         "6.18",
         1,
         "Basic"
        ],
        [
         "VINHEDO",
         "PINHEIRINHO",
         "6.34",
         1,
         "Basic"
        ],
        [
         "MAGE",
         "SANTA DALILA",
         "5.59",
         1,
         "Basic"
        ],
        [
         "CASCAVEL",
         "COQUEIRAL",
         "6.09",
         1,
         "Basic"
        ],
        [
         "MANAUS",
         "SAO JOSE",
         "6.28",
         1,
         "Basic"
        ],
        [
         "DUQUE DE CAXIAS",
         "PARQUE MUISA",
         "5.34",
         1,
         "Basic"
        ],
        [
         "ARAGUAINA",
         "LOTEAMENTO NOVA ARAGUAINA",
         "5.84",
         1,
         "Basic"
        ],
        [
         "RECIFE",
         "IPUTINGA",
         "4.63",
         1,
         "Basic"
        ],
        [
         "CONTAGEM",
         "PETROLANDIA",
         "5.64",
         1,
         "Basic"
        ],
        [
         "IMPERATRIZ",
         "CONJUNTO NOVA VITORIA",
         "6.26",
         1,
         "Basic"
        ],
        [
         "CARIACICA",
         "CAMPO GRANDE",
         "5.42",
         1,
         "Basic"
        ],
        [
         "LUZIANIA",
         "PARQUE INDUSTRIAL MINGONE",
         "5.97",
         2,
         "Basic"
        ],
        [
         "OLINDA",
         "CASA CAIADA",
         "5.45",
         3,
         "Basic"
        ],
        [
         "PARNAMIRIM",
         "PARQUE DAS NACOES",
         "6.19",
         1,
         "Basic"
        ],
        [
         "SAO JOSE DO RIO PRETO",
         "JARDIM PLANALTO",
         "5.49",
         1,
         "Basic"
        ],
        [
         "GARCA",
         "LABIENOPOLIS",
         "5.69",
         3,
         "Basic"
        ],
        [
         "VARZEA PAULISTA",
         "INDUSTRIAL",
         "5.64",
         1,
         "Basic"
        ],
        [
         "PARNAMIRIM",
         "CENTRO",
         "5.65",
         2,
         "Basic"
        ],
        [
         "JUAZEIRO",
         "JOAO XXIII",
         "6.11",
         2,
         "Basic"
        ],
        [
         "CAMPO GRANDE",
         "VILA PROGRESSO",
         "5.90",
         3,
         "Basic"
        ],
        [
         "CONGONHAS",
         "CENTRO",
         "5.84",
         3,
         "Basic"
        ],
        [
         "PARAUAPEBAS",
         "ZONA RURAL",
         "6.45",
         3,
         "Basic"
        ],
        [
         "MONTE CARMELO",
         "CENTRO",
         "5.86",
         3,
         "Basic"
        ],
        [
         "SAO LEOPOLDO",
         "CRISTO REI",
         "5.64",
         1,
         "Basic"
        ],
        [
         "BRUSQUE",
         "SÃO LUIZ",
         "5.64",
         1,
         "Basic"
        ],
        [
         "SOUSA",
         "CENTRO",
         "5.89",
         1,
         "Basic"
        ],
        [
         "ITAPETININGA",
         "VILA RUBENS",
         "6.49",
         1,
         "Basic"
        ],
        [
         "JUNDIAI",
         "VILA ESPERIA",
         "6.29",
         1,
         "Basic"
        ],
        [
         "ANANINDEUA",
         "LEVILANDIA",
         "5.99",
         1,
         "Basic"
        ],
        [
         "ICO",
         "CONJUNTO GAMA",
         "6.33",
         2,
         "Basic"
        ],
        [
         "TERESINA",
         "MEMORARE",
         "5.79",
         1,
         "Basic"
        ],
        [
         "ITAPIPOCA",
         "JULHO II",
         "6.57",
         1,
         "Basic"
        ],
        [
         "JARAGUA DO SUL",
         "CENTRO",
         "5.69",
         1,
         "Basic"
        ],
        [
         "JUNDIAI",
         "VILA VIOTO",
         "5.79",
         1,
         "Basic"
        ],
        [
         "MANAUS",
         "JAPIIM",
         "6.29",
         3,
         "Basic"
        ],
        [
         "PARNAMIRIM",
         "EMAUS",
         "5.79",
         1,
         "Basic"
        ],
        [
         "PAULISTA",
         "CENTRO",
         "5.45",
         2,
         "Basic"
        ],
        [
         "SAO BERNARDO DO CAMPO",
         "DOS CASA",
         "5.91",
         2,
         "Basic"
        ],
        [
         "ALFENAS",
         "JARDIM BOA ESPERANCA III",
         "5.89",
         1,
         "Basic"
        ],
        [
         "DOURADOS",
         "VILA INDUSTRIAL",
         "6.06",
         3,
         "Basic"
        ],
        [
         "CAETITE",
         "RANCHO ALEGRE",
         "6.40",
         2,
         "Basic"
        ],
        [
         "CARAGUATATUBA",
         "PRAIA DAS PALMEIRAS",
         "5.94",
         1,
         "Basic"
        ],
        [
         "OSASCO",
         "CENTRO",
         "5.87",
         3,
         "Basic"
        ],
        [
         "BELO HORIZONTE",
         "BETANIA",
         "5.78",
         1,
         "Basic"
        ],
        [
         "NOVA IGUACU",
         "MIGUEL COUTO",
         "5.94",
         1,
         "Basic"
        ],
        [
         "PORTO FERREIRA",
         "JARDIM PRIMAVERA",
         "5.52",
         1,
         "Basic"
        ],
        [
         "SERRA",
         "PORTO CANOA",
         "5.99",
         1,
         "Basic"
        ],
        [
         "ALEGRETE",
         "SANTOS DUMONT",
         "6.12",
         1,
         "Basic"
        ],
        [
         "LINHARES",
         "SHELL",
         "5.84",
         1,
         "Basic"
        ],
        [
         "CACHOEIRO DE ITAPEMIRIM",
         "MORRO GRANDE",
         "6.24",
         1,
         "Basic"
        ],
        [
         "CAMPINA GRANDE",
         "SANTO ANTONIO",
         "5.54",
         1,
         "Basic"
        ],
        [
         "SAO CAETANO DO SUL",
         "SANTO ANTÔNIO",
         "6.49",
         1,
         "Basic"
        ],
        [
         "CURITIBA",
         "SANTA FELECIDADE",
         "5.49",
         1,
         "Basic"
        ],
        [
         "ICO",
         "NOVO CENTRO",
         "6.19",
         1,
         "Basic"
        ],
        [
         "ANAPOLIS",
         "CENTRO",
         "5.88",
         3,
         "Basic"
        ],
        [
         "DIVINOPOLIS",
         "BOM PASTOR",
         "5.86",
         4,
         "Basic"
        ],
        [
         "BRUSQUE",
         "CENTRO",
         "6.10",
         5,
         "Basic"
        ],
        [
         "CAMPOS DOS GOYTACAZES",
         "CENTRO",
         "5.76",
         7,
         "Basic"
        ],
        [
         "IGUATU",
         "CENTRO",
         "6.12",
         4,
         "Basic"
        ],
        [
         "JALES",
         "ACESSO SP 320",
         "5.78",
         1,
         "Basic"
        ],
        [
         "ANANINDEUA",
         "JARDIM N. ESPERANCA",
         "5.58",
         1,
         "Basic"
        ],
        [
         "JUIZ DE FORA",
         "COSTA CARVALHO",
         "5.19",
         1,
         "Basic"
        ],
        [
         "JUAZEIRO DO NORTE",
         "NOVO JUAZEIRO",
         "6.06",
         1,
         "Basic"
        ],
        [
         "BENTO GONCALVES",
         "MARIA GORETTI",
         "5.79",
         1,
         "Basic"
        ],
        [
         "CABO FRIO",
         "VILA NOVA",
         "6.08",
         2,
         "Basic"
        ],
        [
         "VALPARAISO DE GOIAS",
         "PARQUE ESPLANADA III",
         "5.81",
         1,
         "Basic"
        ],
        [
         "JABOATAO DOS GUARARAPES",
         "VILA RICA",
         "5.67",
         1,
         "Basic"
        ],
        [
         "BRASILIA",
         "AGUAS CLARAS",
         "5.99",
         2,
         "Basic"
        ],
        [
         "RIO BRANCO",
         "EST EXPERIMENTAL",
         "7.10",
         1,
         "Basic"
        ],
        [
         "CAMPINAS",
         "LOTEAMENTO PARQUE SAO MARTINHO",
         "7.78",
         1,
         "Basic"
        ],
        [
         "SAO JOSE DO RIO PRETO",
         "VILA REDENTORA",
         "6.09",
         1,
         "Basic"
        ],
        [
         "CRICIUMA",
         "COLONINHA ZILLI",
         "5.84",
         1,
         "Basic"
        ],
        [
         "CAMPINAS",
         "JARDIM IPIRANGA",
         "5.61",
         1,
         "Basic"
        ],
        [
         "OSASCO",
         "ALIANCA",
         "5.84",
         2,
         "Basic"
        ],
        [
         "MARINGA",
         "ZONA 05",
         "5.77",
         2,
         "Basic"
        ],
        [
         "ITAPIPOCA",
         "DESERTO",
         "6.56",
         1,
         "Basic"
        ],
        [
         "CASTRO",
         "CENTRO",
         "6.05",
         3,
         "Basic"
        ],
        [
         "MAUA",
         "MATRIZ",
         "5.78",
         2,
         "Basic"
        ],
        [
         "IGUATU",
         "AREIAS",
         "6.15",
         3,
         "Basic"
        ],
        [
         "EMBU DAS ARTES",
         "AGUA MORNA",
         "5.77",
         1,
         "Basic"
        ],
        [
         "POCOES",
         "CENTRO",
         "5.69",
         2,
         "Basic"
        ],
        [
         "GUAIBA",
         "CORONEL NASSUCA",
         "5.52",
         1,
         "Basic"
        ],
        [
         "CONTAGEM",
         "INDUSTRIAL",
         "5.64",
         1,
         "Basic"
        ],
        [
         "COTIA",
         "CHACARA DO REFUGIO",
         "6.29",
         1,
         "Basic"
        ],
        [
         "MANAUS",
         "ADRIANOPOLIS",
         "6.29",
         1,
         "Basic"
        ],
        [
         "CACHOEIRO DE ITAPEMIRIM",
         "PARAISO",
         "6.29",
         1,
         "Basic"
        ],
        [
         "CHAPECO",
         "SEMINARIO",
         "5.82",
         1,
         "Basic"
        ],
        [
         "LEME",
         "PARQUE RESIDENCIAL ITAMARATY",
         "5.43",
         1,
         "Basic"
        ],
        [
         "SAO PAULO",
         "VILA NILO",
         "5.46",
         1,
         "Basic"
        ],
        [
         "SAO SEBASTIAO DO PARAISO",
         "CENTRO",
         "5.85",
         3,
         "Basic"
        ],
        [
         "LUZIANIA",
         "PARQUE ESTRELA D'ALVA IX",
         "5.69",
         1,
         "Basic"
        ],
        [
         "VIAMAO",
         "SAO TOME",
         "5.73",
         3,
         "Basic"
        ],
        [
         "PIRACICABA",
         "CIDADE ALTA",
         "6.05",
         1,
         "Basic"
        ],
        [
         "ARCOVERDE",
         "SUCUPIRA",
         "5.74",
         1,
         "Basic"
        ],
        [
         "RIBEIRAO PRETO",
         "ALTO DA BOA VISTA",
         "6.49",
         1,
         "Basic"
        ],
        [
         "SANTO ANDRE",
         "CIDADE SAO JORGE",
         "6.29",
         1,
         "Basic"
        ],
        [
         "LIMEIRA",
         "SITIO SAO JOAO",
         "5.79",
         1,
         "Basic"
        ],
        [
         "PATROCINIO",
         "AREA RURAL DE PATROCINIO",
         "6.19",
         1,
         "Basic"
        ],
        [
         "CRATO",
         "PIMENTA",
         "6.04",
         1,
         "Basic"
        ],
        [
         "CAMPINAS",
         "PONTE PRETA",
         "5.69",
         1,
         "Basic"
        ],
        [
         "PORANGATU",
         "ZONA RURAL",
         "5.72",
         1,
         "Basic"
        ],
        [
         "MARICA",
         "ITAPEBA",
         "5.99",
         3,
         "Basic"
        ],
        [
         "CASCAVEL",
         "SAO CRISTOVAO",
         "5.94",
         1,
         "Basic"
        ],
        [
         "TEOFILO OTONI",
         "SAO DIOGO",
         "5.73",
         2,
         "Basic"
        ],
        [
         "MANAUS",
         "CACHOEIRINHA",
         "6.29",
         2,
         "Basic"
        ],
        [
         "PELOTAS",
         "CENTRO",
         "6.04",
         8,
         "Premium"
        ],
        [
         "GURUPI",
         "SETOR CENTRAL",
         "5.94",
         2,
         "Basic"
        ],
        [
         "NOVA LIMA",
         "OURO VELHO MANSOES",
         "6.19",
         1,
         "Basic"
        ],
        [
         "MANAUS",
         "SAO GERALDO",
         "5.82",
         2,
         "Basic"
        ],
        [
         "PRESIDENTE DUTRA",
         "PARANUA",
         "5.59",
         1,
         "Basic"
        ],
        [
         "BOM DESPACHO",
         "ZONA RURAL",
         "5.64",
         1,
         "Basic"
        ],
        [
         "SAO JOAO DA BOA VISTA",
         "JARDIM SAO NICOLAU",
         "5.72",
         1,
         "Basic"
        ],
        [
         "GRAVATAI",
         "MORADA DO VALE II",
         "5.59",
         1,
         "Basic"
        ],
        [
         "PARAUAPEBAS",
         "VILA RICA",
         "6.78",
         1,
         "Basic"
        ],
        [
         "GUARAPUAVA",
         "TIANON",
         "5.94",
         1,
         "Basic"
        ],
        [
         "ITANHAEM",
         "RENCANTO DAS LARANJEIRAS",
         "5.99",
         1,
         "Basic"
        ],
        [
         "MOGI GUACU",
         "JARDIM NOSSA SENHORA DAS GRACAS",
         "5.81",
         1,
         "Basic"
        ],
        [
         "JUNDIAI",
         "JD ERMIDA II",
         "5.99",
         1,
         "Basic"
        ],
        [
         "MOGI GUACU",
         "VILA LEILA",
         "6.14",
         1,
         "Basic"
        ],
        [
         "ARIQUEMES",
         "SETOR 03",
         "6.10",
         3,
         "Basic"
        ],
        [
         "ITU",
         "CHAFARIS",
         "6.14",
         1,
         "Basic"
        ],
        [
         "MURIAE",
         "FRANCO SUICO",
         "5.89",
         1,
         "Basic"
        ],
        [
         "REDENCAO",
         "CAPUAVA",
         "6.39",
         1,
         "Basic"
        ],
        [
         "CAMPO LARGO",
         "JARDIM SAO VICENTE",
         "5.99",
         1,
         "Basic"
        ],
        [
         "TOLEDO",
         "VILA INDUSTRIAL",
         "5.97",
         3,
         "Basic"
        ],
        [
         "SANTA CRUZ DO SUL",
         "CENTRO",
         "5.98",
         4,
         "Basic"
        ],
        [
         "LIMEIRA",
         "NEREIDE",
         "5.49",
         1,
         "Basic"
        ],
        [
         "CAMETA",
         "NOVO",
         "6.39",
         1,
         "Basic"
        ],
        [
         "UNAI",
         "SETOR DE MANSOES CONCORDIA",
         "5.44",
         1,
         "Basic"
        ],
        [
         "PAULO AFONSO",
         "ALVES DE SOUZA",
         "6.15",
         1,
         "Basic"
        ],
        [
         "BELO HORIZONTE",
         "APARECIDA",
         "5.99",
         1,
         "Basic"
        ],
        [
         "TRINDADE",
         "VILA EMANUEL",
         "5.74",
         1,
         "Basic"
        ],
        [
         "PARANAVAI",
         "JD S DUMONT",
         "5.59",
         1,
         "Basic"
        ],
        [
         "PICOS",
         "IPUEIRAS",
         "5.87",
         1,
         "Basic"
        ],
        [
         "GUARULHOS",
         "CIDADE SERODIO",
         "5.39",
         3,
         "Basic"
        ],
        [
         "PARINTINS",
         "CENTRO",
         "6.89",
         3,
         "Basic"
        ],
        [
         "RIO BRANCO",
         "DISTRITO INDUSTRIAL",
         "7.15",
         2,
         "Basic"
        ],
        [
         "CRATO",
         "CENTRO",
         "5.97",
         1,
         "Basic"
        ],
        [
         "ASSIS CHATEAUBRIAND",
         "CENTRO",
         "5.77",
         5,
         "Basic"
        ],
        [
         "URUGUAIANA",
         "SANTO INACIO",
         "5.88",
         1,
         "Basic"
        ],
        [
         "NOVO HAMBURGO",
         "RINCAO",
         "5.84",
         1,
         "Basic"
        ],
        [
         "RIO DE JANEIRO",
         "BRAZ DE PINA",
         "5.24",
         1,
         "Basic"
        ],
        [
         "CACERES",
         "JARDIM PARAISO",
         "5.77",
         1,
         "Basic"
        ],
        [
         "RIO DE JANEIRO",
         "SÃO CRISTÓVÃO",
         "5.29",
         2,
         "Basic"
        ],
        [
         "JABOATAO DOS GUARARAPES",
         "CURADO II",
         "4.62",
         1,
         "Basic"
        ],
        [
         "PARANAGUA",
         "LEBLON",
         "6.07",
         1,
         "Basic"
        ],
        [
         "ITAUNA",
         "CERQUEIRA LIMA",
         "5.69",
         1,
         "Basic"
        ],
        [
         "SAO JOSE",
         "CENTRO",
         "5.69",
         1,
         "Basic"
        ],
        [
         "VIAMAO",
         "COHAB",
         "5.84",
         1,
         "Basic"
        ],
        [
         "CONCEICAO DO ARAGUAIA",
         "EMERENCIO",
         "6.06",
         1,
         "Basic"
        ],
        [
         "ACAILANDIA",
         "CENTRO",
         "5.75",
         4,
         "Basic"
        ],
        [
         "RESENDE",
         "MANEJO",
         "5.41",
         2,
         "Basic"
        ],
        [
         "ASSIS",
         "CENTRO",
         "5.87",
         2,
         "Basic"
        ],
        [
         "SAO JOSE DO RIO PRETO",
         "DISTR. ENG. SCHIMIDT",
         "5.69",
         1,
         "Basic"
        ],
        [
         "JOINVILLE",
         "CENTRO",
         "5.63",
         2,
         "Basic"
        ],
        [
         "PALMAS",
         "ZONA RURAL",
         "5.60",
         1,
         "Basic"
        ],
        [
         "CAMPO GRANDE",
         "GUANANDI",
         "5.79",
         1,
         "Basic"
        ],
        [
         "EMBU DAS ARTES",
         "JARDIM SANTO EDUARDO",
         "6.89",
         1,
         "Basic"
        ],
        [
         "NITEROI",
         "BALDEADOR",
         "5.64",
         1,
         "Basic"
        ],
        [
         "ITABIRA",
         "ESPLANADA DA ESTACAO",
         "6.37",
         1,
         "Basic"
        ],
        [
         "RIO BRANCO",
         "ALTO ALEGRE",
         "7.14",
         1,
         "Basic"
        ],
        [
         "SUZANO",
         "VILA MARIA DE MAGGI",
         "5.50",
         3,
         "Basic"
        ],
        [
         "CAUCAIA",
         "PARQUE TABAPUA",
         "5.62",
         1,
         "Basic"
        ],
        [
         "CURITIBA",
         "VILA LINDOIA",
         "5.89",
         1,
         "Basic"
        ],
        [
         "RECIFE",
         "ESPINHEIRO",
         "5.89",
         1,
         "Basic"
        ],
        [
         "TUBARAO",
         "HUMAITA",
         "5.62",
         1,
         "Basic"
        ],
        [
         "AMERICANA",
         "VILA SANTA MARIA",
         "5.79",
         1,
         "Basic"
        ],
        [
         "TERESINA",
         "SAO RAIMUNDO",
         "5.64",
         1,
         "Basic"
        ],
        [
         "VIDEIRA",
         "CENTRO",
         "6.22",
         2,
         "Basic"
        ],
        [
         "CARAPICUIBA",
         "VILAS CALDAS",
         "5.79",
         1,
         "Basic"
        ],
        [
         "JUNDIAI",
         "CIDADE NOVA",
         "6.09",
         1,
         "Basic"
        ],
        [
         "TERESOPOLIS",
         "BARRA DO IMBUI",
         "5.99",
         1,
         "Basic"
        ],
        [
         "CAMBE",
         "PERÍMETRO URBANO",
         "6.39",
         1,
         "Basic"
        ],
        [
         "PARA DE MINAS",
         "CENTRO",
         "6.08",
         2,
         "Basic"
        ],
        [
         "PARNAMIRIM",
         "MONTE CASTELO",
         "5.99",
         1,
         "Basic"
        ],
        [
         "REDENCAO",
         "NUCLEO URBANO",
         "5.94",
         1,
         "Basic"
        ],
        [
         "PARAGUACU PAULISTA",
         "VILA AFFINE",
         "5.49",
         1,
         "Basic"
        ],
        [
         "MARABA",
         "CIDADE NOVA",
         "6.07",
         3,
         "Basic"
        ],
        [
         "VARZEA GRANDE",
         "PLANALTO IPIRANGA II",
         "5.93",
         1,
         "Basic"
        ],
        [
         "VACARIA",
         "VENETO",
         "5.84",
         1,
         "Basic"
        ],
        [
         "VOTUPORANGA",
         "JARDIM YOLANDA",
         "5.99",
         1,
         "Basic"
        ],
        [
         "ARAXA",
         "SAO GERALDO",
         "5.85",
         2,
         "Basic"
        ],
        [
         "JABOATAO DOS GUARARAPES",
         "SANTO ALEIXO",
         "5.69",
         1,
         "Basic"
        ],
        [
         "SANTA CRUZ DO SUL",
         "SENAI",
         "5.90",
         2,
         "Basic"
        ],
        [
         "MOSSORO",
         "AEROPORTO",
         "6.00",
         1,
         "Basic"
        ],
        [
         "MANAUS",
         "DISTRITO INDUSTRIAL I",
         "6.29",
         1,
         "Basic"
        ],
        [
         "BAURU",
         "VILA AVIACAO",
         "5.97",
         1,
         "Basic"
        ],
        [
         "RONDONOPOLIS",
         "JARDIM MONTE LIBANO",
         "6.14",
         1,
         "Basic"
        ],
        [
         "MOGI MIRIM",
         "CENTRO",
         "6.02",
         1,
         "Basic"
        ],
        [
         "SAO ROQUE",
         "VILA NOVA SAO ROQUE",
         "5.99",
         1,
         "Basic"
        ],
        [
         "DUQUE DE CAXIAS",
         "PARQUE LAFAITE",
         "5.22",
         1,
         "Basic"
        ],
        [
         "SAO MATEUS",
         "CARAPINA",
         "5.87",
         1,
         "Basic"
        ],
        [
         "ARACATUBA",
         "SAUDADE",
         "6.09",
         1,
         "Basic"
        ],
        [
         "SAO JOSE DO RIO PRETO",
         "ZONA RURAL",
         "5.57",
         3,
         "Basic"
        ],
        [
         "VARZEA GRANDE",
         "NOVA VARZEA GRANDE",
         "6.17",
         1,
         "Basic"
        ],
        [
         "CURITIBA",
         "SAO BRAZ",
         "5.99",
         1,
         "Basic"
        ],
        [
         "UMUARAMA",
         "ZONA IV",
         "5.67",
         1,
         "Basic"
        ],
        [
         "CASTRO",
         "JARDIM DAS ARAUCÁRIAS",
         "5.55",
         1,
         "Basic"
        ],
        [
         "CURITIBA",
         "UBERABA",
         "5.96",
         3,
         "Basic"
        ],
        [
         "INDAIATUBA",
         "JARDIM AMERICA",
         "6.09",
         1,
         "Basic"
        ],
        [
         "SALVADOR",
         "RETIRO",
         "5.88",
         1,
         "Basic"
        ],
        [
         "RIBEIRAO PIRES",
         "VL FIORENTINA",
         "5.99",
         1,
         "Basic"
        ],
        [
         "JOSE BONIFACIO",
         "SAO JOSE",
         "6.35",
         1,
         "Basic"
        ],
        [
         "CAMPINAS",
         "JARDIM DO LAGO",
         "5.79",
         1,
         "Basic"
        ],
        [
         "JUIZ DE FORA",
         "BARREIRA DO TRIUNFO",
         "5.70",
         2,
         "Basic"
        ],
        [
         "ITABIRA",
         "J.K.",
         "6.37",
         1,
         "Basic"
        ],
        [
         "GUARAPARI",
         "PARQUE AREIA PRETA",
         "5.99",
         1,
         "Basic"
        ],
        [
         "CAMPO GRANDE",
         "CARANDA BOSQUE II",
         "5.87",
         1,
         "Basic"
        ],
        [
         "APARECIDA DE GOIANIA",
         "SETOR GARAVELO",
         "5.94",
         1,
         "Basic"
        ],
        [
         "CAMPO GRANDE",
         "AERO RANCHO",
         "5.79",
         1,
         "Basic"
        ],
        [
         "VILA VELHA",
         "SANTA INEZ",
         "4.99",
         1,
         "Basic"
        ],
        [
         "ANAPOLIS",
         "ANDRACEL CENTER",
         "5.79",
         1,
         "Basic"
        ],
        [
         "GUARULHOS",
         "TABOAO",
         "5.94",
         1,
         "Basic"
        ],
        [
         "BELO HORIZONTE",
         "SATELITE",
         "5.79",
         1,
         "Basic"
        ],
        [
         "CUIABA",
         "PASCOAL RAMOS",
         "6.09",
         2,
         "Basic"
        ],
        [
         "PATOS",
         "MORADA DO SOL",
         "6.24",
         1,
         "Basic"
        ],
        [
         "TIMOTEO",
         "FUNCIONARIOS",
         "5.64",
         1,
         "Basic"
        ],
        [
         "JEQUIE",
         "KENNEDY",
         "6.10",
         1,
         "Basic"
        ],
        [
         "UBERABA",
         "SANTA MARIA",
         "5.94",
         3,
         "Basic"
        ],
        [
         "GRAVATAI",
         "BARNABE",
         "5.64",
         1,
         "Basic"
        ],
        [
         "VITORIA",
         "ANDORINHAS",
         "5.46",
         1,
         "Basic"
        ],
        [
         "SAO JOSE DO RIO PRETO",
         "JD PRIMAVERA",
         "5.49",
         1,
         "Basic"
        ],
        [
         "LAJEADO",
         "OLARIAS",
         "5.51",
         1,
         "Basic"
        ],
        [
         "ITABORAI",
         "VENDA DAS PEDRAS",
         "6.01",
         2,
         "Basic"
        ],
        [
         "FORTALEZA",
         "EDSON QUEIROZ",
         "4.99",
         1,
         "Basic"
        ],
        [
         "DIVINOPOLIS",
         "CENTRO",
         "5.89",
         1,
         "Basic"
        ],
        [
         "CAMPINA GRANDE",
         "JARDIM PAULISTANO",
         "5.69",
         1,
         "Basic"
        ],
        [
         "FORMOSA",
         "SETOR NORDESTE",
         "5.98",
         1,
         "Basic"
        ],
        [
         "NOVA FRIBURGO",
         "CENTRO",
         "5.95",
         2,
         "Basic"
        ],
        [
         "GUARATINGUETA",
         "BELVEDERE CLUBE DOS 500",
         "6.25",
         1,
         "Basic"
        ],
        [
         "MINEIROS",
         "LOTEAMENTO CARDOSO",
         "6.06",
         1,
         "Basic"
        ],
        [
         "BRAGANCA PAULISTA",
         "CAMPO NOVO",
         "5.79",
         1,
         "Basic"
        ],
        [
         "LAGARTO",
         "ZONA RURAL",
         "5.74",
         1,
         "Basic"
        ],
        [
         "SANTA CRUZ DO RIO PARDO",
         "CENTRO",
         "5.56",
         3,
         "Basic"
        ],
        [
         "SAO JOSE DO RIO PRETO",
         "VL MACENO",
         "5.99",
         1,
         "Basic"
        ],
        [
         "SAO PAULO",
         "JARDIM SÃO SEBASTIÃO",
         "6.59",
         1,
         "Basic"
        ],
        [
         "TATUI",
         "JARDIM ROSA GARCIA",
         "5.99",
         1,
         "Basic"
        ],
        [
         "RIBEIRAO PRETO",
         "AUTO DA BOA VISTA",
         "5.79",
         1,
         "Basic"
        ],
        [
         "SAQUAREMA",
         "CENTRO",
         "6.29",
         2,
         "Basic"
        ],
        [
         "POA",
         "V STA MARIA",
         "6.19",
         1,
         "Basic"
        ],
        [
         "FRUTAL",
         "ALTO BOA VISTA",
         "5.97",
         1,
         "Basic"
        ],
        [
         "MACAE",
         "RIVIERA FLUMINENSE",
         "6.04",
         1,
         "Basic"
        ],
        [
         "MARILIA",
         "NUCLEO HABITACIONAL NOVA MARILIA",
         "5.59",
         1,
         "Basic"
        ],
        [
         "TOLEDO",
         "JARDIM PORTO ALEGRE",
         "5.73",
         2,
         "Basic"
        ],
        [
         "FOZ DO IGUACU",
         "PORTAL DA FOZ",
         "5.94",
         1,
         "Basic"
        ],
        [
         "BELO HORIZONTE",
         "SERRA VERDE",
         "5.79",
         1,
         "Basic"
        ],
        [
         "CORUMBA",
         "MARIA LEITE",
         "7.38",
         2,
         "Basic"
        ],
        [
         "TEFE",
         "SANTA ROSA",
         "7.79",
         1,
         "Basic"
        ],
        [
         "MATAO",
         "VILA SANTA CRUZ",
         "5.54",
         1,
         "Basic"
        ],
        [
         "CAMPO GRANDE",
         "PARQUE RESIDENCIAL DOS GIRASSOIS",
         "5.79",
         1,
         "Basic"
        ],
        [
         "TRES LAGOAS",
         "JARDIM NOVO AEROPORTO",
         "5.74",
         2,
         "Basic"
        ],
        [
         "PARAUAPEBAS",
         "CIDADE JARDIM",
         "6.30",
         1,
         "Basic"
        ],
        [
         "FEIRA DE SANTANA",
         "CASEB",
         "5.60",
         2,
         "Basic"
        ],
        [
         "RONDONOPOLIS",
         "CENTRO B",
         "6.14",
         1,
         "Basic"
        ],
        [
         "GUAIBA",
         "CENTRO",
         "6.09",
         1,
         "Basic"
        ],
        [
         "NOVO HAMBURGO",
         "PETROPOLIS",
         "5.47",
         1,
         "Basic"
        ],
        [
         "CACHOEIRO DE ITAPEMIRIM",
         "VARGEM GRANDE DO SOTURNO",
         "5.73",
         1,
         "Basic"
        ],
        [
         "PALMAS",
         "AURENY 01",
         "6.02",
         1,
         "Basic"
        ],
        [
         "PIRACICABA",
         "ROLADOR",
         "5.89",
         1,
         "Basic"
        ],
        [
         "NOVA IGUACU",
         "BOTAFOGO",
         "5.36",
         1,
         "Basic"
        ],
        [
         "BIGUACU",
         "MAR DAS PEDRAS",
         "6.25",
         1,
         "Basic"
        ],
        [
         "BELO HORIZONTE",
         "SAO JOAO BATISTA",
         "5.53",
         2,
         "Basic"
        ],
        [
         "CORONEL FABRICIANO",
         "TODOS OS SANTOS",
         "5.63",
         2,
         "Basic"
        ],
        [
         "SAO LUIS",
         "ANIL",
         "5.41",
         5,
         "Basic"
        ],
        [
         "CABO DE SANTO AGOSTINHO",
         "PONTE DOS CARVALHOS",
         "5.39",
         2,
         "Basic"
        ],
        [
         "PASSO FUNDO",
         "BOQUEIRAO",
         "5.94",
         2,
         "Basic"
        ],
        [
         "CANOAS",
         "CENTRO",
         "5.49",
         5,
         "Basic"
        ],
        [
         "RECIFE",
         "IMBIRIBEIRA",
         "5.48",
         6,
         "Basic"
        ],
        [
         "ITANHAEM",
         "CIDADE ANCHIETA",
         "5.79",
         1,
         "Basic"
        ],
        [
         "RIO BRANCO",
         "BOSQUE",
         "7.11",
         1,
         "Basic"
        ],
        [
         "SAO PAULO",
         "CAMPO LIMPO",
         "5.49",
         1,
         "Basic"
        ],
        [
         "ILHEUS",
         "SAO FRANCISCO",
         "6.38",
         1,
         "Basic"
        ],
        [
         "SALGUEIRO",
         "NS APARECIDA",
         "5.54",
         1,
         "Basic"
        ],
        [
         "CAMPINAS",
         "JD. PARAISO VIRACOPOS",
         "5.94",
         1,
         "Basic"
        ],
        [
         "SANTA CRUZ DO RIO PARDO",
         "SERRINHA",
         "5.61",
         1,
         "Basic"
        ],
        [
         "MOSSORO",
         "DOZE ANOS",
         "5.86",
         1,
         "Basic"
        ],
        [
         "MOSSORO",
         "ABOLICAO",
         "5.53",
         1,
         "Basic"
        ],
        [
         "CUBATAO",
         "VILA ELIZABETH",
         "5.65",
         1,
         "Basic"
        ],
        [
         "NOVO HAMBURGO",
         "IDEAL",
         "5.78",
         2,
         "Basic"
        ],
        [
         "SANTA CRUZ DO SUL",
         "GOIAS",
         "5.99",
         1,
         "Basic"
        ],
        [
         "NOVA LIMA",
         "JARDIM CANADA",
         "5.89",
         1,
         "Basic"
        ],
        [
         "TEIXEIRA DE FREITAS",
         "JARDIM CARAIPE",
         "6.24",
         1,
         "Basic"
        ],
        [
         "JUIZ DE FORA",
         "VITORINO BRAGA",
         "5.97",
         1,
         "Basic"
        ],
        [
         "MORRINHOS",
         "SETOR AEROPORTO",
         "5.84",
         2,
         "Basic"
        ],
        [
         "CATALAO",
         "JARDIM PAULISTA",
         "5.79",
         1,
         "Basic"
        ],
        [
         "MONTES CLAROS",
         "EDGAR PEREIRA",
         "5.80",
         2,
         "Basic"
        ],
        [
         "SAO FRANCISCO DE ITABAPOANA",
         "CENTRO",
         "6.44",
         1,
         "Basic"
        ],
        [
         "SANTO ANDRE",
         "CAMPESTRE",
         "6.26",
         3,
         "Basic"
        ],
        [
         "BELEM",
         "VAL-DE-CAES",
         "5.49",
         1,
         "Basic"
        ],
        [
         "TIMOTEO",
         "CENTRO",
         "5.59",
         1,
         "Basic"
        ],
        [
         "FRANCA",
         "JARDIM PAULISTA",
         "5.99",
         1,
         "Basic"
        ],
        [
         "XANXERE",
         "VISTA ALEGRE",
         "5.94",
         1,
         "Basic"
        ],
        [
         "ARACATUBA",
         "DONA AMELIA",
         "5.47",
         1,
         "Basic"
        ],
        [
         "BELO JARDIM",
         "ALTO LIMPO",
         "5.52",
         1,
         "Basic"
        ],
        [
         "ARACATUBA",
         "JD UMUARAMA",
         "6.07",
         1,
         "Basic"
        ],
        [
         "LAGARTO",
         "CENTRO",
         "5.80",
         1,
         "Basic"
        ],
        [
         "INDAIATUBA",
         "CIDADE NOVA",
         "5.89",
         1,
         "Basic"
        ],
        [
         "SAO LUIS",
         "COHAB ANIL I",
         "5.59",
         1,
         "Basic"
        ],
        [
         "OSASCO",
         "KM 18",
         "5.39",
         1,
         "Basic"
        ],
        [
         "APARECIDA DE GOIANIA",
         "CIDADE LIVRE",
         "5.69",
         1,
         "Basic"
        ],
        [
         "GURUPI",
         "CENTRO",
         "5.90",
         3,
         "Basic"
        ],
        [
         "SOROCABA",
         "JARDIM RESIDENCIAL TIVOLI PARK",
         "5.49",
         1,
         "Basic"
        ],
        [
         "RONDONOPOLIS",
         "LA SALLE",
         "6.14",
         1,
         "Basic"
        ],
        [
         "MOSSORO",
         "ALTO DA CONCEICAO",
         "5.85",
         1,
         "Basic"
        ],
        [
         "SAO JOSE DO RIO PRETO",
         "JARDIM AMERICA",
         "5.79",
         1,
         "Basic"
        ],
        [
         "GRAVATAI",
         "BAIRRO MORUNGAVA",
         "5.94",
         1,
         "Basic"
        ],
        [
         "UMUARAMA",
         "JARDIM PANORAMA",
         "5.63",
         1,
         "Basic"
        ],
        [
         "PASSOS",
         "JOAO PAULO II",
         "5.82",
         1,
         "Basic"
        ],
        [
         "SAO JOSE DOS CAMPOS",
         "JARDIM OSWALDO CRUZ",
         "4.49",
         1,
         "Basic"
        ],
        [
         "FLORIANOPOLIS",
         "ESTREITO",
         "5.73",
         2,
         "Basic"
        ],
        [
         "SAO LUIS",
         "CONJ HABITACIONAL VINHAIS",
         "5.59",
         1,
         "Basic"
        ],
        [
         "AGUAS LINDAS DE GOIAS",
         "JARDIM BRASILIA",
         "6.02",
         1,
         "Basic"
        ],
        [
         "COLOMBO",
         "GUARAITUBA",
         "5.81",
         2,
         "Basic"
        ],
        [
         "SAO PAULO",
         "VILA MARIA",
         "6.14",
         1,
         "Basic"
        ],
        [
         "CRATO",
         "SEMINARIO",
         "6.05",
         1,
         "Basic"
        ],
        [
         "ERECHIM",
         "FATIMA",
         "5.99",
         1,
         "Basic"
        ],
        [
         "CAMPO GRANDE",
         "JARDIM TARUMA",
         "5.90",
         1,
         "Basic"
        ],
        [
         "CUIABA",
         "DOM AQUINO",
         "6.24",
         2,
         "Basic"
        ],
        [
         "SAO PAULO",
         "INDIANOPOLIS",
         "6.49",
         1,
         "Basic"
        ],
        [
         "DUQUE DE CAXIAS",
         "VILA ITAMARATI",
         "5.64",
         2,
         "Basic"
        ],
        [
         "CALDAS NOVAS",
         "CENTRO",
         "5.71",
         2,
         "Basic"
        ],
        [
         "OSORIO",
         "PARQUE REAL",
         "6.07",
         1,
         "Basic"
        ],
        [
         "SAO BERNARDO DO CAMPO",
         "PLANALTO",
         "5.83",
         2,
         "Basic"
        ],
        [
         "TABOAO DA SERRA",
         "JD. RECORD",
         "5.99",
         1,
         "Basic"
        ],
        [
         "VIAMAO",
         "SAO LUCAS",
         "5.52",
         1,
         "Basic"
        ],
        [
         "CAMPO GRANDE",
         "MONTE CASTELO",
         "5.73",
         1,
         "Basic"
        ],
        [
         "FORTALEZA",
         "VIL PERY",
         "5.68",
         1,
         "Basic"
        ],
        [
         "VILA VELHA",
         "COBILÂNDIA",
         "5.67",
         1,
         "Basic"
        ],
        [
         "GOIANIA",
         "SETOR COIMBRA",
         "5.79",
         1,
         "Basic"
        ],
        [
         "PARNAMIRIM",
         "COHABINAL",
         "5.89",
         1,
         "Basic"
        ],
        [
         "PRAIA GRANDE",
         "OCIAN",
         "6.22",
         1,
         "Basic"
        ],
        [
         "JUAZEIRO DO NORTE",
         "CENTRO",
         "6.09",
         1,
         "Basic"
        ],
        [
         "SUMARE",
         "JD. NOVA TERRA",
         "5.74",
         1,
         "Basic"
        ],
        [
         "CUIABA",
         "CAMPO VELHO",
         "3.54",
         1,
         "Basic"
        ],
        [
         "SAO JOSE DE RIBAMAR",
         "TRIZIDELA DA MAIOBA",
         "5.59",
         1,
         "Basic"
        ],
        [
         "BAGE",
         "SAO JUDAS",
         "6.54",
         2,
         "Basic"
        ],
        [
         "VICOSA",
         "JOAO BRAZ DA COSTA VAL",
         "5.96",
         2,
         "Basic"
        ],
        [
         "PORTO ALEGRE",
         "NAVEGANTES",
         "5.19",
         1,
         "Basic"
        ],
        [
         "ARARIPINA",
         "ZONA URBANA",
         "5.87",
         1,
         "Basic"
        ],
        [
         "MAUA",
         "JD ZAIRA",
         "6.29",
         1,
         "Basic"
        ],
        [
         "GOVERNADOR VALADARES",
         "VILA RICA",
         "5.99",
         1,
         "Basic"
        ],
        [
         "LEOPOLDINA",
         "CENTRO",
         "5.87",
         3,
         "Basic"
        ],
        [
         "BEBEDOURO",
         "JARDIM JULIA",
         "5.47",
         1,
         "Basic"
        ],
        [
         "PELOTAS",
         "AREAL",
         "6.09",
         6,
         "Basic"
        ],
        [
         "CAMPO LARGO",
         "CENTRO",
         "5.72",
         2,
         "Basic"
        ],
        [
         "CATANDUVA",
         "CENTRO",
         "6.05",
         3,
         "Basic"
        ],
        [
         "TRES LAGOAS",
         "JARDIM ALVORADA",
         "5.91",
         2,
         "Basic"
        ],
        [
         "SAO JOAO DEL REI",
         "MATOSINHOS",
         "5.74",
         2,
         "Basic"
        ],
        [
         "VOTUPORANGA",
         "JARDIM SAO JUDAS TADEU",
         "6.02",
         1,
         "Basic"
        ],
        [
         "ARARAS",
         "JARDIM ANHANGUERA",
         "5.83",
         1,
         "Basic"
        ],
        [
         "SAO PAULO",
         "BOSQUE DA SAUDE",
         "6.52",
         1,
         "Basic"
        ],
        [
         "AGUAS LINDAS DE GOIAS",
         "CAMPING CLUBE",
         "6.19",
         1,
         "Basic"
        ],
        [
         "JATAI",
         "SETOR EPAMINONDAS I",
         "5.69",
         1,
         "Basic"
        ],
        [
         "SAO PAULO",
         "JD NS DO CARMO",
         "6.59",
         1,
         "Basic"
        ],
        [
         "CRICIUMA",
         "RIO MAINA",
         "5.84",
         1,
         "Basic"
        ],
        [
         "IGARASSU",
         "IGARASSU",
         "5.74",
         1,
         "Basic"
        ],
        [
         "PARACATU",
         "PARACATUZINHO",
         "6.14",
         2,
         "Basic"
        ],
        [
         "PALMAS",
         "PLANO DIRETOR SUL",
         "5.59",
         4,
         "Basic"
        ],
        [
         "CRUZ ALTA",
         "BONINI",
         "5.99",
         1,
         "Basic"
        ],
        [
         "MARINGA",
         "VILA MARUMBI",
         "5.87",
         1,
         "Basic"
        ],
        [
         "BARRETOS",
         "FORTALEZA",
         "5.59",
         1,
         "Basic"
        ],
        [
         "JUAZEIRO",
         "SANTO ANTONIO",
         "6.44",
         2,
         "Basic"
        ],
        [
         "IMPERATRIZ",
         "CENTRO",
         "5.96",
         2,
         "Basic"
        ],
        [
         "SAO PAULO",
         "JARDIM ELEDY",
         "5.38",
         1,
         "Basic"
        ],
        [
         "SAO PAULO",
         "VILA VERA",
         "5.39",
         1,
         "Basic"
        ],
        [
         "ITUMBIARA",
         "SETOR SANTA RITA",
         "5.54",
         1,
         "Basic"
        ],
        [
         "MARINGA",
         "ZONA 04",
         "5.54",
         1,
         "Basic"
        ],
        [
         "DOURADOS",
         "VILA PLANALTO",
         "5.94",
         1,
         "Basic"
        ],
        [
         "MOGI DAS CRUZES",
         "JARDIM ARACY",
         "5.94",
         1,
         "Basic"
        ],
        [
         "JUNDIAI",
         "VILA RAMI",
         "4.94",
         1,
         "Basic"
        ],
        [
         "CAMPINA GRANDE",
         "DINAMERICA",
         "5.74",
         1,
         "Basic"
        ],
        [
         "MARINGA",
         "PARQUE RESIDENCIAL TUIUTI",
         "5.98",
         1,
         "Basic"
        ],
        [
         "PASSOS",
         "JD. PROGRESSO",
         "5.42",
         1,
         "Basic"
        ],
        [
         "SETE LAGOAS",
         null,
         "5.64",
         1,
         "Basic"
        ],
        [
         "BRASILIA",
         "SAMAMBAIA",
         "5.78",
         9,
         "Premium"
        ],
        [
         "DUQUE DE CAXIAS",
         "CHACARA RIO PETROPOLIS",
         "5.29",
         1,
         "Basic"
        ],
        [
         "LAJEADO",
         "HIDRAULICA",
         "5.59",
         1,
         "Basic"
        ],
        [
         "BELEM",
         "CONDOR",
         "5.90",
         1,
         "Basic"
        ],
        [
         "CONCORDIA",
         "CENTRO",
         "6.31",
         3,
         "Basic"
        ],
        [
         "JOSE BONIFACIO",
         "VILA SAUDADE",
         "5.65",
         1,
         "Basic"
        ],
        [
         "UBERLANDIA",
         "PRESIDENTE ROOSEVELT",
         "5.68",
         2,
         "Basic"
        ],
        [
         "CONTAGEM",
         "PARQUE RECREIO",
         "5.72",
         2,
         "Basic"
        ],
        [
         "ALTAMIRA",
         "MUTIRAO",
         "6.51",
         1,
         "Basic"
        ],
        [
         "FRANCA",
         "VILA SANTA TEREZINHA",
         "5.49",
         1,
         "Basic"
        ],
        [
         "SANTA MARIA",
         "PATRONATO",
         "6.40",
         3,
         "Basic"
        ],
        [
         "AGUAS LINDAS DE GOIAS",
         "JARDIM GUAIRA II",
         "6.29",
         1,
         "Basic"
        ],
        [
         "SOROCABA",
         "ZONA INDUSTRIAL",
         "5.64",
         1,
         "Basic"
        ],
        [
         "CACOAL",
         "TEIXEIRAO",
         "6.22",
         1,
         "Basic"
        ],
        [
         "FORTALEZA",
         "DIONISIO TORRES",
         "5.84",
         1,
         "Basic"
        ],
        [
         "ALEGRETE",
         "BAIRRO NOVA BRASILIA",
         "6.12",
         1,
         "Basic"
        ],
        [
         "CASCAVEL",
         "ALTO ALEGRE",
         "5.99",
         1,
         "Basic"
        ],
        [
         "PAULINIA",
         "BETEL",
         "5.99",
         1,
         "Basic"
        ],
        [
         "COTIA",
         "OUTEIRO DE PASSARGADA",
         "6.09",
         1,
         "Basic"
        ],
        [
         "PETROLINA",
         "JARDIM MARAVILHA",
         "6.19",
         1,
         "Basic"
        ],
        [
         "PIRACICABA",
         "VILA AREAO",
         "5.49",
         1,
         "Basic"
        ],
        [
         "SAO PAULO",
         "JD SAPOPEMBA",
         "5.89",
         1,
         "Basic"
        ],
        [
         "JUNDIAI",
         "MEDEIROS",
         "6.15",
         2,
         "Basic"
        ],
        [
         "CURITIBA",
         "CENTRO",
         "5.44",
         1,
         "Basic"
        ],
        [
         "REDENCAO",
         "ENTRONCAMENTO",
         "6.17",
         1,
         "Basic"
        ],
        [
         "JUNDIAI",
         "VILA DAS HORTENCIAS",
         "5.73",
         1,
         "Basic"
        ],
        [
         "ACAILANDIA",
         "RESIDENCIAL WR",
         "5.84",
         1,
         "Basic"
        ],
        [
         "SAQUAREMA",
         "PRAIA SECA",
         "6.50",
         1,
         "Basic"
        ],
        [
         "FORTALEZA",
         "JANGURUSSU",
         "6.03",
         3,
         "Basic"
        ],
        [
         "CAMPINA GRANDE",
         "DISTRITO MECANICOS",
         "5.94",
         1,
         "Basic"
        ],
        [
         "CAMPINA GRANDE",
         "VILA CABRAL",
         "5.52",
         1,
         "Basic"
        ],
        [
         "PORTO SEGURO",
         "CENTRO",
         "6.83",
         1,
         "Basic"
        ],
        [
         "SAO PAULO",
         "VILA  EMA",
         "5.69",
         1,
         "Basic"
        ],
        [
         "PARNAIBA",
         "SAO JUDAS TADEU",
         "5.79",
         1,
         "Basic"
        ],
        [
         "COTIA",
         "JARDIM SAO VICENTE",
         "5.65",
         1,
         "Basic"
        ],
        [
         "PASSO FUNDO",
         "SAO CRISTOVAO",
         "5.99",
         1,
         "Basic"
        ],
        [
         "SAO SEBASTIAO DO PARAISO",
         "VIDA DALVA",
         "5.80",
         1,
         "Basic"
        ],
        [
         "CONTAGEM",
         "AGUA BRANCA",
         "5.69",
         1,
         "Basic"
        ],
        [
         "CASCAVEL",
         "CENTRO",
         "5.95",
         18,
         "VIP"
        ],
        [
         "MONTE ALTO",
         "CENTENARIO",
         "5.47",
         1,
         "Basic"
        ],
        [
         "VALPARAISO DE GOIAS",
         "SETOR DE CHACARAS ANHANGUERA B",
         "5.67",
         1,
         "Basic"
        ],
        [
         "CONSELHEIRO LAFAIETE",
         "SAO DIMAS",
         "5.69",
         1,
         "Basic"
        ],
        [
         "CURITIBA",
         "REBOUCAS",
         "5.83",
         3,
         "Basic"
        ],
        [
         "ITAPETININGA",
         "TUPI",
         "5.46",
         1,
         "Basic"
        ],
        [
         "TERESINA",
         "FATIMA",
         "5.95",
         1,
         "Basic"
        ],
        [
         "SAO PAULO",
         "PARI",
         "4.75",
         2,
         "Basic"
        ],
        [
         "JOAO PESSOA",
         "TAMBIÁ",
         "5.53",
         1,
         "Basic"
        ],
        [
         "BARUERI",
         "JARDIM JULIO",
         "5.54",
         1,
         "Basic"
        ],
        [
         "LAGUNA",
         "MAGALHAES",
         "6.05",
         1,
         "Basic"
        ],
        [
         "CALDAS NOVAS",
         "JARDIM BELVEDERE",
         "5.95",
         1,
         "Basic"
        ],
        [
         "VITORIA DA CONQUISTA",
         "CANDEIAS",
         "5.82",
         2,
         "Basic"
        ],
        [
         "UBERABA",
         "NOSSA SENHORA DA ABADIA",
         "5.69",
         1,
         "Basic"
        ],
        [
         "MONTES CLAROS",
         "ALTO SÃO JOÃO",
         "5.98",
         1,
         "Basic"
        ],
        [
         "CHAPECO",
         "QUEDAS DO PALMITAL",
         "5.58",
         1,
         "Basic"
        ],
        [
         "CAMPINAS",
         "PARQUE VALENCA II",
         "7.78",
         1,
         "Basic"
        ],
        [
         "RESENDE",
         "ITAPUCA",
         "6.19",
         2,
         "Basic"
        ],
        [
         "ITAUNA",
         "GRACAS",
         "5.89",
         1,
         "Basic"
        ],
        [
         "CAMACARI",
         "JARDIM LIMOEIRO",
         "6.16",
         1,
         "Basic"
        ],
        [
         "SAO BERNARDO DO CAMPO",
         "PQ. TERRA NOVA",
         "5.69",
         1,
         "Basic"
        ],
        [
         "DUQUE DE CAXIAS",
         "JARDIM BOA VISTA II",
         "5.22",
         1,
         "Basic"
        ],
        [
         "MACAPA",
         "CENTRAL",
         "6.38",
         3,
         "Basic"
        ],
        [
         "ALFENAS",
         "JARDIM ELITE",
         "5.86",
         1,
         "Basic"
        ],
        [
         "PAULINIA",
         "JARDIM AMERICA",
         "5.74",
         1,
         "Basic"
        ],
        [
         "PARNAIBA",
         "BOA ESPERANCA",
         "6.19",
         1,
         "Basic"
        ],
        [
         "ALVORADA",
         "BELA VISTA",
         "5.74",
         2,
         "Basic"
        ],
        [
         "JAU",
         "JARDIM FERREIRA DIAS",
         "5.94",
         1,
         "Basic"
        ],
        [
         "PIMENTA BUENO",
         "SETOR INDUSTRIAL",
         "6.08",
         1,
         "Basic"
        ],
        [
         "IPATINGA",
         "BOM RETIRO",
         "5.62",
         1,
         "Basic"
        ],
        [
         "SALVADOR",
         "PITUACU",
         "6.24",
         2,
         "Basic"
        ],
        [
         "TUPA",
         "VILA INGLESA",
         "5.99",
         1,
         "Basic"
        ],
        [
         "FEIRA DE SANTANA",
         "PEDRA DO DESCANSO",
         "6.00",
         2,
         "Basic"
        ],
        [
         "SAO BERNARDO DO CAMPO",
         "PARQUE DOS PASSAROS",
         "5.99",
         1,
         "Basic"
        ],
        [
         "SAO JOAO DA BOA VISTA",
         "BELA VISTA",
         "6.14",
         1,
         "Basic"
        ],
        [
         "ARAPIRACA",
         "PLANALTO",
         "6.05",
         2,
         "Basic"
        ],
        [
         "PIRIPIRI",
         "RUSSINHA",
         "6.22",
         1,
         "Basic"
        ],
        [
         "GARANHUNS",
         "SANTO ANTONIO",
         "5.54",
         1,
         "Basic"
        ],
        [
         "VARGINHA",
         "REZENDE",
         "5.97",
         1,
         "Basic"
        ],
        [
         "JACAREI",
         "PARQUE BRASIL",
         "5.77",
         1,
         "Basic"
        ],
        [
         "VITORIA",
         "GURIGICA",
         "5.85",
         1,
         "Basic"
        ],
        [
         "MARILIA",
         "ADOLPHO BIM",
         "5.99",
         1,
         "Basic"
        ],
        [
         "APARECIDA DE GOIANIA",
         "SITIOS SANTA LUZIA",
         "5.74",
         1,
         "Basic"
        ],
        [
         "XINGUARA",
         "MARAJOARA",
         "6.09",
         1,
         "Basic"
        ],
        [
         "CANINDE",
         "SANTA LUZIA",
         "6.09",
         1,
         "Basic"
        ],
        [
         "SAO PAULO",
         "VARZEA DA BARRA FUNDA",
         "5.59",
         1,
         "Basic"
        ],
        [
         "DOURADOS",
         "JARDIM CARAMURU",
         "5.98",
         2,
         "Basic"
        ],
        [
         "BAGE",
         "GETULIO VARGAS",
         "6.70",
         3,
         "Basic"
        ],
        [
         "POUSO ALEGRE",
         "CRUZ ALTA",
         "5.64",
         1,
         "Basic"
        ],
        [
         "CURITIBA",
         "PILARZINHO",
         "5.96",
         3,
         "Basic"
        ],
        [
         "SALGUEIRO",
         "NOSSA SENHORA APAREC",
         "5.57",
         1,
         "Basic"
        ],
        [
         "CONSELHEIRO LAFAIETE",
         "SANTA CRUZ",
         "5.54",
         1,
         "Basic"
        ],
        [
         "SAO CAETANO DO SUL",
         "VL BARCELONA",
         "5.44",
         1,
         "Basic"
        ],
        [
         "FORTALEZA",
         "BOM JARDIM",
         "5.75",
         1,
         "Basic"
        ],
        [
         "SAO LUIS",
         "VILA BACANGA",
         "5.57",
         2,
         "Basic"
        ],
        [
         "UBERLANDIA",
         "TIBERY",
         "5.59",
         2,
         "Basic"
        ],
        [
         "SANTO ANTONIO DE PADUA",
         "PRIMEIRO",
         "5.99",
         1,
         "Basic"
        ],
        [
         "ARACATUBA",
         "JARDIM NOVA IORQUE",
         "6.29",
         1,
         "Basic"
        ],
        [
         "PINDAMONHANGABA",
         "SOCORRO",
         "5.69",
         1,
         "Basic"
        ],
        [
         "CANOAS",
         "NOSSA SENHORA DAS GRACAS",
         "5.99",
         1,
         "Basic"
        ],
        [
         "CONTAGEM",
         "NOVO ELDORADO",
         "5.69",
         1,
         "Basic"
        ],
        [
         "CUIABA",
         "JD. PETROPOLIS",
         "6.19",
         1,
         "Basic"
        ],
        [
         "APARECIDA DE GOIANIA",
         "INDEPENDENCIA",
         "5.59",
         1,
         "Basic"
        ],
        [
         "SAPUCAIA DO SUL",
         "NOVA SAPUCAIA",
         "5.56",
         1,
         "Basic"
        ],
        [
         "OSASCO",
         "JD BARONEZA",
         "5.89",
         1,
         "Basic"
        ],
        [
         "CAXIAS DO SUL",
         "CHARQUEADAS",
         "6.04",
         1,
         "Basic"
        ],
        [
         "SAO VICENTE",
         "JARDIM PARAISO",
         "5.94",
         1,
         "Basic"
        ],
        [
         "SAO LEOPOLDO",
         "CENTRO",
         "5.07",
         2,
         "Basic"
        ],
        [
         "RECIFE",
         "CAMPO GRANDE",
         "5.44",
         2,
         "Basic"
        ],
        [
         "CAMPO GRANDE",
         "TIRADENTES",
         "5.90",
         2,
         "Basic"
        ],
        [
         "SOROCABA",
         "NOVA SOROCABA",
         "5.89",
         1,
         "Basic"
        ],
        [
         "CRUZEIRO DO SUL",
         "COPACABANA",
         "7.66",
         2,
         "Basic"
        ],
        [
         "SANTA MARIA",
         "NOSSA SRA DE LOURDES",
         "5.89",
         1,
         "Basic"
        ],
        [
         "PORTO VELHO",
         "SAO CRISTOVAO",
         "6.59",
         1,
         "Basic"
        ],
        [
         "BOA VISTA",
         "PRICUMA",
         "6.42",
         1,
         "Basic"
        ],
        [
         "JABOTICABAL",
         "CENTRO",
         "5.69",
         2,
         "Basic"
        ],
        [
         "PIRASSUNUNGA",
         "JARDIM SANTA RITA",
         "6.19",
         1,
         "Basic"
        ],
        [
         "JUIZ DE FORA",
         "CENTRO",
         "5.52",
         3,
         "Basic"
        ],
        [
         "TOLEDO",
         "VILA PANORAMA",
         "5.62",
         1,
         "Basic"
        ],
        [
         "JUAZEIRO",
         "ALTO DA MARAVILHA",
         "6.19",
         2,
         "Basic"
        ],
        [
         "CORONEL FABRICIANO",
         "CALADINHO",
         "5.76",
         1,
         "Basic"
        ],
        [
         "PIRACICABA",
         "JARDIM PAULICEIA",
         "5.39",
         1,
         "Basic"
        ],
        [
         "BRUMADO",
         "DR JURACY",
         "5.94",
         1,
         "Basic"
        ],
        [
         "PARNAIBA",
         "SÃO FRANCISCO DA GUARITA",
         "5.69",
         1,
         "Basic"
        ],
        [
         "NOSSA SENHORA DO SOCORRO",
         "CENTRO",
         "6.29",
         1,
         "Basic"
        ],
        [
         "CATANDUVA",
         "VILA JUCA PEDRO",
         "6.19",
         1,
         "Basic"
        ],
        [
         "SAO JOSE DOS CAMPOS",
         "PERNAMBUCANA",
         "6.29",
         1,
         "Basic"
        ],
        [
         "CAUCAIA",
         "BOQUEIRAO DO ARARA",
         "5.19",
         1,
         "Basic"
        ],
        [
         "OURO PRETO",
         "PILAR",
         "5.69",
         1,
         "Basic"
        ],
        [
         "BLUMENAU",
         "VORSTADT",
         "6.24",
         1,
         "Basic"
        ],
        [
         "CATANDUVA",
         "PARQUE FLAMINGO",
         "5.99",
         1,
         "Basic"
        ],
        [
         "MOGI GUACU",
         "JD. GUACU MIRIM",
         "5.47",
         1,
         "Basic"
        ],
        [
         "BALNEARIO CAMBORIU",
         "CENTRO",
         "6.34",
         2,
         "Basic"
        ],
        [
         "SETE LAGOAS",
         "SAO GERALDO",
         "5.26",
         2,
         "Basic"
        ],
        [
         "ACAILANDIA",
         "PEQUIA",
         "5.69",
         1,
         "Basic"
        ],
        [
         "CANOAS",
         "NITEROI",
         "5.70",
         3,
         "Basic"
        ],
        [
         "SENHOR DO BONFIM",
         "CONTORNO",
         "6.40",
         1,
         "Basic"
        ],
        [
         "CACHOEIRA DO SUL",
         "DREWS",
         "5.85",
         1,
         "Basic"
        ],
        [
         "COXIM",
         "FLAVIO GARCIA",
         "6.02",
         2,
         "Basic"
        ],
        [
         "GRAVATAI",
         "VILA BRANCA",
         "5.71",
         1,
         "Basic"
        ],
        [
         "ANAPOLIS",
         "JARDIM DAS AMERICAS III ETAPA",
         "5.94",
         1,
         "Basic"
        ],
        [
         "CASCAVEL",
         "SANTOS DUMONT",
         "5.84",
         1,
         "Basic"
        ],
        [
         "MONTE CARMELO",
         "BOA VISTA",
         "5.69",
         1,
         "Basic"
        ],
        [
         "OSASCO",
         "JD DAS FLORES",
         "6.59",
         1,
         "Basic"
        ],
        [
         "BETIM",
         "CHACARA",
         "5.74",
         1,
         "Basic"
        ],
        [
         "NITEROI",
         "SAO FRANCISCO",
         "5.03",
         1,
         "Basic"
        ],
        [
         "SANTA MARIA",
         "PRESIDENTE JOAO GOULART",
         "6.09",
         2,
         "Basic"
        ],
        [
         "FORTALEZA",
         "JANGURUSSU/MESSEJANA",
         "5.69",
         1,
         "Basic"
        ],
        [
         "COLOMBO",
         "ATUBA",
         "5.55",
         2,
         "Basic"
        ],
        [
         "GUARATINGUETA",
         "ENGENHEIRO NEIVA",
         "6.14",
         1,
         "Basic"
        ],
        [
         "FORTALEZA",
         "MONTE CASTELO",
         "6.19",
         1,
         "Basic"
        ],
        [
         "VICOSA",
         "CENTRO",
         "6.22",
         2,
         "Basic"
        ],
        [
         "RIO DE JANEIRO",
         "REALENGO",
         "4.19",
         1,
         "Basic"
        ],
        [
         "DELMIRO GOUVEIA",
         "CENTRO",
         "6.78",
         6,
         "Basic"
        ],
        [
         "PATO BRANCO",
         "CENTRO",
         "5.99",
         2,
         "Basic"
        ],
        [
         "VILHENA",
         "CENTRO",
         "6.34",
         4,
         "Basic"
        ],
        [
         "SUMARE",
         "PQ.RES.M.VASCONCELOS",
         "5.55",
         1,
         "Basic"
        ],
        [
         "SUMARE",
         "JARDIM NOVA TERRA (NOVA VENEZA)",
         "5.44",
         1,
         "Basic"
        ],
        [
         "CACAPAVA",
         "BAIRRO DO GRAMA",
         "5.44",
         1,
         "Basic"
        ],
        [
         "VINHEDO",
         "SAO JOAQUIM",
         "6.14",
         1,
         "Basic"
        ],
        [
         "MOSSORO",
         "PLANALTO TREZE DE MAIO",
         "5.79",
         1,
         "Basic"
        ],
        [
         "MOSSORO",
         "DIX-SEPT ROSADO",
         "5.94",
         1,
         "Basic"
        ],
        [
         "RIO DE JANEIRO",
         "BANGU",
         "5.22",
         2,
         "Basic"
        ],
        [
         "UBERABA",
         "ABADIA",
         "5.99",
         1,
         "Basic"
        ],
        [
         "PIRIPIRI",
         "PACIENCIA",
         "6.09",
         1,
         "Basic"
        ],
        [
         "ATIBAIA",
         "ALVINOPOLIS",
         "5.87",
         1,
         "Basic"
        ],
        [
         "ATIBAIA",
         "JARDIM DAS CEREJEIRAS",
         "6.29",
         1,
         "Basic"
        ],
        [
         "VITORIA DA CONQUISTA",
         "BRASIL",
         "6.08",
         2,
         "Basic"
        ],
        [
         "CRATO",
         "PINTO MADEIRA",
         "6.10",
         1,
         "Basic"
        ],
        [
         "JABOTICABAL",
         "CIDADE JARDIM",
         "5.94",
         1,
         "Basic"
        ],
        [
         "APARECIDA DE GOIANIA",
         "ST GARAVELO",
         "5.64",
         1,
         "Basic"
        ],
        [
         "GOIANIA",
         "VL STA EFIGENIA",
         "5.94",
         1,
         "Basic"
        ],
        [
         "POA",
         "CENTRO",
         "5.64",
         1,
         "Basic"
        ],
        [
         "BRUSQUE",
         "STEFFEN",
         "6.25",
         1,
         "Basic"
        ],
        [
         "BAYEUX",
         "SESI",
         "5.35",
         2,
         "Basic"
        ],
        [
         "SAQUAREMA",
         "JACONE (SAMPAIO CORREIA)",
         "6.89",
         1,
         "Basic"
        ],
        [
         "PELOTAS",
         "TRES VENDAS",
         "6.04",
         9,
         "Premium"
        ],
        [
         "JUAZEIRO",
         "CENTRO",
         "6.14",
         5,
         "Basic"
        ],
        [
         "PRAIA GRANDE",
         "JARDIM ALOHA",
         "5.99",
         1,
         "Basic"
        ],
        [
         "SALVADOR",
         "PERIPERI",
         "5.99",
         1,
         "Basic"
        ],
        [
         "UBERLANDIA",
         "MORUMBI",
         "5.98",
         1,
         "Basic"
        ],
        [
         "COXIM",
         "ZONA SUBURBANA",
         "5.82",
         1,
         "Basic"
        ],
        [
         "ANAPOLIS",
         "V STA MARIA NAZARE",
         "5.79",
         1,
         "Basic"
        ],
        [
         "VITORIA",
         "PRAIA DO SUA",
         "7.99",
         1,
         "Basic"
        ],
        [
         "ANANINDEUA",
         "AGUA BRANCA",
         "7.79",
         1,
         "Basic"
        ],
        [
         "ITACOATIARA",
         "ARAÚJO COSTA",
         "7.09",
         1,
         "Basic"
        ],
        [
         "PATOS",
         "BELO HORIZONTE",
         "6.20",
         2,
         "Basic"
        ],
        [
         "PETROLINA",
         "MARIA AUXILIADORA",
         "6.27",
         1,
         "Basic"
        ],
        [
         "SAO CARLOS",
         "MARIA STELA FAGA",
         "5.61",
         1,
         "Basic"
        ],
        [
         "TEIXEIRA DE FREITAS",
         "ALAGOAS",
         "6.29",
         1,
         "Basic"
        ],
        [
         "VALENCA",
         "SAO FELIX",
         "5.95",
         3,
         "Basic"
        ],
        [
         "BRAGANCA PAULISTA",
         "JARDIM SANTA LUZIA",
         "6.84",
         1,
         "Basic"
        ],
        [
         "CACAPAVA",
         "PIEDADE",
         "5.57",
         1,
         "Basic"
        ],
        [
         "GRAVATAI",
         "SAO GERALDO",
         "5.94",
         1,
         "Basic"
        ],
        [
         "LINS",
         "RESIDENC. FORTALEZA",
         "6.08",
         1,
         "Basic"
        ],
        [
         "ITUIUTABA",
         "CENTRO",
         "5.95",
         6,
         "Basic"
        ],
        [
         "ALVORADA",
         "TIJUCA",
         "5.49",
         1,
         "Basic"
        ],
        [
         "GOIANIA",
         "JARDIM EUROPA",
         "5.69",
         5,
         "Basic"
        ],
        [
         "MOSSORO",
         "REDENCAO",
         "5.69",
         1,
         "Basic"
        ],
        [
         "BALSAS",
         "POTOSI",
         "6.67",
         1,
         "Basic"
        ],
        [
         "BELO HORIZONTE",
         "SION",
         "6.09",
         2,
         "Basic"
        ],
        [
         "GUARULHOS",
         "JARDIM PRESIDENTE DUTRA",
         "6.29",
         3,
         "Basic"
        ],
        [
         "GUARULHOS",
         "CENTRO",
         "6.86",
         2,
         "Basic"
        ],
        [
         "SIMOES FILHO",
         "SEDE",
         "5.27",
         1,
         "Basic"
        ],
        [
         "PASSO FUNDO",
         "JOSE ALEXANDRE ZACHIA",
         "6.04",
         1,
         "Basic"
        ],
        [
         "MOGI DAS CRUZES",
         "ALTO DO IPIRANGA",
         "6.49",
         1,
         "Basic"
        ],
        [
         "SALTO",
         "PORTO GOES",
         "5.82",
         1,
         "Basic"
        ],
        [
         "LAGUNA",
         "PROGRESSO",
         "5.99",
         1,
         "Basic"
        ],
        [
         "MANAUS",
         "DISTRITO INDUSTRIAL",
         "6.21",
         1,
         "Basic"
        ],
        [
         "CARUARU",
         "DISTRITO INDUSTRIAL",
         "5.55",
         1,
         "Basic"
        ],
        [
         "TERESOPOLIS",
         "SANTA ROSA",
         "5.19",
         1,
         "Basic"
        ],
        [
         "ANGRA DOS REIS",
         "PARQUE PEREQUE (MAMBUCABA)",
         "6.89",
         1,
         "Basic"
        ],
        [
         "MACEIO",
         "JARDIM PETROPOLIS",
         "5.59",
         1,
         "Basic"
        ],
        [
         "ITABUNA",
         "LOMANTO JUNIOR",
         "5.69",
         1,
         "Basic"
        ],
        [
         "GOIATUBA",
         "ZONA RURAL",
         "5.44",
         1,
         "Basic"
        ],
        [
         "CACADOR",
         "CENTRO",
         "6.22",
         3,
         "Basic"
        ],
        [
         "XINGUARA",
         "CENTRO",
         "6.04",
         2,
         "Basic"
        ],
        [
         "JUAZEIRO DO NORTE",
         "TRES MARIAS",
         "5.92",
         1,
         "Basic"
        ],
        [
         "BELO HORIZONTE",
         "CACHOEIRINHA",
         "4.89",
         1,
         "Basic"
        ],
        [
         "VINHEDO",
         "SANTA CLAUDINA",
         "5.55",
         1,
         "Basic"
        ],
        [
         "PARAISO DO TOCANTINS",
         "CENTRO",
         "5.71",
         3,
         "Basic"
        ],
        [
         "NOVA LIMA",
         "CHACARA BOM RETIRO",
         "5.94",
         1,
         "Basic"
        ],
        [
         "VOLTA REDONDA",
         "NITEROI",
         "6.59",
         1,
         "Basic"
        ],
        [
         "CARUARU",
         "UNIVERSITÁRIO",
         "5.52",
         1,
         "Basic"
        ],
        [
         "SAO PAULO",
         "ITAIM PAULISTA",
         "5.39",
         1,
         "Basic"
        ],
        [
         "RECIFE",
         "IBURA",
         "5.76",
         1,
         "Basic"
        ],
        [
         "TATUI",
         "VILA BRASIL",
         "5.94",
         1,
         "Basic"
        ],
        [
         "SANTA CRUZ DO CAPIBARIBE",
         "CENTRO",
         "5.87",
         1,
         "Basic"
        ],
        [
         "SANTO ANDRE",
         "PARQUE JOAO RAMALHO",
         "5.98",
         1,
         "Basic"
        ],
        [
         "JANUARIA",
         "VILA BRASILINA",
         "6.12",
         1,
         "Basic"
        ],
        [
         "OLIVEIRA",
         "PERIMETRO DE EXPANSAO URBANA",
         "5.78",
         1,
         "Basic"
        ],
        [
         "JOAO PESSOA",
         "OITIZEIRO",
         "5.89",
         1,
         "Basic"
        ],
        [
         "JUAZEIRO DO NORTE",
         "ROMEIRAO",
         "6.50",
         1,
         "Basic"
        ],
        [
         "PARINTINS",
         "SAO BENEDITO",
         "6.89",
         1,
         "Basic"
        ],
        [
         "CASTANHAL",
         "SAUDADE I",
         "5.69",
         1,
         "Basic"
        ],
        [
         "GOIANIA",
         "VI ROSA",
         "5.89",
         1,
         "Basic"
        ],
        [
         "CACADOR",
         "SORGATTO",
         "5.99",
         1,
         "Basic"
        ],
        [
         "BENTO GONCALVES",
         "CIDADE ALTA",
         "5.34",
         1,
         "Basic"
        ],
        [
         "TATUI",
         "ENXOVIA",
         "5.52",
         1,
         "Basic"
        ],
        [
         "RIO DE JANEIRO",
         "JARDIM SULACAP",
         "5.69",
         1,
         "Basic"
        ],
        [
         "FORTALEZA",
         "CIDADE DOS FUNCIONÁRIOS",
         "5.99",
         1,
         "Basic"
        ],
        [
         "CAMPO GRANDE",
         "JARDIM CENTENARIO",
         "5.68",
         1,
         "Basic"
        ],
        [
         "ITATIBA",
         "VILA SANTA CLARA",
         "6.18",
         2,
         "Basic"
        ],
        [
         "CAMPINAS",
         "JARDIM PLANALTO",
         "6.09",
         1,
         "Basic"
        ],
        [
         "LAGARTO",
         "JARDIM CAMPO NOVO",
         "5.78",
         1,
         "Basic"
        ],
        [
         "SAO PAULO",
         "IMIRIM",
         "5.19",
         2,
         "Basic"
        ],
        [
         "SAO PAULO",
         "CAMBUCI",
         "5.99",
         2,
         "Basic"
        ],
        [
         "PARNAMIRIM",
         "CAJUPIRANGA",
         "5.79",
         1,
         "Basic"
        ],
        [
         "TRES CORACOES",
         "CENTRO",
         "6.29",
         1,
         "Basic"
        ],
        [
         "SERTAOZINHO",
         "JARDIM NASSIM MAMED",
         "5.84",
         1,
         "Basic"
        ],
        [
         "ARACAJU",
         "GETULIO VARGAS",
         "5.61",
         3,
         "Basic"
        ],
        [
         "SAO JOSE DO RIO PRETO",
         "JARDIM CONCEICAO",
         "5.67",
         2,
         "Basic"
        ],
        [
         "PONTA PORA",
         "VILA FERROVIARIA I",
         "6.13",
         1,
         "Basic"
        ],
        [
         "COLOMBO",
         "JARDIM MARAMBAIA",
         "5.99",
         1,
         "Basic"
        ],
        [
         "CAICO",
         "PENEDO",
         "6.86",
         2,
         "Basic"
        ],
        [
         "JUIZ DE FORA",
         "BARBOSA LAGE",
         "5.73",
         1,
         "Basic"
        ],
        [
         "CAMPO GRANDE",
         "VILA BANDEIRANTES",
         "5.85",
         2,
         "Basic"
        ],
        [
         "SAO CARLOS",
         "VILA ARNALDO",
         "6.22",
         1,
         "Basic"
        ],
        [
         "SAO JOSE DO RIO PRETO",
         "JARDIM MARAJO",
         "5.49",
         1,
         "Basic"
        ],
        [
         "UMUARAMA",
         "ZONA II",
         "6.24",
         1,
         "Basic"
        ],
        [
         "PETROPOLIS",
         "CAPELA",
         "5.69",
         1,
         "Basic"
        ],
        [
         "TRES RIOS",
         "PORTAO VERMELHO",
         "5.81",
         1,
         "Basic"
        ],
        [
         "CRICIUMA",
         "QUARTA LINHA",
         "5.64",
         1,
         "Basic"
        ],
        [
         "BOA VISTA",
         "CENTENARIO",
         "6.74",
         1,
         "Basic"
        ],
        [
         "SAO PAULO",
         "PARQUE BOTURUSSU",
         "5.99",
         1,
         "Basic"
        ],
        [
         "ARAPIRACA",
         "JARDIM TROPICAL",
         "5.99",
         1,
         "Basic"
        ],
        [
         "SAO JOSE DE RIBAMAR",
         "MAIOBINHA",
         "5.59",
         1,
         "Basic"
        ],
        [
         "SAO LUIS",
         "IPASE",
         "5.59",
         1,
         "Basic"
        ],
        [
         "ARAPONGAS",
         "JARDIM PRIMAVERA",
         "5.69",
         1,
         "Basic"
        ],
        [
         "ATIBAIA",
         "GUAXINDUVA",
         "6.21",
         1,
         "Basic"
        ],
        [
         "CAMPINA GRANDE",
         "SAO JOSE",
         "5.98",
         1,
         "Basic"
        ],
        [
         "NOVA FRIBURGO",
         "YPU",
         "5.69",
         1,
         "Basic"
        ],
        [
         "CONCORDIA",
         "FLORESTA",
         "6.15",
         1,
         "Basic"
        ],
        [
         "DUQUE DE CAXIAS",
         "JARDIM GRAMACHO - DUQUE DE CAXIAS",
         "5.69",
         1,
         "Basic"
        ],
        [
         "LAJEADO",
         "SÃO CRISTÓVÃO",
         "5.69",
         1,
         "Basic"
        ],
        [
         "UMUARAMA",
         "ZONA VII",
         "5.64",
         1,
         "Basic"
        ],
        [
         "LINS",
         "PARQUE EMPRESARIAL ROLANDE ALVES PEREIRA",
         "5.79",
         1,
         "Basic"
        ],
        [
         "ANGRA DOS REIS",
         "FRADE",
         "6.45",
         1,
         "Basic"
        ],
        [
         "SERRA",
         "PORTAL DE JACARAIPE",
         "5.94",
         1,
         "Basic"
        ],
        [
         "ITAGUAI",
         "BRISA MAR",
         "5.57",
         4,
         "Basic"
        ],
        [
         "SENHOR DO BONFIM",
         "RODOVIA",
         "5.89",
         1,
         "Basic"
        ],
        [
         "SAO PAULO",
         "CHACARA SAO JOAO",
         "5.51",
         1,
         "Basic"
        ],
        [
         "VALPARAISO DE GOIAS",
         "CEU AZUL",
         "5.67",
         1,
         "Basic"
        ],
        [
         "PARAISO DO TOCANTINS",
         "VILA MILENA",
         "5.67",
         1,
         "Basic"
        ],
        [
         "ATIBAIA",
         "ITAPETINGA",
         "5.89",
         1,
         "Basic"
        ],
        [
         "CONCORDIA",
         "BAIRRO SAO CRISTOVAO",
         "5.88",
         1,
         "Basic"
        ],
        [
         "GRAMADO",
         "VARZEA GRANDE",
         "6.72",
         1,
         "Basic"
        ],
        [
         "VARGINHA",
         "JARDIM ANDERE",
         "5.85",
         2,
         "Basic"
        ],
        [
         "VALENCA",
         "APARECIDA",
         "6.49",
         1,
         "Basic"
        ],
        [
         "SAO PAULO",
         "MOEMA",
         "5.99",
         1,
         "Basic"
        ],
        [
         "UBERLANDIA",
         "JARDIM BRASILIA",
         "5.72",
         2,
         "Basic"
        ],
        [
         "EUNAPOLIS",
         "JUCA ROSA",
         "6.02",
         1,
         "Basic"
        ],
        [
         "VOTUPORANGA",
         "ZONA RURAL",
         "5.79",
         1,
         "Basic"
        ],
        [
         "SAO JOSE DOS PINHAIS",
         "JARDIM YPE",
         "6.24",
         1,
         "Basic"
        ],
        [
         "JOAO PINHEIRO",
         "CENTRO",
         "5.74",
         4,
         "Basic"
        ],
        [
         "UBERLANDIA",
         "INDUSTRIAL",
         "5.59",
         1,
         "Basic"
        ],
        [
         "LIMEIRA",
         "CENTRO",
         "5.93",
         3,
         "Basic"
        ],
        [
         "ALENQUER",
         "ANINGAL",
         "6.95",
         1,
         "Basic"
        ],
        [
         "CASTRO",
         "RIO BRANCO",
         "5.74",
         1,
         "Basic"
        ],
        [
         "SAO JOSE DOS CAMPOS",
         "VILA BETANIA",
         "5.77",
         1,
         "Basic"
        ],
        [
         "SANTANA DO LIVRAMENTO",
         "PRADO",
         "6.50",
         1,
         "Basic"
        ],
        [
         "PONTA GROSSA",
         "JARDIM CARVALHO",
         "5.55",
         2,
         "Basic"
        ],
        [
         "VILA VELHA",
         "GLORIA",
         "5.93",
         1,
         "Basic"
        ],
        [
         "SAO PAULO",
         "SÃO MIGUEL PAULISTA",
         "5.59",
         2,
         "Basic"
        ],
        [
         "PARINTINS",
         "JOAO RIBEIRO",
         "6.84",
         1,
         "Basic"
        ],
        [
         "APARECIDA DE GOIANIA",
         "VILA OLIVEIRA",
         "5.79",
         1,
         "Basic"
        ],
        [
         "BENTO GONCALVES",
         "SAO BENTO",
         "6.08",
         1,
         "Basic"
        ],
        [
         "SUZANO",
         "VILA SANTANA",
         "5.02",
         1,
         "Basic"
        ],
        [
         "SAO PAULO",
         "PIRITUBA",
         "5.88",
         3,
         "Basic"
        ],
        [
         "TRINDADE",
         "VILA PAI ETERNO",
         "5.84",
         1,
         "Basic"
        ],
        [
         "CURITIBA",
         "BOA VISTA",
         "5.86",
         2,
         "Basic"
        ],
        [
         "PRAIA GRANDE",
         "VILA TUPI",
         "5.69",
         1,
         "Basic"
        ],
        [
         "ANAPOLIS",
         "PARQUE SAO JOAO",
         "5.84",
         1,
         "Basic"
        ],
        [
         "RIO LARGO",
         "PREF ANTONIO LINS SOUZA",
         "5.92",
         1,
         "Basic"
        ],
        [
         "SAO PAULO",
         "VILA ORATORIO",
         "5.59",
         1,
         "Basic"
        ],
        [
         "POA",
         "VILA LUCIA",
         "5.39",
         1,
         "Basic"
        ],
        [
         "SERRA",
         "SAO JUDAS TADEU",
         "6.19",
         1,
         "Basic"
        ],
        [
         "EUNAPOLIS",
         "URBIS I",
         "6.05",
         1,
         "Basic"
        ],
        [
         "CRICIUMA",
         "CENTRO",
         "5.68",
         1,
         "Basic"
        ],
        [
         "MACAPA",
         "TREM",
         "6.03",
         1,
         "Basic"
        ],
        [
         "BARRA MANSA",
         "CENTRO",
         "6.00",
         5,
         "Basic"
        ],
        [
         "LAGUNA",
         "MATO ALTO",
         "5.99",
         1,
         "Basic"
        ],
        [
         "SAO PAULO",
         "BOM RETIRO",
         "4.79",
         1,
         "Basic"
        ],
        [
         "ITABORAI",
         "MANILHA",
         "6.47",
         1,
         "Basic"
        ],
        [
         "SAO CARLOS",
         "VILA LUTFALLA",
         "5.89",
         1,
         "Basic"
        ],
        [
         "DUQUE DE CAXIAS",
         "XEREM",
         "5.29",
         1,
         "Basic"
        ],
        [
         "CORONEL FABRICIANO",
         "MORADA DO VALE",
         "5.74",
         1,
         "Basic"
        ],
        [
         "PALMEIRA DOS INDIOS",
         "JOSE MAIA COSTA",
         "6.15",
         2,
         "Basic"
        ],
        [
         "SETE LAGOAS",
         "SANTA ELISA",
         "5.44",
         1,
         "Basic"
        ],
        [
         "DIADEMA",
         "ELDORADO",
         "5.89",
         1,
         "Basic"
        ],
        [
         "CAMPOS DOS GOYTACAZES",
         "MINEIROS",
         "5.77",
         1,
         "Basic"
        ],
        [
         "ARAPONGAS",
         "VILA INDUSTRIAL",
         "5.47",
         1,
         "Basic"
        ],
        [
         "PALMEIRA DOS INDIOS",
         "VILA MARIA",
         "6.21",
         2,
         "Basic"
        ],
        [
         "GUARULHOS",
         "PORTAL DOS GRAMADOS",
         "5.69",
         1,
         "Basic"
        ],
        [
         "JOAO PESSOA",
         "BAIRRO DOS ESTADOS",
         "5.68",
         1,
         "Basic"
        ],
        [
         "SANTANA",
         "VILA AMAZONAS",
         "6.39",
         1,
         "Basic"
        ],
        [
         "SAO MATEUS",
         "VILA NOVA",
         "4.79",
         1,
         "Basic"
        ],
        [
         "PORTO NACIONAL",
         "CENTRO",
         "5.93",
         1,
         "Basic"
        ],
        [
         "CAUCAIA",
         "CAMPO GRANDE",
         "5.47",
         1,
         "Basic"
        ],
        [
         "CARAPICUIBA",
         "ARISTON",
         "5.59",
         1,
         "Basic"
        ],
        [
         "CARATINGA",
         "ZACARIAS",
         "6.08",
         2,
         "Basic"
        ],
        [
         "BARRA DO PIRAI",
         "MATADOURO",
         "5.58",
         2,
         "Basic"
        ],
        [
         "CUIABA",
         "JARDIM PETROPOLIS",
         "5.94",
         1,
         "Basic"
        ],
        [
         "COLOMBO",
         "ROCA GRANDE",
         "5.53",
         2,
         "Basic"
        ],
        [
         "SAO VICENTE",
         "CENTRO",
         "6.00",
         3,
         "Basic"
        ],
        [
         "VIAMAO",
         "AUGUSTA",
         "5.84",
         1,
         "Basic"
        ],
        [
         "ADAMANTINA",
         "CENTRO",
         "5.65",
         2,
         "Basic"
        ],
        [
         "CASTANHAL",
         "IANETAMA",
         "5.84",
         1,
         "Basic"
        ],
        [
         "ANANINDEUA",
         "COQUEIRO",
         "5.71",
         4,
         "Basic"
        ],
        [
         "SAO PAULO",
         "CAMPO BELO",
         "6.19",
         2,
         "Basic"
        ],
        [
         "BARREIRAS",
         "MORADA NOBRE",
         "6.20",
         1,
         "Basic"
        ],
        [
         "APARECIDA DE GOIANIA",
         "VILA MARIA",
         "6.22",
         1,
         "Basic"
        ],
        [
         "VARZEA GRANDE",
         "PONTE NOVA",
         "6.09",
         1,
         "Basic"
        ],
        [
         "SUMARE",
         "PARQUE INDUSTRIAL",
         "5.59",
         1,
         "Basic"
        ],
        [
         "SANTA MARIA",
         "KM 3",
         "6.17",
         1,
         "Basic"
        ],
        [
         "FOZ DO IGUACU",
         "CENTRO CIVICO",
         "6.14",
         1,
         "Basic"
        ],
        [
         "ARACAJU",
         "PONTO NOVO",
         "6.24",
         1,
         "Basic"
        ],
        [
         "SAO JOSE DOS PINHAIS",
         "COSTEIRA",
         "6.36",
         1,
         "Basic"
        ],
        [
         "ILHEUS",
         "ESPERANCA",
         "6.19",
         1,
         "Basic"
        ],
        [
         "RIO VERDE",
         "PARQUE BANDEIRANTE",
         "5.87",
         1,
         "Basic"
        ],
        [
         "IMPERATRIZ",
         "VILA LOBAO",
         "5.60",
         1,
         "Basic"
        ]
       ],
       "datasetInfos": [],
       "dbfsResultPath": null,
       "isJsonSchema": true,
       "metadata": {
        "dataframeName": "_sqldf",
        "executionCount": 2
       },
       "overflow": false,
       "plotOptions": {
        "customPlotOptions": {},
        "displayType": "table",
        "pivotAggregation": null,
        "pivotColumns": null,
        "xColumns": null,
        "yColumns": null
       },
       "removedWidgets": [],
       "schema": [
        {
         "metadata": "{}",
         "name": "Municipio",
         "type": "\"string\""
        },
        {
         "metadata": "{}",
         "name": "Bairro",
         "type": "\"string\""
        },
        {
         "metadata": "{}",
         "name": "Ticket_Medio",
         "type": "\"decimal(4,2)\""
        },
        {
         "metadata": "{}",
         "name": "Qtd_Clientes_CNPJ",
         "type": "\"long\""
        },
        {
         "metadata": "{}",
         "name": "Tipo_Cliente",
         "type": "\"string\""
        }
       ],
       "type": "table"
      }
     },
     "output_type": "display_data"
    }
   ],
   "source": [
    "%sql\n",
    "SELECT * FROM default.tb_clientes_relevantes"
   ]
  },
  {
   "cell_type": "code",
   "execution_count": 0,
   "metadata": {
    "application/vnd.databricks.v1+cell": {
     "cellMetadata": {
      "byteLimit": 2048000,
      "rowLimit": 10000
     },
     "inputWidgets": {},
     "nuid": "bee7982a-5be8-4748-a36f-5d3545c19a80",
     "showTitle": false,
     "tableResultSettingsMap": {},
     "title": ""
    }
   },
   "outputs": [
    {
     "output_type": "display_data",
     "data": {
      "text/html": [
       "<style scoped>\n",
       "  .table-result-container {\n",
       "    max-height: 300px;\n",
       "    overflow: auto;\n",
       "  }\n",
       "  table, th, td {\n",
       "    border: 1px solid black;\n",
       "    border-collapse: collapse;\n",
       "  }\n",
       "  th, td {\n",
       "    padding: 5px;\n",
       "  }\n",
       "  th {\n",
       "    text-align: left;\n",
       "  }\n",
       "</style><div class='table-result-container'><table class='table-result'><thead style='background-color: white'><tr><th>Produto</th><th>Bandeira</th><th>Preco_Medio</th><th>Menor_Preco</th><th>Maior_Preco</th></tr></thead><tbody><tr><td>DIESEL S10</td><td>SABBÁ</td><td>6.14</td><td>5.35</td><td>7.84</td></tr><tr><td>DIESEL S10</td><td>D`MAIS</td><td>5.76</td><td>5.76</td><td>5.76</td></tr><tr><td>DIESEL</td><td>ATEM' S</td><td>6.65</td><td>6.28</td><td>7.70</td></tr><tr><td>DIESEL</td><td>ALESAT</td><td>5.87</td><td>5.52</td><td>6.69</td></tr><tr><td>GNV</td><td>DISLUB</td><td>4.68</td><td>4.63</td><td>4.72</td></tr><tr><td>DIESEL</td><td>TOTALENERGIES</td><td>5.74</td><td>5.52</td><td>6.18</td></tr><tr><td>DIESEL</td><td>RAIZEN</td><td>5.93</td><td>5.20</td><td>7.38</td></tr><tr><td>GNV</td><td>FAN</td><td>5.09</td><td>5.09</td><td>5.09</td></tr><tr><td>DIESEL S10</td><td>MASUT DISTRIBUIDORA</td><td>5.96</td><td>5.89</td><td>6.05</td></tr><tr><td>DIESEL S10</td><td>IDAZA</td><td>6.14</td><td>5.89</td><td>6.89</td></tr><tr><td>GNV</td><td>RAIZEN MIME</td><td>5.04</td><td>4.89</td><td>5.09</td></tr><tr><td>DIESEL S10</td><td>IPIRANGA</td><td>6.10</td><td>5.19</td><td>8.00</td></tr><tr><td>DIESEL S10</td><td>ATEM' S</td><td>6.63</td><td>5.99</td><td>7.70</td></tr><tr><td>DIESEL</td><td>D`MAIS</td><td>5.65</td><td>5.65</td><td>5.65</td></tr><tr><td>DIESEL</td><td>RAIZEN MIME</td><td>5.95</td><td>5.69</td><td>6.18</td></tr><tr><td>DIESEL</td><td>TAURUS</td><td>6.05</td><td>5.45</td><td>7.33</td></tr><tr><td>DIESEL S10</td><td>WALENDOWSKY</td><td>6.30</td><td>6.30</td><td>6.30</td></tr><tr><td>DIESEL</td><td>VIBRA</td><td>6.04</td><td>5.27</td><td>7.70</td></tr><tr><td>DIESEL S10</td><td>ESTRADA</td><td>6.04</td><td>6.04</td><td>6.04</td></tr><tr><td>GNV</td><td>RODOIL</td><td>4.99</td><td>4.69</td><td>5.14</td></tr><tr><td>DIESEL S10</td><td>TDC DISTRIBUIDORA</td><td>5.85</td><td>5.77</td><td>5.89</td></tr><tr><td>GNV</td><td>ALESAT</td><td>4.80</td><td>4.47</td><td>5.19</td></tr><tr><td>GNV</td><td>RAIZEN</td><td>4.66</td><td>3.54</td><td>5.39</td></tr><tr><td>DIESEL S10</td><td>FEDERAL ENERGIA</td><td>5.75</td><td>5.67</td><td>5.79</td></tr><tr><td>DIESEL</td><td>TDC DISTRIBUIDORA</td><td>5.89</td><td>5.89</td><td>5.89</td></tr><tr><td>GNV</td><td>VIBRA</td><td>4.72</td><td>3.54</td><td>6.29</td></tr><tr><td>GNV</td><td>ATLÂNTICA</td><td>5.37</td><td>5.37</td><td>5.37</td></tr><tr><td>DIESEL</td><td>SMALL</td><td>6.09</td><td>6.09</td><td>6.09</td></tr><tr><td>DIESEL</td><td>STANG</td><td>5.48</td><td>5.37</td><td>5.64</td></tr><tr><td>DIESEL</td><td>CHARRUA</td><td>5.97</td><td>5.59</td><td>6.28</td></tr><tr><td>DIESEL S10</td><td>SETTA DISTRIBUIDORA</td><td>5.83</td><td>5.59</td><td>6.09</td></tr><tr><td>DIESEL</td><td>LARCO</td><td>5.91</td><td>5.48</td><td>6.16</td></tr><tr><td>DIESEL S10</td><td>PETROX DISTRIBUIDORA</td><td>6.10</td><td>5.82</td><td>6.29</td></tr><tr><td>DIESEL</td><td>FAN</td><td>5.80</td><td>5.78</td><td>5.85</td></tr><tr><td>DIESEL S10</td><td>ALESAT</td><td>6.00</td><td>5.44</td><td>6.89</td></tr><tr><td>DIESEL</td><td>ATLÂNTICA</td><td>5.90</td><td>5.65</td><td>6.47</td></tr><tr><td>DIESEL S10</td><td>RZD DISTRIBUIDORA</td><td>6.29</td><td>6.29</td><td>6.29</td></tr><tr><td>DIESEL</td><td>PETROBAHIA</td><td>5.70</td><td>5.44</td><td>5.89</td></tr><tr><td>DIESEL</td><td>RZD DISTRIBUIDORA</td><td>6.29</td><td>6.29</td><td>6.29</td></tr><tr><td>GNV</td><td>ATEM' S</td><td>4.59</td><td>4.59</td><td>4.59</td></tr><tr><td>DIESEL S10</td><td>FAN</td><td>5.86</td><td>5.79</td><td>5.95</td></tr><tr><td>DIESEL</td><td>SP</td><td>5.89</td><td>5.54</td><td>6.85</td></tr><tr><td>DIESEL</td><td>ESTRADA</td><td>5.94</td><td>5.94</td><td>5.94</td></tr><tr><td>DIESEL S10</td><td>ALE</td><td>5.97</td><td>5.44</td><td>6.99</td></tr><tr><td>DIESEL S10</td><td>BRANCA</td><td>5.89</td><td>5.19</td><td>8.49</td></tr><tr><td>DIESEL S10</td><td>DIBRAPE</td><td>6.25</td><td>6.17</td><td>6.27</td></tr><tr><td>GNV</td><td>PETROX DISTRIBUIDORA</td><td>4.89</td><td>4.89</td><td>4.89</td></tr><tr><td>DIESEL S10</td><td>CHARRUA</td><td>6.06</td><td>5.69</td><td>6.38</td></tr><tr><td>DIESEL S10</td><td>ON PETRO</td><td>5.89</td><td>5.89</td><td>5.89</td></tr><tr><td>DIESEL</td><td>DISLUB</td><td>5.82</td><td>5.79</td><td>5.95</td></tr><tr><td>DIESEL</td><td>IDAZA</td><td>5.98</td><td>5.79</td><td>6.34</td></tr><tr><td>DIESEL S10</td><td>RAIZEN MIME</td><td>6.08</td><td>5.79</td><td>6.49</td></tr><tr><td>GNV</td><td>CHARRUA</td><td>5.16</td><td>4.59</td><td>5.45</td></tr><tr><td>DIESEL</td><td>PELIKANO</td><td>5.42</td><td>5.29</td><td>5.49</td></tr><tr><td>DIESEL S10</td><td>STANG</td><td>5.66</td><td>5.39</td><td>5.99</td></tr><tr><td>DIESEL S10</td><td>RAIZEN</td><td>6.00</td><td>5.39</td><td>7.99</td></tr><tr><td>DIESEL</td><td>CIAPETRO</td><td>5.73</td><td>5.49</td><td>5.99</td></tr><tr><td>DIESEL</td><td>POTENCIAL</td><td>5.96</td><td>5.45</td><td>6.65</td></tr><tr><td>DIESEL</td><td>BRANCA</td><td>5.84</td><td>5.09</td><td>7.79</td></tr><tr><td>DIESEL S10</td><td>PETROBAHIA</td><td>5.82</td><td>5.54</td><td>5.99</td></tr><tr><td>GNV</td><td>PETROBAHIA</td><td>4.16</td><td>4.16</td><td>4.16</td></tr><tr><td>GNV</td><td>TAURUS</td><td>5.55</td><td>5.55</td><td>5.55</td></tr><tr><td>DIESEL</td><td>SABBÁ</td><td>6.20</td><td>5.33</td><td>7.82</td></tr><tr><td>DIESEL</td><td>RODOIL</td><td>5.91</td><td>5.34</td><td>6.17</td></tr><tr><td>DIESEL</td><td>SANTA LUCIA</td><td>6.21</td><td>5.97</td><td>6.45</td></tr><tr><td>DIESEL</td><td>TEMAPE</td><td>5.52</td><td>5.52</td><td>5.52</td></tr><tr><td>DIESEL</td><td>MONTEPETRO</td><td>5.79</td><td>5.79</td><td>5.79</td></tr><tr><td>GNV</td><td>FEDERAL ENERGIA</td><td>4.62</td><td>4.59</td><td>4.63</td></tr><tr><td>DIESEL</td><td>RIO BRANCO</td><td>5.71</td><td>5.49</td><td>5.90</td></tr><tr><td>DIESEL S10</td><td>ATLÂNTICA</td><td>6.11</td><td>5.79</td><td>6.59</td></tr><tr><td>DIESEL S10</td><td>SANTA LUCIA</td><td>6.29</td><td>6.07</td><td>6.55</td></tr><tr><td>DIESEL</td><td>EQUADOR</td><td>6.99</td><td>6.49</td><td>7.80</td></tr><tr><td>GNV</td><td>SABBÁ</td><td>4.59</td><td>4.59</td><td>4.59</td></tr><tr><td>DIESEL S10</td><td>EQUADOR</td><td>6.78</td><td>6.29</td><td>7.80</td></tr><tr><td>DIESEL S10</td><td>RIO BRANCO</td><td>5.97</td><td>5.59</td><td>6.29</td></tr><tr><td>GNV</td><td>BRANCA</td><td>4.81</td><td>3.54</td><td>6.28</td></tr><tr><td>DIESEL S10</td><td>PELIKANO</td><td>5.49</td><td>5.29</td><td>5.59</td></tr><tr><td>GNV</td><td>ALE</td><td>4.91</td><td>4.49</td><td>5.55</td></tr><tr><td>DIESEL</td><td>ROYAL FIC</td><td>5.98</td><td>5.98</td><td>5.98</td></tr><tr><td>DIESEL</td><td>ALE</td><td>5.87</td><td>5.44</td><td>6.69</td></tr><tr><td>DIESEL S10</td><td>MONTEPETRO</td><td>5.82</td><td>5.79</td><td>5.89</td></tr><tr><td>DIESEL S10</td><td>TEMAPE</td><td>5.84</td><td>5.56</td><td>6.29</td></tr><tr><td>DIESEL S10</td><td>RODOIL</td><td>5.89</td><td>5.37</td><td>6.26</td></tr><tr><td>DIESEL</td><td>SETTA DISTRIBUIDORA</td><td>5.92</td><td>5.68</td><td>5.99</td></tr><tr><td>DIESEL S10</td><td>ROYAL FIC</td><td>6.09</td><td>6.09</td><td>6.09</td></tr><tr><td>GNV</td><td>IPIRANGA</td><td>4.77</td><td>3.99</td><td>6.19</td></tr><tr><td>DIESEL S10</td><td>CIAPETRO</td><td>5.87</td><td>5.69</td><td>6.14</td></tr><tr><td>DIESEL S10</td><td>TAURUS</td><td>6.14</td><td>5.49</td><td>7.43</td></tr><tr><td>DIESEL</td><td>MAXSUL</td><td>5.85</td><td>5.56</td><td>6.26</td></tr><tr><td>DIESEL</td><td>MASUT DISTRIBUIDORA</td><td>5.88</td><td>5.79</td><td>5.97</td></tr><tr><td>DIESEL S10</td><td>VIBRA</td><td>6.10</td><td>5.31</td><td>7.99</td></tr><tr><td>DIESEL</td><td>SIMARELLI</td><td>5.69</td><td>5.69</td><td>5.69</td></tr><tr><td>DIESEL S10</td><td>POTENCIAL</td><td>6.01</td><td>5.49</td><td>6.79</td></tr><tr><td>DIESEL</td><td>DIBRAPE</td><td>6.17</td><td>6.15</td><td>6.17</td></tr><tr><td>DIESEL S10</td><td>DISLUB</td><td>5.96</td><td>5.49</td><td>6.75</td></tr><tr><td>DIESEL S10</td><td>SP</td><td>6.02</td><td>5.59</td><td>6.69</td></tr><tr><td>DIESEL</td><td>PETROX DISTRIBUIDORA</td><td>5.81</td><td>5.74</td><td>5.85</td></tr><tr><td>DIESEL S10</td><td>LARCO</td><td>6.02</td><td>5.58</td><td>6.29</td></tr><tr><td>DIESEL S10</td><td>SMALL</td><td>6.24</td><td>6.24</td><td>6.24</td></tr><tr><td>GNV</td><td>LARCO</td><td>4.06</td><td>3.99</td><td>4.19</td></tr><tr><td>DIESEL</td><td>FEDERAL ENERGIA</td><td>5.77</td><td>5.77</td><td>5.77</td></tr><tr><td>DIESEL</td><td>IPIRANGA</td><td>6.02</td><td>5.04</td><td>7.72</td></tr><tr><td>DIESEL S10</td><td>MAXSUL</td><td>5.91</td><td>5.59</td><td>6.46</td></tr><tr><td>DIESEL S10</td><td>TOTALENERGIES</td><td>5.87</td><td>5.62</td><td>6.28</td></tr><tr><td>DIESEL</td><td>WALENDOWSKY</td><td>6.20</td><td>6.20</td><td>6.20</td></tr><tr><td>GNV</td><td>ON PETRO</td><td>4.99</td><td>4.99</td><td>4.99</td></tr></tbody></table></div>"
      ]
     },
     "metadata": {
      "application/vnd.databricks.v1+output": {
       "addedWidgets": {},
       "aggData": [],
       "aggError": "",
       "aggOverflow": false,
       "aggSchema": [],
       "aggSeriesLimitReached": false,
       "aggType": "",
       "arguments": {},
       "columnCustomDisplayInfos": {},
       "data": [
        [
         "DIESEL S10",
         "SABBÁ",
         "6.14",
         "5.35",
         "7.84"
        ],
        [
         "DIESEL S10",
         "D`MAIS",
         "5.76",
         "5.76",
         "5.76"
        ],
        [
         "DIESEL",
         "ATEM' S",
         "6.65",
         "6.28",
         "7.70"
        ],
        [
         "DIESEL",
         "ALESAT",
         "5.87",
         "5.52",
         "6.69"
        ],
        [
         "GNV",
         "DISLUB",
         "4.68",
         "4.63",
         "4.72"
        ],
        [
         "DIESEL",
         "TOTALENERGIES",
         "5.74",
         "5.52",
         "6.18"
        ],
        [
         "DIESEL",
         "RAIZEN",
         "5.93",
         "5.20",
         "7.38"
        ],
        [
         "GNV",
         "FAN",
         "5.09",
         "5.09",
         "5.09"
        ],
        [
         "DIESEL S10",
         "MASUT DISTRIBUIDORA",
         "5.96",
         "5.89",
         "6.05"
        ],
        [
         "DIESEL S10",
         "IDAZA",
         "6.14",
         "5.89",
         "6.89"
        ],
        [
         "GNV",
         "RAIZEN MIME",
         "5.04",
         "4.89",
         "5.09"
        ],
        [
         "DIESEL S10",
         "IPIRANGA",
         "6.10",
         "5.19",
         "8.00"
        ],
        [
         "DIESEL S10",
         "ATEM' S",
         "6.63",
         "5.99",
         "7.70"
        ],
        [
         "DIESEL",
         "D`MAIS",
         "5.65",
         "5.65",
         "5.65"
        ],
        [
         "DIESEL",
         "RAIZEN MIME",
         "5.95",
         "5.69",
         "6.18"
        ],
        [
         "DIESEL",
         "TAURUS",
         "6.05",
         "5.45",
         "7.33"
        ],
        [
         "DIESEL S10",
         "WALENDOWSKY",
         "6.30",
         "6.30",
         "6.30"
        ],
        [
         "DIESEL",
         "VIBRA",
         "6.04",
         "5.27",
         "7.70"
        ],
        [
         "DIESEL S10",
         "ESTRADA",
         "6.04",
         "6.04",
         "6.04"
        ],
        [
         "GNV",
         "RODOIL",
         "4.99",
         "4.69",
         "5.14"
        ],
        [
         "DIESEL S10",
         "TDC DISTRIBUIDORA",
         "5.85",
         "5.77",
         "5.89"
        ],
        [
         "GNV",
         "ALESAT",
         "4.80",
         "4.47",
         "5.19"
        ],
        [
         "GNV",
         "RAIZEN",
         "4.66",
         "3.54",
         "5.39"
        ],
        [
         "DIESEL S10",
         "FEDERAL ENERGIA",
         "5.75",
         "5.67",
         "5.79"
        ],
        [
         "DIESEL",
         "TDC DISTRIBUIDORA",
         "5.89",
         "5.89",
         "5.89"
        ],
        [
         "GNV",
         "VIBRA",
         "4.72",
         "3.54",
         "6.29"
        ],
        [
         "GNV",
         "ATLÂNTICA",
         "5.37",
         "5.37",
         "5.37"
        ],
        [
         "DIESEL",
         "SMALL",
         "6.09",
         "6.09",
         "6.09"
        ],
        [
         "DIESEL",
         "STANG",
         "5.48",
         "5.37",
         "5.64"
        ],
        [
         "DIESEL",
         "CHARRUA",
         "5.97",
         "5.59",
         "6.28"
        ],
        [
         "DIESEL S10",
         "SETTA DISTRIBUIDORA",
         "5.83",
         "5.59",
         "6.09"
        ],
        [
         "DIESEL",
         "LARCO",
         "5.91",
         "5.48",
         "6.16"
        ],
        [
         "DIESEL S10",
         "PETROX DISTRIBUIDORA",
         "6.10",
         "5.82",
         "6.29"
        ],
        [
         "DIESEL",
         "FAN",
         "5.80",
         "5.78",
         "5.85"
        ],
        [
         "DIESEL S10",
         "ALESAT",
         "6.00",
         "5.44",
         "6.89"
        ],
        [
         "DIESEL",
         "ATLÂNTICA",
         "5.90",
         "5.65",
         "6.47"
        ],
        [
         "DIESEL S10",
         "RZD DISTRIBUIDORA",
         "6.29",
         "6.29",
         "6.29"
        ],
        [
         "DIESEL",
         "PETROBAHIA",
         "5.70",
         "5.44",
         "5.89"
        ],
        [
         "DIESEL",
         "RZD DISTRIBUIDORA",
         "6.29",
         "6.29",
         "6.29"
        ],
        [
         "GNV",
         "ATEM' S",
         "4.59",
         "4.59",
         "4.59"
        ],
        [
         "DIESEL S10",
         "FAN",
         "5.86",
         "5.79",
         "5.95"
        ],
        [
         "DIESEL",
         "SP",
         "5.89",
         "5.54",
         "6.85"
        ],
        [
         "DIESEL",
         "ESTRADA",
         "5.94",
         "5.94",
         "5.94"
        ],
        [
         "DIESEL S10",
         "ALE",
         "5.97",
         "5.44",
         "6.99"
        ],
        [
         "DIESEL S10",
         "BRANCA",
         "5.89",
         "5.19",
         "8.49"
        ],
        [
         "DIESEL S10",
         "DIBRAPE",
         "6.25",
         "6.17",
         "6.27"
        ],
        [
         "GNV",
         "PETROX DISTRIBUIDORA",
         "4.89",
         "4.89",
         "4.89"
        ],
        [
         "DIESEL S10",
         "CHARRUA",
         "6.06",
         "5.69",
         "6.38"
        ],
        [
         "DIESEL S10",
         "ON PETRO",
         "5.89",
         "5.89",
         "5.89"
        ],
        [
         "DIESEL",
         "DISLUB",
         "5.82",
         "5.79",
         "5.95"
        ],
        [
         "DIESEL",
         "IDAZA",
         "5.98",
         "5.79",
         "6.34"
        ],
        [
         "DIESEL S10",
         "RAIZEN MIME",
         "6.08",
         "5.79",
         "6.49"
        ],
        [
         "GNV",
         "CHARRUA",
         "5.16",
         "4.59",
         "5.45"
        ],
        [
         "DIESEL",
         "PELIKANO",
         "5.42",
         "5.29",
         "5.49"
        ],
        [
         "DIESEL S10",
         "STANG",
         "5.66",
         "5.39",
         "5.99"
        ],
        [
         "DIESEL S10",
         "RAIZEN",
         "6.00",
         "5.39",
         "7.99"
        ],
        [
         "DIESEL",
         "CIAPETRO",
         "5.73",
         "5.49",
         "5.99"
        ],
        [
         "DIESEL",
         "POTENCIAL",
         "5.96",
         "5.45",
         "6.65"
        ],
        [
         "DIESEL",
         "BRANCA",
         "5.84",
         "5.09",
         "7.79"
        ],
        [
         "DIESEL S10",
         "PETROBAHIA",
         "5.82",
         "5.54",
         "5.99"
        ],
        [
         "GNV",
         "PETROBAHIA",
         "4.16",
         "4.16",
         "4.16"
        ],
        [
         "GNV",
         "TAURUS",
         "5.55",
         "5.55",
         "5.55"
        ],
        [
         "DIESEL",
         "SABBÁ",
         "6.20",
         "5.33",
         "7.82"
        ],
        [
         "DIESEL",
         "RODOIL",
         "5.91",
         "5.34",
         "6.17"
        ],
        [
         "DIESEL",
         "SANTA LUCIA",
         "6.21",
         "5.97",
         "6.45"
        ],
        [
         "DIESEL",
         "TEMAPE",
         "5.52",
         "5.52",
         "5.52"
        ],
        [
         "DIESEL",
         "MONTEPETRO",
         "5.79",
         "5.79",
         "5.79"
        ],
        [
         "GNV",
         "FEDERAL ENERGIA",
         "4.62",
         "4.59",
         "4.63"
        ],
        [
         "DIESEL",
         "RIO BRANCO",
         "5.71",
         "5.49",
         "5.90"
        ],
        [
         "DIESEL S10",
         "ATLÂNTICA",
         "6.11",
         "5.79",
         "6.59"
        ],
        [
         "DIESEL S10",
         "SANTA LUCIA",
         "6.29",
         "6.07",
         "6.55"
        ],
        [
         "DIESEL",
         "EQUADOR",
         "6.99",
         "6.49",
         "7.80"
        ],
        [
         "GNV",
         "SABBÁ",
         "4.59",
         "4.59",
         "4.59"
        ],
        [
         "DIESEL S10",
         "EQUADOR",
         "6.78",
         "6.29",
         "7.80"
        ],
        [
         "DIESEL S10",
         "RIO BRANCO",
         "5.97",
         "5.59",
         "6.29"
        ],
        [
         "GNV",
         "BRANCA",
         "4.81",
         "3.54",
         "6.28"
        ],
        [
         "DIESEL S10",
         "PELIKANO",
         "5.49",
         "5.29",
         "5.59"
        ],
        [
         "GNV",
         "ALE",
         "4.91",
         "4.49",
         "5.55"
        ],
        [
         "DIESEL",
         "ROYAL FIC",
         "5.98",
         "5.98",
         "5.98"
        ],
        [
         "DIESEL",
         "ALE",
         "5.87",
         "5.44",
         "6.69"
        ],
        [
         "DIESEL S10",
         "MONTEPETRO",
         "5.82",
         "5.79",
         "5.89"
        ],
        [
         "DIESEL S10",
         "TEMAPE",
         "5.84",
         "5.56",
         "6.29"
        ],
        [
         "DIESEL S10",
         "RODOIL",
         "5.89",
         "5.37",
         "6.26"
        ],
        [
         "DIESEL",
         "SETTA DISTRIBUIDORA",
         "5.92",
         "5.68",
         "5.99"
        ],
        [
         "DIESEL S10",
         "ROYAL FIC",
         "6.09",
         "6.09",
         "6.09"
        ],
        [
         "GNV",
         "IPIRANGA",
         "4.77",
         "3.99",
         "6.19"
        ],
        [
         "DIESEL S10",
         "CIAPETRO",
         "5.87",
         "5.69",
         "6.14"
        ],
        [
         "DIESEL S10",
         "TAURUS",
         "6.14",
         "5.49",
         "7.43"
        ],
        [
         "DIESEL",
         "MAXSUL",
         "5.85",
         "5.56",
         "6.26"
        ],
        [
         "DIESEL",
         "MASUT DISTRIBUIDORA",
         "5.88",
         "5.79",
         "5.97"
        ],
        [
         "DIESEL S10",
         "VIBRA",
         "6.10",
         "5.31",
         "7.99"
        ],
        [
         "DIESEL",
         "SIMARELLI",
         "5.69",
         "5.69",
         "5.69"
        ],
        [
         "DIESEL S10",
         "POTENCIAL",
         "6.01",
         "5.49",
         "6.79"
        ],
        [
         "DIESEL",
         "DIBRAPE",
         "6.17",
         "6.15",
         "6.17"
        ],
        [
         "DIESEL S10",
         "DISLUB",
         "5.96",
         "5.49",
         "6.75"
        ],
        [
         "DIESEL S10",
         "SP",
         "6.02",
         "5.59",
         "6.69"
        ],
        [
         "DIESEL",
         "PETROX DISTRIBUIDORA",
         "5.81",
         "5.74",
         "5.85"
        ],
        [
         "DIESEL S10",
         "LARCO",
         "6.02",
         "5.58",
         "6.29"
        ],
        [
         "DIESEL S10",
         "SMALL",
         "6.24",
         "6.24",
         "6.24"
        ],
        [
         "GNV",
         "LARCO",
         "4.06",
         "3.99",
         "4.19"
        ],
        [
         "DIESEL",
         "FEDERAL ENERGIA",
         "5.77",
         "5.77",
         "5.77"
        ],
        [
         "DIESEL",
         "IPIRANGA",
         "6.02",
         "5.04",
         "7.72"
        ],
        [
         "DIESEL S10",
         "MAXSUL",
         "5.91",
         "5.59",
         "6.46"
        ],
        [
         "DIESEL S10",
         "TOTALENERGIES",
         "5.87",
         "5.62",
         "6.28"
        ],
        [
         "DIESEL",
         "WALENDOWSKY",
         "6.20",
         "6.20",
         "6.20"
        ],
        [
         "GNV",
         "ON PETRO",
         "4.99",
         "4.99",
         "4.99"
        ]
       ],
       "datasetInfos": [],
       "dbfsResultPath": null,
       "isJsonSchema": true,
       "metadata": {
        "dataframeName": "_sqldf",
        "executionCount": 3
       },
       "overflow": false,
       "plotOptions": {
        "customPlotOptions": {},
        "displayType": "table",
        "pivotAggregation": null,
        "pivotColumns": null,
        "xColumns": null,
        "yColumns": null
       },
       "removedWidgets": [],
       "schema": [
        {
         "metadata": "{}",
         "name": "Produto",
         "type": "\"string\""
        },
        {
         "metadata": "{}",
         "name": "Bandeira",
         "type": "\"string\""
        },
        {
         "metadata": "{}",
         "name": "Preco_Medio",
         "type": "\"decimal(4,2)\""
        },
        {
         "metadata": "{}",
         "name": "Menor_Preco",
         "type": "\"decimal(3,2)\""
        },
        {
         "metadata": "{}",
         "name": "Maior_Preco",
         "type": "\"decimal(3,2)\""
        }
       ],
       "type": "table"
      }
     },
     "output_type": "display_data"
    }
   ],
   "source": [
    "%sql\n",
    "SELECT * FROM default.tb_precos_bandeiras"
   ]
  }
 ],
 "metadata": {
  "application/vnd.databricks.v1+notebook": {
   "computePreferences": null,
   "dashboards": [],
   "environmentMetadata": null,
   "language": "python",
   "notebookMetadata": {
    "pythonIndentUnit": 4
   },
   "notebookName": "Exploração das Tabelas",
   "widgets": {}
  }
 },
 "nbformat": 4,
 "nbformat_minor": 0
}
