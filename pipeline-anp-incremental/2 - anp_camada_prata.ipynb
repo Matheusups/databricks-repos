{
 "cells": [
  {
   "cell_type": "markdown",
   "metadata": {
    "application/vnd.databricks.v1+cell": {
     "cellMetadata": {
      "byteLimit": 2048000,
      "rowLimit": 10000
     },
     "inputWidgets": {},
     "nuid": "8e8fb421-69fe-4864-b546-94f43d1e9980",
     "showTitle": false,
     "tableResultSettingsMap": {},
     "title": ""
    }
   },
   "source": [
    "### Definição e Tratamento de Dados\n",
    "Esse projeto será construido levando em consideração o modelo de arquitetura sugerido na seguinte documentação ->\n",
    "[Medallion Schema](https://www.databricks.com/sites/default/files/inline-images/building-data-pipelines-with-delta-lake-120823.png?v=1702318922)\n",
    "\n",
    "Nessa camada executamos a definição e tratamento dos Dados:\n",
    "- Etapa de tratamento dos dados\n",
    "- São feitos tratamentos e transformações nos dados"
   ]
  },
  {
   "cell_type": "code",
   "execution_count": 0,
   "metadata": {
    "application/vnd.databricks.v1+cell": {
     "cellMetadata": {
      "byteLimit": 2048000,
      "rowLimit": 10000
     },
     "inputWidgets": {},
     "nuid": "25324972-4e84-47ab-970b-0e123202da3d",
     "showTitle": false,
     "tableResultSettingsMap": {},
     "title": ""
    }
   },
   "outputs": [],
   "source": [
    "%run ../../Lakehouse/functions/functions"
   ]
  },
  {
   "cell_type": "markdown",
   "metadata": {
    "application/vnd.databricks.v1+cell": {
     "cellMetadata": {
      "byteLimit": 2048000,
      "rowLimit": 10000
     },
     "inputWidgets": {},
     "nuid": "0d8b9e44-e76e-403d-9411-fee69fc5f7dc",
     "showTitle": false,
     "tableResultSettingsMap": {},
     "title": ""
    }
   },
   "source": [
    "#### Variáveis de Path - Landing-Bronze"
   ]
  },
  {
   "cell_type": "markdown",
   "metadata": {
    "application/vnd.databricks.v1+cell": {
     "cellMetadata": {
      "byteLimit": 2048000,
      "rowLimit": 10000
     },
     "inputWidgets": {},
     "nuid": "6a499fec-2000-4ff0-879e-80b57fd9d9fa",
     "showTitle": false,
     "tableResultSettingsMap": {},
     "title": ""
    }
   },
   "source": [
    "##### Diesel e GNV"
   ]
  },
  {
   "cell_type": "code",
   "execution_count": 0,
   "metadata": {
    "application/vnd.databricks.v1+cell": {
     "cellMetadata": {
      "byteLimit": 2048000,
      "rowLimit": 10000
     },
     "inputWidgets": {},
     "nuid": "7b74c23a-6080-4da7-ad35-50e285e58efa",
     "showTitle": false,
     "tableResultSettingsMap": {},
     "title": ""
    }
   },
   "outputs": [],
   "source": [
    "path_bronze_diesel_gnv = '/databricks/bronze/anp/diesel_gnv/'\n",
    "path_silver_diesel_gnv = '/databricks/silver/anp/tb_diesel_gnv/'"
   ]
  },
  {
   "cell_type": "markdown",
   "metadata": {
    "application/vnd.databricks.v1+cell": {
     "cellMetadata": {
      "byteLimit": 2048000,
      "rowLimit": 10000
     },
     "inputWidgets": {},
     "nuid": "044b6d27-e859-43da-9444-eb2e80f78286",
     "showTitle": false,
     "tableResultSettingsMap": {},
     "title": ""
    }
   },
   "source": [
    "##### Etanol e Gasolina"
   ]
  },
  {
   "cell_type": "code",
   "execution_count": 0,
   "metadata": {
    "application/vnd.databricks.v1+cell": {
     "cellMetadata": {
      "byteLimit": 2048000,
      "rowLimit": 10000
     },
     "inputWidgets": {},
     "nuid": "0ce04efc-c49e-4742-b0b5-c2d146495569",
     "showTitle": false,
     "tableResultSettingsMap": {},
     "title": ""
    }
   },
   "outputs": [],
   "source": [
    "path_bronze_etanol_gasol = '/databricks/bronze/anp/etanol_gasolina/'\n",
    "path_silver_etanol_gasol = '/databricks/silver/anp/tb_etanol_gasolina/'"
   ]
  },
  {
   "cell_type": "markdown",
   "metadata": {
    "application/vnd.databricks.v1+cell": {
     "cellMetadata": {
      "byteLimit": 2048000,
      "rowLimit": 10000
     },
     "inputWidgets": {},
     "nuid": "330c9ae6-8fdd-4956-96e4-f66a29369786",
     "showTitle": false,
     "tableResultSettingsMap": {},
     "title": ""
    }
   },
   "source": [
    "##### GLP"
   ]
  },
  {
   "cell_type": "code",
   "execution_count": 0,
   "metadata": {
    "application/vnd.databricks.v1+cell": {
     "cellMetadata": {
      "byteLimit": 2048000,
      "rowLimit": 10000
     },
     "inputWidgets": {},
     "nuid": "10d16edf-2393-464a-9d6d-537d6909c351",
     "showTitle": false,
     "tableResultSettingsMap": {},
     "title": ""
    }
   },
   "outputs": [],
   "source": [
    "path_bronze_glp = '/databricks/bronze/anp/glp/'\n",
    "path_silver_glp = '/databricks/silver/anp/tb_glp/'"
   ]
  },
  {
   "cell_type": "markdown",
   "metadata": {
    "application/vnd.databricks.v1+cell": {
     "cellMetadata": {
      "byteLimit": 2048000,
      "rowLimit": 10000
     },
     "inputWidgets": {},
     "nuid": "adf8302f-a9a2-49dc-8836-0f86b4634351",
     "showTitle": false,
     "tableResultSettingsMap": {},
     "title": ""
    }
   },
   "source": [
    "#### Leitura - Tabela Diesel GNV - Camada Bronze-Prata\n",
    "- Leitura em delta\n",
    "- Definição de Schema"
   ]
  },
  {
   "cell_type": "markdown",
   "metadata": {
    "application/vnd.databricks.v1+cell": {
     "cellMetadata": {
      "byteLimit": 2048000,
      "rowLimit": 10000
     },
     "inputWidgets": {},
     "nuid": "71bce7d0-0355-4916-8c35-f79b47010732",
     "showTitle": false,
     "tableResultSettingsMap": {},
     "title": ""
    }
   },
   "source": [
    "##### Leitura dos Dados"
   ]
  },
  {
   "cell_type": "code",
   "execution_count": 0,
   "metadata": {
    "application/vnd.databricks.v1+cell": {
     "cellMetadata": {
      "byteLimit": 2048000,
      "rowLimit": 10000
     },
     "inputWidgets": {},
     "nuid": "10c23441-4814-4438-9442-fa2b9f918652",
     "showTitle": false,
     "tableResultSettingsMap": {},
     "title": ""
    }
   },
   "outputs": [],
   "source": [
    "df_diesel_gnv = spark.read.format('delta')\\\n",
    "    .load(path_bronze_diesel_gnv)\\\n",
    "  .where('dt_carga = current_date()')"
   ]
  },
  {
   "cell_type": "markdown",
   "metadata": {
    "application/vnd.databricks.v1+cell": {
     "cellMetadata": {
      "byteLimit": 2048000,
      "rowLimit": 10000
     },
     "inputWidgets": {},
     "nuid": "1be271d8-de14-40bf-b5ca-2a5eaa2e36ca",
     "showTitle": false,
     "tableResultSettingsMap": {},
     "title": ""
    }
   },
   "source": [
    "##### Transformação das colunas\n",
    "- Exploração e identificação das inconsistências de dados\n",
    "- Os dados da bronze chegam sem definição ou sem padrão, então é necessário trata-los e tipa-los."
   ]
  },
  {
   "cell_type": "markdown",
   "metadata": {
    "application/vnd.databricks.v1+cell": {
     "cellMetadata": {
      "byteLimit": 2048000,
      "rowLimit": 10000
     },
     "inputWidgets": {},
     "nuid": "9dbd9944-560b-4e3e-b669-2384e8930855",
     "showTitle": false,
     "tableResultSettingsMap": {},
     "title": ""
    }
   },
   "source": [
    "##### Case Fictício - Tratamentos\n",
    "- Precisamos que o campo de **nome da Região** seja criado, porém não temos nenhuma base de dimensão para utilizar e fazer esse De-para. Iremos aplicar manualmente conforme os dados.\n",
    "- O campo de valor de compra não foi povoado, portanto, devemos definir pelo menos zero para poder atribuir um tipo de dado aquele campo.\n",
    "- Colunas de datas não aceitarão serem definidas como data pois o formato default do ambiente que estamos usando é **yyyy-MM-dd**\n",
    "- Tratar colunas de valores para definir como **decimal(3,2)**\n",
    "- Demais campos não precisarão de outras definições visto que eles são de fato string"
   ]
  },
  {
   "cell_type": "code",
   "execution_count": 0,
   "metadata": {
    "application/vnd.databricks.v1+cell": {
     "cellMetadata": {
      "byteLimit": 2048000,
      "rowLimit": 10000
     },
     "inputWidgets": {},
     "nuid": "0ab06f6d-cf5f-4ae9-af91-128a22066530",
     "showTitle": false,
     "tableResultSettingsMap": {},
     "title": ""
    }
   },
   "outputs": [],
   "source": [
    "df_dsl_gnv_tratado = (\n",
    "            df_diesel_gnv\\\n",
    "                        #---> Criação da nova coluna de região\n",
    "                        .withColumn('Regiao_Nome', \n",
    "                                    when(col('Regiao_Sigla')=='SE','Sudeste')\n",
    "                                    .when(col('Regiao_Sigla')=='NE','Nordeste')\n",
    "                                    .when(col('Regiao_Sigla')=='N','Norte')\n",
    "                                    .when(col('Regiao_Sigla')=='S','Sul')\n",
    "                                    .when(col('Regiao_Sigla')=='CO','Centro-Oeste')\n",
    "                                    )\\\n",
    "                        \n",
    "                        #---> Casting da coluna de data\n",
    "                        .withColumn('Data_da_Coleta',\n",
    "                                    to_date(col('Data_da_Coleta'),'dd/MM/yyyy')\n",
    "                                    )\\\n",
    "\n",
    "                        #---> Casting do campo númerico\n",
    "\n",
    "                        # Preenchimento de coluna nula e definição do DataType\n",
    "                        .withColumn('Valor_de_Compra',\n",
    "                                    when(col('Valor_de_Compra').isNull(),0).cast('decimal(3,2)')\n",
    "                                    )\\\n",
    "\n",
    "                        # Campo de Venda e DataType\n",
    "                        .withColumn('Valor_de_Venda',\n",
    "                                    regexp_replace(col('Valor_de_Venda'),'[,]','.').cast('decimal(3,2)')\n",
    "                                    )\n",
    "\n",
    ")\n"
   ]
  },
  {
   "cell_type": "code",
   "execution_count": 0,
   "metadata": {
    "application/vnd.databricks.v1+cell": {
     "cellMetadata": {
      "byteLimit": 2048000,
      "rowLimit": 10000
     },
     "inputWidgets": {},
     "nuid": "959d2517-9960-4c0c-8e51-11972e797c0b",
     "showTitle": false,
     "tableResultSettingsMap": {},
     "title": ""
    }
   },
   "outputs": [
    {
     "output_type": "stream",
     "name": "stdout",
     "output_type": "stream",
     "text": [
      "root\n |-- Regiao_Sigla: string (nullable = true)\n |-- Estado_Sigla: string (nullable = true)\n |-- Municipio: string (nullable = true)\n |-- Revenda: string (nullable = true)\n |-- CNPJ_da_Revenda: string (nullable = true)\n |-- Nome_da_Rua: string (nullable = true)\n |-- Numero_Rua: string (nullable = true)\n |-- Complemento: string (nullable = true)\n |-- Bairro: string (nullable = true)\n |-- Cep: string (nullable = true)\n |-- Produto: string (nullable = true)\n |-- Data_da_Coleta: date (nullable = true)\n |-- Valor_de_Venda: decimal(3,2) (nullable = true)\n |-- Valor_de_Compra: decimal(3,2) (nullable = true)\n |-- Unidade_de_Medida: string (nullable = true)\n |-- Bandeira: string (nullable = true)\n |-- Regiao_Nome: string (nullable = true)\n\n"
     ]
    }
   ],
   "source": [
    "df_dsl_gnv_tratado.printSchema()"
   ]
  },
  {
   "cell_type": "markdown",
   "metadata": {
    "application/vnd.databricks.v1+cell": {
     "cellMetadata": {
      "byteLimit": 2048000,
      "rowLimit": 10000
     },
     "inputWidgets": {},
     "nuid": "2f7995e5-49be-414e-8d55-a4f7164c5fc2",
     "showTitle": false,
     "tableResultSettingsMap": {},
     "title": ""
    }
   },
   "source": [
    "##### Delete dos Dados - Silver "
   ]
  },
  {
   "cell_type": "code",
   "execution_count": 0,
   "metadata": {
    "application/vnd.databricks.v1+cell": {
     "cellMetadata": {
      "byteLimit": 2048000,
      "rowLimit": 10000
     },
     "inputWidgets": {},
     "nuid": "91d922a7-2331-4327-8bc5-d61a012f2a54",
     "showTitle": false,
     "tableResultSettingsMap": {},
     "title": ""
    }
   },
   "outputs": [],
   "source": [
    "# Leitura da Delta Table\n",
    "df_dsl_gnv_tratado = deltaTable.forPath(spark, path_silver_diesel_gnv)\n",
    "\n",
    "# Merge visando deletar os dados que serão reprocessados\n",
    "df_dsl_gnv_tratado.alias(\"silver\") \\\n",
    "    .merge(\n",
    "        df_dsl_gnv_tratado.alias(\"bronze\"),\n",
    "        \"\"\"\n",
    "        silver.CNPJ_da_Revenda = bronze.CNPJ_da_Revenda\n",
    "        AND silver.Data_da_Coleta = bronze.Data_da_Coleta\n",
    "        AND silver.Cep = bronze.Cep\n",
    "        \"\"\"\n",
    "    ) \\\n",
    "    .whenMatchedDelete() \\\n",
    "    .execute()\n",
    "\n",
    "# Merge visando inserir os registros que estão vindo na bronze\n",
    "df_dsl_gnv_tratado.alias(\"silver\") \\\n",
    "    .merge(\n",
    "        df_dsl_gnv_tratado.alias(\"bronze\"),\n",
    "        \"\"\"\n",
    "        silver.CNPJ_da_Revenda = bronze.CNPJ_da_Revenda\n",
    "        AND silver.Data_da_Coleta = bronze.Data_da_Coleta\n",
    "        AND silver.Cep = bronze.Cep\n",
    "        \"\"\"\n",
    "    ) \\\n",
    "    .whenNotMatchedInsertAll() \\\n",
    "    .execute()\n",
    "\n",
    "    # OBS é possível colocar ambas operações de delete e insert no mesmo merge(operação) porém, não inclui por opção própria."
   ]
  },
  {
   "cell_type": "markdown",
   "metadata": {
    "application/vnd.databricks.v1+cell": {
     "cellMetadata": {
      "byteLimit": 2048000,
      "rowLimit": 10000
     },
     "inputWidgets": {},
     "nuid": "185794cc-385a-4264-8339-0e3c310bacb0",
     "showTitle": false,
     "tableResultSettingsMap": {},
     "title": ""
    }
   },
   "source": [
    "##### Materialização da tabela no SQL Warehouse "
   ]
  },
  {
   "cell_type": "code",
   "execution_count": 0,
   "metadata": {
    "application/vnd.databricks.v1+cell": {
     "cellMetadata": {
      "byteLimit": 2048000,
      "implicitDf": true,
      "rowLimit": 10000
     },
     "inputWidgets": {},
     "nuid": "738797d6-5d1d-48bd-b0a1-2ff93d02e229",
     "showTitle": false,
     "tableResultSettingsMap": {},
     "title": ""
    }
   },
   "outputs": [
    {
     "output_type": "display_data",
     "data": {
      "text/html": [
       "<style scoped>\n",
       "  .table-result-container {\n",
       "    max-height: 300px;\n",
       "    overflow: auto;\n",
       "  }\n",
       "  table, th, td {\n",
       "    border: 1px solid black;\n",
       "    border-collapse: collapse;\n",
       "  }\n",
       "  th, td {\n",
       "    padding: 5px;\n",
       "  }\n",
       "  th {\n",
       "    text-align: left;\n",
       "  }\n",
       "</style><div class='table-result-container'><table class='table-result'><thead style='background-color: white'><tr></tr></thead><tbody></tbody></table></div>"
      ]
     },
     "metadata": {
      "application/vnd.databricks.v1+output": {
       "addedWidgets": {},
       "aggData": [],
       "aggError": "",
       "aggOverflow": false,
       "aggSchema": [],
       "aggSeriesLimitReached": false,
       "aggType": "",
       "arguments": {},
       "columnCustomDisplayInfos": {},
       "data": [],
       "datasetInfos": [],
       "dbfsResultPath": null,
       "isJsonSchema": true,
       "metadata": {
        "dataframeName": null
       },
       "overflow": false,
       "plotOptions": {
        "customPlotOptions": {},
        "displayType": "table",
        "pivotAggregation": null,
        "pivotColumns": null,
        "xColumns": null,
        "yColumns": null
       },
       "removedWidgets": [],
       "schema": [],
       "type": "table"
      }
     },
     "output_type": "display_data"
    }
   ],
   "source": [
    "%sql\n",
    "CREATE TABLE default.tb_price_diesel_gnv\n",
    "USING delta LOCATION '/databricks/silver/anp/tb_diesel_gnv/'"
   ]
  },
  {
   "cell_type": "markdown",
   "metadata": {
    "application/vnd.databricks.v1+cell": {
     "cellMetadata": {
      "byteLimit": 2048000,
      "rowLimit": 10000
     },
     "inputWidgets": {},
     "nuid": "1175b3f7-cb83-4b0a-a9f0-007272bebf60",
     "showTitle": false,
     "tableResultSettingsMap": {},
     "title": ""
    }
   },
   "source": [
    "#### Leitura - Tabela Etanol e Gasolina - Camada Bronze-Prata\n",
    "- Leitura em delta\n",
    "- Definição de Schema"
   ]
  },
  {
   "cell_type": "markdown",
   "metadata": {
    "application/vnd.databricks.v1+cell": {
     "cellMetadata": {
      "byteLimit": 2048000,
      "rowLimit": 10000
     },
     "inputWidgets": {},
     "nuid": "368f5392-14c6-4fd4-a16e-96064a5f3875",
     "showTitle": false,
     "tableResultSettingsMap": {},
     "title": ""
    }
   },
   "source": [
    "##### Leitura dos Dados"
   ]
  },
  {
   "cell_type": "code",
   "execution_count": 0,
   "metadata": {
    "application/vnd.databricks.v1+cell": {
     "cellMetadata": {
      "byteLimit": 2048000,
      "rowLimit": 10000
     },
     "inputWidgets": {},
     "nuid": "a656ced9-e230-4c83-8226-bc3fd89a8e0c",
     "showTitle": false,
     "tableResultSettingsMap": {},
     "title": ""
    }
   },
   "outputs": [],
   "source": [
    "df_etanol_gasol = spark.read.format('delta')\\\n",
    "    .load(path_bronze_etanol_gasol)\\\n",
    "  .where('dt_carga = current_date()')"
   ]
  },
  {
   "cell_type": "markdown",
   "metadata": {
    "application/vnd.databricks.v1+cell": {
     "cellMetadata": {
      "byteLimit": 2048000,
      "rowLimit": 10000
     },
     "inputWidgets": {},
     "nuid": "ac3f6619-ad17-4b68-bdba-1e53a63a4189",
     "showTitle": false,
     "tableResultSettingsMap": {},
     "title": ""
    }
   },
   "source": [
    "##### Transformação das colunas"
   ]
  },
  {
   "cell_type": "code",
   "execution_count": 0,
   "metadata": {
    "application/vnd.databricks.v1+cell": {
     "cellMetadata": {
      "byteLimit": 2048000,
      "rowLimit": 10000
     },
     "inputWidgets": {},
     "nuid": "3d136c0b-e6fb-4cac-a079-11804ae693f9",
     "showTitle": false,
     "tableResultSettingsMap": {},
     "title": ""
    }
   },
   "outputs": [],
   "source": [
    "df_etanol_gasol_tratada = (\n",
    "    df_etanol_gasol\\\n",
    "                        #---> Criação da nova coluna de região\n",
    "                        .withColumn('Regiao_Nome', \n",
    "                                    when(col('Regiao_Sigla')=='SE','Sudeste')\n",
    "                                    .when(col('Regiao_Sigla')=='NE','Nordeste')\n",
    "                                    .when(col('Regiao_Sigla')=='N','Norte')\n",
    "                                    .when(col('Regiao_Sigla')=='S','Sul')\n",
    "                                    .when(col('Regiao_Sigla')=='CO','Centro-Oeste')\n",
    "                                    )\\\n",
    "                        \n",
    "                        #---> Casting da coluna de data\n",
    "                        .withColumn('Data_da_Coleta',\n",
    "                                    to_date(col('Data_da_Coleta'),'dd/MM/yyyy')\n",
    "                                    )\\\n",
    "\n",
    "                        #---> Casting do campo númerico\n",
    "\n",
    "                        # Preenchimento de coluna nula e definição do DataType\n",
    "                        .withColumn('Valor_de_Compra',\n",
    "                                    when(col('Valor_de_Compra').isNull(),0).cast('decimal(3,2)')\n",
    "                                    )\\\n",
    "\n",
    "                        # Campo de Venda e DataType\n",
    "                        .withColumn('Valor_de_Venda',\n",
    "                                    regexp_replace(col('Valor_de_Venda'),'[,]','.').cast('decimal(3,2)')\n",
    "                                    )\n",
    ")"
   ]
  },
  {
   "cell_type": "markdown",
   "metadata": {
    "application/vnd.databricks.v1+cell": {
     "cellMetadata": {
      "byteLimit": 2048000,
      "rowLimit": 10000
     },
     "inputWidgets": {},
     "nuid": "e95688a0-e197-461c-9366-ccd8a9b807d5",
     "showTitle": false,
     "tableResultSettingsMap": {},
     "title": ""
    }
   },
   "source": [
    "##### Delete dos Dados - Silver "
   ]
  },
  {
   "cell_type": "code",
   "execution_count": 0,
   "metadata": {
    "application/vnd.databricks.v1+cell": {
     "cellMetadata": {
      "byteLimit": 2048000,
      "rowLimit": 10000
     },
     "inputWidgets": {},
     "nuid": "7abbe469-e77d-41a7-9800-b4478df44199",
     "showTitle": false,
     "tableResultSettingsMap": {},
     "title": ""
    }
   },
   "outputs": [],
   "source": [
    "# Leitura da Delta Table\n",
    "etanol_gasol_silver = deltaTable.forPath(spark, path_silver_etanol_gasol)\n",
    "\n",
    "# Merge visando deletar os dados que serão reprocessados\n",
    "etanol_gasol_silver.alias(\"silver\") \\\n",
    "    .merge(\n",
    "        df_etanol_gasol_tratada.alias(\"bronze\"),\n",
    "        \"\"\"silver.CNPJ_da_Revenda = bronze.CNPJ_da_Revenda\n",
    "        AND silver.Data_da_Coleta = bronze.Data_da_Coleta\n",
    "        AND silver.Cep = bronze.Cep\"\"\"\n",
    "    ) \\\n",
    "    .whenMatchedDelete() \\\n",
    "    .execute()\n",
    "\n",
    "# Merge visando inserir os registros que estão vindo na bronze\n",
    "etanol_gasol_silver.alias(\"silver\") \\\n",
    "    .merge(\n",
    "        df_etanol_gasol_tratada.alias(\"bronze\"),\n",
    "        \"\"\"silver.CNPJ_da_Revenda = bronze.CNPJ_da_Revenda\n",
    "        AND silver.Data_da_Coleta = bronze.Data_da_Coleta\n",
    "        AND silver.Cep = bronze.Cep\"\"\"\n",
    "    ) \\\n",
    "    .whenNotMatchedInsertAll() \\\n",
    "    .execute()"
   ]
  },
  {
   "cell_type": "markdown",
   "metadata": {
    "application/vnd.databricks.v1+cell": {
     "cellMetadata": {
      "byteLimit": 2048000,
      "rowLimit": 10000
     },
     "inputWidgets": {},
     "nuid": "cfb958aa-1474-4752-bcee-ef2f28ee44e1",
     "showTitle": false,
     "tableResultSettingsMap": {},
     "title": ""
    }
   },
   "source": [
    "#### Leitura - Tabela Etanol e Gasolina - Camada Bronze-Prata\n",
    "- Leitura em delta\n",
    "- Definição de Schema"
   ]
  },
  {
   "cell_type": "markdown",
   "metadata": {
    "application/vnd.databricks.v1+cell": {
     "cellMetadata": {
      "byteLimit": 2048000,
      "rowLimit": 10000
     },
     "inputWidgets": {},
     "nuid": "66b59272-beb2-4831-9e8d-ada732d16da7",
     "showTitle": false,
     "tableResultSettingsMap": {},
     "title": ""
    }
   },
   "source": [
    "##### Leitura dos Dados"
   ]
  },
  {
   "cell_type": "code",
   "execution_count": 0,
   "metadata": {
    "application/vnd.databricks.v1+cell": {
     "cellMetadata": {
      "byteLimit": 2048000,
      "rowLimit": 10000
     },
     "inputWidgets": {},
     "nuid": "b4014da3-699f-42f6-aa1b-e054d78b8980",
     "showTitle": false,
     "tableResultSettingsMap": {},
     "title": ""
    }
   },
   "outputs": [],
   "source": [
    "df_glp = spark.read.format('delta')\\\n",
    "    .load(path_bronze_glp)\\\n",
    "  .where('dt_carga = current_date()')\n"
   ]
  },
  {
   "cell_type": "markdown",
   "metadata": {
    "application/vnd.databricks.v1+cell": {
     "cellMetadata": {
      "byteLimit": 2048000,
      "rowLimit": 10000
     },
     "inputWidgets": {},
     "nuid": "3d395415-814a-460f-8534-da0b8565734f",
     "showTitle": false,
     "tableResultSettingsMap": {},
     "title": ""
    }
   },
   "source": [
    "##### Transformação das colunas"
   ]
  },
  {
   "cell_type": "code",
   "execution_count": 0,
   "metadata": {
    "application/vnd.databricks.v1+cell": {
     "cellMetadata": {
      "byteLimit": 2048000,
      "rowLimit": 10000
     },
     "inputWidgets": {},
     "nuid": "a651ff2a-9d28-4af9-b6f0-407f3baa4a8e",
     "showTitle": false,
     "tableResultSettingsMap": {},
     "title": ""
    }
   },
   "outputs": [],
   "source": [
    "df_glp_tratada = (\n",
    "    df_glp\\\n",
    "                        #---> Criação da nova coluna de região\n",
    "                        .withColumn('Regiao_Nome', \n",
    "                                    when(col('Regiao_Sigla')=='SE','Sudeste')\n",
    "                                    .when(col('Regiao_Sigla')=='NE','Nordeste')\n",
    "                                    .when(col('Regiao_Sigla')=='N','Norte')\n",
    "                                    .when(col('Regiao_Sigla')=='S','Sul')\n",
    "                                    .when(col('Regiao_Sigla')=='CO','Centro-Oeste')\n",
    "                                    )\\\n",
    "                        \n",
    "                        #---> Casting da coluna de data\n",
    "                        .withColumn('Data_da_Coleta',\n",
    "                                    to_date(col('Data_da_Coleta'),'dd/MM/yyyy')\n",
    "                                    )\\\n",
    "\n",
    "                        #---> Casting do campo númerico\n",
    "\n",
    "                        # Preenchimento de coluna nula e definição do DataType\n",
    "                        .withColumn('Valor_de_Compra',\n",
    "                                    when(col('Valor_de_Compra').isNull(),0).cast('decimal(3,2)')\n",
    "                                    )\\\n",
    "\n",
    "                        # Campo de Venda e DataType\n",
    "                        .withColumn('Valor_de_Venda',\n",
    "                                    regexp_replace(col('Valor_de_Venda'),'[,]','.').cast('decimal(3,2)')\n",
    "                                    )\n",
    ")"
   ]
  },
  {
   "cell_type": "markdown",
   "metadata": {
    "application/vnd.databricks.v1+cell": {
     "cellMetadata": {},
     "inputWidgets": {},
     "nuid": "6135df86-d83d-4f26-8de0-def417e417e9",
     "showTitle": false,
     "tableResultSettingsMap": {},
     "title": ""
    }
   },
   "source": [
    "#### Deleta dados do periodo de reprocessamento"
   ]
  },
  {
   "cell_type": "markdown",
   "metadata": {
    "application/vnd.databricks.v1+cell": {
     "cellMetadata": {},
     "inputWidgets": {},
     "nuid": "2a4e2612-cb5b-4890-8197-be7e572b21d8",
     "showTitle": false,
     "tableResultSettingsMap": {},
     "title": ""
    }
   },
   "source": [
    "**Deleta todos os registros da Tabela-alvo que foram carregados na Bronze:**\n",
    "\n",
    "**Chaves de Delete**\n",
    "  - CNPJ_da_Revenda\n",
    "  - Data_da_Coleta\n",
    "  - Cep"
   ]
  },
  {
   "cell_type": "code",
   "execution_count": 0,
   "metadata": {
    "application/vnd.databricks.v1+cell": {
     "cellMetadata": {},
     "inputWidgets": {},
     "nuid": "2eaab368-49b0-4fa3-aa26-cfee9f71bf6a",
     "showTitle": false,
     "tableResultSettingsMap": {},
     "title": ""
    }
   },
   "outputs": [],
   "source": [
    "glp_silver = deltaTable.forPath(spark, path_silver_glp)\n",
    "\n",
    "glp_silver.alias(\"silver\") \\\n",
    "    .merge(\n",
    "        df_glp_tratada.alias(\"bronze\"),\n",
    "        \"\"\"silver.CNPJ_da_Revenda = bronze.CNPJ_da_Revenda\n",
    "        AND silver.Data_da_Coleta = bronze.Data_da_Coleta\n",
    "        AND silver.Cep = bronze.Cep\"\"\"\n",
    "    ) \\\n",
    "    .whenMatchedDelete() \\\n",
    "    .execute()"
   ]
  },
  {
   "cell_type": "markdown",
   "metadata": {
    "application/vnd.databricks.v1+cell": {
     "cellMetadata": {},
     "inputWidgets": {},
     "nuid": "9cd0fbae-5c06-4826-9ec9-2a2d1affd1eb",
     "showTitle": false,
     "tableResultSettingsMap": {},
     "title": ""
    }
   },
   "source": [
    "#### Insere na Tabela os Registros Reprocessados"
   ]
  },
  {
   "cell_type": "code",
   "execution_count": 0,
   "metadata": {
    "application/vnd.databricks.v1+cell": {
     "cellMetadata": {},
     "inputWidgets": {},
     "nuid": "85b5767a-3b7f-4f27-9645-b2932ac32003",
     "showTitle": false,
     "tableResultSettingsMap": {},
     "title": ""
    }
   },
   "outputs": [],
   "source": [
    "glp_silver.alias(\"silver\") \\\n",
    "    .merge(\n",
    "        df_glp_tratada.alias(\"bronze\"),\n",
    "        \"\"\"silver.CNPJ_da_Revenda = bronze.CNPJ_da_Revenda\n",
    "        AND silver.Data_da_Coleta = bronze.Data_da_Coleta\n",
    "        AND silver.Cep = bronze.Cep\"\"\"\n",
    "    ) \\\n",
    "    .whenNotMatchedInsertAll() \\\n",
    "    .execute()"
   ]
  }
 ],
 "metadata": {
  "application/vnd.databricks.v1+notebook": {
   "computePreferences": null,
   "dashboards": [
    {
     "elements": [],
     "globalVars": {},
     "guid": "",
     "layoutOption": {
      "grid": true,
      "stack": true
     },
     "nuid": "ac09008d-a0d6-44fa-8373-e06f07c68d0a",
     "origId": 899533423402655,
     "title": "Untitled",
     "version": "DashboardViewV1",
     "width": 1920
    }
   ],
   "environmentMetadata": null,
   "language": "python",
   "notebookMetadata": {
    "mostRecentlyExecutedCommandWithImplicitDF": {
     "commandId": 3144225887250602,
     "dataframes": [
      "_sqldf"
     ]
    },
    "pythonIndentUnit": 4
   },
   "notebookName": "2 - anp_camada_prata",
   "widgets": {}
  }
 },
 "nbformat": 4,
 "nbformat_minor": 0
}
