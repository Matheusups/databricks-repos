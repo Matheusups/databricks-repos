{
 "cells": [
  {
   "cell_type": "markdown",
   "metadata": {
    "application/vnd.databricks.v1+cell": {
     "cellMetadata": {},
     "inputWidgets": {},
     "nuid": "8e8fb421-69fe-4864-b546-94f43d1e9980",
     "showTitle": false,
     "tableResultSettingsMap": {},
     "title": ""
    }
   },
   "source": [
    "### Modelagem e Refinamento de Regra de Negócio\n",
    "Esse projeto será construido levando em consideração o modelo de arquitetura sugerido na seguinte documentação ->\n",
    "[Medallion Schema](https://www.databricks.com/sites/default/files/inline-images/building-data-pipelines-with-delta-lake-120823.png?v=1702318922)\n",
    "\n",
    "Nessa camada executamos:\n",
    "- Construção de entidades relacionadas\n",
    "- Agregações e Construção de Indicadores\n",
    "- Disponibilização de tabelas refinadas para o BI (Área de Negócio)"
   ]
  },
  {
   "cell_type": "code",
   "execution_count": 0,
   "metadata": {
    "application/vnd.databricks.v1+cell": {
     "cellMetadata": {
      "byteLimit": 2048000,
      "rowLimit": 10000
     },
     "inputWidgets": {},
     "nuid": "25324972-4e84-47ab-970b-0e123202da3d",
     "showTitle": false,
     "tableResultSettingsMap": {},
     "title": ""
    }
   },
   "outputs": [],
   "source": [
    "%run ../../Lakehouse/functions/functions"
   ]
  },
  {
   "cell_type": "markdown",
   "metadata": {
    "application/vnd.databricks.v1+cell": {
     "cellMetadata": {},
     "inputWidgets": {},
     "nuid": "0d8b9e44-e76e-403d-9411-fee69fc5f7dc",
     "showTitle": false,
     "tableResultSettingsMap": {},
     "title": ""
    }
   },
   "source": [
    "#### Variáveis de Path - Camada Tratada Prata"
   ]
  },
  {
   "cell_type": "code",
   "execution_count": 0,
   "metadata": {
    "application/vnd.databricks.v1+cell": {
     "cellMetadata": {
      "byteLimit": 2048000,
      "rowLimit": 10000
     },
     "inputWidgets": {},
     "nuid": "7b74c23a-6080-4da7-ad35-50e285e58efa",
     "showTitle": false,
     "tableResultSettingsMap": {},
     "title": ""
    }
   },
   "outputs": [],
   "source": [
    "\n",
    "path_silver_diesel_gnv = '/databricks/silver/anp/tb_diesel_gnv/'\n",
    "path_silver_etanol_gasol = '/databricks/silver/anp/tb_etanol_gasolina/'\n",
    "path_silver_glp = '/databricks/silver/anp/tb_glp/'"
   ]
  },
  {
   "cell_type": "markdown",
   "metadata": {
    "application/vnd.databricks.v1+cell": {
     "cellMetadata": {},
     "inputWidgets": {},
     "nuid": "b27a1bab-42ae-4078-abe0-052a663d0e7c",
     "showTitle": false,
     "tableResultSettingsMap": {},
     "title": ""
    }
   },
   "source": [
    "#### Case de BI \n",
    "O cliente gostaria de ter algumas informações já agregadas/consolidadas acerca de preços praticados nesse semestre e te passou uma lista dos indicadores que ele precisa avaliar para chegar a esse resultado:\n",
    "\n",
    "- **Preço Médio, Minimo e Máximo práticados na Região**\n",
    "- **Preço Médio, Minimo e Máximo por Bandeira**\n",
    "- **Total de Clientes (CPNJs) por Bairro/Municipio e seus tickets médios**"
   ]
  },
  {
   "cell_type": "code",
   "execution_count": 0,
   "metadata": {
    "application/vnd.databricks.v1+cell": {
     "cellMetadata": {
      "byteLimit": 2048000,
      "rowLimit": 10000
     },
     "inputWidgets": {},
     "nuid": "06a29ae0-4abc-4fdd-bba5-e5f5ef5f595c",
     "showTitle": false,
     "tableResultSettingsMap": {},
     "title": ""
    }
   },
   "outputs": [],
   "source": [
    "# Leitura dos dados a partir de seus paths\n",
    "df_diesel_gnv = spark.read.format('delta').load(path_silver_diesel_gnv)\n",
    "df_etanol_gasol = spark.read.format('delta').load(path_silver_etanol_gasol)\n",
    "df_glp = spark.read.format('delta').load(path_silver_glp)\n",
    "\n",
    "# Unificação dos dados carregados\n",
    "df_geral = df_diesel_gnv.unionByName(df_etanol_gasol)\\\n",
    "                        .unionByName(df_glp)"
   ]
  },
  {
   "cell_type": "markdown",
   "metadata": {
    "application/vnd.databricks.v1+cell": {
     "cellMetadata": {},
     "inputWidgets": {},
     "nuid": "2eb18974-21b4-4160-9d00-9f5d7357db0d",
     "showTitle": false,
     "tableResultSettingsMap": {},
     "title": ""
    }
   },
   "source": [
    "\n",
    "### Agregação dos Indicadores\n",
    "\n",
    "- Região \n",
    "- Unidade de Médida do Combustível\n",
    "- Produto"
   ]
  },
  {
   "cell_type": "code",
   "execution_count": 0,
   "metadata": {
    "application/vnd.databricks.v1+cell": {
     "cellMetadata": {
      "byteLimit": 2048000,
      "rowLimit": 10000
     },
     "inputWidgets": {},
     "nuid": "b5f1920e-65e0-4d10-8cde-8bf28dfabac9",
     "showTitle": false,
     "tableResultSettingsMap": {},
     "title": ""
    }
   },
   "outputs": [],
   "source": [
    "df_matriz_precos_praticados = df_geral.groupby(\n",
    "        'Produto',\n",
    "        'Unidade_de_Medida',\n",
    "        'Regiao_Nome'\n",
    "    )\\\n",
    "    .agg(\n",
    "        round(avg(col('Valor_de_Venda')),2).alias('Preco_Medio'),\n",
    "        min(col('Valor_de_Venda')).alias('Menor_Preco'),\n",
    "        max(col('Valor_de_Venda')).alias('Maior_Preco')\n",
    "    )"
   ]
  },
  {
   "cell_type": "markdown",
   "metadata": {
    "application/vnd.databricks.v1+cell": {
     "cellMetadata": {},
     "inputWidgets": {},
     "nuid": "70780f1f-9a0a-4207-9cd8-cbb7f52c6b1a",
     "showTitle": false,
     "tableResultSettingsMap": {},
     "title": ""
    }
   },
   "source": [
    "#### Gravação da Tabela Preços Regionais"
   ]
  },
  {
   "cell_type": "code",
   "execution_count": 0,
   "metadata": {
    "application/vnd.databricks.v1+cell": {
     "cellMetadata": {
      "byteLimit": 2048000,
      "rowLimit": 10000
     },
     "inputWidgets": {},
     "nuid": "6a129eba-1489-464a-a6b1-2d01b0350c61",
     "showTitle": false,
     "tableResultSettingsMap": {},
     "title": ""
    }
   },
   "outputs": [],
   "source": [
    "df_matriz_precos_praticados\\\n",
    "    .write.format('delta')\\\n",
    "    .mode('overwrite')\\\n",
    "    .saveAsTable('default.tb_precos_regiao_produto')"
   ]
  },
  {
   "cell_type": "markdown",
   "metadata": {
    "application/vnd.databricks.v1+cell": {
     "cellMetadata": {},
     "inputWidgets": {},
     "nuid": "dbaa9e31-57c4-4c55-aa7d-07b0c4d05ca4",
     "showTitle": false,
     "tableResultSettingsMap": {},
     "title": ""
    }
   },
   "source": [
    "\n",
    "### Preços por Bandeira de Posto"
   ]
  },
  {
   "cell_type": "code",
   "execution_count": 0,
   "metadata": {
    "application/vnd.databricks.v1+cell": {
     "cellMetadata": {
      "byteLimit": 2048000,
      "rowLimit": 10000
     },
     "inputWidgets": {},
     "nuid": "6e5ea530-0c71-4e70-a06c-f3d4eb6ee9c1",
     "showTitle": false,
     "tableResultSettingsMap": {},
     "title": ""
    }
   },
   "outputs": [],
   "source": [
    "df_matriz_precos_bandeira = df_geral.groupby(\n",
    "        'Produto',\n",
    "        'Bandeira'\n",
    "    )\\\n",
    "    .agg(\n",
    "        round(avg(col('Valor_de_Venda')),2).alias('Preco_Medio'),\n",
    "        min(col('Valor_de_Venda')).alias('Menor_Preco'),\n",
    "        max(col('Valor_de_Venda')).alias('Maior_Preco')\n",
    "    )"
   ]
  },
  {
   "cell_type": "markdown",
   "metadata": {
    "application/vnd.databricks.v1+cell": {
     "cellMetadata": {},
     "inputWidgets": {},
     "nuid": "c268655e-e73b-4c87-bf75-a8cc134c9e65",
     "showTitle": false,
     "tableResultSettingsMap": {},
     "title": ""
    }
   },
   "source": [
    "#### Gravação da Tabela Preços Regionais"
   ]
  },
  {
   "cell_type": "code",
   "execution_count": 0,
   "metadata": {
    "application/vnd.databricks.v1+cell": {
     "cellMetadata": {
      "byteLimit": 2048000,
      "rowLimit": 10000
     },
     "inputWidgets": {},
     "nuid": "86377a0d-d096-4acc-b863-5a31205fbed4",
     "showTitle": false,
     "tableResultSettingsMap": {},
     "title": ""
    }
   },
   "outputs": [],
   "source": [
    "df_matriz_precos_bandeira\\\n",
    "    .write.format('delta')\\\n",
    "    .mode('overwrite')\\\n",
    "    .saveAsTable('default.tb_precos_bandeiras')"
   ]
  },
  {
   "cell_type": "markdown",
   "metadata": {
    "application/vnd.databricks.v1+cell": {
     "cellMetadata": {},
     "inputWidgets": {},
     "nuid": "1cef1b7e-9bda-41a3-9df2-c22627554ea1",
     "showTitle": false,
     "tableResultSettingsMap": {},
     "title": ""
    }
   },
   "source": [
    "### Quantidade de Clientes por Bairro e Municipio"
   ]
  },
  {
   "cell_type": "code",
   "execution_count": 0,
   "metadata": {
    "application/vnd.databricks.v1+cell": {
     "cellMetadata": {
      "byteLimit": 2048000,
      "rowLimit": 10000
     },
     "inputWidgets": {},
     "nuid": "05f799b7-492c-4500-9c51-03c4db92f7fe",
     "showTitle": false,
     "tableResultSettingsMap": {},
     "title": ""
    }
   },
   "outputs": [],
   "source": [
    "df_clientes = df_geral.groupby(\n",
    "        'Municipio',\n",
    "        'Bairro'\n",
    "    )\\\n",
    "    .agg(\n",
    "        round(avg(col('Valor_de_Venda')),2).alias('Ticket_Medio'),\n",
    "        count_distinct(col('CNPJ_da_Revenda')).alias('Qtd_Clientes_CNPJ')\n",
    "\n",
    "    )\\\n",
    "        .withColumn('Tipo_Cliente', when(col('Qtd_Clientes_CNPJ')>=15,lit('VIP'))\\\n",
    "                                  .when((col('Qtd_Clientes_CNPJ')>=8) & (col('Qtd_Clientes_CNPJ')<15),lit('Premium'))\\\n",
    "                                    .otherwise(lit('Basic'))\n",
    "                                    )"
   ]
  },
  {
   "cell_type": "markdown",
   "metadata": {
    "application/vnd.databricks.v1+cell": {
     "cellMetadata": {},
     "inputWidgets": {},
     "nuid": "dd5d3b64-06e7-470f-a54a-87d4cd1cf1e0",
     "showTitle": false,
     "tableResultSettingsMap": {},
     "title": ""
    }
   },
   "source": [
    "#### Gravação da Tabela de Clientes Relevantes"
   ]
  },
  {
   "cell_type": "code",
   "execution_count": 0,
   "metadata": {
    "application/vnd.databricks.v1+cell": {
     "cellMetadata": {
      "byteLimit": 2048000,
      "rowLimit": 10000
     },
     "inputWidgets": {},
     "nuid": "d18f2fb2-3f0b-46ac-9d36-3ca8cf560d4b",
     "showTitle": false,
     "tableResultSettingsMap": {},
     "title": ""
    }
   },
   "outputs": [],
   "source": [
    "df_clientes\\\n",
    "    .write.format('delta')\\\n",
    "    .mode('overwrite')\\\n",
    "    .saveAsTable('default.tb_clientes_relevantes')"
   ]
  }
 ],
 "metadata": {
  "application/vnd.databricks.v1+notebook": {
   "computePreferences": null,
   "dashboards": [],
   "environmentMetadata": null,
   "language": "python",
   "notebookMetadata": {
    "mostRecentlyExecutedCommandWithImplicitDF": {
     "commandId": 739231914275153,
     "dataframes": [
      "_sqldf"
     ]
    },
    "pythonIndentUnit": 4
   },
   "notebookName": "3 - anp_camada_gold",
   "widgets": {}
  }
 },
 "nbformat": 4,
 "nbformat_minor": 0
}
